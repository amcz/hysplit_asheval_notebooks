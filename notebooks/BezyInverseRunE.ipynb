{
 "cells": [
  {
   "cell_type": "code",
   "execution_count": 1,
   "metadata": {},
   "outputs": [],
   "source": [
    "%load_ext autoreload"
   ]
  },
  {
   "cell_type": "code",
   "execution_count": 2,
   "metadata": {},
   "outputs": [],
   "source": [
    "import os\n",
    "import numpy as np\n",
    "import pandas as pd\n",
    "import xarray as xr\n",
    "import matplotlib.pyplot as plt\n",
    "import seaborn as sns\n",
    "import datetime\n",
    "#from monetio.models import hysplit"
   ]
  },
  {
   "cell_type": "code",
   "execution_count": 3,
   "metadata": {},
   "outputs": [
    {
     "name": "stderr",
     "output_type": "stream",
     "text": [
      "/hysplit-users/alicec/anaconda3/envs/paris/lib/python3.8/site-packages/pyresample/bilinear/__init__.py:49: UserWarning: XArray and/or zarr not found, XArrayBilinearResampler won't be available.\n",
      "  warnings.warn(\"XArray and/or zarr not found, XArrayBilinearResampler won't be available.\")\n"
     ]
    }
   ],
   "source": [
    "from monetio.models import hysplit"
   ]
  },
  {
   "cell_type": "code",
   "execution_count": 4,
   "metadata": {},
   "outputs": [],
   "source": [
    "from utilvolc import volcat\n",
    "import utilvolc.ash_inverse as ai\n",
    "from utilvolc import ashapp"
   ]
  },
  {
   "cell_type": "code",
   "execution_count": 5,
   "metadata": {},
   "outputs": [],
   "source": [
    "from utilvolc.ashapp import ashinverse"
   ]
  },
  {
   "cell_type": "code",
   "execution_count": 6,
   "metadata": {},
   "outputs": [
    {
     "name": "stdout",
     "output_type": "stream",
     "text": [
      "/hysplit-users/alicec/projects/bezy/Inverse_240 /hysplit-users/alicec/projects/bezy/hysplit\n",
      "/hysplit-users/alicec/projects/bezy/data/volcat\n"
     ]
    }
   ],
   "source": [
    "os.chdir('/hysplit-users/alicec/projects/bezy/notebooks/')\n",
    "projdir = os.getcwd().replace('notebooks','')\n",
    "\n",
    "vloc = [160.587,55.978]\n",
    "tag ='E'\n",
    "#ens = ['gep{:02d}'.format(x) for x in np.arange(1,31)]\n",
    "#ens.append('gec00')\n",
    "#ens=['gep04','gep03']\n",
    "\n",
    "#----------------------------------------------------------------\n",
    "# locations and names of netcdf files with cdump output.\n",
    "tdir = os.path.join(projdir,'data')\n",
    "fnamelist  = ['xrfile.invbezy{}.nc'.format(tag)]\n",
    "tdirlist = [tdir]\n",
    "\n",
    "#----------------------------------------------------------------\n",
    "configdir = os.path.join(projdir,'Run{}'.format(tag))\n",
    "configfile = 'config.invbezy{}.txt'.format(tag)\n",
    "\n",
    "#-----------------------------------------------------------------\n",
    "# location of volcat files\n",
    "vdir = os.path.join(projdir,'data','volcat')\n",
    "# volcano id to locate\n",
    "vid = 'v300250'\n",
    "#-----------------------------------------------------------------\n",
    "# Location of inverse algorithm output\n",
    "#wpath = os.getcwd()\n",
    "wdir = os.path.join(projdir,'Run{}'.format(tag))\n",
    "#print(wpath)\n",
    "#cdir = '../Run{}/'.format(tag)\n",
    "#wdir = '../Run{}/'.format(tag,tag)\n",
    "#sdir = os.path.join(wdir,'RunM_1_2_3_4_TF')\n",
    "name = 'out.dat'\n",
    "name2 = 'out2.dat'\n",
    "#------------------------------------------------------------------\n",
    "\n",
    "# name to write emit-times file to.\n",
    "emit_file_name = '{}emit_Run{}4.txt'.format(wdir,tag)\n",
    "tcm_name_base = 'run{}zzz.tcm.txt'.format(tag)\n",
    "figbase = 'Run{}4'.format(tag)\n",
    "\n",
    "#-------------------------------------------------------------------\n",
    "#\n",
    "\n",
    "execdir = os.path.join(projdir,'Inverse_240')\n",
    "hysplitdir = os.path.join(projdir,'hysplit')\n",
    "#execdir = mdir+'/Inverse_'\n",
    "print(execdir, hysplitdir)\n",
    "print(vdir)\n",
    "#\n",
    "\n",
    "datadir = os.path.join(projdir, 'data')"
   ]
  },
  {
   "cell_type": "code",
   "execution_count": 7,
   "metadata": {},
   "outputs": [
    {
     "name": "stdout",
     "output_type": "stream",
     "text": [
      "[datetime.datetime(2020, 10, 21, 21, 0), datetime.datetime(2020, 10, 21, 22, 0)]\n",
      "[datetime.datetime(2020, 10, 22, 6, 0), datetime.datetime(2020, 10, 22, 7, 0)]\n"
     ]
    }
   ],
   "source": [
    "%autoreload\n",
    "#time list to prepare.\n",
    "# start with one hour after eruption. 21:00-22:00\n",
    "dlist = []\n",
    "sdate = datetime.datetime(2020,10,21,21,0)\n",
    "#sdate = datetime.datetime(2020,10,22,12,0)\n",
    "dt = datetime.timedelta(hours=1)\n",
    "for iii in np.arange(0,10):\n",
    "    drange = [sdate, sdate+dt]\n",
    "    dlist.append(drange)\n",
    "    sdate += dt\n",
    "print(dlist[0])\n",
    "print(dlist[-1])"
   ]
  },
  {
   "cell_type": "code",
   "execution_count": 8,
   "metadata": {},
   "outputs": [],
   "source": [
    "# initiate the InverseAshEns object\n",
    "%autoreload\n",
    "inverse = ai.InverseAshEns(tdirlist,fnamelist,vdir,vid,configdir=configdir,configfile=configfile,verbose=False)"
   ]
  },
  {
   "cell_type": "code",
   "execution_count": 9,
   "metadata": {},
   "outputs": [
    {
     "name": "stdout",
     "output_type": "stream",
     "text": [
      "2020-10-21 21:00:00\n",
      "2020-10-21 23:00:00\n"
     ]
    }
   ],
   "source": [
    "print(inverse.invlist[0].get_time(2))\n",
    "print(inverse.invlist[0].get_time(4))"
   ]
  },
  {
   "cell_type": "code",
   "execution_count": 10,
   "metadata": {},
   "outputs": [
    {
     "name": "stdout",
     "output_type": "stream",
     "text": [
      "Working directory, wdir :/hysplit-users/alicec/projects/bezy/RunE\n",
      "execdir :/hysplit-users/alicec/projects/bezy/Inverse_240\n",
      "hysplitdir :/hysplit-users/alicec/projects/bezy/hysplit\n",
      "subdir :/hysplit-users/alicec/projects/bezy/RunE\n",
      "vdir :/hysplit-users/alicec/projects/bezy/data/volcat\n",
      "datadir :/hysplit-users/alicec/projects/bezy/data\n"
     ]
    }
   ],
   "source": [
    "%autoreload\n",
    "inverse.set_directory(wdir,execdir,datadir,hysplitdir)\n",
    "inverse.print_directories()"
   ]
  },
  {
   "cell_type": "code",
   "execution_count": 13,
   "metadata": {},
   "outputs": [
    {
     "data": {
      "text/plain": [
       "array(['102119_2880', '102119_3880', '102119_4880', '102119_5880',\n",
       "       '102119_6880', '102119_7880', '102119_8880', '102119_9880',\n",
       "       '102119_10880', '102119_11880', '102119_12880', '102120_2880',\n",
       "       '102120_3880', '102120_4880', '102120_5880', '102120_6880',\n",
       "       '102120_7880', '102120_8880', '102120_9880', '102120_10880',\n",
       "       '102120_11880', '102120_12880', '102121_2880', '102121_3880',\n",
       "       '102121_4880', '102121_5880', '102121_6880', '102121_7880',\n",
       "       '102121_8880', '102121_9880', '102121_10880', '102121_11880',\n",
       "       '102121_12880', '102122_2880', '102122_3880', '102122_4880',\n",
       "       '102122_5880', '102122_6880', '102122_7880', '102122_8880',\n",
       "       '102122_9880', '102122_10880', '102122_11880', '102122_12880',\n",
       "       '102123_2880', '102123_3880', '102123_4880', '102123_5880',\n",
       "       '102123_6880', '102123_7880', '102123_8880', '102123_9880',\n",
       "       '102123_10880', '102123_11880', '102123_12880', '102200_2880',\n",
       "       '102200_3880', '102200_4880', '102200_5880', '102200_6880',\n",
       "       '102200_7880', '102200_8880', '102200_9880', '102200_10880',\n",
       "       '102200_11880', '102200_12880'], dtype=object)"
      ]
     },
     "execution_count": 13,
     "metadata": {},
     "output_type": "execute_result"
    }
   ],
   "source": [
    "inva = inverse.invlist[0]\n",
    "inva.cdump.ens.values"
   ]
  },
  {
   "cell_type": "code",
   "execution_count": 14,
   "metadata": {},
   "outputs": [
    {
     "name": "stdout",
     "output_type": "stream",
     "text": [
      "[datetime.datetime(2020, 10, 21, 21, 0), datetime.datetime(2020, 10, 21, 22, 0)]\n",
      "[datetime.datetime(2020, 10, 21, 22, 0), datetime.datetime(2020, 10, 21, 23, 0)]\n",
      "[datetime.datetime(2020, 10, 21, 23, 0), datetime.datetime(2020, 10, 22, 0, 0)]\n",
      "[datetime.datetime(2020, 10, 22, 0, 0), datetime.datetime(2020, 10, 22, 1, 0)]\n",
      "[datetime.datetime(2020, 10, 22, 1, 0), datetime.datetime(2020, 10, 22, 2, 0)]\n",
      "[datetime.datetime(2020, 10, 22, 2, 0), datetime.datetime(2020, 10, 22, 3, 0)]\n",
      "[datetime.datetime(2020, 10, 22, 3, 0), datetime.datetime(2020, 10, 22, 4, 0)]\n",
      "[datetime.datetime(2020, 10, 22, 4, 0), datetime.datetime(2020, 10, 22, 5, 0)]\n",
      "[datetime.datetime(2020, 10, 22, 5, 0), datetime.datetime(2020, 10, 22, 6, 0)]\n",
      "[datetime.datetime(2020, 10, 22, 6, 0), datetime.datetime(2020, 10, 22, 7, 0)]\n"
     ]
    }
   ],
   "source": [
    "# add in the relavant VOLCAT observations\n",
    "%autoreload\n",
    "#dlist = [[datetime.datetime(2020,10,22,9),datetime.datetime(2020,10,22,10)]]\n",
    "for drange in dlist:\n",
    "    print(drange)\n",
    "    inverse.prepare_one_time(drange)"
   ]
  },
  {
   "cell_type": "code",
   "execution_count": 15,
   "metadata": {},
   "outputs": [
    {
     "name": "stdout",
     "output_type": "stream",
     "text": [
      "time 1 : 2020-10-21 20:00:00\n",
      "time 2 : 2020-10-21 21:00:00\n",
      "time 3 : 2020-10-21 22:00:00\n",
      "time 4 : 2020-10-21 23:00:00\n",
      "time 5 : 2020-10-22 00:00:00\n",
      "time 6 : 2020-10-22 01:00:00\n",
      "time 7 : 2020-10-22 02:00:00\n",
      "time 8 : 2020-10-22 03:00:00\n",
      "time 9 : 2020-10-22 04:00:00\n",
      "time 10 : 2020-10-22 05:00:00\n",
      "time 11 : 2020-10-22 06:00:00\n"
     ]
    }
   ],
   "source": [
    "for tii in [1,2,3,4,5,6,7,8,9,10,11]:\n",
    "    print('time {} : {}'.format(tii,inverse.invlist[0].get_time(tii)))\n"
   ]
  },
  {
   "cell_type": "code",
   "execution_count": 16,
   "metadata": {},
   "outputs": [
    {
     "name": "stdout",
     "output_type": "stream",
     "text": [
      "Observations availalbe in volcat_avg_hash\n",
      "dict_keys([2, 3, 4, 5, 6, 7, 8, 9, 10, 11])\n",
      "times in cdump file\n",
      "2020 10 21 19:00z\n",
      "2020 10 21 20:00z\n",
      "2020 10 21 21:00z\n",
      "2020 10 21 22:00z\n",
      "2020 10 21 23:00z\n",
      "2020 10 22 00:00z\n",
      "2020 10 22 01:00z\n",
      "2020 10 22 02:00z\n",
      "2020 10 22 03:00z\n",
      "2020 10 22 04:00z\n",
      "2020 10 22 05:00z\n",
      "2020 10 22 06:00z\n",
      "2020 10 22 07:00z\n",
      "2020 10 22 08:00z\n",
      "2020 10 22 09:00z\n",
      "2020 10 22 10:00z\n",
      "2020 10 22 11:00z\n"
     ]
    }
   ],
   "source": [
    "%autoreload\n",
    "inverse.invlist[0].print_summary()"
   ]
  },
  {
   "cell_type": "code",
   "execution_count": 17,
   "metadata": {
    "scrolled": true
   },
   "outputs": [
    {
     "name": "stdout",
     "output_type": "stream",
     "text": [
      "10 bezyE\n",
      "tii 10\n"
     ]
    },
    {
     "name": "stderr",
     "output_type": "stream",
     "text": [
      "/hysplit-users/alicec/anaconda3/envs/paris/lib/python3.8/site-packages/xarray/core/computation.py:739: RuntimeWarning: divide by zero encountered in log10\n",
      "  result_data = func(*input_data)\n"
     ]
    },
    {
     "data": {
      "image/png": "[encoded data removed]",
      "text/plain": [
       "<Figure size 720x360 with 2 Axes>"
      ]
     },
     "metadata": {
      "needs_background": "light"
     },
     "output_type": "display_data"
    }
   ],
   "source": [
    "%autoreload\n",
    "#gep10, gep16 looks good at tii=6.\n",
    "#gep24 possibly looks ok.\n",
    "zlevel=None  #index 'ensemble'\n",
    "           #if None then sum along the ens. dimension which shows contributions from all inv. runs.\n",
    "tii=10\n",
    "#zlevel=None\n",
    "%autoreload\n",
    "ax = inverse.compare_plotsA(daterange=dlist[0],tii=tii,zii=zlevel)\n",
    "#plt.gca()\n",
    "#ax.plot(160.587,55.978,'y^')\n",
    "#plt.show()\n"
   ]
  },
  {
   "cell_type": "code",
   "execution_count": 18,
   "metadata": {},
   "outputs": [],
   "source": [
    "%autoreload\n",
    "inverse.set_concmult(1)"
   ]
  },
  {
   "cell_type": "markdown",
   "metadata": {},
   "source": [
    "# Automatic Runs"
   ]
  },
  {
   "cell_type": "code",
   "execution_count": 19,
   "metadata": {},
   "outputs": [],
   "source": [
    "def makerun(tii,remove_cols, remove_rows, remove_sources,remove_ncs):\n",
    "    print(\"HERE HERE HERE\")\n",
    "    inverse.make_tcm_mult(tii,remove_cols=remove_cols, remove_rows=remove_rows, remove_sources=remove_sources,remove_ncs=remove_ncs)\n",
    "    runtag = ai.create_runtag(tag,tii,remove_cols, remove_rows, remove_sources,remove_ncs=remove_ncs)\n",
    "    inverse.set_subdirectory(runtag)\n",
    "    print('HERE', inverse.subdir)\n",
    "    tcmstr = inverse.write_tcm(os.path.join(inverse.subdir, tcm_name_base.replace('zzz','4')))\n",
    "    inverse.run_tcm()\n",
    "    \n",
    "    eii=None\n",
    "    unit='g/h'\n",
    "    unit='kg/s'\n",
    "    inverse.plot_outdat_ts(eii,unit=unit)\n",
    "    #plt.show()\n",
    "    #inverse.plot_outdat_ts(eii,profile=True)\n",
    "    inverse.save_emis(runtag+'.csv')\n"
   ]
  },
  {
   "cell_type": "markdown",
   "metadata": {},
   "source": [
    "## Run with all previous and just two previous"
   ]
  },
  {
   "cell_type": "code",
   "execution_count": 21,
   "metadata": {},
   "outputs": [
    {
     "name": "stdout",
     "output_type": "stream",
     "text": [
      "tii [2, 3]\n",
      "HERE HERE HERE\n",
      "2020-10-21T21:00:00.000000000\n",
      "2020-10-21T22:00:00.000000000\n",
      "HERE /hysplit-users/alicec/projects/bezy/RunH/RunE_2_3_TFw5\n",
      "(2603, 45)\n",
      "N_ctrl 44\n",
      "output file /hysplit-users/alicec/projects/bezy/RunH/RunE_2_3_TFw5/runE4.tcm_bezyE.txt\n"
     ]
    },
    {
     "name": "stderr",
     "output_type": "stream",
     "text": [
      "/hysplit-users/alicec/utilhysplit/utilvolc/ash_inverse.py:829: VisibleDeprecationWarning: Creating an ndarray from ragged nested sequences (which is a list-or-tuple of lists-or-tuples-or ndarrays with different lengths or shapes) is deprecated. If you meant to do this, you must specify 'dtype=object' when creating the ndarray.\n",
      "  self.latlist = np.array(latlist)\n",
      "/hysplit-users/alicec/utilhysplit/utilvolc/ash_inverse.py:830: VisibleDeprecationWarning: Creating an ndarray from ragged nested sequences (which is a list-or-tuple of lists-or-tuples-or ndarrays with different lengths or shapes) is deprecated. If you meant to do this, you must specify 'dtype=object' when creating the ndarray.\n",
      "  self.lonlist = np.array(lonlist)\n",
      "/hysplit-users/alicec/utilhysplit/utilvolc/ash_inverse.py:844: VisibleDeprecationWarning: Creating an ndarray from ragged nested sequences (which is a list-or-tuple of lists-or-tuples-or ndarrays with different lengths or shapes) is deprecated. If you meant to do this, you must specify 'dtype=object' when creating the ndarray.\n",
      "  self.latlist = np.array(latlist)\n",
      "/hysplit-users/alicec/utilhysplit/utilvolc/ash_inverse.py:845: VisibleDeprecationWarning: Creating an ndarray from ragged nested sequences (which is a list-or-tuple of lists-or-tuples-or ndarrays with different lengths or shapes) is deprecated. If you meant to do this, you must specify 'dtype=object' when creating the ndarray.\n",
      "  self.lonlist = np.array(lonlist)\n"
     ]
    },
    {
     "name": "stdout",
     "output_type": "stream",
     "text": [
      "bezyE\n",
      "saving to  /hysplit-users/alicec/projects/bezy/RunH/RunE_2_3_TFw5/RunE_2_3_TFw5.csv\n",
      "tii [2, 3, 4]\n",
      "HERE HERE HERE\n",
      "2020-10-21T21:00:00.000000000\n",
      "2020-10-21T22:00:00.000000000\n",
      "2020-10-21T23:00:00.000000000\n",
      "HERE /hysplit-users/alicec/projects/bezy/RunH/RunE_2_3_4_TFw5\n",
      "(4530, 56)\n",
      "N_ctrl 55\n",
      "output file /hysplit-users/alicec/projects/bezy/RunH/RunE_2_3_4_TFw5/runE4.tcm_bezyE.txt\n"
     ]
    },
    {
     "name": "stderr",
     "output_type": "stream",
     "text": [
      "/hysplit-users/alicec/utilhysplit/utilvolc/ash_inverse.py:829: VisibleDeprecationWarning: Creating an ndarray from ragged nested sequences (which is a list-or-tuple of lists-or-tuples-or ndarrays with different lengths or shapes) is deprecated. If you meant to do this, you must specify 'dtype=object' when creating the ndarray.\n",
      "  self.latlist = np.array(latlist)\n",
      "/hysplit-users/alicec/utilhysplit/utilvolc/ash_inverse.py:830: VisibleDeprecationWarning: Creating an ndarray from ragged nested sequences (which is a list-or-tuple of lists-or-tuples-or ndarrays with different lengths or shapes) is deprecated. If you meant to do this, you must specify 'dtype=object' when creating the ndarray.\n",
      "  self.lonlist = np.array(lonlist)\n",
      "/hysplit-users/alicec/utilhysplit/utilvolc/ash_inverse.py:844: VisibleDeprecationWarning: Creating an ndarray from ragged nested sequences (which is a list-or-tuple of lists-or-tuples-or ndarrays with different lengths or shapes) is deprecated. If you meant to do this, you must specify 'dtype=object' when creating the ndarray.\n",
      "  self.latlist = np.array(latlist)\n",
      "/hysplit-users/alicec/utilhysplit/utilvolc/ash_inverse.py:845: VisibleDeprecationWarning: Creating an ndarray from ragged nested sequences (which is a list-or-tuple of lists-or-tuples-or ndarrays with different lengths or shapes) is deprecated. If you meant to do this, you must specify 'dtype=object' when creating the ndarray.\n",
      "  self.lonlist = np.array(lonlist)\n"
     ]
    },
    {
     "name": "stdout",
     "output_type": "stream",
     "text": [
      "bezyE\n"
     ]
    },
    {
     "name": "stderr",
     "output_type": "stream",
     "text": [
      "/hysplit-users/alicec/utilhysplit/utilvolc/ash_inverse.py:596: MatplotlibDeprecationWarning: Adding an axes using the same arguments as a previous axes currently reuses the earlier instance.  In a future version, a new instance will always be created and returned.  Meanwhile, this warning can be suppressed, and the future behavior ensured, by passing a unique label to each axes instance.\n",
      "  ax = fig.add_subplot(1,1,1)\n",
      "/hysplit-users/alicec/utilhysplit/utilvolc/ash_inverse.py:829: VisibleDeprecationWarning: Creating an ndarray from ragged nested sequences (which is a list-or-tuple of lists-or-tuples-or ndarrays with different lengths or shapes) is deprecated. If you meant to do this, you must specify 'dtype=object' when creating the ndarray.\n",
      "  self.latlist = np.array(latlist)\n",
      "/hysplit-users/alicec/utilhysplit/utilvolc/ash_inverse.py:830: VisibleDeprecationWarning: Creating an ndarray from ragged nested sequences (which is a list-or-tuple of lists-or-tuples-or ndarrays with different lengths or shapes) is deprecated. If you meant to do this, you must specify 'dtype=object' when creating the ndarray.\n",
      "  self.lonlist = np.array(lonlist)\n",
      "/hysplit-users/alicec/utilhysplit/utilvolc/ash_inverse.py:844: VisibleDeprecationWarning: Creating an ndarray from ragged nested sequences (which is a list-or-tuple of lists-or-tuples-or ndarrays with different lengths or shapes) is deprecated. If you meant to do this, you must specify 'dtype=object' when creating the ndarray.\n",
      "  self.latlist = np.array(latlist)\n",
      "/hysplit-users/alicec/utilhysplit/utilvolc/ash_inverse.py:845: VisibleDeprecationWarning: Creating an ndarray from ragged nested sequences (which is a list-or-tuple of lists-or-tuples-or ndarrays with different lengths or shapes) is deprecated. If you meant to do this, you must specify 'dtype=object' when creating the ndarray.\n",
      "  self.lonlist = np.array(lonlist)\n"
     ]
    },
    {
     "name": "stdout",
     "output_type": "stream",
     "text": [
      "saving to  /hysplit-users/alicec/projects/bezy/RunH/RunE_2_3_4_TFw5/RunE_2_3_4_TFw5.csv\n",
      "tii [2, 3, 4, 5]\n",
      "HERE HERE HERE\n",
      "2020-10-21T21:00:00.000000000\n",
      "2020-10-21T22:00:00.000000000\n",
      "2020-10-21T23:00:00.000000000\n",
      "2020-10-22T00:00:00.000000000\n",
      "HERE /hysplit-users/alicec/projects/bezy/RunH/RunE_2_3_4_5_TFw5\n",
      "(6797, 67)\n",
      "N_ctrl 66\n",
      "output file /hysplit-users/alicec/projects/bezy/RunH/RunE_2_3_4_5_TFw5/runE4.tcm_bezyE.txt\n",
      "bezyE\n"
     ]
    },
    {
     "name": "stderr",
     "output_type": "stream",
     "text": [
      "/hysplit-users/alicec/utilhysplit/utilvolc/ash_inverse.py:596: MatplotlibDeprecationWarning: Adding an axes using the same arguments as a previous axes currently reuses the earlier instance.  In a future version, a new instance will always be created and returned.  Meanwhile, this warning can be suppressed, and the future behavior ensured, by passing a unique label to each axes instance.\n",
      "  ax = fig.add_subplot(1,1,1)\n",
      "/hysplit-users/alicec/utilhysplit/utilvolc/ash_inverse.py:829: VisibleDeprecationWarning: Creating an ndarray from ragged nested sequences (which is a list-or-tuple of lists-or-tuples-or ndarrays with different lengths or shapes) is deprecated. If you meant to do this, you must specify 'dtype=object' when creating the ndarray.\n",
      "  self.latlist = np.array(latlist)\n",
      "/hysplit-users/alicec/utilhysplit/utilvolc/ash_inverse.py:830: VisibleDeprecationWarning: Creating an ndarray from ragged nested sequences (which is a list-or-tuple of lists-or-tuples-or ndarrays with different lengths or shapes) is deprecated. If you meant to do this, you must specify 'dtype=object' when creating the ndarray.\n",
      "  self.lonlist = np.array(lonlist)\n",
      "/hysplit-users/alicec/utilhysplit/utilvolc/ash_inverse.py:844: VisibleDeprecationWarning: Creating an ndarray from ragged nested sequences (which is a list-or-tuple of lists-or-tuples-or ndarrays with different lengths or shapes) is deprecated. If you meant to do this, you must specify 'dtype=object' when creating the ndarray.\n",
      "  self.latlist = np.array(latlist)\n",
      "/hysplit-users/alicec/utilhysplit/utilvolc/ash_inverse.py:845: VisibleDeprecationWarning: Creating an ndarray from ragged nested sequences (which is a list-or-tuple of lists-or-tuples-or ndarrays with different lengths or shapes) is deprecated. If you meant to do this, you must specify 'dtype=object' when creating the ndarray.\n",
      "  self.lonlist = np.array(lonlist)\n"
     ]
    },
    {
     "name": "stdout",
     "output_type": "stream",
     "text": [
      "saving to  /hysplit-users/alicec/projects/bezy/RunH/RunE_2_3_4_5_TFw5/RunE_2_3_4_5_TFw5.csv\n",
      "tii [2, 3, 4, 5, 6]\n",
      "HERE HERE HERE\n",
      "2020-10-21T21:00:00.000000000\n",
      "2020-10-21T22:00:00.000000000\n",
      "2020-10-21T23:00:00.000000000\n",
      "2020-10-22T00:00:00.000000000\n",
      "2020-10-22T01:00:00.000000000\n",
      "HERE /hysplit-users/alicec/projects/bezy/RunH/RunE_2_3_4_5_6_TFw5\n",
      "(9849, 67)\n",
      "N_ctrl 66\n",
      "output file /hysplit-users/alicec/projects/bezy/RunH/RunE_2_3_4_5_6_TFw5/runE4.tcm_bezyE.txt\n",
      "bezyE\n"
     ]
    },
    {
     "name": "stderr",
     "output_type": "stream",
     "text": [
      "/hysplit-users/alicec/utilhysplit/utilvolc/ash_inverse.py:596: MatplotlibDeprecationWarning: Adding an axes using the same arguments as a previous axes currently reuses the earlier instance.  In a future version, a new instance will always be created and returned.  Meanwhile, this warning can be suppressed, and the future behavior ensured, by passing a unique label to each axes instance.\n",
      "  ax = fig.add_subplot(1,1,1)\n",
      "/hysplit-users/alicec/utilhysplit/utilvolc/ash_inverse.py:829: VisibleDeprecationWarning: Creating an ndarray from ragged nested sequences (which is a list-or-tuple of lists-or-tuples-or ndarrays with different lengths or shapes) is deprecated. If you meant to do this, you must specify 'dtype=object' when creating the ndarray.\n",
      "  self.latlist = np.array(latlist)\n",
      "/hysplit-users/alicec/utilhysplit/utilvolc/ash_inverse.py:830: VisibleDeprecationWarning: Creating an ndarray from ragged nested sequences (which is a list-or-tuple of lists-or-tuples-or ndarrays with different lengths or shapes) is deprecated. If you meant to do this, you must specify 'dtype=object' when creating the ndarray.\n",
      "  self.lonlist = np.array(lonlist)\n",
      "/hysplit-users/alicec/utilhysplit/utilvolc/ash_inverse.py:844: VisibleDeprecationWarning: Creating an ndarray from ragged nested sequences (which is a list-or-tuple of lists-or-tuples-or ndarrays with different lengths or shapes) is deprecated. If you meant to do this, you must specify 'dtype=object' when creating the ndarray.\n",
      "  self.latlist = np.array(latlist)\n",
      "/hysplit-users/alicec/utilhysplit/utilvolc/ash_inverse.py:845: VisibleDeprecationWarning: Creating an ndarray from ragged nested sequences (which is a list-or-tuple of lists-or-tuples-or ndarrays with different lengths or shapes) is deprecated. If you meant to do this, you must specify 'dtype=object' when creating the ndarray.\n",
      "  self.lonlist = np.array(lonlist)\n"
     ]
    },
    {
     "name": "stdout",
     "output_type": "stream",
     "text": [
      "saving to  /hysplit-users/alicec/projects/bezy/RunH/RunE_2_3_4_5_6_TFw5/RunE_2_3_4_5_6_TFw5.csv\n",
      "tii [2, 3, 4, 5, 6, 7]\n",
      "HERE HERE HERE\n",
      "2020-10-21T21:00:00.000000000\n",
      "2020-10-21T22:00:00.000000000\n",
      "2020-10-21T23:00:00.000000000\n",
      "2020-10-22T00:00:00.000000000\n",
      "2020-10-22T01:00:00.000000000\n",
      "2020-10-22T02:00:00.000000000\n",
      "HERE /hysplit-users/alicec/projects/bezy/RunH/RunE_2_3_4_5_6_7_TFw5\n",
      "(13310, 67)\n",
      "N_ctrl 66\n",
      "output file /hysplit-users/alicec/projects/bezy/RunH/RunE_2_3_4_5_6_7_TFw5/runE4.tcm_bezyE.txt\n",
      "bezyE\n"
     ]
    },
    {
     "name": "stderr",
     "output_type": "stream",
     "text": [
      "/hysplit-users/alicec/utilhysplit/utilvolc/ash_inverse.py:596: MatplotlibDeprecationWarning: Adding an axes using the same arguments as a previous axes currently reuses the earlier instance.  In a future version, a new instance will always be created and returned.  Meanwhile, this warning can be suppressed, and the future behavior ensured, by passing a unique label to each axes instance.\n",
      "  ax = fig.add_subplot(1,1,1)\n",
      "/hysplit-users/alicec/utilhysplit/utilvolc/ash_inverse.py:829: VisibleDeprecationWarning: Creating an ndarray from ragged nested sequences (which is a list-or-tuple of lists-or-tuples-or ndarrays with different lengths or shapes) is deprecated. If you meant to do this, you must specify 'dtype=object' when creating the ndarray.\n",
      "  self.latlist = np.array(latlist)\n",
      "/hysplit-users/alicec/utilhysplit/utilvolc/ash_inverse.py:830: VisibleDeprecationWarning: Creating an ndarray from ragged nested sequences (which is a list-or-tuple of lists-or-tuples-or ndarrays with different lengths or shapes) is deprecated. If you meant to do this, you must specify 'dtype=object' when creating the ndarray.\n",
      "  self.lonlist = np.array(lonlist)\n",
      "/hysplit-users/alicec/utilhysplit/utilvolc/ash_inverse.py:844: VisibleDeprecationWarning: Creating an ndarray from ragged nested sequences (which is a list-or-tuple of lists-or-tuples-or ndarrays with different lengths or shapes) is deprecated. If you meant to do this, you must specify 'dtype=object' when creating the ndarray.\n",
      "  self.latlist = np.array(latlist)\n",
      "/hysplit-users/alicec/utilhysplit/utilvolc/ash_inverse.py:845: VisibleDeprecationWarning: Creating an ndarray from ragged nested sequences (which is a list-or-tuple of lists-or-tuples-or ndarrays with different lengths or shapes) is deprecated. If you meant to do this, you must specify 'dtype=object' when creating the ndarray.\n",
      "  self.lonlist = np.array(lonlist)\n"
     ]
    },
    {
     "name": "stdout",
     "output_type": "stream",
     "text": [
      "saving to  /hysplit-users/alicec/projects/bezy/RunH/RunE_2_3_4_5_6_7_TFw5/RunE_2_3_4_5_6_7_TFw5.csv\n",
      "tii [2, 3, 4, 5, 6, 7, 8]\n",
      "HERE HERE HERE\n",
      "2020-10-21T21:00:00.000000000\n",
      "2020-10-21T22:00:00.000000000\n",
      "2020-10-21T23:00:00.000000000\n",
      "2020-10-22T00:00:00.000000000\n",
      "2020-10-22T01:00:00.000000000\n",
      "2020-10-22T02:00:00.000000000\n",
      "2020-10-22T03:00:00.000000000\n",
      "HERE /hysplit-users/alicec/projects/bezy/RunH/RunE_2_3_4_5_6_7_8_TFw5\n",
      "(17081, 67)\n",
      "N_ctrl 66\n",
      "output file /hysplit-users/alicec/projects/bezy/RunH/RunE_2_3_4_5_6_7_8_TFw5/runE4.tcm_bezyE.txt\n",
      "bezyE\n"
     ]
    },
    {
     "name": "stderr",
     "output_type": "stream",
     "text": [
      "/hysplit-users/alicec/utilhysplit/utilvolc/ash_inverse.py:596: MatplotlibDeprecationWarning: Adding an axes using the same arguments as a previous axes currently reuses the earlier instance.  In a future version, a new instance will always be created and returned.  Meanwhile, this warning can be suppressed, and the future behavior ensured, by passing a unique label to each axes instance.\n",
      "  ax = fig.add_subplot(1,1,1)\n",
      "/hysplit-users/alicec/utilhysplit/utilvolc/ash_inverse.py:829: VisibleDeprecationWarning: Creating an ndarray from ragged nested sequences (which is a list-or-tuple of lists-or-tuples-or ndarrays with different lengths or shapes) is deprecated. If you meant to do this, you must specify 'dtype=object' when creating the ndarray.\n",
      "  self.latlist = np.array(latlist)\n",
      "/hysplit-users/alicec/utilhysplit/utilvolc/ash_inverse.py:830: VisibleDeprecationWarning: Creating an ndarray from ragged nested sequences (which is a list-or-tuple of lists-or-tuples-or ndarrays with different lengths or shapes) is deprecated. If you meant to do this, you must specify 'dtype=object' when creating the ndarray.\n",
      "  self.lonlist = np.array(lonlist)\n",
      "/hysplit-users/alicec/utilhysplit/utilvolc/ash_inverse.py:844: VisibleDeprecationWarning: Creating an ndarray from ragged nested sequences (which is a list-or-tuple of lists-or-tuples-or ndarrays with different lengths or shapes) is deprecated. If you meant to do this, you must specify 'dtype=object' when creating the ndarray.\n",
      "  self.latlist = np.array(latlist)\n",
      "/hysplit-users/alicec/utilhysplit/utilvolc/ash_inverse.py:845: VisibleDeprecationWarning: Creating an ndarray from ragged nested sequences (which is a list-or-tuple of lists-or-tuples-or ndarrays with different lengths or shapes) is deprecated. If you meant to do this, you must specify 'dtype=object' when creating the ndarray.\n",
      "  self.lonlist = np.array(lonlist)\n"
     ]
    },
    {
     "name": "stdout",
     "output_type": "stream",
     "text": [
      "saving to  /hysplit-users/alicec/projects/bezy/RunH/RunE_2_3_4_5_6_7_8_TFw5/RunE_2_3_4_5_6_7_8_TFw5.csv\n",
      "tii [2, 3, 4, 5, 6, 7, 8, 9]\n",
      "HERE HERE HERE\n",
      "2020-10-21T21:00:00.000000000\n",
      "2020-10-21T22:00:00.000000000\n",
      "2020-10-21T23:00:00.000000000\n",
      "2020-10-22T00:00:00.000000000\n",
      "2020-10-22T01:00:00.000000000\n",
      "2020-10-22T02:00:00.000000000\n",
      "2020-10-22T03:00:00.000000000\n",
      "2020-10-22T04:00:00.000000000\n",
      "HERE /hysplit-users/alicec/projects/bezy/RunH/RunE_2_3_4_5_6_7_8_9_TFw5\n",
      "(21016, 67)\n",
      "N_ctrl 66\n",
      "output file /hysplit-users/alicec/projects/bezy/RunH/RunE_2_3_4_5_6_7_8_9_TFw5/runE4.tcm_bezyE.txt\n",
      "bezyE\n"
     ]
    },
    {
     "name": "stderr",
     "output_type": "stream",
     "text": [
      "/hysplit-users/alicec/utilhysplit/utilvolc/ash_inverse.py:596: MatplotlibDeprecationWarning: Adding an axes using the same arguments as a previous axes currently reuses the earlier instance.  In a future version, a new instance will always be created and returned.  Meanwhile, this warning can be suppressed, and the future behavior ensured, by passing a unique label to each axes instance.\n",
      "  ax = fig.add_subplot(1,1,1)\n",
      "/hysplit-users/alicec/utilhysplit/utilvolc/ash_inverse.py:829: VisibleDeprecationWarning: Creating an ndarray from ragged nested sequences (which is a list-or-tuple of lists-or-tuples-or ndarrays with different lengths or shapes) is deprecated. If you meant to do this, you must specify 'dtype=object' when creating the ndarray.\n",
      "  self.latlist = np.array(latlist)\n",
      "/hysplit-users/alicec/utilhysplit/utilvolc/ash_inverse.py:830: VisibleDeprecationWarning: Creating an ndarray from ragged nested sequences (which is a list-or-tuple of lists-or-tuples-or ndarrays with different lengths or shapes) is deprecated. If you meant to do this, you must specify 'dtype=object' when creating the ndarray.\n",
      "  self.lonlist = np.array(lonlist)\n",
      "/hysplit-users/alicec/utilhysplit/utilvolc/ash_inverse.py:844: VisibleDeprecationWarning: Creating an ndarray from ragged nested sequences (which is a list-or-tuple of lists-or-tuples-or ndarrays with different lengths or shapes) is deprecated. If you meant to do this, you must specify 'dtype=object' when creating the ndarray.\n",
      "  self.latlist = np.array(latlist)\n",
      "/hysplit-users/alicec/utilhysplit/utilvolc/ash_inverse.py:845: VisibleDeprecationWarning: Creating an ndarray from ragged nested sequences (which is a list-or-tuple of lists-or-tuples-or ndarrays with different lengths or shapes) is deprecated. If you meant to do this, you must specify 'dtype=object' when creating the ndarray.\n",
      "  self.lonlist = np.array(lonlist)\n"
     ]
    },
    {
     "name": "stdout",
     "output_type": "stream",
     "text": [
      "saving to  /hysplit-users/alicec/projects/bezy/RunH/RunE_2_3_4_5_6_7_8_9_TFw5/RunE_2_3_4_5_6_7_8_9_TFw5.csv\n",
      "tii [2, 3, 4, 5, 6, 7, 8, 9, 10]\n",
      "HERE HERE HERE\n",
      "2020-10-21T21:00:00.000000000\n",
      "2020-10-21T22:00:00.000000000\n",
      "2020-10-21T23:00:00.000000000\n",
      "2020-10-22T00:00:00.000000000\n",
      "2020-10-22T01:00:00.000000000\n",
      "2020-10-22T02:00:00.000000000\n",
      "2020-10-22T03:00:00.000000000\n",
      "2020-10-22T04:00:00.000000000\n",
      "2020-10-22T05:00:00.000000000\n",
      "HERE /hysplit-users/alicec/projects/bezy/RunH/RunE_2_3_4_5_6_7_8_9_10_TFw5\n",
      "(24969, 67)\n",
      "N_ctrl 66\n",
      "output file /hysplit-users/alicec/projects/bezy/RunH/RunE_2_3_4_5_6_7_8_9_10_TFw5/runE4.tcm_bezyE.txt\n",
      "bezyE\n"
     ]
    },
    {
     "name": "stderr",
     "output_type": "stream",
     "text": [
      "/hysplit-users/alicec/utilhysplit/utilvolc/ash_inverse.py:596: MatplotlibDeprecationWarning: Adding an axes using the same arguments as a previous axes currently reuses the earlier instance.  In a future version, a new instance will always be created and returned.  Meanwhile, this warning can be suppressed, and the future behavior ensured, by passing a unique label to each axes instance.\n",
      "  ax = fig.add_subplot(1,1,1)\n",
      "/hysplit-users/alicec/utilhysplit/utilvolc/ash_inverse.py:829: VisibleDeprecationWarning: Creating an ndarray from ragged nested sequences (which is a list-or-tuple of lists-or-tuples-or ndarrays with different lengths or shapes) is deprecated. If you meant to do this, you must specify 'dtype=object' when creating the ndarray.\n",
      "  self.latlist = np.array(latlist)\n",
      "/hysplit-users/alicec/utilhysplit/utilvolc/ash_inverse.py:830: VisibleDeprecationWarning: Creating an ndarray from ragged nested sequences (which is a list-or-tuple of lists-or-tuples-or ndarrays with different lengths or shapes) is deprecated. If you meant to do this, you must specify 'dtype=object' when creating the ndarray.\n",
      "  self.lonlist = np.array(lonlist)\n",
      "/hysplit-users/alicec/utilhysplit/utilvolc/ash_inverse.py:844: VisibleDeprecationWarning: Creating an ndarray from ragged nested sequences (which is a list-or-tuple of lists-or-tuples-or ndarrays with different lengths or shapes) is deprecated. If you meant to do this, you must specify 'dtype=object' when creating the ndarray.\n",
      "  self.latlist = np.array(latlist)\n",
      "/hysplit-users/alicec/utilhysplit/utilvolc/ash_inverse.py:845: VisibleDeprecationWarning: Creating an ndarray from ragged nested sequences (which is a list-or-tuple of lists-or-tuples-or ndarrays with different lengths or shapes) is deprecated. If you meant to do this, you must specify 'dtype=object' when creating the ndarray.\n",
      "  self.lonlist = np.array(lonlist)\n"
     ]
    },
    {
     "name": "stdout",
     "output_type": "stream",
     "text": [
      "saving to  /hysplit-users/alicec/projects/bezy/RunH/RunE_2_3_4_5_6_7_8_9_10_TFw5/RunE_2_3_4_5_6_7_8_9_10_TFw5.csv\n",
      "tii [2, 3, 4, 5, 6, 7, 8, 9, 10, 11]\n",
      "HERE HERE HERE\n",
      "2020-10-21T21:00:00.000000000\n",
      "2020-10-21T22:00:00.000000000\n",
      "2020-10-21T23:00:00.000000000\n",
      "2020-10-22T00:00:00.000000000\n",
      "2020-10-22T01:00:00.000000000\n",
      "2020-10-22T02:00:00.000000000\n",
      "2020-10-22T03:00:00.000000000\n",
      "2020-10-22T04:00:00.000000000\n",
      "2020-10-22T05:00:00.000000000\n",
      "2020-10-22T06:00:00.000000000\n",
      "HERE /hysplit-users/alicec/projects/bezy/RunH/RunE_2_3_4_5_6_7_8_9_10_11_TFw5\n",
      "(29531, 67)\n",
      "N_ctrl 66\n",
      "output file /hysplit-users/alicec/projects/bezy/RunH/RunE_2_3_4_5_6_7_8_9_10_11_TFw5/runE4.tcm_bezyE.txt\n",
      "bezyE\n"
     ]
    },
    {
     "name": "stderr",
     "output_type": "stream",
     "text": [
      "/hysplit-users/alicec/utilhysplit/utilvolc/ash_inverse.py:596: MatplotlibDeprecationWarning: Adding an axes using the same arguments as a previous axes currently reuses the earlier instance.  In a future version, a new instance will always be created and returned.  Meanwhile, this warning can be suppressed, and the future behavior ensured, by passing a unique label to each axes instance.\n",
      "  ax = fig.add_subplot(1,1,1)\n",
      "/hysplit-users/alicec/utilhysplit/utilvolc/ash_inverse.py:829: VisibleDeprecationWarning: Creating an ndarray from ragged nested sequences (which is a list-or-tuple of lists-or-tuples-or ndarrays with different lengths or shapes) is deprecated. If you meant to do this, you must specify 'dtype=object' when creating the ndarray.\n",
      "  self.latlist = np.array(latlist)\n",
      "/hysplit-users/alicec/utilhysplit/utilvolc/ash_inverse.py:830: VisibleDeprecationWarning: Creating an ndarray from ragged nested sequences (which is a list-or-tuple of lists-or-tuples-or ndarrays with different lengths or shapes) is deprecated. If you meant to do this, you must specify 'dtype=object' when creating the ndarray.\n",
      "  self.lonlist = np.array(lonlist)\n",
      "/hysplit-users/alicec/utilhysplit/utilvolc/ash_inverse.py:844: VisibleDeprecationWarning: Creating an ndarray from ragged nested sequences (which is a list-or-tuple of lists-or-tuples-or ndarrays with different lengths or shapes) is deprecated. If you meant to do this, you must specify 'dtype=object' when creating the ndarray.\n",
      "  self.latlist = np.array(latlist)\n",
      "/hysplit-users/alicec/utilhysplit/utilvolc/ash_inverse.py:845: VisibleDeprecationWarning: Creating an ndarray from ragged nested sequences (which is a list-or-tuple of lists-or-tuples-or ndarrays with different lengths or shapes) is deprecated. If you meant to do this, you must specify 'dtype=object' when creating the ndarray.\n",
      "  self.lonlist = np.array(lonlist)\n"
     ]
    },
    {
     "name": "stdout",
     "output_type": "stream",
     "text": [
      "saving to  /hysplit-users/alicec/projects/bezy/RunH/RunE_2_3_4_5_6_7_8_9_10_11_TFw5/RunE_2_3_4_5_6_7_8_9_10_11_TFw5.csv\n",
      "HERE HERE HERE\n",
      "2020-10-21T21:00:00.000000000\n",
      "2020-10-21T22:00:00.000000000\n",
      "HERE /hysplit-users/alicec/projects/bezy/RunH/RunE_2_3_TFw5\n",
      "(2603, 45)\n",
      "N_ctrl 44\n",
      "output file /hysplit-users/alicec/projects/bezy/RunH/RunE_2_3_TFw5/runE4.tcm_bezyE.txt\n",
      "bezyE\n"
     ]
    },
    {
     "name": "stderr",
     "output_type": "stream",
     "text": [
      "/hysplit-users/alicec/utilhysplit/utilvolc/ash_inverse.py:596: MatplotlibDeprecationWarning: Adding an axes using the same arguments as a previous axes currently reuses the earlier instance.  In a future version, a new instance will always be created and returned.  Meanwhile, this warning can be suppressed, and the future behavior ensured, by passing a unique label to each axes instance.\n",
      "  ax = fig.add_subplot(1,1,1)\n",
      "/hysplit-users/alicec/utilhysplit/utilvolc/ash_inverse.py:829: VisibleDeprecationWarning: Creating an ndarray from ragged nested sequences (which is a list-or-tuple of lists-or-tuples-or ndarrays with different lengths or shapes) is deprecated. If you meant to do this, you must specify 'dtype=object' when creating the ndarray.\n",
      "  self.latlist = np.array(latlist)\n",
      "/hysplit-users/alicec/utilhysplit/utilvolc/ash_inverse.py:830: VisibleDeprecationWarning: Creating an ndarray from ragged nested sequences (which is a list-or-tuple of lists-or-tuples-or ndarrays with different lengths or shapes) is deprecated. If you meant to do this, you must specify 'dtype=object' when creating the ndarray.\n",
      "  self.lonlist = np.array(lonlist)\n",
      "/hysplit-users/alicec/utilhysplit/utilvolc/ash_inverse.py:844: VisibleDeprecationWarning: Creating an ndarray from ragged nested sequences (which is a list-or-tuple of lists-or-tuples-or ndarrays with different lengths or shapes) is deprecated. If you meant to do this, you must specify 'dtype=object' when creating the ndarray.\n",
      "  self.latlist = np.array(latlist)\n",
      "/hysplit-users/alicec/utilhysplit/utilvolc/ash_inverse.py:845: VisibleDeprecationWarning: Creating an ndarray from ragged nested sequences (which is a list-or-tuple of lists-or-tuples-or ndarrays with different lengths or shapes) is deprecated. If you meant to do this, you must specify 'dtype=object' when creating the ndarray.\n",
      "  self.lonlist = np.array(lonlist)\n"
     ]
    },
    {
     "name": "stdout",
     "output_type": "stream",
     "text": [
      "saving to  /hysplit-users/alicec/projects/bezy/RunH/RunE_2_3_TFw5/RunE_2_3_TFw5.csv\n",
      "HERE HERE HERE\n",
      "2020-10-21T22:00:00.000000000\n",
      "2020-10-21T23:00:00.000000000\n",
      "HERE /hysplit-users/alicec/projects/bezy/RunH/RunE_3_4_TFw5\n",
      "(3438, 56)\n",
      "N_ctrl 55\n",
      "output file /hysplit-users/alicec/projects/bezy/RunH/RunE_3_4_TFw5/runE4.tcm_bezyE.txt\n",
      "bezyE\n"
     ]
    },
    {
     "name": "stderr",
     "output_type": "stream",
     "text": [
      "/hysplit-users/alicec/utilhysplit/utilvolc/ash_inverse.py:596: MatplotlibDeprecationWarning: Adding an axes using the same arguments as a previous axes currently reuses the earlier instance.  In a future version, a new instance will always be created and returned.  Meanwhile, this warning can be suppressed, and the future behavior ensured, by passing a unique label to each axes instance.\n",
      "  ax = fig.add_subplot(1,1,1)\n",
      "/hysplit-users/alicec/utilhysplit/utilvolc/ash_inverse.py:829: VisibleDeprecationWarning: Creating an ndarray from ragged nested sequences (which is a list-or-tuple of lists-or-tuples-or ndarrays with different lengths or shapes) is deprecated. If you meant to do this, you must specify 'dtype=object' when creating the ndarray.\n",
      "  self.latlist = np.array(latlist)\n",
      "/hysplit-users/alicec/utilhysplit/utilvolc/ash_inverse.py:830: VisibleDeprecationWarning: Creating an ndarray from ragged nested sequences (which is a list-or-tuple of lists-or-tuples-or ndarrays with different lengths or shapes) is deprecated. If you meant to do this, you must specify 'dtype=object' when creating the ndarray.\n",
      "  self.lonlist = np.array(lonlist)\n",
      "/hysplit-users/alicec/utilhysplit/utilvolc/ash_inverse.py:844: VisibleDeprecationWarning: Creating an ndarray from ragged nested sequences (which is a list-or-tuple of lists-or-tuples-or ndarrays with different lengths or shapes) is deprecated. If you meant to do this, you must specify 'dtype=object' when creating the ndarray.\n",
      "  self.latlist = np.array(latlist)\n",
      "/hysplit-users/alicec/utilhysplit/utilvolc/ash_inverse.py:845: VisibleDeprecationWarning: Creating an ndarray from ragged nested sequences (which is a list-or-tuple of lists-or-tuples-or ndarrays with different lengths or shapes) is deprecated. If you meant to do this, you must specify 'dtype=object' when creating the ndarray.\n",
      "  self.lonlist = np.array(lonlist)\n"
     ]
    },
    {
     "name": "stdout",
     "output_type": "stream",
     "text": [
      "saving to  /hysplit-users/alicec/projects/bezy/RunH/RunE_3_4_TFw5/RunE_3_4_TFw5.csv\n",
      "HERE HERE HERE\n",
      "2020-10-21T23:00:00.000000000\n",
      "2020-10-22T00:00:00.000000000\n",
      "HERE /hysplit-users/alicec/projects/bezy/RunH/RunE_4_5_TFw5\n",
      "(4194, 67)\n",
      "N_ctrl 66\n",
      "output file /hysplit-users/alicec/projects/bezy/RunH/RunE_4_5_TFw5/runE4.tcm_bezyE.txt\n",
      "bezyE\n"
     ]
    },
    {
     "name": "stderr",
     "output_type": "stream",
     "text": [
      "/hysplit-users/alicec/utilhysplit/utilvolc/ash_inverse.py:596: MatplotlibDeprecationWarning: Adding an axes using the same arguments as a previous axes currently reuses the earlier instance.  In a future version, a new instance will always be created and returned.  Meanwhile, this warning can be suppressed, and the future behavior ensured, by passing a unique label to each axes instance.\n",
      "  ax = fig.add_subplot(1,1,1)\n",
      "/hysplit-users/alicec/utilhysplit/utilvolc/ash_inverse.py:829: VisibleDeprecationWarning: Creating an ndarray from ragged nested sequences (which is a list-or-tuple of lists-or-tuples-or ndarrays with different lengths or shapes) is deprecated. If you meant to do this, you must specify 'dtype=object' when creating the ndarray.\n",
      "  self.latlist = np.array(latlist)\n",
      "/hysplit-users/alicec/utilhysplit/utilvolc/ash_inverse.py:830: VisibleDeprecationWarning: Creating an ndarray from ragged nested sequences (which is a list-or-tuple of lists-or-tuples-or ndarrays with different lengths or shapes) is deprecated. If you meant to do this, you must specify 'dtype=object' when creating the ndarray.\n",
      "  self.lonlist = np.array(lonlist)\n",
      "/hysplit-users/alicec/utilhysplit/utilvolc/ash_inverse.py:844: VisibleDeprecationWarning: Creating an ndarray from ragged nested sequences (which is a list-or-tuple of lists-or-tuples-or ndarrays with different lengths or shapes) is deprecated. If you meant to do this, you must specify 'dtype=object' when creating the ndarray.\n",
      "  self.latlist = np.array(latlist)\n",
      "/hysplit-users/alicec/utilhysplit/utilvolc/ash_inverse.py:845: VisibleDeprecationWarning: Creating an ndarray from ragged nested sequences (which is a list-or-tuple of lists-or-tuples-or ndarrays with different lengths or shapes) is deprecated. If you meant to do this, you must specify 'dtype=object' when creating the ndarray.\n",
      "  self.lonlist = np.array(lonlist)\n"
     ]
    },
    {
     "name": "stdout",
     "output_type": "stream",
     "text": [
      "saving to  /hysplit-users/alicec/projects/bezy/RunH/RunE_4_5_TFw5/RunE_4_5_TFw5.csv\n",
      "HERE HERE HERE\n",
      "2020-10-22T00:00:00.000000000\n",
      "2020-10-22T01:00:00.000000000\n",
      "HERE /hysplit-users/alicec/projects/bezy/RunH/RunE_5_6_TFw5\n",
      "(5319, 67)\n",
      "N_ctrl 66\n",
      "output file /hysplit-users/alicec/projects/bezy/RunH/RunE_5_6_TFw5/runE4.tcm_bezyE.txt\n",
      "bezyE\n"
     ]
    },
    {
     "name": "stderr",
     "output_type": "stream",
     "text": [
      "/hysplit-users/alicec/utilhysplit/utilvolc/ash_inverse.py:596: MatplotlibDeprecationWarning: Adding an axes using the same arguments as a previous axes currently reuses the earlier instance.  In a future version, a new instance will always be created and returned.  Meanwhile, this warning can be suppressed, and the future behavior ensured, by passing a unique label to each axes instance.\n",
      "  ax = fig.add_subplot(1,1,1)\n",
      "/hysplit-users/alicec/utilhysplit/utilvolc/ash_inverse.py:829: VisibleDeprecationWarning: Creating an ndarray from ragged nested sequences (which is a list-or-tuple of lists-or-tuples-or ndarrays with different lengths or shapes) is deprecated. If you meant to do this, you must specify 'dtype=object' when creating the ndarray.\n",
      "  self.latlist = np.array(latlist)\n",
      "/hysplit-users/alicec/utilhysplit/utilvolc/ash_inverse.py:830: VisibleDeprecationWarning: Creating an ndarray from ragged nested sequences (which is a list-or-tuple of lists-or-tuples-or ndarrays with different lengths or shapes) is deprecated. If you meant to do this, you must specify 'dtype=object' when creating the ndarray.\n",
      "  self.lonlist = np.array(lonlist)\n",
      "/hysplit-users/alicec/utilhysplit/utilvolc/ash_inverse.py:844: VisibleDeprecationWarning: Creating an ndarray from ragged nested sequences (which is a list-or-tuple of lists-or-tuples-or ndarrays with different lengths or shapes) is deprecated. If you meant to do this, you must specify 'dtype=object' when creating the ndarray.\n",
      "  self.latlist = np.array(latlist)\n",
      "/hysplit-users/alicec/utilhysplit/utilvolc/ash_inverse.py:845: VisibleDeprecationWarning: Creating an ndarray from ragged nested sequences (which is a list-or-tuple of lists-or-tuples-or ndarrays with different lengths or shapes) is deprecated. If you meant to do this, you must specify 'dtype=object' when creating the ndarray.\n",
      "  self.lonlist = np.array(lonlist)\n"
     ]
    },
    {
     "name": "stdout",
     "output_type": "stream",
     "text": [
      "saving to  /hysplit-users/alicec/projects/bezy/RunH/RunE_5_6_TFw5/RunE_5_6_TFw5.csv\n",
      "HERE HERE HERE\n",
      "2020-10-22T01:00:00.000000000\n",
      "2020-10-22T02:00:00.000000000\n",
      "HERE /hysplit-users/alicec/projects/bezy/RunH/RunE_6_7_TFw5\n",
      "(6513, 67)\n",
      "N_ctrl 66\n",
      "output file /hysplit-users/alicec/projects/bezy/RunH/RunE_6_7_TFw5/runE4.tcm_bezyE.txt\n",
      "bezyE\n"
     ]
    },
    {
     "name": "stderr",
     "output_type": "stream",
     "text": [
      "/hysplit-users/alicec/utilhysplit/utilvolc/ash_inverse.py:596: MatplotlibDeprecationWarning: Adding an axes using the same arguments as a previous axes currently reuses the earlier instance.  In a future version, a new instance will always be created and returned.  Meanwhile, this warning can be suppressed, and the future behavior ensured, by passing a unique label to each axes instance.\n",
      "  ax = fig.add_subplot(1,1,1)\n",
      "/hysplit-users/alicec/utilhysplit/utilvolc/ash_inverse.py:829: VisibleDeprecationWarning: Creating an ndarray from ragged nested sequences (which is a list-or-tuple of lists-or-tuples-or ndarrays with different lengths or shapes) is deprecated. If you meant to do this, you must specify 'dtype=object' when creating the ndarray.\n",
      "  self.latlist = np.array(latlist)\n",
      "/hysplit-users/alicec/utilhysplit/utilvolc/ash_inverse.py:830: VisibleDeprecationWarning: Creating an ndarray from ragged nested sequences (which is a list-or-tuple of lists-or-tuples-or ndarrays with different lengths or shapes) is deprecated. If you meant to do this, you must specify 'dtype=object' when creating the ndarray.\n",
      "  self.lonlist = np.array(lonlist)\n",
      "/hysplit-users/alicec/utilhysplit/utilvolc/ash_inverse.py:844: VisibleDeprecationWarning: Creating an ndarray from ragged nested sequences (which is a list-or-tuple of lists-or-tuples-or ndarrays with different lengths or shapes) is deprecated. If you meant to do this, you must specify 'dtype=object' when creating the ndarray.\n",
      "  self.latlist = np.array(latlist)\n",
      "/hysplit-users/alicec/utilhysplit/utilvolc/ash_inverse.py:845: VisibleDeprecationWarning: Creating an ndarray from ragged nested sequences (which is a list-or-tuple of lists-or-tuples-or ndarrays with different lengths or shapes) is deprecated. If you meant to do this, you must specify 'dtype=object' when creating the ndarray.\n",
      "  self.lonlist = np.array(lonlist)\n"
     ]
    },
    {
     "name": "stdout",
     "output_type": "stream",
     "text": [
      "saving to  /hysplit-users/alicec/projects/bezy/RunH/RunE_6_7_TFw5/RunE_6_7_TFw5.csv\n",
      "HERE HERE HERE\n",
      "2020-10-22T02:00:00.000000000\n",
      "2020-10-22T03:00:00.000000000\n",
      "HERE /hysplit-users/alicec/projects/bezy/RunH/RunE_7_8_TFw5\n",
      "(7232, 67)\n",
      "N_ctrl 66\n",
      "output file /hysplit-users/alicec/projects/bezy/RunH/RunE_7_8_TFw5/runE4.tcm_bezyE.txt\n",
      "bezyE\n"
     ]
    },
    {
     "name": "stderr",
     "output_type": "stream",
     "text": [
      "/hysplit-users/alicec/utilhysplit/utilvolc/ash_inverse.py:596: MatplotlibDeprecationWarning: Adding an axes using the same arguments as a previous axes currently reuses the earlier instance.  In a future version, a new instance will always be created and returned.  Meanwhile, this warning can be suppressed, and the future behavior ensured, by passing a unique label to each axes instance.\n",
      "  ax = fig.add_subplot(1,1,1)\n",
      "/hysplit-users/alicec/utilhysplit/utilvolc/ash_inverse.py:829: VisibleDeprecationWarning: Creating an ndarray from ragged nested sequences (which is a list-or-tuple of lists-or-tuples-or ndarrays with different lengths or shapes) is deprecated. If you meant to do this, you must specify 'dtype=object' when creating the ndarray.\n",
      "  self.latlist = np.array(latlist)\n",
      "/hysplit-users/alicec/utilhysplit/utilvolc/ash_inverse.py:830: VisibleDeprecationWarning: Creating an ndarray from ragged nested sequences (which is a list-or-tuple of lists-or-tuples-or ndarrays with different lengths or shapes) is deprecated. If you meant to do this, you must specify 'dtype=object' when creating the ndarray.\n",
      "  self.lonlist = np.array(lonlist)\n",
      "/hysplit-users/alicec/utilhysplit/utilvolc/ash_inverse.py:844: VisibleDeprecationWarning: Creating an ndarray from ragged nested sequences (which is a list-or-tuple of lists-or-tuples-or ndarrays with different lengths or shapes) is deprecated. If you meant to do this, you must specify 'dtype=object' when creating the ndarray.\n",
      "  self.latlist = np.array(latlist)\n",
      "/hysplit-users/alicec/utilhysplit/utilvolc/ash_inverse.py:845: VisibleDeprecationWarning: Creating an ndarray from ragged nested sequences (which is a list-or-tuple of lists-or-tuples-or ndarrays with different lengths or shapes) is deprecated. If you meant to do this, you must specify 'dtype=object' when creating the ndarray.\n",
      "  self.lonlist = np.array(lonlist)\n"
     ]
    },
    {
     "name": "stdout",
     "output_type": "stream",
     "text": [
      "saving to  /hysplit-users/alicec/projects/bezy/RunH/RunE_7_8_TFw5/RunE_7_8_TFw5.csv\n",
      "HERE HERE HERE\n",
      "2020-10-22T03:00:00.000000000\n",
      "2020-10-22T04:00:00.000000000\n",
      "HERE /hysplit-users/alicec/projects/bezy/RunH/RunE_8_9_TFw5\n",
      "(7706, 67)\n",
      "N_ctrl 66\n",
      "output file /hysplit-users/alicec/projects/bezy/RunH/RunE_8_9_TFw5/runE4.tcm_bezyE.txt\n",
      "bezyE\n"
     ]
    },
    {
     "name": "stderr",
     "output_type": "stream",
     "text": [
      "/hysplit-users/alicec/utilhysplit/utilvolc/ash_inverse.py:596: MatplotlibDeprecationWarning: Adding an axes using the same arguments as a previous axes currently reuses the earlier instance.  In a future version, a new instance will always be created and returned.  Meanwhile, this warning can be suppressed, and the future behavior ensured, by passing a unique label to each axes instance.\n",
      "  ax = fig.add_subplot(1,1,1)\n",
      "/hysplit-users/alicec/utilhysplit/utilvolc/ash_inverse.py:829: VisibleDeprecationWarning: Creating an ndarray from ragged nested sequences (which is a list-or-tuple of lists-or-tuples-or ndarrays with different lengths or shapes) is deprecated. If you meant to do this, you must specify 'dtype=object' when creating the ndarray.\n",
      "  self.latlist = np.array(latlist)\n",
      "/hysplit-users/alicec/utilhysplit/utilvolc/ash_inverse.py:830: VisibleDeprecationWarning: Creating an ndarray from ragged nested sequences (which is a list-or-tuple of lists-or-tuples-or ndarrays with different lengths or shapes) is deprecated. If you meant to do this, you must specify 'dtype=object' when creating the ndarray.\n",
      "  self.lonlist = np.array(lonlist)\n",
      "/hysplit-users/alicec/utilhysplit/utilvolc/ash_inverse.py:844: VisibleDeprecationWarning: Creating an ndarray from ragged nested sequences (which is a list-or-tuple of lists-or-tuples-or ndarrays with different lengths or shapes) is deprecated. If you meant to do this, you must specify 'dtype=object' when creating the ndarray.\n",
      "  self.latlist = np.array(latlist)\n",
      "/hysplit-users/alicec/utilhysplit/utilvolc/ash_inverse.py:845: VisibleDeprecationWarning: Creating an ndarray from ragged nested sequences (which is a list-or-tuple of lists-or-tuples-or ndarrays with different lengths or shapes) is deprecated. If you meant to do this, you must specify 'dtype=object' when creating the ndarray.\n",
      "  self.lonlist = np.array(lonlist)\n"
     ]
    },
    {
     "name": "stdout",
     "output_type": "stream",
     "text": [
      "saving to  /hysplit-users/alicec/projects/bezy/RunH/RunE_8_9_TFw5/RunE_8_9_TFw5.csv\n",
      "HERE HERE HERE\n",
      "2020-10-22T04:00:00.000000000\n",
      "2020-10-22T05:00:00.000000000\n",
      "HERE /hysplit-users/alicec/projects/bezy/RunH/RunE_9_10_TFw5\n",
      "(7888, 67)\n",
      "N_ctrl 66\n",
      "output file /hysplit-users/alicec/projects/bezy/RunH/RunE_9_10_TFw5/runE4.tcm_bezyE.txt\n",
      "bezyE\n"
     ]
    },
    {
     "name": "stderr",
     "output_type": "stream",
     "text": [
      "/hysplit-users/alicec/utilhysplit/utilvolc/ash_inverse.py:596: MatplotlibDeprecationWarning: Adding an axes using the same arguments as a previous axes currently reuses the earlier instance.  In a future version, a new instance will always be created and returned.  Meanwhile, this warning can be suppressed, and the future behavior ensured, by passing a unique label to each axes instance.\n",
      "  ax = fig.add_subplot(1,1,1)\n",
      "/hysplit-users/alicec/utilhysplit/utilvolc/ash_inverse.py:829: VisibleDeprecationWarning: Creating an ndarray from ragged nested sequences (which is a list-or-tuple of lists-or-tuples-or ndarrays with different lengths or shapes) is deprecated. If you meant to do this, you must specify 'dtype=object' when creating the ndarray.\n",
      "  self.latlist = np.array(latlist)\n",
      "/hysplit-users/alicec/utilhysplit/utilvolc/ash_inverse.py:830: VisibleDeprecationWarning: Creating an ndarray from ragged nested sequences (which is a list-or-tuple of lists-or-tuples-or ndarrays with different lengths or shapes) is deprecated. If you meant to do this, you must specify 'dtype=object' when creating the ndarray.\n",
      "  self.lonlist = np.array(lonlist)\n",
      "/hysplit-users/alicec/utilhysplit/utilvolc/ash_inverse.py:844: VisibleDeprecationWarning: Creating an ndarray from ragged nested sequences (which is a list-or-tuple of lists-or-tuples-or ndarrays with different lengths or shapes) is deprecated. If you meant to do this, you must specify 'dtype=object' when creating the ndarray.\n",
      "  self.latlist = np.array(latlist)\n",
      "/hysplit-users/alicec/utilhysplit/utilvolc/ash_inverse.py:845: VisibleDeprecationWarning: Creating an ndarray from ragged nested sequences (which is a list-or-tuple of lists-or-tuples-or ndarrays with different lengths or shapes) is deprecated. If you meant to do this, you must specify 'dtype=object' when creating the ndarray.\n",
      "  self.lonlist = np.array(lonlist)\n"
     ]
    },
    {
     "name": "stdout",
     "output_type": "stream",
     "text": [
      "saving to  /hysplit-users/alicec/projects/bezy/RunH/RunE_9_10_TFw5/RunE_9_10_TFw5.csv\n",
      "HERE HERE HERE\n",
      "2020-10-22T05:00:00.000000000\n",
      "2020-10-22T06:00:00.000000000\n",
      "HERE /hysplit-users/alicec/projects/bezy/RunH/RunE_10_11_TFw5\n",
      "(8515, 67)\n",
      "N_ctrl 66\n",
      "output file /hysplit-users/alicec/projects/bezy/RunH/RunE_10_11_TFw5/runE4.tcm_bezyE.txt\n",
      "bezyE\n",
      "saving to  /hysplit-users/alicec/projects/bezy/RunH/RunE_10_11_TFw5/RunE_10_11_TFw5.csv\n"
     ]
    },
    {
     "name": "stderr",
     "output_type": "stream",
     "text": [
      "/hysplit-users/alicec/utilhysplit/utilvolc/ash_inverse.py:596: MatplotlibDeprecationWarning: Adding an axes using the same arguments as a previous axes currently reuses the earlier instance.  In a future version, a new instance will always be created and returned.  Meanwhile, this warning can be suppressed, and the future behavior ensured, by passing a unique label to each axes instance.\n",
      "  ax = fig.add_subplot(1,1,1)\n"
     ]
    },
    {
     "data": {
      "image/png": "[encoded data removed]",
      "text/plain": [
       "<Figure size 432x288 with 1 Axes>"
      ]
     },
     "metadata": {},
     "output_type": "display_data"
    }
   ],
   "source": [
    "%autoreload\n",
    "# creates emit-times, CONTROL and SETUP files for HYSPLIT runs.\n",
    "# Note that warning that meteorological files not found is ok.\n",
    "\n",
    "%autoreload\n",
    "\n",
    "tiilist = [[2,3],[2,3,4],[2,3,4,5],[2,3,4,5,6],[2,3,4,5,6,7],[2,3,4,5,6,7,8],[2,3,4,5,6,7,8,9],\n",
    "           [2,3,4,5,6,7,8,9,10],[2,3,4,5,6,7,8,9,10,11]]  #times to assimilate in inversion algorithm.\n",
    "remove_cols=True    # removes columns with no model values in them.\n",
    "remove_rows=False    # removes clear sky observations\n",
    "remove_sources = False\n",
    "remove_ncs=5\n",
    "for tii in tiilist:\n",
    "    print('tii', tii)\n",
    "    makerun(tii,remove_cols,remove_rows,remove_sources,remove_ncs)\n",
    "    \n",
    "    #inverse.make_efile(vloc=vloc)\n",
    "    #inverse.run_hysplit()\n",
    "\n",
    "tiilist = [[2,3],[3,4],[4,5],[5,6],[6,7],[7,8],[8,9],[9,10],[10,11]]\n",
    "remove_cols=True    # removes columns with no model values in them.\n",
    "remove_rows=False    # removes clear sky observations\n",
    "remove_sources = False\n",
    "remove_ncs=5\n",
    "for tii in tiilist:\n",
    "    makerun(tii,remove_cols,remove_rows,remove_sources,remove_ncs)\n",
    "    #inverse.make_efile(vloc=vloc)\n",
    "    #inverse.run_hysplit()"
   ]
  },
  {
   "cell_type": "markdown",
   "metadata": {},
   "source": [
    "## For comparision with RunC"
   ]
  },
  {
   "cell_type": "code",
   "execution_count": 483,
   "metadata": {},
   "outputs": [
    {
     "name": "stdout",
     "output_type": "stream",
     "text": [
      "2020-10-21T21:00:00.000000000\n",
      "2020-10-21T22:00:00.000000000\n",
      "(2671, 45)\n",
      "N_ctrl 44\n",
      "output file /hysplit-users/alicec/projects/bezy/RunB/RunB_2_3_TFw5/runB4.tcm_bezyB.txt\n"
     ]
    },
    {
     "name": "stderr",
     "output_type": "stream",
     "text": [
      "/hysplit-users/alicec/utilhysplit/utilvolc/ash_inverse.py:829: VisibleDeprecationWarning: Creating an ndarray from ragged nested sequences (which is a list-or-tuple of lists-or-tuples-or ndarrays with different lengths or shapes) is deprecated. If you meant to do this, you must specify 'dtype=object' when creating the ndarray.\n",
      "  return t3, lat, lon\n",
      "/hysplit-users/alicec/utilhysplit/utilvolc/ash_inverse.py:830: VisibleDeprecationWarning: Creating an ndarray from ragged nested sequences (which is a list-or-tuple of lists-or-tuples-or ndarrays with different lengths or shapes) is deprecated. If you meant to do this, you must specify 'dtype=object' when creating the ndarray.\n",
      "  \n",
      "/hysplit-users/alicec/utilhysplit/utilvolc/ash_inverse.py:844: VisibleDeprecationWarning: Creating an ndarray from ragged nested sequences (which is a list-or-tuple of lists-or-tuples-or ndarrays with different lengths or shapes) is deprecated. If you meant to do this, you must specify 'dtype=object' when creating the ndarray.\n",
      "  # original above zero observations.\n",
      "/hysplit-users/alicec/utilhysplit/utilvolc/ash_inverse.py:845: VisibleDeprecationWarning: Creating an ndarray from ragged nested sequences (which is a list-or-tuple of lists-or-tuples-or ndarrays with different lengths or shapes) is deprecated. If you meant to do this, you must specify 'dtype=object' when creating the ndarray.\n",
      "  # value of 0 in areas near to the above zero observations\n"
     ]
    },
    {
     "name": "stdout",
     "output_type": "stream",
     "text": [
      "bezyB\n",
      "saving to  /hysplit-users/alicec/projects/bezy/RunB/RunB_2_3_TFw5/RunB_2_3_TFw5.csv\n",
      "2020-10-21T21:00:00.000000000\n",
      "2020-10-21T22:00:00.000000000\n",
      "2020-10-21T23:00:00.000000000\n",
      "(4904, 56)\n",
      "N_ctrl 55\n",
      "output file /hysplit-users/alicec/projects/bezy/RunB/RunB_2_3_4_TFw5/runB4.tcm_bezyB.txt\n"
     ]
    },
    {
     "name": "stderr",
     "output_type": "stream",
     "text": [
      "/hysplit-users/alicec/utilhysplit/utilvolc/ash_inverse.py:829: VisibleDeprecationWarning: Creating an ndarray from ragged nested sequences (which is a list-or-tuple of lists-or-tuples-or ndarrays with different lengths or shapes) is deprecated. If you meant to do this, you must specify 'dtype=object' when creating the ndarray.\n",
      "  return t3, lat, lon\n",
      "/hysplit-users/alicec/utilhysplit/utilvolc/ash_inverse.py:830: VisibleDeprecationWarning: Creating an ndarray from ragged nested sequences (which is a list-or-tuple of lists-or-tuples-or ndarrays with different lengths or shapes) is deprecated. If you meant to do this, you must specify 'dtype=object' when creating the ndarray.\n",
      "  \n",
      "/hysplit-users/alicec/utilhysplit/utilvolc/ash_inverse.py:844: VisibleDeprecationWarning: Creating an ndarray from ragged nested sequences (which is a list-or-tuple of lists-or-tuples-or ndarrays with different lengths or shapes) is deprecated. If you meant to do this, you must specify 'dtype=object' when creating the ndarray.\n",
      "  # original above zero observations.\n",
      "/hysplit-users/alicec/utilhysplit/utilvolc/ash_inverse.py:845: VisibleDeprecationWarning: Creating an ndarray from ragged nested sequences (which is a list-or-tuple of lists-or-tuples-or ndarrays with different lengths or shapes) is deprecated. If you meant to do this, you must specify 'dtype=object' when creating the ndarray.\n",
      "  # value of 0 in areas near to the above zero observations\n"
     ]
    },
    {
     "name": "stdout",
     "output_type": "stream",
     "text": [
      "bezyB\n"
     ]
    },
    {
     "name": "stderr",
     "output_type": "stream",
     "text": [
      "/hysplit-users/alicec/utilhysplit/utilvolc/ash_inverse.py:596: MatplotlibDeprecationWarning: Adding an axes using the same arguments as a previous axes currently reuses the earlier instance.  In a future version, a new instance will always be created and returned.  Meanwhile, this warning can be suppressed, and the future behavior ensured, by passing a unique label to each axes instance.\n",
      "  def make_tcm_mult(self,tiilist,remove_cols=True,remove_rows=True,\n",
      "/hysplit-users/alicec/utilhysplit/utilvolc/ash_inverse.py:829: VisibleDeprecationWarning: Creating an ndarray from ragged nested sequences (which is a list-or-tuple of lists-or-tuples-or ndarrays with different lengths or shapes) is deprecated. If you meant to do this, you must specify 'dtype=object' when creating the ndarray.\n",
      "  return t3, lat, lon\n",
      "/hysplit-users/alicec/utilhysplit/utilvolc/ash_inverse.py:830: VisibleDeprecationWarning: Creating an ndarray from ragged nested sequences (which is a list-or-tuple of lists-or-tuples-or ndarrays with different lengths or shapes) is deprecated. If you meant to do this, you must specify 'dtype=object' when creating the ndarray.\n",
      "  \n",
      "/hysplit-users/alicec/utilhysplit/utilvolc/ash_inverse.py:844: VisibleDeprecationWarning: Creating an ndarray from ragged nested sequences (which is a list-or-tuple of lists-or-tuples-or ndarrays with different lengths or shapes) is deprecated. If you meant to do this, you must specify 'dtype=object' when creating the ndarray.\n",
      "  # original above zero observations.\n",
      "/hysplit-users/alicec/utilhysplit/utilvolc/ash_inverse.py:845: VisibleDeprecationWarning: Creating an ndarray from ragged nested sequences (which is a list-or-tuple of lists-or-tuples-or ndarrays with different lengths or shapes) is deprecated. If you meant to do this, you must specify 'dtype=object' when creating the ndarray.\n",
      "  # value of 0 in areas near to the above zero observations\n"
     ]
    },
    {
     "name": "stdout",
     "output_type": "stream",
     "text": [
      "saving to  /hysplit-users/alicec/projects/bezy/RunB/RunB_2_3_4_TFw5/RunB_2_3_4_TFw5.csv\n",
      "2020-10-21T23:00:00.000000000\n",
      "2020-10-22T00:00:00.000000000\n",
      "2020-10-22T01:00:00.000000000\n",
      "(9043, 67)\n",
      "N_ctrl 66\n",
      "output file /hysplit-users/alicec/projects/bezy/RunB/RunB_4_5_6_TFw5/runB4.tcm_bezyB.txt\n",
      "bezyB\n"
     ]
    },
    {
     "name": "stderr",
     "output_type": "stream",
     "text": [
      "/hysplit-users/alicec/utilhysplit/utilvolc/ash_inverse.py:596: MatplotlibDeprecationWarning: Adding an axes using the same arguments as a previous axes currently reuses the earlier instance.  In a future version, a new instance will always be created and returned.  Meanwhile, this warning can be suppressed, and the future behavior ensured, by passing a unique label to each axes instance.\n",
      "  def make_tcm_mult(self,tiilist,remove_cols=True,remove_rows=True,\n",
      "/hysplit-users/alicec/utilhysplit/utilvolc/ash_inverse.py:829: VisibleDeprecationWarning: Creating an ndarray from ragged nested sequences (which is a list-or-tuple of lists-or-tuples-or ndarrays with different lengths or shapes) is deprecated. If you meant to do this, you must specify 'dtype=object' when creating the ndarray.\n",
      "  return t3, lat, lon\n",
      "/hysplit-users/alicec/utilhysplit/utilvolc/ash_inverse.py:830: VisibleDeprecationWarning: Creating an ndarray from ragged nested sequences (which is a list-or-tuple of lists-or-tuples-or ndarrays with different lengths or shapes) is deprecated. If you meant to do this, you must specify 'dtype=object' when creating the ndarray.\n",
      "  \n",
      "/hysplit-users/alicec/utilhysplit/utilvolc/ash_inverse.py:844: VisibleDeprecationWarning: Creating an ndarray from ragged nested sequences (which is a list-or-tuple of lists-or-tuples-or ndarrays with different lengths or shapes) is deprecated. If you meant to do this, you must specify 'dtype=object' when creating the ndarray.\n",
      "  # original above zero observations.\n",
      "/hysplit-users/alicec/utilhysplit/utilvolc/ash_inverse.py:845: VisibleDeprecationWarning: Creating an ndarray from ragged nested sequences (which is a list-or-tuple of lists-or-tuples-or ndarrays with different lengths or shapes) is deprecated. If you meant to do this, you must specify 'dtype=object' when creating the ndarray.\n",
      "  # value of 0 in areas near to the above zero observations\n"
     ]
    },
    {
     "name": "stdout",
     "output_type": "stream",
     "text": [
      "saving to  /hysplit-users/alicec/projects/bezy/RunB/RunB_4_5_6_TFw5/RunB_4_5_6_TFw5.csv\n",
      "2020-10-21T21:00:00.000000000\n",
      "2020-10-21T22:00:00.000000000\n",
      "(202, 45)\n",
      "N_ctrl 44\n",
      "output file /hysplit-users/alicec/projects/bezy/RunB/RunB_2_3_TT/runB4.tcm_bezyB.txt\n",
      "bezyB\n"
     ]
    },
    {
     "name": "stderr",
     "output_type": "stream",
     "text": [
      "/hysplit-users/alicec/utilhysplit/utilvolc/ash_inverse.py:596: MatplotlibDeprecationWarning: Adding an axes using the same arguments as a previous axes currently reuses the earlier instance.  In a future version, a new instance will always be created and returned.  Meanwhile, this warning can be suppressed, and the future behavior ensured, by passing a unique label to each axes instance.\n",
      "  def make_tcm_mult(self,tiilist,remove_cols=True,remove_rows=True,\n",
      "/hysplit-users/alicec/utilhysplit/utilvolc/ash_inverse.py:829: VisibleDeprecationWarning: Creating an ndarray from ragged nested sequences (which is a list-or-tuple of lists-or-tuples-or ndarrays with different lengths or shapes) is deprecated. If you meant to do this, you must specify 'dtype=object' when creating the ndarray.\n",
      "  return t3, lat, lon\n",
      "/hysplit-users/alicec/utilhysplit/utilvolc/ash_inverse.py:830: VisibleDeprecationWarning: Creating an ndarray from ragged nested sequences (which is a list-or-tuple of lists-or-tuples-or ndarrays with different lengths or shapes) is deprecated. If you meant to do this, you must specify 'dtype=object' when creating the ndarray.\n",
      "  \n",
      "/hysplit-users/alicec/utilhysplit/utilvolc/ash_inverse.py:844: VisibleDeprecationWarning: Creating an ndarray from ragged nested sequences (which is a list-or-tuple of lists-or-tuples-or ndarrays with different lengths or shapes) is deprecated. If you meant to do this, you must specify 'dtype=object' when creating the ndarray.\n",
      "  # original above zero observations.\n",
      "/hysplit-users/alicec/utilhysplit/utilvolc/ash_inverse.py:845: VisibleDeprecationWarning: Creating an ndarray from ragged nested sequences (which is a list-or-tuple of lists-or-tuples-or ndarrays with different lengths or shapes) is deprecated. If you meant to do this, you must specify 'dtype=object' when creating the ndarray.\n",
      "  # value of 0 in areas near to the above zero observations\n"
     ]
    },
    {
     "name": "stdout",
     "output_type": "stream",
     "text": [
      "saving to  /hysplit-users/alicec/projects/bezy/RunB/RunB_2_3_TT/RunB_2_3_TT.csv\n",
      "2020-10-21T21:00:00.000000000\n",
      "2020-10-21T22:00:00.000000000\n",
      "2020-10-21T23:00:00.000000000\n",
      "(421, 56)\n",
      "N_ctrl 55\n",
      "output file /hysplit-users/alicec/projects/bezy/RunB/RunB_2_3_4_TT/runB4.tcm_bezyB.txt\n",
      "bezyB\n"
     ]
    },
    {
     "name": "stderr",
     "output_type": "stream",
     "text": [
      "/hysplit-users/alicec/utilhysplit/utilvolc/ash_inverse.py:596: MatplotlibDeprecationWarning: Adding an axes using the same arguments as a previous axes currently reuses the earlier instance.  In a future version, a new instance will always be created and returned.  Meanwhile, this warning can be suppressed, and the future behavior ensured, by passing a unique label to each axes instance.\n",
      "  def make_tcm_mult(self,tiilist,remove_cols=True,remove_rows=True,\n",
      "/hysplit-users/alicec/utilhysplit/utilvolc/ash_inverse.py:829: VisibleDeprecationWarning: Creating an ndarray from ragged nested sequences (which is a list-or-tuple of lists-or-tuples-or ndarrays with different lengths or shapes) is deprecated. If you meant to do this, you must specify 'dtype=object' when creating the ndarray.\n",
      "  return t3, lat, lon\n",
      "/hysplit-users/alicec/utilhysplit/utilvolc/ash_inverse.py:830: VisibleDeprecationWarning: Creating an ndarray from ragged nested sequences (which is a list-or-tuple of lists-or-tuples-or ndarrays with different lengths or shapes) is deprecated. If you meant to do this, you must specify 'dtype=object' when creating the ndarray.\n",
      "  \n",
      "/hysplit-users/alicec/utilhysplit/utilvolc/ash_inverse.py:844: VisibleDeprecationWarning: Creating an ndarray from ragged nested sequences (which is a list-or-tuple of lists-or-tuples-or ndarrays with different lengths or shapes) is deprecated. If you meant to do this, you must specify 'dtype=object' when creating the ndarray.\n",
      "  # original above zero observations.\n",
      "/hysplit-users/alicec/utilhysplit/utilvolc/ash_inverse.py:845: VisibleDeprecationWarning: Creating an ndarray from ragged nested sequences (which is a list-or-tuple of lists-or-tuples-or ndarrays with different lengths or shapes) is deprecated. If you meant to do this, you must specify 'dtype=object' when creating the ndarray.\n",
      "  # value of 0 in areas near to the above zero observations\n"
     ]
    },
    {
     "name": "stdout",
     "output_type": "stream",
     "text": [
      "saving to  /hysplit-users/alicec/projects/bezy/RunB/RunB_2_3_4_TT/RunB_2_3_4_TT.csv\n",
      "2020-10-21T23:00:00.000000000\n",
      "2020-10-22T00:00:00.000000000\n",
      "2020-10-22T01:00:00.000000000\n",
      "(610, 67)\n",
      "N_ctrl 66\n",
      "output file /hysplit-users/alicec/projects/bezy/RunB/RunB_4_5_6_TT/runB4.tcm_bezyB.txt\n",
      "bezyB\n"
     ]
    },
    {
     "name": "stderr",
     "output_type": "stream",
     "text": [
      "/hysplit-users/alicec/utilhysplit/utilvolc/ash_inverse.py:596: MatplotlibDeprecationWarning: Adding an axes using the same arguments as a previous axes currently reuses the earlier instance.  In a future version, a new instance will always be created and returned.  Meanwhile, this warning can be suppressed, and the future behavior ensured, by passing a unique label to each axes instance.\n",
      "  def make_tcm_mult(self,tiilist,remove_cols=True,remove_rows=True,\n",
      "/hysplit-users/alicec/utilhysplit/utilvolc/ash_inverse.py:829: VisibleDeprecationWarning: Creating an ndarray from ragged nested sequences (which is a list-or-tuple of lists-or-tuples-or ndarrays with different lengths or shapes) is deprecated. If you meant to do this, you must specify 'dtype=object' when creating the ndarray.\n",
      "  return t3, lat, lon\n",
      "/hysplit-users/alicec/utilhysplit/utilvolc/ash_inverse.py:830: VisibleDeprecationWarning: Creating an ndarray from ragged nested sequences (which is a list-or-tuple of lists-or-tuples-or ndarrays with different lengths or shapes) is deprecated. If you meant to do this, you must specify 'dtype=object' when creating the ndarray.\n",
      "  \n",
      "/hysplit-users/alicec/utilhysplit/utilvolc/ash_inverse.py:844: VisibleDeprecationWarning: Creating an ndarray from ragged nested sequences (which is a list-or-tuple of lists-or-tuples-or ndarrays with different lengths or shapes) is deprecated. If you meant to do this, you must specify 'dtype=object' when creating the ndarray.\n",
      "  # original above zero observations.\n",
      "/hysplit-users/alicec/utilhysplit/utilvolc/ash_inverse.py:845: VisibleDeprecationWarning: Creating an ndarray from ragged nested sequences (which is a list-or-tuple of lists-or-tuples-or ndarrays with different lengths or shapes) is deprecated. If you meant to do this, you must specify 'dtype=object' when creating the ndarray.\n",
      "  # value of 0 in areas near to the above zero observations\n"
     ]
    },
    {
     "name": "stdout",
     "output_type": "stream",
     "text": [
      "saving to  /hysplit-users/alicec/projects/bezy/RunB/RunB_4_5_6_TT/RunB_4_5_6_TT.csv\n",
      "2020-10-21T21:00:00.000000000\n",
      "2020-10-21T22:00:00.000000000\n",
      "(2933, 45)\n",
      "N_ctrl 44\n",
      "output file /hysplit-users/alicec/projects/bezy/RunB/RunB_2_3_TF/runB4.tcm_bezyB.txt\n",
      "bezyB\n"
     ]
    },
    {
     "name": "stderr",
     "output_type": "stream",
     "text": [
      "/hysplit-users/alicec/utilhysplit/utilvolc/ash_inverse.py:596: MatplotlibDeprecationWarning: Adding an axes using the same arguments as a previous axes currently reuses the earlier instance.  In a future version, a new instance will always be created and returned.  Meanwhile, this warning can be suppressed, and the future behavior ensured, by passing a unique label to each axes instance.\n",
      "  def make_tcm_mult(self,tiilist,remove_cols=True,remove_rows=True,\n",
      "/hysplit-users/alicec/utilhysplit/utilvolc/ash_inverse.py:829: VisibleDeprecationWarning: Creating an ndarray from ragged nested sequences (which is a list-or-tuple of lists-or-tuples-or ndarrays with different lengths or shapes) is deprecated. If you meant to do this, you must specify 'dtype=object' when creating the ndarray.\n",
      "  return t3, lat, lon\n",
      "/hysplit-users/alicec/utilhysplit/utilvolc/ash_inverse.py:830: VisibleDeprecationWarning: Creating an ndarray from ragged nested sequences (which is a list-or-tuple of lists-or-tuples-or ndarrays with different lengths or shapes) is deprecated. If you meant to do this, you must specify 'dtype=object' when creating the ndarray.\n",
      "  \n",
      "/hysplit-users/alicec/utilhysplit/utilvolc/ash_inverse.py:844: VisibleDeprecationWarning: Creating an ndarray from ragged nested sequences (which is a list-or-tuple of lists-or-tuples-or ndarrays with different lengths or shapes) is deprecated. If you meant to do this, you must specify 'dtype=object' when creating the ndarray.\n",
      "  # original above zero observations.\n",
      "/hysplit-users/alicec/utilhysplit/utilvolc/ash_inverse.py:845: VisibleDeprecationWarning: Creating an ndarray from ragged nested sequences (which is a list-or-tuple of lists-or-tuples-or ndarrays with different lengths or shapes) is deprecated. If you meant to do this, you must specify 'dtype=object' when creating the ndarray.\n",
      "  # value of 0 in areas near to the above zero observations\n"
     ]
    },
    {
     "name": "stdout",
     "output_type": "stream",
     "text": [
      "saving to  /hysplit-users/alicec/projects/bezy/RunB/RunB_2_3_TF/RunB_2_3_TF.csv\n",
      "2020-10-21T21:00:00.000000000\n",
      "2020-10-21T22:00:00.000000000\n",
      "2020-10-21T23:00:00.000000000\n",
      "(5381, 56)\n",
      "N_ctrl 55\n",
      "output file /hysplit-users/alicec/projects/bezy/RunB/RunB_2_3_4_TF/runB4.tcm_bezyB.txt\n",
      "bezyB\n"
     ]
    },
    {
     "name": "stderr",
     "output_type": "stream",
     "text": [
      "/hysplit-users/alicec/utilhysplit/utilvolc/ash_inverse.py:596: MatplotlibDeprecationWarning: Adding an axes using the same arguments as a previous axes currently reuses the earlier instance.  In a future version, a new instance will always be created and returned.  Meanwhile, this warning can be suppressed, and the future behavior ensured, by passing a unique label to each axes instance.\n",
      "  def make_tcm_mult(self,tiilist,remove_cols=True,remove_rows=True,\n",
      "/hysplit-users/alicec/utilhysplit/utilvolc/ash_inverse.py:829: VisibleDeprecationWarning: Creating an ndarray from ragged nested sequences (which is a list-or-tuple of lists-or-tuples-or ndarrays with different lengths or shapes) is deprecated. If you meant to do this, you must specify 'dtype=object' when creating the ndarray.\n",
      "  return t3, lat, lon\n",
      "/hysplit-users/alicec/utilhysplit/utilvolc/ash_inverse.py:830: VisibleDeprecationWarning: Creating an ndarray from ragged nested sequences (which is a list-or-tuple of lists-or-tuples-or ndarrays with different lengths or shapes) is deprecated. If you meant to do this, you must specify 'dtype=object' when creating the ndarray.\n",
      "  \n",
      "/hysplit-users/alicec/utilhysplit/utilvolc/ash_inverse.py:844: VisibleDeprecationWarning: Creating an ndarray from ragged nested sequences (which is a list-or-tuple of lists-or-tuples-or ndarrays with different lengths or shapes) is deprecated. If you meant to do this, you must specify 'dtype=object' when creating the ndarray.\n",
      "  # original above zero observations.\n",
      "/hysplit-users/alicec/utilhysplit/utilvolc/ash_inverse.py:845: VisibleDeprecationWarning: Creating an ndarray from ragged nested sequences (which is a list-or-tuple of lists-or-tuples-or ndarrays with different lengths or shapes) is deprecated. If you meant to do this, you must specify 'dtype=object' when creating the ndarray.\n",
      "  # value of 0 in areas near to the above zero observations\n"
     ]
    },
    {
     "name": "stdout",
     "output_type": "stream",
     "text": [
      "saving to  /hysplit-users/alicec/projects/bezy/RunB/RunB_2_3_4_TF/RunB_2_3_4_TF.csv\n",
      "2020-10-21T23:00:00.000000000\n",
      "2020-10-22T00:00:00.000000000\n",
      "2020-10-22T01:00:00.000000000\n",
      "(9846, 67)\n",
      "N_ctrl 66\n",
      "output file /hysplit-users/alicec/projects/bezy/RunB/RunB_4_5_6_TF/runB4.tcm_bezyB.txt\n",
      "bezyB\n"
     ]
    },
    {
     "name": "stderr",
     "output_type": "stream",
     "text": [
      "/hysplit-users/alicec/utilhysplit/utilvolc/ash_inverse.py:596: MatplotlibDeprecationWarning: Adding an axes using the same arguments as a previous axes currently reuses the earlier instance.  In a future version, a new instance will always be created and returned.  Meanwhile, this warning can be suppressed, and the future behavior ensured, by passing a unique label to each axes instance.\n",
      "  def make_tcm_mult(self,tiilist,remove_cols=True,remove_rows=True,\n",
      "/hysplit-users/alicec/utilhysplit/utilvolc/ash_inverse.py:829: VisibleDeprecationWarning: Creating an ndarray from ragged nested sequences (which is a list-or-tuple of lists-or-tuples-or ndarrays with different lengths or shapes) is deprecated. If you meant to do this, you must specify 'dtype=object' when creating the ndarray.\n",
      "  return t3, lat, lon\n",
      "/hysplit-users/alicec/utilhysplit/utilvolc/ash_inverse.py:830: VisibleDeprecationWarning: Creating an ndarray from ragged nested sequences (which is a list-or-tuple of lists-or-tuples-or ndarrays with different lengths or shapes) is deprecated. If you meant to do this, you must specify 'dtype=object' when creating the ndarray.\n",
      "  \n",
      "/hysplit-users/alicec/utilhysplit/utilvolc/ash_inverse.py:844: VisibleDeprecationWarning: Creating an ndarray from ragged nested sequences (which is a list-or-tuple of lists-or-tuples-or ndarrays with different lengths or shapes) is deprecated. If you meant to do this, you must specify 'dtype=object' when creating the ndarray.\n",
      "  # original above zero observations.\n",
      "/hysplit-users/alicec/utilhysplit/utilvolc/ash_inverse.py:845: VisibleDeprecationWarning: Creating an ndarray from ragged nested sequences (which is a list-or-tuple of lists-or-tuples-or ndarrays with different lengths or shapes) is deprecated. If you meant to do this, you must specify 'dtype=object' when creating the ndarray.\n",
      "  # value of 0 in areas near to the above zero observations\n"
     ]
    },
    {
     "name": "stdout",
     "output_type": "stream",
     "text": [
      "saving to  /hysplit-users/alicec/projects/bezy/RunB/RunB_4_5_6_TF/RunB_4_5_6_TF.csv\n",
      "2020-10-22T02:00:00.000000000\n",
      "2020-10-22T03:00:00.000000000\n",
      "(10153, 67)\n",
      "N_ctrl 66\n",
      "output file /hysplit-users/alicec/projects/bezy/RunB/RunB_7_8_TFw7/runB4.tcm_bezyB.txt\n",
      "bezyB\n"
     ]
    },
    {
     "name": "stderr",
     "output_type": "stream",
     "text": [
      "/hysplit-users/alicec/utilhysplit/utilvolc/ash_inverse.py:596: MatplotlibDeprecationWarning: Adding an axes using the same arguments as a previous axes currently reuses the earlier instance.  In a future version, a new instance will always be created and returned.  Meanwhile, this warning can be suppressed, and the future behavior ensured, by passing a unique label to each axes instance.\n",
      "  def make_tcm_mult(self,tiilist,remove_cols=True,remove_rows=True,\n",
      "/hysplit-users/alicec/utilhysplit/utilvolc/ash_inverse.py:829: VisibleDeprecationWarning: Creating an ndarray from ragged nested sequences (which is a list-or-tuple of lists-or-tuples-or ndarrays with different lengths or shapes) is deprecated. If you meant to do this, you must specify 'dtype=object' when creating the ndarray.\n",
      "  return t3, lat, lon\n",
      "/hysplit-users/alicec/utilhysplit/utilvolc/ash_inverse.py:830: VisibleDeprecationWarning: Creating an ndarray from ragged nested sequences (which is a list-or-tuple of lists-or-tuples-or ndarrays with different lengths or shapes) is deprecated. If you meant to do this, you must specify 'dtype=object' when creating the ndarray.\n",
      "  \n",
      "/hysplit-users/alicec/utilhysplit/utilvolc/ash_inverse.py:844: VisibleDeprecationWarning: Creating an ndarray from ragged nested sequences (which is a list-or-tuple of lists-or-tuples-or ndarrays with different lengths or shapes) is deprecated. If you meant to do this, you must specify 'dtype=object' when creating the ndarray.\n",
      "  # original above zero observations.\n",
      "/hysplit-users/alicec/utilhysplit/utilvolc/ash_inverse.py:845: VisibleDeprecationWarning: Creating an ndarray from ragged nested sequences (which is a list-or-tuple of lists-or-tuples-or ndarrays with different lengths or shapes) is deprecated. If you meant to do this, you must specify 'dtype=object' when creating the ndarray.\n",
      "  # value of 0 in areas near to the above zero observations\n"
     ]
    },
    {
     "name": "stdout",
     "output_type": "stream",
     "text": [
      "saving to  /hysplit-users/alicec/projects/bezy/RunB/RunB_7_8_TFw7/RunB_7_8_TFw7.csv\n",
      "2020-10-22T04:00:00.000000000\n",
      "2020-10-22T05:00:00.000000000\n",
      "2020-10-22T06:00:00.000000000\n",
      "(22704, 67)\n",
      "N_ctrl 66\n",
      "output file /hysplit-users/alicec/projects/bezy/RunB/RunB_9_10_11_TFw7/runB4.tcm_bezyB.txt\n",
      "bezyB\n"
     ]
    },
    {
     "name": "stderr",
     "output_type": "stream",
     "text": [
      "/hysplit-users/alicec/utilhysplit/utilvolc/ash_inverse.py:596: MatplotlibDeprecationWarning: Adding an axes using the same arguments as a previous axes currently reuses the earlier instance.  In a future version, a new instance will always be created and returned.  Meanwhile, this warning can be suppressed, and the future behavior ensured, by passing a unique label to each axes instance.\n",
      "  def make_tcm_mult(self,tiilist,remove_cols=True,remove_rows=True,\n",
      "/hysplit-users/alicec/utilhysplit/utilvolc/ash_inverse.py:829: VisibleDeprecationWarning: Creating an ndarray from ragged nested sequences (which is a list-or-tuple of lists-or-tuples-or ndarrays with different lengths or shapes) is deprecated. If you meant to do this, you must specify 'dtype=object' when creating the ndarray.\n",
      "  return t3, lat, lon\n",
      "/hysplit-users/alicec/utilhysplit/utilvolc/ash_inverse.py:830: VisibleDeprecationWarning: Creating an ndarray from ragged nested sequences (which is a list-or-tuple of lists-or-tuples-or ndarrays with different lengths or shapes) is deprecated. If you meant to do this, you must specify 'dtype=object' when creating the ndarray.\n",
      "  \n",
      "/hysplit-users/alicec/utilhysplit/utilvolc/ash_inverse.py:844: VisibleDeprecationWarning: Creating an ndarray from ragged nested sequences (which is a list-or-tuple of lists-or-tuples-or ndarrays with different lengths or shapes) is deprecated. If you meant to do this, you must specify 'dtype=object' when creating the ndarray.\n",
      "  # original above zero observations.\n",
      "/hysplit-users/alicec/utilhysplit/utilvolc/ash_inverse.py:845: VisibleDeprecationWarning: Creating an ndarray from ragged nested sequences (which is a list-or-tuple of lists-or-tuples-or ndarrays with different lengths or shapes) is deprecated. If you meant to do this, you must specify 'dtype=object' when creating the ndarray.\n",
      "  # value of 0 in areas near to the above zero observations\n"
     ]
    },
    {
     "name": "stdout",
     "output_type": "stream",
     "text": [
      "saving to  /hysplit-users/alicec/projects/bezy/RunB/RunB_9_10_11_TFw7/RunB_9_10_11_TFw7.csv\n",
      "2020-10-21T21:00:00.000000000\n",
      "2020-10-21T22:00:00.000000000\n",
      "2020-10-21T23:00:00.000000000\n",
      "2020-10-22T00:00:00.000000000\n",
      "2020-10-22T01:00:00.000000000\n",
      "2020-10-22T02:00:00.000000000\n",
      "2020-10-22T03:00:00.000000000\n",
      "2020-10-22T04:00:00.000000000\n",
      "2020-10-22T05:00:00.000000000\n",
      "2020-10-22T06:00:00.000000000\n",
      "(44060, 67)\n",
      "N_ctrl 66\n",
      "output file /hysplit-users/alicec/projects/bezy/RunB/RunB_2_3_4_5_6_7_8_9_10_11_TFw7/runB4.tcm_bezyB.txt\n",
      "bezyB\n"
     ]
    },
    {
     "name": "stderr",
     "output_type": "stream",
     "text": [
      "/hysplit-users/alicec/utilhysplit/utilvolc/ash_inverse.py:596: MatplotlibDeprecationWarning: Adding an axes using the same arguments as a previous axes currently reuses the earlier instance.  In a future version, a new instance will always be created and returned.  Meanwhile, this warning can be suppressed, and the future behavior ensured, by passing a unique label to each axes instance.\n",
      "  def make_tcm_mult(self,tiilist,remove_cols=True,remove_rows=True,\n",
      "/hysplit-users/alicec/utilhysplit/utilvolc/ash_inverse.py:829: VisibleDeprecationWarning: Creating an ndarray from ragged nested sequences (which is a list-or-tuple of lists-or-tuples-or ndarrays with different lengths or shapes) is deprecated. If you meant to do this, you must specify 'dtype=object' when creating the ndarray.\n",
      "  return t3, lat, lon\n",
      "/hysplit-users/alicec/utilhysplit/utilvolc/ash_inverse.py:830: VisibleDeprecationWarning: Creating an ndarray from ragged nested sequences (which is a list-or-tuple of lists-or-tuples-or ndarrays with different lengths or shapes) is deprecated. If you meant to do this, you must specify 'dtype=object' when creating the ndarray.\n",
      "  \n",
      "/hysplit-users/alicec/utilhysplit/utilvolc/ash_inverse.py:844: VisibleDeprecationWarning: Creating an ndarray from ragged nested sequences (which is a list-or-tuple of lists-or-tuples-or ndarrays with different lengths or shapes) is deprecated. If you meant to do this, you must specify 'dtype=object' when creating the ndarray.\n",
      "  # original above zero observations.\n",
      "/hysplit-users/alicec/utilhysplit/utilvolc/ash_inverse.py:845: VisibleDeprecationWarning: Creating an ndarray from ragged nested sequences (which is a list-or-tuple of lists-or-tuples-or ndarrays with different lengths or shapes) is deprecated. If you meant to do this, you must specify 'dtype=object' when creating the ndarray.\n",
      "  # value of 0 in areas near to the above zero observations\n"
     ]
    },
    {
     "name": "stdout",
     "output_type": "stream",
     "text": [
      "saving to  /hysplit-users/alicec/projects/bezy/RunB/RunB_2_3_4_5_6_7_8_9_10_11_TFw7/RunB_2_3_4_5_6_7_8_9_10_11_TFw7.csv\n",
      "2020-10-22T02:00:00.000000000\n",
      "2020-10-22T03:00:00.000000000\n",
      "(583, 64)\n",
      "N_ctrl 63\n",
      "output file /hysplit-users/alicec/projects/bezy/RunB/RunB_7_8_TT/runB4.tcm_bezyB.txt\n",
      "bezyB\n"
     ]
    },
    {
     "name": "stderr",
     "output_type": "stream",
     "text": [
      "/hysplit-users/alicec/utilhysplit/utilvolc/ash_inverse.py:596: MatplotlibDeprecationWarning: Adding an axes using the same arguments as a previous axes currently reuses the earlier instance.  In a future version, a new instance will always be created and returned.  Meanwhile, this warning can be suppressed, and the future behavior ensured, by passing a unique label to each axes instance.\n",
      "  def make_tcm_mult(self,tiilist,remove_cols=True,remove_rows=True,\n",
      "/hysplit-users/alicec/utilhysplit/utilvolc/ash_inverse.py:829: VisibleDeprecationWarning: Creating an ndarray from ragged nested sequences (which is a list-or-tuple of lists-or-tuples-or ndarrays with different lengths or shapes) is deprecated. If you meant to do this, you must specify 'dtype=object' when creating the ndarray.\n",
      "  return t3, lat, lon\n",
      "/hysplit-users/alicec/utilhysplit/utilvolc/ash_inverse.py:830: VisibleDeprecationWarning: Creating an ndarray from ragged nested sequences (which is a list-or-tuple of lists-or-tuples-or ndarrays with different lengths or shapes) is deprecated. If you meant to do this, you must specify 'dtype=object' when creating the ndarray.\n",
      "  \n",
      "/hysplit-users/alicec/utilhysplit/utilvolc/ash_inverse.py:844: VisibleDeprecationWarning: Creating an ndarray from ragged nested sequences (which is a list-or-tuple of lists-or-tuples-or ndarrays with different lengths or shapes) is deprecated. If you meant to do this, you must specify 'dtype=object' when creating the ndarray.\n",
      "  # original above zero observations.\n",
      "/hysplit-users/alicec/utilhysplit/utilvolc/ash_inverse.py:845: VisibleDeprecationWarning: Creating an ndarray from ragged nested sequences (which is a list-or-tuple of lists-or-tuples-or ndarrays with different lengths or shapes) is deprecated. If you meant to do this, you must specify 'dtype=object' when creating the ndarray.\n",
      "  # value of 0 in areas near to the above zero observations\n"
     ]
    },
    {
     "name": "stdout",
     "output_type": "stream",
     "text": [
      "saving to  /hysplit-users/alicec/projects/bezy/RunB/RunB_7_8_TT/RunB_7_8_TT.csv\n",
      "2020-10-22T04:00:00.000000000\n",
      "2020-10-22T05:00:00.000000000\n",
      "2020-10-22T06:00:00.000000000\n",
      "(958, 64)\n",
      "N_ctrl 63\n",
      "output file /hysplit-users/alicec/projects/bezy/RunB/RunB_9_10_11_TT/runB4.tcm_bezyB.txt\n",
      "bezyB\n"
     ]
    },
    {
     "name": "stderr",
     "output_type": "stream",
     "text": [
      "/hysplit-users/alicec/utilhysplit/utilvolc/ash_inverse.py:596: MatplotlibDeprecationWarning: Adding an axes using the same arguments as a previous axes currently reuses the earlier instance.  In a future version, a new instance will always be created and returned.  Meanwhile, this warning can be suppressed, and the future behavior ensured, by passing a unique label to each axes instance.\n",
      "  def make_tcm_mult(self,tiilist,remove_cols=True,remove_rows=True,\n",
      "/hysplit-users/alicec/utilhysplit/utilvolc/ash_inverse.py:829: VisibleDeprecationWarning: Creating an ndarray from ragged nested sequences (which is a list-or-tuple of lists-or-tuples-or ndarrays with different lengths or shapes) is deprecated. If you meant to do this, you must specify 'dtype=object' when creating the ndarray.\n",
      "  return t3, lat, lon\n",
      "/hysplit-users/alicec/utilhysplit/utilvolc/ash_inverse.py:830: VisibleDeprecationWarning: Creating an ndarray from ragged nested sequences (which is a list-or-tuple of lists-or-tuples-or ndarrays with different lengths or shapes) is deprecated. If you meant to do this, you must specify 'dtype=object' when creating the ndarray.\n",
      "  \n",
      "/hysplit-users/alicec/utilhysplit/utilvolc/ash_inverse.py:844: VisibleDeprecationWarning: Creating an ndarray from ragged nested sequences (which is a list-or-tuple of lists-or-tuples-or ndarrays with different lengths or shapes) is deprecated. If you meant to do this, you must specify 'dtype=object' when creating the ndarray.\n",
      "  # original above zero observations.\n",
      "/hysplit-users/alicec/utilhysplit/utilvolc/ash_inverse.py:845: VisibleDeprecationWarning: Creating an ndarray from ragged nested sequences (which is a list-or-tuple of lists-or-tuples-or ndarrays with different lengths or shapes) is deprecated. If you meant to do this, you must specify 'dtype=object' when creating the ndarray.\n",
      "  # value of 0 in areas near to the above zero observations\n"
     ]
    },
    {
     "name": "stdout",
     "output_type": "stream",
     "text": [
      "saving to  /hysplit-users/alicec/projects/bezy/RunB/RunB_9_10_11_TT/RunB_9_10_11_TT.csv\n",
      "2020-10-21T21:00:00.000000000\n",
      "2020-10-21T22:00:00.000000000\n",
      "2020-10-21T23:00:00.000000000\n",
      "2020-10-22T00:00:00.000000000\n",
      "2020-10-22T01:00:00.000000000\n",
      "2020-10-22T02:00:00.000000000\n",
      "2020-10-22T03:00:00.000000000\n",
      "2020-10-22T04:00:00.000000000\n",
      "2020-10-22T05:00:00.000000000\n",
      "2020-10-22T06:00:00.000000000\n",
      "(2353, 67)\n",
      "N_ctrl 66\n",
      "output file /hysplit-users/alicec/projects/bezy/RunB/RunB_2_3_4_5_6_7_8_9_10_11_TT/runB4.tcm_bezyB.txt\n",
      "bezyB\n"
     ]
    },
    {
     "name": "stderr",
     "output_type": "stream",
     "text": [
      "/hysplit-users/alicec/utilhysplit/utilvolc/ash_inverse.py:596: MatplotlibDeprecationWarning: Adding an axes using the same arguments as a previous axes currently reuses the earlier instance.  In a future version, a new instance will always be created and returned.  Meanwhile, this warning can be suppressed, and the future behavior ensured, by passing a unique label to each axes instance.\n",
      "  def make_tcm_mult(self,tiilist,remove_cols=True,remove_rows=True,\n",
      "/hysplit-users/alicec/utilhysplit/utilvolc/ash_inverse.py:829: VisibleDeprecationWarning: Creating an ndarray from ragged nested sequences (which is a list-or-tuple of lists-or-tuples-or ndarrays with different lengths or shapes) is deprecated. If you meant to do this, you must specify 'dtype=object' when creating the ndarray.\n",
      "  return t3, lat, lon\n",
      "/hysplit-users/alicec/utilhysplit/utilvolc/ash_inverse.py:830: VisibleDeprecationWarning: Creating an ndarray from ragged nested sequences (which is a list-or-tuple of lists-or-tuples-or ndarrays with different lengths or shapes) is deprecated. If you meant to do this, you must specify 'dtype=object' when creating the ndarray.\n",
      "  \n",
      "/hysplit-users/alicec/utilhysplit/utilvolc/ash_inverse.py:844: VisibleDeprecationWarning: Creating an ndarray from ragged nested sequences (which is a list-or-tuple of lists-or-tuples-or ndarrays with different lengths or shapes) is deprecated. If you meant to do this, you must specify 'dtype=object' when creating the ndarray.\n",
      "  # original above zero observations.\n",
      "/hysplit-users/alicec/utilhysplit/utilvolc/ash_inverse.py:845: VisibleDeprecationWarning: Creating an ndarray from ragged nested sequences (which is a list-or-tuple of lists-or-tuples-or ndarrays with different lengths or shapes) is deprecated. If you meant to do this, you must specify 'dtype=object' when creating the ndarray.\n",
      "  # value of 0 in areas near to the above zero observations\n"
     ]
    },
    {
     "name": "stdout",
     "output_type": "stream",
     "text": [
      "saving to  /hysplit-users/alicec/projects/bezy/RunB/RunB_2_3_4_5_6_7_8_9_10_11_TT/RunB_2_3_4_5_6_7_8_9_10_11_TT.csv\n",
      "2020-10-22T02:00:00.000000000\n",
      "2020-10-22T03:00:00.000000000\n",
      "(11308, 67)\n",
      "N_ctrl 66\n",
      "output file /hysplit-users/alicec/projects/bezy/RunB/RunB_7_8_TF/runB4.tcm_bezyB.txt\n",
      "bezyB\n"
     ]
    },
    {
     "name": "stderr",
     "output_type": "stream",
     "text": [
      "/hysplit-users/alicec/utilhysplit/utilvolc/ash_inverse.py:596: MatplotlibDeprecationWarning: Adding an axes using the same arguments as a previous axes currently reuses the earlier instance.  In a future version, a new instance will always be created and returned.  Meanwhile, this warning can be suppressed, and the future behavior ensured, by passing a unique label to each axes instance.\n",
      "  def make_tcm_mult(self,tiilist,remove_cols=True,remove_rows=True,\n",
      "/hysplit-users/alicec/utilhysplit/utilvolc/ash_inverse.py:829: VisibleDeprecationWarning: Creating an ndarray from ragged nested sequences (which is a list-or-tuple of lists-or-tuples-or ndarrays with different lengths or shapes) is deprecated. If you meant to do this, you must specify 'dtype=object' when creating the ndarray.\n",
      "  return t3, lat, lon\n",
      "/hysplit-users/alicec/utilhysplit/utilvolc/ash_inverse.py:830: VisibleDeprecationWarning: Creating an ndarray from ragged nested sequences (which is a list-or-tuple of lists-or-tuples-or ndarrays with different lengths or shapes) is deprecated. If you meant to do this, you must specify 'dtype=object' when creating the ndarray.\n",
      "  \n",
      "/hysplit-users/alicec/utilhysplit/utilvolc/ash_inverse.py:844: VisibleDeprecationWarning: Creating an ndarray from ragged nested sequences (which is a list-or-tuple of lists-or-tuples-or ndarrays with different lengths or shapes) is deprecated. If you meant to do this, you must specify 'dtype=object' when creating the ndarray.\n",
      "  # original above zero observations.\n",
      "/hysplit-users/alicec/utilhysplit/utilvolc/ash_inverse.py:845: VisibleDeprecationWarning: Creating an ndarray from ragged nested sequences (which is a list-or-tuple of lists-or-tuples-or ndarrays with different lengths or shapes) is deprecated. If you meant to do this, you must specify 'dtype=object' when creating the ndarray.\n",
      "  # value of 0 in areas near to the above zero observations\n"
     ]
    },
    {
     "name": "stdout",
     "output_type": "stream",
     "text": [
      "saving to  /hysplit-users/alicec/projects/bezy/RunB/RunB_7_8_TF/RunB_7_8_TF.csv\n",
      "2020-10-22T04:00:00.000000000\n",
      "2020-10-22T05:00:00.000000000\n",
      "2020-10-22T06:00:00.000000000\n",
      "(24997, 67)\n",
      "N_ctrl 66\n",
      "output file /hysplit-users/alicec/projects/bezy/RunB/RunB_9_10_11_TF/runB4.tcm_bezyB.txt\n",
      "bezyB\n"
     ]
    },
    {
     "name": "stderr",
     "output_type": "stream",
     "text": [
      "/hysplit-users/alicec/utilhysplit/utilvolc/ash_inverse.py:596: MatplotlibDeprecationWarning: Adding an axes using the same arguments as a previous axes currently reuses the earlier instance.  In a future version, a new instance will always be created and returned.  Meanwhile, this warning can be suppressed, and the future behavior ensured, by passing a unique label to each axes instance.\n",
      "  def make_tcm_mult(self,tiilist,remove_cols=True,remove_rows=True,\n",
      "/hysplit-users/alicec/utilhysplit/utilvolc/ash_inverse.py:829: VisibleDeprecationWarning: Creating an ndarray from ragged nested sequences (which is a list-or-tuple of lists-or-tuples-or ndarrays with different lengths or shapes) is deprecated. If you meant to do this, you must specify 'dtype=object' when creating the ndarray.\n",
      "  return t3, lat, lon\n",
      "/hysplit-users/alicec/utilhysplit/utilvolc/ash_inverse.py:830: VisibleDeprecationWarning: Creating an ndarray from ragged nested sequences (which is a list-or-tuple of lists-or-tuples-or ndarrays with different lengths or shapes) is deprecated. If you meant to do this, you must specify 'dtype=object' when creating the ndarray.\n",
      "  \n",
      "/hysplit-users/alicec/utilhysplit/utilvolc/ash_inverse.py:844: VisibleDeprecationWarning: Creating an ndarray from ragged nested sequences (which is a list-or-tuple of lists-or-tuples-or ndarrays with different lengths or shapes) is deprecated. If you meant to do this, you must specify 'dtype=object' when creating the ndarray.\n",
      "  # original above zero observations.\n",
      "/hysplit-users/alicec/utilhysplit/utilvolc/ash_inverse.py:845: VisibleDeprecationWarning: Creating an ndarray from ragged nested sequences (which is a list-or-tuple of lists-or-tuples-or ndarrays with different lengths or shapes) is deprecated. If you meant to do this, you must specify 'dtype=object' when creating the ndarray.\n",
      "  # value of 0 in areas near to the above zero observations\n"
     ]
    },
    {
     "name": "stdout",
     "output_type": "stream",
     "text": [
      "saving to  /hysplit-users/alicec/projects/bezy/RunB/RunB_9_10_11_TF/RunB_9_10_11_TF.csv\n",
      "2020-10-21T21:00:00.000000000\n",
      "2020-10-21T22:00:00.000000000\n",
      "2020-10-21T23:00:00.000000000\n",
      "2020-10-22T00:00:00.000000000\n",
      "2020-10-22T01:00:00.000000000\n",
      "2020-10-22T02:00:00.000000000\n",
      "2020-10-22T03:00:00.000000000\n",
      "2020-10-22T04:00:00.000000000\n",
      "2020-10-22T05:00:00.000000000\n",
      "2020-10-22T06:00:00.000000000\n",
      "(49084, 67)\n",
      "N_ctrl 66\n",
      "output file /hysplit-users/alicec/projects/bezy/RunB/RunB_2_3_4_5_6_7_8_9_10_11_TF/runB4.tcm_bezyB.txt\n",
      "bezyB\n",
      "saving to  /hysplit-users/alicec/projects/bezy/RunB/RunB_2_3_4_5_6_7_8_9_10_11_TF/RunB_2_3_4_5_6_7_8_9_10_11_TF.csv\n"
     ]
    },
    {
     "name": "stderr",
     "output_type": "stream",
     "text": [
      "/hysplit-users/alicec/utilhysplit/utilvolc/ash_inverse.py:596: MatplotlibDeprecationWarning: Adding an axes using the same arguments as a previous axes currently reuses the earlier instance.  In a future version, a new instance will always be created and returned.  Meanwhile, this warning can be suppressed, and the future behavior ensured, by passing a unique label to each axes instance.\n",
      "  def make_tcm_mult(self,tiilist,remove_cols=True,remove_rows=True,\n"
     ]
    },
    {
     "data": {
      "image/png": "[encoded data removed]",
      "text/plain": [
       "<Figure size 432x288 with 1 Axes>"
      ]
     },
     "metadata": {},
     "output_type": "display_data"
    }
   ],
   "source": [
    "%autoreload\n",
    "tiilist = [[2,3],[2,3,4],[2,3,4,5],[2,3,4,5,6],[2,3,4,5,6,7],[2,3,4,5,6,7,8],[2,3,4,5,6,7,8,9],\n",
    "           [2,3,4,5,6,7,8,9,10],[2,3,4,5,6,7,8,9,10,11],\n",
    "           [4,5,6]]  #times to assimilate in inversion algorithm.\n",
    "remove_cols=True    # removes columns with no model values in them.\n",
    "remove_rows=False    # removes clear sky observations\n",
    "remove_sources = False\n",
    "remove_ncs=5\n",
    "for tii in tiilist:\n",
    "    makerun(tii,remove_cols,remove_rows,remove_sources,remove_ncs)\n",
    "remove_rows=True\n",
    "remove_ncs=0\n",
    "for tii in tiilist:\n",
    "    makerun(tii,remove_cols,remove_rows,remove_sources,remove_ncs)\n",
    "remove_rows=False\n",
    "remove_ncs=0\n",
    "for tii in tiilist:\n",
    "    makerun(tii,remove_cols,remove_rows,remove_sources,remove_ncs)\n",
    "    \n",
    "    \n",
    "tiilist = [[7,8],[9,10,11],[2,3,4,5,6,7,8,9,10,11]]  #times to assimilate in inversion algorithm.\n",
    "remove_cols=True    # removes columns with no model values in them.\n",
    "remove_rows=False    # removes clear sky observations\n",
    "remove_sources = False\n",
    "remove_ncs=7\n",
    "for tii in tiilist:\n",
    "    makerun(tii,remove_cols,remove_rows,remove_sources,remove_ncs)\n",
    "remove_rows=True\n",
    "remove_ncs=0\n",
    "for tii in tiilist:\n",
    "    makerun(tii,remove_cols,remove_rows,remove_sources,remove_ncs)\n",
    "remove_rows=False\n",
    "remove_ncs=0\n",
    "for tii in tiilist:\n",
    "    makerun(tii,remove_cols,remove_rows,remove_sources,remove_ncs)  \n",
    "    "
   ]
  },
  {
   "cell_type": "markdown",
   "metadata": {},
   "source": [
    "# Looking at individual inversions"
   ]
  },
  {
   "cell_type": "code",
   "execution_count": 86,
   "metadata": {},
   "outputs": [
    {
     "name": "stdout",
     "output_type": "stream",
     "text": [
      "2020-10-21T21:00:00.000000000\n",
      "2020-10-21T22:00:00.000000000\n",
      "2020-10-21T23:00:00.000000000\n",
      "2020-10-22T00:00:00.000000000\n",
      "2020-10-22T01:00:00.000000000\n",
      "2020-10-22T02:00:00.000000000\n",
      "2020-10-22T03:00:00.000000000\n",
      "2020-10-22T04:00:00.000000000\n",
      "2020-10-22T05:00:00.000000000\n",
      "2020-10-22T06:00:00.000000000\n"
     ]
    },
    {
     "name": "stderr",
     "output_type": "stream",
     "text": [
      "/hysplit-users/alicec/utilhysplit/utilvolc/ash_inverse.py:829: VisibleDeprecationWarning: Creating an ndarray from ragged nested sequences (which is a list-or-tuple of lists-or-tuples-or ndarrays with different lengths or shapes) is deprecated. If you meant to do this, you must specify 'dtype=object' when creating the ndarray.\n",
      "  self.latlist = np.array(latlist)\n",
      "/hysplit-users/alicec/utilhysplit/utilvolc/ash_inverse.py:830: VisibleDeprecationWarning: Creating an ndarray from ragged nested sequences (which is a list-or-tuple of lists-or-tuples-or ndarrays with different lengths or shapes) is deprecated. If you meant to do this, you must specify 'dtype=object' when creating the ndarray.\n",
      "  self.lonlist = np.array(lonlist)\n",
      "/hysplit-users/alicec/utilhysplit/utilvolc/ash_inverse.py:844: VisibleDeprecationWarning: Creating an ndarray from ragged nested sequences (which is a list-or-tuple of lists-or-tuples-or ndarrays with different lengths or shapes) is deprecated. If you meant to do this, you must specify 'dtype=object' when creating the ndarray.\n",
      "  self.latlist = np.array(latlist)\n",
      "/hysplit-users/alicec/utilhysplit/utilvolc/ash_inverse.py:845: VisibleDeprecationWarning: Creating an ndarray from ragged nested sequences (which is a list-or-tuple of lists-or-tuples-or ndarrays with different lengths or shapes) is deprecated. If you meant to do this, you must specify 'dtype=object' when creating the ndarray.\n",
      "  self.lonlist = np.array(lonlist)\n"
     ]
    }
   ],
   "source": [
    "%autoreload\n",
    "tii = [2,3,4,5,6,7,8,9,10,11]  #times to assimilate in inversion algorithm.\n",
    "remove_cols=True    # removes columns with no model values in them.\n",
    "remove_rows=False    # removes clear sky observations\n",
    "remove_sources = False\n",
    "remove_ncs=5\n",
    "#remove_sources = ['12880']  # this would remove top vertical level from consideration.\n",
    "#inverse.make_tcm_mult([1,2,3,4],remove_cols=True,remove_rows=False,remove_sources=['12880'])\n",
    "inverse.make_tcm_mult(tii,remove_cols=remove_cols, remove_rows=remove_rows, remove_sources=remove_sources,remove_ncs=remove_ncs)\n",
    "runtag = ai.create_runtag(tag,tii,remove_cols, remove_rows, remove_sources,remove_ncs=remove_ncs)\n",
    "\n",
    "# set the subdirectory for this TCM run.\n",
    "#subdir = inverse.set_sub_directory(runtag)\n",
    "#print('setting subdirectory {}'.format(subdir))"
   ]
  },
  {
   "cell_type": "code",
   "execution_count": 87,
   "metadata": {},
   "outputs": [
    {
     "name": "stdout",
     "output_type": "stream",
     "text": [
      "RunH_2_3_4_5_6_7_8_9_10_11_TFw5\n"
     ]
    }
   ],
   "source": [
    "print(runtag)"
   ]
  },
  {
   "cell_type": "code",
   "execution_count": 88,
   "metadata": {},
   "outputs": [
    {
     "name": "stdout",
     "output_type": "stream",
     "text": [
      "3.381760138516895e-14\n",
      "4.0581121662202745e-13\n"
     ]
    }
   ],
   "source": [
    "numpar = 20000  # number of particles released per hour.\n",
    "delt = 5 # time step\n",
    "tave = 1 # 1 h time average\n",
    "hres = 0.1 # 0.1 degree horizontal resolution.\n",
    "rate = 1 # 1 unit mass per hour\n",
    "particle_mass = rate / numpar  #how much unit mass each particle has\n",
    "area = (hres * 111e3)**2  # area in meters squared for mass loading grid.\n",
    "mass_one = particle_mass / area  # unit mass / m2 for one particle in grid box.\n",
    "mass_one_one = mass_one / (tave*60 / delt)  # smallest mass loading possible with one particle for one time step\n",
    "print(mass_one_one)  # one particle for one time step\n",
    "print(mass_one)      # one particle in area."
   ]
  },
  {
   "cell_type": "code",
   "execution_count": 89,
   "metadata": {},
   "outputs": [
    {
     "name": "stderr",
     "output_type": "stream",
     "text": [
      "/hysplit-users/alicec/utilhysplit/utilvolc/ash_inverse.py:984: RuntimeWarning: divide by zero encountered in log10\n",
      "  cb = plt.pcolormesh(np.log10(self.tcm),cmap='tab20')\n"
     ]
    },
    {
     "data": {
      "image/png": "[encoded data removed]",
      "text/plain": [
       "<Figure size 432x288 with 2 Axes>"
      ]
     },
     "metadata": {},
     "output_type": "display_data"
    },
    {
     "data": {
      "text/plain": [
       "(47729, 67)"
      ]
     },
     "execution_count": 89,
     "metadata": {},
     "output_type": "execute_result"
    }
   ],
   "source": [
    "%autoreload\n",
    "inverse.plot_tcm()\n",
    "inverse.invlist[0].tcm.shape\n"
   ]
  },
  {
   "cell_type": "code",
   "execution_count": 90,
   "metadata": {},
   "outputs": [
    {
     "data": {
      "text/plain": [
       "'/hysplit-users/alicec/projects/bezy/RunH/RunH_2_3_4_5_6_7_8_9_10_11_TFw5'"
      ]
     },
     "execution_count": 90,
     "metadata": {},
     "output_type": "execute_result"
    }
   ],
   "source": [
    "#hysplitdir = '/hysplit-users/alicec/FBamcArea/exec/'\n",
    "#inverse.set_directory(wdir,execdir,hysplitdir)\n",
    "inverse.set_subdirectory(runtag)"
   ]
  },
  {
   "cell_type": "code",
   "execution_count": 91,
   "metadata": {
    "scrolled": true
   },
   "outputs": [
    {
     "name": "stdout",
     "output_type": "stream",
     "text": [
      "(47729, 67)\n",
      "N_ctrl 66\n",
      "output file /hysplit-users/alicec/projects/bezy/RunH/RunH_2_3_4_5_6_7_8_9_10_11_TFw5/runH4.tcm_zyH25.txt\n"
     ]
    }
   ],
   "source": [
    "%autoreload\n",
    "tcmstr = inverse.write_tcm(os.path.join(inverse.subdir, tcm_name_base.replace('zzz','4')))\n",
    "#print(tcmstr)"
   ]
  },
  {
   "cell_type": "code",
   "execution_count": 92,
   "metadata": {
    "scrolled": true
   },
   "outputs": [
    {
     "name": "stdout",
     "output_type": "stream",
     "text": [
      "zyH25\n"
     ]
    }
   ],
   "source": [
    "%autoreload\n",
    "#hysplitdir = '/hysplit-users/alicec/FBamcArea/exec/'\n",
    "#inverse.set_directory(wdir,execdir,hysplitdir)\n",
    "inverse.run_tcm()"
   ]
  },
  {
   "cell_type": "code",
   "execution_count": 93,
   "metadata": {},
   "outputs": [],
   "source": [
    "# Now run the inverse model.\n",
    "\n",
    "# open the Parameters_in.dat file and set N_ctrl, Nx_ctrl and lbfgs_nbd to\n",
    "# the number shown for N_ctrl above.\n",
    "\n",
    "# copy the tcm file to TCM_sum.csv\n",
    "\n",
    "# run new_lbfgsb.x"
   ]
  },
  {
   "cell_type": "code",
   "execution_count": 94,
   "metadata": {},
   "outputs": [
    {
     "data": {
      "text/plain": [
       "1.001613109228309"
      ]
     },
     "execution_count": 94,
     "metadata": {},
     "output_type": "execute_result"
    }
   ],
   "source": [
    "10**0.0007"
   ]
  },
  {
   "cell_type": "code",
   "execution_count": 95,
   "metadata": {},
   "outputs": [
    {
     "name": "stdout",
     "output_type": "stream",
     "text": [
      "zyH25\n"
     ]
    },
    {
     "data": {
      "image/png": "[encoded data removed]",
      "text/plain": [
       "<Figure size 432x288 with 2 Axes>"
      ]
     },
     "metadata": {},
     "output_type": "display_data"
    }
   ],
   "source": [
    "%autoreload\n",
    "inverse.plot_outdat(eii=None)"
   ]
  },
  {
   "cell_type": "code",
   "execution_count": 96,
   "metadata": {},
   "outputs": [
    {
     "name": "stdout",
     "output_type": "stream",
     "text": [
      "(['zyH25_out.dat'], ['zyH25_out2.dat'])\n",
      "/hysplit-users/alicec/projects/bezy/RunH/RunH_2_3_4_5_6_7_8_9_10_11_TFw5\n"
     ]
    }
   ],
   "source": [
    "print(inverse.make_tcm_names())\n",
    "print(inverse.subdir)"
   ]
  },
  {
   "cell_type": "code",
   "execution_count": 98,
   "metadata": {},
   "outputs": [
    {
     "data": {
      "image/png": "[encoded data removed]",
      "text/plain": [
       "<Figure size 432x288 with 1 Axes>"
      ]
     },
     "metadata": {},
     "output_type": "display_data"
    },
    {
     "name": "stdout",
     "output_type": "stream",
     "text": [
      "total 0.03173022914119394 Tg\n",
      "saving to  /hysplit-users/alicec/projects/bezy/RunH/RunH_2_3_4_5_6_7_8_9_10_11_TFw5/RunH_2_3_4_5_6_7_8_9_10_11_TFw5.csv\n"
     ]
    },
    {
     "data": {
      "image/png": "[encoded data removed]",
      "text/plain": [
       "<Figure size 432x288 with 1 Axes>"
      ]
     },
     "metadata": {},
     "output_type": "display_data"
    }
   ],
   "source": [
    "%autoreload\n",
    "\n",
    "eii=None\n",
    "unit='g/h'\n",
    "unit='kg/s'\n",
    "inverse.plot_outdat_ts(eii,unit=unit)\n",
    "plt.show()\n",
    "inverse.plot_outdat_ts(eii,profile=True)\n",
    "inverse.save_emis(runtag+'.csv')\n",
    "#ax = plt.gca()\n",
    "#ax.set_ylim(0,10000)"
   ]
  },
  {
   "cell_type": "code",
   "execution_count": 44,
   "metadata": {},
   "outputs": [],
   "source": [
    "#%autoreload\n",
    "#inverse.sourcehash = ai.get_sourcehash(configdir,configfile)"
   ]
  },
  {
   "cell_type": "code",
   "execution_count": 45,
   "metadata": {
    "scrolled": false
   },
   "outputs": [
    {
     "name": "stdout",
     "output_type": "stream",
     "text": [
      "bezyH\n"
     ]
    },
    {
     "data": {
      "image/png": "[encoded data removed]",
      "text/plain": [
       "<Figure size 720x360 with 2 Axes>"
      ]
     },
     "metadata": {},
     "output_type": "display_data"
    },
    {
     "data": {
      "image/png": "[encoded data removed]",
      "text/plain": [
       "<Figure size 720x360 with 2 Axes>"
      ]
     },
     "metadata": {},
     "output_type": "display_data"
    }
   ],
   "source": [
    "%autoreload\n",
    "unit='kg/s'\n",
    "#unit='g/h'\n",
    "iii=0\n",
    "print(inverse.taglist[iii])\n",
    "ilist =  inverse.read_outdat()\n",
    "df = ilist[iii].get_emis()\n",
    "vals = inverse.invlist[iii].make_outdat(df)\n",
    "inverse.invlist[iii].plot_outdat(vals,log=False,cmap='viridis',unit=unit)\n",
    "#plt.savefig('{}.emissions_log.png'.format(figbase))\n",
    "plt.show()\n",
    "inverse.invlist[0].plot_outdat(vals,log=True,cmap='viridis',unit=unit)\n",
    "#plt.savefig('{}.emissions.png'.format(figbase))\n"
   ]
  },
  {
   "cell_type": "code",
   "execution_count": 433,
   "metadata": {},
   "outputs": [
    {
     "data": {
      "text/plain": [
       "{'HYSPLIT_DIR': '../',\n",
       " 'MAP_DIR': '/hysplit-users/alicec/hysplit.v5.0.0/graphics/',\n",
       " 'WORK_DIR': '/hysplit-users/alicec/tmp/',\n",
       " 'CONVERT_EXE': 'convert',\n",
       " 'PYTHON_EXE': '/hysplit-users/alicec/anaconda3/envs/hysplit/bin/python',\n",
       " 'forecastDirectory': '/pub/forecast',\n",
       " 'archivesDirectory': '/pub/archives',\n",
       " 'GHOSTSCRIPT_EXE': 'gs',\n",
       " 'DATA_DIR': '/hysplit-users/alicec/utilhysplit/utilvolc/ashapp/',\n",
       " 'owner': 'A. Person',\n",
       " 'VolcanoName': 'Bezymianny',\n",
       " 'area': 785000.0,\n",
       " 'top': 12880.0,\n",
       " 'bottom': 2880.0,\n",
       " 'start_date': datetime.datetime(2020, 10, 21, 19, 0),\n",
       " 'durationOfSimulation': 12.0,\n",
       " 'testminutes': 0.0,\n",
       " 'emissionHours': 6.0,\n",
       " 'meteorologicalData': 'gfs0p25',\n",
       " 'EruptionSize': 0.0,\n",
       " 'latitude': 55.978,\n",
       " 'longitude': 160.587,\n",
       " 'samplingIntervalHours': 1.0,\n",
       " 'eflag': 0.0,\n",
       " 'source_type': 'uniform',\n",
       " 'jobname': 'ashtest',\n",
       " 'runflag': 'inverse',\n",
       " 'timeres': 1,\n",
       " 'rate': 1,\n",
       " 'inv_vertical_resolution': 1000,\n",
       " 'gisOption': 3,\n",
       " 'zoomFactor': 50,\n",
       " 'generatingPostscript': True,\n",
       " 'generatingPDF': True,\n",
       " 'mapBackground': 'arlmap',\n",
       " 'mapProjection': 0,\n",
       " 'spatialPlotRadius': 500.0,\n",
       " 'graphicsResolution': 200,\n",
       " 'zip_compression_level': 3}"
      ]
     },
     "execution_count": 433,
     "metadata": {},
     "output_type": "execute_result"
    }
   ],
   "source": [
    "inverse.invlist[0].inp"
   ]
  },
  {
   "cell_type": "code",
   "execution_count": 434,
   "metadata": {},
   "outputs": [
    {
     "name": "stdout",
     "output_type": "stream",
     "text": [
      "Working directory, wdir :/hysplit-users/alicec/projects/bezy/RunB\n",
      "execdir :/hysplit-users/alicec/projects/bezy/Inverse_240\n",
      "hysplitdir :/hysplit-users/alicec/projects/bezy/hysplit\n",
      "subdir :/hysplit-users/alicec/projects/bezy/RunB/RunB_2_3_TFw5\n",
      "vdir :/hysplit-users/alicec/projects/bezy/data/volcat\n",
      "datadir :/hysplit-users/alicec/projects/bezy/data\n"
     ]
    }
   ],
   "source": [
    "%autoreload\n",
    "inverse.print_directories()"
   ]
  },
  {
   "cell_type": "code",
   "execution_count": 435,
   "metadata": {},
   "outputs": [
    {
     "name": "stderr",
     "output_type": "stream",
     "text": [
      "No meteorological files found /hysplit-users/alicec/projects/bezy/data/%Y%m%d/hysplit.t%Hz.gfs0p25f\n"
     ]
    },
    {
     "name": "stdout",
     "output_type": "stream",
     "text": [
      "writing efile {} /hysplit-users/alicec/projects/bezy/RunB/RunB_2_3_TFw5/bezyB_emit.txt\n",
      "gfs0p25\n",
      "fcst str /pub/forecast/%Y%m%d/\n",
      "making control file  gfs0p25\n",
      "/hysplit-users/alicec/projects/bezy/data/\n",
      "fcst str /hysplit-users/alicec/projects/bezy/data/%Y%m%d/\n",
      "WARNING /hysplit-users/alicec/projects/bezy/data/20201021/hysplit.t18z.gfs0p25f meteorological file does not exist\n",
      "WARNING /hysplit-users/alicec/projects/bezy/data/20201022/hysplit.t00z.gfs0p25f meteorological file does not exist\n",
      "WARNING /hysplit-users/alicec/projects/bezy/data/20201022/hysplit.t06z.gfs0p25f meteorological file does not exist\n",
      "WARNING /hysplit-users/alicec/projects/bezy/data/20201022/hysplit.t12z.gfs0p25f meteorological file does not exist\n",
      "WARNING /hysplit-users/alicec/projects/bezy/data/20201022/hysplit.t18z.gfs0p25f meteorological file does not exist\n",
      "WARNING /hysplit-users/alicec/projects/bezy/data/20201023/hysplit.t00z.gfs0p25f meteorological file does not exist\n",
      "WARNING /hysplit-users/alicec/projects/bezy/data/20201023/hysplit.t06z.gfs0p25f meteorological file does not exist\n",
      "WARNING /hysplit-users/alicec/projects/bezy/data/20201021/hysplit.t12z.gfs0p25f meteorological file does not exist\n",
      "WARNING /hysplit-users/alicec/projects/bezy/data/20201021/hysplit.t18z.gfs0p25f meteorological file does not exist\n",
      "WARNING /hysplit-users/alicec/projects/bezy/data/20201022/hysplit.t00z.gfs0p25f meteorological file does not exist\n",
      "WARNING /hysplit-users/alicec/projects/bezy/data/20201022/hysplit.t06z.gfs0p25f meteorological file does not exist\n",
      "WARNING /hysplit-users/alicec/projects/bezy/data/20201022/hysplit.t12z.gfs0p25f meteorological file does not exist\n",
      "WARNING /hysplit-users/alicec/projects/bezy/data/20201022/hysplit.t18z.gfs0p25f meteorological file does not exist\n",
      "WARNING /hysplit-users/alicec/projects/bezy/data/20201023/hysplit.t00z.gfs0p25f meteorological file does not exist\n",
      "WARNING /hysplit-users/alicec/projects/bezy/data/20201021/hysplit.t06z.gfs0p25f meteorological file does not exist\n",
      "WARNING /hysplit-users/alicec/projects/bezy/data/20201021/hysplit.t12z.gfs0p25f meteorological file does not exist\n",
      "WARNING /hysplit-users/alicec/projects/bezy/data/20201021/hysplit.t18z.gfs0p25f meteorological file does not exist\n",
      "WARNING /hysplit-users/alicec/projects/bezy/data/20201022/hysplit.t00z.gfs0p25f meteorological file does not exist\n",
      "WARNING /hysplit-users/alicec/projects/bezy/data/20201022/hysplit.t06z.gfs0p25f meteorological file does not exist\n",
      "WARNING /hysplit-users/alicec/projects/bezy/data/20201022/hysplit.t12z.gfs0p25f meteorological file does not exist\n",
      "WARNING /hysplit-users/alicec/projects/bezy/data/20201022/hysplit.t18z.gfs0p25f meteorological file does not exist\n",
      "WARNING /hysplit-users/alicec/projects/bezy/data/20201021/hysplit.t00z.gfs0p25f meteorological file does not exist\n",
      "WARNING /hysplit-users/alicec/projects/bezy/data/20201021/hysplit.t06z.gfs0p25f meteorological file does not exist\n",
      "WARNING /hysplit-users/alicec/projects/bezy/data/20201021/hysplit.t12z.gfs0p25f meteorological file does not exist\n",
      "WARNING /hysplit-users/alicec/projects/bezy/data/20201021/hysplit.t18z.gfs0p25f meteorological file does not exist\n",
      "WARNING /hysplit-users/alicec/projects/bezy/data/20201022/hysplit.t00z.gfs0p25f meteorological file does not exist\n",
      "WARNING /hysplit-users/alicec/projects/bezy/data/20201022/hysplit.t06z.gfs0p25f meteorological file does not exist\n",
      "WARNING /hysplit-users/alicec/projects/bezy/data/20201022/hysplit.t12z.gfs0p25f meteorological file does not exist\n",
      "WARNING /hysplit-users/alicec/projects/bezy/data/20201020/hysplit.t18z.gfs0p25f meteorological file does not exist\n",
      "WARNING /hysplit-users/alicec/projects/bezy/data/20201021/hysplit.t00z.gfs0p25f meteorological file does not exist\n",
      "WARNING /hysplit-users/alicec/projects/bezy/data/20201021/hysplit.t06z.gfs0p25f meteorological file does not exist\n",
      "WARNING /hysplit-users/alicec/projects/bezy/data/20201021/hysplit.t12z.gfs0p25f meteorological file does not exist\n",
      "WARNING /hysplit-users/alicec/projects/bezy/data/20201021/hysplit.t18z.gfs0p25f meteorological file does not exist\n",
      "WARNING /hysplit-users/alicec/projects/bezy/data/20201022/hysplit.t00z.gfs0p25f meteorological file does not exist\n",
      "WARNING /hysplit-users/alicec/projects/bezy/data/20201022/hysplit.t06z.gfs0p25f meteorological file does not exist\n",
      "WARNING /hysplit-users/alicec/projects/bezy/data/20201020/hysplit.t12z.gfs0p25f meteorological file does not exist\n",
      "WARNING /hysplit-users/alicec/projects/bezy/data/20201020/hysplit.t18z.gfs0p25f meteorological file does not exist\n",
      "WARNING /hysplit-users/alicec/projects/bezy/data/20201021/hysplit.t00z.gfs0p25f meteorological file does not exist\n",
      "WARNING /hysplit-users/alicec/projects/bezy/data/20201021/hysplit.t06z.gfs0p25f meteorological file does not exist\n",
      "WARNING /hysplit-users/alicec/projects/bezy/data/20201021/hysplit.t12z.gfs0p25f meteorological file does not exist\n",
      "WARNING /hysplit-users/alicec/projects/bezy/data/20201021/hysplit.t18z.gfs0p25f meteorological file does not exist\n",
      "WARNING /hysplit-users/alicec/projects/bezy/data/20201022/hysplit.t00z.gfs0p25f meteorological file does not exist\n",
      "Looking in archive for met files\n"
     ]
    }
   ],
   "source": [
    "%autoreload\n",
    "# creates emit-times, CONTROL and SETUP files for HYSPLIT runs.\n",
    "# Note that warning that meteorological files not found is ok.\n",
    "inverse.make_efile(vloc=vloc)"
   ]
  },
  {
   "cell_type": "code",
   "execution_count": 436,
   "metadata": {},
   "outputs": [
    {
     "name": "stdout",
     "output_type": "stream",
     "text": [
      "running  /hysplit-users/alicec/projects/bezy/hysplit/exec/hycs_std bezyB\n",
      "in loop 0s procs 1\n",
      "in loop 30s procs 1\n",
      "in loop 60s procs 1\n",
      "in loop 90s procs 1\n",
      "in loop 120s procs 1\n",
      "in loop 150s procs 1\n",
      "in loop 180s procs 1\n",
      "in loop 210s procs 1\n",
      "in loop 240s procs 1\n",
      "in loop 270s procs 1\n",
      "in loop 300s procs 1\n",
      "in loop 330s procs 1\n",
      "in loop 360s procs 1\n",
      "in loop 390s procs 1\n",
      "in loop 420s procs 1\n",
      "in loop 450s procs 0\n"
     ]
    }
   ],
   "source": [
    "%autoreload\n",
    "inverse.run_hysplit()"
   ]
  },
  {
   "cell_type": "markdown",
   "metadata": {},
   "source": [
    "# Creating netcdf files from cdump"
   ]
  },
  {
   "cell_type": "code",
   "execution_count": 128,
   "metadata": {},
   "outputs": [
    {
     "name": "stdout",
     "output_type": "stream",
     "text": [
      "RunH_2_3_TFw5\n",
      "RunH_2_3_4_TFw5\n",
      "RunH_2_3_4_5_TFw5\n",
      "RunH_2_3_4_5_6_TFw5\n",
      "RunH_2_3_4_5_6_7_TFw5\n",
      "RunH_2_3_4_5_6_7_8_TFw5\n",
      "RunH_2_3_4_5_6_7_8_9_TFw5\n",
      "RunH_2_3_4_5_6_7_8_9_10_TFw5\n",
      "RunH_2_3_4_5_6_7_8_9_10_11_TFw5\n",
      "RunH_3_4_TFw5\n",
      "RunH_4_5_TFw5\n",
      "RunH_5_6_TFw5\n",
      "RunH_6_7_TFw5\n",
      "RunH_7_8_TFw5\n",
      "RunH_8_9_TFw5\n",
      "RunH_9_10_TFw5\n",
      "RunH_10_11_TFw5\n",
      "('/hysplit-users/alicec/projects/bezy/RunH/RunH_2_3_TFw5/cdump.zyH25', 'gfs0p25', 'RunH_2_3_TFw5')\n",
      "('/hysplit-users/alicec/projects/bezy/RunH/RunH_2_3_4_TFw5/cdump.zyH25', 'gfs0p25', 'RunH_2_3_4_TFw5')\n",
      "('/hysplit-users/alicec/projects/bezy/RunH/RunH_2_3_4_5_TFw5/cdump.zyH25', 'gfs0p25', 'RunH_2_3_4_5_TFw5')\n",
      "('/hysplit-users/alicec/projects/bezy/RunH/RunH_2_3_4_5_6_TFw5/cdump.zyH25', 'gfs0p25', 'RunH_2_3_4_5_6_TFw5')\n",
      "('/hysplit-users/alicec/projects/bezy/RunH/RunH_2_3_4_5_6_7_TFw5/cdump.zyH25', 'gfs0p25', 'RunH_2_3_4_5_6_7_TFw5')\n",
      "('/hysplit-users/alicec/projects/bezy/RunH/RunH_2_3_4_5_6_7_8_TFw5/cdump.zyH25', 'gfs0p25', 'RunH_2_3_4_5_6_7_8_TFw5')\n",
      "('/hysplit-users/alicec/projects/bezy/RunH/RunH_2_3_4_5_6_7_8_9_TFw5/cdump.zyH25', 'gfs0p25', 'RunH_2_3_4_5_6_7_8_9_TFw5')\n",
      "('/hysplit-users/alicec/projects/bezy/RunH/RunH_2_3_4_5_6_7_8_9_10_TFw5/cdump.zyH25', 'gfs0p25', 'RunH_2_3_4_5_6_7_8_9_10_TFw5')\n",
      "('/hysplit-users/alicec/projects/bezy/RunH/RunH_2_3_4_5_6_7_8_9_10_11_TFw5/cdump.zyH25', 'gfs0p25', 'RunH_2_3_4_5_6_7_8_9_10_11_TFw5')\n",
      "('/hysplit-users/alicec/projects/bezy/RunH/RunH_3_4_TFw5/cdump.zyH25', 'gfs0p25', 'RunH_3_4_TFw5')\n",
      "('/hysplit-users/alicec/projects/bezy/RunH/RunH_4_5_TFw5/cdump.zyH25', 'gfs0p25', 'RunH_4_5_TFw5')\n",
      "('/hysplit-users/alicec/projects/bezy/RunH/RunH_5_6_TFw5/cdump.zyH25', 'gfs0p25', 'RunH_5_6_TFw5')\n",
      "('/hysplit-users/alicec/projects/bezy/RunH/RunH_6_7_TFw5/cdump.zyH25', 'gfs0p25', 'RunH_6_7_TFw5')\n",
      "('/hysplit-users/alicec/projects/bezy/RunH/RunH_7_8_TFw5/cdump.zyH25', 'gfs0p25', 'RunH_7_8_TFw5')\n",
      "('/hysplit-users/alicec/projects/bezy/RunH/RunH_8_9_TFw5/cdump.zyH25', 'gfs0p25', 'RunH_8_9_TFw5')\n",
      "('/hysplit-users/alicec/projects/bezy/RunH/RunH_9_10_TFw5/cdump.zyH25', 'gfs0p25', 'RunH_9_10_TFw5')\n",
      "('/hysplit-users/alicec/projects/bezy/RunH/RunH_10_11_TFw5/cdump.zyH25', 'gfs0p25', 'RunH_10_11_TFw5')\n"
     ]
    }
   ],
   "source": [
    "from monetio.models import hysplit\n",
    "blist = []\n",
    "\n",
    "cdir = '/hysplit-users/alicec/projects/bezy/RunH/'\n",
    "tiilist = [[2,3],[2,3,4],[2,3,4,5],[2,3,4,5,6],[2,3,4,5,6,7],[2,3,4,5,6,7,8],[2,3,4,5,6,7,8,9],\n",
    "           [2,3,4,5,6,7,8,9,10],[2,3,4,5,6,7,8,9,10,11]]\n",
    "name='cdump.zy{}25'.format(tag)\n",
    "runtag = []\n",
    "tag='H'\n",
    "for tii in tiilist:\n",
    "    r = ai.create_runtag(tag,tii,remove_cols, remove_rows, remove_sources,remove_ncs=remove_ncs)\n",
    "    runtag.append(r)\n",
    "    print(r)\n",
    "\n",
    "for tagname in runtag:\n",
    "    blist.append((os.path.join(cdir,tagname,name),'gfs0p25',tagname))\n",
    "\n",
    "runtag=[]\n",
    "tiilist = [[3,4],[4,5],[5,6],[6,7],[7,8],[8,9],[9,10],[10,11]]\n",
    "for tii in tiilist:\n",
    "    r = ai.create_runtag(tag,tii,remove_cols, remove_rows, remove_sources,remove_ncs=remove_ncs)\n",
    "    runtag.append(r)\n",
    "    print(r)\n",
    "\n",
    "for tagname in runtag:\n",
    "    blist.append((os.path.join(cdir,tagname,name),'gfs0p25',tagname))\n",
    "\n",
    "for b in blist: print(b)"
   ]
  },
  {
   "cell_type": "code",
   "execution_count": 129,
   "metadata": {
    "scrolled": true
   },
   "outputs": [
    {
     "name": "stdout",
     "output_type": "stream",
     "text": [
      "reading /hysplit-users/alicec/projects/bezy/RunH/RunH_2_3_TFw5/cdump.zyH25\n",
      "sample time 2020-10-21 20:00:00  to  2020-10-21 20:00:00\n",
      "sample time 2020-10-21 21:00:00  to  2020-10-21 21:00:00\n",
      "sample time 2020-10-21 22:00:00  to  2020-10-21 22:00:00\n",
      "sample time 2020-10-21 23:00:00  to  2020-10-21 23:00:00\n",
      "sample time 2020-10-22 00:00:00  to  2020-10-22 00:00:00\n",
      "sample time 2020-10-22 01:00:00  to  2020-10-22 01:00:00\n",
      "sample time 2020-10-22 02:00:00  to  2020-10-22 02:00:00\n",
      "sample time 2020-10-22 03:00:00  to  2020-10-22 03:00:00\n",
      "sample time 2020-10-22 04:00:00  to  2020-10-22 04:00:00\n",
      "sample time 2020-10-22 05:00:00  to  2020-10-22 05:00:00\n",
      "sample time 2020-10-22 06:00:00  to  2020-10-22 06:00:00\n",
      "sample time 2020-10-22 07:00:00  to  2020-10-22 07:00:00\n",
      "sample time 2020-10-22 08:00:00  to  2020-10-22 08:00:00\n",
      "sample time 2020-10-22 09:00:00  to  2020-10-22 09:00:00\n",
      "sample time 2020-10-22 10:00:00  to  2020-10-22 10:00:00\n",
      "sample time 2020-10-22 11:00:00  to  2020-10-22 11:00:00\n",
      "sample time 2020-10-22 12:00:00  to  2020-10-22 12:00:00\n",
      "sample time 2020-10-22 13:00:00  to  2020-10-22 13:00:00\n",
      "sample time 2020-10-22 14:00:00  to  2020-10-22 14:00:00\n",
      "sample time 2020-10-22 15:00:00  to  2020-10-22 15:00:00\n",
      "sample time 2020-10-22 16:00:00  to  2020-10-22 16:00:00\n",
      "sample time 2020-10-22 17:00:00  to  2020-10-22 17:00:00\n",
      "sample time 2020-10-22 18:00:00  to  2020-10-22 18:00:00\n",
      "sample time 2020-10-22 19:00:00  to  2020-10-22 19:00:00\n",
      "sample time 2020-10-22 20:00:00  to  2020-10-22 20:00:00\n",
      "sample time 2020-10-22 21:00:00  to  2020-10-22 21:00:00\n",
      "sample time 2020-10-22 22:00:00  to  2020-10-22 22:00:00\n",
      "sample time 2020-10-22 23:00:00  to  2020-10-22 23:00:00\n",
      "sample time 2020-10-23 00:00:00  to  2020-10-23 00:00:00\n",
      "sample time 2020-10-23 01:00:00  to  2020-10-23 01:00:00\n",
      "sample time 2020-10-23 02:00:00  to  2020-10-23 02:00:00\n",
      "sample time 2020-10-23 03:00:00  to  2020-10-23 03:00:00\n",
      "sample time 2020-10-23 04:00:00  to  2020-10-23 04:00:00\n",
      "sample time 2020-10-23 05:00:00  to  2020-10-23 05:00:00\n",
      "sample time 2020-10-23 06:00:00  to  2020-10-23 06:00:00\n",
      "sample time 2020-10-23 07:00:00  to  2020-10-23 07:00:00\n",
      "reading /hysplit-users/alicec/projects/bezy/RunH/RunH_2_3_4_TFw5/cdump.zyH25\n",
      "sample time 2020-10-21 20:00:00  to  2020-10-21 20:00:00\n",
      "sample time 2020-10-21 21:00:00  to  2020-10-21 21:00:00\n",
      "sample time 2020-10-21 22:00:00  to  2020-10-21 22:00:00\n",
      "sample time 2020-10-21 23:00:00  to  2020-10-21 23:00:00\n",
      "sample time 2020-10-22 00:00:00  to  2020-10-22 00:00:00\n",
      "sample time 2020-10-22 01:00:00  to  2020-10-22 01:00:00\n",
      "sample time 2020-10-22 02:00:00  to  2020-10-22 02:00:00\n",
      "sample time 2020-10-22 03:00:00  to  2020-10-22 03:00:00\n",
      "sample time 2020-10-22 04:00:00  to  2020-10-22 04:00:00\n",
      "sample time 2020-10-22 05:00:00  to  2020-10-22 05:00:00\n",
      "sample time 2020-10-22 06:00:00  to  2020-10-22 06:00:00\n",
      "sample time 2020-10-22 07:00:00  to  2020-10-22 07:00:00\n",
      "sample time 2020-10-22 08:00:00  to  2020-10-22 08:00:00\n",
      "sample time 2020-10-22 09:00:00  to  2020-10-22 09:00:00\n",
      "sample time 2020-10-22 10:00:00  to  2020-10-22 10:00:00\n",
      "sample time 2020-10-22 11:00:00  to  2020-10-22 11:00:00\n",
      "sample time 2020-10-22 12:00:00  to  2020-10-22 12:00:00\n",
      "sample time 2020-10-22 13:00:00  to  2020-10-22 13:00:00\n",
      "sample time 2020-10-22 14:00:00  to  2020-10-22 14:00:00\n",
      "sample time 2020-10-22 15:00:00  to  2020-10-22 15:00:00\n",
      "sample time 2020-10-22 16:00:00  to  2020-10-22 16:00:00\n",
      "sample time 2020-10-22 17:00:00  to  2020-10-22 17:00:00\n",
      "sample time 2020-10-22 18:00:00  to  2020-10-22 18:00:00\n",
      "sample time 2020-10-22 19:00:00  to  2020-10-22 19:00:00\n",
      "sample time 2020-10-22 20:00:00  to  2020-10-22 20:00:00\n",
      "sample time 2020-10-22 21:00:00  to  2020-10-22 21:00:00\n",
      "sample time 2020-10-22 22:00:00  to  2020-10-22 22:00:00\n",
      "sample time 2020-10-22 23:00:00  to  2020-10-22 23:00:00\n",
      "sample time 2020-10-23 00:00:00  to  2020-10-23 00:00:00\n",
      "sample time 2020-10-23 01:00:00  to  2020-10-23 01:00:00\n",
      "sample time 2020-10-23 02:00:00  to  2020-10-23 02:00:00\n",
      "sample time 2020-10-23 03:00:00  to  2020-10-23 03:00:00\n",
      "sample time 2020-10-23 04:00:00  to  2020-10-23 04:00:00\n",
      "sample time 2020-10-23 05:00:00  to  2020-10-23 05:00:00\n",
      "sample time 2020-10-23 06:00:00  to  2020-10-23 06:00:00\n",
      "sample time 2020-10-23 07:00:00  to  2020-10-23 07:00:00\n",
      "reading /hysplit-users/alicec/projects/bezy/RunH/RunH_2_3_4_5_TFw5/cdump.zyH25\n",
      "sample time 2020-10-21 20:00:00  to  2020-10-21 20:00:00\n",
      "sample time 2020-10-21 21:00:00  to  2020-10-21 21:00:00\n",
      "sample time 2020-10-21 22:00:00  to  2020-10-21 22:00:00\n",
      "sample time 2020-10-21 23:00:00  to  2020-10-21 23:00:00\n",
      "sample time 2020-10-22 00:00:00  to  2020-10-22 00:00:00\n",
      "sample time 2020-10-22 01:00:00  to  2020-10-22 01:00:00\n",
      "sample time 2020-10-22 02:00:00  to  2020-10-22 02:00:00\n",
      "sample time 2020-10-22 03:00:00  to  2020-10-22 03:00:00\n",
      "sample time 2020-10-22 04:00:00  to  2020-10-22 04:00:00\n",
      "sample time 2020-10-22 05:00:00  to  2020-10-22 05:00:00\n",
      "sample time 2020-10-22 06:00:00  to  2020-10-22 06:00:00\n",
      "sample time 2020-10-22 07:00:00  to  2020-10-22 07:00:00\n",
      "sample time 2020-10-22 08:00:00  to  2020-10-22 08:00:00\n",
      "sample time 2020-10-22 09:00:00  to  2020-10-22 09:00:00\n",
      "sample time 2020-10-22 10:00:00  to  2020-10-22 10:00:00\n",
      "sample time 2020-10-22 11:00:00  to  2020-10-22 11:00:00\n",
      "sample time 2020-10-22 12:00:00  to  2020-10-22 12:00:00\n",
      "sample time 2020-10-22 13:00:00  to  2020-10-22 13:00:00\n",
      "sample time 2020-10-22 14:00:00  to  2020-10-22 14:00:00\n",
      "sample time 2020-10-22 15:00:00  to  2020-10-22 15:00:00\n",
      "sample time 2020-10-22 16:00:00  to  2020-10-22 16:00:00\n",
      "sample time 2020-10-22 17:00:00  to  2020-10-22 17:00:00\n",
      "sample time 2020-10-22 18:00:00  to  2020-10-22 18:00:00\n",
      "sample time 2020-10-22 19:00:00  to  2020-10-22 19:00:00\n",
      "sample time 2020-10-22 20:00:00  to  2020-10-22 20:00:00\n",
      "sample time 2020-10-22 21:00:00  to  2020-10-22 21:00:00\n",
      "sample time 2020-10-22 22:00:00  to  2020-10-22 22:00:00\n",
      "sample time 2020-10-22 23:00:00  to  2020-10-22 23:00:00\n",
      "sample time 2020-10-23 00:00:00  to  2020-10-23 00:00:00\n",
      "sample time 2020-10-23 01:00:00  to  2020-10-23 01:00:00\n",
      "sample time 2020-10-23 02:00:00  to  2020-10-23 02:00:00\n",
      "sample time 2020-10-23 03:00:00  to  2020-10-23 03:00:00\n",
      "sample time 2020-10-23 04:00:00  to  2020-10-23 04:00:00\n",
      "sample time 2020-10-23 05:00:00  to  2020-10-23 05:00:00\n",
      "sample time 2020-10-23 06:00:00  to  2020-10-23 06:00:00\n",
      "sample time 2020-10-23 07:00:00  to  2020-10-23 07:00:00\n",
      "reading /hysplit-users/alicec/projects/bezy/RunH/RunH_2_3_4_5_6_TFw5/cdump.zyH25\n",
      "sample time 2020-10-21 20:00:00  to  2020-10-21 20:00:00\n",
      "sample time 2020-10-21 21:00:00  to  2020-10-21 21:00:00\n",
      "sample time 2020-10-21 22:00:00  to  2020-10-21 22:00:00\n",
      "sample time 2020-10-21 23:00:00  to  2020-10-21 23:00:00\n",
      "sample time 2020-10-22 00:00:00  to  2020-10-22 00:00:00\n",
      "sample time 2020-10-22 01:00:00  to  2020-10-22 01:00:00\n",
      "sample time 2020-10-22 02:00:00  to  2020-10-22 02:00:00\n",
      "sample time 2020-10-22 03:00:00  to  2020-10-22 03:00:00\n",
      "sample time 2020-10-22 04:00:00  to  2020-10-22 04:00:00\n",
      "sample time 2020-10-22 05:00:00  to  2020-10-22 05:00:00\n",
      "sample time 2020-10-22 06:00:00  to  2020-10-22 06:00:00\n",
      "sample time 2020-10-22 07:00:00  to  2020-10-22 07:00:00\n",
      "sample time 2020-10-22 08:00:00  to  2020-10-22 08:00:00\n",
      "sample time 2020-10-22 09:00:00  to  2020-10-22 09:00:00\n",
      "sample time 2020-10-22 10:00:00  to  2020-10-22 10:00:00\n",
      "sample time 2020-10-22 11:00:00  to  2020-10-22 11:00:00\n",
      "sample time 2020-10-22 12:00:00  to  2020-10-22 12:00:00\n",
      "sample time 2020-10-22 13:00:00  to  2020-10-22 13:00:00\n",
      "sample time 2020-10-22 14:00:00  to  2020-10-22 14:00:00\n",
      "sample time 2020-10-22 15:00:00  to  2020-10-22 15:00:00\n",
      "sample time 2020-10-22 16:00:00  to  2020-10-22 16:00:00\n",
      "sample time 2020-10-22 17:00:00  to  2020-10-22 17:00:00\n",
      "sample time 2020-10-22 18:00:00  to  2020-10-22 18:00:00\n",
      "sample time 2020-10-22 19:00:00  to  2020-10-22 19:00:00\n",
      "sample time 2020-10-22 20:00:00  to  2020-10-22 20:00:00\n",
      "sample time 2020-10-22 21:00:00  to  2020-10-22 21:00:00\n",
      "sample time 2020-10-22 22:00:00  to  2020-10-22 22:00:00\n",
      "sample time 2020-10-22 23:00:00  to  2020-10-22 23:00:00\n",
      "sample time 2020-10-23 00:00:00  to  2020-10-23 00:00:00\n",
      "sample time 2020-10-23 01:00:00  to  2020-10-23 01:00:00\n",
      "sample time 2020-10-23 02:00:00  to  2020-10-23 02:00:00\n"
     ]
    },
    {
     "name": "stdout",
     "output_type": "stream",
     "text": [
      "sample time 2020-10-23 03:00:00  to  2020-10-23 03:00:00\n",
      "sample time 2020-10-23 04:00:00  to  2020-10-23 04:00:00\n",
      "sample time 2020-10-23 05:00:00  to  2020-10-23 05:00:00\n",
      "sample time 2020-10-23 06:00:00  to  2020-10-23 06:00:00\n",
      "sample time 2020-10-23 07:00:00  to  2020-10-23 07:00:00\n",
      "reading /hysplit-users/alicec/projects/bezy/RunH/RunH_2_3_4_5_6_7_TFw5/cdump.zyH25\n",
      "sample time 2020-10-21 20:00:00  to  2020-10-21 20:00:00\n",
      "sample time 2020-10-21 21:00:00  to  2020-10-21 21:00:00\n",
      "sample time 2020-10-21 22:00:00  to  2020-10-21 22:00:00\n",
      "sample time 2020-10-21 23:00:00  to  2020-10-21 23:00:00\n",
      "sample time 2020-10-22 00:00:00  to  2020-10-22 00:00:00\n",
      "sample time 2020-10-22 01:00:00  to  2020-10-22 01:00:00\n",
      "sample time 2020-10-22 02:00:00  to  2020-10-22 02:00:00\n",
      "sample time 2020-10-22 03:00:00  to  2020-10-22 03:00:00\n",
      "sample time 2020-10-22 04:00:00  to  2020-10-22 04:00:00\n",
      "sample time 2020-10-22 05:00:00  to  2020-10-22 05:00:00\n",
      "sample time 2020-10-22 06:00:00  to  2020-10-22 06:00:00\n",
      "sample time 2020-10-22 07:00:00  to  2020-10-22 07:00:00\n",
      "sample time 2020-10-22 08:00:00  to  2020-10-22 08:00:00\n",
      "sample time 2020-10-22 09:00:00  to  2020-10-22 09:00:00\n",
      "sample time 2020-10-22 10:00:00  to  2020-10-22 10:00:00\n",
      "sample time 2020-10-22 11:00:00  to  2020-10-22 11:00:00\n",
      "sample time 2020-10-22 12:00:00  to  2020-10-22 12:00:00\n",
      "sample time 2020-10-22 13:00:00  to  2020-10-22 13:00:00\n",
      "sample time 2020-10-22 14:00:00  to  2020-10-22 14:00:00\n",
      "sample time 2020-10-22 15:00:00  to  2020-10-22 15:00:00\n",
      "sample time 2020-10-22 16:00:00  to  2020-10-22 16:00:00\n",
      "sample time 2020-10-22 17:00:00  to  2020-10-22 17:00:00\n",
      "sample time 2020-10-22 18:00:00  to  2020-10-22 18:00:00\n",
      "sample time 2020-10-22 19:00:00  to  2020-10-22 19:00:00\n",
      "sample time 2020-10-22 20:00:00  to  2020-10-22 20:00:00\n",
      "sample time 2020-10-22 21:00:00  to  2020-10-22 21:00:00\n",
      "sample time 2020-10-22 22:00:00  to  2020-10-22 22:00:00\n",
      "sample time 2020-10-22 23:00:00  to  2020-10-22 23:00:00\n",
      "sample time 2020-10-23 00:00:00  to  2020-10-23 00:00:00\n",
      "sample time 2020-10-23 01:00:00  to  2020-10-23 01:00:00\n",
      "sample time 2020-10-23 02:00:00  to  2020-10-23 02:00:00\n",
      "sample time 2020-10-23 03:00:00  to  2020-10-23 03:00:00\n",
      "sample time 2020-10-23 04:00:00  to  2020-10-23 04:00:00\n",
      "sample time 2020-10-23 05:00:00  to  2020-10-23 05:00:00\n",
      "sample time 2020-10-23 06:00:00  to  2020-10-23 06:00:00\n",
      "sample time 2020-10-23 07:00:00  to  2020-10-23 07:00:00\n",
      "reading /hysplit-users/alicec/projects/bezy/RunH/RunH_2_3_4_5_6_7_8_TFw5/cdump.zyH25\n",
      "sample time 2020-10-21 20:00:00  to  2020-10-21 20:00:00\n",
      "sample time 2020-10-21 21:00:00  to  2020-10-21 21:00:00\n",
      "sample time 2020-10-21 22:00:00  to  2020-10-21 22:00:00\n",
      "sample time 2020-10-21 23:00:00  to  2020-10-21 23:00:00\n",
      "sample time 2020-10-22 00:00:00  to  2020-10-22 00:00:00\n",
      "sample time 2020-10-22 01:00:00  to  2020-10-22 01:00:00\n",
      "sample time 2020-10-22 02:00:00  to  2020-10-22 02:00:00\n",
      "sample time 2020-10-22 03:00:00  to  2020-10-22 03:00:00\n",
      "sample time 2020-10-22 04:00:00  to  2020-10-22 04:00:00\n",
      "sample time 2020-10-22 05:00:00  to  2020-10-22 05:00:00\n",
      "sample time 2020-10-22 06:00:00  to  2020-10-22 06:00:00\n",
      "sample time 2020-10-22 07:00:00  to  2020-10-22 07:00:00\n",
      "sample time 2020-10-22 08:00:00  to  2020-10-22 08:00:00\n",
      "sample time 2020-10-22 09:00:00  to  2020-10-22 09:00:00\n",
      "sample time 2020-10-22 10:00:00  to  2020-10-22 10:00:00\n",
      "sample time 2020-10-22 11:00:00  to  2020-10-22 11:00:00\n",
      "sample time 2020-10-22 12:00:00  to  2020-10-22 12:00:00\n",
      "sample time 2020-10-22 13:00:00  to  2020-10-22 13:00:00\n",
      "sample time 2020-10-22 14:00:00  to  2020-10-22 14:00:00\n",
      "sample time 2020-10-22 15:00:00  to  2020-10-22 15:00:00\n",
      "sample time 2020-10-22 16:00:00  to  2020-10-22 16:00:00\n",
      "sample time 2020-10-22 17:00:00  to  2020-10-22 17:00:00\n",
      "sample time 2020-10-22 18:00:00  to  2020-10-22 18:00:00\n",
      "sample time 2020-10-22 19:00:00  to  2020-10-22 19:00:00\n",
      "sample time 2020-10-22 20:00:00  to  2020-10-22 20:00:00\n",
      "sample time 2020-10-22 21:00:00  to  2020-10-22 21:00:00\n",
      "sample time 2020-10-22 22:00:00  to  2020-10-22 22:00:00\n",
      "sample time 2020-10-22 23:00:00  to  2020-10-22 23:00:00\n",
      "sample time 2020-10-23 00:00:00  to  2020-10-23 00:00:00\n",
      "sample time 2020-10-23 01:00:00  to  2020-10-23 01:00:00\n",
      "sample time 2020-10-23 02:00:00  to  2020-10-23 02:00:00\n",
      "sample time 2020-10-23 03:00:00  to  2020-10-23 03:00:00\n",
      "sample time 2020-10-23 04:00:00  to  2020-10-23 04:00:00\n",
      "sample time 2020-10-23 05:00:00  to  2020-10-23 05:00:00\n",
      "sample time 2020-10-23 06:00:00  to  2020-10-23 06:00:00\n",
      "sample time 2020-10-23 07:00:00  to  2020-10-23 07:00:00\n",
      "reading /hysplit-users/alicec/projects/bezy/RunH/RunH_2_3_4_5_6_7_8_9_TFw5/cdump.zyH25\n",
      "sample time 2020-10-21 20:00:00  to  2020-10-21 20:00:00\n",
      "sample time 2020-10-21 21:00:00  to  2020-10-21 21:00:00\n",
      "sample time 2020-10-21 22:00:00  to  2020-10-21 22:00:00\n",
      "sample time 2020-10-21 23:00:00  to  2020-10-21 23:00:00\n",
      "sample time 2020-10-22 00:00:00  to  2020-10-22 00:00:00\n",
      "sample time 2020-10-22 01:00:00  to  2020-10-22 01:00:00\n",
      "sample time 2020-10-22 02:00:00  to  2020-10-22 02:00:00\n",
      "sample time 2020-10-22 03:00:00  to  2020-10-22 03:00:00\n",
      "sample time 2020-10-22 04:00:00  to  2020-10-22 04:00:00\n",
      "sample time 2020-10-22 05:00:00  to  2020-10-22 05:00:00\n",
      "sample time 2020-10-22 06:00:00  to  2020-10-22 06:00:00\n",
      "sample time 2020-10-22 07:00:00  to  2020-10-22 07:00:00\n",
      "sample time 2020-10-22 08:00:00  to  2020-10-22 08:00:00\n",
      "sample time 2020-10-22 09:00:00  to  2020-10-22 09:00:00\n",
      "sample time 2020-10-22 10:00:00  to  2020-10-22 10:00:00\n",
      "sample time 2020-10-22 11:00:00  to  2020-10-22 11:00:00\n",
      "sample time 2020-10-22 12:00:00  to  2020-10-22 12:00:00\n",
      "sample time 2020-10-22 13:00:00  to  2020-10-22 13:00:00\n",
      "sample time 2020-10-22 14:00:00  to  2020-10-22 14:00:00\n",
      "sample time 2020-10-22 15:00:00  to  2020-10-22 15:00:00\n",
      "sample time 2020-10-22 16:00:00  to  2020-10-22 16:00:00\n",
      "sample time 2020-10-22 17:00:00  to  2020-10-22 17:00:00\n",
      "sample time 2020-10-22 18:00:00  to  2020-10-22 18:00:00\n",
      "sample time 2020-10-22 19:00:00  to  2020-10-22 19:00:00\n",
      "sample time 2020-10-22 20:00:00  to  2020-10-22 20:00:00\n",
      "sample time 2020-10-22 21:00:00  to  2020-10-22 21:00:00\n",
      "sample time 2020-10-22 22:00:00  to  2020-10-22 22:00:00\n",
      "sample time 2020-10-22 23:00:00  to  2020-10-22 23:00:00\n",
      "sample time 2020-10-23 00:00:00  to  2020-10-23 00:00:00\n",
      "sample time 2020-10-23 01:00:00  to  2020-10-23 01:00:00\n",
      "sample time 2020-10-23 02:00:00  to  2020-10-23 02:00:00\n",
      "sample time 2020-10-23 03:00:00  to  2020-10-23 03:00:00\n",
      "sample time 2020-10-23 04:00:00  to  2020-10-23 04:00:00\n",
      "sample time 2020-10-23 05:00:00  to  2020-10-23 05:00:00\n",
      "sample time 2020-10-23 06:00:00  to  2020-10-23 06:00:00\n",
      "sample time 2020-10-23 07:00:00  to  2020-10-23 07:00:00\n",
      "reading /hysplit-users/alicec/projects/bezy/RunH/RunH_2_3_4_5_6_7_8_9_10_TFw5/cdump.zyH25\n",
      "sample time 2020-10-21 20:00:00  to  2020-10-21 20:00:00\n",
      "sample time 2020-10-21 21:00:00  to  2020-10-21 21:00:00\n",
      "sample time 2020-10-21 22:00:00  to  2020-10-21 22:00:00\n",
      "sample time 2020-10-21 23:00:00  to  2020-10-21 23:00:00\n",
      "sample time 2020-10-22 00:00:00  to  2020-10-22 00:00:00\n",
      "sample time 2020-10-22 01:00:00  to  2020-10-22 01:00:00\n",
      "sample time 2020-10-22 02:00:00  to  2020-10-22 02:00:00\n",
      "sample time 2020-10-22 03:00:00  to  2020-10-22 03:00:00\n",
      "sample time 2020-10-22 04:00:00  to  2020-10-22 04:00:00\n",
      "sample time 2020-10-22 05:00:00  to  2020-10-22 05:00:00\n",
      "sample time 2020-10-22 06:00:00  to  2020-10-22 06:00:00\n",
      "sample time 2020-10-22 07:00:00  to  2020-10-22 07:00:00\n",
      "sample time 2020-10-22 08:00:00  to  2020-10-22 08:00:00\n",
      "sample time 2020-10-22 09:00:00  to  2020-10-22 09:00:00\n",
      "sample time 2020-10-22 10:00:00  to  2020-10-22 10:00:00\n",
      "sample time 2020-10-22 11:00:00  to  2020-10-22 11:00:00\n",
      "sample time 2020-10-22 12:00:00  to  2020-10-22 12:00:00\n",
      "sample time 2020-10-22 13:00:00  to  2020-10-22 13:00:00\n",
      "sample time 2020-10-22 14:00:00  to  2020-10-22 14:00:00\n",
      "sample time 2020-10-22 15:00:00  to  2020-10-22 15:00:00\n",
      "sample time 2020-10-22 16:00:00  to  2020-10-22 16:00:00\n",
      "sample time 2020-10-22 17:00:00  to  2020-10-22 17:00:00\n",
      "sample time 2020-10-22 18:00:00  to  2020-10-22 18:00:00\n",
      "sample time 2020-10-22 19:00:00  to  2020-10-22 19:00:00\n",
      "sample time 2020-10-22 20:00:00  to  2020-10-22 20:00:00\n"
     ]
    },
    {
     "name": "stdout",
     "output_type": "stream",
     "text": [
      "sample time 2020-10-22 21:00:00  to  2020-10-22 21:00:00\n",
      "sample time 2020-10-22 22:00:00  to  2020-10-22 22:00:00\n",
      "sample time 2020-10-22 23:00:00  to  2020-10-22 23:00:00\n",
      "sample time 2020-10-23 00:00:00  to  2020-10-23 00:00:00\n",
      "sample time 2020-10-23 01:00:00  to  2020-10-23 01:00:00\n",
      "sample time 2020-10-23 02:00:00  to  2020-10-23 02:00:00\n",
      "sample time 2020-10-23 03:00:00  to  2020-10-23 03:00:00\n",
      "sample time 2020-10-23 04:00:00  to  2020-10-23 04:00:00\n",
      "sample time 2020-10-23 05:00:00  to  2020-10-23 05:00:00\n",
      "sample time 2020-10-23 06:00:00  to  2020-10-23 06:00:00\n",
      "sample time 2020-10-23 07:00:00  to  2020-10-23 07:00:00\n",
      "reading /hysplit-users/alicec/projects/bezy/RunH/RunH_2_3_4_5_6_7_8_9_10_11_TFw5/cdump.zyH25\n",
      "sample time 2020-10-21 20:00:00  to  2020-10-21 20:00:00\n",
      "sample time 2020-10-21 21:00:00  to  2020-10-21 21:00:00\n",
      "sample time 2020-10-21 22:00:00  to  2020-10-21 22:00:00\n",
      "sample time 2020-10-21 23:00:00  to  2020-10-21 23:00:00\n",
      "sample time 2020-10-22 00:00:00  to  2020-10-22 00:00:00\n",
      "sample time 2020-10-22 01:00:00  to  2020-10-22 01:00:00\n",
      "sample time 2020-10-22 02:00:00  to  2020-10-22 02:00:00\n",
      "sample time 2020-10-22 03:00:00  to  2020-10-22 03:00:00\n",
      "sample time 2020-10-22 04:00:00  to  2020-10-22 04:00:00\n",
      "sample time 2020-10-22 05:00:00  to  2020-10-22 05:00:00\n",
      "sample time 2020-10-22 06:00:00  to  2020-10-22 06:00:00\n",
      "sample time 2020-10-22 07:00:00  to  2020-10-22 07:00:00\n",
      "sample time 2020-10-22 08:00:00  to  2020-10-22 08:00:00\n",
      "sample time 2020-10-22 09:00:00  to  2020-10-22 09:00:00\n",
      "sample time 2020-10-22 10:00:00  to  2020-10-22 10:00:00\n",
      "sample time 2020-10-22 11:00:00  to  2020-10-22 11:00:00\n",
      "sample time 2020-10-22 12:00:00  to  2020-10-22 12:00:00\n",
      "sample time 2020-10-22 13:00:00  to  2020-10-22 13:00:00\n",
      "sample time 2020-10-22 14:00:00  to  2020-10-22 14:00:00\n",
      "sample time 2020-10-22 15:00:00  to  2020-10-22 15:00:00\n",
      "sample time 2020-10-22 16:00:00  to  2020-10-22 16:00:00\n",
      "sample time 2020-10-22 17:00:00  to  2020-10-22 17:00:00\n",
      "sample time 2020-10-22 18:00:00  to  2020-10-22 18:00:00\n",
      "sample time 2020-10-22 19:00:00  to  2020-10-22 19:00:00\n",
      "sample time 2020-10-22 20:00:00  to  2020-10-22 20:00:00\n",
      "sample time 2020-10-22 21:00:00  to  2020-10-22 21:00:00\n",
      "sample time 2020-10-22 22:00:00  to  2020-10-22 22:00:00\n",
      "sample time 2020-10-22 23:00:00  to  2020-10-22 23:00:00\n",
      "sample time 2020-10-23 00:00:00  to  2020-10-23 00:00:00\n",
      "sample time 2020-10-23 01:00:00  to  2020-10-23 01:00:00\n",
      "sample time 2020-10-23 02:00:00  to  2020-10-23 02:00:00\n",
      "sample time 2020-10-23 03:00:00  to  2020-10-23 03:00:00\n",
      "sample time 2020-10-23 04:00:00  to  2020-10-23 04:00:00\n",
      "sample time 2020-10-23 05:00:00  to  2020-10-23 05:00:00\n",
      "sample time 2020-10-23 06:00:00  to  2020-10-23 06:00:00\n",
      "sample time 2020-10-23 07:00:00  to  2020-10-23 07:00:00\n",
      "reading /hysplit-users/alicec/projects/bezy/RunH/RunH_3_4_TFw5/cdump.zyH25\n",
      "sample time 2020-10-21 20:00:00  to  2020-10-21 20:00:00\n",
      "sample time 2020-10-21 21:00:00  to  2020-10-21 21:00:00\n",
      "sample time 2020-10-21 22:00:00  to  2020-10-21 22:00:00\n",
      "sample time 2020-10-21 23:00:00  to  2020-10-21 23:00:00\n",
      "sample time 2020-10-22 00:00:00  to  2020-10-22 00:00:00\n",
      "sample time 2020-10-22 01:00:00  to  2020-10-22 01:00:00\n",
      "sample time 2020-10-22 02:00:00  to  2020-10-22 02:00:00\n",
      "sample time 2020-10-22 03:00:00  to  2020-10-22 03:00:00\n",
      "sample time 2020-10-22 04:00:00  to  2020-10-22 04:00:00\n",
      "sample time 2020-10-22 05:00:00  to  2020-10-22 05:00:00\n",
      "sample time 2020-10-22 06:00:00  to  2020-10-22 06:00:00\n",
      "sample time 2020-10-22 07:00:00  to  2020-10-22 07:00:00\n",
      "sample time 2020-10-22 08:00:00  to  2020-10-22 08:00:00\n",
      "sample time 2020-10-22 09:00:00  to  2020-10-22 09:00:00\n",
      "sample time 2020-10-22 10:00:00  to  2020-10-22 10:00:00\n",
      "sample time 2020-10-22 11:00:00  to  2020-10-22 11:00:00\n",
      "sample time 2020-10-22 12:00:00  to  2020-10-22 12:00:00\n",
      "sample time 2020-10-22 13:00:00  to  2020-10-22 13:00:00\n",
      "sample time 2020-10-22 14:00:00  to  2020-10-22 14:00:00\n",
      "sample time 2020-10-22 15:00:00  to  2020-10-22 15:00:00\n",
      "sample time 2020-10-22 16:00:00  to  2020-10-22 16:00:00\n",
      "sample time 2020-10-22 17:00:00  to  2020-10-22 17:00:00\n",
      "sample time 2020-10-22 18:00:00  to  2020-10-22 18:00:00\n",
      "sample time 2020-10-22 19:00:00  to  2020-10-22 19:00:00\n",
      "sample time 2020-10-22 20:00:00  to  2020-10-22 20:00:00\n",
      "sample time 2020-10-22 21:00:00  to  2020-10-22 21:00:00\n",
      "sample time 2020-10-22 22:00:00  to  2020-10-22 22:00:00\n",
      "sample time 2020-10-22 23:00:00  to  2020-10-22 23:00:00\n",
      "sample time 2020-10-23 00:00:00  to  2020-10-23 00:00:00\n",
      "sample time 2020-10-23 01:00:00  to  2020-10-23 01:00:00\n",
      "sample time 2020-10-23 02:00:00  to  2020-10-23 02:00:00\n",
      "sample time 2020-10-23 03:00:00  to  2020-10-23 03:00:00\n",
      "sample time 2020-10-23 04:00:00  to  2020-10-23 04:00:00\n",
      "sample time 2020-10-23 05:00:00  to  2020-10-23 05:00:00\n",
      "sample time 2020-10-23 06:00:00  to  2020-10-23 06:00:00\n",
      "sample time 2020-10-23 07:00:00  to  2020-10-23 07:00:00\n",
      "reading /hysplit-users/alicec/projects/bezy/RunH/RunH_4_5_TFw5/cdump.zyH25\n",
      "sample time 2020-10-21 20:00:00  to  2020-10-21 20:00:00\n",
      "sample time 2020-10-21 21:00:00  to  2020-10-21 21:00:00\n",
      "sample time 2020-10-21 22:00:00  to  2020-10-21 22:00:00\n",
      "sample time 2020-10-21 23:00:00  to  2020-10-21 23:00:00\n",
      "sample time 2020-10-22 00:00:00  to  2020-10-22 00:00:00\n",
      "sample time 2020-10-22 01:00:00  to  2020-10-22 01:00:00\n",
      "sample time 2020-10-22 02:00:00  to  2020-10-22 02:00:00\n",
      "sample time 2020-10-22 03:00:00  to  2020-10-22 03:00:00\n",
      "sample time 2020-10-22 04:00:00  to  2020-10-22 04:00:00\n",
      "sample time 2020-10-22 05:00:00  to  2020-10-22 05:00:00\n",
      "sample time 2020-10-22 06:00:00  to  2020-10-22 06:00:00\n",
      "sample time 2020-10-22 07:00:00  to  2020-10-22 07:00:00\n",
      "sample time 2020-10-22 08:00:00  to  2020-10-22 08:00:00\n",
      "sample time 2020-10-22 09:00:00  to  2020-10-22 09:00:00\n",
      "sample time 2020-10-22 10:00:00  to  2020-10-22 10:00:00\n",
      "sample time 2020-10-22 11:00:00  to  2020-10-22 11:00:00\n",
      "sample time 2020-10-22 12:00:00  to  2020-10-22 12:00:00\n",
      "sample time 2020-10-22 13:00:00  to  2020-10-22 13:00:00\n",
      "sample time 2020-10-22 14:00:00  to  2020-10-22 14:00:00\n",
      "sample time 2020-10-22 15:00:00  to  2020-10-22 15:00:00\n",
      "sample time 2020-10-22 16:00:00  to  2020-10-22 16:00:00\n",
      "sample time 2020-10-22 17:00:00  to  2020-10-22 17:00:00\n",
      "sample time 2020-10-22 18:00:00  to  2020-10-22 18:00:00\n",
      "sample time 2020-10-22 19:00:00  to  2020-10-22 19:00:00\n",
      "sample time 2020-10-22 20:00:00  to  2020-10-22 20:00:00\n",
      "sample time 2020-10-22 21:00:00  to  2020-10-22 21:00:00\n",
      "sample time 2020-10-22 22:00:00  to  2020-10-22 22:00:00\n",
      "sample time 2020-10-22 23:00:00  to  2020-10-22 23:00:00\n",
      "sample time 2020-10-23 00:00:00  to  2020-10-23 00:00:00\n",
      "sample time 2020-10-23 01:00:00  to  2020-10-23 01:00:00\n",
      "sample time 2020-10-23 02:00:00  to  2020-10-23 02:00:00\n",
      "sample time 2020-10-23 03:00:00  to  2020-10-23 03:00:00\n",
      "sample time 2020-10-23 04:00:00  to  2020-10-23 04:00:00\n",
      "sample time 2020-10-23 05:00:00  to  2020-10-23 05:00:00\n",
      "sample time 2020-10-23 06:00:00  to  2020-10-23 06:00:00\n",
      "sample time 2020-10-23 07:00:00  to  2020-10-23 07:00:00\n",
      "reading /hysplit-users/alicec/projects/bezy/RunH/RunH_5_6_TFw5/cdump.zyH25\n",
      "sample time 2020-10-21 20:00:00  to  2020-10-21 20:00:00\n",
      "sample time 2020-10-21 21:00:00  to  2020-10-21 21:00:00\n",
      "sample time 2020-10-21 22:00:00  to  2020-10-21 22:00:00\n",
      "sample time 2020-10-21 23:00:00  to  2020-10-21 23:00:00\n",
      "sample time 2020-10-22 00:00:00  to  2020-10-22 00:00:00\n",
      "sample time 2020-10-22 01:00:00  to  2020-10-22 01:00:00\n",
      "sample time 2020-10-22 02:00:00  to  2020-10-22 02:00:00\n",
      "sample time 2020-10-22 03:00:00  to  2020-10-22 03:00:00\n",
      "sample time 2020-10-22 04:00:00  to  2020-10-22 04:00:00\n",
      "sample time 2020-10-22 05:00:00  to  2020-10-22 05:00:00\n",
      "sample time 2020-10-22 06:00:00  to  2020-10-22 06:00:00\n",
      "sample time 2020-10-22 07:00:00  to  2020-10-22 07:00:00\n",
      "sample time 2020-10-22 08:00:00  to  2020-10-22 08:00:00\n",
      "sample time 2020-10-22 09:00:00  to  2020-10-22 09:00:00\n",
      "sample time 2020-10-22 10:00:00  to  2020-10-22 10:00:00\n",
      "sample time 2020-10-22 11:00:00  to  2020-10-22 11:00:00\n",
      "sample time 2020-10-22 12:00:00  to  2020-10-22 12:00:00\n",
      "sample time 2020-10-22 13:00:00  to  2020-10-22 13:00:00\n",
      "sample time 2020-10-22 14:00:00  to  2020-10-22 14:00:00\n",
      "sample time 2020-10-22 15:00:00  to  2020-10-22 15:00:00\n"
     ]
    },
    {
     "name": "stdout",
     "output_type": "stream",
     "text": [
      "sample time 2020-10-22 16:00:00  to  2020-10-22 16:00:00\n",
      "sample time 2020-10-22 17:00:00  to  2020-10-22 17:00:00\n",
      "sample time 2020-10-22 18:00:00  to  2020-10-22 18:00:00\n",
      "sample time 2020-10-22 19:00:00  to  2020-10-22 19:00:00\n",
      "sample time 2020-10-22 20:00:00  to  2020-10-22 20:00:00\n",
      "sample time 2020-10-22 21:00:00  to  2020-10-22 21:00:00\n",
      "sample time 2020-10-22 22:00:00  to  2020-10-22 22:00:00\n",
      "sample time 2020-10-22 23:00:00  to  2020-10-22 23:00:00\n",
      "sample time 2020-10-23 00:00:00  to  2020-10-23 00:00:00\n",
      "sample time 2020-10-23 01:00:00  to  2020-10-23 01:00:00\n",
      "sample time 2020-10-23 02:00:00  to  2020-10-23 02:00:00\n",
      "sample time 2020-10-23 03:00:00  to  2020-10-23 03:00:00\n",
      "sample time 2020-10-23 04:00:00  to  2020-10-23 04:00:00\n",
      "sample time 2020-10-23 05:00:00  to  2020-10-23 05:00:00\n",
      "sample time 2020-10-23 06:00:00  to  2020-10-23 06:00:00\n",
      "sample time 2020-10-23 07:00:00  to  2020-10-23 07:00:00\n",
      "reading /hysplit-users/alicec/projects/bezy/RunH/RunH_6_7_TFw5/cdump.zyH25\n",
      "sample time 2020-10-21 20:00:00  to  2020-10-21 20:00:00\n",
      "sample time 2020-10-21 21:00:00  to  2020-10-21 21:00:00\n",
      "sample time 2020-10-21 22:00:00  to  2020-10-21 22:00:00\n",
      "sample time 2020-10-21 23:00:00  to  2020-10-21 23:00:00\n",
      "sample time 2020-10-22 00:00:00  to  2020-10-22 00:00:00\n",
      "sample time 2020-10-22 01:00:00  to  2020-10-22 01:00:00\n",
      "sample time 2020-10-22 02:00:00  to  2020-10-22 02:00:00\n",
      "sample time 2020-10-22 03:00:00  to  2020-10-22 03:00:00\n",
      "sample time 2020-10-22 04:00:00  to  2020-10-22 04:00:00\n",
      "sample time 2020-10-22 05:00:00  to  2020-10-22 05:00:00\n",
      "sample time 2020-10-22 06:00:00  to  2020-10-22 06:00:00\n",
      "sample time 2020-10-22 07:00:00  to  2020-10-22 07:00:00\n",
      "sample time 2020-10-22 08:00:00  to  2020-10-22 08:00:00\n",
      "sample time 2020-10-22 09:00:00  to  2020-10-22 09:00:00\n",
      "sample time 2020-10-22 10:00:00  to  2020-10-22 10:00:00\n",
      "sample time 2020-10-22 11:00:00  to  2020-10-22 11:00:00\n",
      "sample time 2020-10-22 12:00:00  to  2020-10-22 12:00:00\n",
      "sample time 2020-10-22 13:00:00  to  2020-10-22 13:00:00\n",
      "sample time 2020-10-22 14:00:00  to  2020-10-22 14:00:00\n",
      "sample time 2020-10-22 15:00:00  to  2020-10-22 15:00:00\n",
      "sample time 2020-10-22 16:00:00  to  2020-10-22 16:00:00\n",
      "sample time 2020-10-22 17:00:00  to  2020-10-22 17:00:00\n",
      "sample time 2020-10-22 18:00:00  to  2020-10-22 18:00:00\n",
      "sample time 2020-10-22 19:00:00  to  2020-10-22 19:00:00\n",
      "sample time 2020-10-22 20:00:00  to  2020-10-22 20:00:00\n",
      "sample time 2020-10-22 21:00:00  to  2020-10-22 21:00:00\n",
      "sample time 2020-10-22 22:00:00  to  2020-10-22 22:00:00\n",
      "sample time 2020-10-22 23:00:00  to  2020-10-22 23:00:00\n",
      "sample time 2020-10-23 00:00:00  to  2020-10-23 00:00:00\n",
      "sample time 2020-10-23 01:00:00  to  2020-10-23 01:00:00\n",
      "sample time 2020-10-23 02:00:00  to  2020-10-23 02:00:00\n",
      "sample time 2020-10-23 03:00:00  to  2020-10-23 03:00:00\n",
      "sample time 2020-10-23 04:00:00  to  2020-10-23 04:00:00\n",
      "sample time 2020-10-23 05:00:00  to  2020-10-23 05:00:00\n",
      "sample time 2020-10-23 06:00:00  to  2020-10-23 06:00:00\n",
      "sample time 2020-10-23 07:00:00  to  2020-10-23 07:00:00\n",
      "reading /hysplit-users/alicec/projects/bezy/RunH/RunH_7_8_TFw5/cdump.zyH25\n",
      "sample time 2020-10-21 20:00:00  to  2020-10-21 20:00:00\n",
      "sample time 2020-10-21 21:00:00  to  2020-10-21 21:00:00\n",
      "sample time 2020-10-21 22:00:00  to  2020-10-21 22:00:00\n",
      "sample time 2020-10-21 23:00:00  to  2020-10-21 23:00:00\n",
      "sample time 2020-10-22 00:00:00  to  2020-10-22 00:00:00\n",
      "sample time 2020-10-22 01:00:00  to  2020-10-22 01:00:00\n",
      "sample time 2020-10-22 02:00:00  to  2020-10-22 02:00:00\n",
      "sample time 2020-10-22 03:00:00  to  2020-10-22 03:00:00\n",
      "sample time 2020-10-22 04:00:00  to  2020-10-22 04:00:00\n",
      "sample time 2020-10-22 05:00:00  to  2020-10-22 05:00:00\n",
      "sample time 2020-10-22 06:00:00  to  2020-10-22 06:00:00\n",
      "sample time 2020-10-22 07:00:00  to  2020-10-22 07:00:00\n",
      "sample time 2020-10-22 08:00:00  to  2020-10-22 08:00:00\n",
      "sample time 2020-10-22 09:00:00  to  2020-10-22 09:00:00\n",
      "sample time 2020-10-22 10:00:00  to  2020-10-22 10:00:00\n",
      "sample time 2020-10-22 11:00:00  to  2020-10-22 11:00:00\n",
      "sample time 2020-10-22 12:00:00  to  2020-10-22 12:00:00\n",
      "sample time 2020-10-22 13:00:00  to  2020-10-22 13:00:00\n",
      "sample time 2020-10-22 14:00:00  to  2020-10-22 14:00:00\n",
      "sample time 2020-10-22 15:00:00  to  2020-10-22 15:00:00\n",
      "sample time 2020-10-22 16:00:00  to  2020-10-22 16:00:00\n",
      "sample time 2020-10-22 17:00:00  to  2020-10-22 17:00:00\n",
      "sample time 2020-10-22 18:00:00  to  2020-10-22 18:00:00\n",
      "sample time 2020-10-22 19:00:00  to  2020-10-22 19:00:00\n",
      "sample time 2020-10-22 20:00:00  to  2020-10-22 20:00:00\n",
      "sample time 2020-10-22 21:00:00  to  2020-10-22 21:00:00\n",
      "sample time 2020-10-22 22:00:00  to  2020-10-22 22:00:00\n",
      "sample time 2020-10-22 23:00:00  to  2020-10-22 23:00:00\n",
      "sample time 2020-10-23 00:00:00  to  2020-10-23 00:00:00\n",
      "sample time 2020-10-23 01:00:00  to  2020-10-23 01:00:00\n",
      "sample time 2020-10-23 02:00:00  to  2020-10-23 02:00:00\n",
      "sample time 2020-10-23 03:00:00  to  2020-10-23 03:00:00\n",
      "sample time 2020-10-23 04:00:00  to  2020-10-23 04:00:00\n",
      "sample time 2020-10-23 05:00:00  to  2020-10-23 05:00:00\n",
      "sample time 2020-10-23 06:00:00  to  2020-10-23 06:00:00\n",
      "sample time 2020-10-23 07:00:00  to  2020-10-23 07:00:00\n",
      "reading /hysplit-users/alicec/projects/bezy/RunH/RunH_8_9_TFw5/cdump.zyH25\n",
      "sample time 2020-10-21 20:00:00  to  2020-10-21 20:00:00\n",
      "sample time 2020-10-21 21:00:00  to  2020-10-21 21:00:00\n",
      "sample time 2020-10-21 22:00:00  to  2020-10-21 22:00:00\n",
      "sample time 2020-10-21 23:00:00  to  2020-10-21 23:00:00\n",
      "sample time 2020-10-22 00:00:00  to  2020-10-22 00:00:00\n",
      "sample time 2020-10-22 01:00:00  to  2020-10-22 01:00:00\n",
      "sample time 2020-10-22 02:00:00  to  2020-10-22 02:00:00\n",
      "sample time 2020-10-22 03:00:00  to  2020-10-22 03:00:00\n",
      "sample time 2020-10-22 04:00:00  to  2020-10-22 04:00:00\n",
      "sample time 2020-10-22 05:00:00  to  2020-10-22 05:00:00\n",
      "sample time 2020-10-22 06:00:00  to  2020-10-22 06:00:00\n",
      "sample time 2020-10-22 07:00:00  to  2020-10-22 07:00:00\n",
      "sample time 2020-10-22 08:00:00  to  2020-10-22 08:00:00\n",
      "sample time 2020-10-22 09:00:00  to  2020-10-22 09:00:00\n",
      "sample time 2020-10-22 10:00:00  to  2020-10-22 10:00:00\n",
      "sample time 2020-10-22 11:00:00  to  2020-10-22 11:00:00\n",
      "sample time 2020-10-22 12:00:00  to  2020-10-22 12:00:00\n",
      "sample time 2020-10-22 13:00:00  to  2020-10-22 13:00:00\n",
      "sample time 2020-10-22 14:00:00  to  2020-10-22 14:00:00\n",
      "sample time 2020-10-22 15:00:00  to  2020-10-22 15:00:00\n",
      "sample time 2020-10-22 16:00:00  to  2020-10-22 16:00:00\n",
      "sample time 2020-10-22 17:00:00  to  2020-10-22 17:00:00\n",
      "sample time 2020-10-22 18:00:00  to  2020-10-22 18:00:00\n",
      "sample time 2020-10-22 19:00:00  to  2020-10-22 19:00:00\n",
      "sample time 2020-10-22 20:00:00  to  2020-10-22 20:00:00\n",
      "sample time 2020-10-22 21:00:00  to  2020-10-22 21:00:00\n",
      "sample time 2020-10-22 22:00:00  to  2020-10-22 22:00:00\n",
      "sample time 2020-10-22 23:00:00  to  2020-10-22 23:00:00\n",
      "sample time 2020-10-23 00:00:00  to  2020-10-23 00:00:00\n",
      "sample time 2020-10-23 01:00:00  to  2020-10-23 01:00:00\n",
      "sample time 2020-10-23 02:00:00  to  2020-10-23 02:00:00\n",
      "sample time 2020-10-23 03:00:00  to  2020-10-23 03:00:00\n",
      "sample time 2020-10-23 04:00:00  to  2020-10-23 04:00:00\n",
      "sample time 2020-10-23 05:00:00  to  2020-10-23 05:00:00\n",
      "sample time 2020-10-23 06:00:00  to  2020-10-23 06:00:00\n",
      "sample time 2020-10-23 07:00:00  to  2020-10-23 07:00:00\n",
      "reading /hysplit-users/alicec/projects/bezy/RunH/RunH_9_10_TFw5/cdump.zyH25\n",
      "sample time 2020-10-21 20:00:00  to  2020-10-21 20:00:00\n",
      "sample time 2020-10-21 21:00:00  to  2020-10-21 21:00:00\n",
      "sample time 2020-10-21 22:00:00  to  2020-10-21 22:00:00\n",
      "sample time 2020-10-21 23:00:00  to  2020-10-21 23:00:00\n",
      "sample time 2020-10-22 00:00:00  to  2020-10-22 00:00:00\n",
      "sample time 2020-10-22 01:00:00  to  2020-10-22 01:00:00\n",
      "sample time 2020-10-22 02:00:00  to  2020-10-22 02:00:00\n",
      "sample time 2020-10-22 03:00:00  to  2020-10-22 03:00:00\n",
      "sample time 2020-10-22 04:00:00  to  2020-10-22 04:00:00\n",
      "sample time 2020-10-22 05:00:00  to  2020-10-22 05:00:00\n",
      "sample time 2020-10-22 06:00:00  to  2020-10-22 06:00:00\n",
      "sample time 2020-10-22 07:00:00  to  2020-10-22 07:00:00\n",
      "sample time 2020-10-22 08:00:00  to  2020-10-22 08:00:00\n",
      "sample time 2020-10-22 09:00:00  to  2020-10-22 09:00:00\n",
      "sample time 2020-10-22 10:00:00  to  2020-10-22 10:00:00\n",
      "sample time 2020-10-22 11:00:00  to  2020-10-22 11:00:00\n"
     ]
    },
    {
     "name": "stdout",
     "output_type": "stream",
     "text": [
      "sample time 2020-10-22 12:00:00  to  2020-10-22 12:00:00\n",
      "sample time 2020-10-22 13:00:00  to  2020-10-22 13:00:00\n",
      "sample time 2020-10-22 14:00:00  to  2020-10-22 14:00:00\n",
      "sample time 2020-10-22 15:00:00  to  2020-10-22 15:00:00\n",
      "sample time 2020-10-22 16:00:00  to  2020-10-22 16:00:00\n",
      "sample time 2020-10-22 17:00:00  to  2020-10-22 17:00:00\n",
      "sample time 2020-10-22 18:00:00  to  2020-10-22 18:00:00\n",
      "sample time 2020-10-22 19:00:00  to  2020-10-22 19:00:00\n",
      "sample time 2020-10-22 20:00:00  to  2020-10-22 20:00:00\n",
      "sample time 2020-10-22 21:00:00  to  2020-10-22 21:00:00\n",
      "sample time 2020-10-22 22:00:00  to  2020-10-22 22:00:00\n",
      "sample time 2020-10-22 23:00:00  to  2020-10-22 23:00:00\n",
      "sample time 2020-10-23 00:00:00  to  2020-10-23 00:00:00\n",
      "sample time 2020-10-23 01:00:00  to  2020-10-23 01:00:00\n",
      "sample time 2020-10-23 02:00:00  to  2020-10-23 02:00:00\n",
      "sample time 2020-10-23 03:00:00  to  2020-10-23 03:00:00\n",
      "sample time 2020-10-23 04:00:00  to  2020-10-23 04:00:00\n",
      "sample time 2020-10-23 05:00:00  to  2020-10-23 05:00:00\n",
      "sample time 2020-10-23 06:00:00  to  2020-10-23 06:00:00\n",
      "sample time 2020-10-23 07:00:00  to  2020-10-23 07:00:00\n",
      "reading /hysplit-users/alicec/projects/bezy/RunH/RunH_10_11_TFw5/cdump.zyH25\n",
      "sample time 2020-10-21 20:00:00  to  2020-10-21 20:00:00\n",
      "sample time 2020-10-21 21:00:00  to  2020-10-21 21:00:00\n",
      "sample time 2020-10-21 22:00:00  to  2020-10-21 22:00:00\n",
      "sample time 2020-10-21 23:00:00  to  2020-10-21 23:00:00\n",
      "sample time 2020-10-22 00:00:00  to  2020-10-22 00:00:00\n",
      "sample time 2020-10-22 01:00:00  to  2020-10-22 01:00:00\n",
      "sample time 2020-10-22 02:00:00  to  2020-10-22 02:00:00\n",
      "sample time 2020-10-22 03:00:00  to  2020-10-22 03:00:00\n",
      "sample time 2020-10-22 04:00:00  to  2020-10-22 04:00:00\n",
      "sample time 2020-10-22 05:00:00  to  2020-10-22 05:00:00\n",
      "sample time 2020-10-22 06:00:00  to  2020-10-22 06:00:00\n",
      "sample time 2020-10-22 07:00:00  to  2020-10-22 07:00:00\n",
      "sample time 2020-10-22 08:00:00  to  2020-10-22 08:00:00\n",
      "sample time 2020-10-22 09:00:00  to  2020-10-22 09:00:00\n",
      "sample time 2020-10-22 10:00:00  to  2020-10-22 10:00:00\n",
      "sample time 2020-10-22 11:00:00  to  2020-10-22 11:00:00\n",
      "sample time 2020-10-22 12:00:00  to  2020-10-22 12:00:00\n",
      "sample time 2020-10-22 13:00:00  to  2020-10-22 13:00:00\n",
      "sample time 2020-10-22 14:00:00  to  2020-10-22 14:00:00\n",
      "sample time 2020-10-22 15:00:00  to  2020-10-22 15:00:00\n",
      "sample time 2020-10-22 16:00:00  to  2020-10-22 16:00:00\n",
      "sample time 2020-10-22 17:00:00  to  2020-10-22 17:00:00\n",
      "sample time 2020-10-22 18:00:00  to  2020-10-22 18:00:00\n",
      "sample time 2020-10-22 19:00:00  to  2020-10-22 19:00:00\n",
      "sample time 2020-10-22 20:00:00  to  2020-10-22 20:00:00\n",
      "sample time 2020-10-22 21:00:00  to  2020-10-22 21:00:00\n",
      "sample time 2020-10-22 22:00:00  to  2020-10-22 22:00:00\n",
      "sample time 2020-10-22 23:00:00  to  2020-10-22 23:00:00\n",
      "sample time 2020-10-23 00:00:00  to  2020-10-23 00:00:00\n",
      "sample time 2020-10-23 01:00:00  to  2020-10-23 01:00:00\n",
      "sample time 2020-10-23 02:00:00  to  2020-10-23 02:00:00\n",
      "sample time 2020-10-23 03:00:00  to  2020-10-23 03:00:00\n",
      "sample time 2020-10-23 04:00:00  to  2020-10-23 04:00:00\n",
      "sample time 2020-10-23 05:00:00  to  2020-10-23 05:00:00\n",
      "sample time 2020-10-23 06:00:00  to  2020-10-23 06:00:00\n",
      "sample time 2020-10-23 07:00:00  to  2020-10-23 07:00:00\n"
     ]
    }
   ],
   "source": [
    "dset = hysplit.combine_dataset(blist,century=2000,verbose=True)\n",
    "dset.to_netcdf('RunH_GFS.nc')\n"
   ]
  },
  {
   "cell_type": "code",
   "execution_count": 130,
   "metadata": {},
   "outputs": [
    {
     "data": {
      "text/plain": [
       "0.16666666666666666"
      ]
     },
     "execution_count": 130,
     "metadata": {},
     "output_type": "execute_result"
    }
   ],
   "source": [
    "4.0/24.0"
   ]
  },
  {
   "cell_type": "code",
   "execution_count": null,
   "metadata": {},
   "outputs": [],
   "source": []
  }
 ],
 "metadata": {
  "kernelspec": {
   "display_name": "Python 3",
   "language": "python",
   "name": "python3"
  },
  "language_info": {
   "codemirror_mode": {
    "name": "ipython",
    "version": 3
   },
   "file_extension": ".py",
   "mimetype": "text/x-python",
   "name": "python",
   "nbconvert_exporter": "python",
   "pygments_lexer": "ipython3",
   "version": "3.8.6"
  }
 },
 "nbformat": 4,
 "nbformat_minor": 4
}
