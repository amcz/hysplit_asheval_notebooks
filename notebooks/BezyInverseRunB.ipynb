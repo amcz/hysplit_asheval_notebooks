{
 "cells": [
  {
   "cell_type": "code",
   "execution_count": 1,
   "metadata": {},
   "outputs": [],
   "source": [
    "%load_ext autoreload"
   ]
  },
  {
   "cell_type": "code",
   "execution_count": 2,
   "metadata": {},
   "outputs": [],
   "source": [
    "import os\n",
    "import numpy as np\n",
    "import pandas as pd\n",
    "import xarray as xr\n",
    "import matplotlib.pyplot as plt\n",
    "import seaborn as sns\n",
    "import datetime\n",
    "#from monetio.models import hysplit"
   ]
  },
  {
   "cell_type": "code",
   "execution_count": 3,
   "metadata": {},
   "outputs": [],
   "source": [
    "from monetio.models import hysplit"
   ]
  },
  {
   "cell_type": "code",
   "execution_count": 4,
   "metadata": {},
   "outputs": [],
   "source": [
    "from utilvolc import volcat\n",
    "import utilvolc.ash_inverse as ai\n",
    "from utilvolc import ashapp"
   ]
  },
  {
   "cell_type": "code",
   "execution_count": 5,
   "metadata": {},
   "outputs": [],
   "source": [
    "from utilvolc.ashapp import ashinverse"
   ]
  },
  {
   "cell_type": "code",
   "execution_count": 6,
   "metadata": {},
   "outputs": [
    {
     "name": "stdout",
     "output_type": "stream",
     "text": [
      "mass on one particle 113770.34937840018\n",
      "area 70670352.72281241 m2\n",
      "mass loading from one particle 0.0016098738013185982\n"
     ]
    }
   ],
   "source": [
    "# 10/14/2021 rerun with more particles.\n",
    "# was using numpar=2000\n",
    "# switch to using numpar=20,000\n",
    "# was seeing 'steps' in the CDF.\n",
    "# Also reduce run time from 36h to 24 h.\n",
    "\n",
    "numpar = 241715\n",
    "mass = 2.75e10  #grams?\n",
    "masspar = mass/numpar\n",
    "print('mass on one particle {}'.format(masspar))\n",
    "area = 0.1 * 0.1 * 111e3 * 111e3 * np.cos(55*np.pi/180.0)\n",
    "print('area {} m2'.format(area))\n",
    "massload = masspar / area\n",
    "print('mass loading from one particle {}'.format(massload))"
   ]
  },
  {
   "cell_type": "code",
   "execution_count": 7,
   "metadata": {},
   "outputs": [
    {
     "name": "stdout",
     "output_type": "stream",
     "text": [
      "/hysplit-users/alicec/projects/bezy/Inverse_240 /hysplit-users/alicec/projects/bezy/hysplit\n",
      "/hysplit-users/alicec/projects/bezy/data/volcat\n"
     ]
    }
   ],
   "source": [
    "os.chdir('/hysplit-users/alicec/projects/bezy/notebooks/')\n",
    "projdir = os.getcwd().replace('notebooks','')\n",
    "\n",
    "vloc = [160.587,55.978]\n",
    "tag ='B'\n",
    "#ens = ['gep{:02d}'.format(x) for x in np.arange(1,31)]\n",
    "#ens.append('gec00')\n",
    "#ens=['gep04','gep03']\n",
    "\n",
    "#----------------------------------------------------------------\n",
    "# locations and names of netcdf files with cdump output.\n",
    "tdir = os.path.join(projdir,'data')\n",
    "fnamelist  = ['xrfile.invbezy{}.nc'.format(tag)]\n",
    "tdirlist = [tdir]\n",
    "\n",
    "#----------------------------------------------------------------\n",
    "configdir = os.path.join(projdir,'RunB')\n",
    "configfile = 'config.invbezy{}.txt'.format(tag)\n",
    "\n",
    "#-----------------------------------------------------------------\n",
    "# location of volcat files\n",
    "vdir = os.path.join(projdir,'data','volcat')\n",
    "# volcano id to locate\n",
    "vid = 'v300250'\n",
    "#-----------------------------------------------------------------\n",
    "# Location of inverse algorithm output\n",
    "#wpath = os.getcwd()\n",
    "wdir = os.path.join(projdir,'RunB')\n",
    "#print(wpath)\n",
    "#cdir = '../Run{}/'.format(tag)\n",
    "#wdir = '../Run{}/'.format(tag,tag)\n",
    "#sdir = os.path.join(wdir,'RunM_1_2_3_4_TF')\n",
    "name = 'out.dat'\n",
    "name2 = 'out2.dat'\n",
    "#------------------------------------------------------------------\n",
    "\n",
    "# name to write emit-times file to.\n",
    "emit_file_name = '{}emit_Run{}4.txt'.format(wdir,tag)\n",
    "tcm_name_base = 'run{}zzz.tcm.txt'.format(tag)\n",
    "figbase = 'Run{}4'.format(tag)\n",
    "\n",
    "#-------------------------------------------------------------------\n",
    "#\n",
    "\n",
    "execdir = os.path.join(projdir,'Inverse_240')\n",
    "hysplitdir = os.path.join(projdir,'hysplit')\n",
    "#execdir = mdir+'/Inverse_'\n",
    "print(execdir, hysplitdir)\n",
    "print(vdir)\n",
    "#\n",
    "\n",
    "datadir = os.path.join(projdir, 'data')"
   ]
  },
  {
   "cell_type": "code",
   "execution_count": 8,
   "metadata": {},
   "outputs": [
    {
     "name": "stdout",
     "output_type": "stream",
     "text": [
      "[datetime.datetime(2020, 10, 21, 21, 0), datetime.datetime(2020, 10, 21, 22, 0)]\n",
      "[datetime.datetime(2020, 10, 22, 6, 0), datetime.datetime(2020, 10, 22, 7, 0)]\n"
     ]
    }
   ],
   "source": [
    "%autoreload\n",
    "#time list to prepare.\n",
    "# start with one hour after eruption. 21:00-22:00\n",
    "dlist = []\n",
    "sdate = datetime.datetime(2020,10,21,21,0)\n",
    "#sdate = datetime.datetime(2020,10,22,12,0)\n",
    "dt = datetime.timedelta(hours=1)\n",
    "for iii in np.arange(0,10):\n",
    "    drange = [sdate, sdate+dt]\n",
    "    dlist.append(drange)\n",
    "    sdate += dt\n",
    "print(dlist[0])\n",
    "print(dlist[-1])"
   ]
  },
  {
   "cell_type": "code",
   "execution_count": 37,
   "metadata": {},
   "outputs": [],
   "source": [
    "# initiate the InverseAshEns object\n",
    "%autoreload\n",
    "inverse = ai.InverseAshEns(tdirlist,fnamelist,vdir,vid,configdir=configdir,configfile=configfile,verbose=False)\n",
    "inverse.add_phash({'p060':1})"
   ]
  },
  {
   "cell_type": "code",
   "execution_count": 38,
   "metadata": {},
   "outputs": [
    {
     "data": {
      "text/plain": [
       "{'p060': 1}"
      ]
     },
     "execution_count": 38,
     "metadata": {},
     "output_type": "execute_result"
    }
   ],
   "source": [
    "inverse.phash"
   ]
  },
  {
   "cell_type": "code",
   "execution_count": 39,
   "metadata": {},
   "outputs": [
    {
     "name": "stdout",
     "output_type": "stream",
     "text": [
      "2020-10-21 21:00:00\n",
      "2020-10-21 23:00:00\n"
     ]
    }
   ],
   "source": [
    "print(inverse.invlist[0].get_time(2))\n",
    "print(inverse.invlist[0].get_time(4))"
   ]
  },
  {
   "cell_type": "code",
   "execution_count": 40,
   "metadata": {},
   "outputs": [
    {
     "name": "stdout",
     "output_type": "stream",
     "text": [
      "Working directory, wdir :/hysplit-users/alicec/projects/bezy/RunB\n",
      "execdir :/hysplit-users/alicec/projects/bezy/Inverse_240\n",
      "hysplitdir :/hysplit-users/alicec/projects/bezy/hysplit\n",
      "subdir :/hysplit-users/alicec/projects/bezy/RunB\n",
      "vdir :/hysplit-users/alicec/projects/bezy/data/volcat\n",
      "datadir :/hysplit-users/alicec/projects/bezy/data\n"
     ]
    }
   ],
   "source": [
    "%autoreload\n",
    "inverse.set_directory(wdir,execdir,datadir,hysplitdir)\n",
    "inverse.print_directories()"
   ]
  },
  {
   "cell_type": "code",
   "execution_count": 41,
   "metadata": {},
   "outputs": [
    {
     "data": {
      "text/plain": [
       "Coordinates:\n",
       "  * time       (time) datetime64[ns] 2020-10-21T19:00:00 ... 2020-10-22T11:00:00\n",
       "  * z          (z) int64 1523 3047 4571 6095 7619 9143 10667 12191 13715 15239\n",
       "  * y          (y) int64 376 377 378 379 380 381 382 ... 480 481 482 483 484 485\n",
       "  * x          (x) int64 866 867 868 869 870 871 872 ... 947 948 949 950 951 952\n",
       "  * ens        (ens) object '102119_2880' '102119_3880' ... '102200_12880'\n",
       "    source     <U13 'Line to 14 km'\n",
       "    latitude   (y, x) float64 ...\n",
       "    longitude  (y, x) float64 ..."
      ]
     },
     "execution_count": 41,
     "metadata": {},
     "output_type": "execute_result"
    }
   ],
   "source": [
    "inva = inverse.invlist[0]\n",
    "inva.cdump.coords"
   ]
  },
  {
   "cell_type": "code",
   "execution_count": 42,
   "metadata": {},
   "outputs": [
    {
     "name": "stdout",
     "output_type": "stream",
     "text": [
      "[datetime.datetime(2020, 10, 21, 21, 0), datetime.datetime(2020, 10, 21, 22, 0)]\n",
      "[datetime.datetime(2020, 10, 21, 22, 0), datetime.datetime(2020, 10, 21, 23, 0)]\n",
      "[datetime.datetime(2020, 10, 21, 23, 0), datetime.datetime(2020, 10, 22, 0, 0)]\n",
      "[datetime.datetime(2020, 10, 22, 0, 0), datetime.datetime(2020, 10, 22, 1, 0)]\n",
      "[datetime.datetime(2020, 10, 22, 1, 0), datetime.datetime(2020, 10, 22, 2, 0)]\n",
      "[datetime.datetime(2020, 10, 22, 2, 0), datetime.datetime(2020, 10, 22, 3, 0)]\n",
      "[datetime.datetime(2020, 10, 22, 3, 0), datetime.datetime(2020, 10, 22, 4, 0)]\n",
      "[datetime.datetime(2020, 10, 22, 4, 0), datetime.datetime(2020, 10, 22, 5, 0)]\n",
      "[datetime.datetime(2020, 10, 22, 5, 0), datetime.datetime(2020, 10, 22, 6, 0)]\n",
      "[datetime.datetime(2020, 10, 22, 6, 0), datetime.datetime(2020, 10, 22, 7, 0)]\n"
     ]
    }
   ],
   "source": [
    "# add in the relavant VOLCAT observations\n",
    "%autoreload\n",
    "#dlist = [[datetime.datetime(2020,10,22,9),datetime.datetime(2020,10,22,10)]]\n",
    "for drange in dlist:\n",
    "    print(drange)\n",
    "    inverse.prepare_one_time(drange)"
   ]
  },
  {
   "cell_type": "code",
   "execution_count": 43,
   "metadata": {},
   "outputs": [
    {
     "name": "stdout",
     "output_type": "stream",
     "text": [
      "time 1 : 2020-10-21 20:00:00\n",
      "time 2 : 2020-10-21 21:00:00\n",
      "time 3 : 2020-10-21 22:00:00\n",
      "time 4 : 2020-10-21 23:00:00\n",
      "time 5 : 2020-10-22 00:00:00\n",
      "time 6 : 2020-10-22 01:00:00\n",
      "time 7 : 2020-10-22 02:00:00\n",
      "time 8 : 2020-10-22 03:00:00\n",
      "time 9 : 2020-10-22 04:00:00\n",
      "time 10 : 2020-10-22 05:00:00\n",
      "time 11 : 2020-10-22 06:00:00\n"
     ]
    }
   ],
   "source": [
    "for tii in [1,2,3,4,5,6,7,8,9,10,11]:\n",
    "    print('time {} : {}'.format(tii,inverse.invlist[0].get_time(tii)))\n"
   ]
  },
  {
   "cell_type": "code",
   "execution_count": 44,
   "metadata": {},
   "outputs": [
    {
     "name": "stdout",
     "output_type": "stream",
     "text": [
      "Observations availalbe in volcat_avg_hash\n",
      "dict_keys([2, 3, 4, 5, 6, 7, 8, 9, 10, 11])\n",
      "times in cdump file\n",
      "2020 10 21 19:00z\n",
      "2020 10 21 20:00z\n",
      "2020 10 21 21:00z\n",
      "2020 10 21 22:00z\n",
      "2020 10 21 23:00z\n",
      "2020 10 22 00:00z\n",
      "2020 10 22 01:00z\n",
      "2020 10 22 02:00z\n",
      "2020 10 22 03:00z\n",
      "2020 10 22 04:00z\n",
      "2020 10 22 05:00z\n",
      "2020 10 22 06:00z\n",
      "2020 10 22 07:00z\n",
      "2020 10 22 08:00z\n",
      "2020 10 22 09:00z\n",
      "2020 10 22 10:00z\n",
      "2020 10 22 11:00z\n"
     ]
    }
   ],
   "source": [
    "%autoreload\n",
    "inverse.invlist[0].print_summary()"
   ]
  },
  {
   "cell_type": "code",
   "execution_count": 45,
   "metadata": {
    "scrolled": true
   },
   "outputs": [
    {
     "name": "stdout",
     "output_type": "stream",
     "text": [
      "10 bezyB\n",
      "tii 10\n"
     ]
    },
    {
     "name": "stderr",
     "output_type": "stream",
     "text": [
      "/hysplit-users/alicec/anaconda3/envs/paris/lib/python3.8/site-packages/xarray/core/computation.py:739: RuntimeWarning: divide by zero encountered in log10\n",
      "  result_data = func(*input_data)\n"
     ]
    },
    {
     "data": {
      "image/png": "[encoded data removed]",
      "text/plain": [
       "<Figure size 720x360 with 2 Axes>"
      ]
     },
     "metadata": {},
     "output_type": "display_data"
    }
   ],
   "source": [
    "%autoreload\n",
    "#gep10, gep16 looks good at tii=6.\n",
    "#gep24 possibly looks ok.\n",
    "zlevel=None  #index 'ensemble'\n",
    "           #if None then sum along the ens. dimension which shows contributions from all inv. runs.\n",
    "tii=10\n",
    "#zlevel=None\n",
    "%autoreload\n",
    "ax = inverse.compare_plotsA(daterange=dlist[0],tii=tii,zii=zlevel)\n",
    "#plt.gca()\n",
    "#ax.plot(160.587,55.978,'y^')\n",
    "#plt.show()\n"
   ]
  },
  {
   "cell_type": "code",
   "execution_count": 32,
   "metadata": {},
   "outputs": [],
   "source": [
    "%autoreload\n",
    "inverse.set_concmult(1)"
   ]
  },
  {
   "cell_type": "markdown",
   "metadata": {},
   "source": [
    "# Automatic Runs"
   ]
  },
  {
   "cell_type": "code",
   "execution_count": 46,
   "metadata": {},
   "outputs": [
    {
     "data": {
      "text/plain": [
       "'/hysplit-users/alicec/projects/bezy/RunB'"
      ]
     },
     "execution_count": 46,
     "metadata": {},
     "output_type": "execute_result"
    }
   ],
   "source": [
    "inverse.subdir"
   ]
  },
  {
   "cell_type": "code",
   "execution_count": 47,
   "metadata": {},
   "outputs": [],
   "source": [
    "def makerun(invserse, tii,remove_cols, remove_rows, remove_sources,remove_ncs):\n",
    "    print(\"Running makerun\")\n",
    "    inverse.make_tcm_mult(tii,remove_cols=remove_cols, remove_rows=remove_rows, remove_sources=remove_sources,remove_ncs=remove_ncs)\n",
    "    runtag = ai.create_runtag(tag,tii,remove_cols, remove_rows, remove_sources,remove_ncs=remove_ncs)\n",
    "    inverse.set_subdirectory(runtag)\n",
    "    print('In subdirectory', inverse.subdir)\n",
    "    tcmstr = inverse.write_tcm(os.path.join(inverse.subdir, tcm_name_base.replace('zzz','4')))\n",
    "    inverse.run_tcm()\n",
    "    \n",
    "    eii=None\n",
    "    unit='g/h'\n",
    "    unit='kg/s'\n",
    "    inverse.plot_outdat_ts(eii,unit=unit)\n",
    "    #plt.show()\n",
    "    #inverse.plot_outdat_ts(eii,profile=True)\n",
    "    print('HERE runtag is ', runtag)\n",
    "    inverse.save_emis(runtag+'.csv')\n"
   ]
  },
  {
   "cell_type": "markdown",
   "metadata": {},
   "source": [
    "## Run with all previous and just two previous"
   ]
  },
  {
   "cell_type": "code",
   "execution_count": null,
   "metadata": {},
   "outputs": [
    {
     "name": "stdout",
     "output_type": "stream",
     "text": [
      "here\n",
      "tii [2, 3]\n",
      "Running makerun\n",
      "2020-10-21T21:00:00.000000000\n",
      "2020-10-21T22:00:00.000000000\n",
      "In subdirectory /hysplit-users/alicec/projects/bezy/RunB/RunB_2_3_TFw7\n"
     ]
    },
    {
     "name": "stderr",
     "output_type": "stream",
     "text": [
      "/hysplit-users/alicec/utilhysplit/utilvolc/ash_inverse.py:1094: VisibleDeprecationWarning: Creating an ndarray from ragged nested sequences (which is a list-or-tuple of lists-or-tuples-or ndarrays with different lengths or shapes) is deprecated. If you meant to do this, you must specify 'dtype=object' when creating the ndarray.\n",
      "  if remove_cols:\n",
      "/hysplit-users/alicec/utilhysplit/utilvolc/ash_inverse.py:1095: VisibleDeprecationWarning: Creating an ndarray from ragged nested sequences (which is a list-or-tuple of lists-or-tuples-or ndarrays with different lengths or shapes) is deprecated. If you meant to do this, you must specify 'dtype=object' when creating the ndarray.\n",
      "  nmax = t3.shape[1]\n",
      "/hysplit-users/alicec/utilhysplit/utilvolc/ash_inverse.py:1109: VisibleDeprecationWarning: Creating an ndarray from ragged nested sequences (which is a list-or-tuple of lists-or-tuples-or ndarrays with different lengths or shapes) is deprecated. If you meant to do this, you must specify 'dtype=object' when creating the ndarray.\n",
      "  return t3, lat, lon\n",
      "/hysplit-users/alicec/utilhysplit/utilvolc/ash_inverse.py:1110: VisibleDeprecationWarning: Creating an ndarray from ragged nested sequences (which is a list-or-tuple of lists-or-tuples-or ndarrays with different lengths or shapes) is deprecated. If you meant to do this, you must specify 'dtype=object' when creating the ndarray.\n",
      "  \n"
     ]
    },
    {
     "name": "stdout",
     "output_type": "stream",
     "text": [
      "bezyB\n"
     ]
    },
    {
     "name": "stderr",
     "output_type": "stream",
     "text": [
      "No meteorological files found /hysplit-users/alicec/projects/bezy/data/%Y%m%d/hysplit.t%Hz.gfs0p25f\n"
     ]
    },
    {
     "name": "stdout",
     "output_type": "stream",
     "text": [
      "HERE runtag is  RunB_2_3_TFw7\n",
      "length 1\n",
      "self subdir is /hysplit-users/alicec/projects/bezy/RunB/RunB_2_3_TFw7\n",
      "saving emissions in  /hysplit-users/alicec/projects/bezy/RunB/RunB_2_3_TFw7/RunB_2_3_TFw7.csv\n",
      "saving  emissions to  /hysplit-users/alicec/projects/bezy/RunB/RunB_2_3_TFw7/RunB_2_3_TFw7.csv\n",
      "working on  0 1\n",
      "using particle size  {'p060': 1}\n",
      "ZZZZ\n",
      "splist dict_keys(['p060'])\n",
      "(datetime.datetime(2020, 10, 21, 19, 0), 2880.0, 2.096505091599114e-07) 1\n",
      "(datetime.datetime(2020, 10, 21, 19, 0), 3880.0, 45.3178403748571) 1\n",
      "(datetime.datetime(2020, 10, 21, 19, 0), 4880.0, 1268.43043760111) 1\n",
      "(datetime.datetime(2020, 10, 21, 19, 0), 5880.0, 236217628.838328) 1\n",
      "(datetime.datetime(2020, 10, 21, 19, 0), 6880.0, 32877.3567289393) 1\n",
      "(datetime.datetime(2020, 10, 21, 19, 0), 7880.0, 11922.5074615714) 1\n",
      "(datetime.datetime(2020, 10, 21, 19, 0), 8880.0, 3139191076.71634) 1\n",
      "(datetime.datetime(2020, 10, 21, 19, 0), 9880.0, 2833.77398494474) 1\n",
      "(datetime.datetime(2020, 10, 21, 19, 0), 10880.0, 12.4767522467048) 1\n",
      "(datetime.datetime(2020, 10, 21, 19, 0), 11880.0, 16.4499610887291) 1\n",
      "(datetime.datetime(2020, 10, 21, 19, 0), 12880.0, 95.3228400886633) 1\n",
      "(datetime.datetime(2020, 10, 21, 20, 0), 2880.0, 748.940447453681) 1\n",
      "(datetime.datetime(2020, 10, 21, 20, 0), 3880.0, 12.94619021829) 1\n",
      "(datetime.datetime(2020, 10, 21, 20, 0), 4880.0, 24.2589514693942) 1\n",
      "(datetime.datetime(2020, 10, 21, 20, 0), 5880.0, 3041046745.03681) 1\n",
      "(datetime.datetime(2020, 10, 21, 20, 0), 6880.0, 948061386.260202) 1\n",
      "(datetime.datetime(2020, 10, 21, 20, 0), 7880.0, 2349042075.23674) 1\n",
      "(datetime.datetime(2020, 10, 21, 20, 0), 8880.0, 16150748830.9546) 1\n",
      "(datetime.datetime(2020, 10, 21, 20, 0), 9880.0, 2481301024.41145) 1\n",
      "(datetime.datetime(2020, 10, 21, 20, 0), 10880.0, 717014514.780264) 1\n",
      "(datetime.datetime(2020, 10, 21, 20, 0), 11880.0, 143776725.317709) 1\n",
      "(datetime.datetime(2020, 10, 21, 20, 0), 12880.0, 510616569.617984) 1\n",
      "(datetime.datetime(2020, 10, 21, 21, 0), 2880.0, 168112259.447709) 1\n",
      "(datetime.datetime(2020, 10, 21, 21, 0), 3880.0, 344.483577053944) 1\n",
      "(datetime.datetime(2020, 10, 21, 21, 0), 4880.0, 23173.6982957909) 1\n",
      "(datetime.datetime(2020, 10, 21, 21, 0), 5880.0, 14647.4894876802) 1\n",
      "(datetime.datetime(2020, 10, 21, 21, 0), 6880.0, 0.0006023608191730727) 1\n",
      "(datetime.datetime(2020, 10, 21, 21, 0), 7880.0, 2114412110.04434) 1\n",
      "(datetime.datetime(2020, 10, 21, 21, 0), 8880.0, 1.1758112839004511e-24) 1\n",
      "(datetime.datetime(2020, 10, 21, 21, 0), 9880.0, 2784965618.61627) 1\n",
      "(datetime.datetime(2020, 10, 21, 21, 0), 10880.0, 702160257.171028) 1\n",
      "(datetime.datetime(2020, 10, 21, 21, 0), 11880.0, 325991447.87694) 1\n",
      "(datetime.datetime(2020, 10, 21, 21, 0), 12880.0, 407295606.684206) 1\n",
      "(datetime.datetime(2020, 10, 21, 22, 0), 2880.0, 11742.2895142063) 1\n",
      "(datetime.datetime(2020, 10, 21, 22, 0), 3880.0, 231838759.366127) 1\n",
      "(datetime.datetime(2020, 10, 21, 22, 0), 4880.0, 1.083265660530261e-06) 1\n",
      "(datetime.datetime(2020, 10, 21, 22, 0), 5880.0, 1.9887643316456242e-08) 1\n",
      "(datetime.datetime(2020, 10, 21, 22, 0), 6880.0, 218614646.575734) 1\n",
      "(datetime.datetime(2020, 10, 21, 22, 0), 7880.0, 2066138981.17841) 1\n",
      "(datetime.datetime(2020, 10, 21, 22, 0), 8880.0, 4.573922184928589e-11) 1\n",
      "(datetime.datetime(2020, 10, 21, 22, 0), 9880.0, 8.165127794536999e-05) 1\n",
      "(datetime.datetime(2020, 10, 21, 22, 0), 10880.0, 20818.4715490219) 1\n",
      "(datetime.datetime(2020, 10, 21, 22, 0), 11880.0, 53443.1115246122) 1\n",
      "(datetime.datetime(2020, 10, 21, 22, 0), 12880.0, 105575068.315576) 1\n",
      "writing efile {} /hysplit-users/alicec/projects/bezy/RunB/RunB_2_3_TFw7/bezyB_emit.txt\n",
      "HERE\n",
      "species before  dict_keys(['p060'])\n",
      "species dict_keys(['p060'])\n",
      "HERE\n",
      "HERE\n",
      "fcst str /pub/forecast/%Y%m%d/\n",
      "making control file  gfs0p25\n",
      "/hysplit-users/alicec/projects/bezy/data/\n",
      "/hysplit-users/alicec/projects/bezy/data/\n",
      "fcst str /hysplit-users/alicec/projects/bezy/data/%Y%m%d/\n",
      "Species dict_keys(['p060'])\n",
      "WARNING /hysplit-users/alicec/projects/bezy/data/20201021/hysplit.t12z.gfs0p25f meteorological file does not exist\n",
      "WARNING /hysplit-users/alicec/projects/bezy/data/20201022/hysplit.t00z.gfs0p25f meteorological file does not exist\n",
      "WARNING /hysplit-users/alicec/projects/bezy/data/20201022/hysplit.t12z.gfs0p25f meteorological file does not exist\n",
      "WARNING /hysplit-users/alicec/projects/bezy/data/20201021/hysplit.t00z.gfs0p25f meteorological file does not exist\n",
      "WARNING /hysplit-users/alicec/projects/bezy/data/20201021/hysplit.t12z.gfs0p25f meteorological file does not exist\n",
      "WARNING /hysplit-users/alicec/projects/bezy/data/20201022/hysplit.t00z.gfs0p25f meteorological file does not exist\n",
      "WARNING /hysplit-users/alicec/projects/bezy/data/20201020/hysplit.t12z.gfs0p25f meteorological file does not exist\n",
      "WARNING /hysplit-users/alicec/projects/bezy/data/20201021/hysplit.t00z.gfs0p25f meteorological file does not exist\n",
      "WARNING /hysplit-users/alicec/projects/bezy/data/20201021/hysplit.t12z.gfs0p25f meteorological file does not exist\n",
      "WARNING /hysplit-users/alicec/projects/bezy/data/20201020/hysplit.t00z.gfs0p25f meteorological file does not exist\n",
      "WARNING /hysplit-users/alicec/projects/bezy/data/20201020/hysplit.t12z.gfs0p25f meteorological file does not exist\n",
      "WARNING /hysplit-users/alicec/projects/bezy/data/20201021/hysplit.t00z.gfs0p25f meteorological file does not exist\n",
      "Looking in archive for met files\n",
      "making setup\n",
      "running  /hysplit-users/alicec/projects/bezy/hysplit/exec/hycs_std bezyB\n",
      "in loop 0s procs 1\n",
      "in loop 30s procs 1\n",
      "in loop 60s procs 1\n",
      "in loop 90s procs 1\n",
      "in loop 120s procs 1\n",
      "in loop 150s procs 1\n",
      "in loop 180s procs 1\n",
      "in loop 210s procs 1\n",
      "in loop 240s procs 1\n",
      "in loop 270s procs 1\n",
      "in loop 300s procs 1\n",
      "in loop 330s procs 1\n",
      "in loop 360s procs 1\n",
      "in loop 390s procs 1\n",
      "in loop 420s procs 1\n",
      "in loop 450s procs 1\n",
      "in loop 480s procs 1\n",
      "in loop 510s procs 1\n",
      "in loop 540s procs 1\n",
      "in loop 570s procs 1\n",
      "in loop 600s procs 1\n",
      "in loop 630s procs 1\n",
      "in loop 660s procs 1\n",
      "in loop 690s procs 1\n",
      "in loop 720s procs 1\n",
      "in loop 750s procs 1\n",
      "in loop 780s procs 1\n",
      "in loop 810s procs 1\n",
      "in loop 840s procs 1\n",
      "in loop 870s procs 1\n",
      "in loop 900s procs 1\n",
      "in loop 930s procs 1\n",
      "in loop 960s procs 1\n",
      "in loop 990s procs 1\n",
      "in loop 1020s procs 1\n",
      "in loop 1050s procs 1\n",
      "in loop 1080s procs 1\n",
      "in loop 1110s procs 1\n",
      "in loop 1140s procs 1\n",
      "in loop 1170s procs 1\n",
      "in loop 1200s procs 1\n",
      "in loop 1230s procs 1\n",
      "in loop 1260s procs 1\n",
      "in loop 1290s procs 1\n",
      "in loop 1320s procs 1\n",
      "in loop 1350s procs 1\n",
      "in loop 1380s procs 1\n",
      "in loop 1410s procs 1\n",
      "in loop 1440s procs 1\n",
      "in loop 1470s procs 1\n",
      "in loop 1500s procs 1\n",
      "in loop 1530s procs 1\n",
      "in loop 1560s procs 1\n",
      "in loop 1590s procs 1\n",
      "in loop 1620s procs 1\n",
      "in loop 1650s procs 1\n",
      "in loop 1680s procs 1\n",
      "in loop 1710s procs 1\n",
      "in loop 1740s procs 1\n",
      "in loop 1770s procs 1\n"
     ]
    }
   ],
   "source": [
    "%autoreload\n",
    "# creates emit-times, CONTROL and SETUP files for HYSPLIT runs.\n",
    "# Note that warning that meteorological files not found is ok.\n",
    "\n",
    "%autoreload\n",
    "print('here')\n",
    "tiilist = [[2,3],[2,3,4],[2,3,4,5],[2,3,4,5,6],[2,3,4,5,6,7],[2,3,4,5,6,7,8],[2,3,4,5,6,7,8,9],\n",
    "           [2,3,4,5,6,7,8,9,10],[2,3,4,5,6,7,8,9,10,11]]  #times to assimilate in inversion algorithm.\n",
    "#tiilist = [[2,3]]\n",
    "remove_cols=True    # removes columns with no model values in them.\n",
    "remove_rows=False    # removes clear sky observations\n",
    "remove_sources = False\n",
    "remove_ncs=7\n",
    "for tii in tiilist:\n",
    "    print('tii', tii)\n",
    "    makerun(inverse, tii,remove_cols,remove_rows,remove_sources,remove_ncs)\n",
    "    inverse.make_efile(vloc=vloc)\n",
    "    inverse.run_hysplit()\n",
    "\n",
    "\n",
    "tiilist = [[2,3],[3,4],[4,5],[5,6],[6,7],[7,8],[8,9],[9,10],[10,11]]\n",
    "remove_cols=True    # removes columns with no model values in them.\n",
    "remove_rows=False    # removes clear sky observations\n",
    "remove_sources = False\n",
    "remove_ncs=7\n",
    "for tii in tiilist:\n",
    "    makerun(inverse, tii,remove_cols,remove_rows,remove_sources,remove_ncs)\n",
    "    inverse.make_efile(vloc=vloc)\n",
    "    inverse.run_hysplit()"
   ]
  },
  {
   "cell_type": "markdown",
   "metadata": {},
   "source": [
    "## For comparision with RunC"
   ]
  },
  {
   "cell_type": "code",
   "execution_count": null,
   "metadata": {},
   "outputs": [],
   "source": [
    "# No clear sky values\n",
    "%autoreload\n",
    "tiilist = [[2,3],[2,3,4],[2,3,4,5],[2,3,4,5,6],[2,3,4,5,6,7],[2,3,4,5,6,7,8],[2,3,4,5,6,7,8,9],\n",
    "           [2,3,4,5,6,7,8,9,10],[2,3,4,5,6,7,8,9,10,11],\n",
    "           [4,5,6]]  #times to assimilate in inversion algorithm.\n",
    "tiilist = [[4,5,6]]\n",
    "remove_cols=True    # removes columns with no model values in them.\n",
    "remove_rows=False   # removes clear sky observations\n",
    "remove_sources = False\n",
    "remove_ncs=7\n",
    "for tii in tiilist:\n",
    "    makerun(tii,remove_cols,remove_rows,remove_sources,remove_ncs)\n",
    "\n",
    "#remove_rows=True\n",
    "#remove_ncs=0\n",
    "#for tii in tiilist:\n",
    "#    makerun(tii,remove_cols,remove_rows,remove_sources,remove_ncs)\n",
    "\n",
    "#remove_rows=False\n",
    "#remove_ncs=0\n",
    "#for tii in tiilist:\n",
    "#    makerun(tii,remove_cols,remove_rows,remove_sources,remove_ncs)"
   ]
  },
  {
   "cell_type": "code",
   "execution_count": null,
   "metadata": {},
   "outputs": [],
   "source": [
    "%autoreload\n",
    "tiilist = [[2,3],[2,3,4],[2,3,4,5],[2,3,4,5,6],[2,3,4,5,6,7],[2,3,4,5,6,7,8],[2,3,4,5,6,7,8,9],\n",
    "           [2,3,4,5,6,7,8,9,10],[2,3,4,5,6,7,8,9,10,11],\n",
    "           [4,5,6]]  #times to assimilate in inversion algorithm.\n",
    "remove_cols=True    # removes columns with no model values in them.\n",
    "remove_rows=False   # removes clear sky observations\n",
    "remove_sources = False\n",
    "remove_ncs=5\n",
    "for tii in tiilist:\n",
    "    makerun(tii,remove_cols,remove_rows,remove_sources,remove_ncs)\n",
    "remove_rows=True\n",
    "remove_ncs=0\n",
    "for tii in tiilist:\n",
    "    makerun(tii,remove_cols,remove_rows,remove_sources,remove_ncs)\n",
    "remove_rows=False\n",
    "remove_ncs=0\n",
    "for tii in tiilist:\n",
    "    makerun(tii,remove_cols,remove_rows,remove_sources,remove_ncs)\n",
    "    \n",
    "    \n",
    "tiilist = [[7,8],[9,10,11],[2,3,4,5,6,7,8,9,10,11]]  #times to assimilate in inversion algorithm.\n",
    "remove_cols=True    # removes columns with no model values in them.\n",
    "remove_rows=False    # removes clear sky observations\n",
    "remove_sources = False\n",
    "remove_ncs=7\n",
    "for tii in tiilist:\n",
    "    makerun(tii,remove_cols,remove_rows,remove_sources,remove_ncs)\n",
    "remove_rows=True\n",
    "remove_ncs=0\n",
    "for tii in tiilist:\n",
    "    makerun(tii,remove_cols,remove_rows,remove_sources,remove_ncs)\n",
    "remove_rows=False\n",
    "remove_ncs=0\n",
    "for tii in tiilist:\n",
    "    makerun(tii,remove_cols,remove_rows,remove_sources,remove_ncs)  \n",
    "    "
   ]
  },
  {
   "cell_type": "markdown",
   "metadata": {},
   "source": [
    "# Looking at inidividual inversions"
   ]
  },
  {
   "cell_type": "code",
   "execution_count": null,
   "metadata": {},
   "outputs": [],
   "source": [
    "%autoreload\n",
    "tii = [2,3]  #times to assimilate in inversion algorithm.\n",
    "remove_cols=True    # removes columns with no model values in them.\n",
    "remove_rows=False    # removes clear sky observations\n",
    "remove_sources = False\n",
    "remove_ncs=5\n",
    "#remove_sources = ['12880']  # this would remove top vertical level from consideration.\n",
    "#inverse.make_tcm_mult([1,2,3,4],remove_cols=True,remove_rows=False,remove_sources=['12880'])\n",
    "inverse.make_tcm_mult(tii,remove_cols=remove_cols, remove_rows=remove_rows, remove_sources=remove_sources,remove_ncs=remove_ncs)\n",
    "runtag = ai.create_runtag(tag,tii,remove_cols, remove_rows, remove_sources,remove_ncs=remove_ncs)\n",
    "\n",
    "# set the subdirectory for this TCM run.\n",
    "#subdir = inverse.set_sub_directory(runtag)\n",
    "#print('setting subdirectory {}'.format(subdir))"
   ]
  },
  {
   "cell_type": "code",
   "execution_count": null,
   "metadata": {},
   "outputs": [],
   "source": [
    "print(runtag)"
   ]
  },
  {
   "cell_type": "code",
   "execution_count": null,
   "metadata": {},
   "outputs": [],
   "source": [
    "numpar = 20000  # number of particles released per hour.\n",
    "delt = 5 # time step\n",
    "tave = 1 # 1 h time average\n",
    "hres = 0.1 # 0.1 degree horizontal resolution.\n",
    "rate = 1 # 1 unit mass per hour\n",
    "particle_mass = rate / numpar  #how much unit mass each particle has\n",
    "area = (hres * 111e3)**2  # area in meters squared for mass loading grid.\n",
    "mass_one = particle_mass / area  # unit mass / m2 for one particle in grid box.\n",
    "mass_one_one = mass_one / (tave*60 / delt)  # smallest mass loading possible with one particle for one time step\n",
    "print(mass_one_one)  # one particle for one time step\n",
    "print(mass_one)      # one particle in area."
   ]
  },
  {
   "cell_type": "code",
   "execution_count": null,
   "metadata": {},
   "outputs": [],
   "source": [
    "%autoreload\n",
    "inverse.plot_tcm()\n",
    "inverse.invlist[0].tcm.shape\n"
   ]
  },
  {
   "cell_type": "code",
   "execution_count": null,
   "metadata": {},
   "outputs": [],
   "source": [
    "#hysplitdir = '/hysplit-users/alicec/FBamcArea/exec/'\n",
    "#inverse.set_directory(wdir,execdir,hysplitdir)\n",
    "inverse.set_subdirectory(runtag)"
   ]
  },
  {
   "cell_type": "code",
   "execution_count": null,
   "metadata": {
    "scrolled": true
   },
   "outputs": [],
   "source": [
    "%autoreload\n",
    "tcmstr = inverse.write_tcm(os.path.join(inverse.subdir, tcm_name_base.replace('zzz','4')))\n",
    "#print(tcmstr)"
   ]
  },
  {
   "cell_type": "code",
   "execution_count": null,
   "metadata": {
    "scrolled": true
   },
   "outputs": [],
   "source": [
    "%autoreload\n",
    "#hysplitdir = '/hysplit-users/alicec/FBamcArea/exec/'\n",
    "#inverse.set_directory(wdir,execdir,hysplitdir)\n",
    "inverse.run_tcm()"
   ]
  },
  {
   "cell_type": "code",
   "execution_count": null,
   "metadata": {},
   "outputs": [],
   "source": [
    "# Now run the inverse model.\n",
    "\n",
    "# open the Parameters_in.dat file and set N_ctrl, Nx_ctrl and lbfgs_nbd to\n",
    "# the number shown for N_ctrl above.\n",
    "\n",
    "# copy the tcm file to TCM_sum.csv\n",
    "\n",
    "# run new_lbfgsb.x"
   ]
  },
  {
   "cell_type": "code",
   "execution_count": null,
   "metadata": {},
   "outputs": [],
   "source": [
    "10**0.0007"
   ]
  },
  {
   "cell_type": "code",
   "execution_count": null,
   "metadata": {},
   "outputs": [],
   "source": [
    "%autoreload\n",
    "inverse.plot_outdat(eii=None)"
   ]
  },
  {
   "cell_type": "code",
   "execution_count": null,
   "metadata": {},
   "outputs": [],
   "source": [
    "print(inverse.make_tcm_names())\n",
    "print(inverse.subdir)"
   ]
  },
  {
   "cell_type": "code",
   "execution_count": null,
   "metadata": {},
   "outputs": [],
   "source": [
    "%autoreload\n",
    "\n",
    "eii=None\n",
    "unit='g/h'\n",
    "unit='kg/s'\n",
    "inverse.plot_outdat_ts(eii,unit=unit)\n",
    "plt.show()\n",
    "inverse.plot_outdat_ts(eii,profile=True)\n",
    "inverse.save_emis(runtag+'.csv')\n",
    "#ax = plt.gca()\n",
    "#ax.set_ylim(0,10000)"
   ]
  },
  {
   "cell_type": "code",
   "execution_count": null,
   "metadata": {},
   "outputs": [],
   "source": [
    "#%autoreload\n",
    "#inverse.sourcehash = ai.get_sourcehash(configdir,configfile)"
   ]
  },
  {
   "cell_type": "code",
   "execution_count": null,
   "metadata": {
    "scrolled": false
   },
   "outputs": [],
   "source": [
    "%autoreload\n",
    "unit='kg/s'\n",
    "#unit='g/h'\n",
    "iii=0\n",
    "print(inverse.taglist[iii])\n",
    "ilist =  inverse.read_outdat()\n",
    "df = ilist[iii].get_emis()\n",
    "vals = inverse.invlist[iii].make_outdat(df)\n",
    "inverse.invlist[iii].plot_outdat(vals,log=False,cmap='viridis',unit=unit)\n",
    "#plt.savefig('{}.emissions_log.png'.format(figbase))\n",
    "plt.show()\n",
    "inverse.invlist[0].plot_outdat(vals,log=True,cmap='viridis',unit=unit)\n",
    "#plt.savefig('{}.emissions.png'.format(figbase))\n"
   ]
  },
  {
   "cell_type": "code",
   "execution_count": null,
   "metadata": {},
   "outputs": [],
   "source": [
    "inverse.invlist[0].inp"
   ]
  },
  {
   "cell_type": "code",
   "execution_count": null,
   "metadata": {},
   "outputs": [],
   "source": [
    "%autoreload\n",
    "inverse.print_directories()"
   ]
  },
  {
   "cell_type": "code",
   "execution_count": null,
   "metadata": {},
   "outputs": [],
   "source": [
    "%autoreload\n",
    "# creates emit-times, CONTROL and SETUP files for HYSPLIT runs.\n",
    "# Note that warning that meteorological files not found is ok.\n",
    "inverse.make_efile(vloc=vloc)"
   ]
  },
  {
   "cell_type": "code",
   "execution_count": null,
   "metadata": {},
   "outputs": [],
   "source": [
    "%autoreload\n",
    "inverse.run_hysplit()"
   ]
  },
  {
   "cell_type": "markdown",
   "metadata": {},
   "source": [
    "# Creating netcdf files from cdump"
   ]
  },
  {
   "cell_type": "code",
   "execution_count": null,
   "metadata": {},
   "outputs": [],
   "source": [
    "runtag = 'RunB_5_TT'\n",
    "runtag = 'RunB_2_3_4_TF'\n",
    "runtag = 'RunB_2_3_4_TT'\n",
    "runtag = 'RunB_7_TT'\n",
    "inverse.set_subdirectory(runtag)"
   ]
  },
  {
   "cell_type": "code",
   "execution_count": null,
   "metadata": {
    "scrolled": true
   },
   "outputs": [],
   "source": [
    "%autoreload\n",
    "# converts cdump to netcdf file.\n",
    "#dset = inverse.create_emit_output(inverse.subdir + '/Run{}.nc'.format(tag))"
   ]
  },
  {
   "cell_type": "code",
   "execution_count": null,
   "metadata": {},
   "outputs": [],
   "source": [
    "#for attr in dset.attrs: print(type(dset.attrs[attr]), attr)"
   ]
  },
  {
   "cell_type": "code",
   "execution_count": null,
   "metadata": {},
   "outputs": [],
   "source": [
    "blist = []\n",
    "for iii, subdir in enumerate(runtag):\n",
    "    #print(subdir)\n",
    "    inverse.set_subdirectory(subdir)\n",
    "    #print(inverse.subdir)\n",
    "    if os.path.isfile(os.path.join(inverse.subdir,'cdump.bezyB')):\n",
    "       blist.append([os.path.join(inverse.subdir,'cdump.bezyB'),'gfs0p25',subdir])\n",
    "\n",
    "\n",
    "#cdir = '/hysplit-users/alicec/projects/bezy/RunB/'\n",
    "#tags = ['RunC_2_3_4_TFw5', 'RunC_4_5_6_TFw5', 'RunC_7_8_TFw7','RunC_9_10_11_TFw7']\n",
    "#name = 'cdump.bezyC'\n",
    "#for tag in tags:\n",
    "#    blist.append((os.path.join(cdir,tag,name),'gfs0p25',tag))\n",
    "    \n",
    "cdir = '/hysplit-users/alicec/projects/bezy/RunC/'\n",
    "tags = ['RunC_2_3_4_TFw5', 'RunC_4_5_6_TFw5', 'RunC_7_8_TFw7','RunC_9_10_11_TFw7']\n",
    "name = 'cdump.bezyC'\n",
    "for tag in tags:\n",
    "    blist.append((os.path.join(cdir,tag,name),'gfs0p25',tag))\n",
    "\n",
    "\n",
    "\n",
    "cdir = '/hysplit-users/alicec/projects/bezy/RunD/'\n",
    "tags = ['RunD_2_3_4_TFw5', 'RunD_4_5_6_TFw5', 'RunD_7_8_TFw7','RunD_9_10_11_TFw7']\n",
    "tags.append('RunD_2_3_4_5_6_7_8_9_10_11_TFw7')\n",
    "tags.append('RunD_2_3_4_5_6_7_8_9_10_11_TT')\n",
    "name = 'cdump.ezyD1'\n",
    "for tag in tags:\n",
    "    blist.append((os.path.join(cdir,tag,name),'gfs0p25',tag))\n",
    "\n",
    "for bl in blist: \n",
    "    print(bl)\n",
    "    print(os.path.isfile(bl[0]))\n",
    "#dset = hysplit.combine_dataset(blist)"
   ]
  },
  {
   "cell_type": "code",
   "execution_count": null,
   "metadata": {},
   "outputs": [],
   "source": [
    "dset.ens.values\n",
    "dset.to_netcdf(os.path.join(inverse.wdir,'RunGFS2.nc'))"
   ]
  },
  {
   "cell_type": "code",
   "execution_count": null,
   "metadata": {},
   "outputs": [],
   "source": [
    "%autoreload\n",
    "unit='kg/s'\n",
    "#unit='g/h'\n",
    "iii=0\n",
    "print(inverse.taglist[iii])\n",
    "ilist =  inverse.read_outdat()\n",
    "df = ilist[iii].get_emis()\n",
    "vals = inverse.invlist[iii].make_outdat(df)\n",
    "inverse.invlist[iii].plot_outdat(vals,log=False,cmap='viridis',unit=unit)\n",
    "#plt.savefig('{}.emissions_log.png'.format(figbase))\n",
    "plt.show()\n",
    "inverse.invlist[0].plot_outdat(vals,log=True,cmap='viridis',unit=unit)\n",
    "#plt.savefig('{}.emissions.png'.format(figbase))"
   ]
  },
  {
   "cell_type": "code",
   "execution_count": null,
   "metadata": {},
   "outputs": [],
   "source": [
    "v8, c8 = inverse.invlist[0].get_pair(4)"
   ]
  },
  {
   "cell_type": "code",
   "execution_count": null,
   "metadata": {},
   "outputs": [],
   "source": [
    "v8.plot.pcolormesh()"
   ]
  },
  {
   "cell_type": "code",
   "execution_count": null,
   "metadata": {},
   "outputs": [],
   "source": [
    "test1 = xr.where(test>0,True,False)\n",
    "test2 = xr.where(v8>0,True,False)"
   ]
  },
  {
   "cell_type": "code",
   "execution_count": null,
   "metadata": {},
   "outputs": [],
   "source": [
    "spread=4\n",
    "test = v8.rolling(x=spread,center=True).max()\n",
    "test = test.rolling(y=spread,center=True).max()\n",
    "test.plot.pcolormesh()"
   ]
  },
  {
   "cell_type": "code",
   "execution_count": null,
   "metadata": {},
   "outputs": [],
   "source": [
    "test1"
   ]
  },
  {
   "cell_type": "code",
   "execution_count": null,
   "metadata": {},
   "outputs": [],
   "source": [
    "np.all([test1,test2],axis=0).shape"
   ]
  },
  {
   "cell_type": "code",
   "execution_count": null,
   "metadata": {},
   "outputs": [],
   "source": [
    "test3 = xr.where(np.any([test1,test2],axis=0), v8, -1)"
   ]
  },
  {
   "cell_type": "code",
   "execution_count": null,
   "metadata": {},
   "outputs": [],
   "source": [
    "test3.plot.pcolormesh()"
   ]
  },
  {
   "cell_type": "code",
   "execution_count": null,
   "metadata": {},
   "outputs": [],
   "source": []
  },
  {
   "cell_type": "code",
   "execution_count": null,
   "metadata": {},
   "outputs": [],
   "source": [
    "1.5e4*1e3*3600 / 1e12"
   ]
  },
  {
   "cell_type": "code",
   "execution_count": null,
   "metadata": {},
   "outputs": [],
   "source": [
    "datetime.timedelta(hours=1)"
   ]
  },
  {
   "cell_type": "code",
   "execution_count": null,
   "metadata": {},
   "outputs": [],
   "source": [
    "import xarray as xr"
   ]
  },
  {
   "cell_type": "code",
   "execution_count": null,
   "metadata": {},
   "outputs": [],
   "source": [
    "test = xr.open_dataset('../data/xrfile.ensCylBezyA2.nc')"
   ]
  },
  {
   "cell_type": "code",
   "execution_count": null,
   "metadata": {},
   "outputs": [],
   "source": [
    "test"
   ]
  },
  {
   "cell_type": "code",
   "execution_count": null,
   "metadata": {},
   "outputs": [],
   "source": [
    "test.z.values"
   ]
  },
  {
   "cell_type": "code",
   "execution_count": null,
   "metadata": {},
   "outputs": [],
   "source": [
    "1523+500"
   ]
  },
  {
   "cell_type": "code",
   "execution_count": null,
   "metadata": {},
   "outputs": [],
   "source": [
    "3047-1523"
   ]
  },
  {
   "cell_type": "code",
   "execution_count": null,
   "metadata": {},
   "outputs": [],
   "source": []
  }
 ],
 "metadata": {
  "kernelspec": {
   "display_name": "Python 3",
   "language": "python",
   "name": "python3"
  },
  "language_info": {
   "codemirror_mode": {
    "name": "ipython",
    "version": 3
   },
   "file_extension": ".py",
   "mimetype": "text/x-python",
   "name": "python",
   "nbconvert_exporter": "python",
   "pygments_lexer": "ipython3",
   "version": "3.8.6"
  }
 },
 "nbformat": 4,
 "nbformat_minor": 4
}
