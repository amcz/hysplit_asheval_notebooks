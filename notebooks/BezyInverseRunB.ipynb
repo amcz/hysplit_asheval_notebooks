{
 "cells": [
  {
   "cell_type": "code",
   "execution_count": 466,
   "metadata": {},
   "outputs": [
    {
     "name": "stdout",
     "output_type": "stream",
     "text": [
      "The autoreload extension is already loaded. To reload it, use:\n",
      "  %reload_ext autoreload\n"
     ]
    }
   ],
   "source": [
    "%load_ext autoreload"
   ]
  },
  {
   "cell_type": "code",
   "execution_count": 467,
   "metadata": {},
   "outputs": [],
   "source": [
    "import os\n",
    "import numpy as np\n",
    "import pandas as pd\n",
    "import xarray as xr\n",
    "import matplotlib.pyplot as plt\n",
    "import seaborn as sns\n",
    "import datetime\n",
    "#from monetio.models import hysplit"
   ]
  },
  {
   "cell_type": "code",
   "execution_count": 468,
   "metadata": {},
   "outputs": [],
   "source": [
    "from monetio.models import hysplit"
   ]
  },
  {
   "cell_type": "code",
   "execution_count": 469,
   "metadata": {},
   "outputs": [],
   "source": [
    "from utilvolc import volcat\n",
    "import utilvolc.ash_inverse as ai\n",
    "from utilvolc import ashapp"
   ]
  },
  {
   "cell_type": "code",
   "execution_count": 470,
   "metadata": {},
   "outputs": [],
   "source": [
    "from utilvolc.ashapp import ashinverse"
   ]
  },
  {
   "cell_type": "code",
   "execution_count": 471,
   "metadata": {},
   "outputs": [
    {
     "name": "stdout",
     "output_type": "stream",
     "text": [
      "/hysplit-users/alicec/projects/bezy/Inverse_240 /hysplit-users/alicec/projects/bezy/hysplit\n",
      "/hysplit-users/alicec/projects/bezy/data/volcat\n"
     ]
    }
   ],
   "source": [
    "os.chdir('/hysplit-users/alicec/projects/bezy/notebooks/')\n",
    "projdir = os.getcwd().replace('notebooks','')\n",
    "\n",
    "vloc = [160.587,55.978]\n",
    "tag ='B'\n",
    "#ens = ['gep{:02d}'.format(x) for x in np.arange(1,31)]\n",
    "#ens.append('gec00')\n",
    "#ens=['gep04','gep03']\n",
    "\n",
    "#----------------------------------------------------------------\n",
    "# locations and names of netcdf files with cdump output.\n",
    "tdir = os.path.join(projdir,'data')\n",
    "fnamelist  = ['xrfile.invbezy{}.nc'.format(tag)]\n",
    "tdirlist = [tdir]\n",
    "\n",
    "#----------------------------------------------------------------\n",
    "configdir = os.path.join(projdir,'RunB')\n",
    "configfile = 'config.invbezy{}.txt'.format(tag)\n",
    "\n",
    "#-----------------------------------------------------------------\n",
    "# location of volcat files\n",
    "vdir = os.path.join(projdir,'data','volcat')\n",
    "# volcano id to locate\n",
    "vid = 'v300250'\n",
    "#-----------------------------------------------------------------\n",
    "# Location of inverse algorithm output\n",
    "#wpath = os.getcwd()\n",
    "wdir = os.path.join(projdir,'RunB')\n",
    "#print(wpath)\n",
    "#cdir = '../Run{}/'.format(tag)\n",
    "#wdir = '../Run{}/'.format(tag,tag)\n",
    "#sdir = os.path.join(wdir,'RunM_1_2_3_4_TF')\n",
    "name = 'out.dat'\n",
    "name2 = 'out2.dat'\n",
    "#------------------------------------------------------------------\n",
    "\n",
    "# name to write emit-times file to.\n",
    "emit_file_name = '{}emit_Run{}4.txt'.format(wdir,tag)\n",
    "tcm_name_base = 'run{}zzz.tcm.txt'.format(tag)\n",
    "figbase = 'Run{}4'.format(tag)\n",
    "\n",
    "#-------------------------------------------------------------------\n",
    "#\n",
    "\n",
    "execdir = os.path.join(projdir,'Inverse_240')\n",
    "hysplitdir = os.path.join(projdir,'hysplit')\n",
    "#execdir = mdir+'/Inverse_'\n",
    "print(execdir, hysplitdir)\n",
    "print(vdir)\n",
    "#\n",
    "\n",
    "datadir = os.path.join(projdir, 'data')"
   ]
  },
  {
   "cell_type": "code",
   "execution_count": 506,
   "metadata": {},
   "outputs": [
    {
     "name": "stdout",
     "output_type": "stream",
     "text": [
      "[datetime.datetime(2020, 10, 21, 21, 0), datetime.datetime(2020, 10, 21, 22, 0)]\n",
      "[datetime.datetime(2020, 10, 22, 6, 0), datetime.datetime(2020, 10, 22, 7, 0)]\n"
     ]
    }
   ],
   "source": [
    "%autoreload\n",
    "#time list to prepare.\n",
    "# start with one hour after eruption. 21:00-22:00\n",
    "dlist = []\n",
    "sdate = datetime.datetime(2020,10,21,21,0)\n",
    "#sdate = datetime.datetime(2020,10,22,12,0)\n",
    "dt = datetime.timedelta(hours=1)\n",
    "for iii in np.arange(0,10):\n",
    "    drange = [sdate, sdate+dt]\n",
    "    dlist.append(drange)\n",
    "    sdate += dt\n",
    "print(dlist[0])\n",
    "print(dlist[-1])"
   ]
  },
  {
   "cell_type": "code",
   "execution_count": 507,
   "metadata": {},
   "outputs": [],
   "source": [
    "# initiate the InverseAshEns object\n",
    "%autoreload\n",
    "inverse = ai.InverseAshEns(tdirlist,fnamelist,vdir,vid,configdir=configdir,configfile=configfile,verbose=False)"
   ]
  },
  {
   "cell_type": "code",
   "execution_count": 508,
   "metadata": {},
   "outputs": [
    {
     "name": "stdout",
     "output_type": "stream",
     "text": [
      "2020-10-21 21:00:00\n",
      "2020-10-21 23:00:00\n"
     ]
    }
   ],
   "source": [
    "print(inverse.invlist[0].get_time(2))\n",
    "print(inverse.invlist[0].get_time(4))"
   ]
  },
  {
   "cell_type": "code",
   "execution_count": 509,
   "metadata": {},
   "outputs": [
    {
     "name": "stdout",
     "output_type": "stream",
     "text": [
      "Working directory, wdir :/hysplit-users/alicec/projects/bezy/RunB\n",
      "execdir :/hysplit-users/alicec/projects/bezy/Inverse_240\n",
      "hysplitdir :/hysplit-users/alicec/projects/bezy/hysplit\n",
      "subdir :/hysplit-users/alicec/projects/bezy/RunB\n",
      "vdir :/hysplit-users/alicec/projects/bezy/data/volcat\n",
      "datadir :/hysplit-users/alicec/projects/bezy/data\n"
     ]
    }
   ],
   "source": [
    "%autoreload\n",
    "inverse.set_directory(wdir,execdir,datadir,hysplitdir)\n",
    "inverse.print_directories()"
   ]
  },
  {
   "cell_type": "code",
   "execution_count": 510,
   "metadata": {},
   "outputs": [
    {
     "data": {
      "text/plain": [
       "Coordinates:\n",
       "  * time       (time) datetime64[ns] 2020-10-21T19:00:00 ... 2020-10-22T11:00:00\n",
       "  * z          (z) int64 1523 3047 4571 6095 7619 9143 10667 12191 13715 15239\n",
       "  * y          (y) int64 376 377 378 379 380 381 382 ... 480 481 482 483 484 485\n",
       "  * x          (x) int64 866 867 868 869 870 871 872 ... 947 948 949 950 951 952\n",
       "  * ens        (ens) object '102119_2880' '102119_3880' ... '102200_12880'\n",
       "    source     <U13 'Line to 14 km'\n",
       "    latitude   (y, x) float64 ...\n",
       "    longitude  (y, x) float64 ..."
      ]
     },
     "execution_count": 510,
     "metadata": {},
     "output_type": "execute_result"
    }
   ],
   "source": [
    "inva = inverse.invlist[0]\n",
    "inva.cdump.coords"
   ]
  },
  {
   "cell_type": "code",
   "execution_count": 511,
   "metadata": {},
   "outputs": [
    {
     "name": "stdout",
     "output_type": "stream",
     "text": [
      "[datetime.datetime(2020, 10, 21, 21, 0), datetime.datetime(2020, 10, 21, 22, 0)]\n",
      "[datetime.datetime(2020, 10, 21, 22, 0), datetime.datetime(2020, 10, 21, 23, 0)]\n",
      "[datetime.datetime(2020, 10, 21, 23, 0), datetime.datetime(2020, 10, 22, 0, 0)]\n",
      "[datetime.datetime(2020, 10, 22, 0, 0), datetime.datetime(2020, 10, 22, 1, 0)]\n",
      "[datetime.datetime(2020, 10, 22, 1, 0), datetime.datetime(2020, 10, 22, 2, 0)]\n",
      "[datetime.datetime(2020, 10, 22, 2, 0), datetime.datetime(2020, 10, 22, 3, 0)]\n",
      "[datetime.datetime(2020, 10, 22, 3, 0), datetime.datetime(2020, 10, 22, 4, 0)]\n",
      "[datetime.datetime(2020, 10, 22, 4, 0), datetime.datetime(2020, 10, 22, 5, 0)]\n",
      "[datetime.datetime(2020, 10, 22, 5, 0), datetime.datetime(2020, 10, 22, 6, 0)]\n",
      "[datetime.datetime(2020, 10, 22, 6, 0), datetime.datetime(2020, 10, 22, 7, 0)]\n"
     ]
    }
   ],
   "source": [
    "# add in the relavant VOLCAT observations\n",
    "%autoreload\n",
    "#dlist = [[datetime.datetime(2020,10,22,9),datetime.datetime(2020,10,22,10)]]\n",
    "for drange in dlist:\n",
    "    print(drange)\n",
    "    inverse.prepare_one_time(drange)"
   ]
  },
  {
   "cell_type": "code",
   "execution_count": 512,
   "metadata": {},
   "outputs": [
    {
     "name": "stdout",
     "output_type": "stream",
     "text": [
      "time 1 : 2020-10-21 20:00:00\n",
      "time 2 : 2020-10-21 21:00:00\n",
      "time 3 : 2020-10-21 22:00:00\n",
      "time 4 : 2020-10-21 23:00:00\n",
      "time 5 : 2020-10-22 00:00:00\n",
      "time 6 : 2020-10-22 01:00:00\n",
      "time 7 : 2020-10-22 02:00:00\n",
      "time 8 : 2020-10-22 03:00:00\n",
      "time 9 : 2020-10-22 04:00:00\n",
      "time 10 : 2020-10-22 05:00:00\n",
      "time 11 : 2020-10-22 06:00:00\n"
     ]
    }
   ],
   "source": [
    "for tii in [1,2,3,4,5,6,7,8,9,10,11]:\n",
    "    print('time {} : {}'.format(tii,inverse.invlist[0].get_time(tii)))\n"
   ]
  },
  {
   "cell_type": "code",
   "execution_count": 479,
   "metadata": {},
   "outputs": [
    {
     "name": "stdout",
     "output_type": "stream",
     "text": [
      "Observations availalbe in volcat_avg_hash\n",
      "dict_keys([2, 3, 4, 5, 6, 7, 8, 9, 10, 11])\n",
      "times in cdump file\n",
      "2020 10 21 19:00z\n",
      "2020 10 21 20:00z\n",
      "2020 10 21 21:00z\n",
      "2020 10 21 22:00z\n",
      "2020 10 21 23:00z\n",
      "2020 10 22 00:00z\n",
      "2020 10 22 01:00z\n",
      "2020 10 22 02:00z\n",
      "2020 10 22 03:00z\n",
      "2020 10 22 04:00z\n",
      "2020 10 22 05:00z\n",
      "2020 10 22 06:00z\n",
      "2020 10 22 07:00z\n",
      "2020 10 22 08:00z\n",
      "2020 10 22 09:00z\n",
      "2020 10 22 10:00z\n",
      "2020 10 22 11:00z\n"
     ]
    }
   ],
   "source": [
    "%autoreload\n",
    "inverse.invlist[0].print_summary()"
   ]
  },
  {
   "cell_type": "code",
   "execution_count": 480,
   "metadata": {
    "scrolled": true
   },
   "outputs": [
    {
     "name": "stdout",
     "output_type": "stream",
     "text": [
      "10 bezyB\n",
      "tii 10\n"
     ]
    },
    {
     "name": "stderr",
     "output_type": "stream",
     "text": [
      "/hysplit-users/alicec/anaconda3/envs/paris/lib/python3.8/site-packages/xarray/core/computation.py:739: RuntimeWarning: divide by zero encountered in log10\n",
      "  result_data = func(*input_data)\n"
     ]
    },
    {
     "data": {
      "image/png": "[encoded data removed]",
      "text/plain": [
       "<Figure size 720x360 with 2 Axes>"
      ]
     },
     "metadata": {},
     "output_type": "display_data"
    }
   ],
   "source": [
    "%autoreload\n",
    "#gep10, gep16 looks good at tii=6.\n",
    "#gep24 possibly looks ok.\n",
    "zlevel=None  #index 'ensemble'\n",
    "           #if None then sum along the ens. dimension which shows contributions from all inv. runs.\n",
    "tii=10\n",
    "#zlevel=None\n",
    "%autoreload\n",
    "ax = inverse.compare_plotsA(daterange=dlist[0],tii=tii,zii=zlevel)\n",
    "#plt.gca()\n",
    "#ax.plot(160.587,55.978,'y^')\n",
    "#plt.show()\n"
   ]
  },
  {
   "cell_type": "code",
   "execution_count": 481,
   "metadata": {},
   "outputs": [],
   "source": [
    "%autoreload\n",
    "inverse.set_concmult(1)"
   ]
  },
  {
   "cell_type": "markdown",
   "metadata": {},
   "source": [
    "# Automatic Runs"
   ]
  },
  {
   "cell_type": "code",
   "execution_count": 489,
   "metadata": {},
   "outputs": [],
   "source": [
    "def makerun(tii,remove_cols, remove_rows, remove_sources,remove_ncs):\n",
    "    print(\"HERE HERE HERE\")\n",
    "    inverse.make_tcm_mult(tii,remove_cols=remove_cols, remove_rows=remove_rows, remove_sources=remove_sources,remove_ncs=remove_ncs)\n",
    "    runtag = ai.create_runtag(tag,tii,remove_cols, remove_rows, remove_sources,remove_ncs=remove_ncs)\n",
    "    inverse.set_subdirectory(runtag)\n",
    "    print('HERE', inverse.subdir)\n",
    "    tcmstr = inverse.write_tcm(os.path.join(inverse.subdir, tcm_name_base.replace('zzz','4')))\n",
    "    inverse.run_tcm()\n",
    "    \n",
    "    eii=None\n",
    "    unit='g/h'\n",
    "    unit='kg/s'\n",
    "    inverse.plot_outdat_ts(eii,unit=unit)\n",
    "    #plt.show()\n",
    "    #inverse.plot_outdat_ts(eii,profile=True)\n",
    "    inverse.save_emis(runtag+'.csv')\n"
   ]
  },
  {
   "cell_type": "markdown",
   "metadata": {},
   "source": [
    "## Run with all previous and just two previous"
   ]
  },
  {
   "cell_type": "code",
   "execution_count": 494,
   "metadata": {},
   "outputs": [
    {
     "name": "stdout",
     "output_type": "stream",
     "text": [
      "tii [2, 3, 4, 5]\n",
      "HERE HERE HERE\n",
      "2020-10-21T21:00:00.000000000\n",
      "2020-10-21T22:00:00.000000000\n",
      "2020-10-21T23:00:00.000000000\n",
      "2020-10-22T00:00:00.000000000\n",
      "HERE /hysplit-users/alicec/projects/bezy/RunB/RunB_2_3_4_5_TFw5\n",
      "(7933, 67)\n",
      "N_ctrl 66\n",
      "output file /hysplit-users/alicec/projects/bezy/RunB/RunB_2_3_4_5_TFw5/runB4.tcm_bezyB.txt\n"
     ]
    },
    {
     "name": "stderr",
     "output_type": "stream",
     "text": [
      "/hysplit-users/alicec/utilhysplit/utilvolc/ash_inverse.py:829: VisibleDeprecationWarning: Creating an ndarray from ragged nested sequences (which is a list-or-tuple of lists-or-tuples-or ndarrays with different lengths or shapes) is deprecated. If you meant to do this, you must specify 'dtype=object' when creating the ndarray.\n",
      "  self.latlist = np.array(latlist)\n",
      "/hysplit-users/alicec/utilhysplit/utilvolc/ash_inverse.py:830: VisibleDeprecationWarning: Creating an ndarray from ragged nested sequences (which is a list-or-tuple of lists-or-tuples-or ndarrays with different lengths or shapes) is deprecated. If you meant to do this, you must specify 'dtype=object' when creating the ndarray.\n",
      "  self.lonlist = np.array(lonlist)\n",
      "/hysplit-users/alicec/utilhysplit/utilvolc/ash_inverse.py:844: VisibleDeprecationWarning: Creating an ndarray from ragged nested sequences (which is a list-or-tuple of lists-or-tuples-or ndarrays with different lengths or shapes) is deprecated. If you meant to do this, you must specify 'dtype=object' when creating the ndarray.\n",
      "  self.latlist = np.array(latlist)\n",
      "/hysplit-users/alicec/utilhysplit/utilvolc/ash_inverse.py:845: VisibleDeprecationWarning: Creating an ndarray from ragged nested sequences (which is a list-or-tuple of lists-or-tuples-or ndarrays with different lengths or shapes) is deprecated. If you meant to do this, you must specify 'dtype=object' when creating the ndarray.\n",
      "  self.lonlist = np.array(lonlist)\n"
     ]
    },
    {
     "name": "stdout",
     "output_type": "stream",
     "text": [
      "bezyB\n"
     ]
    },
    {
     "name": "stderr",
     "output_type": "stream",
     "text": [
      "No meteorological files found /hysplit-users/alicec/projects/bezy/data/%Y%m%d/hysplit.t%Hz.gfs0p25f\n"
     ]
    },
    {
     "name": "stdout",
     "output_type": "stream",
     "text": [
      "saving to  /hysplit-users/alicec/projects/bezy/RunB/RunB_2_3_4_5_TFw5/RunB_2_3_4_5_TFw5.csv\n",
      "writing efile {} /hysplit-users/alicec/projects/bezy/RunB/RunB_2_3_4_5_TFw5/bezyB_emit.txt\n",
      "gfs0p25\n",
      "fcst str /pub/forecast/%Y%m%d/\n",
      "making control file  gfs0p25\n",
      "/hysplit-users/alicec/projects/bezy/data/\n",
      "fcst str /hysplit-users/alicec/projects/bezy/data/%Y%m%d/\n",
      "WARNING /hysplit-users/alicec/projects/bezy/data/20201021/hysplit.t18z.gfs0p25f meteorological file does not exist\n",
      "WARNING /hysplit-users/alicec/projects/bezy/data/20201022/hysplit.t00z.gfs0p25f meteorological file does not exist\n",
      "WARNING /hysplit-users/alicec/projects/bezy/data/20201022/hysplit.t06z.gfs0p25f meteorological file does not exist\n",
      "WARNING /hysplit-users/alicec/projects/bezy/data/20201022/hysplit.t12z.gfs0p25f meteorological file does not exist\n",
      "WARNING /hysplit-users/alicec/projects/bezy/data/20201022/hysplit.t18z.gfs0p25f meteorological file does not exist\n",
      "WARNING /hysplit-users/alicec/projects/bezy/data/20201023/hysplit.t00z.gfs0p25f meteorological file does not exist\n",
      "WARNING /hysplit-users/alicec/projects/bezy/data/20201023/hysplit.t06z.gfs0p25f meteorological file does not exist\n",
      "WARNING /hysplit-users/alicec/projects/bezy/data/20201021/hysplit.t12z.gfs0p25f meteorological file does not exist\n",
      "WARNING /hysplit-users/alicec/projects/bezy/data/20201021/hysplit.t18z.gfs0p25f meteorological file does not exist\n",
      "WARNING /hysplit-users/alicec/projects/bezy/data/20201022/hysplit.t00z.gfs0p25f meteorological file does not exist\n",
      "WARNING /hysplit-users/alicec/projects/bezy/data/20201022/hysplit.t06z.gfs0p25f meteorological file does not exist\n",
      "WARNING /hysplit-users/alicec/projects/bezy/data/20201022/hysplit.t12z.gfs0p25f meteorological file does not exist\n",
      "WARNING /hysplit-users/alicec/projects/bezy/data/20201022/hysplit.t18z.gfs0p25f meteorological file does not exist\n",
      "WARNING /hysplit-users/alicec/projects/bezy/data/20201023/hysplit.t00z.gfs0p25f meteorological file does not exist\n",
      "WARNING /hysplit-users/alicec/projects/bezy/data/20201021/hysplit.t06z.gfs0p25f meteorological file does not exist\n",
      "WARNING /hysplit-users/alicec/projects/bezy/data/20201021/hysplit.t12z.gfs0p25f meteorological file does not exist\n",
      "WARNING /hysplit-users/alicec/projects/bezy/data/20201021/hysplit.t18z.gfs0p25f meteorological file does not exist\n",
      "WARNING /hysplit-users/alicec/projects/bezy/data/20201022/hysplit.t00z.gfs0p25f meteorological file does not exist\n",
      "WARNING /hysplit-users/alicec/projects/bezy/data/20201022/hysplit.t06z.gfs0p25f meteorological file does not exist\n",
      "WARNING /hysplit-users/alicec/projects/bezy/data/20201022/hysplit.t12z.gfs0p25f meteorological file does not exist\n",
      "WARNING /hysplit-users/alicec/projects/bezy/data/20201022/hysplit.t18z.gfs0p25f meteorological file does not exist\n",
      "WARNING /hysplit-users/alicec/projects/bezy/data/20201021/hysplit.t00z.gfs0p25f meteorological file does not exist\n",
      "WARNING /hysplit-users/alicec/projects/bezy/data/20201021/hysplit.t06z.gfs0p25f meteorological file does not exist\n",
      "WARNING /hysplit-users/alicec/projects/bezy/data/20201021/hysplit.t12z.gfs0p25f meteorological file does not exist\n",
      "WARNING /hysplit-users/alicec/projects/bezy/data/20201021/hysplit.t18z.gfs0p25f meteorological file does not exist\n",
      "WARNING /hysplit-users/alicec/projects/bezy/data/20201022/hysplit.t00z.gfs0p25f meteorological file does not exist\n",
      "WARNING /hysplit-users/alicec/projects/bezy/data/20201022/hysplit.t06z.gfs0p25f meteorological file does not exist\n",
      "WARNING /hysplit-users/alicec/projects/bezy/data/20201022/hysplit.t12z.gfs0p25f meteorological file does not exist\n",
      "WARNING /hysplit-users/alicec/projects/bezy/data/20201020/hysplit.t18z.gfs0p25f meteorological file does not exist\n",
      "WARNING /hysplit-users/alicec/projects/bezy/data/20201021/hysplit.t00z.gfs0p25f meteorological file does not exist\n",
      "WARNING /hysplit-users/alicec/projects/bezy/data/20201021/hysplit.t06z.gfs0p25f meteorological file does not exist\n",
      "WARNING /hysplit-users/alicec/projects/bezy/data/20201021/hysplit.t12z.gfs0p25f meteorological file does not exist\n",
      "WARNING /hysplit-users/alicec/projects/bezy/data/20201021/hysplit.t18z.gfs0p25f meteorological file does not exist\n",
      "WARNING /hysplit-users/alicec/projects/bezy/data/20201022/hysplit.t00z.gfs0p25f meteorological file does not exist\n",
      "WARNING /hysplit-users/alicec/projects/bezy/data/20201022/hysplit.t06z.gfs0p25f meteorological file does not exist\n",
      "WARNING /hysplit-users/alicec/projects/bezy/data/20201020/hysplit.t12z.gfs0p25f meteorological file does not exist\n",
      "WARNING /hysplit-users/alicec/projects/bezy/data/20201020/hysplit.t18z.gfs0p25f meteorological file does not exist\n",
      "WARNING /hysplit-users/alicec/projects/bezy/data/20201021/hysplit.t00z.gfs0p25f meteorological file does not exist\n",
      "WARNING /hysplit-users/alicec/projects/bezy/data/20201021/hysplit.t06z.gfs0p25f meteorological file does not exist\n",
      "WARNING /hysplit-users/alicec/projects/bezy/data/20201021/hysplit.t12z.gfs0p25f meteorological file does not exist\n",
      "WARNING /hysplit-users/alicec/projects/bezy/data/20201021/hysplit.t18z.gfs0p25f meteorological file does not exist\n",
      "WARNING /hysplit-users/alicec/projects/bezy/data/20201022/hysplit.t00z.gfs0p25f meteorological file does not exist\n",
      "Looking in archive for met files\n",
      "running  /hysplit-users/alicec/projects/bezy/hysplit/exec/hycs_std bezyB\n",
      "in loop 0s procs 1\n",
      "in loop 30s procs 1\n",
      "in loop 60s procs 1\n",
      "in loop 90s procs 1\n",
      "in loop 120s procs 1\n",
      "in loop 150s procs 1\n",
      "in loop 180s procs 1\n",
      "in loop 210s procs 1\n",
      "in loop 240s procs 1\n",
      "in loop 270s procs 1\n",
      "in loop 300s procs 1\n",
      "in loop 330s procs 1\n",
      "in loop 360s procs 1\n",
      "in loop 390s procs 1\n",
      "in loop 420s procs 1\n",
      "in loop 450s procs 1\n",
      "in loop 480s procs 1\n",
      "in loop 510s procs 1\n",
      "in loop 540s procs 1\n",
      "in loop 570s procs 1\n",
      "in loop 600s procs 1\n",
      "in loop 630s procs 0\n",
      "tii [2, 3, 4, 5, 6]\n",
      "HERE HERE HERE\n",
      "2020-10-21T21:00:00.000000000\n",
      "2020-10-21T22:00:00.000000000\n",
      "2020-10-21T23:00:00.000000000\n",
      "2020-10-22T00:00:00.000000000\n",
      "2020-10-22T01:00:00.000000000\n",
      "HERE /hysplit-users/alicec/projects/bezy/RunB/RunB_2_3_4_5_6_TFw5\n",
      "(11714, 67)\n",
      "N_ctrl 66\n",
      "output file /hysplit-users/alicec/projects/bezy/RunB/RunB_2_3_4_5_6_TFw5/runB4.tcm_bezyB.txt\n"
     ]
    },
    {
     "name": "stderr",
     "output_type": "stream",
     "text": [
      "/hysplit-users/alicec/utilhysplit/utilvolc/ash_inverse.py:829: VisibleDeprecationWarning: Creating an ndarray from ragged nested sequences (which is a list-or-tuple of lists-or-tuples-or ndarrays with different lengths or shapes) is deprecated. If you meant to do this, you must specify 'dtype=object' when creating the ndarray.\n",
      "  self.latlist = np.array(latlist)\n",
      "/hysplit-users/alicec/utilhysplit/utilvolc/ash_inverse.py:830: VisibleDeprecationWarning: Creating an ndarray from ragged nested sequences (which is a list-or-tuple of lists-or-tuples-or ndarrays with different lengths or shapes) is deprecated. If you meant to do this, you must specify 'dtype=object' when creating the ndarray.\n",
      "  self.lonlist = np.array(lonlist)\n",
      "/hysplit-users/alicec/utilhysplit/utilvolc/ash_inverse.py:844: VisibleDeprecationWarning: Creating an ndarray from ragged nested sequences (which is a list-or-tuple of lists-or-tuples-or ndarrays with different lengths or shapes) is deprecated. If you meant to do this, you must specify 'dtype=object' when creating the ndarray.\n",
      "  self.latlist = np.array(latlist)\n",
      "/hysplit-users/alicec/utilhysplit/utilvolc/ash_inverse.py:845: VisibleDeprecationWarning: Creating an ndarray from ragged nested sequences (which is a list-or-tuple of lists-or-tuples-or ndarrays with different lengths or shapes) is deprecated. If you meant to do this, you must specify 'dtype=object' when creating the ndarray.\n",
      "  self.lonlist = np.array(lonlist)\n"
     ]
    },
    {
     "name": "stdout",
     "output_type": "stream",
     "text": [
      "bezyB\n"
     ]
    },
    {
     "name": "stderr",
     "output_type": "stream",
     "text": [
      "/hysplit-users/alicec/utilhysplit/utilvolc/ash_inverse.py:596: MatplotlibDeprecationWarning: Adding an axes using the same arguments as a previous axes currently reuses the earlier instance.  In a future version, a new instance will always be created and returned.  Meanwhile, this warning can be suppressed, and the future behavior ensured, by passing a unique label to each axes instance.\n",
      "  ax = fig.add_subplot(1,1,1)\n",
      "No meteorological files found /hysplit-users/alicec/projects/bezy/data/%Y%m%d/hysplit.t%Hz.gfs0p25f\n"
     ]
    },
    {
     "name": "stdout",
     "output_type": "stream",
     "text": [
      "saving to  /hysplit-users/alicec/projects/bezy/RunB/RunB_2_3_4_5_6_TFw5/RunB_2_3_4_5_6_TFw5.csv\n",
      "writing efile {} /hysplit-users/alicec/projects/bezy/RunB/RunB_2_3_4_5_6_TFw5/bezyB_emit.txt\n",
      "gfs0p25\n",
      "fcst str /pub/forecast/%Y%m%d/\n",
      "making control file  gfs0p25\n",
      "/hysplit-users/alicec/projects/bezy/data/\n",
      "fcst str /hysplit-users/alicec/projects/bezy/data/%Y%m%d/\n",
      "WARNING /hysplit-users/alicec/projects/bezy/data/20201021/hysplit.t18z.gfs0p25f meteorological file does not exist\n",
      "WARNING /hysplit-users/alicec/projects/bezy/data/20201022/hysplit.t00z.gfs0p25f meteorological file does not exist\n",
      "WARNING /hysplit-users/alicec/projects/bezy/data/20201022/hysplit.t06z.gfs0p25f meteorological file does not exist\n",
      "WARNING /hysplit-users/alicec/projects/bezy/data/20201022/hysplit.t12z.gfs0p25f meteorological file does not exist\n",
      "WARNING /hysplit-users/alicec/projects/bezy/data/20201022/hysplit.t18z.gfs0p25f meteorological file does not exist\n",
      "WARNING /hysplit-users/alicec/projects/bezy/data/20201023/hysplit.t00z.gfs0p25f meteorological file does not exist\n",
      "WARNING /hysplit-users/alicec/projects/bezy/data/20201023/hysplit.t06z.gfs0p25f meteorological file does not exist\n",
      "WARNING /hysplit-users/alicec/projects/bezy/data/20201021/hysplit.t12z.gfs0p25f meteorological file does not exist\n",
      "WARNING /hysplit-users/alicec/projects/bezy/data/20201021/hysplit.t18z.gfs0p25f meteorological file does not exist\n",
      "WARNING /hysplit-users/alicec/projects/bezy/data/20201022/hysplit.t00z.gfs0p25f meteorological file does not exist\n",
      "WARNING /hysplit-users/alicec/projects/bezy/data/20201022/hysplit.t06z.gfs0p25f meteorological file does not exist\n",
      "WARNING /hysplit-users/alicec/projects/bezy/data/20201022/hysplit.t12z.gfs0p25f meteorological file does not exist\n",
      "WARNING /hysplit-users/alicec/projects/bezy/data/20201022/hysplit.t18z.gfs0p25f meteorological file does not exist\n",
      "WARNING /hysplit-users/alicec/projects/bezy/data/20201023/hysplit.t00z.gfs0p25f meteorological file does not exist\n",
      "WARNING /hysplit-users/alicec/projects/bezy/data/20201021/hysplit.t06z.gfs0p25f meteorological file does not exist\n",
      "WARNING /hysplit-users/alicec/projects/bezy/data/20201021/hysplit.t12z.gfs0p25f meteorological file does not exist\n",
      "WARNING /hysplit-users/alicec/projects/bezy/data/20201021/hysplit.t18z.gfs0p25f meteorological file does not exist\n",
      "WARNING /hysplit-users/alicec/projects/bezy/data/20201022/hysplit.t00z.gfs0p25f meteorological file does not exist\n",
      "WARNING /hysplit-users/alicec/projects/bezy/data/20201022/hysplit.t06z.gfs0p25f meteorological file does not exist\n",
      "WARNING /hysplit-users/alicec/projects/bezy/data/20201022/hysplit.t12z.gfs0p25f meteorological file does not exist\n",
      "WARNING /hysplit-users/alicec/projects/bezy/data/20201022/hysplit.t18z.gfs0p25f meteorological file does not exist\n",
      "WARNING /hysplit-users/alicec/projects/bezy/data/20201021/hysplit.t00z.gfs0p25f meteorological file does not exist\n",
      "WARNING /hysplit-users/alicec/projects/bezy/data/20201021/hysplit.t06z.gfs0p25f meteorological file does not exist\n",
      "WARNING /hysplit-users/alicec/projects/bezy/data/20201021/hysplit.t12z.gfs0p25f meteorological file does not exist\n",
      "WARNING /hysplit-users/alicec/projects/bezy/data/20201021/hysplit.t18z.gfs0p25f meteorological file does not exist\n",
      "WARNING /hysplit-users/alicec/projects/bezy/data/20201022/hysplit.t00z.gfs0p25f meteorological file does not exist\n",
      "WARNING /hysplit-users/alicec/projects/bezy/data/20201022/hysplit.t06z.gfs0p25f meteorological file does not exist\n",
      "WARNING /hysplit-users/alicec/projects/bezy/data/20201022/hysplit.t12z.gfs0p25f meteorological file does not exist\n",
      "WARNING /hysplit-users/alicec/projects/bezy/data/20201020/hysplit.t18z.gfs0p25f meteorological file does not exist\n",
      "WARNING /hysplit-users/alicec/projects/bezy/data/20201021/hysplit.t00z.gfs0p25f meteorological file does not exist\n",
      "WARNING /hysplit-users/alicec/projects/bezy/data/20201021/hysplit.t06z.gfs0p25f meteorological file does not exist\n",
      "WARNING /hysplit-users/alicec/projects/bezy/data/20201021/hysplit.t12z.gfs0p25f meteorological file does not exist\n",
      "WARNING /hysplit-users/alicec/projects/bezy/data/20201021/hysplit.t18z.gfs0p25f meteorological file does not exist\n",
      "WARNING /hysplit-users/alicec/projects/bezy/data/20201022/hysplit.t00z.gfs0p25f meteorological file does not exist\n",
      "WARNING /hysplit-users/alicec/projects/bezy/data/20201022/hysplit.t06z.gfs0p25f meteorological file does not exist\n",
      "WARNING /hysplit-users/alicec/projects/bezy/data/20201020/hysplit.t12z.gfs0p25f meteorological file does not exist\n",
      "WARNING /hysplit-users/alicec/projects/bezy/data/20201020/hysplit.t18z.gfs0p25f meteorological file does not exist\n",
      "WARNING /hysplit-users/alicec/projects/bezy/data/20201021/hysplit.t00z.gfs0p25f meteorological file does not exist\n",
      "WARNING /hysplit-users/alicec/projects/bezy/data/20201021/hysplit.t06z.gfs0p25f meteorological file does not exist\n",
      "WARNING /hysplit-users/alicec/projects/bezy/data/20201021/hysplit.t12z.gfs0p25f meteorological file does not exist\n",
      "WARNING /hysplit-users/alicec/projects/bezy/data/20201021/hysplit.t18z.gfs0p25f meteorological file does not exist\n",
      "WARNING /hysplit-users/alicec/projects/bezy/data/20201022/hysplit.t00z.gfs0p25f meteorological file does not exist\n",
      "Looking in archive for met files\n",
      "running  /hysplit-users/alicec/projects/bezy/hysplit/exec/hycs_std bezyB\n",
      "in loop 0s procs 1\n",
      "in loop 30s procs 1\n",
      "in loop 60s procs 1\n",
      "in loop 90s procs 1\n",
      "in loop 120s procs 1\n",
      "in loop 150s procs 1\n",
      "in loop 180s procs 1\n",
      "in loop 210s procs 1\n",
      "in loop 240s procs 1\n",
      "in loop 270s procs 1\n",
      "in loop 300s procs 1\n",
      "in loop 330s procs 1\n",
      "in loop 360s procs 1\n",
      "in loop 390s procs 1\n",
      "in loop 420s procs 1\n",
      "in loop 450s procs 1\n",
      "in loop 480s procs 1\n",
      "in loop 510s procs 1\n",
      "in loop 540s procs 1\n",
      "in loop 570s procs 1\n",
      "in loop 600s procs 1\n",
      "in loop 630s procs 0\n",
      "tii [2, 3, 4, 5, 6, 7]\n",
      "HERE HERE HERE\n",
      "2020-10-21T21:00:00.000000000\n",
      "2020-10-21T22:00:00.000000000\n",
      "2020-10-21T23:00:00.000000000\n",
      "2020-10-22T00:00:00.000000000\n",
      "2020-10-22T01:00:00.000000000\n",
      "2020-10-22T02:00:00.000000000\n",
      "HERE /hysplit-users/alicec/projects/bezy/RunB/RunB_2_3_4_5_6_7_TFw5\n",
      "(16488, 67)\n",
      "N_ctrl 66\n",
      "output file /hysplit-users/alicec/projects/bezy/RunB/RunB_2_3_4_5_6_7_TFw5/runB4.tcm_bezyB.txt\n"
     ]
    },
    {
     "name": "stderr",
     "output_type": "stream",
     "text": [
      "/hysplit-users/alicec/utilhysplit/utilvolc/ash_inverse.py:829: VisibleDeprecationWarning: Creating an ndarray from ragged nested sequences (which is a list-or-tuple of lists-or-tuples-or ndarrays with different lengths or shapes) is deprecated. If you meant to do this, you must specify 'dtype=object' when creating the ndarray.\n",
      "  self.latlist = np.array(latlist)\n",
      "/hysplit-users/alicec/utilhysplit/utilvolc/ash_inverse.py:830: VisibleDeprecationWarning: Creating an ndarray from ragged nested sequences (which is a list-or-tuple of lists-or-tuples-or ndarrays with different lengths or shapes) is deprecated. If you meant to do this, you must specify 'dtype=object' when creating the ndarray.\n",
      "  self.lonlist = np.array(lonlist)\n",
      "/hysplit-users/alicec/utilhysplit/utilvolc/ash_inverse.py:844: VisibleDeprecationWarning: Creating an ndarray from ragged nested sequences (which is a list-or-tuple of lists-or-tuples-or ndarrays with different lengths or shapes) is deprecated. If you meant to do this, you must specify 'dtype=object' when creating the ndarray.\n",
      "  self.latlist = np.array(latlist)\n",
      "/hysplit-users/alicec/utilhysplit/utilvolc/ash_inverse.py:845: VisibleDeprecationWarning: Creating an ndarray from ragged nested sequences (which is a list-or-tuple of lists-or-tuples-or ndarrays with different lengths or shapes) is deprecated. If you meant to do this, you must specify 'dtype=object' when creating the ndarray.\n",
      "  self.lonlist = np.array(lonlist)\n"
     ]
    },
    {
     "name": "stdout",
     "output_type": "stream",
     "text": [
      "bezyB\n"
     ]
    },
    {
     "name": "stderr",
     "output_type": "stream",
     "text": [
      "/hysplit-users/alicec/utilhysplit/utilvolc/ash_inverse.py:596: MatplotlibDeprecationWarning: Adding an axes using the same arguments as a previous axes currently reuses the earlier instance.  In a future version, a new instance will always be created and returned.  Meanwhile, this warning can be suppressed, and the future behavior ensured, by passing a unique label to each axes instance.\n",
      "  ax = fig.add_subplot(1,1,1)\n",
      "No meteorological files found /hysplit-users/alicec/projects/bezy/data/%Y%m%d/hysplit.t%Hz.gfs0p25f\n"
     ]
    },
    {
     "name": "stdout",
     "output_type": "stream",
     "text": [
      "saving to  /hysplit-users/alicec/projects/bezy/RunB/RunB_2_3_4_5_6_7_TFw5/RunB_2_3_4_5_6_7_TFw5.csv\n",
      "writing efile {} /hysplit-users/alicec/projects/bezy/RunB/RunB_2_3_4_5_6_7_TFw5/bezyB_emit.txt\n",
      "gfs0p25\n",
      "fcst str /pub/forecast/%Y%m%d/\n",
      "making control file  gfs0p25\n",
      "/hysplit-users/alicec/projects/bezy/data/\n",
      "fcst str /hysplit-users/alicec/projects/bezy/data/%Y%m%d/\n",
      "WARNING /hysplit-users/alicec/projects/bezy/data/20201021/hysplit.t18z.gfs0p25f meteorological file does not exist\n",
      "WARNING /hysplit-users/alicec/projects/bezy/data/20201022/hysplit.t00z.gfs0p25f meteorological file does not exist\n",
      "WARNING /hysplit-users/alicec/projects/bezy/data/20201022/hysplit.t06z.gfs0p25f meteorological file does not exist\n",
      "WARNING /hysplit-users/alicec/projects/bezy/data/20201022/hysplit.t12z.gfs0p25f meteorological file does not exist\n",
      "WARNING /hysplit-users/alicec/projects/bezy/data/20201022/hysplit.t18z.gfs0p25f meteorological file does not exist\n",
      "WARNING /hysplit-users/alicec/projects/bezy/data/20201023/hysplit.t00z.gfs0p25f meteorological file does not exist\n",
      "WARNING /hysplit-users/alicec/projects/bezy/data/20201023/hysplit.t06z.gfs0p25f meteorological file does not exist\n",
      "WARNING /hysplit-users/alicec/projects/bezy/data/20201021/hysplit.t12z.gfs0p25f meteorological file does not exist\n",
      "WARNING /hysplit-users/alicec/projects/bezy/data/20201021/hysplit.t18z.gfs0p25f meteorological file does not exist\n",
      "WARNING /hysplit-users/alicec/projects/bezy/data/20201022/hysplit.t00z.gfs0p25f meteorological file does not exist\n",
      "WARNING /hysplit-users/alicec/projects/bezy/data/20201022/hysplit.t06z.gfs0p25f meteorological file does not exist\n",
      "WARNING /hysplit-users/alicec/projects/bezy/data/20201022/hysplit.t12z.gfs0p25f meteorological file does not exist\n",
      "WARNING /hysplit-users/alicec/projects/bezy/data/20201022/hysplit.t18z.gfs0p25f meteorological file does not exist\n",
      "WARNING /hysplit-users/alicec/projects/bezy/data/20201023/hysplit.t00z.gfs0p25f meteorological file does not exist\n",
      "WARNING /hysplit-users/alicec/projects/bezy/data/20201021/hysplit.t06z.gfs0p25f meteorological file does not exist\n",
      "WARNING /hysplit-users/alicec/projects/bezy/data/20201021/hysplit.t12z.gfs0p25f meteorological file does not exist\n",
      "WARNING /hysplit-users/alicec/projects/bezy/data/20201021/hysplit.t18z.gfs0p25f meteorological file does not exist\n",
      "WARNING /hysplit-users/alicec/projects/bezy/data/20201022/hysplit.t00z.gfs0p25f meteorological file does not exist\n",
      "WARNING /hysplit-users/alicec/projects/bezy/data/20201022/hysplit.t06z.gfs0p25f meteorological file does not exist\n",
      "WARNING /hysplit-users/alicec/projects/bezy/data/20201022/hysplit.t12z.gfs0p25f meteorological file does not exist\n",
      "WARNING /hysplit-users/alicec/projects/bezy/data/20201022/hysplit.t18z.gfs0p25f meteorological file does not exist\n",
      "WARNING /hysplit-users/alicec/projects/bezy/data/20201021/hysplit.t00z.gfs0p25f meteorological file does not exist\n",
      "WARNING /hysplit-users/alicec/projects/bezy/data/20201021/hysplit.t06z.gfs0p25f meteorological file does not exist\n",
      "WARNING /hysplit-users/alicec/projects/bezy/data/20201021/hysplit.t12z.gfs0p25f meteorological file does not exist\n",
      "WARNING /hysplit-users/alicec/projects/bezy/data/20201021/hysplit.t18z.gfs0p25f meteorological file does not exist\n",
      "WARNING /hysplit-users/alicec/projects/bezy/data/20201022/hysplit.t00z.gfs0p25f meteorological file does not exist\n",
      "WARNING /hysplit-users/alicec/projects/bezy/data/20201022/hysplit.t06z.gfs0p25f meteorological file does not exist\n",
      "WARNING /hysplit-users/alicec/projects/bezy/data/20201022/hysplit.t12z.gfs0p25f meteorological file does not exist\n",
      "WARNING /hysplit-users/alicec/projects/bezy/data/20201020/hysplit.t18z.gfs0p25f meteorological file does not exist\n",
      "WARNING /hysplit-users/alicec/projects/bezy/data/20201021/hysplit.t00z.gfs0p25f meteorological file does not exist\n",
      "WARNING /hysplit-users/alicec/projects/bezy/data/20201021/hysplit.t06z.gfs0p25f meteorological file does not exist\n",
      "WARNING /hysplit-users/alicec/projects/bezy/data/20201021/hysplit.t12z.gfs0p25f meteorological file does not exist\n",
      "WARNING /hysplit-users/alicec/projects/bezy/data/20201021/hysplit.t18z.gfs0p25f meteorological file does not exist\n",
      "WARNING /hysplit-users/alicec/projects/bezy/data/20201022/hysplit.t00z.gfs0p25f meteorological file does not exist\n",
      "WARNING /hysplit-users/alicec/projects/bezy/data/20201022/hysplit.t06z.gfs0p25f meteorological file does not exist\n",
      "WARNING /hysplit-users/alicec/projects/bezy/data/20201020/hysplit.t12z.gfs0p25f meteorological file does not exist\n",
      "WARNING /hysplit-users/alicec/projects/bezy/data/20201020/hysplit.t18z.gfs0p25f meteorological file does not exist\n",
      "WARNING /hysplit-users/alicec/projects/bezy/data/20201021/hysplit.t00z.gfs0p25f meteorological file does not exist\n",
      "WARNING /hysplit-users/alicec/projects/bezy/data/20201021/hysplit.t06z.gfs0p25f meteorological file does not exist\n",
      "WARNING /hysplit-users/alicec/projects/bezy/data/20201021/hysplit.t12z.gfs0p25f meteorological file does not exist\n",
      "WARNING /hysplit-users/alicec/projects/bezy/data/20201021/hysplit.t18z.gfs0p25f meteorological file does not exist\n",
      "WARNING /hysplit-users/alicec/projects/bezy/data/20201022/hysplit.t00z.gfs0p25f meteorological file does not exist\n",
      "Looking in archive for met files\n",
      "running  /hysplit-users/alicec/projects/bezy/hysplit/exec/hycs_std bezyB\n",
      "in loop 0s procs 1\n",
      "in loop 30s procs 1\n",
      "in loop 60s procs 1\n",
      "in loop 90s procs 1\n",
      "in loop 120s procs 1\n",
      "in loop 150s procs 1\n",
      "in loop 180s procs 1\n",
      "in loop 210s procs 1\n",
      "in loop 240s procs 1\n",
      "in loop 270s procs 1\n",
      "in loop 300s procs 1\n",
      "in loop 330s procs 1\n",
      "in loop 360s procs 1\n",
      "in loop 390s procs 1\n",
      "in loop 420s procs 1\n",
      "in loop 450s procs 1\n",
      "in loop 480s procs 1\n",
      "in loop 510s procs 1\n",
      "in loop 540s procs 1\n",
      "in loop 570s procs 1\n",
      "in loop 600s procs 1\n",
      "in loop 630s procs 0\n",
      "tii [2, 3, 4, 5, 6, 7, 8]\n",
      "HERE HERE HERE\n",
      "2020-10-21T21:00:00.000000000\n",
      "2020-10-21T22:00:00.000000000\n",
      "2020-10-21T23:00:00.000000000\n",
      "2020-10-22T00:00:00.000000000\n",
      "2020-10-22T01:00:00.000000000\n",
      "2020-10-22T02:00:00.000000000\n",
      "2020-10-22T03:00:00.000000000\n",
      "HERE /hysplit-users/alicec/projects/bezy/RunB/RunB_2_3_4_5_6_7_8_TFw5\n",
      "(22210, 67)\n",
      "N_ctrl 66\n",
      "output file /hysplit-users/alicec/projects/bezy/RunB/RunB_2_3_4_5_6_7_8_TFw5/runB4.tcm_bezyB.txt\n"
     ]
    },
    {
     "name": "stderr",
     "output_type": "stream",
     "text": [
      "/hysplit-users/alicec/utilhysplit/utilvolc/ash_inverse.py:829: VisibleDeprecationWarning: Creating an ndarray from ragged nested sequences (which is a list-or-tuple of lists-or-tuples-or ndarrays with different lengths or shapes) is deprecated. If you meant to do this, you must specify 'dtype=object' when creating the ndarray.\n",
      "  self.latlist = np.array(latlist)\n",
      "/hysplit-users/alicec/utilhysplit/utilvolc/ash_inverse.py:830: VisibleDeprecationWarning: Creating an ndarray from ragged nested sequences (which is a list-or-tuple of lists-or-tuples-or ndarrays with different lengths or shapes) is deprecated. If you meant to do this, you must specify 'dtype=object' when creating the ndarray.\n",
      "  self.lonlist = np.array(lonlist)\n",
      "/hysplit-users/alicec/utilhysplit/utilvolc/ash_inverse.py:844: VisibleDeprecationWarning: Creating an ndarray from ragged nested sequences (which is a list-or-tuple of lists-or-tuples-or ndarrays with different lengths or shapes) is deprecated. If you meant to do this, you must specify 'dtype=object' when creating the ndarray.\n",
      "  self.latlist = np.array(latlist)\n",
      "/hysplit-users/alicec/utilhysplit/utilvolc/ash_inverse.py:845: VisibleDeprecationWarning: Creating an ndarray from ragged nested sequences (which is a list-or-tuple of lists-or-tuples-or ndarrays with different lengths or shapes) is deprecated. If you meant to do this, you must specify 'dtype=object' when creating the ndarray.\n",
      "  self.lonlist = np.array(lonlist)\n"
     ]
    },
    {
     "name": "stdout",
     "output_type": "stream",
     "text": [
      "bezyB\n"
     ]
    },
    {
     "name": "stderr",
     "output_type": "stream",
     "text": [
      "/hysplit-users/alicec/utilhysplit/utilvolc/ash_inverse.py:596: MatplotlibDeprecationWarning: Adding an axes using the same arguments as a previous axes currently reuses the earlier instance.  In a future version, a new instance will always be created and returned.  Meanwhile, this warning can be suppressed, and the future behavior ensured, by passing a unique label to each axes instance.\n",
      "  ax = fig.add_subplot(1,1,1)\n",
      "No meteorological files found /hysplit-users/alicec/projects/bezy/data/%Y%m%d/hysplit.t%Hz.gfs0p25f\n"
     ]
    },
    {
     "name": "stdout",
     "output_type": "stream",
     "text": [
      "saving to  /hysplit-users/alicec/projects/bezy/RunB/RunB_2_3_4_5_6_7_8_TFw5/RunB_2_3_4_5_6_7_8_TFw5.csv\n",
      "writing efile {} /hysplit-users/alicec/projects/bezy/RunB/RunB_2_3_4_5_6_7_8_TFw5/bezyB_emit.txt\n",
      "gfs0p25\n",
      "fcst str /pub/forecast/%Y%m%d/\n",
      "making control file  gfs0p25\n",
      "/hysplit-users/alicec/projects/bezy/data/\n",
      "fcst str /hysplit-users/alicec/projects/bezy/data/%Y%m%d/\n",
      "WARNING /hysplit-users/alicec/projects/bezy/data/20201021/hysplit.t18z.gfs0p25f meteorological file does not exist\n",
      "WARNING /hysplit-users/alicec/projects/bezy/data/20201022/hysplit.t00z.gfs0p25f meteorological file does not exist\n",
      "WARNING /hysplit-users/alicec/projects/bezy/data/20201022/hysplit.t06z.gfs0p25f meteorological file does not exist\n",
      "WARNING /hysplit-users/alicec/projects/bezy/data/20201022/hysplit.t12z.gfs0p25f meteorological file does not exist\n",
      "WARNING /hysplit-users/alicec/projects/bezy/data/20201022/hysplit.t18z.gfs0p25f meteorological file does not exist\n",
      "WARNING /hysplit-users/alicec/projects/bezy/data/20201023/hysplit.t00z.gfs0p25f meteorological file does not exist\n",
      "WARNING /hysplit-users/alicec/projects/bezy/data/20201023/hysplit.t06z.gfs0p25f meteorological file does not exist\n",
      "WARNING /hysplit-users/alicec/projects/bezy/data/20201021/hysplit.t12z.gfs0p25f meteorological file does not exist\n",
      "WARNING /hysplit-users/alicec/projects/bezy/data/20201021/hysplit.t18z.gfs0p25f meteorological file does not exist\n",
      "WARNING /hysplit-users/alicec/projects/bezy/data/20201022/hysplit.t00z.gfs0p25f meteorological file does not exist\n",
      "WARNING /hysplit-users/alicec/projects/bezy/data/20201022/hysplit.t06z.gfs0p25f meteorological file does not exist\n",
      "WARNING /hysplit-users/alicec/projects/bezy/data/20201022/hysplit.t12z.gfs0p25f meteorological file does not exist\n",
      "WARNING /hysplit-users/alicec/projects/bezy/data/20201022/hysplit.t18z.gfs0p25f meteorological file does not exist\n",
      "WARNING /hysplit-users/alicec/projects/bezy/data/20201023/hysplit.t00z.gfs0p25f meteorological file does not exist\n",
      "WARNING /hysplit-users/alicec/projects/bezy/data/20201021/hysplit.t06z.gfs0p25f meteorological file does not exist\n",
      "WARNING /hysplit-users/alicec/projects/bezy/data/20201021/hysplit.t12z.gfs0p25f meteorological file does not exist\n",
      "WARNING /hysplit-users/alicec/projects/bezy/data/20201021/hysplit.t18z.gfs0p25f meteorological file does not exist\n",
      "WARNING /hysplit-users/alicec/projects/bezy/data/20201022/hysplit.t00z.gfs0p25f meteorological file does not exist\n",
      "WARNING /hysplit-users/alicec/projects/bezy/data/20201022/hysplit.t06z.gfs0p25f meteorological file does not exist\n",
      "WARNING /hysplit-users/alicec/projects/bezy/data/20201022/hysplit.t12z.gfs0p25f meteorological file does not exist\n",
      "WARNING /hysplit-users/alicec/projects/bezy/data/20201022/hysplit.t18z.gfs0p25f meteorological file does not exist\n",
      "WARNING /hysplit-users/alicec/projects/bezy/data/20201021/hysplit.t00z.gfs0p25f meteorological file does not exist\n",
      "WARNING /hysplit-users/alicec/projects/bezy/data/20201021/hysplit.t06z.gfs0p25f meteorological file does not exist\n",
      "WARNING /hysplit-users/alicec/projects/bezy/data/20201021/hysplit.t12z.gfs0p25f meteorological file does not exist\n",
      "WARNING /hysplit-users/alicec/projects/bezy/data/20201021/hysplit.t18z.gfs0p25f meteorological file does not exist\n",
      "WARNING /hysplit-users/alicec/projects/bezy/data/20201022/hysplit.t00z.gfs0p25f meteorological file does not exist\n",
      "WARNING /hysplit-users/alicec/projects/bezy/data/20201022/hysplit.t06z.gfs0p25f meteorological file does not exist\n",
      "WARNING /hysplit-users/alicec/projects/bezy/data/20201022/hysplit.t12z.gfs0p25f meteorological file does not exist\n",
      "WARNING /hysplit-users/alicec/projects/bezy/data/20201020/hysplit.t18z.gfs0p25f meteorological file does not exist\n",
      "WARNING /hysplit-users/alicec/projects/bezy/data/20201021/hysplit.t00z.gfs0p25f meteorological file does not exist\n",
      "WARNING /hysplit-users/alicec/projects/bezy/data/20201021/hysplit.t06z.gfs0p25f meteorological file does not exist\n",
      "WARNING /hysplit-users/alicec/projects/bezy/data/20201021/hysplit.t12z.gfs0p25f meteorological file does not exist\n",
      "WARNING /hysplit-users/alicec/projects/bezy/data/20201021/hysplit.t18z.gfs0p25f meteorological file does not exist\n",
      "WARNING /hysplit-users/alicec/projects/bezy/data/20201022/hysplit.t00z.gfs0p25f meteorological file does not exist\n",
      "WARNING /hysplit-users/alicec/projects/bezy/data/20201022/hysplit.t06z.gfs0p25f meteorological file does not exist\n",
      "WARNING /hysplit-users/alicec/projects/bezy/data/20201020/hysplit.t12z.gfs0p25f meteorological file does not exist\n",
      "WARNING /hysplit-users/alicec/projects/bezy/data/20201020/hysplit.t18z.gfs0p25f meteorological file does not exist\n",
      "WARNING /hysplit-users/alicec/projects/bezy/data/20201021/hysplit.t00z.gfs0p25f meteorological file does not exist\n",
      "WARNING /hysplit-users/alicec/projects/bezy/data/20201021/hysplit.t06z.gfs0p25f meteorological file does not exist\n",
      "WARNING /hysplit-users/alicec/projects/bezy/data/20201021/hysplit.t12z.gfs0p25f meteorological file does not exist\n",
      "WARNING /hysplit-users/alicec/projects/bezy/data/20201021/hysplit.t18z.gfs0p25f meteorological file does not exist\n",
      "WARNING /hysplit-users/alicec/projects/bezy/data/20201022/hysplit.t00z.gfs0p25f meteorological file does not exist\n",
      "Looking in archive for met files\n",
      "running  /hysplit-users/alicec/projects/bezy/hysplit/exec/hycs_std bezyB\n",
      "in loop 0s procs 1\n",
      "in loop 30s procs 1\n",
      "in loop 60s procs 1\n",
      "in loop 90s procs 1\n",
      "in loop 120s procs 1\n",
      "in loop 150s procs 1\n",
      "in loop 180s procs 1\n",
      "in loop 210s procs 1\n",
      "in loop 240s procs 1\n",
      "in loop 270s procs 1\n",
      "in loop 300s procs 1\n",
      "in loop 330s procs 1\n",
      "in loop 360s procs 1\n",
      "in loop 390s procs 1\n",
      "in loop 420s procs 1\n",
      "in loop 450s procs 1\n",
      "in loop 480s procs 1\n",
      "in loop 510s procs 1\n",
      "in loop 540s procs 1\n",
      "in loop 570s procs 1\n",
      "in loop 600s procs 1\n",
      "in loop 630s procs 1\n",
      "in loop 660s procs 0\n",
      "tii [2, 3, 4, 5, 6, 7, 8, 9]\n",
      "HERE HERE HERE\n",
      "2020-10-21T21:00:00.000000000\n",
      "2020-10-21T22:00:00.000000000\n",
      "2020-10-21T23:00:00.000000000\n",
      "2020-10-22T00:00:00.000000000\n",
      "2020-10-22T01:00:00.000000000\n",
      "2020-10-22T02:00:00.000000000\n",
      "2020-10-22T03:00:00.000000000\n",
      "2020-10-22T04:00:00.000000000\n",
      "HERE /hysplit-users/alicec/projects/bezy/RunB/RunB_2_3_4_5_6_7_8_9_TFw5\n",
      "(28816, 67)\n",
      "N_ctrl 66\n",
      "output file /hysplit-users/alicec/projects/bezy/RunB/RunB_2_3_4_5_6_7_8_9_TFw5/runB4.tcm_bezyB.txt\n"
     ]
    },
    {
     "name": "stderr",
     "output_type": "stream",
     "text": [
      "/hysplit-users/alicec/utilhysplit/utilvolc/ash_inverse.py:829: VisibleDeprecationWarning: Creating an ndarray from ragged nested sequences (which is a list-or-tuple of lists-or-tuples-or ndarrays with different lengths or shapes) is deprecated. If you meant to do this, you must specify 'dtype=object' when creating the ndarray.\n",
      "  self.latlist = np.array(latlist)\n",
      "/hysplit-users/alicec/utilhysplit/utilvolc/ash_inverse.py:830: VisibleDeprecationWarning: Creating an ndarray from ragged nested sequences (which is a list-or-tuple of lists-or-tuples-or ndarrays with different lengths or shapes) is deprecated. If you meant to do this, you must specify 'dtype=object' when creating the ndarray.\n",
      "  self.lonlist = np.array(lonlist)\n",
      "/hysplit-users/alicec/utilhysplit/utilvolc/ash_inverse.py:844: VisibleDeprecationWarning: Creating an ndarray from ragged nested sequences (which is a list-or-tuple of lists-or-tuples-or ndarrays with different lengths or shapes) is deprecated. If you meant to do this, you must specify 'dtype=object' when creating the ndarray.\n",
      "  self.latlist = np.array(latlist)\n",
      "/hysplit-users/alicec/utilhysplit/utilvolc/ash_inverse.py:845: VisibleDeprecationWarning: Creating an ndarray from ragged nested sequences (which is a list-or-tuple of lists-or-tuples-or ndarrays with different lengths or shapes) is deprecated. If you meant to do this, you must specify 'dtype=object' when creating the ndarray.\n",
      "  self.lonlist = np.array(lonlist)\n"
     ]
    },
    {
     "name": "stdout",
     "output_type": "stream",
     "text": [
      "bezyB\n"
     ]
    },
    {
     "name": "stderr",
     "output_type": "stream",
     "text": [
      "/hysplit-users/alicec/utilhysplit/utilvolc/ash_inverse.py:596: MatplotlibDeprecationWarning: Adding an axes using the same arguments as a previous axes currently reuses the earlier instance.  In a future version, a new instance will always be created and returned.  Meanwhile, this warning can be suppressed, and the future behavior ensured, by passing a unique label to each axes instance.\n",
      "  ax = fig.add_subplot(1,1,1)\n"
     ]
    },
    {
     "name": "stdout",
     "output_type": "stream",
     "text": [
      "saving to  /hysplit-users/alicec/projects/bezy/RunB/RunB_2_3_4_5_6_7_8_9_TFw5/RunB_2_3_4_5_6_7_8_9_TFw5.csv\n",
      "writing efile {} /hysplit-users/alicec/projects/bezy/RunB/RunB_2_3_4_5_6_7_8_9_TFw5/bezyB_emit.txt\n"
     ]
    },
    {
     "name": "stderr",
     "output_type": "stream",
     "text": [
      "No meteorological files found /hysplit-users/alicec/projects/bezy/data/%Y%m%d/hysplit.t%Hz.gfs0p25f\n"
     ]
    },
    {
     "name": "stdout",
     "output_type": "stream",
     "text": [
      "gfs0p25\n",
      "fcst str /pub/forecast/%Y%m%d/\n",
      "making control file  gfs0p25\n",
      "/hysplit-users/alicec/projects/bezy/data/\n",
      "fcst str /hysplit-users/alicec/projects/bezy/data/%Y%m%d/\n",
      "WARNING /hysplit-users/alicec/projects/bezy/data/20201021/hysplit.t18z.gfs0p25f meteorological file does not exist\n",
      "WARNING /hysplit-users/alicec/projects/bezy/data/20201022/hysplit.t00z.gfs0p25f meteorological file does not exist\n",
      "WARNING /hysplit-users/alicec/projects/bezy/data/20201022/hysplit.t06z.gfs0p25f meteorological file does not exist\n",
      "WARNING /hysplit-users/alicec/projects/bezy/data/20201022/hysplit.t12z.gfs0p25f meteorological file does not exist\n",
      "WARNING /hysplit-users/alicec/projects/bezy/data/20201022/hysplit.t18z.gfs0p25f meteorological file does not exist\n",
      "WARNING /hysplit-users/alicec/projects/bezy/data/20201023/hysplit.t00z.gfs0p25f meteorological file does not exist\n",
      "WARNING /hysplit-users/alicec/projects/bezy/data/20201023/hysplit.t06z.gfs0p25f meteorological file does not exist\n",
      "WARNING /hysplit-users/alicec/projects/bezy/data/20201021/hysplit.t12z.gfs0p25f meteorological file does not exist\n",
      "WARNING /hysplit-users/alicec/projects/bezy/data/20201021/hysplit.t18z.gfs0p25f meteorological file does not exist\n",
      "WARNING /hysplit-users/alicec/projects/bezy/data/20201022/hysplit.t00z.gfs0p25f meteorological file does not exist\n",
      "WARNING /hysplit-users/alicec/projects/bezy/data/20201022/hysplit.t06z.gfs0p25f meteorological file does not exist\n",
      "WARNING /hysplit-users/alicec/projects/bezy/data/20201022/hysplit.t12z.gfs0p25f meteorological file does not exist\n",
      "WARNING /hysplit-users/alicec/projects/bezy/data/20201022/hysplit.t18z.gfs0p25f meteorological file does not exist\n",
      "WARNING /hysplit-users/alicec/projects/bezy/data/20201023/hysplit.t00z.gfs0p25f meteorological file does not exist\n",
      "WARNING /hysplit-users/alicec/projects/bezy/data/20201021/hysplit.t06z.gfs0p25f meteorological file does not exist\n",
      "WARNING /hysplit-users/alicec/projects/bezy/data/20201021/hysplit.t12z.gfs0p25f meteorological file does not exist\n",
      "WARNING /hysplit-users/alicec/projects/bezy/data/20201021/hysplit.t18z.gfs0p25f meteorological file does not exist\n",
      "WARNING /hysplit-users/alicec/projects/bezy/data/20201022/hysplit.t00z.gfs0p25f meteorological file does not exist\n",
      "WARNING /hysplit-users/alicec/projects/bezy/data/20201022/hysplit.t06z.gfs0p25f meteorological file does not exist\n",
      "WARNING /hysplit-users/alicec/projects/bezy/data/20201022/hysplit.t12z.gfs0p25f meteorological file does not exist\n",
      "WARNING /hysplit-users/alicec/projects/bezy/data/20201022/hysplit.t18z.gfs0p25f meteorological file does not exist\n",
      "WARNING /hysplit-users/alicec/projects/bezy/data/20201021/hysplit.t00z.gfs0p25f meteorological file does not exist\n",
      "WARNING /hysplit-users/alicec/projects/bezy/data/20201021/hysplit.t06z.gfs0p25f meteorological file does not exist\n",
      "WARNING /hysplit-users/alicec/projects/bezy/data/20201021/hysplit.t12z.gfs0p25f meteorological file does not exist\n",
      "WARNING /hysplit-users/alicec/projects/bezy/data/20201021/hysplit.t18z.gfs0p25f meteorological file does not exist\n",
      "WARNING /hysplit-users/alicec/projects/bezy/data/20201022/hysplit.t00z.gfs0p25f meteorological file does not exist\n",
      "WARNING /hysplit-users/alicec/projects/bezy/data/20201022/hysplit.t06z.gfs0p25f meteorological file does not exist\n",
      "WARNING /hysplit-users/alicec/projects/bezy/data/20201022/hysplit.t12z.gfs0p25f meteorological file does not exist\n",
      "WARNING /hysplit-users/alicec/projects/bezy/data/20201020/hysplit.t18z.gfs0p25f meteorological file does not exist\n",
      "WARNING /hysplit-users/alicec/projects/bezy/data/20201021/hysplit.t00z.gfs0p25f meteorological file does not exist\n",
      "WARNING /hysplit-users/alicec/projects/bezy/data/20201021/hysplit.t06z.gfs0p25f meteorological file does not exist\n",
      "WARNING /hysplit-users/alicec/projects/bezy/data/20201021/hysplit.t12z.gfs0p25f meteorological file does not exist\n",
      "WARNING /hysplit-users/alicec/projects/bezy/data/20201021/hysplit.t18z.gfs0p25f meteorological file does not exist\n",
      "WARNING /hysplit-users/alicec/projects/bezy/data/20201022/hysplit.t00z.gfs0p25f meteorological file does not exist\n",
      "WARNING /hysplit-users/alicec/projects/bezy/data/20201022/hysplit.t06z.gfs0p25f meteorological file does not exist\n",
      "WARNING /hysplit-users/alicec/projects/bezy/data/20201020/hysplit.t12z.gfs0p25f meteorological file does not exist\n",
      "WARNING /hysplit-users/alicec/projects/bezy/data/20201020/hysplit.t18z.gfs0p25f meteorological file does not exist\n",
      "WARNING /hysplit-users/alicec/projects/bezy/data/20201021/hysplit.t00z.gfs0p25f meteorological file does not exist\n",
      "WARNING /hysplit-users/alicec/projects/bezy/data/20201021/hysplit.t06z.gfs0p25f meteorological file does not exist\n",
      "WARNING /hysplit-users/alicec/projects/bezy/data/20201021/hysplit.t12z.gfs0p25f meteorological file does not exist\n",
      "WARNING /hysplit-users/alicec/projects/bezy/data/20201021/hysplit.t18z.gfs0p25f meteorological file does not exist\n",
      "WARNING /hysplit-users/alicec/projects/bezy/data/20201022/hysplit.t00z.gfs0p25f meteorological file does not exist\n",
      "Looking in archive for met files\n",
      "running  /hysplit-users/alicec/projects/bezy/hysplit/exec/hycs_std bezyB\n",
      "in loop 0s procs 1\n",
      "in loop 30s procs 1\n",
      "in loop 60s procs 1\n",
      "in loop 90s procs 1\n",
      "in loop 120s procs 1\n",
      "in loop 150s procs 1\n",
      "in loop 180s procs 1\n",
      "in loop 210s procs 1\n",
      "in loop 240s procs 1\n",
      "in loop 270s procs 1\n",
      "in loop 300s procs 1\n",
      "in loop 330s procs 1\n",
      "in loop 360s procs 1\n",
      "in loop 390s procs 1\n",
      "in loop 420s procs 1\n",
      "in loop 450s procs 1\n",
      "in loop 480s procs 1\n",
      "in loop 510s procs 1\n",
      "in loop 540s procs 1\n",
      "in loop 570s procs 1\n",
      "in loop 600s procs 1\n",
      "in loop 630s procs 1\n",
      "in loop 660s procs 1\n",
      "in loop 690s procs 1\n",
      "in loop 720s procs 0\n",
      "tii [2, 3, 4, 5, 6, 7, 8, 9, 10]\n",
      "HERE HERE HERE\n",
      "2020-10-21T21:00:00.000000000\n",
      "2020-10-21T22:00:00.000000000\n",
      "2020-10-21T23:00:00.000000000\n",
      "2020-10-22T00:00:00.000000000\n",
      "2020-10-22T01:00:00.000000000\n",
      "2020-10-22T02:00:00.000000000\n",
      "2020-10-22T03:00:00.000000000\n",
      "2020-10-22T04:00:00.000000000\n",
      "2020-10-22T05:00:00.000000000\n",
      "HERE /hysplit-users/alicec/projects/bezy/RunB/RunB_2_3_4_5_6_7_8_9_10_TFw5\n",
      "(36630, 67)\n",
      "N_ctrl 66\n",
      "output file /hysplit-users/alicec/projects/bezy/RunB/RunB_2_3_4_5_6_7_8_9_10_TFw5/runB4.tcm_bezyB.txt\n"
     ]
    },
    {
     "name": "stderr",
     "output_type": "stream",
     "text": [
      "/hysplit-users/alicec/utilhysplit/utilvolc/ash_inverse.py:829: VisibleDeprecationWarning: Creating an ndarray from ragged nested sequences (which is a list-or-tuple of lists-or-tuples-or ndarrays with different lengths or shapes) is deprecated. If you meant to do this, you must specify 'dtype=object' when creating the ndarray.\n",
      "  self.latlist = np.array(latlist)\n",
      "/hysplit-users/alicec/utilhysplit/utilvolc/ash_inverse.py:830: VisibleDeprecationWarning: Creating an ndarray from ragged nested sequences (which is a list-or-tuple of lists-or-tuples-or ndarrays with different lengths or shapes) is deprecated. If you meant to do this, you must specify 'dtype=object' when creating the ndarray.\n",
      "  self.lonlist = np.array(lonlist)\n",
      "/hysplit-users/alicec/utilhysplit/utilvolc/ash_inverse.py:844: VisibleDeprecationWarning: Creating an ndarray from ragged nested sequences (which is a list-or-tuple of lists-or-tuples-or ndarrays with different lengths or shapes) is deprecated. If you meant to do this, you must specify 'dtype=object' when creating the ndarray.\n",
      "  self.latlist = np.array(latlist)\n",
      "/hysplit-users/alicec/utilhysplit/utilvolc/ash_inverse.py:845: VisibleDeprecationWarning: Creating an ndarray from ragged nested sequences (which is a list-or-tuple of lists-or-tuples-or ndarrays with different lengths or shapes) is deprecated. If you meant to do this, you must specify 'dtype=object' when creating the ndarray.\n",
      "  self.lonlist = np.array(lonlist)\n"
     ]
    },
    {
     "name": "stdout",
     "output_type": "stream",
     "text": [
      "bezyB\n"
     ]
    },
    {
     "name": "stderr",
     "output_type": "stream",
     "text": [
      "/hysplit-users/alicec/utilhysplit/utilvolc/ash_inverse.py:596: MatplotlibDeprecationWarning: Adding an axes using the same arguments as a previous axes currently reuses the earlier instance.  In a future version, a new instance will always be created and returned.  Meanwhile, this warning can be suppressed, and the future behavior ensured, by passing a unique label to each axes instance.\n",
      "  ax = fig.add_subplot(1,1,1)\n"
     ]
    },
    {
     "name": "stdout",
     "output_type": "stream",
     "text": [
      "saving to  /hysplit-users/alicec/projects/bezy/RunB/RunB_2_3_4_5_6_7_8_9_10_TFw5/RunB_2_3_4_5_6_7_8_9_10_TFw5.csv\n",
      "writing efile {} /hysplit-users/alicec/projects/bezy/RunB/RunB_2_3_4_5_6_7_8_9_10_TFw5/bezyB_emit.txt\n"
     ]
    },
    {
     "name": "stderr",
     "output_type": "stream",
     "text": [
      "No meteorological files found /hysplit-users/alicec/projects/bezy/data/%Y%m%d/hysplit.t%Hz.gfs0p25f\n"
     ]
    },
    {
     "name": "stdout",
     "output_type": "stream",
     "text": [
      "gfs0p25\n",
      "fcst str /pub/forecast/%Y%m%d/\n",
      "making control file  gfs0p25\n",
      "/hysplit-users/alicec/projects/bezy/data/\n",
      "fcst str /hysplit-users/alicec/projects/bezy/data/%Y%m%d/\n",
      "WARNING /hysplit-users/alicec/projects/bezy/data/20201021/hysplit.t18z.gfs0p25f meteorological file does not exist\n",
      "WARNING /hysplit-users/alicec/projects/bezy/data/20201022/hysplit.t00z.gfs0p25f meteorological file does not exist\n",
      "WARNING /hysplit-users/alicec/projects/bezy/data/20201022/hysplit.t06z.gfs0p25f meteorological file does not exist\n",
      "WARNING /hysplit-users/alicec/projects/bezy/data/20201022/hysplit.t12z.gfs0p25f meteorological file does not exist\n",
      "WARNING /hysplit-users/alicec/projects/bezy/data/20201022/hysplit.t18z.gfs0p25f meteorological file does not exist\n",
      "WARNING /hysplit-users/alicec/projects/bezy/data/20201023/hysplit.t00z.gfs0p25f meteorological file does not exist\n",
      "WARNING /hysplit-users/alicec/projects/bezy/data/20201023/hysplit.t06z.gfs0p25f meteorological file does not exist\n",
      "WARNING /hysplit-users/alicec/projects/bezy/data/20201021/hysplit.t12z.gfs0p25f meteorological file does not exist\n",
      "WARNING /hysplit-users/alicec/projects/bezy/data/20201021/hysplit.t18z.gfs0p25f meteorological file does not exist\n",
      "WARNING /hysplit-users/alicec/projects/bezy/data/20201022/hysplit.t00z.gfs0p25f meteorological file does not exist\n",
      "WARNING /hysplit-users/alicec/projects/bezy/data/20201022/hysplit.t06z.gfs0p25f meteorological file does not exist\n",
      "WARNING /hysplit-users/alicec/projects/bezy/data/20201022/hysplit.t12z.gfs0p25f meteorological file does not exist\n",
      "WARNING /hysplit-users/alicec/projects/bezy/data/20201022/hysplit.t18z.gfs0p25f meteorological file does not exist\n",
      "WARNING /hysplit-users/alicec/projects/bezy/data/20201023/hysplit.t00z.gfs0p25f meteorological file does not exist\n",
      "WARNING /hysplit-users/alicec/projects/bezy/data/20201021/hysplit.t06z.gfs0p25f meteorological file does not exist\n",
      "WARNING /hysplit-users/alicec/projects/bezy/data/20201021/hysplit.t12z.gfs0p25f meteorological file does not exist\n",
      "WARNING /hysplit-users/alicec/projects/bezy/data/20201021/hysplit.t18z.gfs0p25f meteorological file does not exist\n",
      "WARNING /hysplit-users/alicec/projects/bezy/data/20201022/hysplit.t00z.gfs0p25f meteorological file does not exist\n",
      "WARNING /hysplit-users/alicec/projects/bezy/data/20201022/hysplit.t06z.gfs0p25f meteorological file does not exist\n",
      "WARNING /hysplit-users/alicec/projects/bezy/data/20201022/hysplit.t12z.gfs0p25f meteorological file does not exist\n",
      "WARNING /hysplit-users/alicec/projects/bezy/data/20201022/hysplit.t18z.gfs0p25f meteorological file does not exist\n",
      "WARNING /hysplit-users/alicec/projects/bezy/data/20201021/hysplit.t00z.gfs0p25f meteorological file does not exist\n",
      "WARNING /hysplit-users/alicec/projects/bezy/data/20201021/hysplit.t06z.gfs0p25f meteorological file does not exist\n",
      "WARNING /hysplit-users/alicec/projects/bezy/data/20201021/hysplit.t12z.gfs0p25f meteorological file does not exist\n",
      "WARNING /hysplit-users/alicec/projects/bezy/data/20201021/hysplit.t18z.gfs0p25f meteorological file does not exist\n",
      "WARNING /hysplit-users/alicec/projects/bezy/data/20201022/hysplit.t00z.gfs0p25f meteorological file does not exist\n",
      "WARNING /hysplit-users/alicec/projects/bezy/data/20201022/hysplit.t06z.gfs0p25f meteorological file does not exist\n",
      "WARNING /hysplit-users/alicec/projects/bezy/data/20201022/hysplit.t12z.gfs0p25f meteorological file does not exist\n",
      "WARNING /hysplit-users/alicec/projects/bezy/data/20201020/hysplit.t18z.gfs0p25f meteorological file does not exist\n",
      "WARNING /hysplit-users/alicec/projects/bezy/data/20201021/hysplit.t00z.gfs0p25f meteorological file does not exist\n",
      "WARNING /hysplit-users/alicec/projects/bezy/data/20201021/hysplit.t06z.gfs0p25f meteorological file does not exist\n",
      "WARNING /hysplit-users/alicec/projects/bezy/data/20201021/hysplit.t12z.gfs0p25f meteorological file does not exist\n",
      "WARNING /hysplit-users/alicec/projects/bezy/data/20201021/hysplit.t18z.gfs0p25f meteorological file does not exist\n",
      "WARNING /hysplit-users/alicec/projects/bezy/data/20201022/hysplit.t00z.gfs0p25f meteorological file does not exist\n",
      "WARNING /hysplit-users/alicec/projects/bezy/data/20201022/hysplit.t06z.gfs0p25f meteorological file does not exist\n",
      "WARNING /hysplit-users/alicec/projects/bezy/data/20201020/hysplit.t12z.gfs0p25f meteorological file does not exist\n",
      "WARNING /hysplit-users/alicec/projects/bezy/data/20201020/hysplit.t18z.gfs0p25f meteorological file does not exist\n",
      "WARNING /hysplit-users/alicec/projects/bezy/data/20201021/hysplit.t00z.gfs0p25f meteorological file does not exist\n",
      "WARNING /hysplit-users/alicec/projects/bezy/data/20201021/hysplit.t06z.gfs0p25f meteorological file does not exist\n",
      "WARNING /hysplit-users/alicec/projects/bezy/data/20201021/hysplit.t12z.gfs0p25f meteorological file does not exist\n",
      "WARNING /hysplit-users/alicec/projects/bezy/data/20201021/hysplit.t18z.gfs0p25f meteorological file does not exist\n",
      "WARNING /hysplit-users/alicec/projects/bezy/data/20201022/hysplit.t00z.gfs0p25f meteorological file does not exist\n",
      "Looking in archive for met files\n",
      "running  /hysplit-users/alicec/projects/bezy/hysplit/exec/hycs_std bezyB\n",
      "in loop 0s procs 1\n",
      "in loop 30s procs 1\n",
      "in loop 60s procs 1\n",
      "in loop 90s procs 1\n",
      "in loop 120s procs 1\n",
      "in loop 150s procs 1\n",
      "in loop 180s procs 1\n",
      "in loop 210s procs 1\n",
      "in loop 240s procs 1\n",
      "in loop 270s procs 1\n",
      "in loop 300s procs 1\n",
      "in loop 330s procs 1\n",
      "in loop 360s procs 1\n",
      "in loop 390s procs 1\n",
      "in loop 420s procs 1\n",
      "in loop 450s procs 1\n",
      "in loop 480s procs 1\n",
      "in loop 510s procs 1\n",
      "in loop 540s procs 1\n",
      "in loop 570s procs 1\n",
      "in loop 600s procs 1\n",
      "in loop 630s procs 1\n",
      "in loop 660s procs 0\n",
      "tii [2, 3, 4, 5, 6, 7, 8, 9, 10, 11]\n",
      "HERE HERE HERE\n",
      "2020-10-21T21:00:00.000000000\n",
      "2020-10-21T22:00:00.000000000\n",
      "2020-10-21T23:00:00.000000000\n",
      "2020-10-22T00:00:00.000000000\n",
      "2020-10-22T01:00:00.000000000\n",
      "2020-10-22T02:00:00.000000000\n",
      "2020-10-22T03:00:00.000000000\n",
      "2020-10-22T04:00:00.000000000\n",
      "2020-10-22T05:00:00.000000000\n",
      "2020-10-22T06:00:00.000000000\n",
      "HERE /hysplit-users/alicec/projects/bezy/RunB/RunB_2_3_4_5_6_7_8_9_10_11_TFw5\n",
      "(45656, 67)\n",
      "N_ctrl 66\n",
      "output file /hysplit-users/alicec/projects/bezy/RunB/RunB_2_3_4_5_6_7_8_9_10_11_TFw5/runB4.tcm_bezyB.txt\n"
     ]
    },
    {
     "name": "stderr",
     "output_type": "stream",
     "text": [
      "/hysplit-users/alicec/utilhysplit/utilvolc/ash_inverse.py:829: VisibleDeprecationWarning: Creating an ndarray from ragged nested sequences (which is a list-or-tuple of lists-or-tuples-or ndarrays with different lengths or shapes) is deprecated. If you meant to do this, you must specify 'dtype=object' when creating the ndarray.\n",
      "  self.latlist = np.array(latlist)\n",
      "/hysplit-users/alicec/utilhysplit/utilvolc/ash_inverse.py:830: VisibleDeprecationWarning: Creating an ndarray from ragged nested sequences (which is a list-or-tuple of lists-or-tuples-or ndarrays with different lengths or shapes) is deprecated. If you meant to do this, you must specify 'dtype=object' when creating the ndarray.\n",
      "  self.lonlist = np.array(lonlist)\n",
      "/hysplit-users/alicec/utilhysplit/utilvolc/ash_inverse.py:844: VisibleDeprecationWarning: Creating an ndarray from ragged nested sequences (which is a list-or-tuple of lists-or-tuples-or ndarrays with different lengths or shapes) is deprecated. If you meant to do this, you must specify 'dtype=object' when creating the ndarray.\n",
      "  self.latlist = np.array(latlist)\n",
      "/hysplit-users/alicec/utilhysplit/utilvolc/ash_inverse.py:845: VisibleDeprecationWarning: Creating an ndarray from ragged nested sequences (which is a list-or-tuple of lists-or-tuples-or ndarrays with different lengths or shapes) is deprecated. If you meant to do this, you must specify 'dtype=object' when creating the ndarray.\n",
      "  self.lonlist = np.array(lonlist)\n"
     ]
    },
    {
     "name": "stdout",
     "output_type": "stream",
     "text": [
      "bezyB\n"
     ]
    },
    {
     "name": "stderr",
     "output_type": "stream",
     "text": [
      "/hysplit-users/alicec/utilhysplit/utilvolc/ash_inverse.py:596: MatplotlibDeprecationWarning: Adding an axes using the same arguments as a previous axes currently reuses the earlier instance.  In a future version, a new instance will always be created and returned.  Meanwhile, this warning can be suppressed, and the future behavior ensured, by passing a unique label to each axes instance.\n",
      "  ax = fig.add_subplot(1,1,1)\n",
      "No meteorological files found /hysplit-users/alicec/projects/bezy/data/%Y%m%d/hysplit.t%Hz.gfs0p25f\n"
     ]
    },
    {
     "name": "stdout",
     "output_type": "stream",
     "text": [
      "saving to  /hysplit-users/alicec/projects/bezy/RunB/RunB_2_3_4_5_6_7_8_9_10_11_TFw5/RunB_2_3_4_5_6_7_8_9_10_11_TFw5.csv\n",
      "writing efile {} /hysplit-users/alicec/projects/bezy/RunB/RunB_2_3_4_5_6_7_8_9_10_11_TFw5/bezyB_emit.txt\n",
      "gfs0p25\n",
      "fcst str /pub/forecast/%Y%m%d/\n",
      "making control file  gfs0p25\n",
      "/hysplit-users/alicec/projects/bezy/data/\n",
      "fcst str /hysplit-users/alicec/projects/bezy/data/%Y%m%d/\n",
      "WARNING /hysplit-users/alicec/projects/bezy/data/20201021/hysplit.t18z.gfs0p25f meteorological file does not exist\n",
      "WARNING /hysplit-users/alicec/projects/bezy/data/20201022/hysplit.t00z.gfs0p25f meteorological file does not exist\n",
      "WARNING /hysplit-users/alicec/projects/bezy/data/20201022/hysplit.t06z.gfs0p25f meteorological file does not exist\n",
      "WARNING /hysplit-users/alicec/projects/bezy/data/20201022/hysplit.t12z.gfs0p25f meteorological file does not exist\n",
      "WARNING /hysplit-users/alicec/projects/bezy/data/20201022/hysplit.t18z.gfs0p25f meteorological file does not exist\n",
      "WARNING /hysplit-users/alicec/projects/bezy/data/20201023/hysplit.t00z.gfs0p25f meteorological file does not exist\n",
      "WARNING /hysplit-users/alicec/projects/bezy/data/20201023/hysplit.t06z.gfs0p25f meteorological file does not exist\n",
      "WARNING /hysplit-users/alicec/projects/bezy/data/20201021/hysplit.t12z.gfs0p25f meteorological file does not exist\n",
      "WARNING /hysplit-users/alicec/projects/bezy/data/20201021/hysplit.t18z.gfs0p25f meteorological file does not exist\n",
      "WARNING /hysplit-users/alicec/projects/bezy/data/20201022/hysplit.t00z.gfs0p25f meteorological file does not exist\n",
      "WARNING /hysplit-users/alicec/projects/bezy/data/20201022/hysplit.t06z.gfs0p25f meteorological file does not exist\n",
      "WARNING /hysplit-users/alicec/projects/bezy/data/20201022/hysplit.t12z.gfs0p25f meteorological file does not exist\n",
      "WARNING /hysplit-users/alicec/projects/bezy/data/20201022/hysplit.t18z.gfs0p25f meteorological file does not exist\n",
      "WARNING /hysplit-users/alicec/projects/bezy/data/20201023/hysplit.t00z.gfs0p25f meteorological file does not exist\n",
      "WARNING /hysplit-users/alicec/projects/bezy/data/20201021/hysplit.t06z.gfs0p25f meteorological file does not exist\n",
      "WARNING /hysplit-users/alicec/projects/bezy/data/20201021/hysplit.t12z.gfs0p25f meteorological file does not exist\n",
      "WARNING /hysplit-users/alicec/projects/bezy/data/20201021/hysplit.t18z.gfs0p25f meteorological file does not exist\n",
      "WARNING /hysplit-users/alicec/projects/bezy/data/20201022/hysplit.t00z.gfs0p25f meteorological file does not exist\n",
      "WARNING /hysplit-users/alicec/projects/bezy/data/20201022/hysplit.t06z.gfs0p25f meteorological file does not exist\n",
      "WARNING /hysplit-users/alicec/projects/bezy/data/20201022/hysplit.t12z.gfs0p25f meteorological file does not exist\n",
      "WARNING /hysplit-users/alicec/projects/bezy/data/20201022/hysplit.t18z.gfs0p25f meteorological file does not exist\n",
      "WARNING /hysplit-users/alicec/projects/bezy/data/20201021/hysplit.t00z.gfs0p25f meteorological file does not exist\n",
      "WARNING /hysplit-users/alicec/projects/bezy/data/20201021/hysplit.t06z.gfs0p25f meteorological file does not exist\n",
      "WARNING /hysplit-users/alicec/projects/bezy/data/20201021/hysplit.t12z.gfs0p25f meteorological file does not exist\n",
      "WARNING /hysplit-users/alicec/projects/bezy/data/20201021/hysplit.t18z.gfs0p25f meteorological file does not exist\n",
      "WARNING /hysplit-users/alicec/projects/bezy/data/20201022/hysplit.t00z.gfs0p25f meteorological file does not exist\n",
      "WARNING /hysplit-users/alicec/projects/bezy/data/20201022/hysplit.t06z.gfs0p25f meteorological file does not exist\n",
      "WARNING /hysplit-users/alicec/projects/bezy/data/20201022/hysplit.t12z.gfs0p25f meteorological file does not exist\n",
      "WARNING /hysplit-users/alicec/projects/bezy/data/20201020/hysplit.t18z.gfs0p25f meteorological file does not exist\n",
      "WARNING /hysplit-users/alicec/projects/bezy/data/20201021/hysplit.t00z.gfs0p25f meteorological file does not exist\n",
      "WARNING /hysplit-users/alicec/projects/bezy/data/20201021/hysplit.t06z.gfs0p25f meteorological file does not exist\n",
      "WARNING /hysplit-users/alicec/projects/bezy/data/20201021/hysplit.t12z.gfs0p25f meteorological file does not exist\n",
      "WARNING /hysplit-users/alicec/projects/bezy/data/20201021/hysplit.t18z.gfs0p25f meteorological file does not exist\n",
      "WARNING /hysplit-users/alicec/projects/bezy/data/20201022/hysplit.t00z.gfs0p25f meteorological file does not exist\n",
      "WARNING /hysplit-users/alicec/projects/bezy/data/20201022/hysplit.t06z.gfs0p25f meteorological file does not exist\n",
      "WARNING /hysplit-users/alicec/projects/bezy/data/20201020/hysplit.t12z.gfs0p25f meteorological file does not exist\n",
      "WARNING /hysplit-users/alicec/projects/bezy/data/20201020/hysplit.t18z.gfs0p25f meteorological file does not exist\n",
      "WARNING /hysplit-users/alicec/projects/bezy/data/20201021/hysplit.t00z.gfs0p25f meteorological file does not exist\n",
      "WARNING /hysplit-users/alicec/projects/bezy/data/20201021/hysplit.t06z.gfs0p25f meteorological file does not exist\n",
      "WARNING /hysplit-users/alicec/projects/bezy/data/20201021/hysplit.t12z.gfs0p25f meteorological file does not exist\n",
      "WARNING /hysplit-users/alicec/projects/bezy/data/20201021/hysplit.t18z.gfs0p25f meteorological file does not exist\n",
      "WARNING /hysplit-users/alicec/projects/bezy/data/20201022/hysplit.t00z.gfs0p25f meteorological file does not exist\n",
      "Looking in archive for met files\n",
      "running  /hysplit-users/alicec/projects/bezy/hysplit/exec/hycs_std bezyB\n",
      "in loop 0s procs 1\n",
      "in loop 30s procs 1\n",
      "in loop 60s procs 1\n",
      "in loop 90s procs 1\n",
      "in loop 120s procs 1\n",
      "in loop 150s procs 1\n",
      "in loop 180s procs 1\n",
      "in loop 210s procs 1\n",
      "in loop 240s procs 1\n",
      "in loop 270s procs 1\n",
      "in loop 300s procs 1\n",
      "in loop 330s procs 1\n",
      "in loop 360s procs 1\n",
      "in loop 390s procs 1\n",
      "in loop 420s procs 1\n",
      "in loop 450s procs 1\n",
      "in loop 480s procs 1\n",
      "in loop 510s procs 1\n",
      "in loop 540s procs 1\n",
      "in loop 570s procs 1\n",
      "in loop 600s procs 1\n",
      "in loop 630s procs 1\n",
      "in loop 660s procs 0\n",
      "HERE HERE HERE\n",
      "2020-10-21T21:00:00.000000000\n",
      "2020-10-21T22:00:00.000000000\n",
      "HERE /hysplit-users/alicec/projects/bezy/RunB/RunB_2_3_TFw5\n",
      "(2671, 45)\n",
      "N_ctrl 44\n",
      "output file /hysplit-users/alicec/projects/bezy/RunB/RunB_2_3_TFw5/runB4.tcm_bezyB.txt\n"
     ]
    },
    {
     "name": "stderr",
     "output_type": "stream",
     "text": [
      "/hysplit-users/alicec/utilhysplit/utilvolc/ash_inverse.py:829: VisibleDeprecationWarning: Creating an ndarray from ragged nested sequences (which is a list-or-tuple of lists-or-tuples-or ndarrays with different lengths or shapes) is deprecated. If you meant to do this, you must specify 'dtype=object' when creating the ndarray.\n",
      "  self.latlist = np.array(latlist)\n",
      "/hysplit-users/alicec/utilhysplit/utilvolc/ash_inverse.py:830: VisibleDeprecationWarning: Creating an ndarray from ragged nested sequences (which is a list-or-tuple of lists-or-tuples-or ndarrays with different lengths or shapes) is deprecated. If you meant to do this, you must specify 'dtype=object' when creating the ndarray.\n",
      "  self.lonlist = np.array(lonlist)\n",
      "/hysplit-users/alicec/utilhysplit/utilvolc/ash_inverse.py:844: VisibleDeprecationWarning: Creating an ndarray from ragged nested sequences (which is a list-or-tuple of lists-or-tuples-or ndarrays with different lengths or shapes) is deprecated. If you meant to do this, you must specify 'dtype=object' when creating the ndarray.\n",
      "  self.latlist = np.array(latlist)\n",
      "/hysplit-users/alicec/utilhysplit/utilvolc/ash_inverse.py:845: VisibleDeprecationWarning: Creating an ndarray from ragged nested sequences (which is a list-or-tuple of lists-or-tuples-or ndarrays with different lengths or shapes) is deprecated. If you meant to do this, you must specify 'dtype=object' when creating the ndarray.\n",
      "  self.lonlist = np.array(lonlist)\n"
     ]
    },
    {
     "name": "stdout",
     "output_type": "stream",
     "text": [
      "bezyB\n"
     ]
    },
    {
     "name": "stderr",
     "output_type": "stream",
     "text": [
      "/hysplit-users/alicec/utilhysplit/utilvolc/ash_inverse.py:596: MatplotlibDeprecationWarning: Adding an axes using the same arguments as a previous axes currently reuses the earlier instance.  In a future version, a new instance will always be created and returned.  Meanwhile, this warning can be suppressed, and the future behavior ensured, by passing a unique label to each axes instance.\n",
      "  ax = fig.add_subplot(1,1,1)\n",
      "No meteorological files found /hysplit-users/alicec/projects/bezy/data/%Y%m%d/hysplit.t%Hz.gfs0p25f\n"
     ]
    },
    {
     "name": "stdout",
     "output_type": "stream",
     "text": [
      "saving to  /hysplit-users/alicec/projects/bezy/RunB/RunB_2_3_TFw5/RunB_2_3_TFw5.csv\n",
      "writing efile {} /hysplit-users/alicec/projects/bezy/RunB/RunB_2_3_TFw5/bezyB_emit.txt\n",
      "gfs0p25\n",
      "fcst str /pub/forecast/%Y%m%d/\n",
      "making control file  gfs0p25\n",
      "/hysplit-users/alicec/projects/bezy/data/\n",
      "fcst str /hysplit-users/alicec/projects/bezy/data/%Y%m%d/\n",
      "WARNING /hysplit-users/alicec/projects/bezy/data/20201021/hysplit.t18z.gfs0p25f meteorological file does not exist\n",
      "WARNING /hysplit-users/alicec/projects/bezy/data/20201022/hysplit.t00z.gfs0p25f meteorological file does not exist\n",
      "WARNING /hysplit-users/alicec/projects/bezy/data/20201022/hysplit.t06z.gfs0p25f meteorological file does not exist\n",
      "WARNING /hysplit-users/alicec/projects/bezy/data/20201022/hysplit.t12z.gfs0p25f meteorological file does not exist\n",
      "WARNING /hysplit-users/alicec/projects/bezy/data/20201022/hysplit.t18z.gfs0p25f meteorological file does not exist\n",
      "WARNING /hysplit-users/alicec/projects/bezy/data/20201023/hysplit.t00z.gfs0p25f meteorological file does not exist\n",
      "WARNING /hysplit-users/alicec/projects/bezy/data/20201023/hysplit.t06z.gfs0p25f meteorological file does not exist\n",
      "WARNING /hysplit-users/alicec/projects/bezy/data/20201021/hysplit.t12z.gfs0p25f meteorological file does not exist\n",
      "WARNING /hysplit-users/alicec/projects/bezy/data/20201021/hysplit.t18z.gfs0p25f meteorological file does not exist\n",
      "WARNING /hysplit-users/alicec/projects/bezy/data/20201022/hysplit.t00z.gfs0p25f meteorological file does not exist\n",
      "WARNING /hysplit-users/alicec/projects/bezy/data/20201022/hysplit.t06z.gfs0p25f meteorological file does not exist\n",
      "WARNING /hysplit-users/alicec/projects/bezy/data/20201022/hysplit.t12z.gfs0p25f meteorological file does not exist\n",
      "WARNING /hysplit-users/alicec/projects/bezy/data/20201022/hysplit.t18z.gfs0p25f meteorological file does not exist\n",
      "WARNING /hysplit-users/alicec/projects/bezy/data/20201023/hysplit.t00z.gfs0p25f meteorological file does not exist\n",
      "WARNING /hysplit-users/alicec/projects/bezy/data/20201021/hysplit.t06z.gfs0p25f meteorological file does not exist\n",
      "WARNING /hysplit-users/alicec/projects/bezy/data/20201021/hysplit.t12z.gfs0p25f meteorological file does not exist\n",
      "WARNING /hysplit-users/alicec/projects/bezy/data/20201021/hysplit.t18z.gfs0p25f meteorological file does not exist\n",
      "WARNING /hysplit-users/alicec/projects/bezy/data/20201022/hysplit.t00z.gfs0p25f meteorological file does not exist\n",
      "WARNING /hysplit-users/alicec/projects/bezy/data/20201022/hysplit.t06z.gfs0p25f meteorological file does not exist\n",
      "WARNING /hysplit-users/alicec/projects/bezy/data/20201022/hysplit.t12z.gfs0p25f meteorological file does not exist\n",
      "WARNING /hysplit-users/alicec/projects/bezy/data/20201022/hysplit.t18z.gfs0p25f meteorological file does not exist\n",
      "WARNING /hysplit-users/alicec/projects/bezy/data/20201021/hysplit.t00z.gfs0p25f meteorological file does not exist\n",
      "WARNING /hysplit-users/alicec/projects/bezy/data/20201021/hysplit.t06z.gfs0p25f meteorological file does not exist\n",
      "WARNING /hysplit-users/alicec/projects/bezy/data/20201021/hysplit.t12z.gfs0p25f meteorological file does not exist\n",
      "WARNING /hysplit-users/alicec/projects/bezy/data/20201021/hysplit.t18z.gfs0p25f meteorological file does not exist\n",
      "WARNING /hysplit-users/alicec/projects/bezy/data/20201022/hysplit.t00z.gfs0p25f meteorological file does not exist\n",
      "WARNING /hysplit-users/alicec/projects/bezy/data/20201022/hysplit.t06z.gfs0p25f meteorological file does not exist\n",
      "WARNING /hysplit-users/alicec/projects/bezy/data/20201022/hysplit.t12z.gfs0p25f meteorological file does not exist\n",
      "WARNING /hysplit-users/alicec/projects/bezy/data/20201020/hysplit.t18z.gfs0p25f meteorological file does not exist\n",
      "WARNING /hysplit-users/alicec/projects/bezy/data/20201021/hysplit.t00z.gfs0p25f meteorological file does not exist\n",
      "WARNING /hysplit-users/alicec/projects/bezy/data/20201021/hysplit.t06z.gfs0p25f meteorological file does not exist\n",
      "WARNING /hysplit-users/alicec/projects/bezy/data/20201021/hysplit.t12z.gfs0p25f meteorological file does not exist\n",
      "WARNING /hysplit-users/alicec/projects/bezy/data/20201021/hysplit.t18z.gfs0p25f meteorological file does not exist\n",
      "WARNING /hysplit-users/alicec/projects/bezy/data/20201022/hysplit.t00z.gfs0p25f meteorological file does not exist\n",
      "WARNING /hysplit-users/alicec/projects/bezy/data/20201022/hysplit.t06z.gfs0p25f meteorological file does not exist\n",
      "WARNING /hysplit-users/alicec/projects/bezy/data/20201020/hysplit.t12z.gfs0p25f meteorological file does not exist\n",
      "WARNING /hysplit-users/alicec/projects/bezy/data/20201020/hysplit.t18z.gfs0p25f meteorological file does not exist\n",
      "WARNING /hysplit-users/alicec/projects/bezy/data/20201021/hysplit.t00z.gfs0p25f meteorological file does not exist\n",
      "WARNING /hysplit-users/alicec/projects/bezy/data/20201021/hysplit.t06z.gfs0p25f meteorological file does not exist\n",
      "WARNING /hysplit-users/alicec/projects/bezy/data/20201021/hysplit.t12z.gfs0p25f meteorological file does not exist\n",
      "WARNING /hysplit-users/alicec/projects/bezy/data/20201021/hysplit.t18z.gfs0p25f meteorological file does not exist\n",
      "WARNING /hysplit-users/alicec/projects/bezy/data/20201022/hysplit.t00z.gfs0p25f meteorological file does not exist\n",
      "Looking in archive for met files\n",
      "running  /hysplit-users/alicec/projects/bezy/hysplit/exec/hycs_std bezyB\n",
      "in loop 0s procs 1\n",
      "in loop 30s procs 1\n",
      "in loop 60s procs 1\n",
      "in loop 90s procs 1\n",
      "in loop 120s procs 1\n",
      "in loop 150s procs 1\n",
      "in loop 180s procs 1\n",
      "in loop 210s procs 1\n",
      "in loop 240s procs 1\n",
      "in loop 270s procs 1\n",
      "in loop 300s procs 1\n",
      "in loop 330s procs 1\n",
      "in loop 360s procs 1\n",
      "in loop 390s procs 1\n",
      "in loop 420s procs 1\n",
      "in loop 450s procs 0\n",
      "HERE HERE HERE\n",
      "2020-10-21T22:00:00.000000000\n",
      "2020-10-21T23:00:00.000000000\n",
      "HERE /hysplit-users/alicec/projects/bezy/RunB/RunB_3_4_TFw5\n",
      "(3834, 56)\n",
      "N_ctrl 55\n",
      "output file /hysplit-users/alicec/projects/bezy/RunB/RunB_3_4_TFw5/runB4.tcm_bezyB.txt\n"
     ]
    },
    {
     "name": "stderr",
     "output_type": "stream",
     "text": [
      "/hysplit-users/alicec/utilhysplit/utilvolc/ash_inverse.py:829: VisibleDeprecationWarning: Creating an ndarray from ragged nested sequences (which is a list-or-tuple of lists-or-tuples-or ndarrays with different lengths or shapes) is deprecated. If you meant to do this, you must specify 'dtype=object' when creating the ndarray.\n",
      "  self.latlist = np.array(latlist)\n",
      "/hysplit-users/alicec/utilhysplit/utilvolc/ash_inverse.py:830: VisibleDeprecationWarning: Creating an ndarray from ragged nested sequences (which is a list-or-tuple of lists-or-tuples-or ndarrays with different lengths or shapes) is deprecated. If you meant to do this, you must specify 'dtype=object' when creating the ndarray.\n",
      "  self.lonlist = np.array(lonlist)\n",
      "/hysplit-users/alicec/utilhysplit/utilvolc/ash_inverse.py:844: VisibleDeprecationWarning: Creating an ndarray from ragged nested sequences (which is a list-or-tuple of lists-or-tuples-or ndarrays with different lengths or shapes) is deprecated. If you meant to do this, you must specify 'dtype=object' when creating the ndarray.\n",
      "  self.latlist = np.array(latlist)\n",
      "/hysplit-users/alicec/utilhysplit/utilvolc/ash_inverse.py:845: VisibleDeprecationWarning: Creating an ndarray from ragged nested sequences (which is a list-or-tuple of lists-or-tuples-or ndarrays with different lengths or shapes) is deprecated. If you meant to do this, you must specify 'dtype=object' when creating the ndarray.\n",
      "  self.lonlist = np.array(lonlist)\n"
     ]
    },
    {
     "name": "stdout",
     "output_type": "stream",
     "text": [
      "bezyB\n"
     ]
    },
    {
     "name": "stderr",
     "output_type": "stream",
     "text": [
      "/hysplit-users/alicec/utilhysplit/utilvolc/ash_inverse.py:596: MatplotlibDeprecationWarning: Adding an axes using the same arguments as a previous axes currently reuses the earlier instance.  In a future version, a new instance will always be created and returned.  Meanwhile, this warning can be suppressed, and the future behavior ensured, by passing a unique label to each axes instance.\n",
      "  ax = fig.add_subplot(1,1,1)\n",
      "No meteorological files found /hysplit-users/alicec/projects/bezy/data/%Y%m%d/hysplit.t%Hz.gfs0p25f\n"
     ]
    },
    {
     "name": "stdout",
     "output_type": "stream",
     "text": [
      "saving to  /hysplit-users/alicec/projects/bezy/RunB/RunB_3_4_TFw5/RunB_3_4_TFw5.csv\n",
      "writing efile {} /hysplit-users/alicec/projects/bezy/RunB/RunB_3_4_TFw5/bezyB_emit.txt\n",
      "gfs0p25\n",
      "fcst str /pub/forecast/%Y%m%d/\n",
      "making control file  gfs0p25\n",
      "/hysplit-users/alicec/projects/bezy/data/\n",
      "fcst str /hysplit-users/alicec/projects/bezy/data/%Y%m%d/\n",
      "WARNING /hysplit-users/alicec/projects/bezy/data/20201021/hysplit.t18z.gfs0p25f meteorological file does not exist\n",
      "WARNING /hysplit-users/alicec/projects/bezy/data/20201022/hysplit.t00z.gfs0p25f meteorological file does not exist\n",
      "WARNING /hysplit-users/alicec/projects/bezy/data/20201022/hysplit.t06z.gfs0p25f meteorological file does not exist\n",
      "WARNING /hysplit-users/alicec/projects/bezy/data/20201022/hysplit.t12z.gfs0p25f meteorological file does not exist\n",
      "WARNING /hysplit-users/alicec/projects/bezy/data/20201022/hysplit.t18z.gfs0p25f meteorological file does not exist\n",
      "WARNING /hysplit-users/alicec/projects/bezy/data/20201023/hysplit.t00z.gfs0p25f meteorological file does not exist\n",
      "WARNING /hysplit-users/alicec/projects/bezy/data/20201023/hysplit.t06z.gfs0p25f meteorological file does not exist\n",
      "WARNING /hysplit-users/alicec/projects/bezy/data/20201021/hysplit.t12z.gfs0p25f meteorological file does not exist\n",
      "WARNING /hysplit-users/alicec/projects/bezy/data/20201021/hysplit.t18z.gfs0p25f meteorological file does not exist\n",
      "WARNING /hysplit-users/alicec/projects/bezy/data/20201022/hysplit.t00z.gfs0p25f meteorological file does not exist\n",
      "WARNING /hysplit-users/alicec/projects/bezy/data/20201022/hysplit.t06z.gfs0p25f meteorological file does not exist\n",
      "WARNING /hysplit-users/alicec/projects/bezy/data/20201022/hysplit.t12z.gfs0p25f meteorological file does not exist\n",
      "WARNING /hysplit-users/alicec/projects/bezy/data/20201022/hysplit.t18z.gfs0p25f meteorological file does not exist\n",
      "WARNING /hysplit-users/alicec/projects/bezy/data/20201023/hysplit.t00z.gfs0p25f meteorological file does not exist\n",
      "WARNING /hysplit-users/alicec/projects/bezy/data/20201021/hysplit.t06z.gfs0p25f meteorological file does not exist\n",
      "WARNING /hysplit-users/alicec/projects/bezy/data/20201021/hysplit.t12z.gfs0p25f meteorological file does not exist\n",
      "WARNING /hysplit-users/alicec/projects/bezy/data/20201021/hysplit.t18z.gfs0p25f meteorological file does not exist\n",
      "WARNING /hysplit-users/alicec/projects/bezy/data/20201022/hysplit.t00z.gfs0p25f meteorological file does not exist\n",
      "WARNING /hysplit-users/alicec/projects/bezy/data/20201022/hysplit.t06z.gfs0p25f meteorological file does not exist\n",
      "WARNING /hysplit-users/alicec/projects/bezy/data/20201022/hysplit.t12z.gfs0p25f meteorological file does not exist\n",
      "WARNING /hysplit-users/alicec/projects/bezy/data/20201022/hysplit.t18z.gfs0p25f meteorological file does not exist\n",
      "WARNING /hysplit-users/alicec/projects/bezy/data/20201021/hysplit.t00z.gfs0p25f meteorological file does not exist\n",
      "WARNING /hysplit-users/alicec/projects/bezy/data/20201021/hysplit.t06z.gfs0p25f meteorological file does not exist\n",
      "WARNING /hysplit-users/alicec/projects/bezy/data/20201021/hysplit.t12z.gfs0p25f meteorological file does not exist\n",
      "WARNING /hysplit-users/alicec/projects/bezy/data/20201021/hysplit.t18z.gfs0p25f meteorological file does not exist\n",
      "WARNING /hysplit-users/alicec/projects/bezy/data/20201022/hysplit.t00z.gfs0p25f meteorological file does not exist\n",
      "WARNING /hysplit-users/alicec/projects/bezy/data/20201022/hysplit.t06z.gfs0p25f meteorological file does not exist\n",
      "WARNING /hysplit-users/alicec/projects/bezy/data/20201022/hysplit.t12z.gfs0p25f meteorological file does not exist\n",
      "WARNING /hysplit-users/alicec/projects/bezy/data/20201020/hysplit.t18z.gfs0p25f meteorological file does not exist\n",
      "WARNING /hysplit-users/alicec/projects/bezy/data/20201021/hysplit.t00z.gfs0p25f meteorological file does not exist\n",
      "WARNING /hysplit-users/alicec/projects/bezy/data/20201021/hysplit.t06z.gfs0p25f meteorological file does not exist\n",
      "WARNING /hysplit-users/alicec/projects/bezy/data/20201021/hysplit.t12z.gfs0p25f meteorological file does not exist\n",
      "WARNING /hysplit-users/alicec/projects/bezy/data/20201021/hysplit.t18z.gfs0p25f meteorological file does not exist\n",
      "WARNING /hysplit-users/alicec/projects/bezy/data/20201022/hysplit.t00z.gfs0p25f meteorological file does not exist\n",
      "WARNING /hysplit-users/alicec/projects/bezy/data/20201022/hysplit.t06z.gfs0p25f meteorological file does not exist\n",
      "WARNING /hysplit-users/alicec/projects/bezy/data/20201020/hysplit.t12z.gfs0p25f meteorological file does not exist\n",
      "WARNING /hysplit-users/alicec/projects/bezy/data/20201020/hysplit.t18z.gfs0p25f meteorological file does not exist\n",
      "WARNING /hysplit-users/alicec/projects/bezy/data/20201021/hysplit.t00z.gfs0p25f meteorological file does not exist\n",
      "WARNING /hysplit-users/alicec/projects/bezy/data/20201021/hysplit.t06z.gfs0p25f meteorological file does not exist\n",
      "WARNING /hysplit-users/alicec/projects/bezy/data/20201021/hysplit.t12z.gfs0p25f meteorological file does not exist\n",
      "WARNING /hysplit-users/alicec/projects/bezy/data/20201021/hysplit.t18z.gfs0p25f meteorological file does not exist\n",
      "WARNING /hysplit-users/alicec/projects/bezy/data/20201022/hysplit.t00z.gfs0p25f meteorological file does not exist\n",
      "Looking in archive for met files\n",
      "running  /hysplit-users/alicec/projects/bezy/hysplit/exec/hycs_std bezyB\n",
      "in loop 0s procs 1\n",
      "in loop 30s procs 1\n",
      "in loop 60s procs 1\n",
      "in loop 90s procs 1\n",
      "in loop 120s procs 1\n",
      "in loop 150s procs 1\n",
      "in loop 180s procs 1\n",
      "in loop 210s procs 1\n",
      "in loop 240s procs 1\n",
      "in loop 270s procs 1\n",
      "in loop 300s procs 1\n",
      "in loop 330s procs 1\n",
      "in loop 360s procs 1\n",
      "in loop 390s procs 1\n",
      "in loop 420s procs 1\n",
      "in loop 450s procs 1\n",
      "in loop 480s procs 1\n",
      "in loop 510s procs 1\n",
      "in loop 540s procs 1\n",
      "in loop 570s procs 1\n",
      "in loop 600s procs 1\n",
      "in loop 630s procs 1\n",
      "in loop 660s procs 1\n",
      "in loop 690s procs 0\n",
      "HERE HERE HERE\n",
      "2020-10-21T23:00:00.000000000\n",
      "2020-10-22T00:00:00.000000000\n",
      "HERE /hysplit-users/alicec/projects/bezy/RunB/RunB_4_5_TFw5\n",
      "(5262, 67)\n",
      "N_ctrl 66\n",
      "output file /hysplit-users/alicec/projects/bezy/RunB/RunB_4_5_TFw5/runB4.tcm_bezyB.txt\n"
     ]
    },
    {
     "name": "stderr",
     "output_type": "stream",
     "text": [
      "/hysplit-users/alicec/utilhysplit/utilvolc/ash_inverse.py:829: VisibleDeprecationWarning: Creating an ndarray from ragged nested sequences (which is a list-or-tuple of lists-or-tuples-or ndarrays with different lengths or shapes) is deprecated. If you meant to do this, you must specify 'dtype=object' when creating the ndarray.\n",
      "  self.latlist = np.array(latlist)\n",
      "/hysplit-users/alicec/utilhysplit/utilvolc/ash_inverse.py:830: VisibleDeprecationWarning: Creating an ndarray from ragged nested sequences (which is a list-or-tuple of lists-or-tuples-or ndarrays with different lengths or shapes) is deprecated. If you meant to do this, you must specify 'dtype=object' when creating the ndarray.\n",
      "  self.lonlist = np.array(lonlist)\n",
      "/hysplit-users/alicec/utilhysplit/utilvolc/ash_inverse.py:844: VisibleDeprecationWarning: Creating an ndarray from ragged nested sequences (which is a list-or-tuple of lists-or-tuples-or ndarrays with different lengths or shapes) is deprecated. If you meant to do this, you must specify 'dtype=object' when creating the ndarray.\n",
      "  self.latlist = np.array(latlist)\n",
      "/hysplit-users/alicec/utilhysplit/utilvolc/ash_inverse.py:845: VisibleDeprecationWarning: Creating an ndarray from ragged nested sequences (which is a list-or-tuple of lists-or-tuples-or ndarrays with different lengths or shapes) is deprecated. If you meant to do this, you must specify 'dtype=object' when creating the ndarray.\n",
      "  self.lonlist = np.array(lonlist)\n"
     ]
    },
    {
     "name": "stdout",
     "output_type": "stream",
     "text": [
      "bezyB\n"
     ]
    },
    {
     "name": "stderr",
     "output_type": "stream",
     "text": [
      "/hysplit-users/alicec/utilhysplit/utilvolc/ash_inverse.py:596: MatplotlibDeprecationWarning: Adding an axes using the same arguments as a previous axes currently reuses the earlier instance.  In a future version, a new instance will always be created and returned.  Meanwhile, this warning can be suppressed, and the future behavior ensured, by passing a unique label to each axes instance.\n",
      "  ax = fig.add_subplot(1,1,1)\n",
      "No meteorological files found /hysplit-users/alicec/projects/bezy/data/%Y%m%d/hysplit.t%Hz.gfs0p25f\n"
     ]
    },
    {
     "name": "stdout",
     "output_type": "stream",
     "text": [
      "saving to  /hysplit-users/alicec/projects/bezy/RunB/RunB_4_5_TFw5/RunB_4_5_TFw5.csv\n",
      "writing efile {} /hysplit-users/alicec/projects/bezy/RunB/RunB_4_5_TFw5/bezyB_emit.txt\n",
      "gfs0p25\n",
      "fcst str /pub/forecast/%Y%m%d/\n",
      "making control file  gfs0p25\n",
      "/hysplit-users/alicec/projects/bezy/data/\n",
      "fcst str /hysplit-users/alicec/projects/bezy/data/%Y%m%d/\n",
      "WARNING /hysplit-users/alicec/projects/bezy/data/20201021/hysplit.t18z.gfs0p25f meteorological file does not exist\n",
      "WARNING /hysplit-users/alicec/projects/bezy/data/20201022/hysplit.t00z.gfs0p25f meteorological file does not exist\n",
      "WARNING /hysplit-users/alicec/projects/bezy/data/20201022/hysplit.t06z.gfs0p25f meteorological file does not exist\n",
      "WARNING /hysplit-users/alicec/projects/bezy/data/20201022/hysplit.t12z.gfs0p25f meteorological file does not exist\n",
      "WARNING /hysplit-users/alicec/projects/bezy/data/20201022/hysplit.t18z.gfs0p25f meteorological file does not exist\n",
      "WARNING /hysplit-users/alicec/projects/bezy/data/20201023/hysplit.t00z.gfs0p25f meteorological file does not exist\n",
      "WARNING /hysplit-users/alicec/projects/bezy/data/20201023/hysplit.t06z.gfs0p25f meteorological file does not exist\n",
      "WARNING /hysplit-users/alicec/projects/bezy/data/20201021/hysplit.t12z.gfs0p25f meteorological file does not exist\n",
      "WARNING /hysplit-users/alicec/projects/bezy/data/20201021/hysplit.t18z.gfs0p25f meteorological file does not exist\n",
      "WARNING /hysplit-users/alicec/projects/bezy/data/20201022/hysplit.t00z.gfs0p25f meteorological file does not exist\n",
      "WARNING /hysplit-users/alicec/projects/bezy/data/20201022/hysplit.t06z.gfs0p25f meteorological file does not exist\n",
      "WARNING /hysplit-users/alicec/projects/bezy/data/20201022/hysplit.t12z.gfs0p25f meteorological file does not exist\n",
      "WARNING /hysplit-users/alicec/projects/bezy/data/20201022/hysplit.t18z.gfs0p25f meteorological file does not exist\n",
      "WARNING /hysplit-users/alicec/projects/bezy/data/20201023/hysplit.t00z.gfs0p25f meteorological file does not exist\n",
      "WARNING /hysplit-users/alicec/projects/bezy/data/20201021/hysplit.t06z.gfs0p25f meteorological file does not exist\n",
      "WARNING /hysplit-users/alicec/projects/bezy/data/20201021/hysplit.t12z.gfs0p25f meteorological file does not exist\n",
      "WARNING /hysplit-users/alicec/projects/bezy/data/20201021/hysplit.t18z.gfs0p25f meteorological file does not exist\n",
      "WARNING /hysplit-users/alicec/projects/bezy/data/20201022/hysplit.t00z.gfs0p25f meteorological file does not exist\n",
      "WARNING /hysplit-users/alicec/projects/bezy/data/20201022/hysplit.t06z.gfs0p25f meteorological file does not exist\n",
      "WARNING /hysplit-users/alicec/projects/bezy/data/20201022/hysplit.t12z.gfs0p25f meteorological file does not exist\n",
      "WARNING /hysplit-users/alicec/projects/bezy/data/20201022/hysplit.t18z.gfs0p25f meteorological file does not exist\n",
      "WARNING /hysplit-users/alicec/projects/bezy/data/20201021/hysplit.t00z.gfs0p25f meteorological file does not exist\n",
      "WARNING /hysplit-users/alicec/projects/bezy/data/20201021/hysplit.t06z.gfs0p25f meteorological file does not exist\n",
      "WARNING /hysplit-users/alicec/projects/bezy/data/20201021/hysplit.t12z.gfs0p25f meteorological file does not exist\n",
      "WARNING /hysplit-users/alicec/projects/bezy/data/20201021/hysplit.t18z.gfs0p25f meteorological file does not exist\n",
      "WARNING /hysplit-users/alicec/projects/bezy/data/20201022/hysplit.t00z.gfs0p25f meteorological file does not exist\n",
      "WARNING /hysplit-users/alicec/projects/bezy/data/20201022/hysplit.t06z.gfs0p25f meteorological file does not exist\n",
      "WARNING /hysplit-users/alicec/projects/bezy/data/20201022/hysplit.t12z.gfs0p25f meteorological file does not exist\n",
      "WARNING /hysplit-users/alicec/projects/bezy/data/20201020/hysplit.t18z.gfs0p25f meteorological file does not exist\n",
      "WARNING /hysplit-users/alicec/projects/bezy/data/20201021/hysplit.t00z.gfs0p25f meteorological file does not exist\n",
      "WARNING /hysplit-users/alicec/projects/bezy/data/20201021/hysplit.t06z.gfs0p25f meteorological file does not exist\n",
      "WARNING /hysplit-users/alicec/projects/bezy/data/20201021/hysplit.t12z.gfs0p25f meteorological file does not exist\n",
      "WARNING /hysplit-users/alicec/projects/bezy/data/20201021/hysplit.t18z.gfs0p25f meteorological file does not exist\n",
      "WARNING /hysplit-users/alicec/projects/bezy/data/20201022/hysplit.t00z.gfs0p25f meteorological file does not exist\n",
      "WARNING /hysplit-users/alicec/projects/bezy/data/20201022/hysplit.t06z.gfs0p25f meteorological file does not exist\n",
      "WARNING /hysplit-users/alicec/projects/bezy/data/20201020/hysplit.t12z.gfs0p25f meteorological file does not exist\n",
      "WARNING /hysplit-users/alicec/projects/bezy/data/20201020/hysplit.t18z.gfs0p25f meteorological file does not exist\n",
      "WARNING /hysplit-users/alicec/projects/bezy/data/20201021/hysplit.t00z.gfs0p25f meteorological file does not exist\n",
      "WARNING /hysplit-users/alicec/projects/bezy/data/20201021/hysplit.t06z.gfs0p25f meteorological file does not exist\n",
      "WARNING /hysplit-users/alicec/projects/bezy/data/20201021/hysplit.t12z.gfs0p25f meteorological file does not exist\n",
      "WARNING /hysplit-users/alicec/projects/bezy/data/20201021/hysplit.t18z.gfs0p25f meteorological file does not exist\n",
      "WARNING /hysplit-users/alicec/projects/bezy/data/20201022/hysplit.t00z.gfs0p25f meteorological file does not exist\n",
      "Looking in archive for met files\n",
      "running  /hysplit-users/alicec/projects/bezy/hysplit/exec/hycs_std bezyB\n",
      "in loop 0s procs 1\n",
      "in loop 30s procs 1\n",
      "in loop 60s procs 1\n",
      "in loop 90s procs 1\n",
      "in loop 120s procs 1\n",
      "in loop 150s procs 1\n",
      "in loop 180s procs 1\n",
      "in loop 210s procs 1\n",
      "in loop 240s procs 1\n",
      "in loop 270s procs 1\n",
      "in loop 300s procs 1\n",
      "in loop 330s procs 1\n",
      "in loop 360s procs 1\n",
      "in loop 390s procs 1\n",
      "in loop 420s procs 1\n",
      "in loop 450s procs 1\n",
      "in loop 480s procs 1\n",
      "in loop 510s procs 1\n",
      "in loop 540s procs 1\n",
      "in loop 570s procs 1\n",
      "in loop 600s procs 1\n",
      "in loop 630s procs 1\n",
      "in loop 660s procs 1\n",
      "in loop 690s procs 0\n",
      "HERE HERE HERE\n",
      "2020-10-22T00:00:00.000000000\n",
      "2020-10-22T01:00:00.000000000\n",
      "HERE /hysplit-users/alicec/projects/bezy/RunB/RunB_5_6_TFw5\n",
      "(6810, 67)\n",
      "N_ctrl 66\n",
      "output file /hysplit-users/alicec/projects/bezy/RunB/RunB_5_6_TFw5/runB4.tcm_bezyB.txt\n"
     ]
    },
    {
     "name": "stderr",
     "output_type": "stream",
     "text": [
      "/hysplit-users/alicec/utilhysplit/utilvolc/ash_inverse.py:829: VisibleDeprecationWarning: Creating an ndarray from ragged nested sequences (which is a list-or-tuple of lists-or-tuples-or ndarrays with different lengths or shapes) is deprecated. If you meant to do this, you must specify 'dtype=object' when creating the ndarray.\n",
      "  self.latlist = np.array(latlist)\n",
      "/hysplit-users/alicec/utilhysplit/utilvolc/ash_inverse.py:830: VisibleDeprecationWarning: Creating an ndarray from ragged nested sequences (which is a list-or-tuple of lists-or-tuples-or ndarrays with different lengths or shapes) is deprecated. If you meant to do this, you must specify 'dtype=object' when creating the ndarray.\n",
      "  self.lonlist = np.array(lonlist)\n",
      "/hysplit-users/alicec/utilhysplit/utilvolc/ash_inverse.py:844: VisibleDeprecationWarning: Creating an ndarray from ragged nested sequences (which is a list-or-tuple of lists-or-tuples-or ndarrays with different lengths or shapes) is deprecated. If you meant to do this, you must specify 'dtype=object' when creating the ndarray.\n",
      "  self.latlist = np.array(latlist)\n",
      "/hysplit-users/alicec/utilhysplit/utilvolc/ash_inverse.py:845: VisibleDeprecationWarning: Creating an ndarray from ragged nested sequences (which is a list-or-tuple of lists-or-tuples-or ndarrays with different lengths or shapes) is deprecated. If you meant to do this, you must specify 'dtype=object' when creating the ndarray.\n",
      "  self.lonlist = np.array(lonlist)\n"
     ]
    },
    {
     "name": "stdout",
     "output_type": "stream",
     "text": [
      "bezyB\n"
     ]
    },
    {
     "name": "stderr",
     "output_type": "stream",
     "text": [
      "/hysplit-users/alicec/utilhysplit/utilvolc/ash_inverse.py:596: MatplotlibDeprecationWarning: Adding an axes using the same arguments as a previous axes currently reuses the earlier instance.  In a future version, a new instance will always be created and returned.  Meanwhile, this warning can be suppressed, and the future behavior ensured, by passing a unique label to each axes instance.\n",
      "  ax = fig.add_subplot(1,1,1)\n",
      "No meteorological files found /hysplit-users/alicec/projects/bezy/data/%Y%m%d/hysplit.t%Hz.gfs0p25f\n"
     ]
    },
    {
     "name": "stdout",
     "output_type": "stream",
     "text": [
      "saving to  /hysplit-users/alicec/projects/bezy/RunB/RunB_5_6_TFw5/RunB_5_6_TFw5.csv\n",
      "writing efile {} /hysplit-users/alicec/projects/bezy/RunB/RunB_5_6_TFw5/bezyB_emit.txt\n",
      "gfs0p25\n",
      "fcst str /pub/forecast/%Y%m%d/\n",
      "making control file  gfs0p25\n",
      "/hysplit-users/alicec/projects/bezy/data/\n",
      "fcst str /hysplit-users/alicec/projects/bezy/data/%Y%m%d/\n",
      "WARNING /hysplit-users/alicec/projects/bezy/data/20201021/hysplit.t18z.gfs0p25f meteorological file does not exist\n",
      "WARNING /hysplit-users/alicec/projects/bezy/data/20201022/hysplit.t00z.gfs0p25f meteorological file does not exist\n",
      "WARNING /hysplit-users/alicec/projects/bezy/data/20201022/hysplit.t06z.gfs0p25f meteorological file does not exist\n",
      "WARNING /hysplit-users/alicec/projects/bezy/data/20201022/hysplit.t12z.gfs0p25f meteorological file does not exist\n",
      "WARNING /hysplit-users/alicec/projects/bezy/data/20201022/hysplit.t18z.gfs0p25f meteorological file does not exist\n",
      "WARNING /hysplit-users/alicec/projects/bezy/data/20201023/hysplit.t00z.gfs0p25f meteorological file does not exist\n",
      "WARNING /hysplit-users/alicec/projects/bezy/data/20201023/hysplit.t06z.gfs0p25f meteorological file does not exist\n",
      "WARNING /hysplit-users/alicec/projects/bezy/data/20201021/hysplit.t12z.gfs0p25f meteorological file does not exist\n",
      "WARNING /hysplit-users/alicec/projects/bezy/data/20201021/hysplit.t18z.gfs0p25f meteorological file does not exist\n",
      "WARNING /hysplit-users/alicec/projects/bezy/data/20201022/hysplit.t00z.gfs0p25f meteorological file does not exist\n",
      "WARNING /hysplit-users/alicec/projects/bezy/data/20201022/hysplit.t06z.gfs0p25f meteorological file does not exist\n",
      "WARNING /hysplit-users/alicec/projects/bezy/data/20201022/hysplit.t12z.gfs0p25f meteorological file does not exist\n",
      "WARNING /hysplit-users/alicec/projects/bezy/data/20201022/hysplit.t18z.gfs0p25f meteorological file does not exist\n",
      "WARNING /hysplit-users/alicec/projects/bezy/data/20201023/hysplit.t00z.gfs0p25f meteorological file does not exist\n",
      "WARNING /hysplit-users/alicec/projects/bezy/data/20201021/hysplit.t06z.gfs0p25f meteorological file does not exist\n",
      "WARNING /hysplit-users/alicec/projects/bezy/data/20201021/hysplit.t12z.gfs0p25f meteorological file does not exist\n",
      "WARNING /hysplit-users/alicec/projects/bezy/data/20201021/hysplit.t18z.gfs0p25f meteorological file does not exist\n",
      "WARNING /hysplit-users/alicec/projects/bezy/data/20201022/hysplit.t00z.gfs0p25f meteorological file does not exist\n",
      "WARNING /hysplit-users/alicec/projects/bezy/data/20201022/hysplit.t06z.gfs0p25f meteorological file does not exist\n",
      "WARNING /hysplit-users/alicec/projects/bezy/data/20201022/hysplit.t12z.gfs0p25f meteorological file does not exist\n",
      "WARNING /hysplit-users/alicec/projects/bezy/data/20201022/hysplit.t18z.gfs0p25f meteorological file does not exist\n",
      "WARNING /hysplit-users/alicec/projects/bezy/data/20201021/hysplit.t00z.gfs0p25f meteorological file does not exist\n",
      "WARNING /hysplit-users/alicec/projects/bezy/data/20201021/hysplit.t06z.gfs0p25f meteorological file does not exist\n",
      "WARNING /hysplit-users/alicec/projects/bezy/data/20201021/hysplit.t12z.gfs0p25f meteorological file does not exist\n",
      "WARNING /hysplit-users/alicec/projects/bezy/data/20201021/hysplit.t18z.gfs0p25f meteorological file does not exist\n",
      "WARNING /hysplit-users/alicec/projects/bezy/data/20201022/hysplit.t00z.gfs0p25f meteorological file does not exist\n",
      "WARNING /hysplit-users/alicec/projects/bezy/data/20201022/hysplit.t06z.gfs0p25f meteorological file does not exist\n",
      "WARNING /hysplit-users/alicec/projects/bezy/data/20201022/hysplit.t12z.gfs0p25f meteorological file does not exist\n",
      "WARNING /hysplit-users/alicec/projects/bezy/data/20201020/hysplit.t18z.gfs0p25f meteorological file does not exist\n",
      "WARNING /hysplit-users/alicec/projects/bezy/data/20201021/hysplit.t00z.gfs0p25f meteorological file does not exist\n",
      "WARNING /hysplit-users/alicec/projects/bezy/data/20201021/hysplit.t06z.gfs0p25f meteorological file does not exist\n",
      "WARNING /hysplit-users/alicec/projects/bezy/data/20201021/hysplit.t12z.gfs0p25f meteorological file does not exist\n",
      "WARNING /hysplit-users/alicec/projects/bezy/data/20201021/hysplit.t18z.gfs0p25f meteorological file does not exist\n",
      "WARNING /hysplit-users/alicec/projects/bezy/data/20201022/hysplit.t00z.gfs0p25f meteorological file does not exist\n",
      "WARNING /hysplit-users/alicec/projects/bezy/data/20201022/hysplit.t06z.gfs0p25f meteorological file does not exist\n",
      "WARNING /hysplit-users/alicec/projects/bezy/data/20201020/hysplit.t12z.gfs0p25f meteorological file does not exist\n",
      "WARNING /hysplit-users/alicec/projects/bezy/data/20201020/hysplit.t18z.gfs0p25f meteorological file does not exist\n",
      "WARNING /hysplit-users/alicec/projects/bezy/data/20201021/hysplit.t00z.gfs0p25f meteorological file does not exist\n",
      "WARNING /hysplit-users/alicec/projects/bezy/data/20201021/hysplit.t06z.gfs0p25f meteorological file does not exist\n",
      "WARNING /hysplit-users/alicec/projects/bezy/data/20201021/hysplit.t12z.gfs0p25f meteorological file does not exist\n",
      "WARNING /hysplit-users/alicec/projects/bezy/data/20201021/hysplit.t18z.gfs0p25f meteorological file does not exist\n",
      "WARNING /hysplit-users/alicec/projects/bezy/data/20201022/hysplit.t00z.gfs0p25f meteorological file does not exist\n",
      "Looking in archive for met files\n",
      "running  /hysplit-users/alicec/projects/bezy/hysplit/exec/hycs_std bezyB\n",
      "in loop 0s procs 1\n",
      "in loop 30s procs 1\n",
      "in loop 60s procs 1\n",
      "in loop 90s procs 1\n",
      "in loop 120s procs 1\n",
      "in loop 150s procs 1\n",
      "in loop 180s procs 1\n",
      "in loop 210s procs 1\n",
      "in loop 240s procs 1\n",
      "in loop 270s procs 1\n",
      "in loop 300s procs 1\n",
      "in loop 330s procs 1\n",
      "in loop 360s procs 1\n",
      "in loop 390s procs 1\n",
      "in loop 420s procs 1\n",
      "in loop 450s procs 1\n",
      "in loop 480s procs 1\n",
      "in loop 510s procs 0\n",
      "HERE HERE HERE\n",
      "2020-10-22T01:00:00.000000000\n",
      "2020-10-22T02:00:00.000000000\n",
      "HERE /hysplit-users/alicec/projects/bezy/RunB/RunB_6_7_TFw5\n",
      "(8555, 67)\n",
      "N_ctrl 66\n",
      "output file /hysplit-users/alicec/projects/bezy/RunB/RunB_6_7_TFw5/runB4.tcm_bezyB.txt\n"
     ]
    },
    {
     "name": "stderr",
     "output_type": "stream",
     "text": [
      "/hysplit-users/alicec/utilhysplit/utilvolc/ash_inverse.py:829: VisibleDeprecationWarning: Creating an ndarray from ragged nested sequences (which is a list-or-tuple of lists-or-tuples-or ndarrays with different lengths or shapes) is deprecated. If you meant to do this, you must specify 'dtype=object' when creating the ndarray.\n",
      "  self.latlist = np.array(latlist)\n",
      "/hysplit-users/alicec/utilhysplit/utilvolc/ash_inverse.py:830: VisibleDeprecationWarning: Creating an ndarray from ragged nested sequences (which is a list-or-tuple of lists-or-tuples-or ndarrays with different lengths or shapes) is deprecated. If you meant to do this, you must specify 'dtype=object' when creating the ndarray.\n",
      "  self.lonlist = np.array(lonlist)\n",
      "/hysplit-users/alicec/utilhysplit/utilvolc/ash_inverse.py:844: VisibleDeprecationWarning: Creating an ndarray from ragged nested sequences (which is a list-or-tuple of lists-or-tuples-or ndarrays with different lengths or shapes) is deprecated. If you meant to do this, you must specify 'dtype=object' when creating the ndarray.\n",
      "  self.latlist = np.array(latlist)\n",
      "/hysplit-users/alicec/utilhysplit/utilvolc/ash_inverse.py:845: VisibleDeprecationWarning: Creating an ndarray from ragged nested sequences (which is a list-or-tuple of lists-or-tuples-or ndarrays with different lengths or shapes) is deprecated. If you meant to do this, you must specify 'dtype=object' when creating the ndarray.\n",
      "  self.lonlist = np.array(lonlist)\n"
     ]
    },
    {
     "name": "stdout",
     "output_type": "stream",
     "text": [
      "bezyB\n"
     ]
    },
    {
     "name": "stderr",
     "output_type": "stream",
     "text": [
      "/hysplit-users/alicec/utilhysplit/utilvolc/ash_inverse.py:596: MatplotlibDeprecationWarning: Adding an axes using the same arguments as a previous axes currently reuses the earlier instance.  In a future version, a new instance will always be created and returned.  Meanwhile, this warning can be suppressed, and the future behavior ensured, by passing a unique label to each axes instance.\n",
      "  ax = fig.add_subplot(1,1,1)\n",
      "No meteorological files found /hysplit-users/alicec/projects/bezy/data/%Y%m%d/hysplit.t%Hz.gfs0p25f\n"
     ]
    },
    {
     "name": "stdout",
     "output_type": "stream",
     "text": [
      "saving to  /hysplit-users/alicec/projects/bezy/RunB/RunB_6_7_TFw5/RunB_6_7_TFw5.csv\n",
      "writing efile {} /hysplit-users/alicec/projects/bezy/RunB/RunB_6_7_TFw5/bezyB_emit.txt\n",
      "gfs0p25\n",
      "fcst str /pub/forecast/%Y%m%d/\n",
      "making control file  gfs0p25\n",
      "/hysplit-users/alicec/projects/bezy/data/\n",
      "fcst str /hysplit-users/alicec/projects/bezy/data/%Y%m%d/\n",
      "WARNING /hysplit-users/alicec/projects/bezy/data/20201021/hysplit.t18z.gfs0p25f meteorological file does not exist\n",
      "WARNING /hysplit-users/alicec/projects/bezy/data/20201022/hysplit.t00z.gfs0p25f meteorological file does not exist\n",
      "WARNING /hysplit-users/alicec/projects/bezy/data/20201022/hysplit.t06z.gfs0p25f meteorological file does not exist\n",
      "WARNING /hysplit-users/alicec/projects/bezy/data/20201022/hysplit.t12z.gfs0p25f meteorological file does not exist\n",
      "WARNING /hysplit-users/alicec/projects/bezy/data/20201022/hysplit.t18z.gfs0p25f meteorological file does not exist\n",
      "WARNING /hysplit-users/alicec/projects/bezy/data/20201023/hysplit.t00z.gfs0p25f meteorological file does not exist\n",
      "WARNING /hysplit-users/alicec/projects/bezy/data/20201023/hysplit.t06z.gfs0p25f meteorological file does not exist\n",
      "WARNING /hysplit-users/alicec/projects/bezy/data/20201021/hysplit.t12z.gfs0p25f meteorological file does not exist\n",
      "WARNING /hysplit-users/alicec/projects/bezy/data/20201021/hysplit.t18z.gfs0p25f meteorological file does not exist\n",
      "WARNING /hysplit-users/alicec/projects/bezy/data/20201022/hysplit.t00z.gfs0p25f meteorological file does not exist\n",
      "WARNING /hysplit-users/alicec/projects/bezy/data/20201022/hysplit.t06z.gfs0p25f meteorological file does not exist\n",
      "WARNING /hysplit-users/alicec/projects/bezy/data/20201022/hysplit.t12z.gfs0p25f meteorological file does not exist\n",
      "WARNING /hysplit-users/alicec/projects/bezy/data/20201022/hysplit.t18z.gfs0p25f meteorological file does not exist\n",
      "WARNING /hysplit-users/alicec/projects/bezy/data/20201023/hysplit.t00z.gfs0p25f meteorological file does not exist\n",
      "WARNING /hysplit-users/alicec/projects/bezy/data/20201021/hysplit.t06z.gfs0p25f meteorological file does not exist\n",
      "WARNING /hysplit-users/alicec/projects/bezy/data/20201021/hysplit.t12z.gfs0p25f meteorological file does not exist\n",
      "WARNING /hysplit-users/alicec/projects/bezy/data/20201021/hysplit.t18z.gfs0p25f meteorological file does not exist\n",
      "WARNING /hysplit-users/alicec/projects/bezy/data/20201022/hysplit.t00z.gfs0p25f meteorological file does not exist\n",
      "WARNING /hysplit-users/alicec/projects/bezy/data/20201022/hysplit.t06z.gfs0p25f meteorological file does not exist\n",
      "WARNING /hysplit-users/alicec/projects/bezy/data/20201022/hysplit.t12z.gfs0p25f meteorological file does not exist\n",
      "WARNING /hysplit-users/alicec/projects/bezy/data/20201022/hysplit.t18z.gfs0p25f meteorological file does not exist\n",
      "WARNING /hysplit-users/alicec/projects/bezy/data/20201021/hysplit.t00z.gfs0p25f meteorological file does not exist\n",
      "WARNING /hysplit-users/alicec/projects/bezy/data/20201021/hysplit.t06z.gfs0p25f meteorological file does not exist\n",
      "WARNING /hysplit-users/alicec/projects/bezy/data/20201021/hysplit.t12z.gfs0p25f meteorological file does not exist\n",
      "WARNING /hysplit-users/alicec/projects/bezy/data/20201021/hysplit.t18z.gfs0p25f meteorological file does not exist\n",
      "WARNING /hysplit-users/alicec/projects/bezy/data/20201022/hysplit.t00z.gfs0p25f meteorological file does not exist\n",
      "WARNING /hysplit-users/alicec/projects/bezy/data/20201022/hysplit.t06z.gfs0p25f meteorological file does not exist\n",
      "WARNING /hysplit-users/alicec/projects/bezy/data/20201022/hysplit.t12z.gfs0p25f meteorological file does not exist\n",
      "WARNING /hysplit-users/alicec/projects/bezy/data/20201020/hysplit.t18z.gfs0p25f meteorological file does not exist\n",
      "WARNING /hysplit-users/alicec/projects/bezy/data/20201021/hysplit.t00z.gfs0p25f meteorological file does not exist\n",
      "WARNING /hysplit-users/alicec/projects/bezy/data/20201021/hysplit.t06z.gfs0p25f meteorological file does not exist\n",
      "WARNING /hysplit-users/alicec/projects/bezy/data/20201021/hysplit.t12z.gfs0p25f meteorological file does not exist\n",
      "WARNING /hysplit-users/alicec/projects/bezy/data/20201021/hysplit.t18z.gfs0p25f meteorological file does not exist\n",
      "WARNING /hysplit-users/alicec/projects/bezy/data/20201022/hysplit.t00z.gfs0p25f meteorological file does not exist\n",
      "WARNING /hysplit-users/alicec/projects/bezy/data/20201022/hysplit.t06z.gfs0p25f meteorological file does not exist\n",
      "WARNING /hysplit-users/alicec/projects/bezy/data/20201020/hysplit.t12z.gfs0p25f meteorological file does not exist\n",
      "WARNING /hysplit-users/alicec/projects/bezy/data/20201020/hysplit.t18z.gfs0p25f meteorological file does not exist\n",
      "WARNING /hysplit-users/alicec/projects/bezy/data/20201021/hysplit.t00z.gfs0p25f meteorological file does not exist\n",
      "WARNING /hysplit-users/alicec/projects/bezy/data/20201021/hysplit.t06z.gfs0p25f meteorological file does not exist\n",
      "WARNING /hysplit-users/alicec/projects/bezy/data/20201021/hysplit.t12z.gfs0p25f meteorological file does not exist\n",
      "WARNING /hysplit-users/alicec/projects/bezy/data/20201021/hysplit.t18z.gfs0p25f meteorological file does not exist\n",
      "WARNING /hysplit-users/alicec/projects/bezy/data/20201022/hysplit.t00z.gfs0p25f meteorological file does not exist\n",
      "Looking in archive for met files\n",
      "running  /hysplit-users/alicec/projects/bezy/hysplit/exec/hycs_std bezyB\n",
      "in loop 0s procs 1\n",
      "in loop 30s procs 1\n",
      "in loop 60s procs 1\n",
      "in loop 90s procs 1\n",
      "in loop 120s procs 1\n",
      "in loop 150s procs 1\n",
      "in loop 180s procs 1\n",
      "in loop 210s procs 1\n",
      "in loop 240s procs 1\n",
      "in loop 270s procs 1\n",
      "in loop 300s procs 1\n",
      "in loop 330s procs 1\n",
      "in loop 360s procs 1\n",
      "in loop 390s procs 1\n",
      "in loop 420s procs 1\n",
      "in loop 450s procs 1\n",
      "in loop 480s procs 1\n",
      "in loop 510s procs 1\n",
      "in loop 540s procs 1\n",
      "in loop 570s procs 1\n",
      "in loop 600s procs 1\n",
      "in loop 630s procs 0\n",
      "HERE HERE HERE\n",
      "2020-10-22T02:00:00.000000000\n",
      "2020-10-22T03:00:00.000000000\n",
      "HERE /hysplit-users/alicec/projects/bezy/RunB/RunB_7_8_TFw5\n",
      "(10496, 67)\n",
      "N_ctrl 66\n",
      "output file /hysplit-users/alicec/projects/bezy/RunB/RunB_7_8_TFw5/runB4.tcm_bezyB.txt\n"
     ]
    },
    {
     "name": "stderr",
     "output_type": "stream",
     "text": [
      "/hysplit-users/alicec/utilhysplit/utilvolc/ash_inverse.py:829: VisibleDeprecationWarning: Creating an ndarray from ragged nested sequences (which is a list-or-tuple of lists-or-tuples-or ndarrays with different lengths or shapes) is deprecated. If you meant to do this, you must specify 'dtype=object' when creating the ndarray.\n",
      "  self.latlist = np.array(latlist)\n",
      "/hysplit-users/alicec/utilhysplit/utilvolc/ash_inverse.py:830: VisibleDeprecationWarning: Creating an ndarray from ragged nested sequences (which is a list-or-tuple of lists-or-tuples-or ndarrays with different lengths or shapes) is deprecated. If you meant to do this, you must specify 'dtype=object' when creating the ndarray.\n",
      "  self.lonlist = np.array(lonlist)\n",
      "/hysplit-users/alicec/utilhysplit/utilvolc/ash_inverse.py:844: VisibleDeprecationWarning: Creating an ndarray from ragged nested sequences (which is a list-or-tuple of lists-or-tuples-or ndarrays with different lengths or shapes) is deprecated. If you meant to do this, you must specify 'dtype=object' when creating the ndarray.\n",
      "  self.latlist = np.array(latlist)\n",
      "/hysplit-users/alicec/utilhysplit/utilvolc/ash_inverse.py:845: VisibleDeprecationWarning: Creating an ndarray from ragged nested sequences (which is a list-or-tuple of lists-or-tuples-or ndarrays with different lengths or shapes) is deprecated. If you meant to do this, you must specify 'dtype=object' when creating the ndarray.\n",
      "  self.lonlist = np.array(lonlist)\n"
     ]
    },
    {
     "name": "stdout",
     "output_type": "stream",
     "text": [
      "bezyB\n"
     ]
    },
    {
     "name": "stderr",
     "output_type": "stream",
     "text": [
      "/hysplit-users/alicec/utilhysplit/utilvolc/ash_inverse.py:596: MatplotlibDeprecationWarning: Adding an axes using the same arguments as a previous axes currently reuses the earlier instance.  In a future version, a new instance will always be created and returned.  Meanwhile, this warning can be suppressed, and the future behavior ensured, by passing a unique label to each axes instance.\n",
      "  ax = fig.add_subplot(1,1,1)\n",
      "No meteorological files found /hysplit-users/alicec/projects/bezy/data/%Y%m%d/hysplit.t%Hz.gfs0p25f\n"
     ]
    },
    {
     "name": "stdout",
     "output_type": "stream",
     "text": [
      "saving to  /hysplit-users/alicec/projects/bezy/RunB/RunB_7_8_TFw5/RunB_7_8_TFw5.csv\n",
      "writing efile {} /hysplit-users/alicec/projects/bezy/RunB/RunB_7_8_TFw5/bezyB_emit.txt\n",
      "gfs0p25\n",
      "fcst str /pub/forecast/%Y%m%d/\n",
      "making control file  gfs0p25\n",
      "/hysplit-users/alicec/projects/bezy/data/\n",
      "fcst str /hysplit-users/alicec/projects/bezy/data/%Y%m%d/\n",
      "WARNING /hysplit-users/alicec/projects/bezy/data/20201021/hysplit.t18z.gfs0p25f meteorological file does not exist\n",
      "WARNING /hysplit-users/alicec/projects/bezy/data/20201022/hysplit.t00z.gfs0p25f meteorological file does not exist\n",
      "WARNING /hysplit-users/alicec/projects/bezy/data/20201022/hysplit.t06z.gfs0p25f meteorological file does not exist\n",
      "WARNING /hysplit-users/alicec/projects/bezy/data/20201022/hysplit.t12z.gfs0p25f meteorological file does not exist\n",
      "WARNING /hysplit-users/alicec/projects/bezy/data/20201022/hysplit.t18z.gfs0p25f meteorological file does not exist\n",
      "WARNING /hysplit-users/alicec/projects/bezy/data/20201023/hysplit.t00z.gfs0p25f meteorological file does not exist\n",
      "WARNING /hysplit-users/alicec/projects/bezy/data/20201023/hysplit.t06z.gfs0p25f meteorological file does not exist\n",
      "WARNING /hysplit-users/alicec/projects/bezy/data/20201021/hysplit.t12z.gfs0p25f meteorological file does not exist\n",
      "WARNING /hysplit-users/alicec/projects/bezy/data/20201021/hysplit.t18z.gfs0p25f meteorological file does not exist\n",
      "WARNING /hysplit-users/alicec/projects/bezy/data/20201022/hysplit.t00z.gfs0p25f meteorological file does not exist\n",
      "WARNING /hysplit-users/alicec/projects/bezy/data/20201022/hysplit.t06z.gfs0p25f meteorological file does not exist\n",
      "WARNING /hysplit-users/alicec/projects/bezy/data/20201022/hysplit.t12z.gfs0p25f meteorological file does not exist\n",
      "WARNING /hysplit-users/alicec/projects/bezy/data/20201022/hysplit.t18z.gfs0p25f meteorological file does not exist\n",
      "WARNING /hysplit-users/alicec/projects/bezy/data/20201023/hysplit.t00z.gfs0p25f meteorological file does not exist\n",
      "WARNING /hysplit-users/alicec/projects/bezy/data/20201021/hysplit.t06z.gfs0p25f meteorological file does not exist\n",
      "WARNING /hysplit-users/alicec/projects/bezy/data/20201021/hysplit.t12z.gfs0p25f meteorological file does not exist\n",
      "WARNING /hysplit-users/alicec/projects/bezy/data/20201021/hysplit.t18z.gfs0p25f meteorological file does not exist\n",
      "WARNING /hysplit-users/alicec/projects/bezy/data/20201022/hysplit.t00z.gfs0p25f meteorological file does not exist\n",
      "WARNING /hysplit-users/alicec/projects/bezy/data/20201022/hysplit.t06z.gfs0p25f meteorological file does not exist\n",
      "WARNING /hysplit-users/alicec/projects/bezy/data/20201022/hysplit.t12z.gfs0p25f meteorological file does not exist\n",
      "WARNING /hysplit-users/alicec/projects/bezy/data/20201022/hysplit.t18z.gfs0p25f meteorological file does not exist\n",
      "WARNING /hysplit-users/alicec/projects/bezy/data/20201021/hysplit.t00z.gfs0p25f meteorological file does not exist\n",
      "WARNING /hysplit-users/alicec/projects/bezy/data/20201021/hysplit.t06z.gfs0p25f meteorological file does not exist\n",
      "WARNING /hysplit-users/alicec/projects/bezy/data/20201021/hysplit.t12z.gfs0p25f meteorological file does not exist\n",
      "WARNING /hysplit-users/alicec/projects/bezy/data/20201021/hysplit.t18z.gfs0p25f meteorological file does not exist\n",
      "WARNING /hysplit-users/alicec/projects/bezy/data/20201022/hysplit.t00z.gfs0p25f meteorological file does not exist\n",
      "WARNING /hysplit-users/alicec/projects/bezy/data/20201022/hysplit.t06z.gfs0p25f meteorological file does not exist\n",
      "WARNING /hysplit-users/alicec/projects/bezy/data/20201022/hysplit.t12z.gfs0p25f meteorological file does not exist\n",
      "WARNING /hysplit-users/alicec/projects/bezy/data/20201020/hysplit.t18z.gfs0p25f meteorological file does not exist\n",
      "WARNING /hysplit-users/alicec/projects/bezy/data/20201021/hysplit.t00z.gfs0p25f meteorological file does not exist\n",
      "WARNING /hysplit-users/alicec/projects/bezy/data/20201021/hysplit.t06z.gfs0p25f meteorological file does not exist\n",
      "WARNING /hysplit-users/alicec/projects/bezy/data/20201021/hysplit.t12z.gfs0p25f meteorological file does not exist\n",
      "WARNING /hysplit-users/alicec/projects/bezy/data/20201021/hysplit.t18z.gfs0p25f meteorological file does not exist\n",
      "WARNING /hysplit-users/alicec/projects/bezy/data/20201022/hysplit.t00z.gfs0p25f meteorological file does not exist\n",
      "WARNING /hysplit-users/alicec/projects/bezy/data/20201022/hysplit.t06z.gfs0p25f meteorological file does not exist\n",
      "WARNING /hysplit-users/alicec/projects/bezy/data/20201020/hysplit.t12z.gfs0p25f meteorological file does not exist\n",
      "WARNING /hysplit-users/alicec/projects/bezy/data/20201020/hysplit.t18z.gfs0p25f meteorological file does not exist\n",
      "WARNING /hysplit-users/alicec/projects/bezy/data/20201021/hysplit.t00z.gfs0p25f meteorological file does not exist\n",
      "WARNING /hysplit-users/alicec/projects/bezy/data/20201021/hysplit.t06z.gfs0p25f meteorological file does not exist\n",
      "WARNING /hysplit-users/alicec/projects/bezy/data/20201021/hysplit.t12z.gfs0p25f meteorological file does not exist\n",
      "WARNING /hysplit-users/alicec/projects/bezy/data/20201021/hysplit.t18z.gfs0p25f meteorological file does not exist\n",
      "WARNING /hysplit-users/alicec/projects/bezy/data/20201022/hysplit.t00z.gfs0p25f meteorological file does not exist\n",
      "Looking in archive for met files\n",
      "running  /hysplit-users/alicec/projects/bezy/hysplit/exec/hycs_std bezyB\n",
      "in loop 0s procs 1\n",
      "in loop 30s procs 1\n",
      "in loop 60s procs 1\n",
      "in loop 90s procs 1\n",
      "in loop 120s procs 1\n",
      "in loop 150s procs 1\n",
      "in loop 180s procs 1\n",
      "in loop 210s procs 1\n",
      "in loop 240s procs 1\n",
      "in loop 270s procs 1\n",
      "in loop 300s procs 1\n",
      "in loop 330s procs 1\n",
      "in loop 360s procs 1\n",
      "in loop 390s procs 1\n",
      "in loop 420s procs 1\n",
      "in loop 450s procs 1\n",
      "in loop 480s procs 1\n",
      "in loop 510s procs 1\n",
      "in loop 540s procs 1\n",
      "in loop 570s procs 1\n",
      "in loop 600s procs 0\n",
      "HERE HERE HERE\n",
      "2020-10-22T03:00:00.000000000\n",
      "2020-10-22T04:00:00.000000000\n",
      "HERE /hysplit-users/alicec/projects/bezy/RunB/RunB_8_9_TFw5\n",
      "(12328, 67)\n",
      "N_ctrl 66\n",
      "output file /hysplit-users/alicec/projects/bezy/RunB/RunB_8_9_TFw5/runB4.tcm_bezyB.txt\n"
     ]
    },
    {
     "name": "stderr",
     "output_type": "stream",
     "text": [
      "/hysplit-users/alicec/utilhysplit/utilvolc/ash_inverse.py:829: VisibleDeprecationWarning: Creating an ndarray from ragged nested sequences (which is a list-or-tuple of lists-or-tuples-or ndarrays with different lengths or shapes) is deprecated. If you meant to do this, you must specify 'dtype=object' when creating the ndarray.\n",
      "  self.latlist = np.array(latlist)\n",
      "/hysplit-users/alicec/utilhysplit/utilvolc/ash_inverse.py:830: VisibleDeprecationWarning: Creating an ndarray from ragged nested sequences (which is a list-or-tuple of lists-or-tuples-or ndarrays with different lengths or shapes) is deprecated. If you meant to do this, you must specify 'dtype=object' when creating the ndarray.\n",
      "  self.lonlist = np.array(lonlist)\n",
      "/hysplit-users/alicec/utilhysplit/utilvolc/ash_inverse.py:844: VisibleDeprecationWarning: Creating an ndarray from ragged nested sequences (which is a list-or-tuple of lists-or-tuples-or ndarrays with different lengths or shapes) is deprecated. If you meant to do this, you must specify 'dtype=object' when creating the ndarray.\n",
      "  self.latlist = np.array(latlist)\n",
      "/hysplit-users/alicec/utilhysplit/utilvolc/ash_inverse.py:845: VisibleDeprecationWarning: Creating an ndarray from ragged nested sequences (which is a list-or-tuple of lists-or-tuples-or ndarrays with different lengths or shapes) is deprecated. If you meant to do this, you must specify 'dtype=object' when creating the ndarray.\n",
      "  self.lonlist = np.array(lonlist)\n"
     ]
    },
    {
     "name": "stdout",
     "output_type": "stream",
     "text": [
      "bezyB\n"
     ]
    },
    {
     "name": "stderr",
     "output_type": "stream",
     "text": [
      "/hysplit-users/alicec/utilhysplit/utilvolc/ash_inverse.py:596: MatplotlibDeprecationWarning: Adding an axes using the same arguments as a previous axes currently reuses the earlier instance.  In a future version, a new instance will always be created and returned.  Meanwhile, this warning can be suppressed, and the future behavior ensured, by passing a unique label to each axes instance.\n",
      "  ax = fig.add_subplot(1,1,1)\n"
     ]
    },
    {
     "name": "stdout",
     "output_type": "stream",
     "text": [
      "saving to  /hysplit-users/alicec/projects/bezy/RunB/RunB_8_9_TFw5/RunB_8_9_TFw5.csv\n",
      "writing efile {} /hysplit-users/alicec/projects/bezy/RunB/RunB_8_9_TFw5/bezyB_emit.txt\n"
     ]
    },
    {
     "name": "stderr",
     "output_type": "stream",
     "text": [
      "No meteorological files found /hysplit-users/alicec/projects/bezy/data/%Y%m%d/hysplit.t%Hz.gfs0p25f\n"
     ]
    },
    {
     "name": "stdout",
     "output_type": "stream",
     "text": [
      "gfs0p25\n",
      "fcst str /pub/forecast/%Y%m%d/\n",
      "making control file  gfs0p25\n",
      "/hysplit-users/alicec/projects/bezy/data/\n",
      "fcst str /hysplit-users/alicec/projects/bezy/data/%Y%m%d/\n",
      "WARNING /hysplit-users/alicec/projects/bezy/data/20201021/hysplit.t18z.gfs0p25f meteorological file does not exist\n",
      "WARNING /hysplit-users/alicec/projects/bezy/data/20201022/hysplit.t00z.gfs0p25f meteorological file does not exist\n",
      "WARNING /hysplit-users/alicec/projects/bezy/data/20201022/hysplit.t06z.gfs0p25f meteorological file does not exist\n",
      "WARNING /hysplit-users/alicec/projects/bezy/data/20201022/hysplit.t12z.gfs0p25f meteorological file does not exist\n",
      "WARNING /hysplit-users/alicec/projects/bezy/data/20201022/hysplit.t18z.gfs0p25f meteorological file does not exist\n",
      "WARNING /hysplit-users/alicec/projects/bezy/data/20201023/hysplit.t00z.gfs0p25f meteorological file does not exist\n",
      "WARNING /hysplit-users/alicec/projects/bezy/data/20201023/hysplit.t06z.gfs0p25f meteorological file does not exist\n",
      "WARNING /hysplit-users/alicec/projects/bezy/data/20201021/hysplit.t12z.gfs0p25f meteorological file does not exist\n",
      "WARNING /hysplit-users/alicec/projects/bezy/data/20201021/hysplit.t18z.gfs0p25f meteorological file does not exist\n",
      "WARNING /hysplit-users/alicec/projects/bezy/data/20201022/hysplit.t00z.gfs0p25f meteorological file does not exist\n",
      "WARNING /hysplit-users/alicec/projects/bezy/data/20201022/hysplit.t06z.gfs0p25f meteorological file does not exist\n",
      "WARNING /hysplit-users/alicec/projects/bezy/data/20201022/hysplit.t12z.gfs0p25f meteorological file does not exist\n",
      "WARNING /hysplit-users/alicec/projects/bezy/data/20201022/hysplit.t18z.gfs0p25f meteorological file does not exist\n",
      "WARNING /hysplit-users/alicec/projects/bezy/data/20201023/hysplit.t00z.gfs0p25f meteorological file does not exist\n",
      "WARNING /hysplit-users/alicec/projects/bezy/data/20201021/hysplit.t06z.gfs0p25f meteorological file does not exist\n",
      "WARNING /hysplit-users/alicec/projects/bezy/data/20201021/hysplit.t12z.gfs0p25f meteorological file does not exist\n",
      "WARNING /hysplit-users/alicec/projects/bezy/data/20201021/hysplit.t18z.gfs0p25f meteorological file does not exist\n",
      "WARNING /hysplit-users/alicec/projects/bezy/data/20201022/hysplit.t00z.gfs0p25f meteorological file does not exist\n",
      "WARNING /hysplit-users/alicec/projects/bezy/data/20201022/hysplit.t06z.gfs0p25f meteorological file does not exist\n",
      "WARNING /hysplit-users/alicec/projects/bezy/data/20201022/hysplit.t12z.gfs0p25f meteorological file does not exist\n",
      "WARNING /hysplit-users/alicec/projects/bezy/data/20201022/hysplit.t18z.gfs0p25f meteorological file does not exist\n",
      "WARNING /hysplit-users/alicec/projects/bezy/data/20201021/hysplit.t00z.gfs0p25f meteorological file does not exist\n",
      "WARNING /hysplit-users/alicec/projects/bezy/data/20201021/hysplit.t06z.gfs0p25f meteorological file does not exist\n",
      "WARNING /hysplit-users/alicec/projects/bezy/data/20201021/hysplit.t12z.gfs0p25f meteorological file does not exist\n",
      "WARNING /hysplit-users/alicec/projects/bezy/data/20201021/hysplit.t18z.gfs0p25f meteorological file does not exist\n",
      "WARNING /hysplit-users/alicec/projects/bezy/data/20201022/hysplit.t00z.gfs0p25f meteorological file does not exist\n",
      "WARNING /hysplit-users/alicec/projects/bezy/data/20201022/hysplit.t06z.gfs0p25f meteorological file does not exist\n",
      "WARNING /hysplit-users/alicec/projects/bezy/data/20201022/hysplit.t12z.gfs0p25f meteorological file does not exist\n",
      "WARNING /hysplit-users/alicec/projects/bezy/data/20201020/hysplit.t18z.gfs0p25f meteorological file does not exist\n",
      "WARNING /hysplit-users/alicec/projects/bezy/data/20201021/hysplit.t00z.gfs0p25f meteorological file does not exist\n",
      "WARNING /hysplit-users/alicec/projects/bezy/data/20201021/hysplit.t06z.gfs0p25f meteorological file does not exist\n",
      "WARNING /hysplit-users/alicec/projects/bezy/data/20201021/hysplit.t12z.gfs0p25f meteorological file does not exist\n",
      "WARNING /hysplit-users/alicec/projects/bezy/data/20201021/hysplit.t18z.gfs0p25f meteorological file does not exist\n",
      "WARNING /hysplit-users/alicec/projects/bezy/data/20201022/hysplit.t00z.gfs0p25f meteorological file does not exist\n",
      "WARNING /hysplit-users/alicec/projects/bezy/data/20201022/hysplit.t06z.gfs0p25f meteorological file does not exist\n",
      "WARNING /hysplit-users/alicec/projects/bezy/data/20201020/hysplit.t12z.gfs0p25f meteorological file does not exist\n",
      "WARNING /hysplit-users/alicec/projects/bezy/data/20201020/hysplit.t18z.gfs0p25f meteorological file does not exist\n",
      "WARNING /hysplit-users/alicec/projects/bezy/data/20201021/hysplit.t00z.gfs0p25f meteorological file does not exist\n",
      "WARNING /hysplit-users/alicec/projects/bezy/data/20201021/hysplit.t06z.gfs0p25f meteorological file does not exist\n",
      "WARNING /hysplit-users/alicec/projects/bezy/data/20201021/hysplit.t12z.gfs0p25f meteorological file does not exist\n",
      "WARNING /hysplit-users/alicec/projects/bezy/data/20201021/hysplit.t18z.gfs0p25f meteorological file does not exist\n",
      "WARNING /hysplit-users/alicec/projects/bezy/data/20201022/hysplit.t00z.gfs0p25f meteorological file does not exist\n",
      "Looking in archive for met files\n",
      "running  /hysplit-users/alicec/projects/bezy/hysplit/exec/hycs_std bezyB\n",
      "in loop 0s procs 1\n",
      "in loop 30s procs 1\n",
      "in loop 60s procs 1\n",
      "in loop 90s procs 1\n",
      "in loop 120s procs 1\n",
      "in loop 150s procs 1\n",
      "in loop 180s procs 1\n",
      "in loop 210s procs 1\n",
      "in loop 240s procs 1\n",
      "in loop 270s procs 1\n",
      "in loop 300s procs 1\n",
      "in loop 330s procs 1\n",
      "in loop 360s procs 1\n",
      "in loop 390s procs 1\n",
      "in loop 420s procs 1\n",
      "in loop 450s procs 1\n",
      "in loop 480s procs 0\n",
      "HERE HERE HERE\n",
      "2020-10-22T04:00:00.000000000\n",
      "2020-10-22T05:00:00.000000000\n",
      "HERE /hysplit-users/alicec/projects/bezy/RunB/RunB_9_10_TFw5\n",
      "(14420, 67)\n",
      "N_ctrl 66\n",
      "output file /hysplit-users/alicec/projects/bezy/RunB/RunB_9_10_TFw5/runB4.tcm_bezyB.txt\n"
     ]
    },
    {
     "name": "stderr",
     "output_type": "stream",
     "text": [
      "/hysplit-users/alicec/utilhysplit/utilvolc/ash_inverse.py:829: VisibleDeprecationWarning: Creating an ndarray from ragged nested sequences (which is a list-or-tuple of lists-or-tuples-or ndarrays with different lengths or shapes) is deprecated. If you meant to do this, you must specify 'dtype=object' when creating the ndarray.\n",
      "  self.latlist = np.array(latlist)\n",
      "/hysplit-users/alicec/utilhysplit/utilvolc/ash_inverse.py:830: VisibleDeprecationWarning: Creating an ndarray from ragged nested sequences (which is a list-or-tuple of lists-or-tuples-or ndarrays with different lengths or shapes) is deprecated. If you meant to do this, you must specify 'dtype=object' when creating the ndarray.\n",
      "  self.lonlist = np.array(lonlist)\n",
      "/hysplit-users/alicec/utilhysplit/utilvolc/ash_inverse.py:844: VisibleDeprecationWarning: Creating an ndarray from ragged nested sequences (which is a list-or-tuple of lists-or-tuples-or ndarrays with different lengths or shapes) is deprecated. If you meant to do this, you must specify 'dtype=object' when creating the ndarray.\n",
      "  self.latlist = np.array(latlist)\n",
      "/hysplit-users/alicec/utilhysplit/utilvolc/ash_inverse.py:845: VisibleDeprecationWarning: Creating an ndarray from ragged nested sequences (which is a list-or-tuple of lists-or-tuples-or ndarrays with different lengths or shapes) is deprecated. If you meant to do this, you must specify 'dtype=object' when creating the ndarray.\n",
      "  self.lonlist = np.array(lonlist)\n"
     ]
    },
    {
     "name": "stdout",
     "output_type": "stream",
     "text": [
      "bezyB\n"
     ]
    },
    {
     "name": "stderr",
     "output_type": "stream",
     "text": [
      "/hysplit-users/alicec/utilhysplit/utilvolc/ash_inverse.py:596: MatplotlibDeprecationWarning: Adding an axes using the same arguments as a previous axes currently reuses the earlier instance.  In a future version, a new instance will always be created and returned.  Meanwhile, this warning can be suppressed, and the future behavior ensured, by passing a unique label to each axes instance.\n",
      "  ax = fig.add_subplot(1,1,1)\n"
     ]
    },
    {
     "name": "stdout",
     "output_type": "stream",
     "text": [
      "saving to  /hysplit-users/alicec/projects/bezy/RunB/RunB_9_10_TFw5/RunB_9_10_TFw5.csv\n",
      "writing efile {} /hysplit-users/alicec/projects/bezy/RunB/RunB_9_10_TFw5/bezyB_emit.txt\n"
     ]
    },
    {
     "name": "stderr",
     "output_type": "stream",
     "text": [
      "No meteorological files found /hysplit-users/alicec/projects/bezy/data/%Y%m%d/hysplit.t%Hz.gfs0p25f\n"
     ]
    },
    {
     "name": "stdout",
     "output_type": "stream",
     "text": [
      "gfs0p25\n",
      "fcst str /pub/forecast/%Y%m%d/\n",
      "making control file  gfs0p25\n",
      "/hysplit-users/alicec/projects/bezy/data/\n",
      "fcst str /hysplit-users/alicec/projects/bezy/data/%Y%m%d/\n",
      "WARNING /hysplit-users/alicec/projects/bezy/data/20201021/hysplit.t18z.gfs0p25f meteorological file does not exist\n",
      "WARNING /hysplit-users/alicec/projects/bezy/data/20201022/hysplit.t00z.gfs0p25f meteorological file does not exist\n",
      "WARNING /hysplit-users/alicec/projects/bezy/data/20201022/hysplit.t06z.gfs0p25f meteorological file does not exist\n",
      "WARNING /hysplit-users/alicec/projects/bezy/data/20201022/hysplit.t12z.gfs0p25f meteorological file does not exist\n",
      "WARNING /hysplit-users/alicec/projects/bezy/data/20201022/hysplit.t18z.gfs0p25f meteorological file does not exist\n",
      "WARNING /hysplit-users/alicec/projects/bezy/data/20201023/hysplit.t00z.gfs0p25f meteorological file does not exist\n",
      "WARNING /hysplit-users/alicec/projects/bezy/data/20201023/hysplit.t06z.gfs0p25f meteorological file does not exist\n",
      "WARNING /hysplit-users/alicec/projects/bezy/data/20201021/hysplit.t12z.gfs0p25f meteorological file does not exist\n",
      "WARNING /hysplit-users/alicec/projects/bezy/data/20201021/hysplit.t18z.gfs0p25f meteorological file does not exist\n",
      "WARNING /hysplit-users/alicec/projects/bezy/data/20201022/hysplit.t00z.gfs0p25f meteorological file does not exist\n",
      "WARNING /hysplit-users/alicec/projects/bezy/data/20201022/hysplit.t06z.gfs0p25f meteorological file does not exist\n",
      "WARNING /hysplit-users/alicec/projects/bezy/data/20201022/hysplit.t12z.gfs0p25f meteorological file does not exist\n",
      "WARNING /hysplit-users/alicec/projects/bezy/data/20201022/hysplit.t18z.gfs0p25f meteorological file does not exist\n",
      "WARNING /hysplit-users/alicec/projects/bezy/data/20201023/hysplit.t00z.gfs0p25f meteorological file does not exist\n",
      "WARNING /hysplit-users/alicec/projects/bezy/data/20201021/hysplit.t06z.gfs0p25f meteorological file does not exist\n",
      "WARNING /hysplit-users/alicec/projects/bezy/data/20201021/hysplit.t12z.gfs0p25f meteorological file does not exist\n",
      "WARNING /hysplit-users/alicec/projects/bezy/data/20201021/hysplit.t18z.gfs0p25f meteorological file does not exist\n",
      "WARNING /hysplit-users/alicec/projects/bezy/data/20201022/hysplit.t00z.gfs0p25f meteorological file does not exist\n",
      "WARNING /hysplit-users/alicec/projects/bezy/data/20201022/hysplit.t06z.gfs0p25f meteorological file does not exist\n",
      "WARNING /hysplit-users/alicec/projects/bezy/data/20201022/hysplit.t12z.gfs0p25f meteorological file does not exist\n",
      "WARNING /hysplit-users/alicec/projects/bezy/data/20201022/hysplit.t18z.gfs0p25f meteorological file does not exist\n",
      "WARNING /hysplit-users/alicec/projects/bezy/data/20201021/hysplit.t00z.gfs0p25f meteorological file does not exist\n",
      "WARNING /hysplit-users/alicec/projects/bezy/data/20201021/hysplit.t06z.gfs0p25f meteorological file does not exist\n",
      "WARNING /hysplit-users/alicec/projects/bezy/data/20201021/hysplit.t12z.gfs0p25f meteorological file does not exist\n",
      "WARNING /hysplit-users/alicec/projects/bezy/data/20201021/hysplit.t18z.gfs0p25f meteorological file does not exist\n",
      "WARNING /hysplit-users/alicec/projects/bezy/data/20201022/hysplit.t00z.gfs0p25f meteorological file does not exist\n",
      "WARNING /hysplit-users/alicec/projects/bezy/data/20201022/hysplit.t06z.gfs0p25f meteorological file does not exist\n",
      "WARNING /hysplit-users/alicec/projects/bezy/data/20201022/hysplit.t12z.gfs0p25f meteorological file does not exist\n",
      "WARNING /hysplit-users/alicec/projects/bezy/data/20201020/hysplit.t18z.gfs0p25f meteorological file does not exist\n",
      "WARNING /hysplit-users/alicec/projects/bezy/data/20201021/hysplit.t00z.gfs0p25f meteorological file does not exist\n",
      "WARNING /hysplit-users/alicec/projects/bezy/data/20201021/hysplit.t06z.gfs0p25f meteorological file does not exist\n",
      "WARNING /hysplit-users/alicec/projects/bezy/data/20201021/hysplit.t12z.gfs0p25f meteorological file does not exist\n",
      "WARNING /hysplit-users/alicec/projects/bezy/data/20201021/hysplit.t18z.gfs0p25f meteorological file does not exist\n",
      "WARNING /hysplit-users/alicec/projects/bezy/data/20201022/hysplit.t00z.gfs0p25f meteorological file does not exist\n",
      "WARNING /hysplit-users/alicec/projects/bezy/data/20201022/hysplit.t06z.gfs0p25f meteorological file does not exist\n",
      "WARNING /hysplit-users/alicec/projects/bezy/data/20201020/hysplit.t12z.gfs0p25f meteorological file does not exist\n",
      "WARNING /hysplit-users/alicec/projects/bezy/data/20201020/hysplit.t18z.gfs0p25f meteorological file does not exist\n",
      "WARNING /hysplit-users/alicec/projects/bezy/data/20201021/hysplit.t00z.gfs0p25f meteorological file does not exist\n",
      "WARNING /hysplit-users/alicec/projects/bezy/data/20201021/hysplit.t06z.gfs0p25f meteorological file does not exist\n",
      "WARNING /hysplit-users/alicec/projects/bezy/data/20201021/hysplit.t12z.gfs0p25f meteorological file does not exist\n",
      "WARNING /hysplit-users/alicec/projects/bezy/data/20201021/hysplit.t18z.gfs0p25f meteorological file does not exist\n",
      "WARNING /hysplit-users/alicec/projects/bezy/data/20201022/hysplit.t00z.gfs0p25f meteorological file does not exist\n",
      "Looking in archive for met files\n",
      "running  /hysplit-users/alicec/projects/bezy/hysplit/exec/hycs_std bezyB\n",
      "in loop 0s procs 1\n",
      "in loop 30s procs 1\n",
      "in loop 60s procs 1\n",
      "in loop 90s procs 1\n",
      "in loop 120s procs 1\n",
      "in loop 150s procs 1\n",
      "in loop 180s procs 1\n",
      "in loop 210s procs 1\n",
      "in loop 240s procs 1\n",
      "in loop 270s procs 1\n",
      "in loop 300s procs 1\n",
      "in loop 330s procs 1\n",
      "in loop 360s procs 1\n",
      "in loop 390s procs 1\n",
      "in loop 420s procs 0\n",
      "HERE HERE HERE\n",
      "2020-10-22T05:00:00.000000000\n",
      "2020-10-22T06:00:00.000000000\n",
      "HERE /hysplit-users/alicec/projects/bezy/RunB/RunB_10_11_TFw5\n",
      "(16840, 67)\n",
      "N_ctrl 66\n",
      "output file /hysplit-users/alicec/projects/bezy/RunB/RunB_10_11_TFw5/runB4.tcm_bezyB.txt\n"
     ]
    },
    {
     "name": "stderr",
     "output_type": "stream",
     "text": [
      "/hysplit-users/alicec/utilhysplit/utilvolc/ash_inverse.py:829: VisibleDeprecationWarning: Creating an ndarray from ragged nested sequences (which is a list-or-tuple of lists-or-tuples-or ndarrays with different lengths or shapes) is deprecated. If you meant to do this, you must specify 'dtype=object' when creating the ndarray.\n",
      "  self.latlist = np.array(latlist)\n",
      "/hysplit-users/alicec/utilhysplit/utilvolc/ash_inverse.py:830: VisibleDeprecationWarning: Creating an ndarray from ragged nested sequences (which is a list-or-tuple of lists-or-tuples-or ndarrays with different lengths or shapes) is deprecated. If you meant to do this, you must specify 'dtype=object' when creating the ndarray.\n",
      "  self.lonlist = np.array(lonlist)\n",
      "/hysplit-users/alicec/utilhysplit/utilvolc/ash_inverse.py:844: VisibleDeprecationWarning: Creating an ndarray from ragged nested sequences (which is a list-or-tuple of lists-or-tuples-or ndarrays with different lengths or shapes) is deprecated. If you meant to do this, you must specify 'dtype=object' when creating the ndarray.\n",
      "  self.latlist = np.array(latlist)\n",
      "/hysplit-users/alicec/utilhysplit/utilvolc/ash_inverse.py:845: VisibleDeprecationWarning: Creating an ndarray from ragged nested sequences (which is a list-or-tuple of lists-or-tuples-or ndarrays with different lengths or shapes) is deprecated. If you meant to do this, you must specify 'dtype=object' when creating the ndarray.\n",
      "  self.lonlist = np.array(lonlist)\n"
     ]
    },
    {
     "name": "stdout",
     "output_type": "stream",
     "text": [
      "bezyB\n"
     ]
    },
    {
     "name": "stderr",
     "output_type": "stream",
     "text": [
      "/hysplit-users/alicec/utilhysplit/utilvolc/ash_inverse.py:596: MatplotlibDeprecationWarning: Adding an axes using the same arguments as a previous axes currently reuses the earlier instance.  In a future version, a new instance will always be created and returned.  Meanwhile, this warning can be suppressed, and the future behavior ensured, by passing a unique label to each axes instance.\n",
      "  ax = fig.add_subplot(1,1,1)\n",
      "No meteorological files found /hysplit-users/alicec/projects/bezy/data/%Y%m%d/hysplit.t%Hz.gfs0p25f\n"
     ]
    },
    {
     "name": "stdout",
     "output_type": "stream",
     "text": [
      "saving to  /hysplit-users/alicec/projects/bezy/RunB/RunB_10_11_TFw5/RunB_10_11_TFw5.csv\n",
      "writing efile {} /hysplit-users/alicec/projects/bezy/RunB/RunB_10_11_TFw5/bezyB_emit.txt\n",
      "gfs0p25\n",
      "fcst str /pub/forecast/%Y%m%d/\n",
      "making control file  gfs0p25\n",
      "/hysplit-users/alicec/projects/bezy/data/\n",
      "fcst str /hysplit-users/alicec/projects/bezy/data/%Y%m%d/\n",
      "WARNING /hysplit-users/alicec/projects/bezy/data/20201021/hysplit.t18z.gfs0p25f meteorological file does not exist\n",
      "WARNING /hysplit-users/alicec/projects/bezy/data/20201022/hysplit.t00z.gfs0p25f meteorological file does not exist\n",
      "WARNING /hysplit-users/alicec/projects/bezy/data/20201022/hysplit.t06z.gfs0p25f meteorological file does not exist\n",
      "WARNING /hysplit-users/alicec/projects/bezy/data/20201022/hysplit.t12z.gfs0p25f meteorological file does not exist\n",
      "WARNING /hysplit-users/alicec/projects/bezy/data/20201022/hysplit.t18z.gfs0p25f meteorological file does not exist\n",
      "WARNING /hysplit-users/alicec/projects/bezy/data/20201023/hysplit.t00z.gfs0p25f meteorological file does not exist\n",
      "WARNING /hysplit-users/alicec/projects/bezy/data/20201023/hysplit.t06z.gfs0p25f meteorological file does not exist\n",
      "WARNING /hysplit-users/alicec/projects/bezy/data/20201021/hysplit.t12z.gfs0p25f meteorological file does not exist\n",
      "WARNING /hysplit-users/alicec/projects/bezy/data/20201021/hysplit.t18z.gfs0p25f meteorological file does not exist\n",
      "WARNING /hysplit-users/alicec/projects/bezy/data/20201022/hysplit.t00z.gfs0p25f meteorological file does not exist\n",
      "WARNING /hysplit-users/alicec/projects/bezy/data/20201022/hysplit.t06z.gfs0p25f meteorological file does not exist\n",
      "WARNING /hysplit-users/alicec/projects/bezy/data/20201022/hysplit.t12z.gfs0p25f meteorological file does not exist\n",
      "WARNING /hysplit-users/alicec/projects/bezy/data/20201022/hysplit.t18z.gfs0p25f meteorological file does not exist\n",
      "WARNING /hysplit-users/alicec/projects/bezy/data/20201023/hysplit.t00z.gfs0p25f meteorological file does not exist\n",
      "WARNING /hysplit-users/alicec/projects/bezy/data/20201021/hysplit.t06z.gfs0p25f meteorological file does not exist\n",
      "WARNING /hysplit-users/alicec/projects/bezy/data/20201021/hysplit.t12z.gfs0p25f meteorological file does not exist\n",
      "WARNING /hysplit-users/alicec/projects/bezy/data/20201021/hysplit.t18z.gfs0p25f meteorological file does not exist\n",
      "WARNING /hysplit-users/alicec/projects/bezy/data/20201022/hysplit.t00z.gfs0p25f meteorological file does not exist\n",
      "WARNING /hysplit-users/alicec/projects/bezy/data/20201022/hysplit.t06z.gfs0p25f meteorological file does not exist\n",
      "WARNING /hysplit-users/alicec/projects/bezy/data/20201022/hysplit.t12z.gfs0p25f meteorological file does not exist\n",
      "WARNING /hysplit-users/alicec/projects/bezy/data/20201022/hysplit.t18z.gfs0p25f meteorological file does not exist\n",
      "WARNING /hysplit-users/alicec/projects/bezy/data/20201021/hysplit.t00z.gfs0p25f meteorological file does not exist\n",
      "WARNING /hysplit-users/alicec/projects/bezy/data/20201021/hysplit.t06z.gfs0p25f meteorological file does not exist\n",
      "WARNING /hysplit-users/alicec/projects/bezy/data/20201021/hysplit.t12z.gfs0p25f meteorological file does not exist\n",
      "WARNING /hysplit-users/alicec/projects/bezy/data/20201021/hysplit.t18z.gfs0p25f meteorological file does not exist\n",
      "WARNING /hysplit-users/alicec/projects/bezy/data/20201022/hysplit.t00z.gfs0p25f meteorological file does not exist\n",
      "WARNING /hysplit-users/alicec/projects/bezy/data/20201022/hysplit.t06z.gfs0p25f meteorological file does not exist\n",
      "WARNING /hysplit-users/alicec/projects/bezy/data/20201022/hysplit.t12z.gfs0p25f meteorological file does not exist\n",
      "WARNING /hysplit-users/alicec/projects/bezy/data/20201020/hysplit.t18z.gfs0p25f meteorological file does not exist\n",
      "WARNING /hysplit-users/alicec/projects/bezy/data/20201021/hysplit.t00z.gfs0p25f meteorological file does not exist\n",
      "WARNING /hysplit-users/alicec/projects/bezy/data/20201021/hysplit.t06z.gfs0p25f meteorological file does not exist\n",
      "WARNING /hysplit-users/alicec/projects/bezy/data/20201021/hysplit.t12z.gfs0p25f meteorological file does not exist\n",
      "WARNING /hysplit-users/alicec/projects/bezy/data/20201021/hysplit.t18z.gfs0p25f meteorological file does not exist\n",
      "WARNING /hysplit-users/alicec/projects/bezy/data/20201022/hysplit.t00z.gfs0p25f meteorological file does not exist\n",
      "WARNING /hysplit-users/alicec/projects/bezy/data/20201022/hysplit.t06z.gfs0p25f meteorological file does not exist\n",
      "WARNING /hysplit-users/alicec/projects/bezy/data/20201020/hysplit.t12z.gfs0p25f meteorological file does not exist\n",
      "WARNING /hysplit-users/alicec/projects/bezy/data/20201020/hysplit.t18z.gfs0p25f meteorological file does not exist\n",
      "WARNING /hysplit-users/alicec/projects/bezy/data/20201021/hysplit.t00z.gfs0p25f meteorological file does not exist\n",
      "WARNING /hysplit-users/alicec/projects/bezy/data/20201021/hysplit.t06z.gfs0p25f meteorological file does not exist\n",
      "WARNING /hysplit-users/alicec/projects/bezy/data/20201021/hysplit.t12z.gfs0p25f meteorological file does not exist\n",
      "WARNING /hysplit-users/alicec/projects/bezy/data/20201021/hysplit.t18z.gfs0p25f meteorological file does not exist\n",
      "WARNING /hysplit-users/alicec/projects/bezy/data/20201022/hysplit.t00z.gfs0p25f meteorological file does not exist\n",
      "Looking in archive for met files\n",
      "running  /hysplit-users/alicec/projects/bezy/hysplit/exec/hycs_std bezyB\n",
      "in loop 0s procs 1\n",
      "in loop 30s procs 1\n",
      "in loop 60s procs 1\n",
      "in loop 90s procs 1\n",
      "in loop 120s procs 1\n",
      "in loop 150s procs 1\n",
      "in loop 180s procs 1\n",
      "in loop 210s procs 1\n",
      "in loop 240s procs 1\n",
      "in loop 270s procs 1\n",
      "in loop 300s procs 1\n",
      "in loop 330s procs 1\n",
      "in loop 360s procs 1\n",
      "in loop 390s procs 1\n",
      "in loop 420s procs 0\n"
     ]
    },
    {
     "data": {
      "image/png": "[encoded data removed]",
      "text/plain": [
       "<Figure size 432x288 with 1 Axes>"
      ]
     },
     "metadata": {},
     "output_type": "display_data"
    }
   ],
   "source": [
    "%autoreload\n",
    "# creates emit-times, CONTROL and SETUP files for HYSPLIT runs.\n",
    "# Note that warning that meteorological files not found is ok.\n",
    "\n",
    "%autoreload\n",
    "\n",
    "tiilist = [[2,3],[2,3,4],[2,3,4,5],[2,3,4,5,6],[2,3,4,5,6,7],[2,3,4,5,6,7,8],[2,3,4,5,6,7,8,9],\n",
    "           [2,3,4,5,6,7,8,9,10],[2,3,4,5,6,7,8,9,10,11]]  #times to assimilate in inversion algorithm.\n",
    "remove_cols=True    # removes columns with no model values in them.\n",
    "remove_rows=False    # removes clear sky observations\n",
    "remove_sources = False\n",
    "remove_ncs=5\n",
    "for tii in tiilist[2:]:\n",
    "    print('tii', tii)\n",
    "    makerun(tii,remove_cols,remove_rows,remove_sources,remove_ncs)\n",
    "    inverse.make_efile(vloc=vloc)\n",
    "    inverse.run_hysplit()\n",
    "\n",
    "tiilist = [[2,3],[3,4],[4,5],[5,6],[6,7],[7,8],[8,9],[9,10],[10,11]]\n",
    "remove_cols=True    # removes columns with no model values in them.\n",
    "remove_rows=False    # removes clear sky observations\n",
    "remove_sources = False\n",
    "remove_ncs=5\n",
    "for tii in tiilist:\n",
    "    makerun(tii,remove_cols,remove_rows,remove_sources,remove_ncs)\n",
    "    inverse.make_efile(vloc=vloc)\n",
    "    inverse.run_hysplit()"
   ]
  },
  {
   "cell_type": "markdown",
   "metadata": {},
   "source": [
    "## For comparision with RunC"
   ]
  },
  {
   "cell_type": "code",
   "execution_count": 483,
   "metadata": {},
   "outputs": [
    {
     "name": "stdout",
     "output_type": "stream",
     "text": [
      "2020-10-21T21:00:00.000000000\n",
      "2020-10-21T22:00:00.000000000\n",
      "(2671, 45)\n",
      "N_ctrl 44\n",
      "output file /hysplit-users/alicec/projects/bezy/RunB/RunB_2_3_TFw5/runB4.tcm_bezyB.txt\n"
     ]
    },
    {
     "name": "stderr",
     "output_type": "stream",
     "text": [
      "/hysplit-users/alicec/utilhysplit/utilvolc/ash_inverse.py:829: VisibleDeprecationWarning: Creating an ndarray from ragged nested sequences (which is a list-or-tuple of lists-or-tuples-or ndarrays with different lengths or shapes) is deprecated. If you meant to do this, you must specify 'dtype=object' when creating the ndarray.\n",
      "  return t3, lat, lon\n",
      "/hysplit-users/alicec/utilhysplit/utilvolc/ash_inverse.py:830: VisibleDeprecationWarning: Creating an ndarray from ragged nested sequences (which is a list-or-tuple of lists-or-tuples-or ndarrays with different lengths or shapes) is deprecated. If you meant to do this, you must specify 'dtype=object' when creating the ndarray.\n",
      "  \n",
      "/hysplit-users/alicec/utilhysplit/utilvolc/ash_inverse.py:844: VisibleDeprecationWarning: Creating an ndarray from ragged nested sequences (which is a list-or-tuple of lists-or-tuples-or ndarrays with different lengths or shapes) is deprecated. If you meant to do this, you must specify 'dtype=object' when creating the ndarray.\n",
      "  # original above zero observations.\n",
      "/hysplit-users/alicec/utilhysplit/utilvolc/ash_inverse.py:845: VisibleDeprecationWarning: Creating an ndarray from ragged nested sequences (which is a list-or-tuple of lists-or-tuples-or ndarrays with different lengths or shapes) is deprecated. If you meant to do this, you must specify 'dtype=object' when creating the ndarray.\n",
      "  # value of 0 in areas near to the above zero observations\n"
     ]
    },
    {
     "name": "stdout",
     "output_type": "stream",
     "text": [
      "bezyB\n",
      "saving to  /hysplit-users/alicec/projects/bezy/RunB/RunB_2_3_TFw5/RunB_2_3_TFw5.csv\n",
      "2020-10-21T21:00:00.000000000\n",
      "2020-10-21T22:00:00.000000000\n",
      "2020-10-21T23:00:00.000000000\n",
      "(4904, 56)\n",
      "N_ctrl 55\n",
      "output file /hysplit-users/alicec/projects/bezy/RunB/RunB_2_3_4_TFw5/runB4.tcm_bezyB.txt\n"
     ]
    },
    {
     "name": "stderr",
     "output_type": "stream",
     "text": [
      "/hysplit-users/alicec/utilhysplit/utilvolc/ash_inverse.py:829: VisibleDeprecationWarning: Creating an ndarray from ragged nested sequences (which is a list-or-tuple of lists-or-tuples-or ndarrays with different lengths or shapes) is deprecated. If you meant to do this, you must specify 'dtype=object' when creating the ndarray.\n",
      "  return t3, lat, lon\n",
      "/hysplit-users/alicec/utilhysplit/utilvolc/ash_inverse.py:830: VisibleDeprecationWarning: Creating an ndarray from ragged nested sequences (which is a list-or-tuple of lists-or-tuples-or ndarrays with different lengths or shapes) is deprecated. If you meant to do this, you must specify 'dtype=object' when creating the ndarray.\n",
      "  \n",
      "/hysplit-users/alicec/utilhysplit/utilvolc/ash_inverse.py:844: VisibleDeprecationWarning: Creating an ndarray from ragged nested sequences (which is a list-or-tuple of lists-or-tuples-or ndarrays with different lengths or shapes) is deprecated. If you meant to do this, you must specify 'dtype=object' when creating the ndarray.\n",
      "  # original above zero observations.\n",
      "/hysplit-users/alicec/utilhysplit/utilvolc/ash_inverse.py:845: VisibleDeprecationWarning: Creating an ndarray from ragged nested sequences (which is a list-or-tuple of lists-or-tuples-or ndarrays with different lengths or shapes) is deprecated. If you meant to do this, you must specify 'dtype=object' when creating the ndarray.\n",
      "  # value of 0 in areas near to the above zero observations\n"
     ]
    },
    {
     "name": "stdout",
     "output_type": "stream",
     "text": [
      "bezyB\n"
     ]
    },
    {
     "name": "stderr",
     "output_type": "stream",
     "text": [
      "/hysplit-users/alicec/utilhysplit/utilvolc/ash_inverse.py:596: MatplotlibDeprecationWarning: Adding an axes using the same arguments as a previous axes currently reuses the earlier instance.  In a future version, a new instance will always be created and returned.  Meanwhile, this warning can be suppressed, and the future behavior ensured, by passing a unique label to each axes instance.\n",
      "  def make_tcm_mult(self,tiilist,remove_cols=True,remove_rows=True,\n",
      "/hysplit-users/alicec/utilhysplit/utilvolc/ash_inverse.py:829: VisibleDeprecationWarning: Creating an ndarray from ragged nested sequences (which is a list-or-tuple of lists-or-tuples-or ndarrays with different lengths or shapes) is deprecated. If you meant to do this, you must specify 'dtype=object' when creating the ndarray.\n",
      "  return t3, lat, lon\n",
      "/hysplit-users/alicec/utilhysplit/utilvolc/ash_inverse.py:830: VisibleDeprecationWarning: Creating an ndarray from ragged nested sequences (which is a list-or-tuple of lists-or-tuples-or ndarrays with different lengths or shapes) is deprecated. If you meant to do this, you must specify 'dtype=object' when creating the ndarray.\n",
      "  \n",
      "/hysplit-users/alicec/utilhysplit/utilvolc/ash_inverse.py:844: VisibleDeprecationWarning: Creating an ndarray from ragged nested sequences (which is a list-or-tuple of lists-or-tuples-or ndarrays with different lengths or shapes) is deprecated. If you meant to do this, you must specify 'dtype=object' when creating the ndarray.\n",
      "  # original above zero observations.\n",
      "/hysplit-users/alicec/utilhysplit/utilvolc/ash_inverse.py:845: VisibleDeprecationWarning: Creating an ndarray from ragged nested sequences (which is a list-or-tuple of lists-or-tuples-or ndarrays with different lengths or shapes) is deprecated. If you meant to do this, you must specify 'dtype=object' when creating the ndarray.\n",
      "  # value of 0 in areas near to the above zero observations\n"
     ]
    },
    {
     "name": "stdout",
     "output_type": "stream",
     "text": [
      "saving to  /hysplit-users/alicec/projects/bezy/RunB/RunB_2_3_4_TFw5/RunB_2_3_4_TFw5.csv\n",
      "2020-10-21T23:00:00.000000000\n",
      "2020-10-22T00:00:00.000000000\n",
      "2020-10-22T01:00:00.000000000\n",
      "(9043, 67)\n",
      "N_ctrl 66\n",
      "output file /hysplit-users/alicec/projects/bezy/RunB/RunB_4_5_6_TFw5/runB4.tcm_bezyB.txt\n",
      "bezyB\n"
     ]
    },
    {
     "name": "stderr",
     "output_type": "stream",
     "text": [
      "/hysplit-users/alicec/utilhysplit/utilvolc/ash_inverse.py:596: MatplotlibDeprecationWarning: Adding an axes using the same arguments as a previous axes currently reuses the earlier instance.  In a future version, a new instance will always be created and returned.  Meanwhile, this warning can be suppressed, and the future behavior ensured, by passing a unique label to each axes instance.\n",
      "  def make_tcm_mult(self,tiilist,remove_cols=True,remove_rows=True,\n",
      "/hysplit-users/alicec/utilhysplit/utilvolc/ash_inverse.py:829: VisibleDeprecationWarning: Creating an ndarray from ragged nested sequences (which is a list-or-tuple of lists-or-tuples-or ndarrays with different lengths or shapes) is deprecated. If you meant to do this, you must specify 'dtype=object' when creating the ndarray.\n",
      "  return t3, lat, lon\n",
      "/hysplit-users/alicec/utilhysplit/utilvolc/ash_inverse.py:830: VisibleDeprecationWarning: Creating an ndarray from ragged nested sequences (which is a list-or-tuple of lists-or-tuples-or ndarrays with different lengths or shapes) is deprecated. If you meant to do this, you must specify 'dtype=object' when creating the ndarray.\n",
      "  \n",
      "/hysplit-users/alicec/utilhysplit/utilvolc/ash_inverse.py:844: VisibleDeprecationWarning: Creating an ndarray from ragged nested sequences (which is a list-or-tuple of lists-or-tuples-or ndarrays with different lengths or shapes) is deprecated. If you meant to do this, you must specify 'dtype=object' when creating the ndarray.\n",
      "  # original above zero observations.\n",
      "/hysplit-users/alicec/utilhysplit/utilvolc/ash_inverse.py:845: VisibleDeprecationWarning: Creating an ndarray from ragged nested sequences (which is a list-or-tuple of lists-or-tuples-or ndarrays with different lengths or shapes) is deprecated. If you meant to do this, you must specify 'dtype=object' when creating the ndarray.\n",
      "  # value of 0 in areas near to the above zero observations\n"
     ]
    },
    {
     "name": "stdout",
     "output_type": "stream",
     "text": [
      "saving to  /hysplit-users/alicec/projects/bezy/RunB/RunB_4_5_6_TFw5/RunB_4_5_6_TFw5.csv\n",
      "2020-10-21T21:00:00.000000000\n",
      "2020-10-21T22:00:00.000000000\n",
      "(202, 45)\n",
      "N_ctrl 44\n",
      "output file /hysplit-users/alicec/projects/bezy/RunB/RunB_2_3_TT/runB4.tcm_bezyB.txt\n",
      "bezyB\n"
     ]
    },
    {
     "name": "stderr",
     "output_type": "stream",
     "text": [
      "/hysplit-users/alicec/utilhysplit/utilvolc/ash_inverse.py:596: MatplotlibDeprecationWarning: Adding an axes using the same arguments as a previous axes currently reuses the earlier instance.  In a future version, a new instance will always be created and returned.  Meanwhile, this warning can be suppressed, and the future behavior ensured, by passing a unique label to each axes instance.\n",
      "  def make_tcm_mult(self,tiilist,remove_cols=True,remove_rows=True,\n",
      "/hysplit-users/alicec/utilhysplit/utilvolc/ash_inverse.py:829: VisibleDeprecationWarning: Creating an ndarray from ragged nested sequences (which is a list-or-tuple of lists-or-tuples-or ndarrays with different lengths or shapes) is deprecated. If you meant to do this, you must specify 'dtype=object' when creating the ndarray.\n",
      "  return t3, lat, lon\n",
      "/hysplit-users/alicec/utilhysplit/utilvolc/ash_inverse.py:830: VisibleDeprecationWarning: Creating an ndarray from ragged nested sequences (which is a list-or-tuple of lists-or-tuples-or ndarrays with different lengths or shapes) is deprecated. If you meant to do this, you must specify 'dtype=object' when creating the ndarray.\n",
      "  \n",
      "/hysplit-users/alicec/utilhysplit/utilvolc/ash_inverse.py:844: VisibleDeprecationWarning: Creating an ndarray from ragged nested sequences (which is a list-or-tuple of lists-or-tuples-or ndarrays with different lengths or shapes) is deprecated. If you meant to do this, you must specify 'dtype=object' when creating the ndarray.\n",
      "  # original above zero observations.\n",
      "/hysplit-users/alicec/utilhysplit/utilvolc/ash_inverse.py:845: VisibleDeprecationWarning: Creating an ndarray from ragged nested sequences (which is a list-or-tuple of lists-or-tuples-or ndarrays with different lengths or shapes) is deprecated. If you meant to do this, you must specify 'dtype=object' when creating the ndarray.\n",
      "  # value of 0 in areas near to the above zero observations\n"
     ]
    },
    {
     "name": "stdout",
     "output_type": "stream",
     "text": [
      "saving to  /hysplit-users/alicec/projects/bezy/RunB/RunB_2_3_TT/RunB_2_3_TT.csv\n",
      "2020-10-21T21:00:00.000000000\n",
      "2020-10-21T22:00:00.000000000\n",
      "2020-10-21T23:00:00.000000000\n",
      "(421, 56)\n",
      "N_ctrl 55\n",
      "output file /hysplit-users/alicec/projects/bezy/RunB/RunB_2_3_4_TT/runB4.tcm_bezyB.txt\n",
      "bezyB\n"
     ]
    },
    {
     "name": "stderr",
     "output_type": "stream",
     "text": [
      "/hysplit-users/alicec/utilhysplit/utilvolc/ash_inverse.py:596: MatplotlibDeprecationWarning: Adding an axes using the same arguments as a previous axes currently reuses the earlier instance.  In a future version, a new instance will always be created and returned.  Meanwhile, this warning can be suppressed, and the future behavior ensured, by passing a unique label to each axes instance.\n",
      "  def make_tcm_mult(self,tiilist,remove_cols=True,remove_rows=True,\n",
      "/hysplit-users/alicec/utilhysplit/utilvolc/ash_inverse.py:829: VisibleDeprecationWarning: Creating an ndarray from ragged nested sequences (which is a list-or-tuple of lists-or-tuples-or ndarrays with different lengths or shapes) is deprecated. If you meant to do this, you must specify 'dtype=object' when creating the ndarray.\n",
      "  return t3, lat, lon\n",
      "/hysplit-users/alicec/utilhysplit/utilvolc/ash_inverse.py:830: VisibleDeprecationWarning: Creating an ndarray from ragged nested sequences (which is a list-or-tuple of lists-or-tuples-or ndarrays with different lengths or shapes) is deprecated. If you meant to do this, you must specify 'dtype=object' when creating the ndarray.\n",
      "  \n",
      "/hysplit-users/alicec/utilhysplit/utilvolc/ash_inverse.py:844: VisibleDeprecationWarning: Creating an ndarray from ragged nested sequences (which is a list-or-tuple of lists-or-tuples-or ndarrays with different lengths or shapes) is deprecated. If you meant to do this, you must specify 'dtype=object' when creating the ndarray.\n",
      "  # original above zero observations.\n",
      "/hysplit-users/alicec/utilhysplit/utilvolc/ash_inverse.py:845: VisibleDeprecationWarning: Creating an ndarray from ragged nested sequences (which is a list-or-tuple of lists-or-tuples-or ndarrays with different lengths or shapes) is deprecated. If you meant to do this, you must specify 'dtype=object' when creating the ndarray.\n",
      "  # value of 0 in areas near to the above zero observations\n"
     ]
    },
    {
     "name": "stdout",
     "output_type": "stream",
     "text": [
      "saving to  /hysplit-users/alicec/projects/bezy/RunB/RunB_2_3_4_TT/RunB_2_3_4_TT.csv\n",
      "2020-10-21T23:00:00.000000000\n",
      "2020-10-22T00:00:00.000000000\n",
      "2020-10-22T01:00:00.000000000\n",
      "(610, 67)\n",
      "N_ctrl 66\n",
      "output file /hysplit-users/alicec/projects/bezy/RunB/RunB_4_5_6_TT/runB4.tcm_bezyB.txt\n",
      "bezyB\n"
     ]
    },
    {
     "name": "stderr",
     "output_type": "stream",
     "text": [
      "/hysplit-users/alicec/utilhysplit/utilvolc/ash_inverse.py:596: MatplotlibDeprecationWarning: Adding an axes using the same arguments as a previous axes currently reuses the earlier instance.  In a future version, a new instance will always be created and returned.  Meanwhile, this warning can be suppressed, and the future behavior ensured, by passing a unique label to each axes instance.\n",
      "  def make_tcm_mult(self,tiilist,remove_cols=True,remove_rows=True,\n",
      "/hysplit-users/alicec/utilhysplit/utilvolc/ash_inverse.py:829: VisibleDeprecationWarning: Creating an ndarray from ragged nested sequences (which is a list-or-tuple of lists-or-tuples-or ndarrays with different lengths or shapes) is deprecated. If you meant to do this, you must specify 'dtype=object' when creating the ndarray.\n",
      "  return t3, lat, lon\n",
      "/hysplit-users/alicec/utilhysplit/utilvolc/ash_inverse.py:830: VisibleDeprecationWarning: Creating an ndarray from ragged nested sequences (which is a list-or-tuple of lists-or-tuples-or ndarrays with different lengths or shapes) is deprecated. If you meant to do this, you must specify 'dtype=object' when creating the ndarray.\n",
      "  \n",
      "/hysplit-users/alicec/utilhysplit/utilvolc/ash_inverse.py:844: VisibleDeprecationWarning: Creating an ndarray from ragged nested sequences (which is a list-or-tuple of lists-or-tuples-or ndarrays with different lengths or shapes) is deprecated. If you meant to do this, you must specify 'dtype=object' when creating the ndarray.\n",
      "  # original above zero observations.\n",
      "/hysplit-users/alicec/utilhysplit/utilvolc/ash_inverse.py:845: VisibleDeprecationWarning: Creating an ndarray from ragged nested sequences (which is a list-or-tuple of lists-or-tuples-or ndarrays with different lengths or shapes) is deprecated. If you meant to do this, you must specify 'dtype=object' when creating the ndarray.\n",
      "  # value of 0 in areas near to the above zero observations\n"
     ]
    },
    {
     "name": "stdout",
     "output_type": "stream",
     "text": [
      "saving to  /hysplit-users/alicec/projects/bezy/RunB/RunB_4_5_6_TT/RunB_4_5_6_TT.csv\n",
      "2020-10-21T21:00:00.000000000\n",
      "2020-10-21T22:00:00.000000000\n",
      "(2933, 45)\n",
      "N_ctrl 44\n",
      "output file /hysplit-users/alicec/projects/bezy/RunB/RunB_2_3_TF/runB4.tcm_bezyB.txt\n",
      "bezyB\n"
     ]
    },
    {
     "name": "stderr",
     "output_type": "stream",
     "text": [
      "/hysplit-users/alicec/utilhysplit/utilvolc/ash_inverse.py:596: MatplotlibDeprecationWarning: Adding an axes using the same arguments as a previous axes currently reuses the earlier instance.  In a future version, a new instance will always be created and returned.  Meanwhile, this warning can be suppressed, and the future behavior ensured, by passing a unique label to each axes instance.\n",
      "  def make_tcm_mult(self,tiilist,remove_cols=True,remove_rows=True,\n",
      "/hysplit-users/alicec/utilhysplit/utilvolc/ash_inverse.py:829: VisibleDeprecationWarning: Creating an ndarray from ragged nested sequences (which is a list-or-tuple of lists-or-tuples-or ndarrays with different lengths or shapes) is deprecated. If you meant to do this, you must specify 'dtype=object' when creating the ndarray.\n",
      "  return t3, lat, lon\n",
      "/hysplit-users/alicec/utilhysplit/utilvolc/ash_inverse.py:830: VisibleDeprecationWarning: Creating an ndarray from ragged nested sequences (which is a list-or-tuple of lists-or-tuples-or ndarrays with different lengths or shapes) is deprecated. If you meant to do this, you must specify 'dtype=object' when creating the ndarray.\n",
      "  \n",
      "/hysplit-users/alicec/utilhysplit/utilvolc/ash_inverse.py:844: VisibleDeprecationWarning: Creating an ndarray from ragged nested sequences (which is a list-or-tuple of lists-or-tuples-or ndarrays with different lengths or shapes) is deprecated. If you meant to do this, you must specify 'dtype=object' when creating the ndarray.\n",
      "  # original above zero observations.\n",
      "/hysplit-users/alicec/utilhysplit/utilvolc/ash_inverse.py:845: VisibleDeprecationWarning: Creating an ndarray from ragged nested sequences (which is a list-or-tuple of lists-or-tuples-or ndarrays with different lengths or shapes) is deprecated. If you meant to do this, you must specify 'dtype=object' when creating the ndarray.\n",
      "  # value of 0 in areas near to the above zero observations\n"
     ]
    },
    {
     "name": "stdout",
     "output_type": "stream",
     "text": [
      "saving to  /hysplit-users/alicec/projects/bezy/RunB/RunB_2_3_TF/RunB_2_3_TF.csv\n",
      "2020-10-21T21:00:00.000000000\n",
      "2020-10-21T22:00:00.000000000\n",
      "2020-10-21T23:00:00.000000000\n",
      "(5381, 56)\n",
      "N_ctrl 55\n",
      "output file /hysplit-users/alicec/projects/bezy/RunB/RunB_2_3_4_TF/runB4.tcm_bezyB.txt\n",
      "bezyB\n"
     ]
    },
    {
     "name": "stderr",
     "output_type": "stream",
     "text": [
      "/hysplit-users/alicec/utilhysplit/utilvolc/ash_inverse.py:596: MatplotlibDeprecationWarning: Adding an axes using the same arguments as a previous axes currently reuses the earlier instance.  In a future version, a new instance will always be created and returned.  Meanwhile, this warning can be suppressed, and the future behavior ensured, by passing a unique label to each axes instance.\n",
      "  def make_tcm_mult(self,tiilist,remove_cols=True,remove_rows=True,\n",
      "/hysplit-users/alicec/utilhysplit/utilvolc/ash_inverse.py:829: VisibleDeprecationWarning: Creating an ndarray from ragged nested sequences (which is a list-or-tuple of lists-or-tuples-or ndarrays with different lengths or shapes) is deprecated. If you meant to do this, you must specify 'dtype=object' when creating the ndarray.\n",
      "  return t3, lat, lon\n",
      "/hysplit-users/alicec/utilhysplit/utilvolc/ash_inverse.py:830: VisibleDeprecationWarning: Creating an ndarray from ragged nested sequences (which is a list-or-tuple of lists-or-tuples-or ndarrays with different lengths or shapes) is deprecated. If you meant to do this, you must specify 'dtype=object' when creating the ndarray.\n",
      "  \n",
      "/hysplit-users/alicec/utilhysplit/utilvolc/ash_inverse.py:844: VisibleDeprecationWarning: Creating an ndarray from ragged nested sequences (which is a list-or-tuple of lists-or-tuples-or ndarrays with different lengths or shapes) is deprecated. If you meant to do this, you must specify 'dtype=object' when creating the ndarray.\n",
      "  # original above zero observations.\n",
      "/hysplit-users/alicec/utilhysplit/utilvolc/ash_inverse.py:845: VisibleDeprecationWarning: Creating an ndarray from ragged nested sequences (which is a list-or-tuple of lists-or-tuples-or ndarrays with different lengths or shapes) is deprecated. If you meant to do this, you must specify 'dtype=object' when creating the ndarray.\n",
      "  # value of 0 in areas near to the above zero observations\n"
     ]
    },
    {
     "name": "stdout",
     "output_type": "stream",
     "text": [
      "saving to  /hysplit-users/alicec/projects/bezy/RunB/RunB_2_3_4_TF/RunB_2_3_4_TF.csv\n",
      "2020-10-21T23:00:00.000000000\n",
      "2020-10-22T00:00:00.000000000\n",
      "2020-10-22T01:00:00.000000000\n",
      "(9846, 67)\n",
      "N_ctrl 66\n",
      "output file /hysplit-users/alicec/projects/bezy/RunB/RunB_4_5_6_TF/runB4.tcm_bezyB.txt\n",
      "bezyB\n"
     ]
    },
    {
     "name": "stderr",
     "output_type": "stream",
     "text": [
      "/hysplit-users/alicec/utilhysplit/utilvolc/ash_inverse.py:596: MatplotlibDeprecationWarning: Adding an axes using the same arguments as a previous axes currently reuses the earlier instance.  In a future version, a new instance will always be created and returned.  Meanwhile, this warning can be suppressed, and the future behavior ensured, by passing a unique label to each axes instance.\n",
      "  def make_tcm_mult(self,tiilist,remove_cols=True,remove_rows=True,\n",
      "/hysplit-users/alicec/utilhysplit/utilvolc/ash_inverse.py:829: VisibleDeprecationWarning: Creating an ndarray from ragged nested sequences (which is a list-or-tuple of lists-or-tuples-or ndarrays with different lengths or shapes) is deprecated. If you meant to do this, you must specify 'dtype=object' when creating the ndarray.\n",
      "  return t3, lat, lon\n",
      "/hysplit-users/alicec/utilhysplit/utilvolc/ash_inverse.py:830: VisibleDeprecationWarning: Creating an ndarray from ragged nested sequences (which is a list-or-tuple of lists-or-tuples-or ndarrays with different lengths or shapes) is deprecated. If you meant to do this, you must specify 'dtype=object' when creating the ndarray.\n",
      "  \n",
      "/hysplit-users/alicec/utilhysplit/utilvolc/ash_inverse.py:844: VisibleDeprecationWarning: Creating an ndarray from ragged nested sequences (which is a list-or-tuple of lists-or-tuples-or ndarrays with different lengths or shapes) is deprecated. If you meant to do this, you must specify 'dtype=object' when creating the ndarray.\n",
      "  # original above zero observations.\n",
      "/hysplit-users/alicec/utilhysplit/utilvolc/ash_inverse.py:845: VisibleDeprecationWarning: Creating an ndarray from ragged nested sequences (which is a list-or-tuple of lists-or-tuples-or ndarrays with different lengths or shapes) is deprecated. If you meant to do this, you must specify 'dtype=object' when creating the ndarray.\n",
      "  # value of 0 in areas near to the above zero observations\n"
     ]
    },
    {
     "name": "stdout",
     "output_type": "stream",
     "text": [
      "saving to  /hysplit-users/alicec/projects/bezy/RunB/RunB_4_5_6_TF/RunB_4_5_6_TF.csv\n",
      "2020-10-22T02:00:00.000000000\n",
      "2020-10-22T03:00:00.000000000\n",
      "(10153, 67)\n",
      "N_ctrl 66\n",
      "output file /hysplit-users/alicec/projects/bezy/RunB/RunB_7_8_TFw7/runB4.tcm_bezyB.txt\n",
      "bezyB\n"
     ]
    },
    {
     "name": "stderr",
     "output_type": "stream",
     "text": [
      "/hysplit-users/alicec/utilhysplit/utilvolc/ash_inverse.py:596: MatplotlibDeprecationWarning: Adding an axes using the same arguments as a previous axes currently reuses the earlier instance.  In a future version, a new instance will always be created and returned.  Meanwhile, this warning can be suppressed, and the future behavior ensured, by passing a unique label to each axes instance.\n",
      "  def make_tcm_mult(self,tiilist,remove_cols=True,remove_rows=True,\n",
      "/hysplit-users/alicec/utilhysplit/utilvolc/ash_inverse.py:829: VisibleDeprecationWarning: Creating an ndarray from ragged nested sequences (which is a list-or-tuple of lists-or-tuples-or ndarrays with different lengths or shapes) is deprecated. If you meant to do this, you must specify 'dtype=object' when creating the ndarray.\n",
      "  return t3, lat, lon\n",
      "/hysplit-users/alicec/utilhysplit/utilvolc/ash_inverse.py:830: VisibleDeprecationWarning: Creating an ndarray from ragged nested sequences (which is a list-or-tuple of lists-or-tuples-or ndarrays with different lengths or shapes) is deprecated. If you meant to do this, you must specify 'dtype=object' when creating the ndarray.\n",
      "  \n",
      "/hysplit-users/alicec/utilhysplit/utilvolc/ash_inverse.py:844: VisibleDeprecationWarning: Creating an ndarray from ragged nested sequences (which is a list-or-tuple of lists-or-tuples-or ndarrays with different lengths or shapes) is deprecated. If you meant to do this, you must specify 'dtype=object' when creating the ndarray.\n",
      "  # original above zero observations.\n",
      "/hysplit-users/alicec/utilhysplit/utilvolc/ash_inverse.py:845: VisibleDeprecationWarning: Creating an ndarray from ragged nested sequences (which is a list-or-tuple of lists-or-tuples-or ndarrays with different lengths or shapes) is deprecated. If you meant to do this, you must specify 'dtype=object' when creating the ndarray.\n",
      "  # value of 0 in areas near to the above zero observations\n"
     ]
    },
    {
     "name": "stdout",
     "output_type": "stream",
     "text": [
      "saving to  /hysplit-users/alicec/projects/bezy/RunB/RunB_7_8_TFw7/RunB_7_8_TFw7.csv\n",
      "2020-10-22T04:00:00.000000000\n",
      "2020-10-22T05:00:00.000000000\n",
      "2020-10-22T06:00:00.000000000\n",
      "(22704, 67)\n",
      "N_ctrl 66\n",
      "output file /hysplit-users/alicec/projects/bezy/RunB/RunB_9_10_11_TFw7/runB4.tcm_bezyB.txt\n",
      "bezyB\n"
     ]
    },
    {
     "name": "stderr",
     "output_type": "stream",
     "text": [
      "/hysplit-users/alicec/utilhysplit/utilvolc/ash_inverse.py:596: MatplotlibDeprecationWarning: Adding an axes using the same arguments as a previous axes currently reuses the earlier instance.  In a future version, a new instance will always be created and returned.  Meanwhile, this warning can be suppressed, and the future behavior ensured, by passing a unique label to each axes instance.\n",
      "  def make_tcm_mult(self,tiilist,remove_cols=True,remove_rows=True,\n",
      "/hysplit-users/alicec/utilhysplit/utilvolc/ash_inverse.py:829: VisibleDeprecationWarning: Creating an ndarray from ragged nested sequences (which is a list-or-tuple of lists-or-tuples-or ndarrays with different lengths or shapes) is deprecated. If you meant to do this, you must specify 'dtype=object' when creating the ndarray.\n",
      "  return t3, lat, lon\n",
      "/hysplit-users/alicec/utilhysplit/utilvolc/ash_inverse.py:830: VisibleDeprecationWarning: Creating an ndarray from ragged nested sequences (which is a list-or-tuple of lists-or-tuples-or ndarrays with different lengths or shapes) is deprecated. If you meant to do this, you must specify 'dtype=object' when creating the ndarray.\n",
      "  \n",
      "/hysplit-users/alicec/utilhysplit/utilvolc/ash_inverse.py:844: VisibleDeprecationWarning: Creating an ndarray from ragged nested sequences (which is a list-or-tuple of lists-or-tuples-or ndarrays with different lengths or shapes) is deprecated. If you meant to do this, you must specify 'dtype=object' when creating the ndarray.\n",
      "  # original above zero observations.\n",
      "/hysplit-users/alicec/utilhysplit/utilvolc/ash_inverse.py:845: VisibleDeprecationWarning: Creating an ndarray from ragged nested sequences (which is a list-or-tuple of lists-or-tuples-or ndarrays with different lengths or shapes) is deprecated. If you meant to do this, you must specify 'dtype=object' when creating the ndarray.\n",
      "  # value of 0 in areas near to the above zero observations\n"
     ]
    },
    {
     "name": "stdout",
     "output_type": "stream",
     "text": [
      "saving to  /hysplit-users/alicec/projects/bezy/RunB/RunB_9_10_11_TFw7/RunB_9_10_11_TFw7.csv\n",
      "2020-10-21T21:00:00.000000000\n",
      "2020-10-21T22:00:00.000000000\n",
      "2020-10-21T23:00:00.000000000\n",
      "2020-10-22T00:00:00.000000000\n",
      "2020-10-22T01:00:00.000000000\n",
      "2020-10-22T02:00:00.000000000\n",
      "2020-10-22T03:00:00.000000000\n",
      "2020-10-22T04:00:00.000000000\n",
      "2020-10-22T05:00:00.000000000\n",
      "2020-10-22T06:00:00.000000000\n",
      "(44060, 67)\n",
      "N_ctrl 66\n",
      "output file /hysplit-users/alicec/projects/bezy/RunB/RunB_2_3_4_5_6_7_8_9_10_11_TFw7/runB4.tcm_bezyB.txt\n",
      "bezyB\n"
     ]
    },
    {
     "name": "stderr",
     "output_type": "stream",
     "text": [
      "/hysplit-users/alicec/utilhysplit/utilvolc/ash_inverse.py:596: MatplotlibDeprecationWarning: Adding an axes using the same arguments as a previous axes currently reuses the earlier instance.  In a future version, a new instance will always be created and returned.  Meanwhile, this warning can be suppressed, and the future behavior ensured, by passing a unique label to each axes instance.\n",
      "  def make_tcm_mult(self,tiilist,remove_cols=True,remove_rows=True,\n",
      "/hysplit-users/alicec/utilhysplit/utilvolc/ash_inverse.py:829: VisibleDeprecationWarning: Creating an ndarray from ragged nested sequences (which is a list-or-tuple of lists-or-tuples-or ndarrays with different lengths or shapes) is deprecated. If you meant to do this, you must specify 'dtype=object' when creating the ndarray.\n",
      "  return t3, lat, lon\n",
      "/hysplit-users/alicec/utilhysplit/utilvolc/ash_inverse.py:830: VisibleDeprecationWarning: Creating an ndarray from ragged nested sequences (which is a list-or-tuple of lists-or-tuples-or ndarrays with different lengths or shapes) is deprecated. If you meant to do this, you must specify 'dtype=object' when creating the ndarray.\n",
      "  \n",
      "/hysplit-users/alicec/utilhysplit/utilvolc/ash_inverse.py:844: VisibleDeprecationWarning: Creating an ndarray from ragged nested sequences (which is a list-or-tuple of lists-or-tuples-or ndarrays with different lengths or shapes) is deprecated. If you meant to do this, you must specify 'dtype=object' when creating the ndarray.\n",
      "  # original above zero observations.\n",
      "/hysplit-users/alicec/utilhysplit/utilvolc/ash_inverse.py:845: VisibleDeprecationWarning: Creating an ndarray from ragged nested sequences (which is a list-or-tuple of lists-or-tuples-or ndarrays with different lengths or shapes) is deprecated. If you meant to do this, you must specify 'dtype=object' when creating the ndarray.\n",
      "  # value of 0 in areas near to the above zero observations\n"
     ]
    },
    {
     "name": "stdout",
     "output_type": "stream",
     "text": [
      "saving to  /hysplit-users/alicec/projects/bezy/RunB/RunB_2_3_4_5_6_7_8_9_10_11_TFw7/RunB_2_3_4_5_6_7_8_9_10_11_TFw7.csv\n",
      "2020-10-22T02:00:00.000000000\n",
      "2020-10-22T03:00:00.000000000\n",
      "(583, 64)\n",
      "N_ctrl 63\n",
      "output file /hysplit-users/alicec/projects/bezy/RunB/RunB_7_8_TT/runB4.tcm_bezyB.txt\n",
      "bezyB\n"
     ]
    },
    {
     "name": "stderr",
     "output_type": "stream",
     "text": [
      "/hysplit-users/alicec/utilhysplit/utilvolc/ash_inverse.py:596: MatplotlibDeprecationWarning: Adding an axes using the same arguments as a previous axes currently reuses the earlier instance.  In a future version, a new instance will always be created and returned.  Meanwhile, this warning can be suppressed, and the future behavior ensured, by passing a unique label to each axes instance.\n",
      "  def make_tcm_mult(self,tiilist,remove_cols=True,remove_rows=True,\n",
      "/hysplit-users/alicec/utilhysplit/utilvolc/ash_inverse.py:829: VisibleDeprecationWarning: Creating an ndarray from ragged nested sequences (which is a list-or-tuple of lists-or-tuples-or ndarrays with different lengths or shapes) is deprecated. If you meant to do this, you must specify 'dtype=object' when creating the ndarray.\n",
      "  return t3, lat, lon\n",
      "/hysplit-users/alicec/utilhysplit/utilvolc/ash_inverse.py:830: VisibleDeprecationWarning: Creating an ndarray from ragged nested sequences (which is a list-or-tuple of lists-or-tuples-or ndarrays with different lengths or shapes) is deprecated. If you meant to do this, you must specify 'dtype=object' when creating the ndarray.\n",
      "  \n",
      "/hysplit-users/alicec/utilhysplit/utilvolc/ash_inverse.py:844: VisibleDeprecationWarning: Creating an ndarray from ragged nested sequences (which is a list-or-tuple of lists-or-tuples-or ndarrays with different lengths or shapes) is deprecated. If you meant to do this, you must specify 'dtype=object' when creating the ndarray.\n",
      "  # original above zero observations.\n",
      "/hysplit-users/alicec/utilhysplit/utilvolc/ash_inverse.py:845: VisibleDeprecationWarning: Creating an ndarray from ragged nested sequences (which is a list-or-tuple of lists-or-tuples-or ndarrays with different lengths or shapes) is deprecated. If you meant to do this, you must specify 'dtype=object' when creating the ndarray.\n",
      "  # value of 0 in areas near to the above zero observations\n"
     ]
    },
    {
     "name": "stdout",
     "output_type": "stream",
     "text": [
      "saving to  /hysplit-users/alicec/projects/bezy/RunB/RunB_7_8_TT/RunB_7_8_TT.csv\n",
      "2020-10-22T04:00:00.000000000\n",
      "2020-10-22T05:00:00.000000000\n",
      "2020-10-22T06:00:00.000000000\n",
      "(958, 64)\n",
      "N_ctrl 63\n",
      "output file /hysplit-users/alicec/projects/bezy/RunB/RunB_9_10_11_TT/runB4.tcm_bezyB.txt\n",
      "bezyB\n"
     ]
    },
    {
     "name": "stderr",
     "output_type": "stream",
     "text": [
      "/hysplit-users/alicec/utilhysplit/utilvolc/ash_inverse.py:596: MatplotlibDeprecationWarning: Adding an axes using the same arguments as a previous axes currently reuses the earlier instance.  In a future version, a new instance will always be created and returned.  Meanwhile, this warning can be suppressed, and the future behavior ensured, by passing a unique label to each axes instance.\n",
      "  def make_tcm_mult(self,tiilist,remove_cols=True,remove_rows=True,\n",
      "/hysplit-users/alicec/utilhysplit/utilvolc/ash_inverse.py:829: VisibleDeprecationWarning: Creating an ndarray from ragged nested sequences (which is a list-or-tuple of lists-or-tuples-or ndarrays with different lengths or shapes) is deprecated. If you meant to do this, you must specify 'dtype=object' when creating the ndarray.\n",
      "  return t3, lat, lon\n",
      "/hysplit-users/alicec/utilhysplit/utilvolc/ash_inverse.py:830: VisibleDeprecationWarning: Creating an ndarray from ragged nested sequences (which is a list-or-tuple of lists-or-tuples-or ndarrays with different lengths or shapes) is deprecated. If you meant to do this, you must specify 'dtype=object' when creating the ndarray.\n",
      "  \n",
      "/hysplit-users/alicec/utilhysplit/utilvolc/ash_inverse.py:844: VisibleDeprecationWarning: Creating an ndarray from ragged nested sequences (which is a list-or-tuple of lists-or-tuples-or ndarrays with different lengths or shapes) is deprecated. If you meant to do this, you must specify 'dtype=object' when creating the ndarray.\n",
      "  # original above zero observations.\n",
      "/hysplit-users/alicec/utilhysplit/utilvolc/ash_inverse.py:845: VisibleDeprecationWarning: Creating an ndarray from ragged nested sequences (which is a list-or-tuple of lists-or-tuples-or ndarrays with different lengths or shapes) is deprecated. If you meant to do this, you must specify 'dtype=object' when creating the ndarray.\n",
      "  # value of 0 in areas near to the above zero observations\n"
     ]
    },
    {
     "name": "stdout",
     "output_type": "stream",
     "text": [
      "saving to  /hysplit-users/alicec/projects/bezy/RunB/RunB_9_10_11_TT/RunB_9_10_11_TT.csv\n",
      "2020-10-21T21:00:00.000000000\n",
      "2020-10-21T22:00:00.000000000\n",
      "2020-10-21T23:00:00.000000000\n",
      "2020-10-22T00:00:00.000000000\n",
      "2020-10-22T01:00:00.000000000\n",
      "2020-10-22T02:00:00.000000000\n",
      "2020-10-22T03:00:00.000000000\n",
      "2020-10-22T04:00:00.000000000\n",
      "2020-10-22T05:00:00.000000000\n",
      "2020-10-22T06:00:00.000000000\n",
      "(2353, 67)\n",
      "N_ctrl 66\n",
      "output file /hysplit-users/alicec/projects/bezy/RunB/RunB_2_3_4_5_6_7_8_9_10_11_TT/runB4.tcm_bezyB.txt\n",
      "bezyB\n"
     ]
    },
    {
     "name": "stderr",
     "output_type": "stream",
     "text": [
      "/hysplit-users/alicec/utilhysplit/utilvolc/ash_inverse.py:596: MatplotlibDeprecationWarning: Adding an axes using the same arguments as a previous axes currently reuses the earlier instance.  In a future version, a new instance will always be created and returned.  Meanwhile, this warning can be suppressed, and the future behavior ensured, by passing a unique label to each axes instance.\n",
      "  def make_tcm_mult(self,tiilist,remove_cols=True,remove_rows=True,\n",
      "/hysplit-users/alicec/utilhysplit/utilvolc/ash_inverse.py:829: VisibleDeprecationWarning: Creating an ndarray from ragged nested sequences (which is a list-or-tuple of lists-or-tuples-or ndarrays with different lengths or shapes) is deprecated. If you meant to do this, you must specify 'dtype=object' when creating the ndarray.\n",
      "  return t3, lat, lon\n",
      "/hysplit-users/alicec/utilhysplit/utilvolc/ash_inverse.py:830: VisibleDeprecationWarning: Creating an ndarray from ragged nested sequences (which is a list-or-tuple of lists-or-tuples-or ndarrays with different lengths or shapes) is deprecated. If you meant to do this, you must specify 'dtype=object' when creating the ndarray.\n",
      "  \n",
      "/hysplit-users/alicec/utilhysplit/utilvolc/ash_inverse.py:844: VisibleDeprecationWarning: Creating an ndarray from ragged nested sequences (which is a list-or-tuple of lists-or-tuples-or ndarrays with different lengths or shapes) is deprecated. If you meant to do this, you must specify 'dtype=object' when creating the ndarray.\n",
      "  # original above zero observations.\n",
      "/hysplit-users/alicec/utilhysplit/utilvolc/ash_inverse.py:845: VisibleDeprecationWarning: Creating an ndarray from ragged nested sequences (which is a list-or-tuple of lists-or-tuples-or ndarrays with different lengths or shapes) is deprecated. If you meant to do this, you must specify 'dtype=object' when creating the ndarray.\n",
      "  # value of 0 in areas near to the above zero observations\n"
     ]
    },
    {
     "name": "stdout",
     "output_type": "stream",
     "text": [
      "saving to  /hysplit-users/alicec/projects/bezy/RunB/RunB_2_3_4_5_6_7_8_9_10_11_TT/RunB_2_3_4_5_6_7_8_9_10_11_TT.csv\n",
      "2020-10-22T02:00:00.000000000\n",
      "2020-10-22T03:00:00.000000000\n",
      "(11308, 67)\n",
      "N_ctrl 66\n",
      "output file /hysplit-users/alicec/projects/bezy/RunB/RunB_7_8_TF/runB4.tcm_bezyB.txt\n",
      "bezyB\n"
     ]
    },
    {
     "name": "stderr",
     "output_type": "stream",
     "text": [
      "/hysplit-users/alicec/utilhysplit/utilvolc/ash_inverse.py:596: MatplotlibDeprecationWarning: Adding an axes using the same arguments as a previous axes currently reuses the earlier instance.  In a future version, a new instance will always be created and returned.  Meanwhile, this warning can be suppressed, and the future behavior ensured, by passing a unique label to each axes instance.\n",
      "  def make_tcm_mult(self,tiilist,remove_cols=True,remove_rows=True,\n",
      "/hysplit-users/alicec/utilhysplit/utilvolc/ash_inverse.py:829: VisibleDeprecationWarning: Creating an ndarray from ragged nested sequences (which is a list-or-tuple of lists-or-tuples-or ndarrays with different lengths or shapes) is deprecated. If you meant to do this, you must specify 'dtype=object' when creating the ndarray.\n",
      "  return t3, lat, lon\n",
      "/hysplit-users/alicec/utilhysplit/utilvolc/ash_inverse.py:830: VisibleDeprecationWarning: Creating an ndarray from ragged nested sequences (which is a list-or-tuple of lists-or-tuples-or ndarrays with different lengths or shapes) is deprecated. If you meant to do this, you must specify 'dtype=object' when creating the ndarray.\n",
      "  \n",
      "/hysplit-users/alicec/utilhysplit/utilvolc/ash_inverse.py:844: VisibleDeprecationWarning: Creating an ndarray from ragged nested sequences (which is a list-or-tuple of lists-or-tuples-or ndarrays with different lengths or shapes) is deprecated. If you meant to do this, you must specify 'dtype=object' when creating the ndarray.\n",
      "  # original above zero observations.\n",
      "/hysplit-users/alicec/utilhysplit/utilvolc/ash_inverse.py:845: VisibleDeprecationWarning: Creating an ndarray from ragged nested sequences (which is a list-or-tuple of lists-or-tuples-or ndarrays with different lengths or shapes) is deprecated. If you meant to do this, you must specify 'dtype=object' when creating the ndarray.\n",
      "  # value of 0 in areas near to the above zero observations\n"
     ]
    },
    {
     "name": "stdout",
     "output_type": "stream",
     "text": [
      "saving to  /hysplit-users/alicec/projects/bezy/RunB/RunB_7_8_TF/RunB_7_8_TF.csv\n",
      "2020-10-22T04:00:00.000000000\n",
      "2020-10-22T05:00:00.000000000\n",
      "2020-10-22T06:00:00.000000000\n",
      "(24997, 67)\n",
      "N_ctrl 66\n",
      "output file /hysplit-users/alicec/projects/bezy/RunB/RunB_9_10_11_TF/runB4.tcm_bezyB.txt\n",
      "bezyB\n"
     ]
    },
    {
     "name": "stderr",
     "output_type": "stream",
     "text": [
      "/hysplit-users/alicec/utilhysplit/utilvolc/ash_inverse.py:596: MatplotlibDeprecationWarning: Adding an axes using the same arguments as a previous axes currently reuses the earlier instance.  In a future version, a new instance will always be created and returned.  Meanwhile, this warning can be suppressed, and the future behavior ensured, by passing a unique label to each axes instance.\n",
      "  def make_tcm_mult(self,tiilist,remove_cols=True,remove_rows=True,\n",
      "/hysplit-users/alicec/utilhysplit/utilvolc/ash_inverse.py:829: VisibleDeprecationWarning: Creating an ndarray from ragged nested sequences (which is a list-or-tuple of lists-or-tuples-or ndarrays with different lengths or shapes) is deprecated. If you meant to do this, you must specify 'dtype=object' when creating the ndarray.\n",
      "  return t3, lat, lon\n",
      "/hysplit-users/alicec/utilhysplit/utilvolc/ash_inverse.py:830: VisibleDeprecationWarning: Creating an ndarray from ragged nested sequences (which is a list-or-tuple of lists-or-tuples-or ndarrays with different lengths or shapes) is deprecated. If you meant to do this, you must specify 'dtype=object' when creating the ndarray.\n",
      "  \n",
      "/hysplit-users/alicec/utilhysplit/utilvolc/ash_inverse.py:844: VisibleDeprecationWarning: Creating an ndarray from ragged nested sequences (which is a list-or-tuple of lists-or-tuples-or ndarrays with different lengths or shapes) is deprecated. If you meant to do this, you must specify 'dtype=object' when creating the ndarray.\n",
      "  # original above zero observations.\n",
      "/hysplit-users/alicec/utilhysplit/utilvolc/ash_inverse.py:845: VisibleDeprecationWarning: Creating an ndarray from ragged nested sequences (which is a list-or-tuple of lists-or-tuples-or ndarrays with different lengths or shapes) is deprecated. If you meant to do this, you must specify 'dtype=object' when creating the ndarray.\n",
      "  # value of 0 in areas near to the above zero observations\n"
     ]
    },
    {
     "name": "stdout",
     "output_type": "stream",
     "text": [
      "saving to  /hysplit-users/alicec/projects/bezy/RunB/RunB_9_10_11_TF/RunB_9_10_11_TF.csv\n",
      "2020-10-21T21:00:00.000000000\n",
      "2020-10-21T22:00:00.000000000\n",
      "2020-10-21T23:00:00.000000000\n",
      "2020-10-22T00:00:00.000000000\n",
      "2020-10-22T01:00:00.000000000\n",
      "2020-10-22T02:00:00.000000000\n",
      "2020-10-22T03:00:00.000000000\n",
      "2020-10-22T04:00:00.000000000\n",
      "2020-10-22T05:00:00.000000000\n",
      "2020-10-22T06:00:00.000000000\n",
      "(49084, 67)\n",
      "N_ctrl 66\n",
      "output file /hysplit-users/alicec/projects/bezy/RunB/RunB_2_3_4_5_6_7_8_9_10_11_TF/runB4.tcm_bezyB.txt\n",
      "bezyB\n",
      "saving to  /hysplit-users/alicec/projects/bezy/RunB/RunB_2_3_4_5_6_7_8_9_10_11_TF/RunB_2_3_4_5_6_7_8_9_10_11_TF.csv\n"
     ]
    },
    {
     "name": "stderr",
     "output_type": "stream",
     "text": [
      "/hysplit-users/alicec/utilhysplit/utilvolc/ash_inverse.py:596: MatplotlibDeprecationWarning: Adding an axes using the same arguments as a previous axes currently reuses the earlier instance.  In a future version, a new instance will always be created and returned.  Meanwhile, this warning can be suppressed, and the future behavior ensured, by passing a unique label to each axes instance.\n",
      "  def make_tcm_mult(self,tiilist,remove_cols=True,remove_rows=True,\n"
     ]
    },
    {
     "data": {
      "image/png": "[encoded data removed]",
      "text/plain": [
       "<Figure size 432x288 with 1 Axes>"
      ]
     },
     "metadata": {},
     "output_type": "display_data"
    }
   ],
   "source": [
    "%autoreload\n",
    "tiilist = [[2,3],[2,3,4],[2,3,4,5],[2,3,4,5,6],[2,3,4,5,6,7],[2,3,4,5,6,7,8],[2,3,4,5,6,7,8,9],\n",
    "           [2,3,4,5,6,7,8,9,10],[2,3,4,5,6,7,8,9,10,11],\n",
    "           [4,5,6]]  #times to assimilate in inversion algorithm.\n",
    "remove_cols=True    # removes columns with no model values in them.\n",
    "remove_rows=False    # removes clear sky observations\n",
    "remove_sources = False\n",
    "remove_ncs=5\n",
    "for tii in tiilist:\n",
    "    makerun(tii,remove_cols,remove_rows,remove_sources,remove_ncs)\n",
    "remove_rows=True\n",
    "remove_ncs=0\n",
    "for tii in tiilist:\n",
    "    makerun(tii,remove_cols,remove_rows,remove_sources,remove_ncs)\n",
    "remove_rows=False\n",
    "remove_ncs=0\n",
    "for tii in tiilist:\n",
    "    makerun(tii,remove_cols,remove_rows,remove_sources,remove_ncs)\n",
    "    \n",
    "    \n",
    "tiilist = [[7,8],[9,10,11],[2,3,4,5,6,7,8,9,10,11]]  #times to assimilate in inversion algorithm.\n",
    "remove_cols=True    # removes columns with no model values in them.\n",
    "remove_rows=False    # removes clear sky observations\n",
    "remove_sources = False\n",
    "remove_ncs=7\n",
    "for tii in tiilist:\n",
    "    makerun(tii,remove_cols,remove_rows,remove_sources,remove_ncs)\n",
    "remove_rows=True\n",
    "remove_ncs=0\n",
    "for tii in tiilist:\n",
    "    makerun(tii,remove_cols,remove_rows,remove_sources,remove_ncs)\n",
    "remove_rows=False\n",
    "remove_ncs=0\n",
    "for tii in tiilist:\n",
    "    makerun(tii,remove_cols,remove_rows,remove_sources,remove_ncs)  \n",
    "    "
   ]
  },
  {
   "cell_type": "markdown",
   "metadata": {},
   "source": [
    "# Looking at inidividual inversions"
   ]
  },
  {
   "cell_type": "code",
   "execution_count": 515,
   "metadata": {},
   "outputs": [
    {
     "name": "stdout",
     "output_type": "stream",
     "text": [
      "2020-10-21T21:00:00.000000000\n",
      "2020-10-21T22:00:00.000000000\n"
     ]
    },
    {
     "name": "stderr",
     "output_type": "stream",
     "text": [
      "/hysplit-users/alicec/utilhysplit/utilvolc/ash_inverse.py:829: VisibleDeprecationWarning: Creating an ndarray from ragged nested sequences (which is a list-or-tuple of lists-or-tuples-or ndarrays with different lengths or shapes) is deprecated. If you meant to do this, you must specify 'dtype=object' when creating the ndarray.\n",
      "  self.latlist = np.array(latlist)\n",
      "/hysplit-users/alicec/utilhysplit/utilvolc/ash_inverse.py:830: VisibleDeprecationWarning: Creating an ndarray from ragged nested sequences (which is a list-or-tuple of lists-or-tuples-or ndarrays with different lengths or shapes) is deprecated. If you meant to do this, you must specify 'dtype=object' when creating the ndarray.\n",
      "  self.lonlist = np.array(lonlist)\n",
      "/hysplit-users/alicec/utilhysplit/utilvolc/ash_inverse.py:844: VisibleDeprecationWarning: Creating an ndarray from ragged nested sequences (which is a list-or-tuple of lists-or-tuples-or ndarrays with different lengths or shapes) is deprecated. If you meant to do this, you must specify 'dtype=object' when creating the ndarray.\n",
      "  self.latlist = np.array(latlist)\n",
      "/hysplit-users/alicec/utilhysplit/utilvolc/ash_inverse.py:845: VisibleDeprecationWarning: Creating an ndarray from ragged nested sequences (which is a list-or-tuple of lists-or-tuples-or ndarrays with different lengths or shapes) is deprecated. If you meant to do this, you must specify 'dtype=object' when creating the ndarray.\n",
      "  self.lonlist = np.array(lonlist)\n"
     ]
    }
   ],
   "source": [
    "%autoreload\n",
    "tii = [2,3]  #times to assimilate in inversion algorithm.\n",
    "remove_cols=True    # removes columns with no model values in them.\n",
    "remove_rows=False    # removes clear sky observations\n",
    "remove_sources = False\n",
    "remove_ncs=5\n",
    "#remove_sources = ['12880']  # this would remove top vertical level from consideration.\n",
    "#inverse.make_tcm_mult([1,2,3,4],remove_cols=True,remove_rows=False,remove_sources=['12880'])\n",
    "inverse.make_tcm_mult(tii,remove_cols=remove_cols, remove_rows=remove_rows, remove_sources=remove_sources,remove_ncs=remove_ncs)\n",
    "runtag = ai.create_runtag(tag,tii,remove_cols, remove_rows, remove_sources,remove_ncs=remove_ncs)\n",
    "\n",
    "# set the subdirectory for this TCM run.\n",
    "#subdir = inverse.set_sub_directory(runtag)\n",
    "#print('setting subdirectory {}'.format(subdir))"
   ]
  },
  {
   "cell_type": "code",
   "execution_count": null,
   "metadata": {},
   "outputs": [],
   "source": [
    "print(runtag)"
   ]
  },
  {
   "cell_type": "code",
   "execution_count": null,
   "metadata": {},
   "outputs": [],
   "source": [
    "numpar = 20000  # number of particles released per hour.\n",
    "delt = 5 # time step\n",
    "tave = 1 # 1 h time average\n",
    "hres = 0.1 # 0.1 degree horizontal resolution.\n",
    "rate = 1 # 1 unit mass per hour\n",
    "particle_mass = rate / numpar  #how much unit mass each particle has\n",
    "area = (hres * 111e3)**2  # area in meters squared for mass loading grid.\n",
    "mass_one = particle_mass / area  # unit mass / m2 for one particle in grid box.\n",
    "mass_one_one = mass_one / (tave*60 / delt)  # smallest mass loading possible with one particle for one time step\n",
    "print(mass_one_one)  # one particle for one time step\n",
    "print(mass_one)      # one particle in area."
   ]
  },
  {
   "cell_type": "code",
   "execution_count": 421,
   "metadata": {},
   "outputs": [
    {
     "name": "stderr",
     "output_type": "stream",
     "text": [
      "/hysplit-users/alicec/utilhysplit/utilvolc/ash_inverse.py:967: RuntimeWarning: divide by zero encountered in log10\n",
      "  cb = plt.pcolormesh(np.log10(self.tcm),cmap='tab20')\n"
     ]
    },
    {
     "data": {
      "image/png": "[encoded data removed]",
      "text/plain": [
       "<Figure size 432x288 with 2 Axes>"
      ]
     },
     "metadata": {},
     "output_type": "display_data"
    },
    {
     "data": {
      "text/plain": [
       "(2671, 45)"
      ]
     },
     "execution_count": 421,
     "metadata": {},
     "output_type": "execute_result"
    }
   ],
   "source": [
    "%autoreload\n",
    "inverse.plot_tcm()\n",
    "inverse.invlist[0].tcm.shape\n"
   ]
  },
  {
   "cell_type": "code",
   "execution_count": 422,
   "metadata": {},
   "outputs": [
    {
     "data": {
      "text/plain": [
       "'/hysplit-users/alicec/projects/bezy/RunB/RunB_2_3_TFw5'"
      ]
     },
     "execution_count": 422,
     "metadata": {},
     "output_type": "execute_result"
    }
   ],
   "source": [
    "#hysplitdir = '/hysplit-users/alicec/FBamcArea/exec/'\n",
    "#inverse.set_directory(wdir,execdir,hysplitdir)\n",
    "inverse.set_subdirectory(runtag)"
   ]
  },
  {
   "cell_type": "code",
   "execution_count": 423,
   "metadata": {
    "scrolled": true
   },
   "outputs": [
    {
     "name": "stdout",
     "output_type": "stream",
     "text": [
      "(2671, 45)\n",
      "N_ctrl 44\n",
      "output file /hysplit-users/alicec/projects/bezy/RunB/RunB_2_3_TFw5/runB4.tcm_bezyB.txt\n"
     ]
    }
   ],
   "source": [
    "%autoreload\n",
    "tcmstr = inverse.write_tcm(os.path.join(inverse.subdir, tcm_name_base.replace('zzz','4')))\n",
    "#print(tcmstr)"
   ]
  },
  {
   "cell_type": "code",
   "execution_count": 424,
   "metadata": {
    "scrolled": true
   },
   "outputs": [
    {
     "name": "stdout",
     "output_type": "stream",
     "text": [
      "bezyB\n"
     ]
    }
   ],
   "source": [
    "%autoreload\n",
    "#hysplitdir = '/hysplit-users/alicec/FBamcArea/exec/'\n",
    "#inverse.set_directory(wdir,execdir,hysplitdir)\n",
    "inverse.run_tcm()"
   ]
  },
  {
   "cell_type": "code",
   "execution_count": 425,
   "metadata": {},
   "outputs": [],
   "source": [
    "# Now run the inverse model.\n",
    "\n",
    "# open the Parameters_in.dat file and set N_ctrl, Nx_ctrl and lbfgs_nbd to\n",
    "# the number shown for N_ctrl above.\n",
    "\n",
    "# copy the tcm file to TCM_sum.csv\n",
    "\n",
    "# run new_lbfgsb.x"
   ]
  },
  {
   "cell_type": "code",
   "execution_count": 426,
   "metadata": {},
   "outputs": [
    {
     "data": {
      "text/plain": [
       "1.001613109228309"
      ]
     },
     "execution_count": 426,
     "metadata": {},
     "output_type": "execute_result"
    }
   ],
   "source": [
    "10**0.0007"
   ]
  },
  {
   "cell_type": "code",
   "execution_count": 427,
   "metadata": {},
   "outputs": [
    {
     "name": "stdout",
     "output_type": "stream",
     "text": [
      "bezyB\n"
     ]
    },
    {
     "data": {
      "image/png": "[encoded data removed]",
      "text/plain": [
       "<Figure size 432x288 with 2 Axes>"
      ]
     },
     "metadata": {},
     "output_type": "display_data"
    }
   ],
   "source": [
    "%autoreload\n",
    "inverse.plot_outdat(eii=None)"
   ]
  },
  {
   "cell_type": "code",
   "execution_count": 428,
   "metadata": {},
   "outputs": [
    {
     "name": "stdout",
     "output_type": "stream",
     "text": [
      "(['bezyB_out.dat'], ['bezyB_out2.dat'])\n",
      "/hysplit-users/alicec/projects/bezy/RunB/RunB_2_3_TFw5\n"
     ]
    }
   ],
   "source": [
    "print(inverse.make_tcm_names())\n",
    "print(inverse.subdir)"
   ]
  },
  {
   "cell_type": "code",
   "execution_count": 430,
   "metadata": {},
   "outputs": [
    {
     "data": {
      "image/png": "[encoded data removed]",
      "text/plain": [
       "<Figure size 432x288 with 1 Axes>"
      ]
     },
     "metadata": {},
     "output_type": "display_data"
    },
    {
     "name": "stdout",
     "output_type": "stream",
     "text": [
      "total 0.03868999104893059 Tg\n"
     ]
    },
    {
     "data": {
      "image/png": "[encoded data removed]",
      "text/plain": [
       "<Figure size 432x288 with 1 Axes>"
      ]
     },
     "metadata": {},
     "output_type": "display_data"
    }
   ],
   "source": [
    "%autoreload\n",
    "\n",
    "eii=None\n",
    "unit='g/h'\n",
    "unit='kg/s'\n",
    "inverse.plot_outdat_ts(eii,unit=unit)\n",
    "plt.show()\n",
    "inverse.plot_outdat_ts(eii,profile=True)\n",
    "inverse.save_emis(runtag+'.csv')\n",
    "#ax = plt.gca()\n",
    "#ax.set_ylim(0,10000)"
   ]
  },
  {
   "cell_type": "code",
   "execution_count": 431,
   "metadata": {},
   "outputs": [],
   "source": [
    "#%autoreload\n",
    "#inverse.sourcehash = ai.get_sourcehash(configdir,configfile)"
   ]
  },
  {
   "cell_type": "code",
   "execution_count": 432,
   "metadata": {
    "scrolled": false
   },
   "outputs": [
    {
     "name": "stdout",
     "output_type": "stream",
     "text": [
      "bezyB\n"
     ]
    },
    {
     "data": {
      "image/png": "[encoded data removed]",
      "text/plain": [
       "<Figure size 720x360 with 2 Axes>"
      ]
     },
     "metadata": {},
     "output_type": "display_data"
    },
    {
     "data": {
      "image/png": "[encoded data removed]",
      "text/plain": [
       "<Figure size 720x360 with 2 Axes>"
      ]
     },
     "metadata": {},
     "output_type": "display_data"
    }
   ],
   "source": [
    "%autoreload\n",
    "unit='kg/s'\n",
    "#unit='g/h'\n",
    "iii=0\n",
    "print(inverse.taglist[iii])\n",
    "ilist =  inverse.read_outdat()\n",
    "df = ilist[iii].get_emis()\n",
    "vals = inverse.invlist[iii].make_outdat(df)\n",
    "inverse.invlist[iii].plot_outdat(vals,log=False,cmap='viridis',unit=unit)\n",
    "#plt.savefig('{}.emissions_log.png'.format(figbase))\n",
    "plt.show()\n",
    "inverse.invlist[0].plot_outdat(vals,log=True,cmap='viridis',unit=unit)\n",
    "#plt.savefig('{}.emissions.png'.format(figbase))\n"
   ]
  },
  {
   "cell_type": "code",
   "execution_count": 433,
   "metadata": {},
   "outputs": [
    {
     "data": {
      "text/plain": [
       "{'HYSPLIT_DIR': '../',\n",
       " 'MAP_DIR': '/hysplit-users/alicec/hysplit.v5.0.0/graphics/',\n",
       " 'WORK_DIR': '/hysplit-users/alicec/tmp/',\n",
       " 'CONVERT_EXE': 'convert',\n",
       " 'PYTHON_EXE': '/hysplit-users/alicec/anaconda3/envs/hysplit/bin/python',\n",
       " 'forecastDirectory': '/pub/forecast',\n",
       " 'archivesDirectory': '/pub/archives',\n",
       " 'GHOSTSCRIPT_EXE': 'gs',\n",
       " 'DATA_DIR': '/hysplit-users/alicec/utilhysplit/utilvolc/ashapp/',\n",
       " 'owner': 'A. Person',\n",
       " 'VolcanoName': 'Bezymianny',\n",
       " 'area': 785000.0,\n",
       " 'top': 12880.0,\n",
       " 'bottom': 2880.0,\n",
       " 'start_date': datetime.datetime(2020, 10, 21, 19, 0),\n",
       " 'durationOfSimulation': 12.0,\n",
       " 'testminutes': 0.0,\n",
       " 'emissionHours': 6.0,\n",
       " 'meteorologicalData': 'gfs0p25',\n",
       " 'EruptionSize': 0.0,\n",
       " 'latitude': 55.978,\n",
       " 'longitude': 160.587,\n",
       " 'samplingIntervalHours': 1.0,\n",
       " 'eflag': 0.0,\n",
       " 'source_type': 'uniform',\n",
       " 'jobname': 'ashtest',\n",
       " 'runflag': 'inverse',\n",
       " 'timeres': 1,\n",
       " 'rate': 1,\n",
       " 'inv_vertical_resolution': 1000,\n",
       " 'gisOption': 3,\n",
       " 'zoomFactor': 50,\n",
       " 'generatingPostscript': True,\n",
       " 'generatingPDF': True,\n",
       " 'mapBackground': 'arlmap',\n",
       " 'mapProjection': 0,\n",
       " 'spatialPlotRadius': 500.0,\n",
       " 'graphicsResolution': 200,\n",
       " 'zip_compression_level': 3}"
      ]
     },
     "execution_count": 433,
     "metadata": {},
     "output_type": "execute_result"
    }
   ],
   "source": [
    "inverse.invlist[0].inp"
   ]
  },
  {
   "cell_type": "code",
   "execution_count": 434,
   "metadata": {},
   "outputs": [
    {
     "name": "stdout",
     "output_type": "stream",
     "text": [
      "Working directory, wdir :/hysplit-users/alicec/projects/bezy/RunB\n",
      "execdir :/hysplit-users/alicec/projects/bezy/Inverse_240\n",
      "hysplitdir :/hysplit-users/alicec/projects/bezy/hysplit\n",
      "subdir :/hysplit-users/alicec/projects/bezy/RunB/RunB_2_3_TFw5\n",
      "vdir :/hysplit-users/alicec/projects/bezy/data/volcat\n",
      "datadir :/hysplit-users/alicec/projects/bezy/data\n"
     ]
    }
   ],
   "source": [
    "%autoreload\n",
    "inverse.print_directories()"
   ]
  },
  {
   "cell_type": "code",
   "execution_count": 435,
   "metadata": {},
   "outputs": [
    {
     "name": "stderr",
     "output_type": "stream",
     "text": [
      "No meteorological files found /hysplit-users/alicec/projects/bezy/data/%Y%m%d/hysplit.t%Hz.gfs0p25f\n"
     ]
    },
    {
     "name": "stdout",
     "output_type": "stream",
     "text": [
      "writing efile {} /hysplit-users/alicec/projects/bezy/RunB/RunB_2_3_TFw5/bezyB_emit.txt\n",
      "gfs0p25\n",
      "fcst str /pub/forecast/%Y%m%d/\n",
      "making control file  gfs0p25\n",
      "/hysplit-users/alicec/projects/bezy/data/\n",
      "fcst str /hysplit-users/alicec/projects/bezy/data/%Y%m%d/\n",
      "WARNING /hysplit-users/alicec/projects/bezy/data/20201021/hysplit.t18z.gfs0p25f meteorological file does not exist\n",
      "WARNING /hysplit-users/alicec/projects/bezy/data/20201022/hysplit.t00z.gfs0p25f meteorological file does not exist\n",
      "WARNING /hysplit-users/alicec/projects/bezy/data/20201022/hysplit.t06z.gfs0p25f meteorological file does not exist\n",
      "WARNING /hysplit-users/alicec/projects/bezy/data/20201022/hysplit.t12z.gfs0p25f meteorological file does not exist\n",
      "WARNING /hysplit-users/alicec/projects/bezy/data/20201022/hysplit.t18z.gfs0p25f meteorological file does not exist\n",
      "WARNING /hysplit-users/alicec/projects/bezy/data/20201023/hysplit.t00z.gfs0p25f meteorological file does not exist\n",
      "WARNING /hysplit-users/alicec/projects/bezy/data/20201023/hysplit.t06z.gfs0p25f meteorological file does not exist\n",
      "WARNING /hysplit-users/alicec/projects/bezy/data/20201021/hysplit.t12z.gfs0p25f meteorological file does not exist\n",
      "WARNING /hysplit-users/alicec/projects/bezy/data/20201021/hysplit.t18z.gfs0p25f meteorological file does not exist\n",
      "WARNING /hysplit-users/alicec/projects/bezy/data/20201022/hysplit.t00z.gfs0p25f meteorological file does not exist\n",
      "WARNING /hysplit-users/alicec/projects/bezy/data/20201022/hysplit.t06z.gfs0p25f meteorological file does not exist\n",
      "WARNING /hysplit-users/alicec/projects/bezy/data/20201022/hysplit.t12z.gfs0p25f meteorological file does not exist\n",
      "WARNING /hysplit-users/alicec/projects/bezy/data/20201022/hysplit.t18z.gfs0p25f meteorological file does not exist\n",
      "WARNING /hysplit-users/alicec/projects/bezy/data/20201023/hysplit.t00z.gfs0p25f meteorological file does not exist\n",
      "WARNING /hysplit-users/alicec/projects/bezy/data/20201021/hysplit.t06z.gfs0p25f meteorological file does not exist\n",
      "WARNING /hysplit-users/alicec/projects/bezy/data/20201021/hysplit.t12z.gfs0p25f meteorological file does not exist\n",
      "WARNING /hysplit-users/alicec/projects/bezy/data/20201021/hysplit.t18z.gfs0p25f meteorological file does not exist\n",
      "WARNING /hysplit-users/alicec/projects/bezy/data/20201022/hysplit.t00z.gfs0p25f meteorological file does not exist\n",
      "WARNING /hysplit-users/alicec/projects/bezy/data/20201022/hysplit.t06z.gfs0p25f meteorological file does not exist\n",
      "WARNING /hysplit-users/alicec/projects/bezy/data/20201022/hysplit.t12z.gfs0p25f meteorological file does not exist\n",
      "WARNING /hysplit-users/alicec/projects/bezy/data/20201022/hysplit.t18z.gfs0p25f meteorological file does not exist\n",
      "WARNING /hysplit-users/alicec/projects/bezy/data/20201021/hysplit.t00z.gfs0p25f meteorological file does not exist\n",
      "WARNING /hysplit-users/alicec/projects/bezy/data/20201021/hysplit.t06z.gfs0p25f meteorological file does not exist\n",
      "WARNING /hysplit-users/alicec/projects/bezy/data/20201021/hysplit.t12z.gfs0p25f meteorological file does not exist\n",
      "WARNING /hysplit-users/alicec/projects/bezy/data/20201021/hysplit.t18z.gfs0p25f meteorological file does not exist\n",
      "WARNING /hysplit-users/alicec/projects/bezy/data/20201022/hysplit.t00z.gfs0p25f meteorological file does not exist\n",
      "WARNING /hysplit-users/alicec/projects/bezy/data/20201022/hysplit.t06z.gfs0p25f meteorological file does not exist\n",
      "WARNING /hysplit-users/alicec/projects/bezy/data/20201022/hysplit.t12z.gfs0p25f meteorological file does not exist\n",
      "WARNING /hysplit-users/alicec/projects/bezy/data/20201020/hysplit.t18z.gfs0p25f meteorological file does not exist\n",
      "WARNING /hysplit-users/alicec/projects/bezy/data/20201021/hysplit.t00z.gfs0p25f meteorological file does not exist\n",
      "WARNING /hysplit-users/alicec/projects/bezy/data/20201021/hysplit.t06z.gfs0p25f meteorological file does not exist\n",
      "WARNING /hysplit-users/alicec/projects/bezy/data/20201021/hysplit.t12z.gfs0p25f meteorological file does not exist\n",
      "WARNING /hysplit-users/alicec/projects/bezy/data/20201021/hysplit.t18z.gfs0p25f meteorological file does not exist\n",
      "WARNING /hysplit-users/alicec/projects/bezy/data/20201022/hysplit.t00z.gfs0p25f meteorological file does not exist\n",
      "WARNING /hysplit-users/alicec/projects/bezy/data/20201022/hysplit.t06z.gfs0p25f meteorological file does not exist\n",
      "WARNING /hysplit-users/alicec/projects/bezy/data/20201020/hysplit.t12z.gfs0p25f meteorological file does not exist\n",
      "WARNING /hysplit-users/alicec/projects/bezy/data/20201020/hysplit.t18z.gfs0p25f meteorological file does not exist\n",
      "WARNING /hysplit-users/alicec/projects/bezy/data/20201021/hysplit.t00z.gfs0p25f meteorological file does not exist\n",
      "WARNING /hysplit-users/alicec/projects/bezy/data/20201021/hysplit.t06z.gfs0p25f meteorological file does not exist\n",
      "WARNING /hysplit-users/alicec/projects/bezy/data/20201021/hysplit.t12z.gfs0p25f meteorological file does not exist\n",
      "WARNING /hysplit-users/alicec/projects/bezy/data/20201021/hysplit.t18z.gfs0p25f meteorological file does not exist\n",
      "WARNING /hysplit-users/alicec/projects/bezy/data/20201022/hysplit.t00z.gfs0p25f meteorological file does not exist\n",
      "Looking in archive for met files\n"
     ]
    }
   ],
   "source": [
    "%autoreload\n",
    "# creates emit-times, CONTROL and SETUP files for HYSPLIT runs.\n",
    "# Note that warning that meteorological files not found is ok.\n",
    "inverse.make_efile(vloc=vloc)"
   ]
  },
  {
   "cell_type": "code",
   "execution_count": 436,
   "metadata": {},
   "outputs": [
    {
     "name": "stdout",
     "output_type": "stream",
     "text": [
      "running  /hysplit-users/alicec/projects/bezy/hysplit/exec/hycs_std bezyB\n",
      "in loop 0s procs 1\n",
      "in loop 30s procs 1\n",
      "in loop 60s procs 1\n",
      "in loop 90s procs 1\n",
      "in loop 120s procs 1\n",
      "in loop 150s procs 1\n",
      "in loop 180s procs 1\n",
      "in loop 210s procs 1\n",
      "in loop 240s procs 1\n",
      "in loop 270s procs 1\n",
      "in loop 300s procs 1\n",
      "in loop 330s procs 1\n",
      "in loop 360s procs 1\n",
      "in loop 390s procs 1\n",
      "in loop 420s procs 1\n",
      "in loop 450s procs 0\n"
     ]
    }
   ],
   "source": [
    "%autoreload\n",
    "inverse.run_hysplit()"
   ]
  },
  {
   "cell_type": "markdown",
   "metadata": {},
   "source": [
    "# Creating netcdf files from cdump"
   ]
  },
  {
   "cell_type": "code",
   "execution_count": 113,
   "metadata": {},
   "outputs": [
    {
     "data": {
      "text/plain": [
       "'/hysplit-users/alicec/projects/bezy/RunB/RunB_7_TT'"
      ]
     },
     "execution_count": 113,
     "metadata": {},
     "output_type": "execute_result"
    }
   ],
   "source": [
    "runtag = 'RunB_5_TT'\n",
    "runtag = 'RunB_2_3_4_TF'\n",
    "runtag = 'RunB_2_3_4_TT'\n",
    "runtag = 'RunB_7_TT'\n",
    "inverse.set_subdirectory(runtag)"
   ]
  },
  {
   "cell_type": "code",
   "execution_count": 114,
   "metadata": {
    "scrolled": true
   },
   "outputs": [],
   "source": [
    "%autoreload\n",
    "# converts cdump to netcdf file.\n",
    "#dset = inverse.create_emit_output(inverse.subdir + '/Run{}.nc'.format(tag))"
   ]
  },
  {
   "cell_type": "code",
   "execution_count": 115,
   "metadata": {},
   "outputs": [],
   "source": [
    "#for attr in dset.attrs: print(type(dset.attrs[attr]), attr)"
   ]
  },
  {
   "cell_type": "code",
   "execution_count": 194,
   "metadata": {},
   "outputs": [
    {
     "name": "stdout",
     "output_type": "stream",
     "text": [
      "['/hysplit-users/alicec/projects/bezy/RunB/RunB_2_3_4_TF/cdump.bezyB', 'gfs0p25', 'RunB_2_3_4_TF']\n",
      "True\n",
      "['/hysplit-users/alicec/projects/bezy/RunB/RunB_2_3_4_TFw5/cdump.bezyB', 'gfs0p25', 'RunB_2_3_4_TFw5']\n",
      "True\n",
      "['/hysplit-users/alicec/projects/bezy/RunB/RunB_4_5_6_TFw5/cdump.bezyB', 'gfs0p25', 'RunB_4_5_6_TFw5']\n",
      "True\n",
      "['/hysplit-users/alicec/projects/bezy/RunB/RunB_7_8_TFw7/cdump.bezyB', 'gfs0p25', 'RunB_7_8_TFw7']\n",
      "True\n",
      "['/hysplit-users/alicec/projects/bezy/RunB/RunB_2_3_4_TT/cdump.bezyB', 'gfs0p25', 'RunB_2_3_4_TT']\n",
      "True\n",
      "['/hysplit-users/alicec/projects/bezy/RunB/RunB_2_3_4_5_6_7_8_9_10_11_TTw7/cdump.bezyB', 'gfs0p25', 'RunB_2_3_4_5_6_7_8_9_10_11_TTw7']\n",
      "True\n",
      "['/hysplit-users/alicec/projects/bezy/RunB/RunB_2_3_4_5_6_7_8_9_10_11_TF/cdump.bezyB', 'gfs0p25', 'RunB_2_3_4_5_6_7_8_9_10_11_TF']\n",
      "True\n",
      "('/hysplit-users/alicec/projects/bezy/RunC/RunC_2_3_4_TFw5/cdump.bezyC', 'gfs0p25', 'RunC_2_3_4_TFw5')\n",
      "True\n",
      "('/hysplit-users/alicec/projects/bezy/RunC/RunC_4_5_6_TFw5/cdump.bezyC', 'gfs0p25', 'RunC_4_5_6_TFw5')\n",
      "True\n",
      "('/hysplit-users/alicec/projects/bezy/RunC/RunC_7_8_TFw7/cdump.bezyC', 'gfs0p25', 'RunC_7_8_TFw7')\n",
      "True\n",
      "('/hysplit-users/alicec/projects/bezy/RunC/RunC_9_10_11_TFw7/cdump.bezyC', 'gfs0p25', 'RunC_9_10_11_TFw7')\n",
      "True\n",
      "('/hysplit-users/alicec/projects/bezy/RunD/RunD_2_3_4_TFw5/cdump.ezyD1', 'gfs0p25', 'RunD_2_3_4_TFw5')\n",
      "True\n",
      "('/hysplit-users/alicec/projects/bezy/RunD/RunD_4_5_6_TFw5/cdump.ezyD1', 'gfs0p25', 'RunD_4_5_6_TFw5')\n",
      "True\n",
      "('/hysplit-users/alicec/projects/bezy/RunD/RunD_7_8_TFw7/cdump.ezyD1', 'gfs0p25', 'RunD_7_8_TFw7')\n",
      "True\n",
      "('/hysplit-users/alicec/projects/bezy/RunD/RunD_9_10_11_TFw7/cdump.ezyD1', 'gfs0p25', 'RunD_9_10_11_TFw7')\n",
      "True\n",
      "('/hysplit-users/alicec/projects/bezy/RunD/RunD_2_3_4_5_6_7_8_9_10_11_TFw7/cdump.ezyD1', 'gfs0p25', 'RunD_2_3_4_5_6_7_8_9_10_11_TFw7')\n",
      "True\n",
      "('/hysplit-users/alicec/projects/bezy/RunD/RunD_2_3_4_5_6_7_8_9_10_11_TT/cdump.ezyD1', 'gfs0p25', 'RunD_2_3_4_5_6_7_8_9_10_11_TT')\n",
      "True\n"
     ]
    }
   ],
   "source": [
    "blist = []\n",
    "for iii, subdir in enumerate(runtag):\n",
    "    #print(subdir)\n",
    "    inverse.set_subdirectory(subdir)\n",
    "    #print(inverse.subdir)\n",
    "    if os.path.isfile(os.path.join(inverse.subdir,'cdump.bezyB')):\n",
    "       blist.append([os.path.join(inverse.subdir,'cdump.bezyB'),'gfs0p25',subdir])\n",
    "\n",
    "\n",
    "#cdir = '/hysplit-users/alicec/projects/bezy/RunB/'\n",
    "#tags = ['RunC_2_3_4_TFw5', 'RunC_4_5_6_TFw5', 'RunC_7_8_TFw7','RunC_9_10_11_TFw7']\n",
    "#name = 'cdump.bezyC'\n",
    "#for tag in tags:\n",
    "#    blist.append((os.path.join(cdir,tag,name),'gfs0p25',tag))\n",
    "    \n",
    "cdir = '/hysplit-users/alicec/projects/bezy/RunC/'\n",
    "tags = ['RunC_2_3_4_TFw5', 'RunC_4_5_6_TFw5', 'RunC_7_8_TFw7','RunC_9_10_11_TFw7']\n",
    "name = 'cdump.bezyC'\n",
    "for tag in tags:\n",
    "    blist.append((os.path.join(cdir,tag,name),'gfs0p25',tag))\n",
    "\n",
    "\n",
    "\n",
    "cdir = '/hysplit-users/alicec/projects/bezy/RunD/'\n",
    "tags = ['RunD_2_3_4_TFw5', 'RunD_4_5_6_TFw5', 'RunD_7_8_TFw7','RunD_9_10_11_TFw7']\n",
    "tags.append('RunD_2_3_4_5_6_7_8_9_10_11_TFw7')\n",
    "tags.append('RunD_2_3_4_5_6_7_8_9_10_11_TT')\n",
    "name = 'cdump.ezyD1'\n",
    "for tag in tags:\n",
    "    blist.append((os.path.join(cdir,tag,name),'gfs0p25',tag))\n",
    "\n",
    "for bl in blist: \n",
    "    print(bl)\n",
    "    print(os.path.isfile(bl[0]))\n",
    "#dset = hysplit.combine_dataset(blist)"
   ]
  },
  {
   "cell_type": "code",
   "execution_count": null,
   "metadata": {},
   "outputs": [],
   "source": [
    "dset.ens.values\n",
    "dset.to_netcdf(os.path.join(inverse.wdir,'RunGFS2.nc'))"
   ]
  },
  {
   "cell_type": "code",
   "execution_count": 74,
   "metadata": {},
   "outputs": [
    {
     "name": "stdout",
     "output_type": "stream",
     "text": [
      "bezyB\n"
     ]
    },
    {
     "data": {
      "image/png": "[encoded data removed]",
      "text/plain": [
       "<Figure size 720x360 with 2 Axes>"
      ]
     },
     "metadata": {},
     "output_type": "display_data"
    },
    {
     "data": {
      "image/png": "[encoded data removed]",
      "text/plain": [
       "<Figure size 720x360 with 2 Axes>"
      ]
     },
     "metadata": {},
     "output_type": "display_data"
    }
   ],
   "source": [
    "%autoreload\n",
    "unit='kg/s'\n",
    "#unit='g/h'\n",
    "iii=0\n",
    "print(inverse.taglist[iii])\n",
    "ilist =  inverse.read_outdat()\n",
    "df = ilist[iii].get_emis()\n",
    "vals = inverse.invlist[iii].make_outdat(df)\n",
    "inverse.invlist[iii].plot_outdat(vals,log=False,cmap='viridis',unit=unit)\n",
    "#plt.savefig('{}.emissions_log.png'.format(figbase))\n",
    "plt.show()\n",
    "inverse.invlist[0].plot_outdat(vals,log=True,cmap='viridis',unit=unit)\n",
    "#plt.savefig('{}.emissions.png'.format(figbase))"
   ]
  },
  {
   "cell_type": "code",
   "execution_count": 46,
   "metadata": {},
   "outputs": [],
   "source": [
    "v8, c8 = inverse.invlist[0].get_pair(4)"
   ]
  },
  {
   "cell_type": "code",
   "execution_count": 47,
   "metadata": {},
   "outputs": [
    {
     "data": {
      "text/plain": [
       "<matplotlib.collections.QuadMesh at 0x7fe63cbe62e0>"
      ]
     },
     "execution_count": 47,
     "metadata": {},
     "output_type": "execute_result"
    },
    {
     "data": {
      "image/png": "[encoded data removed]",
      "text/plain": [
       "<Figure size 432x288 with 2 Axes>"
      ]
     },
     "metadata": {},
     "output_type": "display_data"
    }
   ],
   "source": [
    "v8.plot.pcolormesh()"
   ]
  },
  {
   "cell_type": "code",
   "execution_count": 49,
   "metadata": {},
   "outputs": [],
   "source": [
    "test1 = xr.where(test>0,True,False)\n",
    "test2 = xr.where(v8>0,True,False)"
   ]
  },
  {
   "cell_type": "code",
   "execution_count": 48,
   "metadata": {},
   "outputs": [
    {
     "data": {
      "text/plain": [
       "<matplotlib.collections.QuadMesh at 0x7fe63cc931c0>"
      ]
     },
     "execution_count": 48,
     "metadata": {},
     "output_type": "execute_result"
    },
    {
     "data": {
      "image/png": "[encoded data removed]",
      "text/plain": [
       "<Figure size 432x288 with 2 Axes>"
      ]
     },
     "metadata": {},
     "output_type": "display_data"
    }
   ],
   "source": [
    "spread=4\n",
    "test = v8.rolling(x=spread,center=True).max()\n",
    "test = test.rolling(y=spread,center=True).max()\n",
    "test.plot.pcolormesh()"
   ]
  },
  {
   "cell_type": "code",
   "execution_count": 50,
   "metadata": {},
   "outputs": [
    {
     "data": {
      "text/html": [
       "<div><svg style=\"position: absolute; width: 0; height: 0; overflow: hidden\">\n",
       "<defs>\n",
       "<symbol id=\"icon-database\" viewBox=\"0 0 32 32\">\n",
       "<path d=\"M16 0c-8.837 0-16 2.239-16 5v4c0 2.761 7.163 5 16 5s16-2.239 16-5v-4c0-2.761-7.163-5-16-5z\"></path>\n",
       "<path d=\"M16 17c-8.837 0-16-2.239-16-5v6c0 2.761 7.163 5 16 5s16-2.239 16-5v-6c0 2.761-7.163 5-16 5z\"></path>\n",
       "<path d=\"M16 26c-8.837 0-16-2.239-16-5v6c0 2.761 7.163 5 16 5s16-2.239 16-5v-6c0 2.761-7.163 5-16 5z\"></path>\n",
       "</symbol>\n",
       "<symbol id=\"icon-file-text2\" viewBox=\"0 0 32 32\">\n",
       "<path d=\"M28.681 7.159c-0.694-0.947-1.662-2.053-2.724-3.116s-2.169-2.030-3.116-2.724c-1.612-1.182-2.393-1.319-2.841-1.319h-15.5c-1.378 0-2.5 1.121-2.5 2.5v27c0 1.378 1.122 2.5 2.5 2.5h23c1.378 0 2.5-1.122 2.5-2.5v-19.5c0-0.448-0.137-1.23-1.319-2.841zM24.543 5.457c0.959 0.959 1.712 1.825 2.268 2.543h-4.811v-4.811c0.718 0.556 1.584 1.309 2.543 2.268zM28 29.5c0 0.271-0.229 0.5-0.5 0.5h-23c-0.271 0-0.5-0.229-0.5-0.5v-27c0-0.271 0.229-0.5 0.5-0.5 0 0 15.499-0 15.5 0v7c0 0.552 0.448 1 1 1h7v19.5z\"></path>\n",
       "<path d=\"M23 26h-14c-0.552 0-1-0.448-1-1s0.448-1 1-1h14c0.552 0 1 0.448 1 1s-0.448 1-1 1z\"></path>\n",
       "<path d=\"M23 22h-14c-0.552 0-1-0.448-1-1s0.448-1 1-1h14c0.552 0 1 0.448 1 1s-0.448 1-1 1z\"></path>\n",
       "<path d=\"M23 18h-14c-0.552 0-1-0.448-1-1s0.448-1 1-1h14c0.552 0 1 0.448 1 1s-0.448 1-1 1z\"></path>\n",
       "</symbol>\n",
       "</defs>\n",
       "</svg>\n",
       "<style>/* CSS stylesheet for displaying xarray objects in jupyterlab.\n",
       " *\n",
       " */\n",
       "\n",
       ":root {\n",
       "  --xr-font-color0: var(--jp-content-font-color0, rgba(0, 0, 0, 1));\n",
       "  --xr-font-color2: var(--jp-content-font-color2, rgba(0, 0, 0, 0.54));\n",
       "  --xr-font-color3: var(--jp-content-font-color3, rgba(0, 0, 0, 0.38));\n",
       "  --xr-border-color: var(--jp-border-color2, #e0e0e0);\n",
       "  --xr-disabled-color: var(--jp-layout-color3, #bdbdbd);\n",
       "  --xr-background-color: var(--jp-layout-color0, white);\n",
       "  --xr-background-color-row-even: var(--jp-layout-color1, white);\n",
       "  --xr-background-color-row-odd: var(--jp-layout-color2, #eeeeee);\n",
       "}\n",
       "\n",
       "html[theme=dark],\n",
       "body.vscode-dark {\n",
       "  --xr-font-color0: rgba(255, 255, 255, 1);\n",
       "  --xr-font-color2: rgba(255, 255, 255, 0.54);\n",
       "  --xr-font-color3: rgba(255, 255, 255, 0.38);\n",
       "  --xr-border-color: #1F1F1F;\n",
       "  --xr-disabled-color: #515151;\n",
       "  --xr-background-color: #111111;\n",
       "  --xr-background-color-row-even: #111111;\n",
       "  --xr-background-color-row-odd: #313131;\n",
       "}\n",
       "\n",
       ".xr-wrap {\n",
       "  display: block;\n",
       "  min-width: 300px;\n",
       "  max-width: 700px;\n",
       "}\n",
       "\n",
       ".xr-text-repr-fallback {\n",
       "  /* fallback to plain text repr when CSS is not injected (untrusted notebook) */\n",
       "  display: none;\n",
       "}\n",
       "\n",
       ".xr-header {\n",
       "  padding-top: 6px;\n",
       "  padding-bottom: 6px;\n",
       "  margin-bottom: 4px;\n",
       "  border-bottom: solid 1px var(--xr-border-color);\n",
       "}\n",
       "\n",
       ".xr-header > div,\n",
       ".xr-header > ul {\n",
       "  display: inline;\n",
       "  margin-top: 0;\n",
       "  margin-bottom: 0;\n",
       "}\n",
       "\n",
       ".xr-obj-type,\n",
       ".xr-array-name {\n",
       "  margin-left: 2px;\n",
       "  margin-right: 10px;\n",
       "}\n",
       "\n",
       ".xr-obj-type {\n",
       "  color: var(--xr-font-color2);\n",
       "}\n",
       "\n",
       ".xr-sections {\n",
       "  padding-left: 0 !important;\n",
       "  display: grid;\n",
       "  grid-template-columns: 150px auto auto 1fr 20px 20px;\n",
       "}\n",
       "\n",
       ".xr-section-item {\n",
       "  display: contents;\n",
       "}\n",
       "\n",
       ".xr-section-item input {\n",
       "  display: none;\n",
       "}\n",
       "\n",
       ".xr-section-item input + label {\n",
       "  color: var(--xr-disabled-color);\n",
       "}\n",
       "\n",
       ".xr-section-item input:enabled + label {\n",
       "  cursor: pointer;\n",
       "  color: var(--xr-font-color2);\n",
       "}\n",
       "\n",
       ".xr-section-item input:enabled + label:hover {\n",
       "  color: var(--xr-font-color0);\n",
       "}\n",
       "\n",
       ".xr-section-summary {\n",
       "  grid-column: 1;\n",
       "  color: var(--xr-font-color2);\n",
       "  font-weight: 500;\n",
       "}\n",
       "\n",
       ".xr-section-summary > span {\n",
       "  display: inline-block;\n",
       "  padding-left: 0.5em;\n",
       "}\n",
       "\n",
       ".xr-section-summary-in:disabled + label {\n",
       "  color: var(--xr-font-color2);\n",
       "}\n",
       "\n",
       ".xr-section-summary-in + label:before {\n",
       "  display: inline-block;\n",
       "  content: '►';\n",
       "  font-size: 11px;\n",
       "  width: 15px;\n",
       "  text-align: center;\n",
       "}\n",
       "\n",
       ".xr-section-summary-in:disabled + label:before {\n",
       "  color: var(--xr-disabled-color);\n",
       "}\n",
       "\n",
       ".xr-section-summary-in:checked + label:before {\n",
       "  content: '▼';\n",
       "}\n",
       "\n",
       ".xr-section-summary-in:checked + label > span {\n",
       "  display: none;\n",
       "}\n",
       "\n",
       ".xr-section-summary,\n",
       ".xr-section-inline-details {\n",
       "  padding-top: 4px;\n",
       "  padding-bottom: 4px;\n",
       "}\n",
       "\n",
       ".xr-section-inline-details {\n",
       "  grid-column: 2 / -1;\n",
       "}\n",
       "\n",
       ".xr-section-details {\n",
       "  display: none;\n",
       "  grid-column: 1 / -1;\n",
       "  margin-bottom: 5px;\n",
       "}\n",
       "\n",
       ".xr-section-summary-in:checked ~ .xr-section-details {\n",
       "  display: contents;\n",
       "}\n",
       "\n",
       ".xr-array-wrap {\n",
       "  grid-column: 1 / -1;\n",
       "  display: grid;\n",
       "  grid-template-columns: 20px auto;\n",
       "}\n",
       "\n",
       ".xr-array-wrap > label {\n",
       "  grid-column: 1;\n",
       "  vertical-align: top;\n",
       "}\n",
       "\n",
       ".xr-preview {\n",
       "  color: var(--xr-font-color3);\n",
       "}\n",
       "\n",
       ".xr-array-preview,\n",
       ".xr-array-data {\n",
       "  padding: 0 5px !important;\n",
       "  grid-column: 2;\n",
       "}\n",
       "\n",
       ".xr-array-data,\n",
       ".xr-array-in:checked ~ .xr-array-preview {\n",
       "  display: none;\n",
       "}\n",
       "\n",
       ".xr-array-in:checked ~ .xr-array-data,\n",
       ".xr-array-preview {\n",
       "  display: inline-block;\n",
       "}\n",
       "\n",
       ".xr-dim-list {\n",
       "  display: inline-block !important;\n",
       "  list-style: none;\n",
       "  padding: 0 !important;\n",
       "  margin: 0;\n",
       "}\n",
       "\n",
       ".xr-dim-list li {\n",
       "  display: inline-block;\n",
       "  padding: 0;\n",
       "  margin: 0;\n",
       "}\n",
       "\n",
       ".xr-dim-list:before {\n",
       "  content: '(';\n",
       "}\n",
       "\n",
       ".xr-dim-list:after {\n",
       "  content: ')';\n",
       "}\n",
       "\n",
       ".xr-dim-list li:not(:last-child):after {\n",
       "  content: ',';\n",
       "  padding-right: 5px;\n",
       "}\n",
       "\n",
       ".xr-has-index {\n",
       "  font-weight: bold;\n",
       "}\n",
       "\n",
       ".xr-var-list,\n",
       ".xr-var-item {\n",
       "  display: contents;\n",
       "}\n",
       "\n",
       ".xr-var-item > div,\n",
       ".xr-var-item label,\n",
       ".xr-var-item > .xr-var-name span {\n",
       "  background-color: var(--xr-background-color-row-even);\n",
       "  margin-bottom: 0;\n",
       "}\n",
       "\n",
       ".xr-var-item > .xr-var-name:hover span {\n",
       "  padding-right: 5px;\n",
       "}\n",
       "\n",
       ".xr-var-list > li:nth-child(odd) > div,\n",
       ".xr-var-list > li:nth-child(odd) > label,\n",
       ".xr-var-list > li:nth-child(odd) > .xr-var-name span {\n",
       "  background-color: var(--xr-background-color-row-odd);\n",
       "}\n",
       "\n",
       ".xr-var-name {\n",
       "  grid-column: 1;\n",
       "}\n",
       "\n",
       ".xr-var-dims {\n",
       "  grid-column: 2;\n",
       "}\n",
       "\n",
       ".xr-var-dtype {\n",
       "  grid-column: 3;\n",
       "  text-align: right;\n",
       "  color: var(--xr-font-color2);\n",
       "}\n",
       "\n",
       ".xr-var-preview {\n",
       "  grid-column: 4;\n",
       "}\n",
       "\n",
       ".xr-var-name,\n",
       ".xr-var-dims,\n",
       ".xr-var-dtype,\n",
       ".xr-preview,\n",
       ".xr-attrs dt {\n",
       "  white-space: nowrap;\n",
       "  overflow: hidden;\n",
       "  text-overflow: ellipsis;\n",
       "  padding-right: 10px;\n",
       "}\n",
       "\n",
       ".xr-var-name:hover,\n",
       ".xr-var-dims:hover,\n",
       ".xr-var-dtype:hover,\n",
       ".xr-attrs dt:hover {\n",
       "  overflow: visible;\n",
       "  width: auto;\n",
       "  z-index: 1;\n",
       "}\n",
       "\n",
       ".xr-var-attrs,\n",
       ".xr-var-data {\n",
       "  display: none;\n",
       "  background-color: var(--xr-background-color) !important;\n",
       "  padding-bottom: 5px !important;\n",
       "}\n",
       "\n",
       ".xr-var-attrs-in:checked ~ .xr-var-attrs,\n",
       ".xr-var-data-in:checked ~ .xr-var-data {\n",
       "  display: block;\n",
       "}\n",
       "\n",
       ".xr-var-data > table {\n",
       "  float: right;\n",
       "}\n",
       "\n",
       ".xr-var-name span,\n",
       ".xr-var-data,\n",
       ".xr-attrs {\n",
       "  padding-left: 25px !important;\n",
       "}\n",
       "\n",
       ".xr-attrs,\n",
       ".xr-var-attrs,\n",
       ".xr-var-data {\n",
       "  grid-column: 1 / -1;\n",
       "}\n",
       "\n",
       "dl.xr-attrs {\n",
       "  padding: 0;\n",
       "  margin: 0;\n",
       "  display: grid;\n",
       "  grid-template-columns: 125px auto;\n",
       "}\n",
       "\n",
       ".xr-attrs dt,\n",
       ".xr-attrs dd {\n",
       "  padding: 0;\n",
       "  margin: 0;\n",
       "  float: left;\n",
       "  padding-right: 10px;\n",
       "  width: auto;\n",
       "}\n",
       "\n",
       ".xr-attrs dt {\n",
       "  font-weight: normal;\n",
       "  grid-column: 1;\n",
       "}\n",
       "\n",
       ".xr-attrs dt:hover span {\n",
       "  display: inline-block;\n",
       "  background: var(--xr-background-color);\n",
       "  padding-right: 10px;\n",
       "}\n",
       "\n",
       ".xr-attrs dd {\n",
       "  grid-column: 2;\n",
       "  white-space: pre-wrap;\n",
       "  word-break: break-all;\n",
       "}\n",
       "\n",
       ".xr-icon-database,\n",
       ".xr-icon-file-text2 {\n",
       "  display: inline-block;\n",
       "  vertical-align: middle;\n",
       "  width: 1em;\n",
       "  height: 1.5em !important;\n",
       "  stroke-width: 0;\n",
       "  stroke: currentColor;\n",
       "  fill: currentColor;\n",
       "}\n",
       "</style><pre class='xr-text-repr-fallback'>&lt;xarray.DataArray &#x27;ash_mass_loading&#x27; (y: 48, x: 51)&gt;\n",
       "array([[False, False, False, ..., False, False, False],\n",
       "       [False, False, False, ..., False, False, False],\n",
       "       [False, False, False, ..., False, False, False],\n",
       "       ...,\n",
       "       [False, False, False, ..., False, False, False],\n",
       "       [False, False, False, ..., False, False, False],\n",
       "       [False, False, False, ..., False, False, False]])\n",
       "Coordinates:\n",
       "  * y          (y) int64 425 426 427 428 429 430 431 ... 467 468 469 470 471 472\n",
       "  * x          (x) int64 872 873 874 875 876 877 878 ... 917 918 919 920 921 922\n",
       "    latitude   (y, x) float64 53.38 53.38 53.38 53.38 ... 58.08 58.08 58.08\n",
       "    longitude  (y, x) float64 157.7 157.8 157.9 158.0 ... 162.5 162.6 162.7</pre><div class='xr-wrap' hidden><div class='xr-header'><div class='xr-obj-type'>xarray.DataArray</div><div class='xr-array-name'>'ash_mass_loading'</div><ul class='xr-dim-list'><li><span class='xr-has-index'>y</span>: 48</li><li><span class='xr-has-index'>x</span>: 51</li></ul></div><ul class='xr-sections'><li class='xr-section-item'><div class='xr-array-wrap'><input id='section-4d20e44a-f227-4796-addb-df8ba23c25e3' class='xr-array-in' type='checkbox' checked><label for='section-4d20e44a-f227-4796-addb-df8ba23c25e3' title='Show/hide data repr'><svg class='icon xr-icon-database'><use xlink:href='#icon-database'></use></svg></label><div class='xr-array-preview xr-preview'><span>False False False False False False ... False False False False False</span></div><div class='xr-array-data'><pre>array([[False, False, False, ..., False, False, False],\n",
       "       [False, False, False, ..., False, False, False],\n",
       "       [False, False, False, ..., False, False, False],\n",
       "       ...,\n",
       "       [False, False, False, ..., False, False, False],\n",
       "       [False, False, False, ..., False, False, False],\n",
       "       [False, False, False, ..., False, False, False]])</pre></div></div></li><li class='xr-section-item'><input id='section-14c57ff5-ccd8-459e-b62a-175801015b86' class='xr-section-summary-in' type='checkbox'  checked><label for='section-14c57ff5-ccd8-459e-b62a-175801015b86' class='xr-section-summary' >Coordinates: <span>(4)</span></label><div class='xr-section-inline-details'></div><div class='xr-section-details'><ul class='xr-var-list'><li class='xr-var-item'><div class='xr-var-name'><span class='xr-has-index'>y</span></div><div class='xr-var-dims'>(y)</div><div class='xr-var-dtype'>int64</div><div class='xr-var-preview xr-preview'>425 426 427 428 ... 469 470 471 472</div><input id='attrs-74882ed9-690e-4dc8-87a5-27164c116a3c' class='xr-var-attrs-in' type='checkbox' disabled><label for='attrs-74882ed9-690e-4dc8-87a5-27164c116a3c' title='Show/Hide attributes'><svg class='icon xr-icon-file-text2'><use xlink:href='#icon-file-text2'></use></svg></label><input id='data-7888e26d-8aae-48a3-8fc0-e0bee474bd1c' class='xr-var-data-in' type='checkbox'><label for='data-7888e26d-8aae-48a3-8fc0-e0bee474bd1c' title='Show/Hide data repr'><svg class='icon xr-icon-database'><use xlink:href='#icon-database'></use></svg></label><div class='xr-var-attrs'><dl class='xr-attrs'></dl></div><div class='xr-var-data'><pre>array([425, 426, 427, 428, 429, 430, 431, 432, 433, 434, 435, 436, 437, 438,\n",
       "       439, 440, 441, 442, 443, 444, 445, 446, 447, 448, 449, 450, 451, 452,\n",
       "       453, 454, 455, 456, 457, 458, 459, 460, 461, 462, 463, 464, 465, 466,\n",
       "       467, 468, 469, 470, 471, 472])</pre></div></li><li class='xr-var-item'><div class='xr-var-name'><span class='xr-has-index'>x</span></div><div class='xr-var-dims'>(x)</div><div class='xr-var-dtype'>int64</div><div class='xr-var-preview xr-preview'>872 873 874 875 ... 919 920 921 922</div><input id='attrs-c900fcf6-d0ee-45f6-a5b6-8909f6ad7bd3' class='xr-var-attrs-in' type='checkbox' disabled><label for='attrs-c900fcf6-d0ee-45f6-a5b6-8909f6ad7bd3' title='Show/Hide attributes'><svg class='icon xr-icon-file-text2'><use xlink:href='#icon-file-text2'></use></svg></label><input id='data-c4a60e22-1a8f-4f85-a597-956defd720d5' class='xr-var-data-in' type='checkbox'><label for='data-c4a60e22-1a8f-4f85-a597-956defd720d5' title='Show/Hide data repr'><svg class='icon xr-icon-database'><use xlink:href='#icon-database'></use></svg></label><div class='xr-var-attrs'><dl class='xr-attrs'></dl></div><div class='xr-var-data'><pre>array([872, 873, 874, 875, 876, 877, 878, 879, 880, 881, 882, 883, 884, 885,\n",
       "       886, 887, 888, 889, 890, 891, 892, 893, 894, 895, 896, 897, 898, 899,\n",
       "       900, 901, 902, 903, 904, 905, 906, 907, 908, 909, 910, 911, 912, 913,\n",
       "       914, 915, 916, 917, 918, 919, 920, 921, 922])</pre></div></li><li class='xr-var-item'><div class='xr-var-name'><span>latitude</span></div><div class='xr-var-dims'>(y, x)</div><div class='xr-var-dtype'>float64</div><div class='xr-var-preview xr-preview'>53.38 53.38 53.38 ... 58.08 58.08</div><input id='attrs-168bd540-568d-4e2d-887c-4ec6e27d448b' class='xr-var-attrs-in' type='checkbox' disabled><label for='attrs-168bd540-568d-4e2d-887c-4ec6e27d448b' title='Show/Hide attributes'><svg class='icon xr-icon-file-text2'><use xlink:href='#icon-file-text2'></use></svg></label><input id='data-b2b6928a-d886-47ef-a924-622dc36e01cb' class='xr-var-data-in' type='checkbox'><label for='data-b2b6928a-d886-47ef-a924-622dc36e01cb' title='Show/Hide data repr'><svg class='icon xr-icon-database'><use xlink:href='#icon-database'></use></svg></label><div class='xr-var-attrs'><dl class='xr-attrs'></dl></div><div class='xr-var-data'><pre>array([[53.37800064, 53.37800064, 53.37800064, ..., 53.37800064,\n",
       "        53.37800064, 53.37800064],\n",
       "       [53.47800064, 53.47800064, 53.47800064, ..., 53.47800064,\n",
       "        53.47800064, 53.47800064],\n",
       "       [53.57800064, 53.57800064, 53.57800064, ..., 53.57800064,\n",
       "        53.57800064, 53.57800064],\n",
       "       ...,\n",
       "       [57.87800064, 57.87800064, 57.87800064, ..., 57.87800064,\n",
       "        57.87800064, 57.87800064],\n",
       "       [57.97800064, 57.97800064, 57.97800064, ..., 57.97800064,\n",
       "        57.97800064, 57.97800064],\n",
       "       [58.07800064, 58.07800064, 58.07800064, ..., 58.07800064,\n",
       "        58.07800064, 58.07800064]])</pre></div></li><li class='xr-var-item'><div class='xr-var-name'><span>longitude</span></div><div class='xr-var-dims'>(y, x)</div><div class='xr-var-dtype'>float64</div><div class='xr-var-preview xr-preview'>157.7 157.8 157.9 ... 162.6 162.7</div><input id='attrs-359aa257-b869-40a3-8be1-9adea909ecf7' class='xr-var-attrs-in' type='checkbox' disabled><label for='attrs-359aa257-b869-40a3-8be1-9adea909ecf7' title='Show/Hide attributes'><svg class='icon xr-icon-file-text2'><use xlink:href='#icon-file-text2'></use></svg></label><input id='data-7a26075a-1e3b-4d1a-882b-46d5afbd58c1' class='xr-var-data-in' type='checkbox'><label for='data-7a26075a-1e3b-4d1a-882b-46d5afbd58c1' title='Show/Hide data repr'><svg class='icon xr-icon-database'><use xlink:href='#icon-database'></use></svg></label><div class='xr-var-attrs'><dl class='xr-attrs'></dl></div><div class='xr-var-data'><pre>array([[157.68700562, 157.78700562, 157.88700562, ..., 162.48700562,\n",
       "        162.58700562, 162.68700562],\n",
       "       [157.68700562, 157.78700562, 157.88700562, ..., 162.48700562,\n",
       "        162.58700562, 162.68700562],\n",
       "       [157.68700562, 157.78700562, 157.88700562, ..., 162.48700562,\n",
       "        162.58700562, 162.68700562],\n",
       "       ...,\n",
       "       [157.68700562, 157.78700562, 157.88700562, ..., 162.48700562,\n",
       "        162.58700562, 162.68700562],\n",
       "       [157.68700562, 157.78700562, 157.88700562, ..., 162.48700562,\n",
       "        162.58700562, 162.68700562],\n",
       "       [157.68700562, 157.78700562, 157.88700562, ..., 162.48700562,\n",
       "        162.58700562, 162.68700562]])</pre></div></li></ul></div></li><li class='xr-section-item'><input id='section-93a8c3b2-716c-4561-8780-554597e9b0f3' class='xr-section-summary-in' type='checkbox' disabled ><label for='section-93a8c3b2-716c-4561-8780-554597e9b0f3' class='xr-section-summary'  title='Expand/collapse section'>Attributes: <span>(0)</span></label><div class='xr-section-inline-details'></div><div class='xr-section-details'><dl class='xr-attrs'></dl></div></li></ul></div></div>"
      ],
      "text/plain": [
       "<xarray.DataArray 'ash_mass_loading' (y: 48, x: 51)>\n",
       "array([[False, False, False, ..., False, False, False],\n",
       "       [False, False, False, ..., False, False, False],\n",
       "       [False, False, False, ..., False, False, False],\n",
       "       ...,\n",
       "       [False, False, False, ..., False, False, False],\n",
       "       [False, False, False, ..., False, False, False],\n",
       "       [False, False, False, ..., False, False, False]])\n",
       "Coordinates:\n",
       "  * y          (y) int64 425 426 427 428 429 430 431 ... 467 468 469 470 471 472\n",
       "  * x          (x) int64 872 873 874 875 876 877 878 ... 917 918 919 920 921 922\n",
       "    latitude   (y, x) float64 53.38 53.38 53.38 53.38 ... 58.08 58.08 58.08\n",
       "    longitude  (y, x) float64 157.7 157.8 157.9 158.0 ... 162.5 162.6 162.7"
      ]
     },
     "execution_count": 50,
     "metadata": {},
     "output_type": "execute_result"
    }
   ],
   "source": [
    "test1"
   ]
  },
  {
   "cell_type": "code",
   "execution_count": 51,
   "metadata": {},
   "outputs": [
    {
     "data": {
      "text/plain": [
       "(48, 51)"
      ]
     },
     "execution_count": 51,
     "metadata": {},
     "output_type": "execute_result"
    }
   ],
   "source": [
    "np.all([test1,test2],axis=0).shape"
   ]
  },
  {
   "cell_type": "code",
   "execution_count": 52,
   "metadata": {},
   "outputs": [],
   "source": [
    "test3 = xr.where(np.any([test1,test2],axis=0), v8, -1)"
   ]
  },
  {
   "cell_type": "code",
   "execution_count": 53,
   "metadata": {},
   "outputs": [
    {
     "data": {
      "text/plain": [
       "<matplotlib.collections.QuadMesh at 0x7fe63cd736a0>"
      ]
     },
     "execution_count": 53,
     "metadata": {},
     "output_type": "execute_result"
    },
    {
     "data": {
      "image/png": "[encoded data removed]",
      "text/plain": [
       "<Figure size 432x288 with 2 Axes>"
      ]
     },
     "metadata": {},
     "output_type": "display_data"
    }
   ],
   "source": [
    "test3.plot.pcolormesh()"
   ]
  },
  {
   "cell_type": "code",
   "execution_count": null,
   "metadata": {},
   "outputs": [],
   "source": []
  },
  {
   "cell_type": "code",
   "execution_count": 54,
   "metadata": {},
   "outputs": [
    {
     "data": {
      "text/plain": [
       "0.054"
      ]
     },
     "execution_count": 54,
     "metadata": {},
     "output_type": "execute_result"
    }
   ],
   "source": [
    "1.5e4*1e3*3600 / 1e12"
   ]
  },
  {
   "cell_type": "code",
   "execution_count": 495,
   "metadata": {},
   "outputs": [
    {
     "data": {
      "text/plain": [
       "datetime.timedelta(seconds=3600)"
      ]
     },
     "execution_count": 495,
     "metadata": {},
     "output_type": "execute_result"
    }
   ],
   "source": [
    "datetime.timedelta(hours=1)"
   ]
  },
  {
   "cell_type": "code",
   "execution_count": null,
   "metadata": {},
   "outputs": [],
   "source": []
  }
 ],
 "metadata": {
  "kernelspec": {
   "display_name": "Python 3",
   "language": "python",
   "name": "python3"
  },
  "language_info": {
   "codemirror_mode": {
    "name": "ipython",
    "version": 3
   },
   "file_extension": ".py",
   "mimetype": "text/x-python",
   "name": "python",
   "nbconvert_exporter": "python",
   "pygments_lexer": "ipython3",
   "version": "3.8.6"
  }
 },
 "nbformat": 4,
 "nbformat_minor": 4
}
