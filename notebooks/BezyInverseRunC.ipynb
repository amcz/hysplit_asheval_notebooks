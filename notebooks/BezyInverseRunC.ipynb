{
 "cells": [
  {
   "cell_type": "code",
   "execution_count": 1,
   "metadata": {},
   "outputs": [],
   "source": [
    "%load_ext autoreload"
   ]
  },
  {
   "cell_type": "code",
   "execution_count": 2,
   "metadata": {},
   "outputs": [],
   "source": [
    "import os\n",
    "import numpy as np\n",
    "import pandas as pd\n",
    "import xarray as xr\n",
    "import matplotlib.pyplot as plt\n",
    "import seaborn as sns\n",
    "import datetime\n",
    "#from monetio.models import hysplit"
   ]
  },
  {
   "cell_type": "code",
   "execution_count": 3,
   "metadata": {},
   "outputs": [],
   "source": [
    "from monetio.models import hysplit"
   ]
  },
  {
   "cell_type": "code",
   "execution_count": 4,
   "metadata": {},
   "outputs": [],
   "source": [
    "from utilvolc import volcat\n",
    "import utilvolc.ash_inverse as ai\n",
    "from utilvolc import ashapp"
   ]
  },
  {
   "cell_type": "code",
   "execution_count": 5,
   "metadata": {},
   "outputs": [],
   "source": [
    "from utilvolc.ashapp import ashinverse"
   ]
  },
  {
   "cell_type": "code",
   "execution_count": 6,
   "metadata": {},
   "outputs": [
    {
     "name": "stdout",
     "output_type": "stream",
     "text": [
      "/hysplit-users/alicec/projects/bezy/\n",
      "/hysplit-users/alicec/projects/bezy/Inverse_240 /hysplit-users/alicec/projects/bezy/hysplit\n",
      "/hysplit-users/alicec/projects/bezy/data/volcat\n",
      "projdir /hysplit-users/alicec/projects/bezy/\n",
      "/hysplit-users/alicec/projects/bezy/data\n",
      "['/hysplit-users/alicec/projects/bezy/data']\n"
     ]
    }
   ],
   "source": [
    "os.chdir('/hysplit-users/alicec/projects/bezy/notebooks/')\n",
    "projdir = os.getcwd().replace('notebooks','')\n",
    "print(projdir)\n",
    "\n",
    "vloc = [160.587,55.978]\n",
    "tag ='C'\n",
    "#ens = ['gep{:02d}'.format(x) for x in np.arange(1,31)]\n",
    "#ens.append('gec00')\n",
    "#ens=['gep04','gep03']\n",
    "\n",
    "#----------------------------------------------------------------\n",
    "# locations and names of netcdf files with cdump output.\n",
    "tdir = os.path.join(projdir,'data')\n",
    "fnamelist  = ['xrfile.invbezy{}.nc'.format(tag)]\n",
    "tdirlist = [tdir]\n",
    "\n",
    "#----------------------------------------------------------------\n",
    "configdir = os.path.join(projdir,'RunC')\n",
    "configfile = 'config.invbezy{}.txt'.format(tag)\n",
    "\n",
    "#-----------------------------------------------------------------\n",
    "# location of volcat files\n",
    "vdir = os.path.join(projdir,'data','volcat')\n",
    "# volcano id to locate\n",
    "vid = 'v300250'\n",
    "#-----------------------------------------------------------------\n",
    "# Location of inverse algorithm output\n",
    "#wpath = os.getcwd()\n",
    "wdir = os.path.join(projdir,'RunC')\n",
    "#print(wpath)\n",
    "#cdir = '../Run{}/'.format(tag)\n",
    "#wdir = '../Run{}/'.format(tag,tag)\n",
    "#sdir = os.path.join(wdir,'RunM_1_2_3_4_TF')\n",
    "name = 'out.dat'\n",
    "name2 = 'out2.dat'\n",
    "#------------------------------------------------------------------\n",
    "\n",
    "# name to write emit-times file to.\n",
    "emit_file_name = '{}emit_Run{}4.txt'.format(wdir,tag)\n",
    "tcm_name_base = 'run{}zzz.tcm.txt'.format(tag)\n",
    "figbase = 'Run{}4'.format(tag)\n",
    "\n",
    "#-------------------------------------------------------------------\n",
    "#\n",
    "\n",
    "execdir = os.path.join(projdir,'Inverse_240')\n",
    "hysplitdir = os.path.join(projdir,'hysplit')\n",
    "#execdir = mdir+'/Inverse_'\n",
    "print(execdir, hysplitdir)\n",
    "print(vdir)\n",
    "#\n",
    "\n",
    "datadir = os.path.join(projdir, 'data')\n",
    "print('projdir',projdir)\n",
    "print(tdir)\n",
    "print(tdirlist)"
   ]
  },
  {
   "cell_type": "code",
   "execution_count": 7,
   "metadata": {},
   "outputs": [
    {
     "name": "stdout",
     "output_type": "stream",
     "text": [
      "[datetime.datetime(2020, 10, 21, 21, 0), datetime.datetime(2020, 10, 21, 22, 0)]\n",
      "[datetime.datetime(2020, 10, 22, 6, 0), datetime.datetime(2020, 10, 22, 7, 0)]\n"
     ]
    }
   ],
   "source": [
    "%autoreload\n",
    "#time list to prepare.\n",
    "# start with one hour after eruption. 21:00-22:00\n",
    "dlist = []\n",
    "sdate = datetime.datetime(2020,10,21,21,0)\n",
    "#sdate = datetime.datetime(2020,10,22,12,0)\n",
    "dt = datetime.timedelta(hours=1)\n",
    "for iii in np.arange(0,10):\n",
    "    drange = [sdate, sdate+dt]\n",
    "    dlist.append(drange)\n",
    "    sdate += dt\n",
    "print(dlist[0])\n",
    "print(dlist[-1])"
   ]
  },
  {
   "cell_type": "code",
   "execution_count": 8,
   "metadata": {},
   "outputs": [],
   "source": [
    "# initiate the InverseAshEns object\n",
    "%autoreload\n",
    "inverse = ai.InverseAshEns(tdirlist,fnamelist,vdir,vid,configdir=configdir,configfile=configfile,verbose=False)"
   ]
  },
  {
   "cell_type": "code",
   "execution_count": 9,
   "metadata": {},
   "outputs": [
    {
     "name": "stdout",
     "output_type": "stream",
     "text": [
      "2020-10-21 21:00:00\n",
      "2020-10-21 23:00:00\n"
     ]
    }
   ],
   "source": [
    "print(inverse.invlist[0].get_time(2))\n",
    "print(inverse.invlist[0].get_time(4))"
   ]
  },
  {
   "cell_type": "code",
   "execution_count": 10,
   "metadata": {},
   "outputs": [
    {
     "name": "stdout",
     "output_type": "stream",
     "text": [
      "Working directory, wdir :/hysplit-users/alicec/projects/bezy/RunC\n",
      "execdir :/hysplit-users/alicec/projects/bezy/Inverse_240\n",
      "hysplitdir :/hysplit-users/alicec/projects/bezy/hysplit\n",
      "subdir :/hysplit-users/alicec/projects/bezy/RunC\n",
      "vdir :/hysplit-users/alicec/projects/bezy/data/volcat\n",
      "datadir :/hysplit-users/alicec/projects/bezy/data\n"
     ]
    }
   ],
   "source": [
    "%autoreload\n",
    "inverse.set_directory(wdir,execdir,datadir,hysplitdir)\n",
    "inverse.print_directories()"
   ]
  },
  {
   "cell_type": "code",
   "execution_count": 11,
   "metadata": {},
   "outputs": [
    {
     "data": {
      "text/plain": [
       "Coordinates:\n",
       "  * time       (time) datetime64[ns] 2020-10-21T19:00:00 ... 2020-10-22T11:00:00\n",
       "  * z          (z) int64 1523 3047 4571 6095 7619 9143 10667 12191 13715 15239\n",
       "  * y          (y) int64 369 370 371 372 373 374 375 ... 479 480 481 482 483 484\n",
       "  * x          (x) int64 865 866 867 868 869 870 871 ... 954 955 956 957 958 959\n",
       "  * ens        (ens) object '102119_2880' '102119_3880' ... '102200_12880'\n",
       "    source     <U13 'Line to 13 km'\n",
       "    latitude   (y, x) float64 ...\n",
       "    longitude  (y, x) float64 ..."
      ]
     },
     "execution_count": 11,
     "metadata": {},
     "output_type": "execute_result"
    }
   ],
   "source": [
    "inva = inverse.invlist[0]\n",
    "inva.cdump.coords"
   ]
  },
  {
   "cell_type": "code",
   "execution_count": 12,
   "metadata": {},
   "outputs": [
    {
     "name": "stdout",
     "output_type": "stream",
     "text": [
      "[datetime.datetime(2020, 10, 21, 21, 0), datetime.datetime(2020, 10, 21, 22, 0)]\n",
      "[datetime.datetime(2020, 10, 21, 22, 0), datetime.datetime(2020, 10, 21, 23, 0)]\n",
      "[datetime.datetime(2020, 10, 21, 23, 0), datetime.datetime(2020, 10, 22, 0, 0)]\n",
      "[datetime.datetime(2020, 10, 22, 0, 0), datetime.datetime(2020, 10, 22, 1, 0)]\n",
      "[datetime.datetime(2020, 10, 22, 1, 0), datetime.datetime(2020, 10, 22, 2, 0)]\n",
      "[datetime.datetime(2020, 10, 22, 2, 0), datetime.datetime(2020, 10, 22, 3, 0)]\n",
      "[datetime.datetime(2020, 10, 22, 3, 0), datetime.datetime(2020, 10, 22, 4, 0)]\n",
      "[datetime.datetime(2020, 10, 22, 4, 0), datetime.datetime(2020, 10, 22, 5, 0)]\n",
      "[datetime.datetime(2020, 10, 22, 5, 0), datetime.datetime(2020, 10, 22, 6, 0)]\n",
      "[datetime.datetime(2020, 10, 22, 6, 0), datetime.datetime(2020, 10, 22, 7, 0)]\n"
     ]
    }
   ],
   "source": [
    "# add in the relavant VOLCAT observations\n",
    "%autoreload\n",
    "#dlist = [[datetime.datetime(2020,10,22,9),datetime.datetime(2020,10,22,10)]]\n",
    "for drange in dlist:\n",
    "    print(drange)\n",
    "    inverse.prepare_one_time(drange,st='start')"
   ]
  },
  {
   "cell_type": "markdown",
   "metadata": {},
   "source": [
    "Automatic Runs"
   ]
  },
  {
   "cell_type": "code",
   "execution_count": 13,
   "metadata": {},
   "outputs": [],
   "source": [
    "def makerun(tii,remove_cols, remove_rows, remove_sources,remove_ncs):\n",
    "    print(\"HERE HERE HERE\")\n",
    "    inverse.make_tcm_mult(tii,remove_cols=remove_cols, remove_rows=remove_rows, remove_sources=remove_sources,remove_ncs=remove_ncs)\n",
    "    runtag = ai.create_runtag(tag,tii,remove_cols, remove_rows, remove_sources,remove_ncs=remove_ncs)\n",
    "    inverse.set_subdirectory(runtag)\n",
    "    print('HERE', inverse.subdir)\n",
    "    tcmstr = inverse.write_tcm(os.path.join(inverse.subdir, tcm_name_base.replace('zzz','4')))\n",
    "    inverse.run_tcm()\n",
    "    \n",
    "    eii=None\n",
    "    unit='g/h'\n",
    "    unit='kg/s'\n",
    "    inverse.plot_outdat_ts(eii,unit=unit)\n",
    "    #plt.show()\n",
    "    #inverse.plot_outdat_ts(eii,profile=True)\n",
    "    inverse.save_emis(runtag+'.csv')"
   ]
  },
  {
   "cell_type": "code",
   "execution_count": 14,
   "metadata": {},
   "outputs": [
    {
     "name": "stdout",
     "output_type": "stream",
     "text": [
      "here\n",
      "tii [4, 5, 6]\n",
      "HERE HERE HERE\n",
      "2020-10-21T23:00:00.000000000\n",
      "2020-10-22T00:00:00.000000000\n",
      "2020-10-22T01:00:00.000000000\n",
      "HERE /hysplit-users/alicec/projects/bezy/RunC/RunC_4_5_6_TFw7\n"
     ]
    },
    {
     "name": "stderr",
     "output_type": "stream",
     "text": [
      "/hysplit-users/alicec/utilhysplit/utilvolc/ash_inverse.py:1092: VisibleDeprecationWarning: Creating an ndarray from ragged nested sequences (which is a list-or-tuple of lists-or-tuples-or ndarrays with different lengths or shapes) is deprecated. If you meant to do this, you must specify 'dtype=object' when creating the ndarray.\n",
      "  self.latlist = np.array(latlist)\n",
      "/hysplit-users/alicec/utilhysplit/utilvolc/ash_inverse.py:1093: VisibleDeprecationWarning: Creating an ndarray from ragged nested sequences (which is a list-or-tuple of lists-or-tuples-or ndarrays with different lengths or shapes) is deprecated. If you meant to do this, you must specify 'dtype=object' when creating the ndarray.\n",
      "  self.lonlist = np.array(lonlist)\n",
      "/hysplit-users/alicec/utilhysplit/utilvolc/ash_inverse.py:1107: VisibleDeprecationWarning: Creating an ndarray from ragged nested sequences (which is a list-or-tuple of lists-or-tuples-or ndarrays with different lengths or shapes) is deprecated. If you meant to do this, you must specify 'dtype=object' when creating the ndarray.\n",
      "  self.latlist = np.array(latlist)\n",
      "/hysplit-users/alicec/utilhysplit/utilvolc/ash_inverse.py:1108: VisibleDeprecationWarning: Creating an ndarray from ragged nested sequences (which is a list-or-tuple of lists-or-tuples-or ndarrays with different lengths or shapes) is deprecated. If you meant to do this, you must specify 'dtype=object' when creating the ndarray.\n",
      "  self.lonlist = np.array(lonlist)\n"
     ]
    },
    {
     "name": "stdout",
     "output_type": "stream",
     "text": [
      "bezyC\n",
      "length 1\n",
      "self subdir is /hysplit-users/alicec/projects/bezy/RunC/RunC_4_5_6_TFw7\n",
      "saving emissions in  /hysplit-users/alicec/projects/bezy/RunC/RunC_4_5_6_TFw7/RunC_4_5_6_TFw7.csv\n",
      "saving  emissions to  /hysplit-users/alicec/projects/bezy/RunC/RunC_4_5_6_TFw7/RunC_4_5_6_TFw7.csv\n"
     ]
    },
    {
     "data": {
      "image/png": "[encoded data removed]",
      "text/plain": [
       "<Figure size 432x288 with 1 Axes>"
      ]
     },
     "metadata": {},
     "output_type": "display_data"
    }
   ],
   "source": [
    "%autoreload\n",
    "# creates emit-times, CONTROL and SETUP files for HYSPLIT runs.\n",
    "# Note that warning that meteorological files not found is ok.\n",
    "\n",
    "%autoreload\n",
    "print('here')\n",
    "tiilist = [[4,5,6]]\n",
    "remove_cols=True    # removes columns with no model values in them.\n",
    "remove_rows=False    # removes clear sky observations\n",
    "remove_sources = False\n",
    "remove_ncs=7\n",
    "for tii in tiilist:\n",
    "    print('tii', tii)\n",
    "    makerun(tii,remove_cols,remove_rows,remove_sources,remove_ncs)\n",
    "    #inverse.make_efile(vloc=vloc)\n",
    "    #inverse.run_hysplit()"
   ]
  },
  {
   "cell_type": "code",
   "execution_count": 15,
   "metadata": {},
   "outputs": [
    {
     "name": "stdout",
     "output_type": "stream",
     "text": [
      "here\n",
      "tii [2, 3]\n",
      "HERE HERE HERE\n",
      "2020-10-21T21:00:00.000000000\n",
      "2020-10-21T22:00:00.000000000\n",
      "HERE /hysplit-users/alicec/projects/bezy/RunC/RunC_2_3_TFw7\n"
     ]
    },
    {
     "name": "stderr",
     "output_type": "stream",
     "text": [
      "/hysplit-users/alicec/utilhysplit/utilvolc/ash_inverse.py:1092: VisibleDeprecationWarning: Creating an ndarray from ragged nested sequences (which is a list-or-tuple of lists-or-tuples-or ndarrays with different lengths or shapes) is deprecated. If you meant to do this, you must specify 'dtype=object' when creating the ndarray.\n",
      "  self.latlist = np.array(latlist)\n",
      "/hysplit-users/alicec/utilhysplit/utilvolc/ash_inverse.py:1093: VisibleDeprecationWarning: Creating an ndarray from ragged nested sequences (which is a list-or-tuple of lists-or-tuples-or ndarrays with different lengths or shapes) is deprecated. If you meant to do this, you must specify 'dtype=object' when creating the ndarray.\n",
      "  self.lonlist = np.array(lonlist)\n",
      "/hysplit-users/alicec/utilhysplit/utilvolc/ash_inverse.py:1107: VisibleDeprecationWarning: Creating an ndarray from ragged nested sequences (which is a list-or-tuple of lists-or-tuples-or ndarrays with different lengths or shapes) is deprecated. If you meant to do this, you must specify 'dtype=object' when creating the ndarray.\n",
      "  self.latlist = np.array(latlist)\n",
      "/hysplit-users/alicec/utilhysplit/utilvolc/ash_inverse.py:1108: VisibleDeprecationWarning: Creating an ndarray from ragged nested sequences (which is a list-or-tuple of lists-or-tuples-or ndarrays with different lengths or shapes) is deprecated. If you meant to do this, you must specify 'dtype=object' when creating the ndarray.\n",
      "  self.lonlist = np.array(lonlist)\n"
     ]
    },
    {
     "name": "stdout",
     "output_type": "stream",
     "text": [
      "bezyC\n",
      "length 1\n",
      "self subdir is /hysplit-users/alicec/projects/bezy/RunC/RunC_2_3_TFw7\n",
      "saving emissions in  /hysplit-users/alicec/projects/bezy/RunC/RunC_2_3_TFw7/RunC_2_3_TFw7.csv\n",
      "saving  emissions to  /hysplit-users/alicec/projects/bezy/RunC/RunC_2_3_TFw7/RunC_2_3_TFw7.csv\n",
      "tii [2, 3, 4]\n",
      "HERE HERE HERE\n",
      "2020-10-21T21:00:00.000000000\n",
      "2020-10-21T22:00:00.000000000\n",
      "2020-10-21T23:00:00.000000000\n",
      "HERE /hysplit-users/alicec/projects/bezy/RunC/RunC_2_3_4_TFw7\n"
     ]
    },
    {
     "name": "stderr",
     "output_type": "stream",
     "text": [
      "/hysplit-users/alicec/utilhysplit/utilvolc/ash_inverse.py:1092: VisibleDeprecationWarning: Creating an ndarray from ragged nested sequences (which is a list-or-tuple of lists-or-tuples-or ndarrays with different lengths or shapes) is deprecated. If you meant to do this, you must specify 'dtype=object' when creating the ndarray.\n",
      "  self.latlist = np.array(latlist)\n",
      "/hysplit-users/alicec/utilhysplit/utilvolc/ash_inverse.py:1093: VisibleDeprecationWarning: Creating an ndarray from ragged nested sequences (which is a list-or-tuple of lists-or-tuples-or ndarrays with different lengths or shapes) is deprecated. If you meant to do this, you must specify 'dtype=object' when creating the ndarray.\n",
      "  self.lonlist = np.array(lonlist)\n",
      "/hysplit-users/alicec/utilhysplit/utilvolc/ash_inverse.py:1107: VisibleDeprecationWarning: Creating an ndarray from ragged nested sequences (which is a list-or-tuple of lists-or-tuples-or ndarrays with different lengths or shapes) is deprecated. If you meant to do this, you must specify 'dtype=object' when creating the ndarray.\n",
      "  self.latlist = np.array(latlist)\n",
      "/hysplit-users/alicec/utilhysplit/utilvolc/ash_inverse.py:1108: VisibleDeprecationWarning: Creating an ndarray from ragged nested sequences (which is a list-or-tuple of lists-or-tuples-or ndarrays with different lengths or shapes) is deprecated. If you meant to do this, you must specify 'dtype=object' when creating the ndarray.\n",
      "  self.lonlist = np.array(lonlist)\n"
     ]
    },
    {
     "name": "stdout",
     "output_type": "stream",
     "text": [
      "bezyC\n"
     ]
    },
    {
     "name": "stderr",
     "output_type": "stream",
     "text": [
      "/hysplit-users/alicec/utilhysplit/utilvolc/ash_inverse.py:771: MatplotlibDeprecationWarning: Adding an axes using the same arguments as a previous axes currently reuses the earlier instance.  In a future version, a new instance will always be created and returned.  Meanwhile, this warning can be suppressed, and the future behavior ensured, by passing a unique label to each axes instance.\n",
      "  ax = fig.add_subplot(1,1,1)\n",
      "/hysplit-users/alicec/utilhysplit/utilvolc/ash_inverse.py:1092: VisibleDeprecationWarning: Creating an ndarray from ragged nested sequences (which is a list-or-tuple of lists-or-tuples-or ndarrays with different lengths or shapes) is deprecated. If you meant to do this, you must specify 'dtype=object' when creating the ndarray.\n",
      "  self.latlist = np.array(latlist)\n",
      "/hysplit-users/alicec/utilhysplit/utilvolc/ash_inverse.py:1093: VisibleDeprecationWarning: Creating an ndarray from ragged nested sequences (which is a list-or-tuple of lists-or-tuples-or ndarrays with different lengths or shapes) is deprecated. If you meant to do this, you must specify 'dtype=object' when creating the ndarray.\n",
      "  self.lonlist = np.array(lonlist)\n",
      "/hysplit-users/alicec/utilhysplit/utilvolc/ash_inverse.py:1107: VisibleDeprecationWarning: Creating an ndarray from ragged nested sequences (which is a list-or-tuple of lists-or-tuples-or ndarrays with different lengths or shapes) is deprecated. If you meant to do this, you must specify 'dtype=object' when creating the ndarray.\n",
      "  self.latlist = np.array(latlist)\n",
      "/hysplit-users/alicec/utilhysplit/utilvolc/ash_inverse.py:1108: VisibleDeprecationWarning: Creating an ndarray from ragged nested sequences (which is a list-or-tuple of lists-or-tuples-or ndarrays with different lengths or shapes) is deprecated. If you meant to do this, you must specify 'dtype=object' when creating the ndarray.\n",
      "  self.lonlist = np.array(lonlist)\n"
     ]
    },
    {
     "name": "stdout",
     "output_type": "stream",
     "text": [
      "length 1\n",
      "self subdir is /hysplit-users/alicec/projects/bezy/RunC/RunC_2_3_4_TFw7\n",
      "saving emissions in  /hysplit-users/alicec/projects/bezy/RunC/RunC_2_3_4_TFw7/RunC_2_3_4_TFw7.csv\n",
      "saving  emissions to  /hysplit-users/alicec/projects/bezy/RunC/RunC_2_3_4_TFw7/RunC_2_3_4_TFw7.csv\n",
      "tii [2, 3, 4, 5]\n",
      "HERE HERE HERE\n",
      "2020-10-21T21:00:00.000000000\n",
      "2020-10-21T22:00:00.000000000\n",
      "2020-10-21T23:00:00.000000000\n",
      "2020-10-22T00:00:00.000000000\n",
      "HERE /hysplit-users/alicec/projects/bezy/RunC/RunC_2_3_4_5_TFw7\n",
      "bezyC\n"
     ]
    },
    {
     "name": "stderr",
     "output_type": "stream",
     "text": [
      "/hysplit-users/alicec/utilhysplit/utilvolc/ash_inverse.py:771: MatplotlibDeprecationWarning: Adding an axes using the same arguments as a previous axes currently reuses the earlier instance.  In a future version, a new instance will always be created and returned.  Meanwhile, this warning can be suppressed, and the future behavior ensured, by passing a unique label to each axes instance.\n",
      "  ax = fig.add_subplot(1,1,1)\n",
      "/hysplit-users/alicec/utilhysplit/utilvolc/ash_inverse.py:1092: VisibleDeprecationWarning: Creating an ndarray from ragged nested sequences (which is a list-or-tuple of lists-or-tuples-or ndarrays with different lengths or shapes) is deprecated. If you meant to do this, you must specify 'dtype=object' when creating the ndarray.\n",
      "  self.latlist = np.array(latlist)\n",
      "/hysplit-users/alicec/utilhysplit/utilvolc/ash_inverse.py:1093: VisibleDeprecationWarning: Creating an ndarray from ragged nested sequences (which is a list-or-tuple of lists-or-tuples-or ndarrays with different lengths or shapes) is deprecated. If you meant to do this, you must specify 'dtype=object' when creating the ndarray.\n",
      "  self.lonlist = np.array(lonlist)\n",
      "/hysplit-users/alicec/utilhysplit/utilvolc/ash_inverse.py:1107: VisibleDeprecationWarning: Creating an ndarray from ragged nested sequences (which is a list-or-tuple of lists-or-tuples-or ndarrays with different lengths or shapes) is deprecated. If you meant to do this, you must specify 'dtype=object' when creating the ndarray.\n",
      "  self.latlist = np.array(latlist)\n",
      "/hysplit-users/alicec/utilhysplit/utilvolc/ash_inverse.py:1108: VisibleDeprecationWarning: Creating an ndarray from ragged nested sequences (which is a list-or-tuple of lists-or-tuples-or ndarrays with different lengths or shapes) is deprecated. If you meant to do this, you must specify 'dtype=object' when creating the ndarray.\n",
      "  self.lonlist = np.array(lonlist)\n"
     ]
    },
    {
     "name": "stdout",
     "output_type": "stream",
     "text": [
      "length 1\n",
      "self subdir is /hysplit-users/alicec/projects/bezy/RunC/RunC_2_3_4_5_TFw7\n",
      "saving emissions in  /hysplit-users/alicec/projects/bezy/RunC/RunC_2_3_4_5_TFw7/RunC_2_3_4_5_TFw7.csv\n",
      "saving  emissions to  /hysplit-users/alicec/projects/bezy/RunC/RunC_2_3_4_5_TFw7/RunC_2_3_4_5_TFw7.csv\n",
      "tii [2, 3, 4, 5, 6]\n",
      "HERE HERE HERE\n",
      "2020-10-21T21:00:00.000000000\n",
      "2020-10-21T22:00:00.000000000\n",
      "2020-10-21T23:00:00.000000000\n",
      "2020-10-22T00:00:00.000000000\n",
      "2020-10-22T01:00:00.000000000\n",
      "HERE /hysplit-users/alicec/projects/bezy/RunC/RunC_2_3_4_5_6_TFw7\n",
      "bezyC\n"
     ]
    },
    {
     "name": "stderr",
     "output_type": "stream",
     "text": [
      "/hysplit-users/alicec/utilhysplit/utilvolc/ash_inverse.py:771: MatplotlibDeprecationWarning: Adding an axes using the same arguments as a previous axes currently reuses the earlier instance.  In a future version, a new instance will always be created and returned.  Meanwhile, this warning can be suppressed, and the future behavior ensured, by passing a unique label to each axes instance.\n",
      "  ax = fig.add_subplot(1,1,1)\n",
      "/hysplit-users/alicec/utilhysplit/utilvolc/ash_inverse.py:1092: VisibleDeprecationWarning: Creating an ndarray from ragged nested sequences (which is a list-or-tuple of lists-or-tuples-or ndarrays with different lengths or shapes) is deprecated. If you meant to do this, you must specify 'dtype=object' when creating the ndarray.\n",
      "  self.latlist = np.array(latlist)\n",
      "/hysplit-users/alicec/utilhysplit/utilvolc/ash_inverse.py:1093: VisibleDeprecationWarning: Creating an ndarray from ragged nested sequences (which is a list-or-tuple of lists-or-tuples-or ndarrays with different lengths or shapes) is deprecated. If you meant to do this, you must specify 'dtype=object' when creating the ndarray.\n",
      "  self.lonlist = np.array(lonlist)\n",
      "/hysplit-users/alicec/utilhysplit/utilvolc/ash_inverse.py:1107: VisibleDeprecationWarning: Creating an ndarray from ragged nested sequences (which is a list-or-tuple of lists-or-tuples-or ndarrays with different lengths or shapes) is deprecated. If you meant to do this, you must specify 'dtype=object' when creating the ndarray.\n",
      "  self.latlist = np.array(latlist)\n",
      "/hysplit-users/alicec/utilhysplit/utilvolc/ash_inverse.py:1108: VisibleDeprecationWarning: Creating an ndarray from ragged nested sequences (which is a list-or-tuple of lists-or-tuples-or ndarrays with different lengths or shapes) is deprecated. If you meant to do this, you must specify 'dtype=object' when creating the ndarray.\n",
      "  self.lonlist = np.array(lonlist)\n"
     ]
    },
    {
     "name": "stdout",
     "output_type": "stream",
     "text": [
      "length 1\n",
      "self subdir is /hysplit-users/alicec/projects/bezy/RunC/RunC_2_3_4_5_6_TFw7\n",
      "saving emissions in  /hysplit-users/alicec/projects/bezy/RunC/RunC_2_3_4_5_6_TFw7/RunC_2_3_4_5_6_TFw7.csv\n",
      "saving  emissions to  /hysplit-users/alicec/projects/bezy/RunC/RunC_2_3_4_5_6_TFw7/RunC_2_3_4_5_6_TFw7.csv\n",
      "tii [2, 3, 4, 5, 6, 7]\n",
      "HERE HERE HERE\n",
      "2020-10-21T21:00:00.000000000\n",
      "2020-10-21T22:00:00.000000000\n",
      "2020-10-21T23:00:00.000000000\n",
      "2020-10-22T00:00:00.000000000\n",
      "2020-10-22T01:00:00.000000000\n",
      "2020-10-22T02:00:00.000000000\n",
      "HERE /hysplit-users/alicec/projects/bezy/RunC/RunC_2_3_4_5_6_7_TFw7\n",
      "bezyC\n"
     ]
    },
    {
     "name": "stderr",
     "output_type": "stream",
     "text": [
      "/hysplit-users/alicec/utilhysplit/utilvolc/ash_inverse.py:771: MatplotlibDeprecationWarning: Adding an axes using the same arguments as a previous axes currently reuses the earlier instance.  In a future version, a new instance will always be created and returned.  Meanwhile, this warning can be suppressed, and the future behavior ensured, by passing a unique label to each axes instance.\n",
      "  ax = fig.add_subplot(1,1,1)\n",
      "/hysplit-users/alicec/utilhysplit/utilvolc/ash_inverse.py:1092: VisibleDeprecationWarning: Creating an ndarray from ragged nested sequences (which is a list-or-tuple of lists-or-tuples-or ndarrays with different lengths or shapes) is deprecated. If you meant to do this, you must specify 'dtype=object' when creating the ndarray.\n",
      "  self.latlist = np.array(latlist)\n",
      "/hysplit-users/alicec/utilhysplit/utilvolc/ash_inverse.py:1093: VisibleDeprecationWarning: Creating an ndarray from ragged nested sequences (which is a list-or-tuple of lists-or-tuples-or ndarrays with different lengths or shapes) is deprecated. If you meant to do this, you must specify 'dtype=object' when creating the ndarray.\n",
      "  self.lonlist = np.array(lonlist)\n",
      "/hysplit-users/alicec/utilhysplit/utilvolc/ash_inverse.py:1107: VisibleDeprecationWarning: Creating an ndarray from ragged nested sequences (which is a list-or-tuple of lists-or-tuples-or ndarrays with different lengths or shapes) is deprecated. If you meant to do this, you must specify 'dtype=object' when creating the ndarray.\n",
      "  self.latlist = np.array(latlist)\n",
      "/hysplit-users/alicec/utilhysplit/utilvolc/ash_inverse.py:1108: VisibleDeprecationWarning: Creating an ndarray from ragged nested sequences (which is a list-or-tuple of lists-or-tuples-or ndarrays with different lengths or shapes) is deprecated. If you meant to do this, you must specify 'dtype=object' when creating the ndarray.\n",
      "  self.lonlist = np.array(lonlist)\n"
     ]
    },
    {
     "name": "stdout",
     "output_type": "stream",
     "text": [
      "length 1\n",
      "self subdir is /hysplit-users/alicec/projects/bezy/RunC/RunC_2_3_4_5_6_7_TFw7\n",
      "saving emissions in  /hysplit-users/alicec/projects/bezy/RunC/RunC_2_3_4_5_6_7_TFw7/RunC_2_3_4_5_6_7_TFw7.csv\n",
      "saving  emissions to  /hysplit-users/alicec/projects/bezy/RunC/RunC_2_3_4_5_6_7_TFw7/RunC_2_3_4_5_6_7_TFw7.csv\n",
      "tii [2, 3, 4, 5, 6, 7, 8]\n",
      "HERE HERE HERE\n",
      "2020-10-21T21:00:00.000000000\n",
      "2020-10-21T22:00:00.000000000\n",
      "2020-10-21T23:00:00.000000000\n",
      "2020-10-22T00:00:00.000000000\n",
      "2020-10-22T01:00:00.000000000\n",
      "2020-10-22T02:00:00.000000000\n",
      "2020-10-22T03:00:00.000000000\n",
      "HERE /hysplit-users/alicec/projects/bezy/RunC/RunC_2_3_4_5_6_7_8_TFw7\n",
      "bezyC\n"
     ]
    },
    {
     "name": "stderr",
     "output_type": "stream",
     "text": [
      "/hysplit-users/alicec/utilhysplit/utilvolc/ash_inverse.py:771: MatplotlibDeprecationWarning: Adding an axes using the same arguments as a previous axes currently reuses the earlier instance.  In a future version, a new instance will always be created and returned.  Meanwhile, this warning can be suppressed, and the future behavior ensured, by passing a unique label to each axes instance.\n",
      "  ax = fig.add_subplot(1,1,1)\n",
      "/hysplit-users/alicec/utilhysplit/utilvolc/ash_inverse.py:1092: VisibleDeprecationWarning: Creating an ndarray from ragged nested sequences (which is a list-or-tuple of lists-or-tuples-or ndarrays with different lengths or shapes) is deprecated. If you meant to do this, you must specify 'dtype=object' when creating the ndarray.\n",
      "  self.latlist = np.array(latlist)\n",
      "/hysplit-users/alicec/utilhysplit/utilvolc/ash_inverse.py:1093: VisibleDeprecationWarning: Creating an ndarray from ragged nested sequences (which is a list-or-tuple of lists-or-tuples-or ndarrays with different lengths or shapes) is deprecated. If you meant to do this, you must specify 'dtype=object' when creating the ndarray.\n",
      "  self.lonlist = np.array(lonlist)\n",
      "/hysplit-users/alicec/utilhysplit/utilvolc/ash_inverse.py:1107: VisibleDeprecationWarning: Creating an ndarray from ragged nested sequences (which is a list-or-tuple of lists-or-tuples-or ndarrays with different lengths or shapes) is deprecated. If you meant to do this, you must specify 'dtype=object' when creating the ndarray.\n",
      "  self.latlist = np.array(latlist)\n",
      "/hysplit-users/alicec/utilhysplit/utilvolc/ash_inverse.py:1108: VisibleDeprecationWarning: Creating an ndarray from ragged nested sequences (which is a list-or-tuple of lists-or-tuples-or ndarrays with different lengths or shapes) is deprecated. If you meant to do this, you must specify 'dtype=object' when creating the ndarray.\n",
      "  self.lonlist = np.array(lonlist)\n"
     ]
    },
    {
     "name": "stdout",
     "output_type": "stream",
     "text": [
      "length 1\n",
      "self subdir is /hysplit-users/alicec/projects/bezy/RunC/RunC_2_3_4_5_6_7_8_TFw7\n",
      "saving emissions in  /hysplit-users/alicec/projects/bezy/RunC/RunC_2_3_4_5_6_7_8_TFw7/RunC_2_3_4_5_6_7_8_TFw7.csv\n",
      "saving  emissions to  /hysplit-users/alicec/projects/bezy/RunC/RunC_2_3_4_5_6_7_8_TFw7/RunC_2_3_4_5_6_7_8_TFw7.csv\n",
      "tii [2, 3, 4, 5, 6, 7, 8, 9]\n",
      "HERE HERE HERE\n",
      "2020-10-21T21:00:00.000000000\n",
      "2020-10-21T22:00:00.000000000\n",
      "2020-10-21T23:00:00.000000000\n",
      "2020-10-22T00:00:00.000000000\n",
      "2020-10-22T01:00:00.000000000\n",
      "2020-10-22T02:00:00.000000000\n",
      "2020-10-22T03:00:00.000000000\n",
      "2020-10-22T04:00:00.000000000\n",
      "HERE /hysplit-users/alicec/projects/bezy/RunC/RunC_2_3_4_5_6_7_8_9_TFw7\n",
      "bezyC\n"
     ]
    },
    {
     "name": "stderr",
     "output_type": "stream",
     "text": [
      "/hysplit-users/alicec/utilhysplit/utilvolc/ash_inverse.py:771: MatplotlibDeprecationWarning: Adding an axes using the same arguments as a previous axes currently reuses the earlier instance.  In a future version, a new instance will always be created and returned.  Meanwhile, this warning can be suppressed, and the future behavior ensured, by passing a unique label to each axes instance.\n",
      "  ax = fig.add_subplot(1,1,1)\n",
      "/hysplit-users/alicec/utilhysplit/utilvolc/ash_inverse.py:1092: VisibleDeprecationWarning: Creating an ndarray from ragged nested sequences (which is a list-or-tuple of lists-or-tuples-or ndarrays with different lengths or shapes) is deprecated. If you meant to do this, you must specify 'dtype=object' when creating the ndarray.\n",
      "  self.latlist = np.array(latlist)\n",
      "/hysplit-users/alicec/utilhysplit/utilvolc/ash_inverse.py:1093: VisibleDeprecationWarning: Creating an ndarray from ragged nested sequences (which is a list-or-tuple of lists-or-tuples-or ndarrays with different lengths or shapes) is deprecated. If you meant to do this, you must specify 'dtype=object' when creating the ndarray.\n",
      "  self.lonlist = np.array(lonlist)\n",
      "/hysplit-users/alicec/utilhysplit/utilvolc/ash_inverse.py:1107: VisibleDeprecationWarning: Creating an ndarray from ragged nested sequences (which is a list-or-tuple of lists-or-tuples-or ndarrays with different lengths or shapes) is deprecated. If you meant to do this, you must specify 'dtype=object' when creating the ndarray.\n",
      "  self.latlist = np.array(latlist)\n",
      "/hysplit-users/alicec/utilhysplit/utilvolc/ash_inverse.py:1108: VisibleDeprecationWarning: Creating an ndarray from ragged nested sequences (which is a list-or-tuple of lists-or-tuples-or ndarrays with different lengths or shapes) is deprecated. If you meant to do this, you must specify 'dtype=object' when creating the ndarray.\n",
      "  self.lonlist = np.array(lonlist)\n"
     ]
    },
    {
     "name": "stdout",
     "output_type": "stream",
     "text": [
      "length 1\n",
      "self subdir is /hysplit-users/alicec/projects/bezy/RunC/RunC_2_3_4_5_6_7_8_9_TFw7\n",
      "saving emissions in  /hysplit-users/alicec/projects/bezy/RunC/RunC_2_3_4_5_6_7_8_9_TFw7/RunC_2_3_4_5_6_7_8_9_TFw7.csv\n",
      "saving  emissions to  /hysplit-users/alicec/projects/bezy/RunC/RunC_2_3_4_5_6_7_8_9_TFw7/RunC_2_3_4_5_6_7_8_9_TFw7.csv\n",
      "tii [2, 3, 4, 5, 6, 7, 8, 9, 10]\n",
      "HERE HERE HERE\n",
      "2020-10-21T21:00:00.000000000\n",
      "2020-10-21T22:00:00.000000000\n",
      "2020-10-21T23:00:00.000000000\n",
      "2020-10-22T00:00:00.000000000\n",
      "2020-10-22T01:00:00.000000000\n",
      "2020-10-22T02:00:00.000000000\n",
      "2020-10-22T03:00:00.000000000\n",
      "2020-10-22T04:00:00.000000000\n",
      "2020-10-22T05:00:00.000000000\n",
      "HERE /hysplit-users/alicec/projects/bezy/RunC/RunC_2_3_4_5_6_7_8_9_10_TFw7\n",
      "bezyC\n"
     ]
    },
    {
     "name": "stderr",
     "output_type": "stream",
     "text": [
      "/hysplit-users/alicec/utilhysplit/utilvolc/ash_inverse.py:771: MatplotlibDeprecationWarning: Adding an axes using the same arguments as a previous axes currently reuses the earlier instance.  In a future version, a new instance will always be created and returned.  Meanwhile, this warning can be suppressed, and the future behavior ensured, by passing a unique label to each axes instance.\n",
      "  ax = fig.add_subplot(1,1,1)\n",
      "/hysplit-users/alicec/utilhysplit/utilvolc/ash_inverse.py:1092: VisibleDeprecationWarning: Creating an ndarray from ragged nested sequences (which is a list-or-tuple of lists-or-tuples-or ndarrays with different lengths or shapes) is deprecated. If you meant to do this, you must specify 'dtype=object' when creating the ndarray.\n",
      "  self.latlist = np.array(latlist)\n",
      "/hysplit-users/alicec/utilhysplit/utilvolc/ash_inverse.py:1093: VisibleDeprecationWarning: Creating an ndarray from ragged nested sequences (which is a list-or-tuple of lists-or-tuples-or ndarrays with different lengths or shapes) is deprecated. If you meant to do this, you must specify 'dtype=object' when creating the ndarray.\n",
      "  self.lonlist = np.array(lonlist)\n",
      "/hysplit-users/alicec/utilhysplit/utilvolc/ash_inverse.py:1107: VisibleDeprecationWarning: Creating an ndarray from ragged nested sequences (which is a list-or-tuple of lists-or-tuples-or ndarrays with different lengths or shapes) is deprecated. If you meant to do this, you must specify 'dtype=object' when creating the ndarray.\n",
      "  self.latlist = np.array(latlist)\n",
      "/hysplit-users/alicec/utilhysplit/utilvolc/ash_inverse.py:1108: VisibleDeprecationWarning: Creating an ndarray from ragged nested sequences (which is a list-or-tuple of lists-or-tuples-or ndarrays with different lengths or shapes) is deprecated. If you meant to do this, you must specify 'dtype=object' when creating the ndarray.\n",
      "  self.lonlist = np.array(lonlist)\n"
     ]
    },
    {
     "name": "stdout",
     "output_type": "stream",
     "text": [
      "length 1\n",
      "self subdir is /hysplit-users/alicec/projects/bezy/RunC/RunC_2_3_4_5_6_7_8_9_10_TFw7\n",
      "saving emissions in  /hysplit-users/alicec/projects/bezy/RunC/RunC_2_3_4_5_6_7_8_9_10_TFw7/RunC_2_3_4_5_6_7_8_9_10_TFw7.csv\n",
      "saving  emissions to  /hysplit-users/alicec/projects/bezy/RunC/RunC_2_3_4_5_6_7_8_9_10_TFw7/RunC_2_3_4_5_6_7_8_9_10_TFw7.csv\n",
      "tii [2, 3, 4, 5, 6, 7, 8, 9, 10, 11]\n",
      "HERE HERE HERE\n",
      "2020-10-21T21:00:00.000000000\n",
      "2020-10-21T22:00:00.000000000\n",
      "2020-10-21T23:00:00.000000000\n",
      "2020-10-22T00:00:00.000000000\n",
      "2020-10-22T01:00:00.000000000\n",
      "2020-10-22T02:00:00.000000000\n",
      "2020-10-22T03:00:00.000000000\n",
      "2020-10-22T04:00:00.000000000\n",
      "2020-10-22T05:00:00.000000000\n",
      "2020-10-22T06:00:00.000000000\n",
      "HERE /hysplit-users/alicec/projects/bezy/RunC/RunC_2_3_4_5_6_7_8_9_10_11_TFw7\n",
      "bezyC\n"
     ]
    },
    {
     "name": "stderr",
     "output_type": "stream",
     "text": [
      "/hysplit-users/alicec/utilhysplit/utilvolc/ash_inverse.py:771: MatplotlibDeprecationWarning: Adding an axes using the same arguments as a previous axes currently reuses the earlier instance.  In a future version, a new instance will always be created and returned.  Meanwhile, this warning can be suppressed, and the future behavior ensured, by passing a unique label to each axes instance.\n",
      "  ax = fig.add_subplot(1,1,1)\n",
      "/hysplit-users/alicec/utilhysplit/utilvolc/ash_inverse.py:1092: VisibleDeprecationWarning: Creating an ndarray from ragged nested sequences (which is a list-or-tuple of lists-or-tuples-or ndarrays with different lengths or shapes) is deprecated. If you meant to do this, you must specify 'dtype=object' when creating the ndarray.\n",
      "  self.latlist = np.array(latlist)\n",
      "/hysplit-users/alicec/utilhysplit/utilvolc/ash_inverse.py:1093: VisibleDeprecationWarning: Creating an ndarray from ragged nested sequences (which is a list-or-tuple of lists-or-tuples-or ndarrays with different lengths or shapes) is deprecated. If you meant to do this, you must specify 'dtype=object' when creating the ndarray.\n",
      "  self.lonlist = np.array(lonlist)\n",
      "/hysplit-users/alicec/utilhysplit/utilvolc/ash_inverse.py:1107: VisibleDeprecationWarning: Creating an ndarray from ragged nested sequences (which is a list-or-tuple of lists-or-tuples-or ndarrays with different lengths or shapes) is deprecated. If you meant to do this, you must specify 'dtype=object' when creating the ndarray.\n",
      "  self.latlist = np.array(latlist)\n",
      "/hysplit-users/alicec/utilhysplit/utilvolc/ash_inverse.py:1108: VisibleDeprecationWarning: Creating an ndarray from ragged nested sequences (which is a list-or-tuple of lists-or-tuples-or ndarrays with different lengths or shapes) is deprecated. If you meant to do this, you must specify 'dtype=object' when creating the ndarray.\n",
      "  self.lonlist = np.array(lonlist)\n"
     ]
    },
    {
     "name": "stdout",
     "output_type": "stream",
     "text": [
      "length 1\n",
      "self subdir is /hysplit-users/alicec/projects/bezy/RunC/RunC_2_3_4_5_6_7_8_9_10_11_TFw7\n",
      "saving emissions in  /hysplit-users/alicec/projects/bezy/RunC/RunC_2_3_4_5_6_7_8_9_10_11_TFw7/RunC_2_3_4_5_6_7_8_9_10_11_TFw7.csv\n",
      "saving  emissions to  /hysplit-users/alicec/projects/bezy/RunC/RunC_2_3_4_5_6_7_8_9_10_11_TFw7/RunC_2_3_4_5_6_7_8_9_10_11_TFw7.csv\n",
      "HERE HERE HERE\n",
      "2020-10-21T21:00:00.000000000\n",
      "2020-10-21T22:00:00.000000000\n",
      "HERE /hysplit-users/alicec/projects/bezy/RunC/RunC_2_3_TFw7\n",
      "bezyC\n"
     ]
    },
    {
     "name": "stderr",
     "output_type": "stream",
     "text": [
      "/hysplit-users/alicec/utilhysplit/utilvolc/ash_inverse.py:771: MatplotlibDeprecationWarning: Adding an axes using the same arguments as a previous axes currently reuses the earlier instance.  In a future version, a new instance will always be created and returned.  Meanwhile, this warning can be suppressed, and the future behavior ensured, by passing a unique label to each axes instance.\n",
      "  ax = fig.add_subplot(1,1,1)\n",
      "/hysplit-users/alicec/utilhysplit/utilvolc/ash_inverse.py:1092: VisibleDeprecationWarning: Creating an ndarray from ragged nested sequences (which is a list-or-tuple of lists-or-tuples-or ndarrays with different lengths or shapes) is deprecated. If you meant to do this, you must specify 'dtype=object' when creating the ndarray.\n",
      "  self.latlist = np.array(latlist)\n",
      "/hysplit-users/alicec/utilhysplit/utilvolc/ash_inverse.py:1093: VisibleDeprecationWarning: Creating an ndarray from ragged nested sequences (which is a list-or-tuple of lists-or-tuples-or ndarrays with different lengths or shapes) is deprecated. If you meant to do this, you must specify 'dtype=object' when creating the ndarray.\n",
      "  self.lonlist = np.array(lonlist)\n",
      "/hysplit-users/alicec/utilhysplit/utilvolc/ash_inverse.py:1107: VisibleDeprecationWarning: Creating an ndarray from ragged nested sequences (which is a list-or-tuple of lists-or-tuples-or ndarrays with different lengths or shapes) is deprecated. If you meant to do this, you must specify 'dtype=object' when creating the ndarray.\n",
      "  self.latlist = np.array(latlist)\n",
      "/hysplit-users/alicec/utilhysplit/utilvolc/ash_inverse.py:1108: VisibleDeprecationWarning: Creating an ndarray from ragged nested sequences (which is a list-or-tuple of lists-or-tuples-or ndarrays with different lengths or shapes) is deprecated. If you meant to do this, you must specify 'dtype=object' when creating the ndarray.\n",
      "  self.lonlist = np.array(lonlist)\n"
     ]
    },
    {
     "name": "stdout",
     "output_type": "stream",
     "text": [
      "length 1\n",
      "self subdir is /hysplit-users/alicec/projects/bezy/RunC/RunC_2_3_TFw7\n",
      "saving emissions in  /hysplit-users/alicec/projects/bezy/RunC/RunC_2_3_TFw7/RunC_2_3_TFw7.csv\n",
      "saving  emissions to  /hysplit-users/alicec/projects/bezy/RunC/RunC_2_3_TFw7/RunC_2_3_TFw7.csv\n",
      "HERE HERE HERE\n",
      "2020-10-21T22:00:00.000000000\n",
      "2020-10-21T23:00:00.000000000\n",
      "HERE /hysplit-users/alicec/projects/bezy/RunC/RunC_3_4_TFw7\n",
      "bezyC\n"
     ]
    },
    {
     "name": "stderr",
     "output_type": "stream",
     "text": [
      "/hysplit-users/alicec/utilhysplit/utilvolc/ash_inverse.py:771: MatplotlibDeprecationWarning: Adding an axes using the same arguments as a previous axes currently reuses the earlier instance.  In a future version, a new instance will always be created and returned.  Meanwhile, this warning can be suppressed, and the future behavior ensured, by passing a unique label to each axes instance.\n",
      "  ax = fig.add_subplot(1,1,1)\n",
      "/hysplit-users/alicec/utilhysplit/utilvolc/ash_inverse.py:1092: VisibleDeprecationWarning: Creating an ndarray from ragged nested sequences (which is a list-or-tuple of lists-or-tuples-or ndarrays with different lengths or shapes) is deprecated. If you meant to do this, you must specify 'dtype=object' when creating the ndarray.\n",
      "  self.latlist = np.array(latlist)\n",
      "/hysplit-users/alicec/utilhysplit/utilvolc/ash_inverse.py:1093: VisibleDeprecationWarning: Creating an ndarray from ragged nested sequences (which is a list-or-tuple of lists-or-tuples-or ndarrays with different lengths or shapes) is deprecated. If you meant to do this, you must specify 'dtype=object' when creating the ndarray.\n",
      "  self.lonlist = np.array(lonlist)\n",
      "/hysplit-users/alicec/utilhysplit/utilvolc/ash_inverse.py:1107: VisibleDeprecationWarning: Creating an ndarray from ragged nested sequences (which is a list-or-tuple of lists-or-tuples-or ndarrays with different lengths or shapes) is deprecated. If you meant to do this, you must specify 'dtype=object' when creating the ndarray.\n",
      "  self.latlist = np.array(latlist)\n",
      "/hysplit-users/alicec/utilhysplit/utilvolc/ash_inverse.py:1108: VisibleDeprecationWarning: Creating an ndarray from ragged nested sequences (which is a list-or-tuple of lists-or-tuples-or ndarrays with different lengths or shapes) is deprecated. If you meant to do this, you must specify 'dtype=object' when creating the ndarray.\n",
      "  self.lonlist = np.array(lonlist)\n"
     ]
    },
    {
     "name": "stdout",
     "output_type": "stream",
     "text": [
      "length 1\n",
      "self subdir is /hysplit-users/alicec/projects/bezy/RunC/RunC_3_4_TFw7\n",
      "saving emissions in  /hysplit-users/alicec/projects/bezy/RunC/RunC_3_4_TFw7/RunC_3_4_TFw7.csv\n",
      "saving  emissions to  /hysplit-users/alicec/projects/bezy/RunC/RunC_3_4_TFw7/RunC_3_4_TFw7.csv\n",
      "HERE HERE HERE\n",
      "2020-10-21T23:00:00.000000000\n",
      "2020-10-22T00:00:00.000000000\n",
      "HERE /hysplit-users/alicec/projects/bezy/RunC/RunC_4_5_TFw7\n",
      "bezyC\n"
     ]
    },
    {
     "name": "stderr",
     "output_type": "stream",
     "text": [
      "/hysplit-users/alicec/utilhysplit/utilvolc/ash_inverse.py:771: MatplotlibDeprecationWarning: Adding an axes using the same arguments as a previous axes currently reuses the earlier instance.  In a future version, a new instance will always be created and returned.  Meanwhile, this warning can be suppressed, and the future behavior ensured, by passing a unique label to each axes instance.\n",
      "  ax = fig.add_subplot(1,1,1)\n",
      "/hysplit-users/alicec/utilhysplit/utilvolc/ash_inverse.py:1092: VisibleDeprecationWarning: Creating an ndarray from ragged nested sequences (which is a list-or-tuple of lists-or-tuples-or ndarrays with different lengths or shapes) is deprecated. If you meant to do this, you must specify 'dtype=object' when creating the ndarray.\n",
      "  self.latlist = np.array(latlist)\n",
      "/hysplit-users/alicec/utilhysplit/utilvolc/ash_inverse.py:1093: VisibleDeprecationWarning: Creating an ndarray from ragged nested sequences (which is a list-or-tuple of lists-or-tuples-or ndarrays with different lengths or shapes) is deprecated. If you meant to do this, you must specify 'dtype=object' when creating the ndarray.\n",
      "  self.lonlist = np.array(lonlist)\n",
      "/hysplit-users/alicec/utilhysplit/utilvolc/ash_inverse.py:1107: VisibleDeprecationWarning: Creating an ndarray from ragged nested sequences (which is a list-or-tuple of lists-or-tuples-or ndarrays with different lengths or shapes) is deprecated. If you meant to do this, you must specify 'dtype=object' when creating the ndarray.\n",
      "  self.latlist = np.array(latlist)\n",
      "/hysplit-users/alicec/utilhysplit/utilvolc/ash_inverse.py:1108: VisibleDeprecationWarning: Creating an ndarray from ragged nested sequences (which is a list-or-tuple of lists-or-tuples-or ndarrays with different lengths or shapes) is deprecated. If you meant to do this, you must specify 'dtype=object' when creating the ndarray.\n",
      "  self.lonlist = np.array(lonlist)\n"
     ]
    },
    {
     "name": "stdout",
     "output_type": "stream",
     "text": [
      "length 1\n",
      "self subdir is /hysplit-users/alicec/projects/bezy/RunC/RunC_4_5_TFw7\n",
      "saving emissions in  /hysplit-users/alicec/projects/bezy/RunC/RunC_4_5_TFw7/RunC_4_5_TFw7.csv\n",
      "saving  emissions to  /hysplit-users/alicec/projects/bezy/RunC/RunC_4_5_TFw7/RunC_4_5_TFw7.csv\n",
      "HERE HERE HERE\n",
      "2020-10-22T00:00:00.000000000\n",
      "2020-10-22T01:00:00.000000000\n",
      "HERE /hysplit-users/alicec/projects/bezy/RunC/RunC_5_6_TFw7\n",
      "bezyC\n"
     ]
    },
    {
     "name": "stderr",
     "output_type": "stream",
     "text": [
      "/hysplit-users/alicec/utilhysplit/utilvolc/ash_inverse.py:771: MatplotlibDeprecationWarning: Adding an axes using the same arguments as a previous axes currently reuses the earlier instance.  In a future version, a new instance will always be created and returned.  Meanwhile, this warning can be suppressed, and the future behavior ensured, by passing a unique label to each axes instance.\n",
      "  ax = fig.add_subplot(1,1,1)\n",
      "/hysplit-users/alicec/utilhysplit/utilvolc/ash_inverse.py:1092: VisibleDeprecationWarning: Creating an ndarray from ragged nested sequences (which is a list-or-tuple of lists-or-tuples-or ndarrays with different lengths or shapes) is deprecated. If you meant to do this, you must specify 'dtype=object' when creating the ndarray.\n",
      "  self.latlist = np.array(latlist)\n",
      "/hysplit-users/alicec/utilhysplit/utilvolc/ash_inverse.py:1093: VisibleDeprecationWarning: Creating an ndarray from ragged nested sequences (which is a list-or-tuple of lists-or-tuples-or ndarrays with different lengths or shapes) is deprecated. If you meant to do this, you must specify 'dtype=object' when creating the ndarray.\n",
      "  self.lonlist = np.array(lonlist)\n",
      "/hysplit-users/alicec/utilhysplit/utilvolc/ash_inverse.py:1107: VisibleDeprecationWarning: Creating an ndarray from ragged nested sequences (which is a list-or-tuple of lists-or-tuples-or ndarrays with different lengths or shapes) is deprecated. If you meant to do this, you must specify 'dtype=object' when creating the ndarray.\n",
      "  self.latlist = np.array(latlist)\n",
      "/hysplit-users/alicec/utilhysplit/utilvolc/ash_inverse.py:1108: VisibleDeprecationWarning: Creating an ndarray from ragged nested sequences (which is a list-or-tuple of lists-or-tuples-or ndarrays with different lengths or shapes) is deprecated. If you meant to do this, you must specify 'dtype=object' when creating the ndarray.\n",
      "  self.lonlist = np.array(lonlist)\n"
     ]
    },
    {
     "name": "stdout",
     "output_type": "stream",
     "text": [
      "length 1\n",
      "self subdir is /hysplit-users/alicec/projects/bezy/RunC/RunC_5_6_TFw7\n",
      "saving emissions in  /hysplit-users/alicec/projects/bezy/RunC/RunC_5_6_TFw7/RunC_5_6_TFw7.csv\n",
      "saving  emissions to  /hysplit-users/alicec/projects/bezy/RunC/RunC_5_6_TFw7/RunC_5_6_TFw7.csv\n",
      "HERE HERE HERE\n",
      "2020-10-22T01:00:00.000000000\n",
      "2020-10-22T02:00:00.000000000\n",
      "HERE /hysplit-users/alicec/projects/bezy/RunC/RunC_6_7_TFw7\n",
      "bezyC\n"
     ]
    },
    {
     "name": "stderr",
     "output_type": "stream",
     "text": [
      "/hysplit-users/alicec/utilhysplit/utilvolc/ash_inverse.py:771: MatplotlibDeprecationWarning: Adding an axes using the same arguments as a previous axes currently reuses the earlier instance.  In a future version, a new instance will always be created and returned.  Meanwhile, this warning can be suppressed, and the future behavior ensured, by passing a unique label to each axes instance.\n",
      "  ax = fig.add_subplot(1,1,1)\n",
      "/hysplit-users/alicec/utilhysplit/utilvolc/ash_inverse.py:1092: VisibleDeprecationWarning: Creating an ndarray from ragged nested sequences (which is a list-or-tuple of lists-or-tuples-or ndarrays with different lengths or shapes) is deprecated. If you meant to do this, you must specify 'dtype=object' when creating the ndarray.\n",
      "  self.latlist = np.array(latlist)\n",
      "/hysplit-users/alicec/utilhysplit/utilvolc/ash_inverse.py:1093: VisibleDeprecationWarning: Creating an ndarray from ragged nested sequences (which is a list-or-tuple of lists-or-tuples-or ndarrays with different lengths or shapes) is deprecated. If you meant to do this, you must specify 'dtype=object' when creating the ndarray.\n",
      "  self.lonlist = np.array(lonlist)\n",
      "/hysplit-users/alicec/utilhysplit/utilvolc/ash_inverse.py:1107: VisibleDeprecationWarning: Creating an ndarray from ragged nested sequences (which is a list-or-tuple of lists-or-tuples-or ndarrays with different lengths or shapes) is deprecated. If you meant to do this, you must specify 'dtype=object' when creating the ndarray.\n",
      "  self.latlist = np.array(latlist)\n",
      "/hysplit-users/alicec/utilhysplit/utilvolc/ash_inverse.py:1108: VisibleDeprecationWarning: Creating an ndarray from ragged nested sequences (which is a list-or-tuple of lists-or-tuples-or ndarrays with different lengths or shapes) is deprecated. If you meant to do this, you must specify 'dtype=object' when creating the ndarray.\n",
      "  self.lonlist = np.array(lonlist)\n"
     ]
    },
    {
     "name": "stdout",
     "output_type": "stream",
     "text": [
      "length 1\n",
      "self subdir is /hysplit-users/alicec/projects/bezy/RunC/RunC_6_7_TFw7\n",
      "saving emissions in  /hysplit-users/alicec/projects/bezy/RunC/RunC_6_7_TFw7/RunC_6_7_TFw7.csv\n",
      "saving  emissions to  /hysplit-users/alicec/projects/bezy/RunC/RunC_6_7_TFw7/RunC_6_7_TFw7.csv\n",
      "HERE HERE HERE\n",
      "2020-10-22T02:00:00.000000000\n",
      "2020-10-22T03:00:00.000000000\n",
      "HERE /hysplit-users/alicec/projects/bezy/RunC/RunC_7_8_TFw7\n",
      "bezyC\n"
     ]
    },
    {
     "name": "stderr",
     "output_type": "stream",
     "text": [
      "/hysplit-users/alicec/utilhysplit/utilvolc/ash_inverse.py:771: MatplotlibDeprecationWarning: Adding an axes using the same arguments as a previous axes currently reuses the earlier instance.  In a future version, a new instance will always be created and returned.  Meanwhile, this warning can be suppressed, and the future behavior ensured, by passing a unique label to each axes instance.\n",
      "  ax = fig.add_subplot(1,1,1)\n",
      "/hysplit-users/alicec/utilhysplit/utilvolc/ash_inverse.py:1092: VisibleDeprecationWarning: Creating an ndarray from ragged nested sequences (which is a list-or-tuple of lists-or-tuples-or ndarrays with different lengths or shapes) is deprecated. If you meant to do this, you must specify 'dtype=object' when creating the ndarray.\n",
      "  self.latlist = np.array(latlist)\n",
      "/hysplit-users/alicec/utilhysplit/utilvolc/ash_inverse.py:1093: VisibleDeprecationWarning: Creating an ndarray from ragged nested sequences (which is a list-or-tuple of lists-or-tuples-or ndarrays with different lengths or shapes) is deprecated. If you meant to do this, you must specify 'dtype=object' when creating the ndarray.\n",
      "  self.lonlist = np.array(lonlist)\n",
      "/hysplit-users/alicec/utilhysplit/utilvolc/ash_inverse.py:1107: VisibleDeprecationWarning: Creating an ndarray from ragged nested sequences (which is a list-or-tuple of lists-or-tuples-or ndarrays with different lengths or shapes) is deprecated. If you meant to do this, you must specify 'dtype=object' when creating the ndarray.\n",
      "  self.latlist = np.array(latlist)\n",
      "/hysplit-users/alicec/utilhysplit/utilvolc/ash_inverse.py:1108: VisibleDeprecationWarning: Creating an ndarray from ragged nested sequences (which is a list-or-tuple of lists-or-tuples-or ndarrays with different lengths or shapes) is deprecated. If you meant to do this, you must specify 'dtype=object' when creating the ndarray.\n",
      "  self.lonlist = np.array(lonlist)\n"
     ]
    },
    {
     "name": "stdout",
     "output_type": "stream",
     "text": [
      "length 1\n",
      "self subdir is /hysplit-users/alicec/projects/bezy/RunC/RunC_7_8_TFw7\n",
      "saving emissions in  /hysplit-users/alicec/projects/bezy/RunC/RunC_7_8_TFw7/RunC_7_8_TFw7.csv\n",
      "saving  emissions to  /hysplit-users/alicec/projects/bezy/RunC/RunC_7_8_TFw7/RunC_7_8_TFw7.csv\n",
      "HERE HERE HERE\n",
      "2020-10-22T03:00:00.000000000\n",
      "2020-10-22T04:00:00.000000000\n",
      "HERE /hysplit-users/alicec/projects/bezy/RunC/RunC_8_9_TFw7\n",
      "bezyC\n"
     ]
    },
    {
     "name": "stderr",
     "output_type": "stream",
     "text": [
      "/hysplit-users/alicec/utilhysplit/utilvolc/ash_inverse.py:771: MatplotlibDeprecationWarning: Adding an axes using the same arguments as a previous axes currently reuses the earlier instance.  In a future version, a new instance will always be created and returned.  Meanwhile, this warning can be suppressed, and the future behavior ensured, by passing a unique label to each axes instance.\n",
      "  ax = fig.add_subplot(1,1,1)\n",
      "/hysplit-users/alicec/utilhysplit/utilvolc/ash_inverse.py:1092: VisibleDeprecationWarning: Creating an ndarray from ragged nested sequences (which is a list-or-tuple of lists-or-tuples-or ndarrays with different lengths or shapes) is deprecated. If you meant to do this, you must specify 'dtype=object' when creating the ndarray.\n",
      "  self.latlist = np.array(latlist)\n",
      "/hysplit-users/alicec/utilhysplit/utilvolc/ash_inverse.py:1093: VisibleDeprecationWarning: Creating an ndarray from ragged nested sequences (which is a list-or-tuple of lists-or-tuples-or ndarrays with different lengths or shapes) is deprecated. If you meant to do this, you must specify 'dtype=object' when creating the ndarray.\n",
      "  self.lonlist = np.array(lonlist)\n",
      "/hysplit-users/alicec/utilhysplit/utilvolc/ash_inverse.py:1107: VisibleDeprecationWarning: Creating an ndarray from ragged nested sequences (which is a list-or-tuple of lists-or-tuples-or ndarrays with different lengths or shapes) is deprecated. If you meant to do this, you must specify 'dtype=object' when creating the ndarray.\n",
      "  self.latlist = np.array(latlist)\n",
      "/hysplit-users/alicec/utilhysplit/utilvolc/ash_inverse.py:1108: VisibleDeprecationWarning: Creating an ndarray from ragged nested sequences (which is a list-or-tuple of lists-or-tuples-or ndarrays with different lengths or shapes) is deprecated. If you meant to do this, you must specify 'dtype=object' when creating the ndarray.\n",
      "  self.lonlist = np.array(lonlist)\n"
     ]
    },
    {
     "name": "stdout",
     "output_type": "stream",
     "text": [
      "length 1\n",
      "self subdir is /hysplit-users/alicec/projects/bezy/RunC/RunC_8_9_TFw7\n",
      "saving emissions in  /hysplit-users/alicec/projects/bezy/RunC/RunC_8_9_TFw7/RunC_8_9_TFw7.csv\n",
      "saving  emissions to  /hysplit-users/alicec/projects/bezy/RunC/RunC_8_9_TFw7/RunC_8_9_TFw7.csv\n",
      "HERE HERE HERE\n",
      "2020-10-22T04:00:00.000000000\n",
      "2020-10-22T05:00:00.000000000\n",
      "HERE /hysplit-users/alicec/projects/bezy/RunC/RunC_9_10_TFw7\n",
      "bezyC\n"
     ]
    },
    {
     "name": "stderr",
     "output_type": "stream",
     "text": [
      "/hysplit-users/alicec/utilhysplit/utilvolc/ash_inverse.py:771: MatplotlibDeprecationWarning: Adding an axes using the same arguments as a previous axes currently reuses the earlier instance.  In a future version, a new instance will always be created and returned.  Meanwhile, this warning can be suppressed, and the future behavior ensured, by passing a unique label to each axes instance.\n",
      "  ax = fig.add_subplot(1,1,1)\n",
      "/hysplit-users/alicec/utilhysplit/utilvolc/ash_inverse.py:1092: VisibleDeprecationWarning: Creating an ndarray from ragged nested sequences (which is a list-or-tuple of lists-or-tuples-or ndarrays with different lengths or shapes) is deprecated. If you meant to do this, you must specify 'dtype=object' when creating the ndarray.\n",
      "  self.latlist = np.array(latlist)\n",
      "/hysplit-users/alicec/utilhysplit/utilvolc/ash_inverse.py:1093: VisibleDeprecationWarning: Creating an ndarray from ragged nested sequences (which is a list-or-tuple of lists-or-tuples-or ndarrays with different lengths or shapes) is deprecated. If you meant to do this, you must specify 'dtype=object' when creating the ndarray.\n",
      "  self.lonlist = np.array(lonlist)\n",
      "/hysplit-users/alicec/utilhysplit/utilvolc/ash_inverse.py:1107: VisibleDeprecationWarning: Creating an ndarray from ragged nested sequences (which is a list-or-tuple of lists-or-tuples-or ndarrays with different lengths or shapes) is deprecated. If you meant to do this, you must specify 'dtype=object' when creating the ndarray.\n",
      "  self.latlist = np.array(latlist)\n",
      "/hysplit-users/alicec/utilhysplit/utilvolc/ash_inverse.py:1108: VisibleDeprecationWarning: Creating an ndarray from ragged nested sequences (which is a list-or-tuple of lists-or-tuples-or ndarrays with different lengths or shapes) is deprecated. If you meant to do this, you must specify 'dtype=object' when creating the ndarray.\n",
      "  self.lonlist = np.array(lonlist)\n"
     ]
    },
    {
     "name": "stdout",
     "output_type": "stream",
     "text": [
      "length 1\n",
      "self subdir is /hysplit-users/alicec/projects/bezy/RunC/RunC_9_10_TFw7\n",
      "saving emissions in  /hysplit-users/alicec/projects/bezy/RunC/RunC_9_10_TFw7/RunC_9_10_TFw7.csv\n",
      "saving  emissions to  /hysplit-users/alicec/projects/bezy/RunC/RunC_9_10_TFw7/RunC_9_10_TFw7.csv\n",
      "HERE HERE HERE\n",
      "2020-10-22T05:00:00.000000000\n",
      "2020-10-22T06:00:00.000000000\n",
      "HERE /hysplit-users/alicec/projects/bezy/RunC/RunC_10_11_TFw7\n",
      "bezyC\n"
     ]
    },
    {
     "name": "stderr",
     "output_type": "stream",
     "text": [
      "/hysplit-users/alicec/utilhysplit/utilvolc/ash_inverse.py:771: MatplotlibDeprecationWarning: Adding an axes using the same arguments as a previous axes currently reuses the earlier instance.  In a future version, a new instance will always be created and returned.  Meanwhile, this warning can be suppressed, and the future behavior ensured, by passing a unique label to each axes instance.\n",
      "  ax = fig.add_subplot(1,1,1)\n"
     ]
    },
    {
     "name": "stdout",
     "output_type": "stream",
     "text": [
      "length 1\n",
      "self subdir is /hysplit-users/alicec/projects/bezy/RunC/RunC_10_11_TFw7\n",
      "saving emissions in  /hysplit-users/alicec/projects/bezy/RunC/RunC_10_11_TFw7/RunC_10_11_TFw7.csv\n",
      "saving  emissions to  /hysplit-users/alicec/projects/bezy/RunC/RunC_10_11_TFw7/RunC_10_11_TFw7.csv\n"
     ]
    },
    {
     "data": {
      "image/png": "[encoded data removed]",
      "text/plain": [
       "<Figure size 432x288 with 1 Axes>"
      ]
     },
     "metadata": {},
     "output_type": "display_data"
    }
   ],
   "source": [
    "%autoreload\n",
    "# creates emit-times, CONTROL and SETUP files for HYSPLIT runs.\n",
    "# Note that warning that meteorological files not found is ok.\n",
    "\n",
    "%autoreload\n",
    "print('here')\n",
    "tiilist = [[2,3],[2,3,4],[2,3,4,5],[2,3,4,5,6],[2,3,4,5,6,7],[2,3,4,5,6,7,8],[2,3,4,5,6,7,8,9],\n",
    "           [2,3,4,5,6,7,8,9,10],[2,3,4,5,6,7,8,9,10,11]]  #times to assimilate in inversion algorithm.\n",
    "#tiilist = [[2,3]]\n",
    "remove_cols=True    # removes columns with no model values in them.\n",
    "remove_rows=False    # removes clear sky observations\n",
    "remove_sources = False\n",
    "remove_ncs=7\n",
    "for tii in tiilist:\n",
    "    print('tii', tii)\n",
    "    makerun(tii,remove_cols,remove_rows,remove_sources,remove_ncs)\n",
    "    #inverse.make_efile(vloc=vloc)\n",
    "    #inverse.run_hysplit()\n",
    "\n",
    "\n",
    "tiilist = [[2,3],[3,4],[4,5],[5,6],[6,7],[7,8],[8,9],[9,10],[10,11]]\n",
    "remove_cols=True    # removes columns with no model values in them.\n",
    "remove_rows=False    # removes clear sky observations\n",
    "remove_sources = False\n",
    "remove_ncs=7\n",
    "for tii in tiilist:\n",
    "    makerun(tii,remove_cols,remove_rows,remove_sources,remove_ncs)\n",
    "    #inverse.make_efile(vloc=vloc)\n",
    "    #inverse.run_hysplit()"
   ]
  },
  {
   "cell_type": "code",
   "execution_count": 16,
   "metadata": {},
   "outputs": [
    {
     "data": {
      "text/plain": [
       "[<utilvolc.ash_inverse.InverseAsh at 0x7f3d07e15250>]"
      ]
     },
     "execution_count": 16,
     "metadata": {},
     "output_type": "execute_result"
    }
   ],
   "source": [
    "inverse.invlist"
   ]
  },
  {
   "cell_type": "code",
   "execution_count": 17,
   "metadata": {},
   "outputs": [
    {
     "name": "stdout",
     "output_type": "stream",
     "text": [
      "time 1 : 2020-10-21 20:00:00\n",
      "time 2 : 2020-10-21 21:00:00\n",
      "time 3 : 2020-10-21 22:00:00\n",
      "time 4 : 2020-10-21 23:00:00\n",
      "time 5 : 2020-10-22 00:00:00\n",
      "time 6 : 2020-10-22 01:00:00\n",
      "time 7 : 2020-10-22 02:00:00\n",
      "time 8 : 2020-10-22 03:00:00\n",
      "time 9 : 2020-10-22 04:00:00\n",
      "time 10 : 2020-10-22 05:00:00\n",
      "time 11 : 2020-10-22 06:00:00\n"
     ]
    }
   ],
   "source": [
    "for tii in [1,2,3,4,5,6,7,8,9,10,11]:\n",
    "    print('time {} : {}'.format(tii,inverse.invlist[0].get_time(tii)))\n"
   ]
  },
  {
   "cell_type": "code",
   "execution_count": 18,
   "metadata": {},
   "outputs": [
    {
     "name": "stdout",
     "output_type": "stream",
     "text": [
      "Observations availalbe in volcat_avg_hash\n",
      "dict_keys([2, 3, 4, 5, 6, 7, 8, 9, 10, 11])\n",
      "times in cdump file\n",
      "2020 10 21 19:00z\n",
      "2020 10 21 20:00z\n",
      "2020 10 21 21:00z\n",
      "2020 10 21 22:00z\n",
      "2020 10 21 23:00z\n",
      "2020 10 22 00:00z\n",
      "2020 10 22 01:00z\n",
      "2020 10 22 02:00z\n",
      "2020 10 22 03:00z\n",
      "2020 10 22 04:00z\n",
      "2020 10 22 05:00z\n",
      "2020 10 22 06:00z\n",
      "2020 10 22 07:00z\n",
      "2020 10 22 08:00z\n",
      "2020 10 22 09:00z\n",
      "2020 10 22 10:00z\n",
      "2020 10 22 11:00z\n"
     ]
    }
   ],
   "source": [
    "%autoreload\n",
    "inverse.invlist[0].print_summary()"
   ]
  },
  {
   "cell_type": "code",
   "execution_count": 19,
   "metadata": {
    "scrolled": true
   },
   "outputs": [
    {
     "name": "stdout",
     "output_type": "stream",
     "text": [
      "4 bezyC\n",
      "tii 4\n"
     ]
    },
    {
     "name": "stderr",
     "output_type": "stream",
     "text": [
      "/hysplit-users/alicec/anaconda3/envs/paris/lib/python3.8/site-packages/xarray/core/computation.py:739: RuntimeWarning: divide by zero encountered in log10\n",
      "  result_data = func(*input_data)\n"
     ]
    },
    {
     "data": {
      "image/png": "[encoded data removed]",
      "text/plain": [
       "<Figure size 720x360 with 2 Axes>"
      ]
     },
     "metadata": {},
     "output_type": "display_data"
    }
   ],
   "source": [
    "%autoreload\n",
    "#gep10, gep16 looks good at tii=6.\n",
    "#gep24 possibly looks ok.\n",
    "zlevel=None  #index 'ensemble'\n",
    "           #if None then sum along the ens. dimension which shows contributions from all inv. runs.\n",
    "tii=4\n",
    "#zlevel=None\n",
    "%autoreload\n",
    "ax = inverse.compare_plotsA(daterange=dlist[0],tii=tii,zii=zlevel)\n",
    "#plt.gca()\n",
    "#ax.plot(160.587,55.978,'y^')\n",
    "#plt.show()\n"
   ]
  },
  {
   "cell_type": "code",
   "execution_count": 20,
   "metadata": {},
   "outputs": [],
   "source": [
    "%autoreload\n",
    "inverse.set_concmult(1)"
   ]
  },
  {
   "cell_type": "code",
   "execution_count": 21,
   "metadata": {},
   "outputs": [],
   "source": [
    "def makerun(tii,remove_cols, remove_rows, remove_sources,remove_ncs):\n",
    "    inverse.make_tcm_mult(tii,remove_cols=remove_cols, remove_rows=remove_rows, remove_sources=remove_sources,remove_ncs=remove_ncs)\n",
    "    runtag = ai.create_runtag(tag,tii,remove_cols, remove_rows, remove_sources,remove_ncs=remove_ncs)\n",
    "    inverse.set_subdirectory(runtag)\n",
    "    tcmstr = inverse.write_tcm(os.path.join(inverse.subdir, tcm_name_base.replace('zzz','4')))\n",
    "    inverse.run_tcm()\n",
    "    \n",
    "    eii=None\n",
    "    unit='g/h'\n",
    "    unit='kg/s'\n",
    "    inverse.plot_outdat_ts(eii,unit=unit)\n",
    "    #plt.show()\n",
    "    #inverse.plot_outdat_ts(eii,profile=True)\n",
    "    inverse.save_emis(runtag+'.csv')"
   ]
  },
  {
   "cell_type": "code",
   "execution_count": 40,
   "metadata": {},
   "outputs": [
    {
     "name": "stdout",
     "output_type": "stream",
     "text": [
      "tii [2, 3]\n",
      "2020-10-21T21:00:00.000000000\n",
      "2020-10-21T22:00:00.000000000\n"
     ]
    },
    {
     "name": "stderr",
     "output_type": "stream",
     "text": [
      "/hysplit-users/alicec/utilhysplit/utilvolc/ash_inverse.py:1092: VisibleDeprecationWarning: Creating an ndarray from ragged nested sequences (which is a list-or-tuple of lists-or-tuples-or ndarrays with different lengths or shapes) is deprecated. If you meant to do this, you must specify 'dtype=object' when creating the ndarray.\n",
      "  self.latlist = np.array(latlist)\n",
      "/hysplit-users/alicec/utilhysplit/utilvolc/ash_inverse.py:1093: VisibleDeprecationWarning: Creating an ndarray from ragged nested sequences (which is a list-or-tuple of lists-or-tuples-or ndarrays with different lengths or shapes) is deprecated. If you meant to do this, you must specify 'dtype=object' when creating the ndarray.\n",
      "  self.lonlist = np.array(lonlist)\n",
      "/hysplit-users/alicec/utilhysplit/utilvolc/ash_inverse.py:1107: VisibleDeprecationWarning: Creating an ndarray from ragged nested sequences (which is a list-or-tuple of lists-or-tuples-or ndarrays with different lengths or shapes) is deprecated. If you meant to do this, you must specify 'dtype=object' when creating the ndarray.\n",
      "  self.latlist = np.array(latlist)\n",
      "/hysplit-users/alicec/utilhysplit/utilvolc/ash_inverse.py:1108: VisibleDeprecationWarning: Creating an ndarray from ragged nested sequences (which is a list-or-tuple of lists-or-tuples-or ndarrays with different lengths or shapes) is deprecated. If you meant to do this, you must specify 'dtype=object' when creating the ndarray.\n",
      "  self.lonlist = np.array(lonlist)\n"
     ]
    },
    {
     "name": "stdout",
     "output_type": "stream",
     "text": [
      "bezyC\n",
      "length 1\n",
      "self subdir is /hysplit-users/alicec/projects/bezy/RunC/RunC_2_3_TFw5\n",
      "saving emissions in  /hysplit-users/alicec/projects/bezy/RunC/RunC_2_3_TFw5/RunC_2_3_TFw5.csv\n",
      "saving  emissions to  /hysplit-users/alicec/projects/bezy/RunC/RunC_2_3_TFw5/RunC_2_3_TFw5.csv\n",
      "working on  0 1\n",
      "using particle size  None\n",
      "ZZZZ\n"
     ]
    },
    {
     "ename": "AttributeError",
     "evalue": "'NoneType' object has no attribute 'keys'",
     "output_type": "error",
     "traceback": [
      "\u001b[0;31m---------------------------------------------------------------------------\u001b[0m",
      "\u001b[0;31mAttributeError\u001b[0m                            Traceback (most recent call last)",
      "\u001b[0;32m<ipython-input-40-bee6fdffee2d>\u001b[0m in \u001b[0;36m<module>\u001b[0;34m\u001b[0m\n\u001b[1;32m     14\u001b[0m     \u001b[0mprint\u001b[0m\u001b[0;34m(\u001b[0m\u001b[0;34m'tii'\u001b[0m\u001b[0;34m,\u001b[0m \u001b[0mtii\u001b[0m\u001b[0;34m)\u001b[0m\u001b[0;34m\u001b[0m\u001b[0;34m\u001b[0m\u001b[0m\n\u001b[1;32m     15\u001b[0m     \u001b[0mmakerun\u001b[0m\u001b[0;34m(\u001b[0m\u001b[0mtii\u001b[0m\u001b[0;34m,\u001b[0m\u001b[0mremove_cols\u001b[0m\u001b[0;34m,\u001b[0m\u001b[0mremove_rows\u001b[0m\u001b[0;34m,\u001b[0m\u001b[0mremove_sources\u001b[0m\u001b[0;34m,\u001b[0m\u001b[0mremove_ncs\u001b[0m\u001b[0;34m)\u001b[0m\u001b[0;34m\u001b[0m\u001b[0;34m\u001b[0m\u001b[0m\n\u001b[0;32m---> 16\u001b[0;31m     \u001b[0minverse\u001b[0m\u001b[0;34m.\u001b[0m\u001b[0mmake_efile\u001b[0m\u001b[0;34m(\u001b[0m\u001b[0mvloc\u001b[0m\u001b[0;34m=\u001b[0m\u001b[0mvloc\u001b[0m\u001b[0;34m)\u001b[0m\u001b[0;34m\u001b[0m\u001b[0;34m\u001b[0m\u001b[0m\n\u001b[0m\u001b[1;32m     17\u001b[0m     \u001b[0minverse\u001b[0m\u001b[0;34m.\u001b[0m\u001b[0mrun_hysplit\u001b[0m\u001b[0;34m(\u001b[0m\u001b[0;34m)\u001b[0m\u001b[0;34m\u001b[0m\u001b[0;34m\u001b[0m\u001b[0m\n\u001b[1;32m     18\u001b[0m \u001b[0;34m\u001b[0m\u001b[0m\n",
      "\u001b[0;32m~/utilhysplit/utilvolc/ash_inverse.py\u001b[0m in \u001b[0;36mmake_efile\u001b[0;34m(self, vloc, emis_threshold, eii)\u001b[0m\n\u001b[1;32m    709\u001b[0m             \u001b[0marea\u001b[0m \u001b[0;34m=\u001b[0m \u001b[0mself\u001b[0m\u001b[0;34m.\u001b[0m\u001b[0minvlist\u001b[0m\u001b[0;34m[\u001b[0m\u001b[0miii\u001b[0m\u001b[0;34m]\u001b[0m\u001b[0;34m.\u001b[0m\u001b[0minp\u001b[0m\u001b[0;34m[\u001b[0m\u001b[0;34m'area'\u001b[0m\u001b[0;34m]\u001b[0m\u001b[0;34m\u001b[0m\u001b[0;34m\u001b[0m\u001b[0m\n\u001b[1;32m    710\u001b[0m             \u001b[0mprint\u001b[0m\u001b[0;34m(\u001b[0m\u001b[0;34m\"using particle size \"\u001b[0m\u001b[0;34m,\u001b[0m \u001b[0mself\u001b[0m\u001b[0;34m.\u001b[0m\u001b[0mphash\u001b[0m\u001b[0;34m)\u001b[0m\u001b[0;34m\u001b[0m\u001b[0;34m\u001b[0m\u001b[0m\n\u001b[0;32m--> 711\u001b[0;31m             efile = make_efile(vals,vlat=vloc[1], vlon=vloc[0], \n\u001b[0m\u001b[1;32m    712\u001b[0m                        \u001b[0marea\u001b[0m\u001b[0;34m=\u001b[0m\u001b[0marea\u001b[0m\u001b[0;34m,\u001b[0m\u001b[0;34m\u001b[0m\u001b[0;34m\u001b[0m\u001b[0m\n\u001b[1;32m    713\u001b[0m                        \u001b[0memis_threshold\u001b[0m \u001b[0;34m=\u001b[0m \u001b[0memis_threshold\u001b[0m\u001b[0;34m,\u001b[0m\u001b[0;34m\u001b[0m\u001b[0;34m\u001b[0m\u001b[0m\n",
      "\u001b[0;32m~/utilhysplit/utilvolc/ash_inverse.py\u001b[0m in \u001b[0;36mmake_efile\u001b[0;34m(vals, vlat, vlon, area, emis_threshold, vres, name, date_cutoff, phash)\u001b[0m\n\u001b[1;32m   2223\u001b[0m                \u001b[0mphash\u001b[0m \u001b[0;34m=\u001b[0m \u001b[0;32mNone\u001b[0m\u001b[0;34m,\u001b[0m\u001b[0;34m\u001b[0m\u001b[0;34m\u001b[0m\u001b[0m\n\u001b[1;32m   2224\u001b[0m                ):\n\u001b[0;32m-> 2225\u001b[0;31m     \u001b[0mefile\u001b[0m \u001b[0;34m=\u001b[0m \u001b[0mconstruct_efile\u001b[0m\u001b[0;34m(\u001b[0m\u001b[0mvals\u001b[0m\u001b[0;34m,\u001b[0m\u001b[0mvlat\u001b[0m\u001b[0;34m,\u001b[0m\u001b[0mvlon\u001b[0m\u001b[0;34m,\u001b[0m\u001b[0marea\u001b[0m\u001b[0;34m,\u001b[0m\u001b[0memis_threshold\u001b[0m\u001b[0;34m,\u001b[0m\u001b[0mvres\u001b[0m\u001b[0;34m,\u001b[0m\u001b[0mname\u001b[0m\u001b[0;34m,\u001b[0m\u001b[0mdate_cutoff\u001b[0m\u001b[0;34m,\u001b[0m\u001b[0mphash\u001b[0m\u001b[0;34m)\u001b[0m\u001b[0;34m\u001b[0m\u001b[0;34m\u001b[0m\u001b[0m\n\u001b[0m\u001b[1;32m   2226\u001b[0m     \u001b[0mprint\u001b[0m\u001b[0;34m(\u001b[0m\u001b[0;34m'writing efile {}'\u001b[0m\u001b[0;34m,\u001b[0m \u001b[0mname\u001b[0m\u001b[0;34m)\u001b[0m\u001b[0;34m\u001b[0m\u001b[0;34m\u001b[0m\u001b[0m\n\u001b[1;32m   2227\u001b[0m     \u001b[0mefile\u001b[0m\u001b[0;34m.\u001b[0m\u001b[0mwrite_new\u001b[0m\u001b[0;34m(\u001b[0m\u001b[0mname\u001b[0m\u001b[0;34m)\u001b[0m\u001b[0;34m\u001b[0m\u001b[0;34m\u001b[0m\u001b[0m\n",
      "\u001b[0;32m~/utilhysplit/utilvolc/ash_inverse.py\u001b[0m in \u001b[0;36mconstruct_efile\u001b[0;34m(vals, vlat, vlon, area, emis_threshold, vres, name, date_cutoff, phash)\u001b[0m\n\u001b[1;32m   2134\u001b[0m     \u001b[0;32mfrom\u001b[0m \u001b[0mutilhysplit\u001b[0m \u001b[0;32mimport\u001b[0m \u001b[0memitimes\u001b[0m\u001b[0;34m\u001b[0m\u001b[0;34m\u001b[0m\u001b[0m\n\u001b[1;32m   2135\u001b[0m     \u001b[0mprint\u001b[0m\u001b[0;34m(\u001b[0m\u001b[0;34m'ZZZZ'\u001b[0m\u001b[0;34m)\u001b[0m\u001b[0;34m\u001b[0m\u001b[0;34m\u001b[0m\u001b[0m\n\u001b[0;32m-> 2136\u001b[0;31m     \u001b[0mefile\u001b[0m \u001b[0;34m=\u001b[0m \u001b[0memitimes\u001b[0m\u001b[0;34m.\u001b[0m\u001b[0mEmiTimes\u001b[0m\u001b[0;34m(\u001b[0m\u001b[0mspecies\u001b[0m\u001b[0;34m=\u001b[0m\u001b[0mphash\u001b[0m\u001b[0;34m)\u001b[0m\u001b[0;34m\u001b[0m\u001b[0;34m\u001b[0m\u001b[0m\n\u001b[0m\u001b[1;32m   2137\u001b[0m     \u001b[0mprint\u001b[0m\u001b[0;34m(\u001b[0m\u001b[0;34m'splist'\u001b[0m\u001b[0;34m,\u001b[0m \u001b[0mefile\u001b[0m\u001b[0;34m.\u001b[0m\u001b[0msplist\u001b[0m\u001b[0;34m)\u001b[0m\u001b[0;34m\u001b[0m\u001b[0;34m\u001b[0m\u001b[0m\n\u001b[1;32m   2138\u001b[0m     \u001b[0;31m#efile.set_species(phash)\u001b[0m\u001b[0;34m\u001b[0m\u001b[0;34m\u001b[0m\u001b[0;34m\u001b[0m\u001b[0m\n",
      "\u001b[0;32m~/utilhysplit/utilhysplit/emitimes.py\u001b[0m in \u001b[0;36m__init__\u001b[0;34m(self, filename, species)\u001b[0m\n\u001b[1;32m     82\u001b[0m         \u001b[0;32mif\u001b[0m \u001b[0misinstance\u001b[0m\u001b[0;34m(\u001b[0m\u001b[0mspecies\u001b[0m\u001b[0;34m,\u001b[0m\u001b[0mlist\u001b[0m\u001b[0;34m)\u001b[0m\u001b[0;34m:\u001b[0m\u001b[0;34m\u001b[0m\u001b[0;34m\u001b[0m\u001b[0m\n\u001b[1;32m     83\u001b[0m            \u001b[0mspecies\u001b[0m \u001b[0;34m=\u001b[0m \u001b[0mself\u001b[0m\u001b[0;34m.\u001b[0m\u001b[0mmake_sphash\u001b[0m\u001b[0;34m(\u001b[0m\u001b[0mspecies\u001b[0m\u001b[0;34m)\u001b[0m\u001b[0;34m\u001b[0m\u001b[0;34m\u001b[0m\u001b[0m\n\u001b[0;32m---> 84\u001b[0;31m         \u001b[0mself\u001b[0m\u001b[0;34m.\u001b[0m\u001b[0msplist\u001b[0m \u001b[0;34m=\u001b[0m \u001b[0mspecies\u001b[0m\u001b[0;34m.\u001b[0m\u001b[0mkeys\u001b[0m\u001b[0;34m(\u001b[0m\u001b[0;34m)\u001b[0m  \u001b[0;31m# list of species in the file\u001b[0m\u001b[0;34m\u001b[0m\u001b[0;34m\u001b[0m\u001b[0m\n\u001b[0m\u001b[1;32m     85\u001b[0m         \u001b[0;31m# val - name of species. key - position (1 to..)\u001b[0m\u001b[0;34m\u001b[0m\u001b[0;34m\u001b[0m\u001b[0;34m\u001b[0m\u001b[0m\n\u001b[1;32m     86\u001b[0m         \u001b[0mself\u001b[0m\u001b[0;34m.\u001b[0m\u001b[0msphash\u001b[0m \u001b[0;34m=\u001b[0m \u001b[0mspecies\u001b[0m\u001b[0;34m\u001b[0m\u001b[0;34m\u001b[0m\u001b[0m\n",
      "\u001b[0;31mAttributeError\u001b[0m: 'NoneType' object has no attribute 'keys'"
     ]
    },
    {
     "data": {
      "image/png": "[encoded data removed]",
      "text/plain": [
       "<Figure size 432x288 with 1 Axes>"
      ]
     },
     "metadata": {},
     "output_type": "display_data"
    }
   ],
   "source": [
    "%autoreload\n",
    "# creates emit-times, CONTROL and SETUP files for HYSPLIT runs.\n",
    "# Note that warning that meteorological files not found is ok.\n",
    "\n",
    "%autoreload\n",
    "\n",
    "tiilist = [[2,3],[2,3,4],[2,3,4,5],[2,3,4,5,6],[2,3,4,5,6,7],[2,3,4,5,6,7,8],[2,3,4,5,6,7,8,9],\n",
    "           [2,3,4,5,6,7,8,9,10],[2,3,4,5,6,7,8,9,10,11]]  #times to assimilate in inversion algorithm.\n",
    "remove_cols=True    # removes columns with no model values in them.\n",
    "remove_rows=False    # removes clear sky observations\n",
    "remove_sources = False\n",
    "remove_ncs=5\n",
    "for tii in tiilist:\n",
    "    print('tii', tii)\n",
    "    makerun(tii,remove_cols,remove_rows,remove_sources,remove_ncs)\n",
    "    inverse.make_efile(vloc=vloc)\n",
    "    inverse.run_hysplit()\n",
    "\n",
    "tiilist = [[2,3],[3,4],[4,5],[5,6],[6,7],[7,8],[8,9],[9,10],[10,11]]\n",
    "remove_cols=True    # removes columns with no model values in them.\n",
    "remove_rows=False    # removes clear sky observations\n",
    "remove_sources = False\n",
    "remove_ncs=5\n",
    "for tii in tiilist:\n",
    "    makerun(tii,remove_cols,remove_rows,remove_sources,remove_ncs)\n",
    "    inverse.make_efile(vloc=vloc)\n",
    "    inverse.run_hysplit()"
   ]
  },
  {
   "cell_type": "code",
   "execution_count": null,
   "metadata": {},
   "outputs": [],
   "source": [
    "%autoreload\n",
    "tiilist = [[2,3],[2,3,4],[4,5,6]]  #times to assimilate in inversion algorithm.\n",
    "remove_cols=True    # removes columns with no model values in them.\n",
    "remove_rows=False    # removes clear sky observations\n",
    "remove_sources = False\n",
    "remove_ncs=5\n",
    "for tii in tiilist:\n",
    "    makerun(tii,remove_cols,remove_rows,remove_sources,remove_ncs)\n",
    "remove_rows=True\n",
    "remove_ncs=0\n",
    "for tii in tiilist:\n",
    "    makerun(tii,remove_cols,remove_rows,remove_sources,remove_ncs)\n",
    "remove_rows=False\n",
    "remove_ncs=0\n",
    "for tii in tiilist:\n",
    "    makerun(tii,remove_cols,remove_rows,remove_sources,remove_ncs)\n",
    "    \n",
    "    \n",
    "tiilist = [[7,8],[9,10,11],[2,3,4,5,6,7,8,9,10,11]]  #times to assimilate in inversion algorithm.\n",
    "remove_cols=True    # removes columns with no model values in them.\n",
    "remove_rows=False    # removes clear sky observations\n",
    "remove_sources = False\n",
    "remove_ncs=7\n",
    "for tii in tiilist:\n",
    "    makerun(tii,remove_cols,remove_rows,remove_sources,remove_ncs)\n",
    "remove_rows=True\n",
    "remove_ncs=0\n",
    "for tii in tiilist:\n",
    "    makerun(tii,remove_cols,remove_rows,remove_sources,remove_ncs)\n",
    "remove_rows=False\n",
    "remove_ncs=0\n",
    "for tii in tiilist:\n",
    "    makerun(tii,remove_cols,remove_rows,remove_sources,remove_ncs)  \n",
    "    "
   ]
  },
  {
   "cell_type": "code",
   "execution_count": 24,
   "metadata": {},
   "outputs": [
    {
     "name": "stdout",
     "output_type": "stream",
     "text": [
      "2020-10-21T21:00:00.000000000\n",
      "2020-10-21T22:00:00.000000000\n"
     ]
    },
    {
     "name": "stderr",
     "output_type": "stream",
     "text": [
      "/hysplit-users/alicec/utilhysplit/utilvolc/ash_inverse.py:1092: VisibleDeprecationWarning: Creating an ndarray from ragged nested sequences (which is a list-or-tuple of lists-or-tuples-or ndarrays with different lengths or shapes) is deprecated. If you meant to do this, you must specify 'dtype=object' when creating the ndarray.\n",
      "  self.latlist = np.array(latlist)\n",
      "/hysplit-users/alicec/utilhysplit/utilvolc/ash_inverse.py:1093: VisibleDeprecationWarning: Creating an ndarray from ragged nested sequences (which is a list-or-tuple of lists-or-tuples-or ndarrays with different lengths or shapes) is deprecated. If you meant to do this, you must specify 'dtype=object' when creating the ndarray.\n",
      "  self.lonlist = np.array(lonlist)\n",
      "/hysplit-users/alicec/utilhysplit/utilvolc/ash_inverse.py:1107: VisibleDeprecationWarning: Creating an ndarray from ragged nested sequences (which is a list-or-tuple of lists-or-tuples-or ndarrays with different lengths or shapes) is deprecated. If you meant to do this, you must specify 'dtype=object' when creating the ndarray.\n",
      "  self.latlist = np.array(latlist)\n",
      "/hysplit-users/alicec/utilhysplit/utilvolc/ash_inverse.py:1108: VisibleDeprecationWarning: Creating an ndarray from ragged nested sequences (which is a list-or-tuple of lists-or-tuples-or ndarrays with different lengths or shapes) is deprecated. If you meant to do this, you must specify 'dtype=object' when creating the ndarray.\n",
      "  self.lonlist = np.array(lonlist)\n"
     ]
    }
   ],
   "source": [
    "%autoreload\n",
    "tii = [2,3]  #times to assimilate in inversion algorithm.\n",
    "remove_cols=True    # removes columns with no model values in them.\n",
    "remove_rows=False    # removes clear sky observations\n",
    "remove_sources = False\n",
    "remove_ncs=5\n",
    "#remove_sources = ['12880']  # this would remove top vertical level from consideration.\n",
    "#inverse.make_tcm_mult([1,2,3,4],remove_cols=True,remove_rows=False,remove_sources=['12880'])\n",
    "inverse.make_tcm_mult(tii,remove_cols=remove_cols, remove_rows=remove_rows, remove_sources=remove_sources,remove_ncs=remove_ncs)\n",
    "runtag = ai.create_runtag(tag,tii,remove_cols, remove_rows, remove_sources,remove_ncs=remove_ncs)\n",
    "\n",
    "# set the subdirectory for this TCM run.\n",
    "#subdir = inverse.set_sub_directory(runtag)\n",
    "#print('setting subdirectory {}'.format(subdir))"
   ]
  },
  {
   "cell_type": "code",
   "execution_count": 25,
   "metadata": {},
   "outputs": [
    {
     "name": "stdout",
     "output_type": "stream",
     "text": [
      "RunC_2_3_TFw5\n"
     ]
    }
   ],
   "source": [
    "print(runtag)"
   ]
  },
  {
   "cell_type": "code",
   "execution_count": 26,
   "metadata": {},
   "outputs": [
    {
     "name": "stdout",
     "output_type": "stream",
     "text": [
      "3.381760138516895e-14\n",
      "4.0581121662202745e-13\n"
     ]
    }
   ],
   "source": [
    "numpar = 20000  # number of particles released per hour.\n",
    "delt = 5 # time step\n",
    "tave = 1 # 1 h time average\n",
    "hres = 0.1 # 0.1 degree horizontal resolution.\n",
    "rate = 1 # 1 unit mass per hour\n",
    "particle_mass = rate / numpar  #how much unit mass each particle has\n",
    "area = (hres * 111e3)**2  # area in meters squared for mass loading grid.\n",
    "mass_one = particle_mass / area  # unit mass / m2 for one particle in grid box.\n",
    "mass_one_one = mass_one / (tave*60 / delt)  # smallest mass loading possible with one particle for one time step\n",
    "print(mass_one_one)  # one particle for one time step\n",
    "print(mass_one)      # one particle in area."
   ]
  },
  {
   "cell_type": "code",
   "execution_count": 27,
   "metadata": {},
   "outputs": [
    {
     "name": "stderr",
     "output_type": "stream",
     "text": [
      "/hysplit-users/alicec/utilhysplit/utilvolc/ash_inverse.py:1256: RuntimeWarning: divide by zero encountered in log10\n",
      "  cb = plt.pcolormesh(np.log10(self.tcm),cmap='tab20')\n"
     ]
    },
    {
     "data": {
      "image/png": "[encoded data removed]",
      "text/plain": [
       "<Figure size 432x288 with 2 Axes>"
      ]
     },
     "metadata": {},
     "output_type": "display_data"
    },
    {
     "data": {
      "text/plain": [
       "(3214, 45)"
      ]
     },
     "execution_count": 27,
     "metadata": {},
     "output_type": "execute_result"
    }
   ],
   "source": [
    "%autoreload\n",
    "inverse.plot_tcm()\n",
    "inverse.invlist[0].tcm.shape\n"
   ]
  },
  {
   "cell_type": "code",
   "execution_count": 28,
   "metadata": {},
   "outputs": [
    {
     "data": {
      "text/plain": [
       "'/hysplit-users/alicec/projects/bezy/RunC/RunC_2_3_TFw5'"
      ]
     },
     "execution_count": 28,
     "metadata": {},
     "output_type": "execute_result"
    }
   ],
   "source": [
    "#hysplitdir = '/hysplit-users/alicec/FBamcArea/exec/'\n",
    "#inverse.set_directory(wdir,execdir,hysplitdir)\n",
    "inverse.set_subdirectory(runtag)"
   ]
  },
  {
   "cell_type": "code",
   "execution_count": 29,
   "metadata": {
    "scrolled": true
   },
   "outputs": [],
   "source": [
    "%autoreload\n",
    "tcmstr = inverse.write_tcm(os.path.join(inverse.subdir, tcm_name_base.replace('zzz','4')))\n",
    "#print(tcmstr)"
   ]
  },
  {
   "cell_type": "code",
   "execution_count": 30,
   "metadata": {
    "scrolled": true
   },
   "outputs": [
    {
     "name": "stdout",
     "output_type": "stream",
     "text": [
      "bezyC\n"
     ]
    }
   ],
   "source": [
    "%autoreload\n",
    "#hysplitdir = '/hysplit-users/alicec/FBamcArea/exec/'\n",
    "#inverse.set_directory(wdir,execdir,hysplitdir)\n",
    "inverse.run_tcm()"
   ]
  },
  {
   "cell_type": "code",
   "execution_count": 31,
   "metadata": {},
   "outputs": [],
   "source": [
    "# Now run the inverse model.\n",
    "\n",
    "# open the Parameters_in.dat file and set N_ctrl, Nx_ctrl and lbfgs_nbd to\n",
    "# the number shown for N_ctrl above.\n",
    "\n",
    "# copy the tcm file to TCM_sum.csv\n",
    "\n",
    "# run new_lbfgsb.x"
   ]
  },
  {
   "cell_type": "code",
   "execution_count": 32,
   "metadata": {},
   "outputs": [
    {
     "name": "stdout",
     "output_type": "stream",
     "text": [
      "bezyC\n"
     ]
    },
    {
     "data": {
      "image/png": "[encoded data removed]",
      "text/plain": [
       "<Figure size 432x288 with 2 Axes>"
      ]
     },
     "metadata": {},
     "output_type": "display_data"
    }
   ],
   "source": [
    "%autoreload\n",
    "inverse.plot_outdat(eii=None)"
   ]
  },
  {
   "cell_type": "code",
   "execution_count": 33,
   "metadata": {},
   "outputs": [
    {
     "name": "stdout",
     "output_type": "stream",
     "text": [
      "(['bezyC_out.dat'], ['bezyC_out2.dat'])\n",
      "/hysplit-users/alicec/projects/bezy/RunC/RunC_2_3_TFw5\n"
     ]
    }
   ],
   "source": [
    "print(inverse.make_tcm_names())\n",
    "print(inverse.subdir)"
   ]
  },
  {
   "cell_type": "code",
   "execution_count": 34,
   "metadata": {
    "scrolled": true
   },
   "outputs": [
    {
     "data": {
      "image/png": "[encoded data removed]",
      "text/plain": [
       "<Figure size 432x288 with 1 Axes>"
      ]
     },
     "metadata": {},
     "output_type": "display_data"
    },
    {
     "data": {
      "text/plain": [
       "<matplotlib.axes._subplots.AxesSubplot at 0x7f3d07ccc4f0>"
      ]
     },
     "execution_count": 34,
     "metadata": {},
     "output_type": "execute_result"
    },
    {
     "data": {
      "image/png": "[encoded data removed]",
      "text/plain": [
       "<Figure size 432x288 with 1 Axes>"
      ]
     },
     "metadata": {},
     "output_type": "display_data"
    }
   ],
   "source": [
    "%autoreload\n",
    "\n",
    "eii=None\n",
    "unit='g/h'\n",
    "unit='kg/s'\n",
    "inverse.plot_outdat_ts(eii,unit=unit)\n",
    "plt.show()\n",
    "inverse.plot_outdat_ts(eii,unit=unit,profile=True)\n",
    "#ax = plt.gca()\n",
    "#ax.set_ylim(0,10000)"
   ]
  },
  {
   "cell_type": "code",
   "execution_count": 35,
   "metadata": {},
   "outputs": [],
   "source": [
    "#%autoreload\n",
    "#inverse.sourcehash = ai.get_sourcehash(configdir,configfile)"
   ]
  },
  {
   "cell_type": "code",
   "execution_count": 36,
   "metadata": {
    "scrolled": true
   },
   "outputs": [
    {
     "name": "stdout",
     "output_type": "stream",
     "text": [
      "bezyC\n"
     ]
    },
    {
     "data": {
      "image/png": "[encoded data removed]",
      "text/plain": [
       "<Figure size 720x360 with 2 Axes>"
      ]
     },
     "metadata": {},
     "output_type": "display_data"
    },
    {
     "data": {
      "image/png": "[encoded data removed]",
      "text/plain": [
       "<Figure size 720x360 with 2 Axes>"
      ]
     },
     "metadata": {},
     "output_type": "display_data"
    }
   ],
   "source": [
    "%autoreload\n",
    "unit='kg/s'\n",
    "#unit='g/h'\n",
    "iii=0\n",
    "print(inverse.taglist[iii])\n",
    "ilist =  inverse.read_outdat()\n",
    "df = ilist[iii].get_emis()\n",
    "vals = inverse.invlist[iii].make_outdat(df)\n",
    "inverse.invlist[iii].plot_outdat(vals,log=False,cmap='viridis',unit=unit)\n",
    "#plt.savefig('{}.emissions_log.png'.format(figbase))\n",
    "plt.show()\n",
    "inverse.invlist[0].plot_outdat(vals,log=True,cmap='viridis',unit=unit)\n",
    "#plt.savefig('{}.emissions.png'.format(figbase))\n"
   ]
  },
  {
   "cell_type": "code",
   "execution_count": 37,
   "metadata": {},
   "outputs": [
    {
     "data": {
      "text/plain": [
       "{'HYSPLIT_DIR': '/hysplit-users/alicec/hysplit.v5.1.0/',\n",
       " 'MAP_DIR': '/hysplit-users/alicec/hysplit.v5.0.0/graphics/',\n",
       " 'WORK_DIR': '/hysplit-users/alicec/tmp/RunC/',\n",
       " 'CONVERT_EXE': 'convert',\n",
       " 'PYTHON_EXE': '/hysplit-users/alicec/anaconda3/envs/hysplit/bin/python',\n",
       " 'forecastDirectory': '/pub/forecast',\n",
       " 'archivesDirectory': '/pub/archives',\n",
       " 'GHOSTSCRIPT_EXE': 'gs',\n",
       " 'DATA_DIR': '/hysplit-users/alicec/utilhysplit/utilvolc/ashapp/',\n",
       " 'owner': 'A. Person',\n",
       " 'VolcanoName': 'Bezymianny',\n",
       " 'area': 314000000.0,\n",
       " 'top': 12880.0,\n",
       " 'bottom': 2880.0,\n",
       " 'start_date': datetime.datetime(2020, 10, 21, 19, 0),\n",
       " 'durationOfSimulation': 12.0,\n",
       " 'testminutes': 0.0,\n",
       " 'emissionHours': 6.0,\n",
       " 'meteorologicalData': 'GFS0p25',\n",
       " 'EruptionSize': 0.0,\n",
       " 'latitude': 55.978,\n",
       " 'longitude': 160.587,\n",
       " 'samplingIntervalHours': 1.0,\n",
       " 'eflag': 0.0,\n",
       " 'source_type': 'uniform',\n",
       " 'jobname': 'ashtest',\n",
       " 'runflag': 'inverse',\n",
       " 'timeres': 1,\n",
       " 'rate': 1,\n",
       " 'gisOption': 3,\n",
       " 'zoomFactor': 50,\n",
       " 'generatingPostscript': True,\n",
       " 'generatingPDF': True,\n",
       " 'mapBackground': 'arlmap',\n",
       " 'mapProjection': 0,\n",
       " 'spatialPlotRadius': 500.0,\n",
       " 'graphicsResolution': 200,\n",
       " 'zip_compression_level': 3,\n",
       " 'inv_vertical_resolution': 1000}"
      ]
     },
     "execution_count": 37,
     "metadata": {},
     "output_type": "execute_result"
    }
   ],
   "source": [
    "inverse.invlist[0].inp"
   ]
  },
  {
   "cell_type": "code",
   "execution_count": 38,
   "metadata": {},
   "outputs": [
    {
     "name": "stdout",
     "output_type": "stream",
     "text": [
      "Working directory, wdir :/hysplit-users/alicec/projects/bezy/RunC\n",
      "execdir :/hysplit-users/alicec/projects/bezy/Inverse_240\n",
      "hysplitdir :/hysplit-users/alicec/projects/bezy/hysplit\n",
      "subdir :/hysplit-users/alicec/projects/bezy/RunC/RunC_2_3_TFw5\n",
      "vdir :/hysplit-users/alicec/projects/bezy/data/volcat\n",
      "datadir :/hysplit-users/alicec/projects/bezy/data\n"
     ]
    }
   ],
   "source": [
    "%autoreload\n",
    "inverse.print_directories()"
   ]
  },
  {
   "cell_type": "code",
   "execution_count": 39,
   "metadata": {},
   "outputs": [
    {
     "name": "stdout",
     "output_type": "stream",
     "text": [
      "working on  0 1\n",
      "using particle size  None\n",
      "ZZZZ\n"
     ]
    },
    {
     "ename": "AttributeError",
     "evalue": "'NoneType' object has no attribute 'keys'",
     "output_type": "error",
     "traceback": [
      "\u001b[0;31m---------------------------------------------------------------------------\u001b[0m",
      "\u001b[0;31mAttributeError\u001b[0m                            Traceback (most recent call last)",
      "\u001b[0;32m<ipython-input-39-2b26055eb417>\u001b[0m in \u001b[0;36m<module>\u001b[0;34m\u001b[0m\n\u001b[1;32m      2\u001b[0m \u001b[0;31m# creates emit-times, CONTROL and SETUP files for HYSPLIT runs.\u001b[0m\u001b[0;34m\u001b[0m\u001b[0;34m\u001b[0m\u001b[0;34m\u001b[0m\u001b[0m\n\u001b[1;32m      3\u001b[0m \u001b[0;31m# Note that warning that meteorological files not found is ok.\u001b[0m\u001b[0;34m\u001b[0m\u001b[0;34m\u001b[0m\u001b[0;34m\u001b[0m\u001b[0m\n\u001b[0;32m----> 4\u001b[0;31m \u001b[0minverse\u001b[0m\u001b[0;34m.\u001b[0m\u001b[0mmake_efile\u001b[0m\u001b[0;34m(\u001b[0m\u001b[0mvloc\u001b[0m\u001b[0;34m=\u001b[0m\u001b[0mvloc\u001b[0m\u001b[0;34m)\u001b[0m\u001b[0;34m\u001b[0m\u001b[0;34m\u001b[0m\u001b[0m\n\u001b[0m",
      "\u001b[0;32m~/utilhysplit/utilvolc/ash_inverse.py\u001b[0m in \u001b[0;36mmake_efile\u001b[0;34m(self, vloc, emis_threshold, eii)\u001b[0m\n\u001b[1;32m    709\u001b[0m             \u001b[0marea\u001b[0m \u001b[0;34m=\u001b[0m \u001b[0mself\u001b[0m\u001b[0;34m.\u001b[0m\u001b[0minvlist\u001b[0m\u001b[0;34m[\u001b[0m\u001b[0miii\u001b[0m\u001b[0;34m]\u001b[0m\u001b[0;34m.\u001b[0m\u001b[0minp\u001b[0m\u001b[0;34m[\u001b[0m\u001b[0;34m'area'\u001b[0m\u001b[0;34m]\u001b[0m\u001b[0;34m\u001b[0m\u001b[0;34m\u001b[0m\u001b[0m\n\u001b[1;32m    710\u001b[0m             \u001b[0mprint\u001b[0m\u001b[0;34m(\u001b[0m\u001b[0;34m\"using particle size \"\u001b[0m\u001b[0;34m,\u001b[0m \u001b[0mself\u001b[0m\u001b[0;34m.\u001b[0m\u001b[0mphash\u001b[0m\u001b[0;34m)\u001b[0m\u001b[0;34m\u001b[0m\u001b[0;34m\u001b[0m\u001b[0m\n\u001b[0;32m--> 711\u001b[0;31m             efile = make_efile(vals,vlat=vloc[1], vlon=vloc[0], \n\u001b[0m\u001b[1;32m    712\u001b[0m                        \u001b[0marea\u001b[0m\u001b[0;34m=\u001b[0m\u001b[0marea\u001b[0m\u001b[0;34m,\u001b[0m\u001b[0;34m\u001b[0m\u001b[0;34m\u001b[0m\u001b[0m\n\u001b[1;32m    713\u001b[0m                        \u001b[0memis_threshold\u001b[0m \u001b[0;34m=\u001b[0m \u001b[0memis_threshold\u001b[0m\u001b[0;34m,\u001b[0m\u001b[0;34m\u001b[0m\u001b[0;34m\u001b[0m\u001b[0m\n",
      "\u001b[0;32m~/utilhysplit/utilvolc/ash_inverse.py\u001b[0m in \u001b[0;36mmake_efile\u001b[0;34m(vals, vlat, vlon, area, emis_threshold, vres, name, date_cutoff, phash)\u001b[0m\n\u001b[1;32m   2223\u001b[0m                \u001b[0mphash\u001b[0m \u001b[0;34m=\u001b[0m \u001b[0;32mNone\u001b[0m\u001b[0;34m,\u001b[0m\u001b[0;34m\u001b[0m\u001b[0;34m\u001b[0m\u001b[0m\n\u001b[1;32m   2224\u001b[0m                ):\n\u001b[0;32m-> 2225\u001b[0;31m     \u001b[0mefile\u001b[0m \u001b[0;34m=\u001b[0m \u001b[0mconstruct_efile\u001b[0m\u001b[0;34m(\u001b[0m\u001b[0mvals\u001b[0m\u001b[0;34m,\u001b[0m\u001b[0mvlat\u001b[0m\u001b[0;34m,\u001b[0m\u001b[0mvlon\u001b[0m\u001b[0;34m,\u001b[0m\u001b[0marea\u001b[0m\u001b[0;34m,\u001b[0m\u001b[0memis_threshold\u001b[0m\u001b[0;34m,\u001b[0m\u001b[0mvres\u001b[0m\u001b[0;34m,\u001b[0m\u001b[0mname\u001b[0m\u001b[0;34m,\u001b[0m\u001b[0mdate_cutoff\u001b[0m\u001b[0;34m,\u001b[0m\u001b[0mphash\u001b[0m\u001b[0;34m)\u001b[0m\u001b[0;34m\u001b[0m\u001b[0;34m\u001b[0m\u001b[0m\n\u001b[0m\u001b[1;32m   2226\u001b[0m     \u001b[0mprint\u001b[0m\u001b[0;34m(\u001b[0m\u001b[0;34m'writing efile {}'\u001b[0m\u001b[0;34m,\u001b[0m \u001b[0mname\u001b[0m\u001b[0;34m)\u001b[0m\u001b[0;34m\u001b[0m\u001b[0;34m\u001b[0m\u001b[0m\n\u001b[1;32m   2227\u001b[0m     \u001b[0mefile\u001b[0m\u001b[0;34m.\u001b[0m\u001b[0mwrite_new\u001b[0m\u001b[0;34m(\u001b[0m\u001b[0mname\u001b[0m\u001b[0;34m)\u001b[0m\u001b[0;34m\u001b[0m\u001b[0;34m\u001b[0m\u001b[0m\n",
      "\u001b[0;32m~/utilhysplit/utilvolc/ash_inverse.py\u001b[0m in \u001b[0;36mconstruct_efile\u001b[0;34m(vals, vlat, vlon, area, emis_threshold, vres, name, date_cutoff, phash)\u001b[0m\n\u001b[1;32m   2134\u001b[0m     \u001b[0;32mfrom\u001b[0m \u001b[0mutilhysplit\u001b[0m \u001b[0;32mimport\u001b[0m \u001b[0memitimes\u001b[0m\u001b[0;34m\u001b[0m\u001b[0;34m\u001b[0m\u001b[0m\n\u001b[1;32m   2135\u001b[0m     \u001b[0mprint\u001b[0m\u001b[0;34m(\u001b[0m\u001b[0;34m'ZZZZ'\u001b[0m\u001b[0;34m)\u001b[0m\u001b[0;34m\u001b[0m\u001b[0;34m\u001b[0m\u001b[0m\n\u001b[0;32m-> 2136\u001b[0;31m     \u001b[0mefile\u001b[0m \u001b[0;34m=\u001b[0m \u001b[0memitimes\u001b[0m\u001b[0;34m.\u001b[0m\u001b[0mEmiTimes\u001b[0m\u001b[0;34m(\u001b[0m\u001b[0mspecies\u001b[0m\u001b[0;34m=\u001b[0m\u001b[0mphash\u001b[0m\u001b[0;34m)\u001b[0m\u001b[0;34m\u001b[0m\u001b[0;34m\u001b[0m\u001b[0m\n\u001b[0m\u001b[1;32m   2137\u001b[0m     \u001b[0mprint\u001b[0m\u001b[0;34m(\u001b[0m\u001b[0;34m'splist'\u001b[0m\u001b[0;34m,\u001b[0m \u001b[0mefile\u001b[0m\u001b[0;34m.\u001b[0m\u001b[0msplist\u001b[0m\u001b[0;34m)\u001b[0m\u001b[0;34m\u001b[0m\u001b[0;34m\u001b[0m\u001b[0m\n\u001b[1;32m   2138\u001b[0m     \u001b[0;31m#efile.set_species(phash)\u001b[0m\u001b[0;34m\u001b[0m\u001b[0;34m\u001b[0m\u001b[0;34m\u001b[0m\u001b[0m\n",
      "\u001b[0;32m~/utilhysplit/utilhysplit/emitimes.py\u001b[0m in \u001b[0;36m__init__\u001b[0;34m(self, filename, species)\u001b[0m\n\u001b[1;32m     82\u001b[0m         \u001b[0;32mif\u001b[0m \u001b[0misinstance\u001b[0m\u001b[0;34m(\u001b[0m\u001b[0mspecies\u001b[0m\u001b[0;34m,\u001b[0m\u001b[0mlist\u001b[0m\u001b[0;34m)\u001b[0m\u001b[0;34m:\u001b[0m\u001b[0;34m\u001b[0m\u001b[0;34m\u001b[0m\u001b[0m\n\u001b[1;32m     83\u001b[0m            \u001b[0mspecies\u001b[0m \u001b[0;34m=\u001b[0m \u001b[0mself\u001b[0m\u001b[0;34m.\u001b[0m\u001b[0mmake_sphash\u001b[0m\u001b[0;34m(\u001b[0m\u001b[0mspecies\u001b[0m\u001b[0;34m)\u001b[0m\u001b[0;34m\u001b[0m\u001b[0;34m\u001b[0m\u001b[0m\n\u001b[0;32m---> 84\u001b[0;31m         \u001b[0mself\u001b[0m\u001b[0;34m.\u001b[0m\u001b[0msplist\u001b[0m \u001b[0;34m=\u001b[0m \u001b[0mspecies\u001b[0m\u001b[0;34m.\u001b[0m\u001b[0mkeys\u001b[0m\u001b[0;34m(\u001b[0m\u001b[0;34m)\u001b[0m  \u001b[0;31m# list of species in the file\u001b[0m\u001b[0;34m\u001b[0m\u001b[0;34m\u001b[0m\u001b[0m\n\u001b[0m\u001b[1;32m     85\u001b[0m         \u001b[0;31m# val - name of species. key - position (1 to..)\u001b[0m\u001b[0;34m\u001b[0m\u001b[0;34m\u001b[0m\u001b[0;34m\u001b[0m\u001b[0m\n\u001b[1;32m     86\u001b[0m         \u001b[0mself\u001b[0m\u001b[0;34m.\u001b[0m\u001b[0msphash\u001b[0m \u001b[0;34m=\u001b[0m \u001b[0mspecies\u001b[0m\u001b[0;34m\u001b[0m\u001b[0;34m\u001b[0m\u001b[0m\n",
      "\u001b[0;31mAttributeError\u001b[0m: 'NoneType' object has no attribute 'keys'"
     ]
    }
   ],
   "source": [
    "%autoreload\n",
    "# creates emit-times, CONTROL and SETUP files for HYSPLIT runs.\n",
    "# Note that warning that meteorological files not found is ok.\n",
    "inverse.make_efile(vloc=vloc)"
   ]
  },
  {
   "cell_type": "code",
   "execution_count": null,
   "metadata": {},
   "outputs": [],
   "source": [
    "%autoreload\n",
    "inverse.run_hysplit()"
   ]
  },
  {
   "cell_type": "markdown",
   "metadata": {},
   "source": [
    "# Creating netcdf files from cdump"
   ]
  },
  {
   "cell_type": "code",
   "execution_count": null,
   "metadata": {},
   "outputs": [],
   "source": [
    "runtag = 'RunB_5_TT'\n",
    "runtag = 'RunB_2_3_4_TF'\n",
    "runtag = 'RunB_2_3_4_TT'\n",
    "runtag = 'RunB_7_TT'\n",
    "inverse.set_subdirectory(runtag)"
   ]
  },
  {
   "cell_type": "code",
   "execution_count": null,
   "metadata": {
    "scrolled": true
   },
   "outputs": [],
   "source": [
    "%autoreload\n",
    "# converts cdump to netcdf file.\n",
    "#dset = inverse.create_emit_output(inverse.subdir + '/Run{}.nc'.format(tag))"
   ]
  },
  {
   "cell_type": "code",
   "execution_count": null,
   "metadata": {},
   "outputs": [],
   "source": [
    "#for attr in dset.attrs: print(type(dset.attrs[attr]), attr)"
   ]
  },
  {
   "cell_type": "markdown",
   "metadata": {},
   "source": [
    "# Comparing results from different Inversions"
   ]
  },
  {
   "cell_type": "code",
   "execution_count": null,
   "metadata": {},
   "outputs": [],
   "source": [
    "print(inverse.make_tcm_names())\n",
    "print(inverse.subdir)\n",
    "print(inverse.wdir)"
   ]
  },
  {
   "cell_type": "code",
   "execution_count": null,
   "metadata": {},
   "outputs": [],
   "source": [
    "type(inverse)"
   ]
  },
  {
   "cell_type": "code",
   "execution_count": null,
   "metadata": {},
   "outputs": [],
   "source": [
    "ilist = inverse.read_outdat(0)\n",
    "df = ilist[0].get_emis()\n",
    "df = inverse.invlist[0].make_outdat_df(df)\n",
    "df.sum(axis=1)"
   ]
  },
  {
   "cell_type": "code",
   "execution_count": null,
   "metadata": {},
   "outputs": [],
   "source": [
    "%autoreload\n",
    "clrlist = []\n",
    "runtag=[]\n",
    "runtag2 = []\n",
    "clrlist2 = []\n",
    "#runtag = ['RunB_5_TT']\n",
    "#clrlist.append('-b')\n",
    "\n",
    "# green is all different time periods up to 7/8 and using\n",
    "# a window.\n",
    "runtag.append('RunB_2_3_4_5_6_7_8_TFw5')\n",
    "clrlist.append('--go')\n",
    "runtag.append('RunB_2_3_4_5_TFw5')\n",
    "clrlist.append('--g')\n",
    "runtag.append('RunB_2_3_4_TFw5')\n",
    "clrlist.append('--g')\n",
    "\n",
    "runtag.append('RunB_4_5_6_TFw5')\n",
    "clrlist.append('-g')\n",
    "runtag.append('RunB_7_8_TFw5')\n",
    "clrlist.append('-go')\n",
    "runtag.append('RunB_7_8_TFw7')\n",
    "clrlist.append('-g.')\n",
    "\n",
    "runtag.append('RunB_9_10_11_TFw7')\n",
    "clrlist.append('-g^')\n",
    "\n",
    "\n",
    "\n",
    "# Red : keeping all clear sky values\n",
    "# this one has higher emissions\n",
    "runtag.append('RunB_2_3_4_TF')\n",
    "clrlist.append('--r')\n",
    "# the rest have lower emissions.\n",
    "runtag.append('RunB_4_5_6_TF')\n",
    "clrlist.append('-r^')\n",
    "runtag.append('RunB_2_3_4_5_TF')\n",
    "clrlist.append('-r.')\n",
    "runtag.append('RunB_7_8_TF')\n",
    "clrlist.append('-ro')\n",
    "runtag.append('RunB_5_TF')\n",
    "clrlist.append('-r')\n",
    "runtag.append('RunB_7_TF')\n",
    "clrlist.append('-r')\n",
    "\n",
    "# black : removing all clear sky values\n",
    "runtag.append('RunB_2_3_4_TT')\n",
    "clrlist.append('--k')\n",
    "runtag.append('RunB_2_3_4_5_TT')\n",
    "clrlist.append('--k.')\n",
    "\n",
    "runtag.append('RunB_4_5_6_TT')\n",
    "clrlist.append('-k.')\n",
    "# later time period\n",
    "runtag.append('RunB_7_8_TT')\n",
    "clrlist.append('-ko')\n",
    "\n",
    "\n",
    "\n",
    "use_tt=False\n",
    "if use_tt:\n",
    "    runtag.append('RunB_2_3_4_TT')\n",
    "    clrlist.append('--k')\n",
    "    runtag.append('RunB_7_TT')\n",
    "    clrlist.append('-k')\n",
    "    # these both try to use emissions earlier in the time period.\n",
    "    runtag.append('RunB_5_6_7_TT')\n",
    "    clrlist.append('-k.')\n",
    "    runtag.append('RunB_2_3_4_5_6_TT')\n",
    "    clrlist.append('-k')\n",
    "\n",
    "use_xtra=False\n",
    "if use_xtra:\n",
    "    runtag.append('RunB_3_TT')\n",
    "    clrlist.append('--m')\n",
    "    runtag.append('RunB_4_TT')\n",
    "    clrlist.append('--mo')\n",
    "    runtag.append('RunB_3_TF')\n",
    "    clrlist.append('-m')\n",
    "\n",
    "fig = plt.figure(1)\n",
    "ax = fig.add_subplot(1,1,1)\n",
    "    \n",
    "for iii, subdir in enumerate(runtag):\n",
    "    inverse.set_subdirectory(subdir)\n",
    "    #print(clrlist[iii])\n",
    "    inverse.plot_outdat_ts(ax=ax,clr=clrlist[iii])\n",
    "fig.autofmt_xdate()\n",
    "plt.show()\n",
    "print('here')\n",
    "#for iii, subdir in enumerate(runtag2):\n",
    "#    inverse.set_subdirectory(subdir)\n",
    "    #print(clrlist2[iii])\n",
    "#    inverse.plot_outdat_ts(clr=clrlist2[iii])\n",
    "#plt.show()\n",
    "\n",
    "fig2 = plt.figure(2)\n",
    "ax2 = fig.add_subplot(1,1,1)\n",
    "    \n",
    "for iii, subdir in enumerate(runtag):\n",
    "    inverse.set_subdirectory(subdir)\n",
    "    #print(clrlist2[iii])\n",
    "    inverse.plot_outdat_ts(clr=clrlist[iii],profile=True,ax=ax2)\n",
    "plt.show()\n",
    "    "
   ]
  },
  {
   "cell_type": "markdown",
   "metadata": {},
   "source": [
    "# Creating netcdf file from the RunB cdump outputs."
   ]
  },
  {
   "cell_type": "code",
   "execution_count": null,
   "metadata": {},
   "outputs": [],
   "source": [
    "runtag"
   ]
  },
  {
   "cell_type": "code",
   "execution_count": null,
   "metadata": {},
   "outputs": [],
   "source": [
    "blist = []\n",
    "for iii, subdir in enumerate(runtag):\n",
    "    #print(subdir)\n",
    "    inverse.set_subdirectory(subdir)\n",
    "    #print(inverse.subdir)\n",
    "    if os.path.isfile(os.path.join(inverse.subdir,'cdump.bezyB')):\n",
    "       blist.append([os.path.join(inverse.subdir,'cdump.bezyB'),'gfs0p25',subdir])\n",
    "       print('-------------------', subdir)\n",
    "dset = hysplit.combine_dataset(blist)\n",
    "\n",
    "    "
   ]
  },
  {
   "cell_type": "code",
   "execution_count": null,
   "metadata": {},
   "outputs": [],
   "source": [
    "dset"
   ]
  },
  {
   "cell_type": "code",
   "execution_count": null,
   "metadata": {},
   "outputs": [],
   "source": [
    "dset.ens.values\n",
    "dset.to_netcdf(os.path.join(inverse.wdir,'RunB2.nc'))"
   ]
  },
  {
   "cell_type": "code",
   "execution_count": null,
   "metadata": {},
   "outputs": [],
   "source": [
    "%autoreload\n",
    "unit='kg/s'\n",
    "#unit='g/h'\n",
    "iii=0\n",
    "print(inverse.taglist[iii])\n",
    "ilist =  inverse.read_outdat()\n",
    "df = ilist[iii].get_emis()\n",
    "vals = inverse.invlist[iii].make_outdat(df)\n",
    "inverse.invlist[iii].plot_outdat(vals,log=False,cmap='viridis',unit=unit)\n",
    "#plt.savefig('{}.emissions_log.png'.format(figbase))\n",
    "plt.show()\n",
    "inverse.invlist[0].plot_outdat(vals,log=True,cmap='viridis',unit=unit)\n",
    "#plt.savefig('{}.emissions.png'.format(figbase))"
   ]
  },
  {
   "cell_type": "code",
   "execution_count": null,
   "metadata": {},
   "outputs": [],
   "source": [
    "v8, c8 = inverse.invlist[0].get_pair(4)"
   ]
  },
  {
   "cell_type": "code",
   "execution_count": null,
   "metadata": {},
   "outputs": [],
   "source": [
    "v8.plot.pcolormesh()"
   ]
  },
  {
   "cell_type": "code",
   "execution_count": null,
   "metadata": {},
   "outputs": [],
   "source": [
    "spread=4\n",
    "test = v8.rolling(x=spread,center=True).max()\n",
    "test = test.rolling(y=spread,center=True).max()\n",
    "test.plot.pcolormesh()"
   ]
  },
  {
   "cell_type": "code",
   "execution_count": null,
   "metadata": {},
   "outputs": [],
   "source": [
    "test1 = xr.where(test>0,True,False)\n",
    "test2 = xr.where(v8>0,True,False)"
   ]
  },
  {
   "cell_type": "code",
   "execution_count": null,
   "metadata": {},
   "outputs": [],
   "source": [
    "test1"
   ]
  },
  {
   "cell_type": "code",
   "execution_count": null,
   "metadata": {},
   "outputs": [],
   "source": [
    "np.all([test1,test2],axis=0).shape"
   ]
  },
  {
   "cell_type": "code",
   "execution_count": null,
   "metadata": {},
   "outputs": [],
   "source": [
    "test3 = xr.where(np.any([test1,test2],axis=0), v8, -1)"
   ]
  },
  {
   "cell_type": "code",
   "execution_count": null,
   "metadata": {},
   "outputs": [],
   "source": [
    "test3.plot.pcolormesh()"
   ]
  },
  {
   "cell_type": "code",
   "execution_count": null,
   "metadata": {},
   "outputs": [],
   "source": []
  },
  {
   "cell_type": "code",
   "execution_count": null,
   "metadata": {},
   "outputs": [],
   "source": []
  }
 ],
 "metadata": {
  "kernelspec": {
   "display_name": "Python 3",
   "language": "python",
   "name": "python3"
  },
  "language_info": {
   "codemirror_mode": {
    "name": "ipython",
    "version": 3
   },
   "file_extension": ".py",
   "mimetype": "text/x-python",
   "name": "python",
   "nbconvert_exporter": "python",
   "pygments_lexer": "ipython3",
   "version": "3.8.6"
  }
 },
 "nbformat": 4,
 "nbformat_minor": 4
}
