{
 "cells": [
  {
   "cell_type": "code",
   "execution_count": 1,
   "metadata": {},
   "outputs": [],
   "source": [
    "%load_ext autoreload"
   ]
  },
  {
   "cell_type": "markdown",
   "metadata": {},
   "source": [
    "- RunB 6um\n",
    "- RunD 20um\n",
    "- RunE 50um particles"
   ]
  },
  {
   "cell_type": "code",
   "execution_count": 2,
   "metadata": {},
   "outputs": [],
   "source": [
    "import os\n",
    "import numpy as np\n",
    "import pandas as pd\n",
    "import xarray as xr\n",
    "import matplotlib.pyplot as plt\n",
    "import seaborn as sns\n",
    "import datetime\n",
    "#from monetio.models import hysplit"
   ]
  },
  {
   "cell_type": "code",
   "execution_count": 3,
   "metadata": {},
   "outputs": [],
   "source": [
    "from monetio.models import hysplit"
   ]
  },
  {
   "cell_type": "code",
   "execution_count": 4,
   "metadata": {},
   "outputs": [],
   "source": [
    "from utilvolc import volcat\n",
    "import utilvolc.ash_inverse as ai\n",
    "from utilvolc import ashapp"
   ]
  },
  {
   "cell_type": "code",
   "execution_count": 5,
   "metadata": {},
   "outputs": [],
   "source": [
    "from utilvolc.ashapp import ashinverse"
   ]
  },
  {
   "cell_type": "code",
   "execution_count": 6,
   "metadata": {},
   "outputs": [
    {
     "name": "stdout",
     "output_type": "stream",
     "text": [
      "/hysplit-users/alicec/projects/bezy/Inverse_240 /hysplit-users/alicec/projects/bezy/hysplit\n",
      "/hysplit-users/alicec/projects/bezy/data/volcat\n"
     ]
    }
   ],
   "source": [
    "os.chdir('/hysplit-users/alicec/projects/bezy/notebooks/')\n",
    "projdir = os.getcwd().replace('notebooks','')\n",
    "\n",
    "vloc = [160.587,55.978]\n",
    "tag ='P'\n",
    "#ens = ['gep{:02d}'.format(x) for x in np.arange(1,31)]\n",
    "#ens.append('gec00')\n",
    "#ens=['gep04','gep03']\n",
    "ens=['B','D','E']\n",
    "\n",
    "#----------------------------------------------------------------\n",
    "# locations and names of netcdf files with cdump output.\n",
    "tdir = os.path.join(projdir,'data')\n",
    "fnamelist  = ['xrfile.invbezy{}.nc'.format(x) for x in ens]\n",
    "tdirlist = [tdir for x in ens]\n",
    "\n",
    "#----------------------------------------------------------------\n",
    "configdir = os.path.join(projdir,'Run{}'.format(tag))\n",
    "configfile = 'config.invbezy{}.txt'.format(tag)\n",
    "\n",
    "#-----------------------------------------------------------------\n",
    "# location of volcat files\n",
    "vdir = os.path.join(projdir,'data','volcat')\n",
    "# volcano id to locate\n",
    "vid = 'v300250'\n",
    "#-----------------------------------------------------------------\n",
    "# Location of inverse algorithm output\n",
    "#wpath = os.getcwd()\n",
    "wdir = os.path.join(projdir,'Run{}'.format(tag))\n",
    "#print(wpath)\n",
    "#cdir = '../Run{}/'.format(tag)\n",
    "#wdir = '../Run{}/'.format(tag,tag)\n",
    "#sdir = os.path.join(wdir,'RunM_1_2_3_4_TF')\n",
    "name = 'out.dat'\n",
    "name2 = 'out2.dat'\n",
    "#------------------------------------------------------------------\n",
    "\n",
    "# name to write emit-times file to.\n",
    "emit_file_name = '{}emit_Run{}4.txt'.format(wdir,tag)\n",
    "tcm_name_base = 'run{}zzz.tcm.txt'.format(tag)\n",
    "figbase = 'Run{}4'.format(tag)\n",
    "\n",
    "#-------------------------------------------------------------------\n",
    "#\n",
    "\n",
    "execdir = os.path.join(projdir,'Inverse_240')\n",
    "hysplitdir = os.path.join(projdir,'hysplit')\n",
    "#execdir = mdir+'/Inverse_'\n",
    "print(execdir, hysplitdir)\n",
    "print(vdir)\n",
    "#\n",
    "\n",
    "datadir = os.path.join(projdir, 'data')"
   ]
  },
  {
   "cell_type": "code",
   "execution_count": 7,
   "metadata": {},
   "outputs": [],
   "source": [
    "temp = xr.open_dataset(tdirlist[0]+'/'+fnamelist[0])"
   ]
  },
  {
   "cell_type": "code",
   "execution_count": 8,
   "metadata": {},
   "outputs": [
    {
     "data": {
      "text/html": [
       "<div><svg style=\"position: absolute; width: 0; height: 0; overflow: hidden\">\n",
       "<defs>\n",
       "<symbol id=\"icon-database\" viewBox=\"0 0 32 32\">\n",
       "<path d=\"M16 0c-8.837 0-16 2.239-16 5v4c0 2.761 7.163 5 16 5s16-2.239 16-5v-4c0-2.761-7.163-5-16-5z\"></path>\n",
       "<path d=\"M16 17c-8.837 0-16-2.239-16-5v6c0 2.761 7.163 5 16 5s16-2.239 16-5v-6c0 2.761-7.163 5-16 5z\"></path>\n",
       "<path d=\"M16 26c-8.837 0-16-2.239-16-5v6c0 2.761 7.163 5 16 5s16-2.239 16-5v-6c0 2.761-7.163 5-16 5z\"></path>\n",
       "</symbol>\n",
       "<symbol id=\"icon-file-text2\" viewBox=\"0 0 32 32\">\n",
       "<path d=\"M28.681 7.159c-0.694-0.947-1.662-2.053-2.724-3.116s-2.169-2.030-3.116-2.724c-1.612-1.182-2.393-1.319-2.841-1.319h-15.5c-1.378 0-2.5 1.121-2.5 2.5v27c0 1.378 1.122 2.5 2.5 2.5h23c1.378 0 2.5-1.122 2.5-2.5v-19.5c0-0.448-0.137-1.23-1.319-2.841zM24.543 5.457c0.959 0.959 1.712 1.825 2.268 2.543h-4.811v-4.811c0.718 0.556 1.584 1.309 2.543 2.268zM28 29.5c0 0.271-0.229 0.5-0.5 0.5h-23c-0.271 0-0.5-0.229-0.5-0.5v-27c0-0.271 0.229-0.5 0.5-0.5 0 0 15.499-0 15.5 0v7c0 0.552 0.448 1 1 1h7v19.5z\"></path>\n",
       "<path d=\"M23 26h-14c-0.552 0-1-0.448-1-1s0.448-1 1-1h14c0.552 0 1 0.448 1 1s-0.448 1-1 1z\"></path>\n",
       "<path d=\"M23 22h-14c-0.552 0-1-0.448-1-1s0.448-1 1-1h14c0.552 0 1 0.448 1 1s-0.448 1-1 1z\"></path>\n",
       "<path d=\"M23 18h-14c-0.552 0-1-0.448-1-1s0.448-1 1-1h14c0.552 0 1 0.448 1 1s-0.448 1-1 1z\"></path>\n",
       "</symbol>\n",
       "</defs>\n",
       "</svg>\n",
       "<style>/* CSS stylesheet for displaying xarray objects in jupyterlab.\n",
       " *\n",
       " */\n",
       "\n",
       ":root {\n",
       "  --xr-font-color0: var(--jp-content-font-color0, rgba(0, 0, 0, 1));\n",
       "  --xr-font-color2: var(--jp-content-font-color2, rgba(0, 0, 0, 0.54));\n",
       "  --xr-font-color3: var(--jp-content-font-color3, rgba(0, 0, 0, 0.38));\n",
       "  --xr-border-color: var(--jp-border-color2, #e0e0e0);\n",
       "  --xr-disabled-color: var(--jp-layout-color3, #bdbdbd);\n",
       "  --xr-background-color: var(--jp-layout-color0, white);\n",
       "  --xr-background-color-row-even: var(--jp-layout-color1, white);\n",
       "  --xr-background-color-row-odd: var(--jp-layout-color2, #eeeeee);\n",
       "}\n",
       "\n",
       "html[theme=dark],\n",
       "body.vscode-dark {\n",
       "  --xr-font-color0: rgba(255, 255, 255, 1);\n",
       "  --xr-font-color2: rgba(255, 255, 255, 0.54);\n",
       "  --xr-font-color3: rgba(255, 255, 255, 0.38);\n",
       "  --xr-border-color: #1F1F1F;\n",
       "  --xr-disabled-color: #515151;\n",
       "  --xr-background-color: #111111;\n",
       "  --xr-background-color-row-even: #111111;\n",
       "  --xr-background-color-row-odd: #313131;\n",
       "}\n",
       "\n",
       ".xr-wrap {\n",
       "  display: block;\n",
       "  min-width: 300px;\n",
       "  max-width: 700px;\n",
       "}\n",
       "\n",
       ".xr-text-repr-fallback {\n",
       "  /* fallback to plain text repr when CSS is not injected (untrusted notebook) */\n",
       "  display: none;\n",
       "}\n",
       "\n",
       ".xr-header {\n",
       "  padding-top: 6px;\n",
       "  padding-bottom: 6px;\n",
       "  margin-bottom: 4px;\n",
       "  border-bottom: solid 1px var(--xr-border-color);\n",
       "}\n",
       "\n",
       ".xr-header > div,\n",
       ".xr-header > ul {\n",
       "  display: inline;\n",
       "  margin-top: 0;\n",
       "  margin-bottom: 0;\n",
       "}\n",
       "\n",
       ".xr-obj-type,\n",
       ".xr-array-name {\n",
       "  margin-left: 2px;\n",
       "  margin-right: 10px;\n",
       "}\n",
       "\n",
       ".xr-obj-type {\n",
       "  color: var(--xr-font-color2);\n",
       "}\n",
       "\n",
       ".xr-sections {\n",
       "  padding-left: 0 !important;\n",
       "  display: grid;\n",
       "  grid-template-columns: 150px auto auto 1fr 20px 20px;\n",
       "}\n",
       "\n",
       ".xr-section-item {\n",
       "  display: contents;\n",
       "}\n",
       "\n",
       ".xr-section-item input {\n",
       "  display: none;\n",
       "}\n",
       "\n",
       ".xr-section-item input + label {\n",
       "  color: var(--xr-disabled-color);\n",
       "}\n",
       "\n",
       ".xr-section-item input:enabled + label {\n",
       "  cursor: pointer;\n",
       "  color: var(--xr-font-color2);\n",
       "}\n",
       "\n",
       ".xr-section-item input:enabled + label:hover {\n",
       "  color: var(--xr-font-color0);\n",
       "}\n",
       "\n",
       ".xr-section-summary {\n",
       "  grid-column: 1;\n",
       "  color: var(--xr-font-color2);\n",
       "  font-weight: 500;\n",
       "}\n",
       "\n",
       ".xr-section-summary > span {\n",
       "  display: inline-block;\n",
       "  padding-left: 0.5em;\n",
       "}\n",
       "\n",
       ".xr-section-summary-in:disabled + label {\n",
       "  color: var(--xr-font-color2);\n",
       "}\n",
       "\n",
       ".xr-section-summary-in + label:before {\n",
       "  display: inline-block;\n",
       "  content: '►';\n",
       "  font-size: 11px;\n",
       "  width: 15px;\n",
       "  text-align: center;\n",
       "}\n",
       "\n",
       ".xr-section-summary-in:disabled + label:before {\n",
       "  color: var(--xr-disabled-color);\n",
       "}\n",
       "\n",
       ".xr-section-summary-in:checked + label:before {\n",
       "  content: '▼';\n",
       "}\n",
       "\n",
       ".xr-section-summary-in:checked + label > span {\n",
       "  display: none;\n",
       "}\n",
       "\n",
       ".xr-section-summary,\n",
       ".xr-section-inline-details {\n",
       "  padding-top: 4px;\n",
       "  padding-bottom: 4px;\n",
       "}\n",
       "\n",
       ".xr-section-inline-details {\n",
       "  grid-column: 2 / -1;\n",
       "}\n",
       "\n",
       ".xr-section-details {\n",
       "  display: none;\n",
       "  grid-column: 1 / -1;\n",
       "  margin-bottom: 5px;\n",
       "}\n",
       "\n",
       ".xr-section-summary-in:checked ~ .xr-section-details {\n",
       "  display: contents;\n",
       "}\n",
       "\n",
       ".xr-array-wrap {\n",
       "  grid-column: 1 / -1;\n",
       "  display: grid;\n",
       "  grid-template-columns: 20px auto;\n",
       "}\n",
       "\n",
       ".xr-array-wrap > label {\n",
       "  grid-column: 1;\n",
       "  vertical-align: top;\n",
       "}\n",
       "\n",
       ".xr-preview {\n",
       "  color: var(--xr-font-color3);\n",
       "}\n",
       "\n",
       ".xr-array-preview,\n",
       ".xr-array-data {\n",
       "  padding: 0 5px !important;\n",
       "  grid-column: 2;\n",
       "}\n",
       "\n",
       ".xr-array-data,\n",
       ".xr-array-in:checked ~ .xr-array-preview {\n",
       "  display: none;\n",
       "}\n",
       "\n",
       ".xr-array-in:checked ~ .xr-array-data,\n",
       ".xr-array-preview {\n",
       "  display: inline-block;\n",
       "}\n",
       "\n",
       ".xr-dim-list {\n",
       "  display: inline-block !important;\n",
       "  list-style: none;\n",
       "  padding: 0 !important;\n",
       "  margin: 0;\n",
       "}\n",
       "\n",
       ".xr-dim-list li {\n",
       "  display: inline-block;\n",
       "  padding: 0;\n",
       "  margin: 0;\n",
       "}\n",
       "\n",
       ".xr-dim-list:before {\n",
       "  content: '(';\n",
       "}\n",
       "\n",
       ".xr-dim-list:after {\n",
       "  content: ')';\n",
       "}\n",
       "\n",
       ".xr-dim-list li:not(:last-child):after {\n",
       "  content: ',';\n",
       "  padding-right: 5px;\n",
       "}\n",
       "\n",
       ".xr-has-index {\n",
       "  font-weight: bold;\n",
       "}\n",
       "\n",
       ".xr-var-list,\n",
       ".xr-var-item {\n",
       "  display: contents;\n",
       "}\n",
       "\n",
       ".xr-var-item > div,\n",
       ".xr-var-item label,\n",
       ".xr-var-item > .xr-var-name span {\n",
       "  background-color: var(--xr-background-color-row-even);\n",
       "  margin-bottom: 0;\n",
       "}\n",
       "\n",
       ".xr-var-item > .xr-var-name:hover span {\n",
       "  padding-right: 5px;\n",
       "}\n",
       "\n",
       ".xr-var-list > li:nth-child(odd) > div,\n",
       ".xr-var-list > li:nth-child(odd) > label,\n",
       ".xr-var-list > li:nth-child(odd) > .xr-var-name span {\n",
       "  background-color: var(--xr-background-color-row-odd);\n",
       "}\n",
       "\n",
       ".xr-var-name {\n",
       "  grid-column: 1;\n",
       "}\n",
       "\n",
       ".xr-var-dims {\n",
       "  grid-column: 2;\n",
       "}\n",
       "\n",
       ".xr-var-dtype {\n",
       "  grid-column: 3;\n",
       "  text-align: right;\n",
       "  color: var(--xr-font-color2);\n",
       "}\n",
       "\n",
       ".xr-var-preview {\n",
       "  grid-column: 4;\n",
       "}\n",
       "\n",
       ".xr-var-name,\n",
       ".xr-var-dims,\n",
       ".xr-var-dtype,\n",
       ".xr-preview,\n",
       ".xr-attrs dt {\n",
       "  white-space: nowrap;\n",
       "  overflow: hidden;\n",
       "  text-overflow: ellipsis;\n",
       "  padding-right: 10px;\n",
       "}\n",
       "\n",
       ".xr-var-name:hover,\n",
       ".xr-var-dims:hover,\n",
       ".xr-var-dtype:hover,\n",
       ".xr-attrs dt:hover {\n",
       "  overflow: visible;\n",
       "  width: auto;\n",
       "  z-index: 1;\n",
       "}\n",
       "\n",
       ".xr-var-attrs,\n",
       ".xr-var-data {\n",
       "  display: none;\n",
       "  background-color: var(--xr-background-color) !important;\n",
       "  padding-bottom: 5px !important;\n",
       "}\n",
       "\n",
       ".xr-var-attrs-in:checked ~ .xr-var-attrs,\n",
       ".xr-var-data-in:checked ~ .xr-var-data {\n",
       "  display: block;\n",
       "}\n",
       "\n",
       ".xr-var-data > table {\n",
       "  float: right;\n",
       "}\n",
       "\n",
       ".xr-var-name span,\n",
       ".xr-var-data,\n",
       ".xr-attrs {\n",
       "  padding-left: 25px !important;\n",
       "}\n",
       "\n",
       ".xr-attrs,\n",
       ".xr-var-attrs,\n",
       ".xr-var-data {\n",
       "  grid-column: 1 / -1;\n",
       "}\n",
       "\n",
       "dl.xr-attrs {\n",
       "  padding: 0;\n",
       "  margin: 0;\n",
       "  display: grid;\n",
       "  grid-template-columns: 125px auto;\n",
       "}\n",
       "\n",
       ".xr-attrs dt,\n",
       ".xr-attrs dd {\n",
       "  padding: 0;\n",
       "  margin: 0;\n",
       "  float: left;\n",
       "  padding-right: 10px;\n",
       "  width: auto;\n",
       "}\n",
       "\n",
       ".xr-attrs dt {\n",
       "  font-weight: normal;\n",
       "  grid-column: 1;\n",
       "}\n",
       "\n",
       ".xr-attrs dt:hover span {\n",
       "  display: inline-block;\n",
       "  background: var(--xr-background-color);\n",
       "  padding-right: 10px;\n",
       "}\n",
       "\n",
       ".xr-attrs dd {\n",
       "  grid-column: 2;\n",
       "  white-space: pre-wrap;\n",
       "  word-break: break-all;\n",
       "}\n",
       "\n",
       ".xr-icon-database,\n",
       ".xr-icon-file-text2 {\n",
       "  display: inline-block;\n",
       "  vertical-align: middle;\n",
       "  width: 1em;\n",
       "  height: 1.5em !important;\n",
       "  stroke-width: 0;\n",
       "  stroke: currentColor;\n",
       "  fill: currentColor;\n",
       "}\n",
       "</style><pre class='xr-text-repr-fallback'>&lt;xarray.DataArray &#x27;pall&#x27; (source: 1, ens: 66, time: 17, z: 10, y: 110, x: 87)&gt;\n",
       "[107375400 values with dtype=float32]\n",
       "Coordinates:\n",
       "  * time       (time) datetime64[ns] 2020-10-21T19:00:00 ... 2020-10-22T11:00:00\n",
       "  * z          (z) int64 1523 3047 4571 6095 7619 9143 10667 12191 13715 15239\n",
       "  * y          (y) int64 376 377 378 379 380 381 382 ... 480 481 482 483 484 485\n",
       "  * x          (x) int64 866 867 868 869 870 871 872 ... 947 948 949 950 951 952\n",
       "  * ens        (ens) object &#x27;102119_2880&#x27; &#x27;102119_3880&#x27; ... &#x27;102200_12880&#x27;\n",
       "  * source     (source) object &#x27;Line to 14 km&#x27;\n",
       "    latitude   (y, x) float64 48.48 48.48 48.48 48.48 ... 59.38 59.38 59.38\n",
       "    longitude  (y, x) float64 157.1 157.2 157.3 157.4 ... 165.5 165.6 165.7\n",
       "Attributes: (12/40)\n",
       "    mult:                     1\n",
       "    HYSPLIT_DIR:              /hysplit-users/alicec/FBamcArea/\n",
       "    MAP_DIR:                  /hysplit-users/alicec/hysplit.v5.0.0/graphics/\n",
       "    WORK_DIR:                 /hysplit-users/alicec/tmp/\n",
       "    CONVERT_EXE:              convert\n",
       "    PYTHON_EXE:               /hysplit-users/alicec/anaconda3/envs/hysplit/bi...\n",
       "    ...                       ...\n",
       "    spatialPlotRadius:        500.0\n",
       "    graphicsResolution:       200\n",
       "    zip_compression_level:    3\n",
       "    rate:                     1\n",
       "    timeres:                  1\n",
       "    inv_vertical_resolution:  1000</pre><div class='xr-wrap' hidden><div class='xr-header'><div class='xr-obj-type'>xarray.DataArray</div><div class='xr-array-name'>'pall'</div><ul class='xr-dim-list'><li><span class='xr-has-index'>source</span>: 1</li><li><span class='xr-has-index'>ens</span>: 66</li><li><span class='xr-has-index'>time</span>: 17</li><li><span class='xr-has-index'>z</span>: 10</li><li><span class='xr-has-index'>y</span>: 110</li><li><span class='xr-has-index'>x</span>: 87</li></ul></div><ul class='xr-sections'><li class='xr-section-item'><div class='xr-array-wrap'><input id='section-16b8e0a5-ee81-4902-b14b-6372b1fe211e' class='xr-array-in' type='checkbox' checked><label for='section-16b8e0a5-ee81-4902-b14b-6372b1fe211e' title='Show/hide data repr'><svg class='icon xr-icon-database'><use xlink:href='#icon-database'></use></svg></label><div class='xr-array-preview xr-preview'><span>...</span></div><div class='xr-array-data'><pre>[107375400 values with dtype=float32]</pre></div></div></li><li class='xr-section-item'><input id='section-2ccdc70c-45cb-47a2-9b53-aa5917099607' class='xr-section-summary-in' type='checkbox'  checked><label for='section-2ccdc70c-45cb-47a2-9b53-aa5917099607' class='xr-section-summary' >Coordinates: <span>(8)</span></label><div class='xr-section-inline-details'></div><div class='xr-section-details'><ul class='xr-var-list'><li class='xr-var-item'><div class='xr-var-name'><span class='xr-has-index'>time</span></div><div class='xr-var-dims'>(time)</div><div class='xr-var-dtype'>datetime64[ns]</div><div class='xr-var-preview xr-preview'>2020-10-21T19:00:00 ... 2020-10-...</div><input id='attrs-fda3bfe5-7383-4665-9824-1c2090397d9e' class='xr-var-attrs-in' type='checkbox' disabled><label for='attrs-fda3bfe5-7383-4665-9824-1c2090397d9e' title='Show/Hide attributes'><svg class='icon xr-icon-file-text2'><use xlink:href='#icon-file-text2'></use></svg></label><input id='data-b6e9a892-3634-4fdb-9060-4d0da175d025' class='xr-var-data-in' type='checkbox'><label for='data-b6e9a892-3634-4fdb-9060-4d0da175d025' title='Show/Hide data repr'><svg class='icon xr-icon-database'><use xlink:href='#icon-database'></use></svg></label><div class='xr-var-attrs'><dl class='xr-attrs'></dl></div><div class='xr-var-data'><pre>array([&#x27;2020-10-21T19:00:00.000000000&#x27;, &#x27;2020-10-21T20:00:00.000000000&#x27;,\n",
       "       &#x27;2020-10-21T21:00:00.000000000&#x27;, &#x27;2020-10-21T22:00:00.000000000&#x27;,\n",
       "       &#x27;2020-10-21T23:00:00.000000000&#x27;, &#x27;2020-10-22T00:00:00.000000000&#x27;,\n",
       "       &#x27;2020-10-22T01:00:00.000000000&#x27;, &#x27;2020-10-22T02:00:00.000000000&#x27;,\n",
       "       &#x27;2020-10-22T03:00:00.000000000&#x27;, &#x27;2020-10-22T04:00:00.000000000&#x27;,\n",
       "       &#x27;2020-10-22T05:00:00.000000000&#x27;, &#x27;2020-10-22T06:00:00.000000000&#x27;,\n",
       "       &#x27;2020-10-22T07:00:00.000000000&#x27;, &#x27;2020-10-22T08:00:00.000000000&#x27;,\n",
       "       &#x27;2020-10-22T09:00:00.000000000&#x27;, &#x27;2020-10-22T10:00:00.000000000&#x27;,\n",
       "       &#x27;2020-10-22T11:00:00.000000000&#x27;], dtype=&#x27;datetime64[ns]&#x27;)</pre></div></li><li class='xr-var-item'><div class='xr-var-name'><span class='xr-has-index'>z</span></div><div class='xr-var-dims'>(z)</div><div class='xr-var-dtype'>int64</div><div class='xr-var-preview xr-preview'>1523 3047 4571 ... 13715 15239</div><input id='attrs-9d950798-74bd-4b2f-8dcc-37923c66c6e0' class='xr-var-attrs-in' type='checkbox' disabled><label for='attrs-9d950798-74bd-4b2f-8dcc-37923c66c6e0' title='Show/Hide attributes'><svg class='icon xr-icon-file-text2'><use xlink:href='#icon-file-text2'></use></svg></label><input id='data-1b4009cb-f1dc-47a1-b928-8cee37a33eab' class='xr-var-data-in' type='checkbox'><label for='data-1b4009cb-f1dc-47a1-b928-8cee37a33eab' title='Show/Hide data repr'><svg class='icon xr-icon-database'><use xlink:href='#icon-database'></use></svg></label><div class='xr-var-attrs'><dl class='xr-attrs'></dl></div><div class='xr-var-data'><pre>array([ 1523,  3047,  4571,  6095,  7619,  9143, 10667, 12191, 13715, 15239])</pre></div></li><li class='xr-var-item'><div class='xr-var-name'><span class='xr-has-index'>y</span></div><div class='xr-var-dims'>(y)</div><div class='xr-var-dtype'>int64</div><div class='xr-var-preview xr-preview'>376 377 378 379 ... 482 483 484 485</div><input id='attrs-4ab92e19-3689-4c70-815b-72d9de9e5963' class='xr-var-attrs-in' type='checkbox' disabled><label for='attrs-4ab92e19-3689-4c70-815b-72d9de9e5963' title='Show/Hide attributes'><svg class='icon xr-icon-file-text2'><use xlink:href='#icon-file-text2'></use></svg></label><input id='data-c0751145-6483-480d-aa2c-4d4835793c3e' class='xr-var-data-in' type='checkbox'><label for='data-c0751145-6483-480d-aa2c-4d4835793c3e' title='Show/Hide data repr'><svg class='icon xr-icon-database'><use xlink:href='#icon-database'></use></svg></label><div class='xr-var-attrs'><dl class='xr-attrs'></dl></div><div class='xr-var-data'><pre>array([376, 377, 378, 379, 380, 381, 382, 383, 384, 385, 386, 387, 388, 389,\n",
       "       390, 391, 392, 393, 394, 395, 396, 397, 398, 399, 400, 401, 402, 403,\n",
       "       404, 405, 406, 407, 408, 409, 410, 411, 412, 413, 414, 415, 416, 417,\n",
       "       418, 419, 420, 421, 422, 423, 424, 425, 426, 427, 428, 429, 430, 431,\n",
       "       432, 433, 434, 435, 436, 437, 438, 439, 440, 441, 442, 443, 444, 445,\n",
       "       446, 447, 448, 449, 450, 451, 452, 453, 454, 455, 456, 457, 458, 459,\n",
       "       460, 461, 462, 463, 464, 465, 466, 467, 468, 469, 470, 471, 472, 473,\n",
       "       474, 475, 476, 477, 478, 479, 480, 481, 482, 483, 484, 485])</pre></div></li><li class='xr-var-item'><div class='xr-var-name'><span class='xr-has-index'>x</span></div><div class='xr-var-dims'>(x)</div><div class='xr-var-dtype'>int64</div><div class='xr-var-preview xr-preview'>866 867 868 869 ... 949 950 951 952</div><input id='attrs-1a4e8524-90f1-498e-9766-b78e3bceef46' class='xr-var-attrs-in' type='checkbox' disabled><label for='attrs-1a4e8524-90f1-498e-9766-b78e3bceef46' title='Show/Hide attributes'><svg class='icon xr-icon-file-text2'><use xlink:href='#icon-file-text2'></use></svg></label><input id='data-a08d7bcf-dd3f-4e38-bd97-6c163f3da87b' class='xr-var-data-in' type='checkbox'><label for='data-a08d7bcf-dd3f-4e38-bd97-6c163f3da87b' title='Show/Hide data repr'><svg class='icon xr-icon-database'><use xlink:href='#icon-database'></use></svg></label><div class='xr-var-attrs'><dl class='xr-attrs'></dl></div><div class='xr-var-data'><pre>array([866, 867, 868, 869, 870, 871, 872, 873, 874, 875, 876, 877, 878, 879,\n",
       "       880, 881, 882, 883, 884, 885, 886, 887, 888, 889, 890, 891, 892, 893,\n",
       "       894, 895, 896, 897, 898, 899, 900, 901, 902, 903, 904, 905, 906, 907,\n",
       "       908, 909, 910, 911, 912, 913, 914, 915, 916, 917, 918, 919, 920, 921,\n",
       "       922, 923, 924, 925, 926, 927, 928, 929, 930, 931, 932, 933, 934, 935,\n",
       "       936, 937, 938, 939, 940, 941, 942, 943, 944, 945, 946, 947, 948, 949,\n",
       "       950, 951, 952])</pre></div></li><li class='xr-var-item'><div class='xr-var-name'><span class='xr-has-index'>ens</span></div><div class='xr-var-dims'>(ens)</div><div class='xr-var-dtype'>object</div><div class='xr-var-preview xr-preview'>&#x27;102119_2880&#x27; ... &#x27;102200_12880&#x27;</div><input id='attrs-6f637020-4185-4860-a3bc-dcb783c59ca5' class='xr-var-attrs-in' type='checkbox' disabled><label for='attrs-6f637020-4185-4860-a3bc-dcb783c59ca5' title='Show/Hide attributes'><svg class='icon xr-icon-file-text2'><use xlink:href='#icon-file-text2'></use></svg></label><input id='data-7fa73455-0c68-48b3-85cd-a98951605427' class='xr-var-data-in' type='checkbox'><label for='data-7fa73455-0c68-48b3-85cd-a98951605427' title='Show/Hide data repr'><svg class='icon xr-icon-database'><use xlink:href='#icon-database'></use></svg></label><div class='xr-var-attrs'><dl class='xr-attrs'></dl></div><div class='xr-var-data'><pre>array([&#x27;102119_2880&#x27;, &#x27;102119_3880&#x27;, &#x27;102119_4880&#x27;, &#x27;102119_5880&#x27;,\n",
       "       &#x27;102119_6880&#x27;, &#x27;102119_7880&#x27;, &#x27;102119_8880&#x27;, &#x27;102119_9880&#x27;,\n",
       "       &#x27;102119_10880&#x27;, &#x27;102119_11880&#x27;, &#x27;102119_12880&#x27;, &#x27;102120_2880&#x27;,\n",
       "       &#x27;102120_3880&#x27;, &#x27;102120_4880&#x27;, &#x27;102120_5880&#x27;, &#x27;102120_6880&#x27;,\n",
       "       &#x27;102120_7880&#x27;, &#x27;102120_8880&#x27;, &#x27;102120_9880&#x27;, &#x27;102120_10880&#x27;,\n",
       "       &#x27;102120_11880&#x27;, &#x27;102120_12880&#x27;, &#x27;102121_2880&#x27;, &#x27;102121_3880&#x27;,\n",
       "       &#x27;102121_4880&#x27;, &#x27;102121_5880&#x27;, &#x27;102121_6880&#x27;, &#x27;102121_7880&#x27;,\n",
       "       &#x27;102121_8880&#x27;, &#x27;102121_9880&#x27;, &#x27;102121_10880&#x27;, &#x27;102121_11880&#x27;,\n",
       "       &#x27;102121_12880&#x27;, &#x27;102122_2880&#x27;, &#x27;102122_3880&#x27;, &#x27;102122_4880&#x27;,\n",
       "       &#x27;102122_5880&#x27;, &#x27;102122_6880&#x27;, &#x27;102122_7880&#x27;, &#x27;102122_8880&#x27;,\n",
       "       &#x27;102122_9880&#x27;, &#x27;102122_10880&#x27;, &#x27;102122_11880&#x27;, &#x27;102122_12880&#x27;,\n",
       "       &#x27;102123_2880&#x27;, &#x27;102123_3880&#x27;, &#x27;102123_4880&#x27;, &#x27;102123_5880&#x27;,\n",
       "       &#x27;102123_6880&#x27;, &#x27;102123_7880&#x27;, &#x27;102123_8880&#x27;, &#x27;102123_9880&#x27;,\n",
       "       &#x27;102123_10880&#x27;, &#x27;102123_11880&#x27;, &#x27;102123_12880&#x27;, &#x27;102200_2880&#x27;,\n",
       "       &#x27;102200_3880&#x27;, &#x27;102200_4880&#x27;, &#x27;102200_5880&#x27;, &#x27;102200_6880&#x27;,\n",
       "       &#x27;102200_7880&#x27;, &#x27;102200_8880&#x27;, &#x27;102200_9880&#x27;, &#x27;102200_10880&#x27;,\n",
       "       &#x27;102200_11880&#x27;, &#x27;102200_12880&#x27;], dtype=object)</pre></div></li><li class='xr-var-item'><div class='xr-var-name'><span class='xr-has-index'>source</span></div><div class='xr-var-dims'>(source)</div><div class='xr-var-dtype'>object</div><div class='xr-var-preview xr-preview'>&#x27;Line to 14 km&#x27;</div><input id='attrs-95ac0c20-ae1b-46fc-a4e7-e24c8ddc167a' class='xr-var-attrs-in' type='checkbox' disabled><label for='attrs-95ac0c20-ae1b-46fc-a4e7-e24c8ddc167a' title='Show/Hide attributes'><svg class='icon xr-icon-file-text2'><use xlink:href='#icon-file-text2'></use></svg></label><input id='data-3d5edafe-b25d-4a64-8969-7d981e850e2c' class='xr-var-data-in' type='checkbox'><label for='data-3d5edafe-b25d-4a64-8969-7d981e850e2c' title='Show/Hide data repr'><svg class='icon xr-icon-database'><use xlink:href='#icon-database'></use></svg></label><div class='xr-var-attrs'><dl class='xr-attrs'></dl></div><div class='xr-var-data'><pre>array([&#x27;Line to 14 km&#x27;], dtype=object)</pre></div></li><li class='xr-var-item'><div class='xr-var-name'><span>latitude</span></div><div class='xr-var-dims'>(y, x)</div><div class='xr-var-dtype'>float64</div><div class='xr-var-preview xr-preview'>...</div><input id='attrs-75679b69-2435-421b-b562-35f0372dbd66' class='xr-var-attrs-in' type='checkbox' disabled><label for='attrs-75679b69-2435-421b-b562-35f0372dbd66' title='Show/Hide attributes'><svg class='icon xr-icon-file-text2'><use xlink:href='#icon-file-text2'></use></svg></label><input id='data-585865c9-4967-4f84-8712-ee0c5e42ab8f' class='xr-var-data-in' type='checkbox'><label for='data-585865c9-4967-4f84-8712-ee0c5e42ab8f' title='Show/Hide data repr'><svg class='icon xr-icon-database'><use xlink:href='#icon-database'></use></svg></label><div class='xr-var-attrs'><dl class='xr-attrs'></dl></div><div class='xr-var-data'><pre>array([[48.478144, 48.478144, 48.478144, ..., 48.478144, 48.478144, 48.478144],\n",
       "       [48.578144, 48.578144, 48.578144, ..., 48.578144, 48.578144, 48.578144],\n",
       "       [48.678144, 48.678144, 48.678144, ..., 48.678144, 48.678144, 48.678144],\n",
       "       ...,\n",
       "       [59.178185, 59.178185, 59.178185, ..., 59.178185, 59.178185, 59.178185],\n",
       "       [59.278185, 59.278185, 59.278185, ..., 59.278185, 59.278185, 59.278185],\n",
       "       [59.378185, 59.378185, 59.378185, ..., 59.378185, 59.378185, 59.378185]])</pre></div></li><li class='xr-var-item'><div class='xr-var-name'><span>longitude</span></div><div class='xr-var-dims'>(y, x)</div><div class='xr-var-dtype'>float64</div><div class='xr-var-preview xr-preview'>...</div><input id='attrs-dcd90c32-ad4e-439b-90b1-25f7c01ef130' class='xr-var-attrs-in' type='checkbox' disabled><label for='attrs-dcd90c32-ad4e-439b-90b1-25f7c01ef130' title='Show/Hide attributes'><svg class='icon xr-icon-file-text2'><use xlink:href='#icon-file-text2'></use></svg></label><input id='data-0cc0aa75-83bc-4d42-9aae-836732f871d1' class='xr-var-data-in' type='checkbox'><label for='data-0cc0aa75-83bc-4d42-9aae-836732f871d1' title='Show/Hide data repr'><svg class='icon xr-icon-database'><use xlink:href='#icon-database'></use></svg></label><div class='xr-var-attrs'><dl class='xr-attrs'></dl></div><div class='xr-var-data'><pre>array([[157.085686, 157.185684, 157.285683, ..., 165.485558, 165.585556,\n",
       "        165.685555],\n",
       "       [157.085686, 157.185684, 157.285683, ..., 165.485558, 165.585556,\n",
       "        165.685555],\n",
       "       [157.085686, 157.185684, 157.285683, ..., 165.485558, 165.585556,\n",
       "        165.685555],\n",
       "       ...,\n",
       "       [157.085686, 157.185684, 157.285683, ..., 165.485558, 165.585556,\n",
       "        165.685555],\n",
       "       [157.085686, 157.185684, 157.285683, ..., 165.485558, 165.585556,\n",
       "        165.685555],\n",
       "       [157.085686, 157.185684, 157.285683, ..., 165.485558, 165.585556,\n",
       "        165.685555]])</pre></div></li></ul></div></li><li class='xr-section-item'><input id='section-c0e848b7-3ebe-48f9-99c0-09d64b561f19' class='xr-section-summary-in' type='checkbox'  ><label for='section-c0e848b7-3ebe-48f9-99c0-09d64b561f19' class='xr-section-summary' >Attributes: <span>(40)</span></label><div class='xr-section-inline-details'></div><div class='xr-section-details'><dl class='xr-attrs'><dt><span>mult :</span></dt><dd>1</dd><dt><span>HYSPLIT_DIR :</span></dt><dd>/hysplit-users/alicec/FBamcArea/</dd><dt><span>MAP_DIR :</span></dt><dd>/hysplit-users/alicec/hysplit.v5.0.0/graphics/</dd><dt><span>WORK_DIR :</span></dt><dd>/hysplit-users/alicec/tmp/</dd><dt><span>CONVERT_EXE :</span></dt><dd>convert</dd><dt><span>PYTHON_EXE :</span></dt><dd>/hysplit-users/alicec/anaconda3/envs/hysplit/bin/python</dd><dt><span>forecastDirectory :</span></dt><dd>/pub/forecast</dd><dt><span>archivesDirectory :</span></dt><dd>/pub/archives</dd><dt><span>GHOSTSCRIPT_EXE :</span></dt><dd>gs</dd><dt><span>DATA_DIR :</span></dt><dd>/hysplit-users/alicec/utilhysplit/utilvolc/ashapp/</dd><dt><span>owner :</span></dt><dd>A. Person</dd><dt><span>VolcanoName :</span></dt><dd>Bezymianny</dd><dt><span>area :</span></dt><dd>785000.0</dd><dt><span>top :</span></dt><dd>13880.0</dd><dt><span>bottom :</span></dt><dd>12880.0</dd><dt><span>start_date :</span></dt><dd>2020-10-22 00:00:00</dd><dt><span>durationOfSimulation :</span></dt><dd>12.0</dd><dt><span>testminutes :</span></dt><dd>0.0</dd><dt><span>emissionHours :</span></dt><dd>1</dd><dt><span>meteorologicalData :</span></dt><dd>GFS0p25</dd><dt><span>EruptionSize :</span></dt><dd>0.0</dd><dt><span>latitude :</span></dt><dd>55.978</dd><dt><span>longitude :</span></dt><dd>160.587</dd><dt><span>samplingIntervalHours :</span></dt><dd>1.0</dd><dt><span>eflag :</span></dt><dd>0.0</dd><dt><span>source_type :</span></dt><dd>uniform</dd><dt><span>jobname :</span></dt><dd>ashtest</dd><dt><span>runflag :</span></dt><dd>inverse</dd><dt><span>gisOption :</span></dt><dd>3</dd><dt><span>zoomFactor :</span></dt><dd>50</dd><dt><span>generatingPostscript :</span></dt><dd>True</dd><dt><span>generatingPDF :</span></dt><dd>True</dd><dt><span>mapBackground :</span></dt><dd>arlmap</dd><dt><span>mapProjection :</span></dt><dd>0</dd><dt><span>spatialPlotRadius :</span></dt><dd>500.0</dd><dt><span>graphicsResolution :</span></dt><dd>200</dd><dt><span>zip_compression_level :</span></dt><dd>3</dd><dt><span>rate :</span></dt><dd>1</dd><dt><span>timeres :</span></dt><dd>1</dd><dt><span>inv_vertical_resolution :</span></dt><dd>1000</dd></dl></div></li></ul></div></div>"
      ],
      "text/plain": [
       "<xarray.DataArray 'pall' (source: 1, ens: 66, time: 17, z: 10, y: 110, x: 87)>\n",
       "[107375400 values with dtype=float32]\n",
       "Coordinates:\n",
       "  * time       (time) datetime64[ns] 2020-10-21T19:00:00 ... 2020-10-22T11:00:00\n",
       "  * z          (z) int64 1523 3047 4571 6095 7619 9143 10667 12191 13715 15239\n",
       "  * y          (y) int64 376 377 378 379 380 381 382 ... 480 481 482 483 484 485\n",
       "  * x          (x) int64 866 867 868 869 870 871 872 ... 947 948 949 950 951 952\n",
       "  * ens        (ens) object '102119_2880' '102119_3880' ... '102200_12880'\n",
       "  * source     (source) object 'Line to 14 km'\n",
       "    latitude   (y, x) float64 ...\n",
       "    longitude  (y, x) float64 ...\n",
       "Attributes: (12/40)\n",
       "    mult:                     1\n",
       "    HYSPLIT_DIR:              /hysplit-users/alicec/FBamcArea/\n",
       "    MAP_DIR:                  /hysplit-users/alicec/hysplit.v5.0.0/graphics/\n",
       "    WORK_DIR:                 /hysplit-users/alicec/tmp/\n",
       "    CONVERT_EXE:              convert\n",
       "    PYTHON_EXE:               /hysplit-users/alicec/anaconda3/envs/hysplit/bi...\n",
       "    ...                       ...\n",
       "    spatialPlotRadius:        500.0\n",
       "    graphicsResolution:       200\n",
       "    zip_compression_level:    3\n",
       "    rate:                     1\n",
       "    timeres:                  1\n",
       "    inv_vertical_resolution:  1000"
      ]
     },
     "execution_count": 8,
     "metadata": {},
     "output_type": "execute_result"
    }
   ],
   "source": [
    "temp = temp[list(temp.data_vars.keys())[0]]\n",
    "temp.rename('pall')"
   ]
  },
  {
   "cell_type": "markdown",
   "metadata": {},
   "source": [
    "# Create Instance of InverseAshPartEns"
   ]
  },
  {
   "cell_type": "code",
   "execution_count": 58,
   "metadata": {
    "scrolled": true
   },
   "outputs": [
    {
     "name": "stdout",
     "output_type": "stream",
     "text": [
      "appending  ('/hysplit-users/alicec/projects/bezy/data', 'xrfile.invbezyB.nc')\n",
      "appending  ('/hysplit-users/alicec/projects/bezy/data', 'xrfile.invbezyD.nc')\n",
      "appending  ('/hysplit-users/alicec/projects/bezy/data', 'xrfile.invbezyE.nc')\n",
      "p060\n",
      "<class 'xarray.core.dataarray.DataArray'>\n",
      "p200\n",
      "<class 'xarray.core.dataarray.DataArray'>\n",
      "p500\n",
      "<class 'xarray.core.dataarray.DataArray'>\n"
     ]
    }
   ],
   "source": [
    "%autoreload\n",
    "inverse = ai.InverseAshPartEns(tdirlist,fnamelist,vdir,vid,configdir=configdir,configfile=configfile)"
   ]
  },
  {
   "cell_type": "code",
   "execution_count": 72,
   "metadata": {},
   "outputs": [
    {
     "data": {
      "text/plain": [
       "{'p060': 1, 'p200': 2, 'p500': 3}"
      ]
     },
     "execution_count": 72,
     "metadata": {},
     "output_type": "execute_result"
    }
   ],
   "source": [
    "inverse.invlist[0].phash\n",
    "inverse.add_phash()\n",
    "inverse.phash"
   ]
  },
  {
   "cell_type": "code",
   "execution_count": 73,
   "metadata": {},
   "outputs": [
    {
     "name": "stdout",
     "output_type": "stream",
     "text": [
      "[datetime.datetime(2020, 10, 21, 21, 0), datetime.datetime(2020, 10, 21, 22, 0)]\n",
      "[datetime.datetime(2020, 10, 22, 6, 0), datetime.datetime(2020, 10, 22, 7, 0)]\n"
     ]
    }
   ],
   "source": [
    "%autoreload\n",
    "#time list to prepare.\n",
    "# start with one hour after eruption. 21:00-22:00\n",
    "dlist = []\n",
    "sdate = datetime.datetime(2020,10,21,21,0)\n",
    "#sdate = datetime.datetime(2020,10,22,12,0)\n",
    "dt = datetime.timedelta(hours=1)\n",
    "for iii in np.arange(0,10):\n",
    "    drange = [sdate, sdate+dt]\n",
    "    dlist.append(drange)\n",
    "    sdate += dt\n",
    "print(dlist[0])\n",
    "print(dlist[-1])"
   ]
  },
  {
   "cell_type": "code",
   "execution_count": 74,
   "metadata": {},
   "outputs": [
    {
     "name": "stdout",
     "output_type": "stream",
     "text": [
      "2020-10-21 23:00:00\n"
     ]
    }
   ],
   "source": [
    "#print(inverse.invlist[0].get_time(2))\n",
    "print(inverse.invlist[0].get_time(4))"
   ]
  },
  {
   "cell_type": "code",
   "execution_count": 75,
   "metadata": {
    "scrolled": true
   },
   "outputs": [
    {
     "name": "stdout",
     "output_type": "stream",
     "text": [
      "Working directory, wdir :/hysplit-users/alicec/projects/bezy/RunP\n",
      "execdir :/hysplit-users/alicec/projects/bezy/Inverse_240\n",
      "hysplitdir :/hysplit-users/alicec/projects/bezy/hysplit\n",
      "subdir :/hysplit-users/alicec/projects/bezy/RunP\n",
      "vdir :/hysplit-users/alicec/projects/bezy/data/volcat\n",
      "datadir :/hysplit-users/alicec/projects/bezy/data\n"
     ]
    }
   ],
   "source": [
    "%autoreload\n",
    "inverse.set_directory(wdir,execdir,datadir,hysplitdir)\n",
    "inverse.print_directories()"
   ]
  },
  {
   "cell_type": "code",
   "execution_count": 76,
   "metadata": {},
   "outputs": [
    {
     "data": {
      "text/plain": [
       "array([ 3047,  4571,  6095,  7619,  9143, 10667, 12191, 13715, 15239])"
      ]
     },
     "execution_count": 76,
     "metadata": {},
     "output_type": "execute_result"
    }
   ],
   "source": [
    "inverse.invlist[0].cdump.z.values[1:]"
   ]
  },
  {
   "cell_type": "code",
   "execution_count": 77,
   "metadata": {},
   "outputs": [
    {
     "name": "stdout",
     "output_type": "stream",
     "text": [
      "[datetime.datetime(2020, 10, 21, 21, 0), datetime.datetime(2020, 10, 21, 22, 0)]\n",
      "[datetime.datetime(2020, 10, 21, 22, 0), datetime.datetime(2020, 10, 21, 23, 0)]\n",
      "[datetime.datetime(2020, 10, 21, 23, 0), datetime.datetime(2020, 10, 22, 0, 0)]\n",
      "[datetime.datetime(2020, 10, 22, 0, 0), datetime.datetime(2020, 10, 22, 1, 0)]\n",
      "[datetime.datetime(2020, 10, 22, 1, 0), datetime.datetime(2020, 10, 22, 2, 0)]\n",
      "[datetime.datetime(2020, 10, 22, 2, 0), datetime.datetime(2020, 10, 22, 3, 0)]\n",
      "[datetime.datetime(2020, 10, 22, 3, 0), datetime.datetime(2020, 10, 22, 4, 0)]\n",
      "[datetime.datetime(2020, 10, 22, 4, 0), datetime.datetime(2020, 10, 22, 5, 0)]\n",
      "[datetime.datetime(2020, 10, 22, 5, 0), datetime.datetime(2020, 10, 22, 6, 0)]\n",
      "[datetime.datetime(2020, 10, 22, 6, 0), datetime.datetime(2020, 10, 22, 7, 0)]\n"
     ]
    }
   ],
   "source": [
    "# add in the relavant VOLCAT observations\n",
    "%autoreload\n",
    "zvals = list(inverse.invlist[0].cdump.z.values[0:])\n",
    "#dlist = [[datetime.datetime(2020,10,22,9),datetime.datetime(2020,10,22,10)]]\n",
    "for drange in dlist:\n",
    "    print(drange)\n",
    "    inverse.prepare_one_time(drange,zvals=zvals)"
   ]
  },
  {
   "cell_type": "code",
   "execution_count": 67,
   "metadata": {
    "scrolled": true
   },
   "outputs": [
    {
     "name": "stdout",
     "output_type": "stream",
     "text": [
      "10 P\n",
      "tii 10\n"
     ]
    },
    {
     "name": "stderr",
     "output_type": "stream",
     "text": [
      "/hysplit-users/alicec/anaconda3/envs/paris/lib/python3.8/site-packages/xarray/core/computation.py:739: RuntimeWarning: divide by zero encountered in log10\n",
      "  result_data = func(*input_data)\n"
     ]
    },
    {
     "data": {
      "image/png": "[encoded data removed]",
      "text/plain": [
       "<Figure size 720x360 with 2 Axes>"
      ]
     },
     "metadata": {},
     "output_type": "display_data"
    }
   ],
   "source": [
    "%autoreload\n",
    "#gep10, gep16 looks good at tii=6.\n",
    "#gep24 possibly looks ok.\n",
    "zlevel=None  #index 'ensemble'\n",
    "           #if None then sum along the ens. dimension which shows contributions from all inv. runs.\n",
    "tii=10\n",
    "#zlevel=None\n",
    "%autoreload\n",
    "ax = inverse.compare_plotsA(daterange=dlist[0],tii=tii,zii=zlevel)\n",
    "#plt.gca()\n",
    "#ax.plot(160.587,55.978,'y^')\n",
    "#plt.show()\n"
   ]
  },
  {
   "cell_type": "markdown",
   "metadata": {},
   "source": [
    "# Automatic Runs"
   ]
  },
  {
   "cell_type": "code",
   "execution_count": 70,
   "metadata": {},
   "outputs": [],
   "source": [
    "def makerun(inverse, tii,remove_cols, remove_rows, remove_sources,remove_ncs):\n",
    "    print(\"Running makerun \")\n",
    "    inverse.make_tcm_mult(tii,remove_cols=remove_cols, remove_rows=remove_rows, remove_sources=remove_sources,remove_ncs=remove_ncs)\n",
    "    runtag = ai.create_runtag(tag,tii,remove_cols, remove_rows, remove_sources,remove_ncs=remove_ncs)\n",
    "    inverse.set_subdirectory(runtag)\n",
    "    print('Using subdirectory ', inverse.subdir)\n",
    "    tcmstr = inverse.write_tcm(os.path.join(inverse.subdir, tcm_name_base.replace('zzz','4')))\n",
    "    inverse.run_tcm()\n",
    "    \n",
    "    eii=None\n",
    "    unit='g/h'\n",
    "    unit='kg/s'\n",
    "    inverse.plot_outdat_ts(eii,unit=unit)\n",
    "    #plt.show()\n",
    "    #inverse.plot_outdat_ts(eii,profile=True)\n",
    "    inverse.save_emis(runtag+'.csv')\n"
   ]
  },
  {
   "cell_type": "markdown",
   "metadata": {},
   "source": [
    "## Run with all previous and just two previous"
   ]
  },
  {
   "cell_type": "code",
   "execution_count": 78,
   "metadata": {},
   "outputs": [
    {
     "data": {
      "text/plain": [
       "{'p060': 1, 'p200': 2, 'p500': 3}"
      ]
     },
     "execution_count": 78,
     "metadata": {},
     "output_type": "execute_result"
    }
   ],
   "source": [
    "inverse.phash"
   ]
  },
  {
   "cell_type": "code",
   "execution_count": null,
   "metadata": {},
   "outputs": [
    {
     "name": "stdout",
     "output_type": "stream",
     "text": [
      "Running makerun \n",
      "2020-10-21T21:00:00.000000000\n",
      "2020-10-21T22:00:00.000000000\n",
      "Using subdirectory  /hysplit-users/alicec/projects/bezy/RunP/RunP_2_3_TFw5\n"
     ]
    },
    {
     "name": "stderr",
     "output_type": "stream",
     "text": [
      "/hysplit-users/alicec/utilhysplit/utilvolc/ash_inverse.py:1094: VisibleDeprecationWarning: Creating an ndarray from ragged nested sequences (which is a list-or-tuple of lists-or-tuples-or ndarrays with different lengths or shapes) is deprecated. If you meant to do this, you must specify 'dtype=object' when creating the ndarray.\n",
      "  self.latlist = np.array(latlist)\n",
      "/hysplit-users/alicec/utilhysplit/utilvolc/ash_inverse.py:1095: VisibleDeprecationWarning: Creating an ndarray from ragged nested sequences (which is a list-or-tuple of lists-or-tuples-or ndarrays with different lengths or shapes) is deprecated. If you meant to do this, you must specify 'dtype=object' when creating the ndarray.\n",
      "  self.lonlist = np.array(lonlist)\n",
      "/hysplit-users/alicec/utilhysplit/utilvolc/ash_inverse.py:1109: VisibleDeprecationWarning: Creating an ndarray from ragged nested sequences (which is a list-or-tuple of lists-or-tuples-or ndarrays with different lengths or shapes) is deprecated. If you meant to do this, you must specify 'dtype=object' when creating the ndarray.\n",
      "  self.latlist = np.array(latlist)\n",
      "/hysplit-users/alicec/utilhysplit/utilvolc/ash_inverse.py:1110: VisibleDeprecationWarning: Creating an ndarray from ragged nested sequences (which is a list-or-tuple of lists-or-tuples-or ndarrays with different lengths or shapes) is deprecated. If you meant to do this, you must specify 'dtype=object' when creating the ndarray.\n",
      "  self.lonlist = np.array(lonlist)\n"
     ]
    },
    {
     "name": "stdout",
     "output_type": "stream",
     "text": [
      "run_tcm tag P\n"
     ]
    },
    {
     "name": "stderr",
     "output_type": "stream",
     "text": [
      "/hysplit-users/alicec/utilhysplit/utilvolc/ash_inverse.py:2279: MatplotlibDeprecationWarning: Adding an axes using the same arguments as a previous axes currently reuses the earlier instance.  In a future version, a new instance will always be created and returned.  Meanwhile, this warning can be suppressed, and the future behavior ensured, by passing a unique label to each axes instance.\n",
      "  ax = fig.add_subplot(1,1,1)\n",
      "/hysplit-users/alicec/utilhysplit/utilvolc/ash_inverse.py:1094: VisibleDeprecationWarning: Creating an ndarray from ragged nested sequences (which is a list-or-tuple of lists-or-tuples-or ndarrays with different lengths or shapes) is deprecated. If you meant to do this, you must specify 'dtype=object' when creating the ndarray.\n",
      "  self.latlist = np.array(latlist)\n",
      "/hysplit-users/alicec/utilhysplit/utilvolc/ash_inverse.py:1095: VisibleDeprecationWarning: Creating an ndarray from ragged nested sequences (which is a list-or-tuple of lists-or-tuples-or ndarrays with different lengths or shapes) is deprecated. If you meant to do this, you must specify 'dtype=object' when creating the ndarray.\n",
      "  self.lonlist = np.array(lonlist)\n",
      "/hysplit-users/alicec/utilhysplit/utilvolc/ash_inverse.py:1109: VisibleDeprecationWarning: Creating an ndarray from ragged nested sequences (which is a list-or-tuple of lists-or-tuples-or ndarrays with different lengths or shapes) is deprecated. If you meant to do this, you must specify 'dtype=object' when creating the ndarray.\n",
      "  self.latlist = np.array(latlist)\n",
      "/hysplit-users/alicec/utilhysplit/utilvolc/ash_inverse.py:1110: VisibleDeprecationWarning: Creating an ndarray from ragged nested sequences (which is a list-or-tuple of lists-or-tuples-or ndarrays with different lengths or shapes) is deprecated. If you meant to do this, you must specify 'dtype=object' when creating the ndarray.\n",
      "  self.lonlist = np.array(lonlist)\n"
     ]
    },
    {
     "name": "stdout",
     "output_type": "stream",
     "text": [
      "<class 'numpy.datetime64'> 2020-10-21T19:00:00.000000000\n",
      "440154\n",
      "<class 'numpy.datetime64'> 2020-10-21T19:00:00.000000000\n",
      "30678D\n",
      "<class 'numpy.datetime64'> 2020-10-21T19:00:00.000000000\n",
      "35B778\n",
      "length 1\n",
      "self subdir is /hysplit-users/alicec/projects/bezy/RunP/RunP_2_3_TFw5\n",
      "saving emissions in  /hysplit-users/alicec/projects/bezy/RunP/RunP_2_3_TFw5/RunP_2_3_TFw5.csv\n",
      "saving  emissions to  /hysplit-users/alicec/projects/bezy/RunP/RunP_2_3_TFw5/RunP_2_3_TFw5.csv\n",
      "Running makerun \n",
      "2020-10-21T21:00:00.000000000\n",
      "2020-10-21T22:00:00.000000000\n",
      "2020-10-21T23:00:00.000000000\n",
      "Using subdirectory  /hysplit-users/alicec/projects/bezy/RunP/RunP_2_3_4_TFw5\n",
      "run_tcm tag P\n"
     ]
    },
    {
     "name": "stderr",
     "output_type": "stream",
     "text": [
      "/hysplit-users/alicec/utilhysplit/utilvolc/ash_inverse.py:770: MatplotlibDeprecationWarning: Adding an axes using the same arguments as a previous axes currently reuses the earlier instance.  In a future version, a new instance will always be created and returned.  Meanwhile, this warning can be suppressed, and the future behavior ensured, by passing a unique label to each axes instance.\n",
      "  ax = fig.add_subplot(1,1,1)\n",
      "/hysplit-users/alicec/utilhysplit/utilvolc/ash_inverse.py:2279: MatplotlibDeprecationWarning: Adding an axes using the same arguments as a previous axes currently reuses the earlier instance.  In a future version, a new instance will always be created and returned.  Meanwhile, this warning can be suppressed, and the future behavior ensured, by passing a unique label to each axes instance.\n",
      "  ax = fig.add_subplot(1,1,1)\n",
      "/hysplit-users/alicec/utilhysplit/utilvolc/ash_inverse.py:1094: VisibleDeprecationWarning: Creating an ndarray from ragged nested sequences (which is a list-or-tuple of lists-or-tuples-or ndarrays with different lengths or shapes) is deprecated. If you meant to do this, you must specify 'dtype=object' when creating the ndarray.\n",
      "  self.latlist = np.array(latlist)\n",
      "/hysplit-users/alicec/utilhysplit/utilvolc/ash_inverse.py:1095: VisibleDeprecationWarning: Creating an ndarray from ragged nested sequences (which is a list-or-tuple of lists-or-tuples-or ndarrays with different lengths or shapes) is deprecated. If you meant to do this, you must specify 'dtype=object' when creating the ndarray.\n",
      "  self.lonlist = np.array(lonlist)\n",
      "/hysplit-users/alicec/utilhysplit/utilvolc/ash_inverse.py:1109: VisibleDeprecationWarning: Creating an ndarray from ragged nested sequences (which is a list-or-tuple of lists-or-tuples-or ndarrays with different lengths or shapes) is deprecated. If you meant to do this, you must specify 'dtype=object' when creating the ndarray.\n",
      "  self.latlist = np.array(latlist)\n",
      "/hysplit-users/alicec/utilhysplit/utilvolc/ash_inverse.py:1110: VisibleDeprecationWarning: Creating an ndarray from ragged nested sequences (which is a list-or-tuple of lists-or-tuples-or ndarrays with different lengths or shapes) is deprecated. If you meant to do this, you must specify 'dtype=object' when creating the ndarray.\n",
      "  self.lonlist = np.array(lonlist)\n"
     ]
    },
    {
     "name": "stdout",
     "output_type": "stream",
     "text": [
      "<class 'numpy.datetime64'> 2020-10-21T19:00:00.000000000\n",
      "440154\n",
      "<class 'numpy.datetime64'> 2020-10-21T19:00:00.000000000\n",
      "30678D\n",
      "<class 'numpy.datetime64'> 2020-10-21T19:00:00.000000000\n",
      "35B778\n",
      "length 1\n",
      "self subdir is /hysplit-users/alicec/projects/bezy/RunP/RunP_2_3_4_TFw5\n",
      "saving emissions in  /hysplit-users/alicec/projects/bezy/RunP/RunP_2_3_4_TFw5/RunP_2_3_4_TFw5.csv\n",
      "saving  emissions to  /hysplit-users/alicec/projects/bezy/RunP/RunP_2_3_4_TFw5/RunP_2_3_4_TFw5.csv\n",
      "Running makerun \n",
      "2020-10-21T21:00:00.000000000\n",
      "2020-10-21T22:00:00.000000000\n",
      "2020-10-21T23:00:00.000000000\n",
      "2020-10-22T00:00:00.000000000\n",
      "Using subdirectory  /hysplit-users/alicec/projects/bezy/RunP/RunP_2_3_4_5_TFw5\n"
     ]
    }
   ],
   "source": [
    "%autoreload\n",
    "# creates emit-times, CONTROL and SETUP files for HYSPLIT runs.\n",
    "# Note that warning that meteorological files not found is ok.\n",
    "\n",
    "%autoreload\n",
    "\n",
    "tiilist = [[2,3],[2,3,4],[2,3,4,5],[2,3,4,5,6],[2,3,4,5,6,7],[2,3,4,5,6,7,8],[2,3,4,5,6,7,8,9],\n",
    "           [2,3,4,5,6,7,8,9,10],[2,3,4,5,6,7,8,9,10,11]]  #times to assimilate in inversion algorithm.\n",
    "remove_cols=True    # removes columns with no model values in them.\n",
    "remove_rows=False    # removes clear sky observations\n",
    "remove_sources = False\n",
    "remove_ncs=5\n",
    "for tii in tiilist:\n",
    "    #print('tii', tii)\n",
    "    makerun(inverse, tii,remove_cols,remove_rows,remove_sources,remove_ncs)\n",
    "    #inverse.make_efile(vloc=vloc)\n",
    "    #inverse.run_hysplit()\n",
    "\n",
    "tiilist = [[2,3],[3,4],[4,5],[5,6],[6,7],[7,8],[8,9],[9,10],[10,11]]\n",
    "remove_cols=True    # removes columns with no model values in them.\n",
    "remove_rows=False    # removes clear sky observations\n",
    "remove_sources = False\n",
    "remove_ncs=5\n",
    "for tii in tiilist:\n",
    "    print(tii)\n",
    "    makerun(inverse, tii,remove_cols,remove_rows,remove_sources,remove_ncs)\n",
    "    #inverse.make_efile(vloc=vloc)\n",
    "    #inverse.run_hysplit()"
   ]
  },
  {
   "cell_type": "code",
   "execution_count": null,
   "metadata": {},
   "outputs": [],
   "source": []
  },
  {
   "cell_type": "markdown",
   "metadata": {},
   "source": [
    "## For comparision with RunC"
   ]
  },
  {
   "cell_type": "code",
   "execution_count": 31,
   "metadata": {},
   "outputs": [
    {
     "name": "stdout",
     "output_type": "stream",
     "text": [
      "HERE HERE HERE\n",
      "2020-10-21T21:00:00.000000000\n",
      "2020-10-21T22:00:00.000000000\n",
      "HERE /hysplit-users/alicec/projects/bezy/RunP/RunP_2_3_TFw5\n"
     ]
    },
    {
     "name": "stderr",
     "output_type": "stream",
     "text": [
      "/hysplit-users/alicec/utilhysplit/utilvolc/ash_inverse.py:1091: VisibleDeprecationWarning: Creating an ndarray from ragged nested sequences (which is a list-or-tuple of lists-or-tuples-or ndarrays with different lengths or shapes) is deprecated. If you meant to do this, you must specify 'dtype=object' when creating the ndarray.\n",
      "  self.latlist = np.array(latlist)\n",
      "/hysplit-users/alicec/utilhysplit/utilvolc/ash_inverse.py:1092: VisibleDeprecationWarning: Creating an ndarray from ragged nested sequences (which is a list-or-tuple of lists-or-tuples-or ndarrays with different lengths or shapes) is deprecated. If you meant to do this, you must specify 'dtype=object' when creating the ndarray.\n",
      "  self.lonlist = np.array(lonlist)\n",
      "/hysplit-users/alicec/utilhysplit/utilvolc/ash_inverse.py:1106: VisibleDeprecationWarning: Creating an ndarray from ragged nested sequences (which is a list-or-tuple of lists-or-tuples-or ndarrays with different lengths or shapes) is deprecated. If you meant to do this, you must specify 'dtype=object' when creating the ndarray.\n",
      "  self.latlist = np.array(latlist)\n",
      "/hysplit-users/alicec/utilhysplit/utilvolc/ash_inverse.py:1107: VisibleDeprecationWarning: Creating an ndarray from ragged nested sequences (which is a list-or-tuple of lists-or-tuples-or ndarrays with different lengths or shapes) is deprecated. If you meant to do this, you must specify 'dtype=object' when creating the ndarray.\n",
      "  self.lonlist = np.array(lonlist)\n"
     ]
    },
    {
     "name": "stdout",
     "output_type": "stream",
     "text": [
      "P\n"
     ]
    },
    {
     "name": "stderr",
     "output_type": "stream",
     "text": [
      "/hysplit-users/alicec/utilhysplit/utilvolc/ash_inverse.py:2276: MatplotlibDeprecationWarning: Adding an axes using the same arguments as a previous axes currently reuses the earlier instance.  In a future version, a new instance will always be created and returned.  Meanwhile, this warning can be suppressed, and the future behavior ensured, by passing a unique label to each axes instance.\n",
      "  ax = fig.add_subplot(1,1,1)\n",
      "/hysplit-users/alicec/utilhysplit/utilvolc/ash_inverse.py:1091: VisibleDeprecationWarning: Creating an ndarray from ragged nested sequences (which is a list-or-tuple of lists-or-tuples-or ndarrays with different lengths or shapes) is deprecated. If you meant to do this, you must specify 'dtype=object' when creating the ndarray.\n",
      "  self.latlist = np.array(latlist)\n",
      "/hysplit-users/alicec/utilhysplit/utilvolc/ash_inverse.py:1092: VisibleDeprecationWarning: Creating an ndarray from ragged nested sequences (which is a list-or-tuple of lists-or-tuples-or ndarrays with different lengths or shapes) is deprecated. If you meant to do this, you must specify 'dtype=object' when creating the ndarray.\n",
      "  self.lonlist = np.array(lonlist)\n",
      "/hysplit-users/alicec/utilhysplit/utilvolc/ash_inverse.py:1106: VisibleDeprecationWarning: Creating an ndarray from ragged nested sequences (which is a list-or-tuple of lists-or-tuples-or ndarrays with different lengths or shapes) is deprecated. If you meant to do this, you must specify 'dtype=object' when creating the ndarray.\n",
      "  self.latlist = np.array(latlist)\n",
      "/hysplit-users/alicec/utilhysplit/utilvolc/ash_inverse.py:1107: VisibleDeprecationWarning: Creating an ndarray from ragged nested sequences (which is a list-or-tuple of lists-or-tuples-or ndarrays with different lengths or shapes) is deprecated. If you meant to do this, you must specify 'dtype=object' when creating the ndarray.\n",
      "  self.lonlist = np.array(lonlist)\n"
     ]
    },
    {
     "name": "stdout",
     "output_type": "stream",
     "text": [
      "<class 'numpy.datetime64'> 2020-10-21T19:00:00.000000000\n",
      "440154\n",
      "<class 'numpy.datetime64'> 2020-10-21T19:00:00.000000000\n",
      "30678D\n",
      "<class 'numpy.datetime64'> 2020-10-21T19:00:00.000000000\n",
      "35B778\n",
      "length 1\n",
      "self subdir is /hysplit-users/alicec/projects/bezy/RunP/RunP_2_3_TFw5\n",
      "saving emissions in  /hysplit-users/alicec/projects/bezy/RunP/RunP_2_3_TFw5/RunP_2_3_TFw5.csv\n",
      "saving  emissions to  /hysplit-users/alicec/projects/bezy/RunP/RunP_2_3_TFw5/RunP_2_3_TFw5.csv\n",
      "HERE HERE HERE\n",
      "2020-10-21T21:00:00.000000000\n",
      "2020-10-21T22:00:00.000000000\n",
      "2020-10-21T23:00:00.000000000\n",
      "HERE /hysplit-users/alicec/projects/bezy/RunP/RunP_2_3_4_TFw5\n",
      "P\n"
     ]
    },
    {
     "name": "stderr",
     "output_type": "stream",
     "text": [
      "/hysplit-users/alicec/utilhysplit/utilvolc/ash_inverse.py:768: MatplotlibDeprecationWarning: Adding an axes using the same arguments as a previous axes currently reuses the earlier instance.  In a future version, a new instance will always be created and returned.  Meanwhile, this warning can be suppressed, and the future behavior ensured, by passing a unique label to each axes instance.\n",
      "  ax = fig.add_subplot(1,1,1)\n",
      "/hysplit-users/alicec/utilhysplit/utilvolc/ash_inverse.py:2276: MatplotlibDeprecationWarning: Adding an axes using the same arguments as a previous axes currently reuses the earlier instance.  In a future version, a new instance will always be created and returned.  Meanwhile, this warning can be suppressed, and the future behavior ensured, by passing a unique label to each axes instance.\n",
      "  ax = fig.add_subplot(1,1,1)\n",
      "/hysplit-users/alicec/utilhysplit/utilvolc/ash_inverse.py:1091: VisibleDeprecationWarning: Creating an ndarray from ragged nested sequences (which is a list-or-tuple of lists-or-tuples-or ndarrays with different lengths or shapes) is deprecated. If you meant to do this, you must specify 'dtype=object' when creating the ndarray.\n",
      "  self.latlist = np.array(latlist)\n",
      "/hysplit-users/alicec/utilhysplit/utilvolc/ash_inverse.py:1092: VisibleDeprecationWarning: Creating an ndarray from ragged nested sequences (which is a list-or-tuple of lists-or-tuples-or ndarrays with different lengths or shapes) is deprecated. If you meant to do this, you must specify 'dtype=object' when creating the ndarray.\n",
      "  self.lonlist = np.array(lonlist)\n",
      "/hysplit-users/alicec/utilhysplit/utilvolc/ash_inverse.py:1106: VisibleDeprecationWarning: Creating an ndarray from ragged nested sequences (which is a list-or-tuple of lists-or-tuples-or ndarrays with different lengths or shapes) is deprecated. If you meant to do this, you must specify 'dtype=object' when creating the ndarray.\n",
      "  self.latlist = np.array(latlist)\n",
      "/hysplit-users/alicec/utilhysplit/utilvolc/ash_inverse.py:1107: VisibleDeprecationWarning: Creating an ndarray from ragged nested sequences (which is a list-or-tuple of lists-or-tuples-or ndarrays with different lengths or shapes) is deprecated. If you meant to do this, you must specify 'dtype=object' when creating the ndarray.\n",
      "  self.lonlist = np.array(lonlist)\n"
     ]
    },
    {
     "name": "stdout",
     "output_type": "stream",
     "text": [
      "<class 'numpy.datetime64'> 2020-10-21T19:00:00.000000000\n",
      "440154\n",
      "<class 'numpy.datetime64'> 2020-10-21T19:00:00.000000000\n",
      "30678D\n",
      "<class 'numpy.datetime64'> 2020-10-21T19:00:00.000000000\n",
      "35B778\n",
      "length 1\n",
      "self subdir is /hysplit-users/alicec/projects/bezy/RunP/RunP_2_3_4_TFw5\n",
      "saving emissions in  /hysplit-users/alicec/projects/bezy/RunP/RunP_2_3_4_TFw5/RunP_2_3_4_TFw5.csv\n",
      "saving  emissions to  /hysplit-users/alicec/projects/bezy/RunP/RunP_2_3_4_TFw5/RunP_2_3_4_TFw5.csv\n",
      "HERE HERE HERE\n",
      "2020-10-21T21:00:00.000000000\n",
      "2020-10-21T22:00:00.000000000\n",
      "2020-10-21T23:00:00.000000000\n",
      "2020-10-22T00:00:00.000000000\n",
      "HERE /hysplit-users/alicec/projects/bezy/RunP/RunP_2_3_4_5_TFw5\n",
      "P\n"
     ]
    },
    {
     "name": "stderr",
     "output_type": "stream",
     "text": [
      "/hysplit-users/alicec/utilhysplit/utilvolc/ash_inverse.py:768: MatplotlibDeprecationWarning: Adding an axes using the same arguments as a previous axes currently reuses the earlier instance.  In a future version, a new instance will always be created and returned.  Meanwhile, this warning can be suppressed, and the future behavior ensured, by passing a unique label to each axes instance.\n",
      "  ax = fig.add_subplot(1,1,1)\n",
      "/hysplit-users/alicec/utilhysplit/utilvolc/ash_inverse.py:2276: MatplotlibDeprecationWarning: Adding an axes using the same arguments as a previous axes currently reuses the earlier instance.  In a future version, a new instance will always be created and returned.  Meanwhile, this warning can be suppressed, and the future behavior ensured, by passing a unique label to each axes instance.\n",
      "  ax = fig.add_subplot(1,1,1)\n",
      "/hysplit-users/alicec/utilhysplit/utilvolc/ash_inverse.py:1091: VisibleDeprecationWarning: Creating an ndarray from ragged nested sequences (which is a list-or-tuple of lists-or-tuples-or ndarrays with different lengths or shapes) is deprecated. If you meant to do this, you must specify 'dtype=object' when creating the ndarray.\n",
      "  self.latlist = np.array(latlist)\n",
      "/hysplit-users/alicec/utilhysplit/utilvolc/ash_inverse.py:1092: VisibleDeprecationWarning: Creating an ndarray from ragged nested sequences (which is a list-or-tuple of lists-or-tuples-or ndarrays with different lengths or shapes) is deprecated. If you meant to do this, you must specify 'dtype=object' when creating the ndarray.\n",
      "  self.lonlist = np.array(lonlist)\n",
      "/hysplit-users/alicec/utilhysplit/utilvolc/ash_inverse.py:1106: VisibleDeprecationWarning: Creating an ndarray from ragged nested sequences (which is a list-or-tuple of lists-or-tuples-or ndarrays with different lengths or shapes) is deprecated. If you meant to do this, you must specify 'dtype=object' when creating the ndarray.\n",
      "  self.latlist = np.array(latlist)\n",
      "/hysplit-users/alicec/utilhysplit/utilvolc/ash_inverse.py:1107: VisibleDeprecationWarning: Creating an ndarray from ragged nested sequences (which is a list-or-tuple of lists-or-tuples-or ndarrays with different lengths or shapes) is deprecated. If you meant to do this, you must specify 'dtype=object' when creating the ndarray.\n",
      "  self.lonlist = np.array(lonlist)\n"
     ]
    },
    {
     "name": "stdout",
     "output_type": "stream",
     "text": [
      "<class 'numpy.datetime64'> 2020-10-21T19:00:00.000000000\n",
      "440154\n",
      "<class 'numpy.datetime64'> 2020-10-21T19:00:00.000000000\n",
      "30678D\n",
      "<class 'numpy.datetime64'> 2020-10-21T19:00:00.000000000\n",
      "35B778\n",
      "length 1\n",
      "self subdir is /hysplit-users/alicec/projects/bezy/RunP/RunP_2_3_4_5_TFw5\n",
      "saving emissions in  /hysplit-users/alicec/projects/bezy/RunP/RunP_2_3_4_5_TFw5/RunP_2_3_4_5_TFw5.csv\n",
      "saving  emissions to  /hysplit-users/alicec/projects/bezy/RunP/RunP_2_3_4_5_TFw5/RunP_2_3_4_5_TFw5.csv\n",
      "HERE HERE HERE\n",
      "2020-10-21T21:00:00.000000000\n",
      "2020-10-21T22:00:00.000000000\n",
      "2020-10-21T23:00:00.000000000\n",
      "2020-10-22T00:00:00.000000000\n",
      "2020-10-22T01:00:00.000000000\n",
      "HERE /hysplit-users/alicec/projects/bezy/RunP/RunP_2_3_4_5_6_TFw5\n",
      "P\n"
     ]
    },
    {
     "name": "stderr",
     "output_type": "stream",
     "text": [
      "/hysplit-users/alicec/utilhysplit/utilvolc/ash_inverse.py:768: MatplotlibDeprecationWarning: Adding an axes using the same arguments as a previous axes currently reuses the earlier instance.  In a future version, a new instance will always be created and returned.  Meanwhile, this warning can be suppressed, and the future behavior ensured, by passing a unique label to each axes instance.\n",
      "  ax = fig.add_subplot(1,1,1)\n",
      "/hysplit-users/alicec/utilhysplit/utilvolc/ash_inverse.py:2276: MatplotlibDeprecationWarning: Adding an axes using the same arguments as a previous axes currently reuses the earlier instance.  In a future version, a new instance will always be created and returned.  Meanwhile, this warning can be suppressed, and the future behavior ensured, by passing a unique label to each axes instance.\n",
      "  ax = fig.add_subplot(1,1,1)\n",
      "/hysplit-users/alicec/utilhysplit/utilvolc/ash_inverse.py:1091: VisibleDeprecationWarning: Creating an ndarray from ragged nested sequences (which is a list-or-tuple of lists-or-tuples-or ndarrays with different lengths or shapes) is deprecated. If you meant to do this, you must specify 'dtype=object' when creating the ndarray.\n",
      "  self.latlist = np.array(latlist)\n",
      "/hysplit-users/alicec/utilhysplit/utilvolc/ash_inverse.py:1092: VisibleDeprecationWarning: Creating an ndarray from ragged nested sequences (which is a list-or-tuple of lists-or-tuples-or ndarrays with different lengths or shapes) is deprecated. If you meant to do this, you must specify 'dtype=object' when creating the ndarray.\n",
      "  self.lonlist = np.array(lonlist)\n",
      "/hysplit-users/alicec/utilhysplit/utilvolc/ash_inverse.py:1106: VisibleDeprecationWarning: Creating an ndarray from ragged nested sequences (which is a list-or-tuple of lists-or-tuples-or ndarrays with different lengths or shapes) is deprecated. If you meant to do this, you must specify 'dtype=object' when creating the ndarray.\n",
      "  self.latlist = np.array(latlist)\n",
      "/hysplit-users/alicec/utilhysplit/utilvolc/ash_inverse.py:1107: VisibleDeprecationWarning: Creating an ndarray from ragged nested sequences (which is a list-or-tuple of lists-or-tuples-or ndarrays with different lengths or shapes) is deprecated. If you meant to do this, you must specify 'dtype=object' when creating the ndarray.\n",
      "  self.lonlist = np.array(lonlist)\n"
     ]
    },
    {
     "name": "stdout",
     "output_type": "stream",
     "text": [
      "<class 'numpy.datetime64'> 2020-10-21T19:00:00.000000000\n",
      "440154\n",
      "<class 'numpy.datetime64'> 2020-10-21T19:00:00.000000000\n",
      "30678D\n",
      "<class 'numpy.datetime64'> 2020-10-21T19:00:00.000000000\n",
      "35B778\n",
      "length 1\n",
      "self subdir is /hysplit-users/alicec/projects/bezy/RunP/RunP_2_3_4_5_6_TFw5\n",
      "saving emissions in  /hysplit-users/alicec/projects/bezy/RunP/RunP_2_3_4_5_6_TFw5/RunP_2_3_4_5_6_TFw5.csv\n",
      "saving  emissions to  /hysplit-users/alicec/projects/bezy/RunP/RunP_2_3_4_5_6_TFw5/RunP_2_3_4_5_6_TFw5.csv\n",
      "HERE HERE HERE\n",
      "2020-10-21T21:00:00.000000000\n",
      "2020-10-21T22:00:00.000000000\n",
      "2020-10-21T23:00:00.000000000\n",
      "2020-10-22T00:00:00.000000000\n",
      "2020-10-22T01:00:00.000000000\n",
      "2020-10-22T02:00:00.000000000\n",
      "HERE /hysplit-users/alicec/projects/bezy/RunP/RunP_2_3_4_5_6_7_TFw5\n",
      "P\n"
     ]
    },
    {
     "name": "stderr",
     "output_type": "stream",
     "text": [
      "/hysplit-users/alicec/utilhysplit/utilvolc/ash_inverse.py:768: MatplotlibDeprecationWarning: Adding an axes using the same arguments as a previous axes currently reuses the earlier instance.  In a future version, a new instance will always be created and returned.  Meanwhile, this warning can be suppressed, and the future behavior ensured, by passing a unique label to each axes instance.\n",
      "  ax = fig.add_subplot(1,1,1)\n",
      "/hysplit-users/alicec/utilhysplit/utilvolc/ash_inverse.py:2276: MatplotlibDeprecationWarning: Adding an axes using the same arguments as a previous axes currently reuses the earlier instance.  In a future version, a new instance will always be created and returned.  Meanwhile, this warning can be suppressed, and the future behavior ensured, by passing a unique label to each axes instance.\n",
      "  ax = fig.add_subplot(1,1,1)\n",
      "/hysplit-users/alicec/utilhysplit/utilvolc/ash_inverse.py:1091: VisibleDeprecationWarning: Creating an ndarray from ragged nested sequences (which is a list-or-tuple of lists-or-tuples-or ndarrays with different lengths or shapes) is deprecated. If you meant to do this, you must specify 'dtype=object' when creating the ndarray.\n",
      "  self.latlist = np.array(latlist)\n",
      "/hysplit-users/alicec/utilhysplit/utilvolc/ash_inverse.py:1092: VisibleDeprecationWarning: Creating an ndarray from ragged nested sequences (which is a list-or-tuple of lists-or-tuples-or ndarrays with different lengths or shapes) is deprecated. If you meant to do this, you must specify 'dtype=object' when creating the ndarray.\n",
      "  self.lonlist = np.array(lonlist)\n",
      "/hysplit-users/alicec/utilhysplit/utilvolc/ash_inverse.py:1106: VisibleDeprecationWarning: Creating an ndarray from ragged nested sequences (which is a list-or-tuple of lists-or-tuples-or ndarrays with different lengths or shapes) is deprecated. If you meant to do this, you must specify 'dtype=object' when creating the ndarray.\n",
      "  self.latlist = np.array(latlist)\n",
      "/hysplit-users/alicec/utilhysplit/utilvolc/ash_inverse.py:1107: VisibleDeprecationWarning: Creating an ndarray from ragged nested sequences (which is a list-or-tuple of lists-or-tuples-or ndarrays with different lengths or shapes) is deprecated. If you meant to do this, you must specify 'dtype=object' when creating the ndarray.\n",
      "  self.lonlist = np.array(lonlist)\n"
     ]
    },
    {
     "name": "stdout",
     "output_type": "stream",
     "text": [
      "<class 'numpy.datetime64'> 2020-10-21T19:00:00.000000000\n",
      "440154\n",
      "<class 'numpy.datetime64'> 2020-10-21T19:00:00.000000000\n",
      "30678D\n",
      "<class 'numpy.datetime64'> 2020-10-21T19:00:00.000000000\n",
      "35B778\n",
      "length 1\n",
      "self subdir is /hysplit-users/alicec/projects/bezy/RunP/RunP_2_3_4_5_6_7_TFw5\n",
      "saving emissions in  /hysplit-users/alicec/projects/bezy/RunP/RunP_2_3_4_5_6_7_TFw5/RunP_2_3_4_5_6_7_TFw5.csv\n",
      "saving  emissions to  /hysplit-users/alicec/projects/bezy/RunP/RunP_2_3_4_5_6_7_TFw5/RunP_2_3_4_5_6_7_TFw5.csv\n",
      "HERE HERE HERE\n",
      "2020-10-21T21:00:00.000000000\n",
      "2020-10-21T22:00:00.000000000\n",
      "2020-10-21T23:00:00.000000000\n",
      "2020-10-22T00:00:00.000000000\n",
      "2020-10-22T01:00:00.000000000\n",
      "2020-10-22T02:00:00.000000000\n",
      "2020-10-22T03:00:00.000000000\n",
      "HERE /hysplit-users/alicec/projects/bezy/RunP/RunP_2_3_4_5_6_7_8_TFw5\n",
      "P\n"
     ]
    },
    {
     "name": "stderr",
     "output_type": "stream",
     "text": [
      "/hysplit-users/alicec/utilhysplit/utilvolc/ash_inverse.py:768: MatplotlibDeprecationWarning: Adding an axes using the same arguments as a previous axes currently reuses the earlier instance.  In a future version, a new instance will always be created and returned.  Meanwhile, this warning can be suppressed, and the future behavior ensured, by passing a unique label to each axes instance.\n",
      "  ax = fig.add_subplot(1,1,1)\n",
      "/hysplit-users/alicec/utilhysplit/utilvolc/ash_inverse.py:2276: MatplotlibDeprecationWarning: Adding an axes using the same arguments as a previous axes currently reuses the earlier instance.  In a future version, a new instance will always be created and returned.  Meanwhile, this warning can be suppressed, and the future behavior ensured, by passing a unique label to each axes instance.\n",
      "  ax = fig.add_subplot(1,1,1)\n",
      "/hysplit-users/alicec/utilhysplit/utilvolc/ash_inverse.py:1091: VisibleDeprecationWarning: Creating an ndarray from ragged nested sequences (which is a list-or-tuple of lists-or-tuples-or ndarrays with different lengths or shapes) is deprecated. If you meant to do this, you must specify 'dtype=object' when creating the ndarray.\n",
      "  self.latlist = np.array(latlist)\n",
      "/hysplit-users/alicec/utilhysplit/utilvolc/ash_inverse.py:1092: VisibleDeprecationWarning: Creating an ndarray from ragged nested sequences (which is a list-or-tuple of lists-or-tuples-or ndarrays with different lengths or shapes) is deprecated. If you meant to do this, you must specify 'dtype=object' when creating the ndarray.\n",
      "  self.lonlist = np.array(lonlist)\n",
      "/hysplit-users/alicec/utilhysplit/utilvolc/ash_inverse.py:1106: VisibleDeprecationWarning: Creating an ndarray from ragged nested sequences (which is a list-or-tuple of lists-or-tuples-or ndarrays with different lengths or shapes) is deprecated. If you meant to do this, you must specify 'dtype=object' when creating the ndarray.\n",
      "  self.latlist = np.array(latlist)\n",
      "/hysplit-users/alicec/utilhysplit/utilvolc/ash_inverse.py:1107: VisibleDeprecationWarning: Creating an ndarray from ragged nested sequences (which is a list-or-tuple of lists-or-tuples-or ndarrays with different lengths or shapes) is deprecated. If you meant to do this, you must specify 'dtype=object' when creating the ndarray.\n",
      "  self.lonlist = np.array(lonlist)\n"
     ]
    },
    {
     "name": "stdout",
     "output_type": "stream",
     "text": [
      "<class 'numpy.datetime64'> 2020-10-21T19:00:00.000000000\n",
      "440154\n",
      "<class 'numpy.datetime64'> 2020-10-21T19:00:00.000000000\n",
      "30678D\n",
      "<class 'numpy.datetime64'> 2020-10-21T19:00:00.000000000\n",
      "35B778\n",
      "length 1\n",
      "self subdir is /hysplit-users/alicec/projects/bezy/RunP/RunP_2_3_4_5_6_7_8_TFw5\n",
      "saving emissions in  /hysplit-users/alicec/projects/bezy/RunP/RunP_2_3_4_5_6_7_8_TFw5/RunP_2_3_4_5_6_7_8_TFw5.csv\n",
      "saving  emissions to  /hysplit-users/alicec/projects/bezy/RunP/RunP_2_3_4_5_6_7_8_TFw5/RunP_2_3_4_5_6_7_8_TFw5.csv\n",
      "HERE HERE HERE\n",
      "2020-10-21T21:00:00.000000000\n",
      "2020-10-21T22:00:00.000000000\n",
      "2020-10-21T23:00:00.000000000\n",
      "2020-10-22T00:00:00.000000000\n",
      "2020-10-22T01:00:00.000000000\n",
      "2020-10-22T02:00:00.000000000\n",
      "2020-10-22T03:00:00.000000000\n",
      "2020-10-22T04:00:00.000000000\n",
      "HERE /hysplit-users/alicec/projects/bezy/RunP/RunP_2_3_4_5_6_7_8_9_TFw5\n",
      "P\n"
     ]
    },
    {
     "name": "stderr",
     "output_type": "stream",
     "text": [
      "/hysplit-users/alicec/utilhysplit/utilvolc/ash_inverse.py:768: MatplotlibDeprecationWarning: Adding an axes using the same arguments as a previous axes currently reuses the earlier instance.  In a future version, a new instance will always be created and returned.  Meanwhile, this warning can be suppressed, and the future behavior ensured, by passing a unique label to each axes instance.\n",
      "  ax = fig.add_subplot(1,1,1)\n",
      "/hysplit-users/alicec/utilhysplit/utilvolc/ash_inverse.py:2276: MatplotlibDeprecationWarning: Adding an axes using the same arguments as a previous axes currently reuses the earlier instance.  In a future version, a new instance will always be created and returned.  Meanwhile, this warning can be suppressed, and the future behavior ensured, by passing a unique label to each axes instance.\n",
      "  ax = fig.add_subplot(1,1,1)\n",
      "/hysplit-users/alicec/utilhysplit/utilvolc/ash_inverse.py:1091: VisibleDeprecationWarning: Creating an ndarray from ragged nested sequences (which is a list-or-tuple of lists-or-tuples-or ndarrays with different lengths or shapes) is deprecated. If you meant to do this, you must specify 'dtype=object' when creating the ndarray.\n",
      "  self.latlist = np.array(latlist)\n",
      "/hysplit-users/alicec/utilhysplit/utilvolc/ash_inverse.py:1092: VisibleDeprecationWarning: Creating an ndarray from ragged nested sequences (which is a list-or-tuple of lists-or-tuples-or ndarrays with different lengths or shapes) is deprecated. If you meant to do this, you must specify 'dtype=object' when creating the ndarray.\n",
      "  self.lonlist = np.array(lonlist)\n"
     ]
    },
    {
     "name": "stdout",
     "output_type": "stream",
     "text": [
      "<class 'numpy.datetime64'> 2020-10-21T19:00:00.000000000\n",
      "440154\n",
      "<class 'numpy.datetime64'> 2020-10-21T19:00:00.000000000\n",
      "30678D\n",
      "<class 'numpy.datetime64'> 2020-10-21T19:00:00.000000000\n",
      "35B778\n",
      "length 1\n",
      "self subdir is /hysplit-users/alicec/projects/bezy/RunP/RunP_2_3_4_5_6_7_8_9_TFw5\n",
      "saving emissions in  /hysplit-users/alicec/projects/bezy/RunP/RunP_2_3_4_5_6_7_8_9_TFw5/RunP_2_3_4_5_6_7_8_9_TFw5.csv\n",
      "saving  emissions to  /hysplit-users/alicec/projects/bezy/RunP/RunP_2_3_4_5_6_7_8_9_TFw5/RunP_2_3_4_5_6_7_8_9_TFw5.csv\n",
      "HERE HERE HERE\n",
      "2020-10-21T21:00:00.000000000\n",
      "2020-10-21T22:00:00.000000000\n",
      "2020-10-21T23:00:00.000000000\n",
      "2020-10-22T00:00:00.000000000\n",
      "2020-10-22T01:00:00.000000000\n",
      "2020-10-22T02:00:00.000000000\n",
      "2020-10-22T03:00:00.000000000\n",
      "2020-10-22T04:00:00.000000000\n",
      "2020-10-22T05:00:00.000000000\n",
      "HERE /hysplit-users/alicec/projects/bezy/RunP/RunP_2_3_4_5_6_7_8_9_10_TFw5\n"
     ]
    },
    {
     "name": "stderr",
     "output_type": "stream",
     "text": [
      "/hysplit-users/alicec/utilhysplit/utilvolc/ash_inverse.py:1106: VisibleDeprecationWarning: Creating an ndarray from ragged nested sequences (which is a list-or-tuple of lists-or-tuples-or ndarrays with different lengths or shapes) is deprecated. If you meant to do this, you must specify 'dtype=object' when creating the ndarray.\n",
      "  self.latlist = np.array(latlist)\n",
      "/hysplit-users/alicec/utilhysplit/utilvolc/ash_inverse.py:1107: VisibleDeprecationWarning: Creating an ndarray from ragged nested sequences (which is a list-or-tuple of lists-or-tuples-or ndarrays with different lengths or shapes) is deprecated. If you meant to do this, you must specify 'dtype=object' when creating the ndarray.\n",
      "  self.lonlist = np.array(lonlist)\n"
     ]
    },
    {
     "name": "stdout",
     "output_type": "stream",
     "text": [
      "P\n"
     ]
    },
    {
     "name": "stderr",
     "output_type": "stream",
     "text": [
      "/hysplit-users/alicec/utilhysplit/utilvolc/ash_inverse.py:768: MatplotlibDeprecationWarning: Adding an axes using the same arguments as a previous axes currently reuses the earlier instance.  In a future version, a new instance will always be created and returned.  Meanwhile, this warning can be suppressed, and the future behavior ensured, by passing a unique label to each axes instance.\n",
      "  ax = fig.add_subplot(1,1,1)\n",
      "/hysplit-users/alicec/utilhysplit/utilvolc/ash_inverse.py:2276: MatplotlibDeprecationWarning: Adding an axes using the same arguments as a previous axes currently reuses the earlier instance.  In a future version, a new instance will always be created and returned.  Meanwhile, this warning can be suppressed, and the future behavior ensured, by passing a unique label to each axes instance.\n",
      "  ax = fig.add_subplot(1,1,1)\n",
      "/hysplit-users/alicec/utilhysplit/utilvolc/ash_inverse.py:1091: VisibleDeprecationWarning: Creating an ndarray from ragged nested sequences (which is a list-or-tuple of lists-or-tuples-or ndarrays with different lengths or shapes) is deprecated. If you meant to do this, you must specify 'dtype=object' when creating the ndarray.\n",
      "  self.latlist = np.array(latlist)\n",
      "/hysplit-users/alicec/utilhysplit/utilvolc/ash_inverse.py:1092: VisibleDeprecationWarning: Creating an ndarray from ragged nested sequences (which is a list-or-tuple of lists-or-tuples-or ndarrays with different lengths or shapes) is deprecated. If you meant to do this, you must specify 'dtype=object' when creating the ndarray.\n",
      "  self.lonlist = np.array(lonlist)\n"
     ]
    },
    {
     "name": "stdout",
     "output_type": "stream",
     "text": [
      "<class 'numpy.datetime64'> 2020-10-21T19:00:00.000000000\n",
      "440154\n",
      "<class 'numpy.datetime64'> 2020-10-21T19:00:00.000000000\n",
      "30678D\n",
      "<class 'numpy.datetime64'> 2020-10-21T19:00:00.000000000\n",
      "35B778\n",
      "length 1\n",
      "self subdir is /hysplit-users/alicec/projects/bezy/RunP/RunP_2_3_4_5_6_7_8_9_10_TFw5\n",
      "saving emissions in  /hysplit-users/alicec/projects/bezy/RunP/RunP_2_3_4_5_6_7_8_9_10_TFw5/RunP_2_3_4_5_6_7_8_9_10_TFw5.csv\n",
      "saving  emissions to  /hysplit-users/alicec/projects/bezy/RunP/RunP_2_3_4_5_6_7_8_9_10_TFw5/RunP_2_3_4_5_6_7_8_9_10_TFw5.csv\n",
      "HERE HERE HERE\n",
      "2020-10-21T21:00:00.000000000\n",
      "2020-10-21T22:00:00.000000000\n",
      "2020-10-21T23:00:00.000000000\n",
      "2020-10-22T00:00:00.000000000\n",
      "2020-10-22T01:00:00.000000000\n",
      "2020-10-22T02:00:00.000000000\n",
      "2020-10-22T03:00:00.000000000\n",
      "2020-10-22T04:00:00.000000000\n",
      "2020-10-22T05:00:00.000000000\n",
      "2020-10-22T06:00:00.000000000\n"
     ]
    },
    {
     "name": "stderr",
     "output_type": "stream",
     "text": [
      "/hysplit-users/alicec/utilhysplit/utilvolc/ash_inverse.py:1106: VisibleDeprecationWarning: Creating an ndarray from ragged nested sequences (which is a list-or-tuple of lists-or-tuples-or ndarrays with different lengths or shapes) is deprecated. If you meant to do this, you must specify 'dtype=object' when creating the ndarray.\n",
      "  self.latlist = np.array(latlist)\n",
      "/hysplit-users/alicec/utilhysplit/utilvolc/ash_inverse.py:1107: VisibleDeprecationWarning: Creating an ndarray from ragged nested sequences (which is a list-or-tuple of lists-or-tuples-or ndarrays with different lengths or shapes) is deprecated. If you meant to do this, you must specify 'dtype=object' when creating the ndarray.\n",
      "  self.lonlist = np.array(lonlist)\n"
     ]
    },
    {
     "name": "stdout",
     "output_type": "stream",
     "text": [
      "HERE /hysplit-users/alicec/projects/bezy/RunP/RunP_2_3_4_5_6_7_8_9_10_11_TFw5\n",
      "P\n"
     ]
    },
    {
     "name": "stderr",
     "output_type": "stream",
     "text": [
      "ERROR:root:Internal Python error in the inspect module.\n",
      "Below is the traceback from this internal error.\n",
      "\n"
     ]
    },
    {
     "name": "stdout",
     "output_type": "stream",
     "text": [
      "Traceback (most recent call last):\n",
      "  File \"/hysplit-users/alicec/anaconda3/envs/paris/lib/python3.8/site-packages/IPython/core/interactiveshell.py\", line 3441, in run_code\n",
      "    exec(code_obj, self.user_global_ns, self.user_ns)\n",
      "  File \"<ipython-input-31-d8aebf45d114>\", line 10, in <module>\n",
      "    makerun(tii,remove_cols,remove_rows,remove_sources,remove_ncs)\n",
      "  File \"<ipython-input-29-e3b6aed82ed2>\", line 8, in makerun\n",
      "    inverse.run_tcm()\n",
      "  File \"/hysplit-users/alicec/utilhysplit/utilvolc/ash_inverse.py\", line 625, in run_tcm\n",
      "    Helper.execute(cmd)\n",
      "  File \"/hysplit-users/alicec/utilhysplit/utilvolc/runhelper.py\", line 58, in execute\n",
      "    stdoutdata, stderrdata = p.communicate()\n",
      "  File \"/hysplit-users/alicec/anaconda3/envs/paris/lib/python3.8/subprocess.py\", line 1016, in communicate\n",
      "    self.wait()\n",
      "  File \"/hysplit-users/alicec/anaconda3/envs/paris/lib/python3.8/subprocess.py\", line 1079, in wait\n",
      "    return self._wait(timeout=timeout)\n",
      "  File \"/hysplit-users/alicec/anaconda3/envs/paris/lib/python3.8/subprocess.py\", line 1804, in _wait\n",
      "    (pid, sts) = self._try_wait(0)\n",
      "  File \"/hysplit-users/alicec/anaconda3/envs/paris/lib/python3.8/subprocess.py\", line 1762, in _try_wait\n",
      "    (pid, sts) = os.waitpid(self.pid, wait_flags)\n",
      "KeyboardInterrupt\n",
      "\n",
      "During handling of the above exception, another exception occurred:\n",
      "\n",
      "Traceback (most recent call last):\n",
      "  File \"/hysplit-users/alicec/anaconda3/envs/paris/lib/python3.8/site-packages/IPython/core/interactiveshell.py\", line 2061, in showtraceback\n",
      "    stb = value._render_traceback_()\n",
      "AttributeError: 'KeyboardInterrupt' object has no attribute '_render_traceback_'\n",
      "\n",
      "During handling of the above exception, another exception occurred:\n",
      "\n",
      "Traceback (most recent call last):\n",
      "  File \"/hysplit-users/alicec/anaconda3/envs/paris/lib/python3.8/site-packages/IPython/core/ultratb.py\", line 1101, in get_records\n",
      "    return _fixed_getinnerframes(etb, number_of_lines_of_context, tb_offset)\n",
      "  File \"/hysplit-users/alicec/anaconda3/envs/paris/lib/python3.8/site-packages/IPython/core/ultratb.py\", line 248, in wrapped\n",
      "    return f(*args, **kwargs)\n",
      "  File \"/hysplit-users/alicec/anaconda3/envs/paris/lib/python3.8/site-packages/IPython/core/ultratb.py\", line 281, in _fixed_getinnerframes\n",
      "    records = fix_frame_records_filenames(inspect.getinnerframes(etb, context))\n",
      "  File \"/hysplit-users/alicec/anaconda3/envs/paris/lib/python3.8/inspect.py\", line 1503, in getinnerframes\n",
      "    frameinfo = (tb.tb_frame,) + getframeinfo(tb, context)\n",
      "  File \"/hysplit-users/alicec/anaconda3/envs/paris/lib/python3.8/inspect.py\", line 1461, in getframeinfo\n",
      "    filename = getsourcefile(frame) or getfile(frame)\n",
      "  File \"/hysplit-users/alicec/anaconda3/envs/paris/lib/python3.8/inspect.py\", line 708, in getsourcefile\n",
      "    if getattr(getmodule(object, filename), '__loader__', None) is not None:\n",
      "  File \"/hysplit-users/alicec/anaconda3/envs/paris/lib/python3.8/inspect.py\", line 745, in getmodule\n",
      "    if ismodule(module) and hasattr(module, '__file__'):\n",
      "KeyboardInterrupt\n"
     ]
    },
    {
     "ename": "TypeError",
     "evalue": "object of type 'NoneType' has no len()",
     "output_type": "error",
     "traceback": [
      "\u001b[0;31m---------------------------------------------------------------------------\u001b[0m",
      "\u001b[0;31mKeyboardInterrupt\u001b[0m                         Traceback (most recent call last)",
      "    \u001b[0;31m[... skipping hidden 1 frame]\u001b[0m\n",
      "\u001b[0;32m<ipython-input-31-d8aebf45d114>\u001b[0m in \u001b[0;36m<module>\u001b[0;34m\u001b[0m\n\u001b[1;32m      9\u001b[0m \u001b[0;32mfor\u001b[0m \u001b[0mtii\u001b[0m \u001b[0;32min\u001b[0m \u001b[0mtiilist\u001b[0m\u001b[0;34m:\u001b[0m\u001b[0;34m\u001b[0m\u001b[0;34m\u001b[0m\u001b[0m\n\u001b[0;32m---> 10\u001b[0;31m     \u001b[0mmakerun\u001b[0m\u001b[0;34m(\u001b[0m\u001b[0mtii\u001b[0m\u001b[0;34m,\u001b[0m\u001b[0mremove_cols\u001b[0m\u001b[0;34m,\u001b[0m\u001b[0mremove_rows\u001b[0m\u001b[0;34m,\u001b[0m\u001b[0mremove_sources\u001b[0m\u001b[0;34m,\u001b[0m\u001b[0mremove_ncs\u001b[0m\u001b[0;34m)\u001b[0m\u001b[0;34m\u001b[0m\u001b[0;34m\u001b[0m\u001b[0m\n\u001b[0m\u001b[1;32m     11\u001b[0m \u001b[0mremove_rows\u001b[0m\u001b[0;34m=\u001b[0m\u001b[0;32mTrue\u001b[0m\u001b[0;34m\u001b[0m\u001b[0;34m\u001b[0m\u001b[0m\n",
      "\u001b[0;32m<ipython-input-29-e3b6aed82ed2>\u001b[0m in \u001b[0;36mmakerun\u001b[0;34m(tii, remove_cols, remove_rows, remove_sources, remove_ncs)\u001b[0m\n\u001b[1;32m      7\u001b[0m     \u001b[0mtcmstr\u001b[0m \u001b[0;34m=\u001b[0m \u001b[0minverse\u001b[0m\u001b[0;34m.\u001b[0m\u001b[0mwrite_tcm\u001b[0m\u001b[0;34m(\u001b[0m\u001b[0mos\u001b[0m\u001b[0;34m.\u001b[0m\u001b[0mpath\u001b[0m\u001b[0;34m.\u001b[0m\u001b[0mjoin\u001b[0m\u001b[0;34m(\u001b[0m\u001b[0minverse\u001b[0m\u001b[0;34m.\u001b[0m\u001b[0msubdir\u001b[0m\u001b[0;34m,\u001b[0m \u001b[0mtcm_name_base\u001b[0m\u001b[0;34m.\u001b[0m\u001b[0mreplace\u001b[0m\u001b[0;34m(\u001b[0m\u001b[0;34m'zzz'\u001b[0m\u001b[0;34m,\u001b[0m\u001b[0;34m'4'\u001b[0m\u001b[0;34m)\u001b[0m\u001b[0;34m)\u001b[0m\u001b[0;34m)\u001b[0m\u001b[0;34m\u001b[0m\u001b[0;34m\u001b[0m\u001b[0m\n\u001b[0;32m----> 8\u001b[0;31m     \u001b[0minverse\u001b[0m\u001b[0;34m.\u001b[0m\u001b[0mrun_tcm\u001b[0m\u001b[0;34m(\u001b[0m\u001b[0;34m)\u001b[0m\u001b[0;34m\u001b[0m\u001b[0;34m\u001b[0m\u001b[0m\n\u001b[0m\u001b[1;32m      9\u001b[0m \u001b[0;34m\u001b[0m\u001b[0m\n",
      "\u001b[0;32m~/utilhysplit/utilvolc/ash_inverse.py\u001b[0m in \u001b[0;36mrun_tcm\u001b[0;34m(self)\u001b[0m\n\u001b[1;32m    624\u001b[0m             \u001b[0mHelper\u001b[0m\u001b[0;34m.\u001b[0m\u001b[0mcopy\u001b[0m\u001b[0;34m(\u001b[0m\u001b[0mtcm\u001b[0m\u001b[0;34m,\u001b[0m\u001b[0minp_name\u001b[0m\u001b[0;34m)\u001b[0m\u001b[0;34m\u001b[0m\u001b[0;34m\u001b[0m\u001b[0m\n\u001b[0;32m--> 625\u001b[0;31m             \u001b[0mHelper\u001b[0m\u001b[0;34m.\u001b[0m\u001b[0mexecute\u001b[0m\u001b[0;34m(\u001b[0m\u001b[0mcmd\u001b[0m\u001b[0;34m)\u001b[0m\u001b[0;34m\u001b[0m\u001b[0;34m\u001b[0m\u001b[0m\n\u001b[0m\u001b[1;32m    626\u001b[0m             \u001b[0;31m# move output files to new names\u001b[0m\u001b[0;34m\u001b[0m\u001b[0;34m\u001b[0m\u001b[0;34m\u001b[0m\u001b[0m\n",
      "\u001b[0;32m~/utilhysplit/utilvolc/runhelper.py\u001b[0m in \u001b[0;36mexecute\u001b[0;34m(cmd, **kwargs)\u001b[0m\n\u001b[1;32m     57\u001b[0m         \u001b[0mp\u001b[0m \u001b[0;34m=\u001b[0m \u001b[0msubprocess\u001b[0m\u001b[0;34m.\u001b[0m\u001b[0mPopen\u001b[0m\u001b[0;34m(\u001b[0m\u001b[0mcmd\u001b[0m\u001b[0;34m)\u001b[0m\u001b[0;34m\u001b[0m\u001b[0;34m\u001b[0m\u001b[0m\n\u001b[0;32m---> 58\u001b[0;31m         \u001b[0mstdoutdata\u001b[0m\u001b[0;34m,\u001b[0m \u001b[0mstderrdata\u001b[0m \u001b[0;34m=\u001b[0m \u001b[0mp\u001b[0m\u001b[0;34m.\u001b[0m\u001b[0mcommunicate\u001b[0m\u001b[0;34m(\u001b[0m\u001b[0;34m)\u001b[0m\u001b[0;34m\u001b[0m\u001b[0;34m\u001b[0m\u001b[0m\n\u001b[0m\u001b[1;32m     59\u001b[0m         \u001b[0;32mif\u001b[0m \u001b[0mstdoutdata\u001b[0m \u001b[0;32mis\u001b[0m \u001b[0;32mnot\u001b[0m \u001b[0;32mNone\u001b[0m\u001b[0;34m:\u001b[0m\u001b[0;34m\u001b[0m\u001b[0;34m\u001b[0m\u001b[0m\n",
      "\u001b[0;32m~/anaconda3/envs/paris/lib/python3.8/subprocess.py\u001b[0m in \u001b[0;36mcommunicate\u001b[0;34m(self, input, timeout)\u001b[0m\n\u001b[1;32m   1015\u001b[0m                 \u001b[0mself\u001b[0m\u001b[0;34m.\u001b[0m\u001b[0mstderr\u001b[0m\u001b[0;34m.\u001b[0m\u001b[0mclose\u001b[0m\u001b[0;34m(\u001b[0m\u001b[0;34m)\u001b[0m\u001b[0;34m\u001b[0m\u001b[0;34m\u001b[0m\u001b[0m\n\u001b[0;32m-> 1016\u001b[0;31m             \u001b[0mself\u001b[0m\u001b[0;34m.\u001b[0m\u001b[0mwait\u001b[0m\u001b[0;34m(\u001b[0m\u001b[0;34m)\u001b[0m\u001b[0;34m\u001b[0m\u001b[0;34m\u001b[0m\u001b[0m\n\u001b[0m\u001b[1;32m   1017\u001b[0m         \u001b[0;32melse\u001b[0m\u001b[0;34m:\u001b[0m\u001b[0;34m\u001b[0m\u001b[0;34m\u001b[0m\u001b[0m\n",
      "\u001b[0;32m~/anaconda3/envs/paris/lib/python3.8/subprocess.py\u001b[0m in \u001b[0;36mwait\u001b[0;34m(self, timeout)\u001b[0m\n\u001b[1;32m   1078\u001b[0m         \u001b[0;32mtry\u001b[0m\u001b[0;34m:\u001b[0m\u001b[0;34m\u001b[0m\u001b[0;34m\u001b[0m\u001b[0m\n\u001b[0;32m-> 1079\u001b[0;31m             \u001b[0;32mreturn\u001b[0m \u001b[0mself\u001b[0m\u001b[0;34m.\u001b[0m\u001b[0m_wait\u001b[0m\u001b[0;34m(\u001b[0m\u001b[0mtimeout\u001b[0m\u001b[0;34m=\u001b[0m\u001b[0mtimeout\u001b[0m\u001b[0;34m)\u001b[0m\u001b[0;34m\u001b[0m\u001b[0;34m\u001b[0m\u001b[0m\n\u001b[0m\u001b[1;32m   1080\u001b[0m         \u001b[0;32mexcept\u001b[0m \u001b[0mKeyboardInterrupt\u001b[0m\u001b[0;34m:\u001b[0m\u001b[0;34m\u001b[0m\u001b[0;34m\u001b[0m\u001b[0m\n",
      "\u001b[0;32m~/anaconda3/envs/paris/lib/python3.8/subprocess.py\u001b[0m in \u001b[0;36m_wait\u001b[0;34m(self, timeout)\u001b[0m\n\u001b[1;32m   1803\u001b[0m                             \u001b[0;32mbreak\u001b[0m  \u001b[0;31m# Another thread waited.\u001b[0m\u001b[0;34m\u001b[0m\u001b[0;34m\u001b[0m\u001b[0m\n\u001b[0;32m-> 1804\u001b[0;31m                         \u001b[0;34m(\u001b[0m\u001b[0mpid\u001b[0m\u001b[0;34m,\u001b[0m \u001b[0msts\u001b[0m\u001b[0;34m)\u001b[0m \u001b[0;34m=\u001b[0m \u001b[0mself\u001b[0m\u001b[0;34m.\u001b[0m\u001b[0m_try_wait\u001b[0m\u001b[0;34m(\u001b[0m\u001b[0;36m0\u001b[0m\u001b[0;34m)\u001b[0m\u001b[0;34m\u001b[0m\u001b[0;34m\u001b[0m\u001b[0m\n\u001b[0m\u001b[1;32m   1805\u001b[0m                         \u001b[0;31m# Check the pid and loop as waitpid has been known to\u001b[0m\u001b[0;34m\u001b[0m\u001b[0;34m\u001b[0m\u001b[0;34m\u001b[0m\u001b[0m\n",
      "\u001b[0;32m~/anaconda3/envs/paris/lib/python3.8/subprocess.py\u001b[0m in \u001b[0;36m_try_wait\u001b[0;34m(self, wait_flags)\u001b[0m\n\u001b[1;32m   1761\u001b[0m             \u001b[0;32mtry\u001b[0m\u001b[0;34m:\u001b[0m\u001b[0;34m\u001b[0m\u001b[0;34m\u001b[0m\u001b[0m\n\u001b[0;32m-> 1762\u001b[0;31m                 \u001b[0;34m(\u001b[0m\u001b[0mpid\u001b[0m\u001b[0;34m,\u001b[0m \u001b[0msts\u001b[0m\u001b[0;34m)\u001b[0m \u001b[0;34m=\u001b[0m \u001b[0mos\u001b[0m\u001b[0;34m.\u001b[0m\u001b[0mwaitpid\u001b[0m\u001b[0;34m(\u001b[0m\u001b[0mself\u001b[0m\u001b[0;34m.\u001b[0m\u001b[0mpid\u001b[0m\u001b[0;34m,\u001b[0m \u001b[0mwait_flags\u001b[0m\u001b[0;34m)\u001b[0m\u001b[0;34m\u001b[0m\u001b[0;34m\u001b[0m\u001b[0m\n\u001b[0m\u001b[1;32m   1763\u001b[0m             \u001b[0;32mexcept\u001b[0m \u001b[0mChildProcessError\u001b[0m\u001b[0;34m:\u001b[0m\u001b[0;34m\u001b[0m\u001b[0;34m\u001b[0m\u001b[0m\n",
      "\u001b[0;31mKeyboardInterrupt\u001b[0m: ",
      "\nDuring handling of the above exception, another exception occurred:\n",
      "\u001b[0;31mAttributeError\u001b[0m                            Traceback (most recent call last)",
      "\u001b[0;32m~/anaconda3/envs/paris/lib/python3.8/site-packages/IPython/core/interactiveshell.py\u001b[0m in \u001b[0;36mshowtraceback\u001b[0;34m(self, exc_tuple, filename, tb_offset, exception_only, running_compiled_code)\u001b[0m\n\u001b[1;32m   2060\u001b[0m                         \u001b[0;31m# in the engines. This should return a list of strings.\u001b[0m\u001b[0;34m\u001b[0m\u001b[0;34m\u001b[0m\u001b[0;34m\u001b[0m\u001b[0m\n\u001b[0;32m-> 2061\u001b[0;31m                         \u001b[0mstb\u001b[0m \u001b[0;34m=\u001b[0m \u001b[0mvalue\u001b[0m\u001b[0;34m.\u001b[0m\u001b[0m_render_traceback_\u001b[0m\u001b[0;34m(\u001b[0m\u001b[0;34m)\u001b[0m\u001b[0;34m\u001b[0m\u001b[0;34m\u001b[0m\u001b[0m\n\u001b[0m\u001b[1;32m   2062\u001b[0m                     \u001b[0;32mexcept\u001b[0m \u001b[0mException\u001b[0m\u001b[0;34m:\u001b[0m\u001b[0;34m\u001b[0m\u001b[0;34m\u001b[0m\u001b[0m\n",
      "\u001b[0;31mAttributeError\u001b[0m: 'KeyboardInterrupt' object has no attribute '_render_traceback_'",
      "\nDuring handling of the above exception, another exception occurred:\n",
      "\u001b[0;31mTypeError\u001b[0m                                 Traceback (most recent call last)",
      "    \u001b[0;31m[... skipping hidden 1 frame]\u001b[0m\n",
      "\u001b[0;32m~/anaconda3/envs/paris/lib/python3.8/site-packages/IPython/core/interactiveshell.py\u001b[0m in \u001b[0;36mshowtraceback\u001b[0;34m(self, exc_tuple, filename, tb_offset, exception_only, running_compiled_code)\u001b[0m\n\u001b[1;32m   2061\u001b[0m                         \u001b[0mstb\u001b[0m \u001b[0;34m=\u001b[0m \u001b[0mvalue\u001b[0m\u001b[0;34m.\u001b[0m\u001b[0m_render_traceback_\u001b[0m\u001b[0;34m(\u001b[0m\u001b[0;34m)\u001b[0m\u001b[0;34m\u001b[0m\u001b[0;34m\u001b[0m\u001b[0m\n\u001b[1;32m   2062\u001b[0m                     \u001b[0;32mexcept\u001b[0m \u001b[0mException\u001b[0m\u001b[0;34m:\u001b[0m\u001b[0;34m\u001b[0m\u001b[0;34m\u001b[0m\u001b[0m\n\u001b[0;32m-> 2063\u001b[0;31m                         stb = self.InteractiveTB.structured_traceback(etype,\n\u001b[0m\u001b[1;32m   2064\u001b[0m                                             value, tb, tb_offset=tb_offset)\n\u001b[1;32m   2065\u001b[0m \u001b[0;34m\u001b[0m\u001b[0m\n",
      "\u001b[0;32m~/anaconda3/envs/paris/lib/python3.8/site-packages/IPython/core/ultratb.py\u001b[0m in \u001b[0;36mstructured_traceback\u001b[0;34m(self, etype, value, tb, tb_offset, number_of_lines_of_context)\u001b[0m\n\u001b[1;32m   1365\u001b[0m         \u001b[0;32melse\u001b[0m\u001b[0;34m:\u001b[0m\u001b[0;34m\u001b[0m\u001b[0;34m\u001b[0m\u001b[0m\n\u001b[1;32m   1366\u001b[0m             \u001b[0mself\u001b[0m\u001b[0;34m.\u001b[0m\u001b[0mtb\u001b[0m \u001b[0;34m=\u001b[0m \u001b[0mtb\u001b[0m\u001b[0;34m\u001b[0m\u001b[0;34m\u001b[0m\u001b[0m\n\u001b[0;32m-> 1367\u001b[0;31m         return FormattedTB.structured_traceback(\n\u001b[0m\u001b[1;32m   1368\u001b[0m             self, etype, value, tb, tb_offset, number_of_lines_of_context)\n\u001b[1;32m   1369\u001b[0m \u001b[0;34m\u001b[0m\u001b[0m\n",
      "\u001b[0;32m~/anaconda3/envs/paris/lib/python3.8/site-packages/IPython/core/ultratb.py\u001b[0m in \u001b[0;36mstructured_traceback\u001b[0;34m(self, etype, value, tb, tb_offset, number_of_lines_of_context)\u001b[0m\n\u001b[1;32m   1265\u001b[0m         \u001b[0;32mif\u001b[0m \u001b[0mmode\u001b[0m \u001b[0;32min\u001b[0m \u001b[0mself\u001b[0m\u001b[0;34m.\u001b[0m\u001b[0mverbose_modes\u001b[0m\u001b[0;34m:\u001b[0m\u001b[0;34m\u001b[0m\u001b[0;34m\u001b[0m\u001b[0m\n\u001b[1;32m   1266\u001b[0m             \u001b[0;31m# Verbose modes need a full traceback\u001b[0m\u001b[0;34m\u001b[0m\u001b[0;34m\u001b[0m\u001b[0;34m\u001b[0m\u001b[0m\n\u001b[0;32m-> 1267\u001b[0;31m             return VerboseTB.structured_traceback(\n\u001b[0m\u001b[1;32m   1268\u001b[0m                 \u001b[0mself\u001b[0m\u001b[0;34m,\u001b[0m \u001b[0metype\u001b[0m\u001b[0;34m,\u001b[0m \u001b[0mvalue\u001b[0m\u001b[0;34m,\u001b[0m \u001b[0mtb\u001b[0m\u001b[0;34m,\u001b[0m \u001b[0mtb_offset\u001b[0m\u001b[0;34m,\u001b[0m \u001b[0mnumber_of_lines_of_context\u001b[0m\u001b[0;34m\u001b[0m\u001b[0;34m\u001b[0m\u001b[0m\n\u001b[1;32m   1269\u001b[0m             )\n",
      "\u001b[0;32m~/anaconda3/envs/paris/lib/python3.8/site-packages/IPython/core/ultratb.py\u001b[0m in \u001b[0;36mstructured_traceback\u001b[0;34m(self, etype, evalue, etb, tb_offset, number_of_lines_of_context)\u001b[0m\n\u001b[1;32m   1122\u001b[0m         \u001b[0;34m\"\"\"Return a nice text document describing the traceback.\"\"\"\u001b[0m\u001b[0;34m\u001b[0m\u001b[0;34m\u001b[0m\u001b[0m\n\u001b[1;32m   1123\u001b[0m \u001b[0;34m\u001b[0m\u001b[0m\n\u001b[0;32m-> 1124\u001b[0;31m         formatted_exception = self.format_exception_as_a_whole(etype, evalue, etb, number_of_lines_of_context,\n\u001b[0m\u001b[1;32m   1125\u001b[0m                                                                tb_offset)\n\u001b[1;32m   1126\u001b[0m \u001b[0;34m\u001b[0m\u001b[0m\n",
      "\u001b[0;32m~/anaconda3/envs/paris/lib/python3.8/site-packages/IPython/core/ultratb.py\u001b[0m in \u001b[0;36mformat_exception_as_a_whole\u001b[0;34m(self, etype, evalue, etb, number_of_lines_of_context, tb_offset)\u001b[0m\n\u001b[1;32m   1080\u001b[0m \u001b[0;34m\u001b[0m\u001b[0m\n\u001b[1;32m   1081\u001b[0m \u001b[0;34m\u001b[0m\u001b[0m\n\u001b[0;32m-> 1082\u001b[0;31m         \u001b[0mlast_unique\u001b[0m\u001b[0;34m,\u001b[0m \u001b[0mrecursion_repeat\u001b[0m \u001b[0;34m=\u001b[0m \u001b[0mfind_recursion\u001b[0m\u001b[0;34m(\u001b[0m\u001b[0morig_etype\u001b[0m\u001b[0;34m,\u001b[0m \u001b[0mevalue\u001b[0m\u001b[0;34m,\u001b[0m \u001b[0mrecords\u001b[0m\u001b[0;34m)\u001b[0m\u001b[0;34m\u001b[0m\u001b[0;34m\u001b[0m\u001b[0m\n\u001b[0m\u001b[1;32m   1083\u001b[0m \u001b[0;34m\u001b[0m\u001b[0m\n\u001b[1;32m   1084\u001b[0m         \u001b[0mframes\u001b[0m \u001b[0;34m=\u001b[0m \u001b[0mself\u001b[0m\u001b[0;34m.\u001b[0m\u001b[0mformat_records\u001b[0m\u001b[0;34m(\u001b[0m\u001b[0mrecords\u001b[0m\u001b[0;34m,\u001b[0m \u001b[0mlast_unique\u001b[0m\u001b[0;34m,\u001b[0m \u001b[0mrecursion_repeat\u001b[0m\u001b[0;34m)\u001b[0m\u001b[0;34m\u001b[0m\u001b[0;34m\u001b[0m\u001b[0m\n",
      "\u001b[0;32m~/anaconda3/envs/paris/lib/python3.8/site-packages/IPython/core/ultratb.py\u001b[0m in \u001b[0;36mfind_recursion\u001b[0;34m(etype, value, records)\u001b[0m\n\u001b[1;32m    380\u001b[0m     \u001b[0;31m# first frame (from in to out) that looks different.\u001b[0m\u001b[0;34m\u001b[0m\u001b[0;34m\u001b[0m\u001b[0;34m\u001b[0m\u001b[0m\n\u001b[1;32m    381\u001b[0m     \u001b[0;32mif\u001b[0m \u001b[0;32mnot\u001b[0m \u001b[0mis_recursion_error\u001b[0m\u001b[0;34m(\u001b[0m\u001b[0metype\u001b[0m\u001b[0;34m,\u001b[0m \u001b[0mvalue\u001b[0m\u001b[0;34m,\u001b[0m \u001b[0mrecords\u001b[0m\u001b[0;34m)\u001b[0m\u001b[0;34m:\u001b[0m\u001b[0;34m\u001b[0m\u001b[0;34m\u001b[0m\u001b[0m\n\u001b[0;32m--> 382\u001b[0;31m         \u001b[0;32mreturn\u001b[0m \u001b[0mlen\u001b[0m\u001b[0;34m(\u001b[0m\u001b[0mrecords\u001b[0m\u001b[0;34m)\u001b[0m\u001b[0;34m,\u001b[0m \u001b[0;36m0\u001b[0m\u001b[0;34m\u001b[0m\u001b[0;34m\u001b[0m\u001b[0m\n\u001b[0m\u001b[1;32m    383\u001b[0m \u001b[0;34m\u001b[0m\u001b[0m\n\u001b[1;32m    384\u001b[0m     \u001b[0;31m# Select filename, lineno, func_name to track frames with\u001b[0m\u001b[0;34m\u001b[0m\u001b[0;34m\u001b[0m\u001b[0;34m\u001b[0m\u001b[0m\n",
      "\u001b[0;31mTypeError\u001b[0m: object of type 'NoneType' has no len()"
     ]
    },
    {
     "data": {
      "image/png": "[encoded data removed]",
      "text/plain": [
       "<Figure size 432x288 with 1 Axes>"
      ]
     },
     "metadata": {},
     "output_type": "display_data"
    }
   ],
   "source": [
    "%autoreload\n",
    "tiilist = [[2,3],[2,3,4],[2,3,4,5],[2,3,4,5,6],[2,3,4,5,6,7],[2,3,4,5,6,7,8],[2,3,4,5,6,7,8,9],\n",
    "           [2,3,4,5,6,7,8,9,10],[2,3,4,5,6,7,8,9,10,11],\n",
    "           [4,5,6]]  #times to assimilate in inversion algorithm.\n",
    "remove_cols=True    # removes columns with no model values in them.\n",
    "remove_rows=False    # removes clear sky observations\n",
    "remove_sources = False\n",
    "remove_ncs=5\n",
    "for tii in tiilist:\n",
    "    makerun(tii,remove_cols,remove_rows,remove_sources,remove_ncs)\n",
    "remove_rows=True\n",
    "remove_ncs=0\n",
    "for tii in tiilist:\n",
    "    makerun(tii,remove_cols,remove_rows,remove_sources,remove_ncs)\n",
    "remove_rows=False\n",
    "remove_ncs=0\n",
    "for tii in tiilist:\n",
    "    makerun(tii,remove_cols,remove_rows,remove_sources,remove_ncs)\n",
    "    \n",
    "    \n",
    "tiilist = [[7,8],[9,10,11],[2,3,4,5,6,7,8,9,10,11]]  #times to assimilate in inversion algorithm.\n",
    "remove_cols=True    # removes columns with no model values in them.\n",
    "remove_rows=False    # removes clear sky observations\n",
    "remove_sources = False\n",
    "remove_ncs=7\n",
    "for tii in tiilist:\n",
    "    makerun(tii,remove_cols,remove_rows,remove_sources,remove_ncs)\n",
    "remove_rows=True\n",
    "remove_ncs=0\n",
    "for tii in tiilist:\n",
    "    makerun(tii,remove_cols,remove_rows,remove_sources,remove_ncs)\n",
    "remove_rows=False\n",
    "remove_ncs=0\n",
    "for tii in tiilist:\n",
    "    makerun(tii,remove_cols,remove_rows,remove_sources,remove_ncs)  \n",
    "    "
   ]
  },
  {
   "cell_type": "markdown",
   "metadata": {},
   "source": [
    "# Looking at individual inversions"
   ]
  },
  {
   "cell_type": "code",
   "execution_count": null,
   "metadata": {},
   "outputs": [],
   "source": [
    "%autoreload\n",
    "#tii = [2,3,4,5,6,7,8]  #times to assimilate in inversion algorithm.\n",
    "tii = [2,3,4,5,6,7,8]\n",
    "remove_cols=True    # removes columns with no model values in them.\n",
    "remove_rows=False    # removes clear sky observations\n",
    "remove_sources = False\n",
    "remove_ncs=5\n",
    "#remove_sources = ['12880']  # this would remove top vertical level from consideration.\n",
    "#inverse.make_tcm_mult([1,2,3,4],remove_cols=True,remove_rows=False,remove_sources=['12880'])\n",
    "inverse.make_tcm_mult(tii,remove_cols=remove_cols, remove_rows=remove_rows, remove_sources=remove_sources,remove_ncs=remove_ncs)\n",
    "runtag = ai.create_runtag(tag,tii,remove_cols, remove_rows, remove_sources,remove_ncs=remove_ncs)\n",
    "\n",
    "# set the subdirectory for this TCM run.\n",
    "#subdir = inverse.set_sub_directory(runtag)\n",
    "#print('setting subdirectory {}'.format(subdir))"
   ]
  },
  {
   "cell_type": "code",
   "execution_count": null,
   "metadata": {},
   "outputs": [],
   "source": [
    "print(runtag)"
   ]
  },
  {
   "cell_type": "code",
   "execution_count": null,
   "metadata": {},
   "outputs": [],
   "source": [
    "numpar = 20000  # number of particles released per hour.\n",
    "delt = 5 # time step\n",
    "tave = 1 # 1 h time average\n",
    "hres = 0.1 # 0.1 degree horizontal resolution.\n",
    "rate = 1 # 1 unit mass per hour\n",
    "particle_mass = rate / numpar  #how much unit mass each particle has\n",
    "area = (hres * 111e3)**2  # area in meters squared for mass loading grid.\n",
    "mass_one = particle_mass / area  # unit mass / m2 for one particle in grid box.\n",
    "mass_one_one = mass_one / (tave*60 / delt)  # smallest mass loading possible with one particle for one time step\n",
    "print(mass_one_one)  # one particle for one time step\n",
    "print(mass_one)      # one particle in area."
   ]
  },
  {
   "cell_type": "code",
   "execution_count": null,
   "metadata": {},
   "outputs": [],
   "source": [
    "%autoreload\n",
    "inverse.plot_tcm()\n",
    "inverse.invlist[0].tcm.shape\n"
   ]
  },
  {
   "cell_type": "code",
   "execution_count": null,
   "metadata": {},
   "outputs": [],
   "source": [
    "#hysplitdir = '/hysplit-users/alicec/FBamcArea/exec/'\n",
    "#inverse.set_directory(wdir,execdir,hysplitdir)\n",
    "inverse.set_subdirectory(runtag)\n",
    "#subdir='/hysplit-users/alicec/projects/bezy/RunP/' + runtag\n",
    "#subdir"
   ]
  },
  {
   "cell_type": "code",
   "execution_count": null,
   "metadata": {
    "scrolled": true
   },
   "outputs": [],
   "source": [
    "%autoreload\n",
    "tcmstr = inverse.write_tcm(os.path.join(inverse.subdir, tcm_name_base.replace('zzz','4')))\n",
    "#print(tcmstr)"
   ]
  },
  {
   "cell_type": "code",
   "execution_count": null,
   "metadata": {
    "scrolled": true
   },
   "outputs": [],
   "source": [
    "%autoreload\n",
    "#hysplitdir = '/hysplit-users/alicec/FBamcArea/exec/'\n",
    "#inverse.set_directory(wdir,execdir,hysplitdir)\n",
    "inverse.run_tcm()"
   ]
  },
  {
   "cell_type": "code",
   "execution_count": null,
   "metadata": {},
   "outputs": [],
   "source": [
    "# Now run the inverse model.\n",
    "\n",
    "# open the Parameters_in.dat file and set N_ctrl, Nx_ctrl and lbfgs_nbd to\n",
    "# the number shown for N_ctrl above.\n",
    "\n",
    "# copy the tcm file to TCM_sum.csv\n",
    "\n",
    "# run new_lbfgsb.x"
   ]
  },
  {
   "cell_type": "code",
   "execution_count": null,
   "metadata": {},
   "outputs": [],
   "source": [
    "%autoreload\n",
    "inverse.plot_outdat(eii=0)"
   ]
  },
  {
   "cell_type": "code",
   "execution_count": null,
   "metadata": {},
   "outputs": [],
   "source": [
    "%autoreload\n",
    "print(runtag)\n",
    "print(os.getcwd())\n",
    "eii=0\n",
    "unit='g/h'\n",
    "unit='kg/s'\n",
    "fig = plt.figure()\n",
    "ax = inverse.plot_outdat_ts(eii,unit=unit)\n",
    "handles,labels = ax.get_legend_handles_labels()\n",
    "ax.legend(handles,['6$\\mu$m','20$\\mu$m','50$\\mu$m'])\n",
    "fig.autofmt_xdate()\n",
    "plt.tight_layout()\n",
    "plt.savefig('EmissionsTime_' + runtag + '.png')\n",
    "plt.show()\n",
    "\n",
    "#fig = plt.figure(size=[10,5])\n",
    "inverse.plot_outdat_ts(eii,profile=True)\n",
    "plt.tight_layout()\n",
    "plt.savefig('EmissionsHeight_' + runtag + '.png')\n",
    "#inverse.save_emis(runtag+'.csv')\n",
    "#ax = plt.gca()\n",
    "#ax.set_ylim(0,10000)"
   ]
  },
  {
   "cell_type": "code",
   "execution_count": null,
   "metadata": {
    "scrolled": false
   },
   "outputs": [],
   "source": [
    "%autoreload\n",
    "unit='kg/s'\n",
    "#unit='g/h'\n",
    "iii=0\n",
    "print(inverse.taglist[iii])\n",
    "ilist =  inverse.read_outdat()\n",
    "df = ilist[iii].get_emis()\n",
    "vals = inverse.invlist[iii].make_outdat(df)\n",
    "inverse.invlist[iii].plot_outdat(vals,log=False,cmap='viridis',unit=unit)\n",
    "#plt.savefig('{}.emissions_log.png'.format(figbase))\n",
    "plt.show()\n",
    "inverse.invlist[0].plot_outdat(vals,log=True,cmap='viridis',unit=unit)\n",
    "#plt.savefig('{}.emissions.png'.format(figbase))\n"
   ]
  },
  {
   "cell_type": "code",
   "execution_count": null,
   "metadata": {},
   "outputs": [],
   "source": [
    "df = ilist[iii].get_emis()"
   ]
  },
  {
   "cell_type": "code",
   "execution_count": null,
   "metadata": {},
   "outputs": [],
   "source": [
    "dfdat = inverse.invlist[0].make_outdat_df(df,part='basic')\n",
    "dtest = dfdat.groupby(['date','ht']).sum()\n",
    "dtest.reset_index()\n",
    "#dfdat.pivot(columns='date',index='ht')"
   ]
  },
  {
   "cell_type": "markdown",
   "metadata": {},
   "source": [
    "# checking the directories"
   ]
  },
  {
   "cell_type": "code",
   "execution_count": null,
   "metadata": {},
   "outputs": [],
   "source": []
  },
  {
   "cell_type": "code",
   "execution_count": null,
   "metadata": {},
   "outputs": [],
   "source": [
    "%autoreload\n",
    "inverse.print_directories()"
   ]
  },
  {
   "cell_type": "markdown",
   "metadata": {},
   "source": [
    "# Working on making EMIT file"
   ]
  },
  {
   "cell_type": "code",
   "execution_count": null,
   "metadata": {},
   "outputs": [],
   "source": [
    "%autoreload\n",
    "inverse.add_phash()"
   ]
  },
  {
   "cell_type": "code",
   "execution_count": null,
   "metadata": {},
   "outputs": [],
   "source": [
    "inverse.phash.values()"
   ]
  },
  {
   "cell_type": "code",
   "execution_count": null,
   "metadata": {},
   "outputs": [],
   "source": [
    "%autoreload\n",
    "# creates emit-times, CONTROL and SETUP files for HYSPLIT runs.\n",
    "# Note that warning that meteorological files not found is ok.\n",
    "efile = inverse.make_efile(vloc=vloc)\n",
    "efile.write_new('test.txt')"
   ]
  },
  {
   "cell_type": "code",
   "execution_count": null,
   "metadata": {},
   "outputs": [],
   "source": [
    "%autoreload\n",
    "ecycle = efile.cycle_list[-1]\n",
    "ecycle.sort()\n",
    "print(ecycle.splist)\n",
    "erec = ecycle.recordra\n",
    "for iii in np.arange(0,len(erec)):\n",
    "    print(erec[iii].spnum, '---', erec[iii],type(erec[iii].spnum))\n",
    "#efile.write_new('temp.txt')"
   ]
  },
  {
   "cell_type": "code",
   "execution_count": null,
   "metadata": {},
   "outputs": [],
   "source": [
    "%autoreload\n",
    "efile.write_new('efile.test')"
   ]
  },
  {
   "cell_type": "code",
   "execution_count": null,
   "metadata": {},
   "outputs": [],
   "source": [
    "%autoreload\n",
    "inverse.run_hysplit()"
   ]
  }
 ],
 "metadata": {
  "kernelspec": {
   "display_name": "Python 3",
   "language": "python",
   "name": "python3"
  },
  "language_info": {
   "codemirror_mode": {
    "name": "ipython",
    "version": 3
   },
   "file_extension": ".py",
   "mimetype": "text/x-python",
   "name": "python",
   "nbconvert_exporter": "python",
   "pygments_lexer": "ipython3",
   "version": "3.8.6"
  }
 },
 "nbformat": 4,
 "nbformat_minor": 4
}
